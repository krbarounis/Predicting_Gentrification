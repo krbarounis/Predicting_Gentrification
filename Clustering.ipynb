{
 "cells": [
  {
   "cell_type": "markdown",
   "metadata": {},
   "source": [
    "This notebook uses a number of clustering algorithms to cluster the census tracts in Suffolk County, MA."
   ]
  },
  {
   "cell_type": "code",
   "execution_count": 13,
   "metadata": {},
   "outputs": [],
   "source": [
    "from sklearn.cluster import KMeans\n",
    "from sklearn import metrics\n",
    "from sklearn import datasets\n",
    "from sklearn.preprocessing import StandardScaler\n",
    "import matplotlib.pyplot as plt\n",
    "%matplotlib inline\n",
    "import pandas as pd\n",
    "import numpy as np\n",
    "plt.style.use('seaborn')\n",
    "cmap = 'tab10'"
   ]
  },
  {
   "cell_type": "markdown",
   "metadata": {},
   "source": [
    "## Non-heirarchical"
   ]
  },
  {
   "cell_type": "code",
   "execution_count": 65,
   "metadata": {},
   "outputs": [],
   "source": [
    "# use only sample count variables\n",
    "df = pd.read_csv('CSV_files/samplecount_final.csv',index_col=0)"
   ]
  },
  {
   "cell_type": "code",
   "execution_count": 66,
   "metadata": {},
   "outputs": [],
   "source": [
    "df.set_index('tractid',inplace=True)"
   ]
  },
  {
   "cell_type": "code",
   "execution_count": 67,
   "metadata": {},
   "outputs": [
    {
     "data": {
      "text/plain": [
       "Index(['ITANC00_POC', 'GEANC00_POC', 'IRANC00_POC', 'SCANC00_POC',\n",
       "       'RUFB00_POC', 'ITFB00_POC', 'GEFB00_POC', 'IRFB00_POC', 'SCFB00_POC',\n",
       "       'FB00_POC', 'NAT00_POC', 'N10IMM00_POC', 'AG5UP00_POC', 'OLANG00_POC',\n",
       "       'LEP00_POC', 'AG25UP00_POC', 'HS00_POC', 'COL00_POC', 'AG15UP00_POC',\n",
       "       'Mar-00_POC', 'WDS00_POC', 'CLF00_POC', 'UNEMP00_POC', 'DFLABF00_POC',\n",
       "       'FLABF00_POC', 'EMPCLF00_POC', 'PROF00_POC', 'MANUF00_POC',\n",
       "       'SEMP00_POC', 'AG18CV00_POC', 'VET00_POC', 'DPOV00_POC', 'NPOV00_POC',\n",
       "       'N65POV00_POC', 'DFMPOV00_POC', 'NFMPOV00_POC', 'DWPOV00_POC',\n",
       "       'NWPOV00_POC', 'DBPOV00_POC', 'NBPOV00_POC', 'DNAPOV00_POC',\n",
       "       'NNAPOV00_POC', 'DHPOV00_POC', 'NHPOV00_POC', 'DAPOV00_POC',\n",
       "       'NAPOV00_POC', 'INCPC00_POC', 'HU00SP_POC', 'H30OLD00_POC',\n",
       "       'OHU00SP_POC', 'H10YRS00_POC', 'DMULTI00_POC', 'MULTI00_POC',\n",
       "       'HINC00_POC', 'HINCW00_POC', 'HINCB00_POC', 'HINCH00_POC',\n",
       "       'HINCA00_POC', 'MHMVAL00_POC', 'MRENT00_POC', 'HH00_POC', 'HHW00_POC',\n",
       "       'HHB00_POC', 'HHH00_POC', 'HHA00_POC', 'RUANC00_POC'],\n",
       "      dtype='object')"
      ]
     },
     "execution_count": 67,
     "metadata": {},
     "output_type": "execute_result"
    }
   ],
   "source": [
    "df.columns[132:]"
   ]
  },
  {
   "cell_type": "code",
   "execution_count": 68,
   "metadata": {},
   "outputs": [],
   "source": [
    "# get rid of the data from 2010 \n",
    "df1 = df.iloc[:,0:66]"
   ]
  },
  {
   "cell_type": "code",
   "execution_count": 69,
   "metadata": {},
   "outputs": [
    {
     "data": {
      "text/html": [
       "<div>\n",
       "<style scoped>\n",
       "    .dataframe tbody tr th:only-of-type {\n",
       "        vertical-align: middle;\n",
       "    }\n",
       "\n",
       "    .dataframe tbody tr th {\n",
       "        vertical-align: top;\n",
       "    }\n",
       "\n",
       "    .dataframe thead th {\n",
       "        text-align: right;\n",
       "    }\n",
       "</style>\n",
       "<table border=\"1\" class=\"dataframe\">\n",
       "  <thead>\n",
       "    <tr style=\"text-align: right;\">\n",
       "      <th></th>\n",
       "      <th>RUANC00</th>\n",
       "      <th>ITANC00</th>\n",
       "      <th>GEANC00</th>\n",
       "      <th>IRANC00</th>\n",
       "      <th>SCANC00</th>\n",
       "      <th>RUFB00</th>\n",
       "      <th>ITFB00</th>\n",
       "      <th>GEFB00</th>\n",
       "      <th>IRFB00</th>\n",
       "      <th>SCFB00</th>\n",
       "      <th>...</th>\n",
       "      <th>HINCB00</th>\n",
       "      <th>HINCH00</th>\n",
       "      <th>HINCA00</th>\n",
       "      <th>MHMVAL00</th>\n",
       "      <th>MRENT00</th>\n",
       "      <th>HH00</th>\n",
       "      <th>HHW00</th>\n",
       "      <th>HHB00</th>\n",
       "      <th>HHH00</th>\n",
       "      <th>HHA00</th>\n",
       "    </tr>\n",
       "    <tr>\n",
       "      <th>tractid</th>\n",
       "      <th></th>\n",
       "      <th></th>\n",
       "      <th></th>\n",
       "      <th></th>\n",
       "      <th></th>\n",
       "      <th></th>\n",
       "      <th></th>\n",
       "      <th></th>\n",
       "      <th></th>\n",
       "      <th></th>\n",
       "      <th></th>\n",
       "      <th></th>\n",
       "      <th></th>\n",
       "      <th></th>\n",
       "      <th></th>\n",
       "      <th></th>\n",
       "      <th></th>\n",
       "      <th></th>\n",
       "      <th></th>\n",
       "      <th></th>\n",
       "      <th></th>\n",
       "    </tr>\n",
       "  </thead>\n",
       "  <tbody>\n",
       "    <tr>\n",
       "      <th>25025000100</th>\n",
       "      <td>99.000000</td>\n",
       "      <td>528.000000</td>\n",
       "      <td>94.000000</td>\n",
       "      <td>636.000000</td>\n",
       "      <td>34.000000</td>\n",
       "      <td>24.000000</td>\n",
       "      <td>42.000000</td>\n",
       "      <td>7.0</td>\n",
       "      <td>55.000000</td>\n",
       "      <td>0.0</td>\n",
       "      <td>...</td>\n",
       "      <td>45000.0</td>\n",
       "      <td>57833.0000</td>\n",
       "      <td>63500.00000</td>\n",
       "      <td>222100.0000</td>\n",
       "      <td>898.000000</td>\n",
       "      <td>1562.000000</td>\n",
       "      <td>1227.000000</td>\n",
       "      <td>56.000000</td>\n",
       "      <td>108.000000</td>\n",
       "      <td>107.000000</td>\n",
       "    </tr>\n",
       "    <tr>\n",
       "      <th>25025000201</th>\n",
       "      <td>82.000000</td>\n",
       "      <td>272.000000</td>\n",
       "      <td>83.000000</td>\n",
       "      <td>967.000000</td>\n",
       "      <td>40.000000</td>\n",
       "      <td>12.000000</td>\n",
       "      <td>21.000000</td>\n",
       "      <td>14.0</td>\n",
       "      <td>219.000000</td>\n",
       "      <td>7.0</td>\n",
       "      <td>...</td>\n",
       "      <td>50568.0</td>\n",
       "      <td>45455.0000</td>\n",
       "      <td>71250.00000</td>\n",
       "      <td>265600.0000</td>\n",
       "      <td>991.000000</td>\n",
       "      <td>1550.000000</td>\n",
       "      <td>1313.000000</td>\n",
       "      <td>27.000000</td>\n",
       "      <td>80.000000</td>\n",
       "      <td>86.000000</td>\n",
       "    </tr>\n",
       "    <tr>\n",
       "      <th>25025000202</th>\n",
       "      <td>43.000000</td>\n",
       "      <td>246.000000</td>\n",
       "      <td>140.000000</td>\n",
       "      <td>1247.000000</td>\n",
       "      <td>31.000000</td>\n",
       "      <td>0.000000</td>\n",
       "      <td>10.000000</td>\n",
       "      <td>0.0</td>\n",
       "      <td>376.000000</td>\n",
       "      <td>0.0</td>\n",
       "      <td>...</td>\n",
       "      <td>90027.0</td>\n",
       "      <td>28417.0000</td>\n",
       "      <td>53548.38710</td>\n",
       "      <td>276700.0000</td>\n",
       "      <td>820.000000</td>\n",
       "      <td>1494.000000</td>\n",
       "      <td>1140.000000</td>\n",
       "      <td>55.000000</td>\n",
       "      <td>105.000000</td>\n",
       "      <td>146.000000</td>\n",
       "    </tr>\n",
       "    <tr>\n",
       "      <th>25025000301</th>\n",
       "      <td>91.000000</td>\n",
       "      <td>303.000000</td>\n",
       "      <td>111.000000</td>\n",
       "      <td>746.000000</td>\n",
       "      <td>16.000000</td>\n",
       "      <td>67.000000</td>\n",
       "      <td>69.000000</td>\n",
       "      <td>0.0</td>\n",
       "      <td>175.000000</td>\n",
       "      <td>11.0</td>\n",
       "      <td>...</td>\n",
       "      <td>31250.0</td>\n",
       "      <td>6250.0000</td>\n",
       "      <td>49166.66667</td>\n",
       "      <td>214400.0000</td>\n",
       "      <td>971.000000</td>\n",
       "      <td>1159.000000</td>\n",
       "      <td>983.000000</td>\n",
       "      <td>22.000000</td>\n",
       "      <td>30.000000</td>\n",
       "      <td>78.000000</td>\n",
       "    </tr>\n",
       "    <tr>\n",
       "      <th>25025000302</th>\n",
       "      <td>208.096787</td>\n",
       "      <td>348.441132</td>\n",
       "      <td>95.821312</td>\n",
       "      <td>718.175903</td>\n",
       "      <td>39.683575</td>\n",
       "      <td>83.238716</td>\n",
       "      <td>26.133085</td>\n",
       "      <td>0.0</td>\n",
       "      <td>157.766403</td>\n",
       "      <td>0.0</td>\n",
       "      <td>...</td>\n",
       "      <td>51250.0</td>\n",
       "      <td>108970.0021</td>\n",
       "      <td>54264.70435</td>\n",
       "      <td>259499.9961</td>\n",
       "      <td>1240.999993</td>\n",
       "      <td>1266.002808</td>\n",
       "      <td>1085.974854</td>\n",
       "      <td>15.486273</td>\n",
       "      <td>43.555141</td>\n",
       "      <td>105.500236</td>\n",
       "    </tr>\n",
       "  </tbody>\n",
       "</table>\n",
       "<p>5 rows × 66 columns</p>\n",
       "</div>"
      ],
      "text/plain": [
       "                RUANC00     ITANC00     GEANC00      IRANC00    SCANC00  \\\n",
       "tractid                                                                   \n",
       "25025000100   99.000000  528.000000   94.000000   636.000000  34.000000   \n",
       "25025000201   82.000000  272.000000   83.000000   967.000000  40.000000   \n",
       "25025000202   43.000000  246.000000  140.000000  1247.000000  31.000000   \n",
       "25025000301   91.000000  303.000000  111.000000   746.000000  16.000000   \n",
       "25025000302  208.096787  348.441132   95.821312   718.175903  39.683575   \n",
       "\n",
       "                RUFB00     ITFB00  GEFB00      IRFB00  SCFB00  ...  HINCB00  \\\n",
       "tractid                                                        ...            \n",
       "25025000100  24.000000  42.000000     7.0   55.000000     0.0  ...  45000.0   \n",
       "25025000201  12.000000  21.000000    14.0  219.000000     7.0  ...  50568.0   \n",
       "25025000202   0.000000  10.000000     0.0  376.000000     0.0  ...  90027.0   \n",
       "25025000301  67.000000  69.000000     0.0  175.000000    11.0  ...  31250.0   \n",
       "25025000302  83.238716  26.133085     0.0  157.766403     0.0  ...  51250.0   \n",
       "\n",
       "                 HINCH00      HINCA00     MHMVAL00      MRENT00         HH00  \\\n",
       "tractid                                                                        \n",
       "25025000100   57833.0000  63500.00000  222100.0000   898.000000  1562.000000   \n",
       "25025000201   45455.0000  71250.00000  265600.0000   991.000000  1550.000000   \n",
       "25025000202   28417.0000  53548.38710  276700.0000   820.000000  1494.000000   \n",
       "25025000301    6250.0000  49166.66667  214400.0000   971.000000  1159.000000   \n",
       "25025000302  108970.0021  54264.70435  259499.9961  1240.999993  1266.002808   \n",
       "\n",
       "                   HHW00      HHB00       HHH00       HHA00  \n",
       "tractid                                                      \n",
       "25025000100  1227.000000  56.000000  108.000000  107.000000  \n",
       "25025000201  1313.000000  27.000000   80.000000   86.000000  \n",
       "25025000202  1140.000000  55.000000  105.000000  146.000000  \n",
       "25025000301   983.000000  22.000000   30.000000   78.000000  \n",
       "25025000302  1085.974854  15.486273   43.555141  105.500236  \n",
       "\n",
       "[5 rows x 66 columns]"
      ]
     },
     "execution_count": 69,
     "metadata": {},
     "output_type": "execute_result"
    }
   ],
   "source": [
    "df1.head()"
   ]
  },
  {
   "cell_type": "code",
   "execution_count": 70,
   "metadata": {},
   "outputs": [],
   "source": [
    "df2 = df.iloc[:,132:]"
   ]
  },
  {
   "cell_type": "code",
   "execution_count": 80,
   "metadata": {
    "scrolled": true
   },
   "outputs": [],
   "source": [
    "df_final = df1.merge(df2,how='outer',left_index=True,right_index=True)"
   ]
  },
  {
   "cell_type": "code",
   "execution_count": 81,
   "metadata": {},
   "outputs": [
    {
     "data": {
      "text/plain": [
       "(193, 132)"
      ]
     },
     "execution_count": 81,
     "metadata": {},
     "output_type": "execute_result"
    }
   ],
   "source": [
    "df_final.shape"
   ]
  },
  {
   "cell_type": "code",
   "execution_count": 85,
   "metadata": {},
   "outputs": [],
   "source": [
    "### Scale the data\n",
    "scaler=StandardScaler()\n",
    "scaled_data = scaler.fit_transform(df_final.values)\n"
   ]
  },
  {
   "cell_type": "code",
   "execution_count": 86,
   "metadata": {},
   "outputs": [],
   "source": [
    "df_scaled = pd.DataFrame(scaled_data,index=df_final.index,columns=df_final.columns)"
   ]
  },
  {
   "cell_type": "code",
   "execution_count": 87,
   "metadata": {},
   "outputs": [
    {
     "data": {
      "text/html": [
       "<div>\n",
       "<style scoped>\n",
       "    .dataframe tbody tr th:only-of-type {\n",
       "        vertical-align: middle;\n",
       "    }\n",
       "\n",
       "    .dataframe tbody tr th {\n",
       "        vertical-align: top;\n",
       "    }\n",
       "\n",
       "    .dataframe thead th {\n",
       "        text-align: right;\n",
       "    }\n",
       "</style>\n",
       "<table border=\"1\" class=\"dataframe\">\n",
       "  <thead>\n",
       "    <tr style=\"text-align: right;\">\n",
       "      <th></th>\n",
       "      <th>RUANC00</th>\n",
       "      <th>ITANC00</th>\n",
       "      <th>GEANC00</th>\n",
       "      <th>IRANC00</th>\n",
       "      <th>SCANC00</th>\n",
       "      <th>RUFB00</th>\n",
       "      <th>ITFB00</th>\n",
       "      <th>GEFB00</th>\n",
       "      <th>IRFB00</th>\n",
       "      <th>SCFB00</th>\n",
       "      <th>...</th>\n",
       "      <th>HINCH00_POC</th>\n",
       "      <th>HINCA00_POC</th>\n",
       "      <th>MHMVAL00_POC</th>\n",
       "      <th>MRENT00_POC</th>\n",
       "      <th>HH00_POC</th>\n",
       "      <th>HHW00_POC</th>\n",
       "      <th>HHB00_POC</th>\n",
       "      <th>HHH00_POC</th>\n",
       "      <th>HHA00_POC</th>\n",
       "      <th>RUANC00_POC</th>\n",
       "    </tr>\n",
       "    <tr>\n",
       "      <th>tractid</th>\n",
       "      <th></th>\n",
       "      <th></th>\n",
       "      <th></th>\n",
       "      <th></th>\n",
       "      <th></th>\n",
       "      <th></th>\n",
       "      <th></th>\n",
       "      <th></th>\n",
       "      <th></th>\n",
       "      <th></th>\n",
       "      <th></th>\n",
       "      <th></th>\n",
       "      <th></th>\n",
       "      <th></th>\n",
       "      <th></th>\n",
       "      <th></th>\n",
       "      <th></th>\n",
       "      <th></th>\n",
       "      <th></th>\n",
       "      <th></th>\n",
       "      <th></th>\n",
       "    </tr>\n",
       "  </thead>\n",
       "  <tbody>\n",
       "    <tr>\n",
       "      <th>25025000100</th>\n",
       "      <td>0.527125</td>\n",
       "      <td>0.410888</td>\n",
       "      <td>0.186843</td>\n",
       "      <td>0.383932</td>\n",
       "      <td>0.172367</td>\n",
       "      <td>0.165125</td>\n",
       "      <td>0.262211</td>\n",
       "      <td>-0.145600</td>\n",
       "      <td>0.531807</td>\n",
       "      <td>-0.377409</td>\n",
       "      <td>...</td>\n",
       "      <td>-0.363696</td>\n",
       "      <td>-0.286005</td>\n",
       "      <td>-0.269537</td>\n",
       "      <td>-0.058318</td>\n",
       "      <td>-0.362229</td>\n",
       "      <td>-0.176203</td>\n",
       "      <td>-0.528875</td>\n",
       "      <td>-0.190804</td>\n",
       "      <td>-0.473682</td>\n",
       "      <td>-0.072340</td>\n",
       "    </tr>\n",
       "    <tr>\n",
       "      <th>25025000201</th>\n",
       "      <td>0.305138</td>\n",
       "      <td>-0.129928</td>\n",
       "      <td>0.051711</td>\n",
       "      <td>1.108247</td>\n",
       "      <td>0.378216</td>\n",
       "      <td>-0.095802</td>\n",
       "      <td>-0.121525</td>\n",
       "      <td>0.390690</td>\n",
       "      <td>3.559758</td>\n",
       "      <td>0.441236</td>\n",
       "      <td>...</td>\n",
       "      <td>-0.096449</td>\n",
       "      <td>-0.383914</td>\n",
       "      <td>0.287201</td>\n",
       "      <td>-0.265426</td>\n",
       "      <td>-0.763760</td>\n",
       "      <td>-0.362495</td>\n",
       "      <td>0.338636</td>\n",
       "      <td>0.393717</td>\n",
       "      <td>-0.420351</td>\n",
       "      <td>-0.072385</td>\n",
       "    </tr>\n",
       "    <tr>\n",
       "      <th>25025000202</th>\n",
       "      <td>-0.204125</td>\n",
       "      <td>-0.184855</td>\n",
       "      <td>0.751939</td>\n",
       "      <td>1.720960</td>\n",
       "      <td>0.069443</td>\n",
       "      <td>-0.356728</td>\n",
       "      <td>-0.322529</td>\n",
       "      <td>-0.681891</td>\n",
       "      <td>6.458467</td>\n",
       "      <td>-0.377409</td>\n",
       "      <td>...</td>\n",
       "      <td>-0.211559</td>\n",
       "      <td>-0.603855</td>\n",
       "      <td>-0.274158</td>\n",
       "      <td>0.147992</td>\n",
       "      <td>-0.627085</td>\n",
       "      <td>-0.360727</td>\n",
       "      <td>-0.090361</td>\n",
       "      <td>0.071430</td>\n",
       "      <td>-0.478285</td>\n",
       "      <td>-0.072210</td>\n",
       "    </tr>\n",
       "    <tr>\n",
       "      <th>25025000301</th>\n",
       "      <td>0.422661</td>\n",
       "      <td>-0.064438</td>\n",
       "      <td>0.395683</td>\n",
       "      <td>0.624641</td>\n",
       "      <td>-0.445179</td>\n",
       "      <td>1.100111</td>\n",
       "      <td>0.755586</td>\n",
       "      <td>-0.681891</td>\n",
       "      <td>2.747381</td>\n",
       "      <td>0.909033</td>\n",
       "      <td>...</td>\n",
       "      <td>6.260969</td>\n",
       "      <td>0.247011</td>\n",
       "      <td>0.169396</td>\n",
       "      <td>-0.029099</td>\n",
       "      <td>-0.543584</td>\n",
       "      <td>-0.238231</td>\n",
       "      <td>0.042413</td>\n",
       "      <td>-0.125365</td>\n",
       "      <td>-0.525822</td>\n",
       "      <td>-0.072360</td>\n",
       "    </tr>\n",
       "    <tr>\n",
       "      <th>25025000302</th>\n",
       "      <td>1.951716</td>\n",
       "      <td>0.031559</td>\n",
       "      <td>0.209217</td>\n",
       "      <td>0.563754</td>\n",
       "      <td>0.367360</td>\n",
       "      <td>1.453204</td>\n",
       "      <td>-0.027727</td>\n",
       "      <td>-0.681891</td>\n",
       "      <td>2.429195</td>\n",
       "      <td>-0.377409</td>\n",
       "      <td>...</td>\n",
       "      <td>-0.704278</td>\n",
       "      <td>-0.341726</td>\n",
       "      <td>-0.686714</td>\n",
       "      <td>-0.913006</td>\n",
       "      <td>-0.333716</td>\n",
       "      <td>-0.249277</td>\n",
       "      <td>2.053037</td>\n",
       "      <td>-0.805079</td>\n",
       "      <td>-0.554248</td>\n",
       "      <td>-0.072308</td>\n",
       "    </tr>\n",
       "  </tbody>\n",
       "</table>\n",
       "<p>5 rows × 132 columns</p>\n",
       "</div>"
      ],
      "text/plain": [
       "              RUANC00   ITANC00   GEANC00   IRANC00   SCANC00    RUFB00  \\\n",
       "tractid                                                                   \n",
       "25025000100  0.527125  0.410888  0.186843  0.383932  0.172367  0.165125   \n",
       "25025000201  0.305138 -0.129928  0.051711  1.108247  0.378216 -0.095802   \n",
       "25025000202 -0.204125 -0.184855  0.751939  1.720960  0.069443 -0.356728   \n",
       "25025000301  0.422661 -0.064438  0.395683  0.624641 -0.445179  1.100111   \n",
       "25025000302  1.951716  0.031559  0.209217  0.563754  0.367360  1.453204   \n",
       "\n",
       "               ITFB00    GEFB00    IRFB00    SCFB00  ...  HINCH00_POC  \\\n",
       "tractid                                              ...                \n",
       "25025000100  0.262211 -0.145600  0.531807 -0.377409  ...    -0.363696   \n",
       "25025000201 -0.121525  0.390690  3.559758  0.441236  ...    -0.096449   \n",
       "25025000202 -0.322529 -0.681891  6.458467 -0.377409  ...    -0.211559   \n",
       "25025000301  0.755586 -0.681891  2.747381  0.909033  ...     6.260969   \n",
       "25025000302 -0.027727 -0.681891  2.429195 -0.377409  ...    -0.704278   \n",
       "\n",
       "             HINCA00_POC  MHMVAL00_POC  MRENT00_POC  HH00_POC  HHW00_POC  \\\n",
       "tractid                                                                    \n",
       "25025000100    -0.286005     -0.269537    -0.058318 -0.362229  -0.176203   \n",
       "25025000201    -0.383914      0.287201    -0.265426 -0.763760  -0.362495   \n",
       "25025000202    -0.603855     -0.274158     0.147992 -0.627085  -0.360727   \n",
       "25025000301     0.247011      0.169396    -0.029099 -0.543584  -0.238231   \n",
       "25025000302    -0.341726     -0.686714    -0.913006 -0.333716  -0.249277   \n",
       "\n",
       "             HHB00_POC  HHH00_POC  HHA00_POC  RUANC00_POC  \n",
       "tractid                                                    \n",
       "25025000100  -0.528875  -0.190804  -0.473682    -0.072340  \n",
       "25025000201   0.338636   0.393717  -0.420351    -0.072385  \n",
       "25025000202  -0.090361   0.071430  -0.478285    -0.072210  \n",
       "25025000301   0.042413  -0.125365  -0.525822    -0.072360  \n",
       "25025000302   2.053037  -0.805079  -0.554248    -0.072308  \n",
       "\n",
       "[5 rows x 132 columns]"
      ]
     },
     "execution_count": 87,
     "metadata": {},
     "output_type": "execute_result"
    }
   ],
   "source": [
    "df_scaled.head()"
   ]
  },
  {
   "cell_type": "markdown",
   "metadata": {},
   "source": [
    "# Non-heirarchical"
   ]
  },
  {
   "cell_type": "markdown",
   "metadata": {},
   "source": [
    "## K-means"
   ]
  },
  {
   "cell_type": "code",
   "execution_count": 98,
   "metadata": {},
   "outputs": [],
   "source": [
    "model = KMeans(n_clusters=8).fit(df_scaled)"
   ]
  },
  {
   "cell_type": "code",
   "execution_count": 99,
   "metadata": {},
   "outputs": [
    {
     "data": {
      "text/plain": [
       "array([[ 0.03017263,  1.7068411 ,  0.11852088, ...,  0.65991235,\n",
       "        -0.01941168, -0.07220536],\n",
       "       [-0.57957331, -0.49587473, -0.72824844, ..., -0.07551149,\n",
       "         0.41961137,  0.19598624],\n",
       "       [-0.10183055, -0.16593221, -0.3131523 , ..., -0.20958532,\n",
       "         0.4005205 , -0.07232673],\n",
       "       ...,\n",
       "       [ 0.10881052, -0.03922645,  0.30079732, ..., -0.20571749,\n",
       "        -0.25697072, -0.07227972],\n",
       "       [-0.4589422 , -0.4261711 , -0.4565412 , ...,  2.52489284,\n",
       "        -0.38507355, -0.07213389],\n",
       "       [ 1.71541918,  0.05049334,  2.13003423, ..., -0.21261893,\n",
       "        -0.43079182, -0.07230806]])"
      ]
     },
     "execution_count": 99,
     "metadata": {},
     "output_type": "execute_result"
    }
   ],
   "source": [
    "model.cluster_centers_"
   ]
  },
  {
   "cell_type": "markdown",
   "metadata": {},
   "source": [
    "### Finding optimal K"
   ]
  },
  {
   "cell_type": "code",
   "execution_count": null,
   "metadata": {},
   "outputs": [],
   "source": [
    "## elbow method"
   ]
  },
  {
   "cell_type": "code",
   "execution_count": null,
   "metadata": {},
   "outputs": [],
   "source": [
    "# Calculate the Within-Cluster-Sum of Squared Errors (WSS) for different values of k, \n",
    "# and choose the k for which WSS first starts to diminish. In the plot of WSS-versus-k, \n",
    "# this is visible as an elbow."
   ]
  },
  {
   "cell_type": "code",
   "execution_count": 97,
   "metadata": {},
   "outputs": [
    {
     "data": {
      "image/png": "[encoded data removed]",
      "text/plain": [
       "<Figure size 1080x576 with 1 Axes>"
      ]
     },
     "metadata": {},
     "output_type": "display_data"
    }
   ],
   "source": [
    "# Specifying the dataset and initializing variables\n",
    "X = df_scaled\n",
    "distorsions = []\n",
    "\n",
    "# Calculate SSE for different K\n",
    "for k in range(2, 10):\n",
    "    kmeans = KMeans(n_clusters=k, random_state = 301)\n",
    "    kmeans.fit(X)\n",
    "    distorsions.append(kmeans.inertia_)\n",
    "\n",
    "# Plot values of SSE\n",
    "plt.figure(figsize=(15,8))\n",
    "plt.subplot(121, title='Elbow curve')\n",
    "plt.xlabel('k')\n",
    "plt.ylabel('WSS')\n",
    "plt.plot(range(2, 10), distorsions)\n",
    "plt.grid(True)\n"
   ]
  },
  {
   "cell_type": "code",
   "execution_count": null,
   "metadata": {},
   "outputs": [],
   "source": [
    "## silhouette coeff"
   ]
  },
  {
   "cell_type": "code",
   "execution_count": null,
   "metadata": {},
   "outputs": [],
   "source": [
    "# how similar is a point to its own cluster compared to other clusters\n",
    "# b/w -1 and 1 \n",
    "# high value is better\n",
    "# reaches its global maximum at the optimal k"
   ]
  },
  {
   "cell_type": "code",
   "execution_count": 95,
   "metadata": {},
   "outputs": [],
   "source": [
    "X = df_scaled\n",
    "silhouette_plot = []\n",
    "for k in range(2, 10):\n",
    "    clusters = KMeans(n_clusters=k, random_state=10)\n",
    "    cluster_labels = clusters.fit_predict(X)\n",
    "    silhouette_avg = metrics.silhouette_score(X, cluster_labels)\n",
    "    silhouette_plot.append(silhouette_avg)"
   ]
  },
  {
   "cell_type": "code",
   "execution_count": 96,
   "metadata": {},
   "outputs": [
    {
     "data": {
      "image/png": "[encoded data removed]",
      "text/plain": [
       "<Figure size 1080x576 with 1 Axes>"
      ]
     },
     "metadata": {},
     "output_type": "display_data"
    }
   ],
   "source": [
    "# Plot Silhouette coefficient\n",
    "plt.figure(figsize=(15,8))\n",
    "plt.subplot(121, title='Silhouette coefficients over k')\n",
    "plt.xlabel('k')\n",
    "plt.ylabel('silhouette coefficient')\n",
    "plt.plot(range(2, 10), silhouette_plot)\n",
    "plt.axhline(y=np.mean(silhouette_plot), color=\"red\", linestyle=\"--\")\n",
    "plt.grid(True)"
   ]
  },
  {
   "cell_type": "code",
   "execution_count": null,
   "metadata": {},
   "outputs": [],
   "source": []
  },
  {
   "cell_type": "markdown",
   "metadata": {},
   "source": [
    "# Heirarchical"
   ]
  },
  {
   "cell_type": "code",
   "execution_count": 100,
   "metadata": {},
   "outputs": [],
   "source": [
    "### Agglomerative Heirarchical"
   ]
  }
 ],
 "metadata": {
  "kernelspec": {
   "display_name": "Python 3",
   "language": "python",
   "name": "python3"
  },
  "language_info": {
   "codemirror_mode": {
    "name": "ipython",
    "version": 3
   },
   "file_extension": ".py",
   "mimetype": "text/x-python",
   "name": "python",
   "nbconvert_exporter": "python",
   "pygments_lexer": "ipython3",
   "version": "3.7.3"
  }
 },
 "nbformat": 4,
 "nbformat_minor": 2
}
