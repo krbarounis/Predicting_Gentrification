{
 "cells": [
  {
   "cell_type": "markdown",
   "metadata": {},
   "source": [
    "# Classifying"
   ]
  },
  {
   "cell_type": "markdown",
   "metadata": {},
   "source": [
    "This notebook tests a number of classification algorithms to determine if it is possible to classify census tracts into their respective clusters, where the clusters were created by using the change in values from the 2000 census to the 2010 census."
   ]
  },
  {
   "cell_type": "code",
   "execution_count": 212,
   "metadata": {},
   "outputs": [],
   "source": [
    "import pandas as pd\n",
    "from sklearn.model_selection import train_test_split\n",
    "from sklearn.dummy import DummyClassifier\n",
    "from sklearn.linear_model import LogisticRegression\n",
    "from sklearn.metrics import accuracy_score\n",
    "from sklearn.metrics import confusion_matrix\n",
    "import numpy as np\n",
    "import itertools\n",
    "from sklearn.model_selection import StratifiedKFold\n",
    "from sklearn.model_selection import cross_val_score"
   ]
  },
  {
   "cell_type": "code",
   "execution_count": 213,
   "metadata": {},
   "outputs": [
    {
     "data": {
      "text/html": [
       "<div>\n",
       "<style scoped>\n",
       "    .dataframe tbody tr th:only-of-type {\n",
       "        vertical-align: middle;\n",
       "    }\n",
       "\n",
       "    .dataframe tbody tr th {\n",
       "        vertical-align: top;\n",
       "    }\n",
       "\n",
       "    .dataframe thead th {\n",
       "        text-align: right;\n",
       "    }\n",
       "</style>\n",
       "<table border=\"1\" class=\"dataframe\">\n",
       "  <thead>\n",
       "    <tr style=\"text-align: right;\">\n",
       "      <th></th>\n",
       "      <th>tractid</th>\n",
       "      <th>cluster</th>\n",
       "      <th>INCPC00_PC</th>\n",
       "      <th>MHMVAL00_PC</th>\n",
       "      <th>MRENT00_PC</th>\n",
       "      <th>percent_4yrcollege_degree_ormore_PC</th>\n",
       "      <th>percent_employed_PC</th>\n",
       "      <th>percent_professional_PC</th>\n",
       "      <th>percent_poverty_PC</th>\n",
       "      <th>percent_multiunit_houses_PC</th>\n",
       "      <th>POP00_PC</th>\n",
       "      <th>percent_non-white00_PC</th>\n",
       "    </tr>\n",
       "  </thead>\n",
       "  <tbody>\n",
       "    <tr>\n",
       "      <th>0</th>\n",
       "      <td>25025000100</td>\n",
       "      <td>1</td>\n",
       "      <td>25.296604</td>\n",
       "      <td>56.776227</td>\n",
       "      <td>50.111359</td>\n",
       "      <td>-24.905530</td>\n",
       "      <td>-1.512466</td>\n",
       "      <td>-46.293279</td>\n",
       "      <td>8.883061</td>\n",
       "      <td>-7.958695</td>\n",
       "      <td>7.207661</td>\n",
       "      <td>27.326426</td>\n",
       "    </tr>\n",
       "    <tr>\n",
       "      <th>1</th>\n",
       "      <td>25025000201</td>\n",
       "      <td>1</td>\n",
       "      <td>37.770551</td>\n",
       "      <td>100.301205</td>\n",
       "      <td>41.775984</td>\n",
       "      <td>12.614115</td>\n",
       "      <td>0.335627</td>\n",
       "      <td>-6.840674</td>\n",
       "      <td>16.479972</td>\n",
       "      <td>3.052451</td>\n",
       "      <td>-0.848984</td>\n",
       "      <td>22.631076</td>\n",
       "    </tr>\n",
       "    <tr>\n",
       "      <th>2</th>\n",
       "      <td>25025000202</td>\n",
       "      <td>1</td>\n",
       "      <td>24.108126</td>\n",
       "      <td>56.414890</td>\n",
       "      <td>58.414634</td>\n",
       "      <td>11.102718</td>\n",
       "      <td>-6.166663</td>\n",
       "      <td>-4.263648</td>\n",
       "      <td>49.255236</td>\n",
       "      <td>-1.722674</td>\n",
       "      <td>-1.019108</td>\n",
       "      <td>2.145146</td>\n",
       "    </tr>\n",
       "    <tr>\n",
       "      <th>3</th>\n",
       "      <td>25025000301</td>\n",
       "      <td>0</td>\n",
       "      <td>68.358748</td>\n",
       "      <td>91.091418</td>\n",
       "      <td>51.287333</td>\n",
       "      <td>37.542492</td>\n",
       "      <td>-1.048579</td>\n",
       "      <td>19.626072</td>\n",
       "      <td>0.051206</td>\n",
       "      <td>-3.128630</td>\n",
       "      <td>-6.260691</td>\n",
       "      <td>45.576692</td>\n",
       "    </tr>\n",
       "    <tr>\n",
       "      <th>4</th>\n",
       "      <td>25025000302</td>\n",
       "      <td>1</td>\n",
       "      <td>0.034080</td>\n",
       "      <td>24.161852</td>\n",
       "      <td>15.713135</td>\n",
       "      <td>-1.157077</td>\n",
       "      <td>0.924476</td>\n",
       "      <td>-5.207653</td>\n",
       "      <td>200.725668</td>\n",
       "      <td>-7.814990</td>\n",
       "      <td>7.991676</td>\n",
       "      <td>32.146323</td>\n",
       "    </tr>\n",
       "  </tbody>\n",
       "</table>\n",
       "</div>"
      ],
      "text/plain": [
       "       tractid  cluster  INCPC00_PC  MHMVAL00_PC  MRENT00_PC  \\\n",
       "0  25025000100        1   25.296604    56.776227   50.111359   \n",
       "1  25025000201        1   37.770551   100.301205   41.775984   \n",
       "2  25025000202        1   24.108126    56.414890   58.414634   \n",
       "3  25025000301        0   68.358748    91.091418   51.287333   \n",
       "4  25025000302        1    0.034080    24.161852   15.713135   \n",
       "\n",
       "   percent_4yrcollege_degree_ormore_PC  percent_employed_PC  \\\n",
       "0                           -24.905530            -1.512466   \n",
       "1                            12.614115             0.335627   \n",
       "2                            11.102718            -6.166663   \n",
       "3                            37.542492            -1.048579   \n",
       "4                            -1.157077             0.924476   \n",
       "\n",
       "   percent_professional_PC  percent_poverty_PC  percent_multiunit_houses_PC  \\\n",
       "0               -46.293279            8.883061                    -7.958695   \n",
       "1                -6.840674           16.479972                     3.052451   \n",
       "2                -4.263648           49.255236                    -1.722674   \n",
       "3                19.626072            0.051206                    -3.128630   \n",
       "4                -5.207653          200.725668                    -7.814990   \n",
       "\n",
       "   POP00_PC  percent_non-white00_PC  \n",
       "0  7.207661               27.326426  \n",
       "1 -0.848984               22.631076  \n",
       "2 -1.019108                2.145146  \n",
       "3 -6.260691               45.576692  \n",
       "4  7.991676               32.146323  "
      ]
     },
     "execution_count": 213,
     "metadata": {},
     "output_type": "execute_result"
    }
   ],
   "source": [
    "# import the csv that has the clusters assigned to each tract\n",
    "df = pd.read_csv('cluster.csv')\n",
    "df.head()"
   ]
  },
  {
   "cell_type": "code",
   "execution_count": 214,
   "metadata": {},
   "outputs": [],
   "source": [
    "# subset tracts and clusters\n",
    "df=df.iloc[:,0:2]"
   ]
  },
  {
   "cell_type": "code",
   "execution_count": 215,
   "metadata": {},
   "outputs": [],
   "source": [
    "# import the data from the 2000 census \n",
    "df2 = pd.read_csv('Final_2000_data.csv',index_col=0)"
   ]
  },
  {
   "cell_type": "code",
   "execution_count": 216,
   "metadata": {},
   "outputs": [],
   "source": [
    "# join the dataframes\n",
    "df = df.merge(df2,how='inner',on='tractid')"
   ]
  },
  {
   "cell_type": "code",
   "execution_count": 217,
   "metadata": {},
   "outputs": [],
   "source": [
    "df.set_index('tractid',inplace=True)"
   ]
  },
  {
   "cell_type": "code",
   "execution_count": 269,
   "metadata": {},
   "outputs": [],
   "source": [
    "# split into X and Y\n",
    "X = df[['POP00','percent_white00', 'percent_black00', 'percent_asian00',\n",
    "       'percent_hispanic00', 'percent_indian00', 'percent_chinese00',\n",
    "       'percent_filip00', 'percent_japan00', 'percent_korean00',\n",
    "       'percent_viet00', 'percent_mex00', 'percent_pr00', 'percent_cuban00',\n",
    "       'percent_vacant_housing00', 'percent_occupied_housing00',\n",
    "       'percent_under18_00', 'percent_60andup_00', 'percent_75andup_00',\n",
    "       'percent_owneroccupied_00', 'percent_renteroccupied_00',\n",
    "       'percent_non-white00']]\n",
    "Y = df['cluster']\n",
    "Y=Y.astype('str')"
   ]
  },
  {
   "cell_type": "markdown",
   "metadata": {},
   "source": [
    "# Dummy Classifier"
   ]
  },
  {
   "cell_type": "code",
   "execution_count": 249,
   "metadata": {},
   "outputs": [],
   "source": [
    "\n",
    "dummy_clf = DummyClassifier('most_frequent')"
   ]
  },
  {
   "cell_type": "code",
   "execution_count": 275,
   "metadata": {},
   "outputs": [],
   "source": [
    "def stratified_k_fold(model_object,n_splits,df,y):\n",
    "    skf = StratifiedKFold(n_splits=n_splits)\n",
    "    test_scores = []\n",
    "    train_scores = []\n",
    "    for i in range(n_splits):\n",
    "        result=next(skf.split(df,y))\n",
    "        x_train=df.iloc[result[0]]\n",
    "        x_test=df.iloc[result[1]]\n",
    "        y_train=y.iloc[result[0]]\n",
    "        y_test=y.iloc[result[1]]\n",
    "        model=model_object.fit(x_train,y_train)\n",
    "        y_hat_train=model_object.predict(x_train)\n",
    "        y_hat_test=model_object.predict(x_test)\n",
    "        test_score = accuracy_score(y_hat_test,y_test)\n",
    "        train_score= accuracy_score(y_hat_train,y_train)\n",
    "        test_scores.append(test_score)\n",
    "        train_scores.append(train_score)\n",
    "    return f'Train scores from each iteration:{train_scores}',f'Average K-Fold train score: {np.mean(train_scores)}',f'Test scores from each iteration:{test_scores}',f'Average K-Fold test score: {np.mean(test_scores)}'"
   ]
  },
  {
   "cell_type": "code",
   "execution_count": 276,
   "metadata": {},
   "outputs": [
    {
     "data": {
      "text/plain": [
       "('Train scores from each iteration:[0.38190954773869346, 0.38190954773869346, 0.38190954773869346, 0.38190954773869346, 0.38190954773869346]',\n",
       " 'Average K-Fold train score: 0.38190954773869346',\n",
       " 'Test scores from each iteration:[0.37735849056603776, 0.37735849056603776, 0.37735849056603776, 0.37735849056603776, 0.37735849056603776]',\n",
       " 'Average K-Fold test score: 0.37735849056603776')"
      ]
     },
     "execution_count": 276,
     "metadata": {},
     "output_type": "execute_result"
    }
   ],
   "source": [
    "stratified_k_fold(dummy_clf,5,X,Y)"
   ]
  },
  {
   "cell_type": "markdown",
   "metadata": {},
   "source": [
    "## Logistic Regression"
   ]
  },
  {
   "cell_type": "code",
   "execution_count": 199,
   "metadata": {},
   "outputs": [
    {
     "name": "stderr",
     "output_type": "stream",
     "text": [
      "/Users/Kristinabarounis/anaconda3/lib/python3.7/site-packages/sklearn/linear_model/logistic.py:460: FutureWarning: Default multi_class will be changed to 'auto' in 0.22. Specify the multi_class option to silence this warning.\n",
      "  \"this warning.\", FutureWarning)\n"
     ]
    },
    {
     "data": {
      "text/plain": [
       "LogisticRegression(C=1.0, class_weight=None, dual=False, fit_intercept=False,\n",
       "          intercept_scaling=1, max_iter=100, multi_class='warn',\n",
       "          n_jobs=None, penalty='l2', random_state=None, solver='newton-cg',\n",
       "          tol=0.0001, verbose=0, warm_start=False)"
      ]
     },
     "execution_count": 199,
     "metadata": {},
     "output_type": "execute_result"
    }
   ],
   "source": [
    "logreg = LogisticRegression(fit_intercept = False, solver='newton-cg')\n",
    "logreg.fit(X_train, y_train)"
   ]
  },
  {
   "cell_type": "code",
   "execution_count": 200,
   "metadata": {},
   "outputs": [],
   "source": [
    "y_hat_train_log = logreg.predict(X_train)\n",
    "y_hat_test_log = logreg.predict(X_test)"
   ]
  },
  {
   "cell_type": "code",
   "execution_count": 201,
   "metadata": {},
   "outputs": [
    {
     "name": "stdout",
     "output_type": "stream",
     "text": [
      "0.5472636815920398\n",
      "0.3333333333333333\n"
     ]
    }
   ],
   "source": [
    "print(accuracy_score(y_hat_train_log,y_train))\n",
    "print(accuracy_score(y_hat_test_log,y_test))"
   ]
  },
  {
   "cell_type": "code",
   "execution_count": 205,
   "metadata": {},
   "outputs": [
    {
     "name": "stdout",
     "output_type": "stream",
     "text": [
      "Normalized confusion matrix\n",
      "[[0.71428571 0.21428571 0.07142857 0.        ]\n",
      " [0.54545455 0.31818182 0.09090909 0.04545455]\n",
      " [0.28571429 0.71428571 0.         0.        ]\n",
      " [0.25       0.5        0.25       0.        ]]\n"
     ]
    },
    {
     "data": {
      "image/png": "[encoded data removed]",
      "text/plain": [
       "<Figure size 432x288 with 2 Axes>"
      ]
     },
     "metadata": {
      "needs_background": "light"
     },
     "output_type": "display_data"
    }
   ],
   "source": [
    "# confusion matrix\n",
    "cnf_matrix = confusion_matrix(y_test, y_hat_test_log)\n",
    "plt.figure()\n",
    "plot_confusion_matrix(cnf_matrix, normalize=True,classes=[0,1,2,3,4],\n",
    "                      title='Normalized confusion matrix')\n",
    "plt.show()\n"
   ]
  },
  {
   "cell_type": "code",
   "execution_count": 192,
   "metadata": {},
   "outputs": [],
   "source": [
    "import matplotlib.pyplot as plt\n",
    "def plot_confusion_matrix(cm, classes,\n",
    "                          normalize=False,\n",
    "                          title='Confusion matrix',\n",
    "                          cmap=plt.cm.Blues):\n",
    "    #Add Normalization Option\n",
    "    if normalize:\n",
    "        cm = cm.astype('float') / cm.sum(axis=1)[:, np.newaxis]\n",
    "        print(\"Normalized confusion matrix\")\n",
    "    else:\n",
    "        print('Confusion matrix, without normalization')\n",
    "\n",
    "    print(cm)\n",
    "\n",
    "    plt.imshow(cm, interpolation='nearest', cmap=cmap)\n",
    "    plt.title(title)\n",
    "    plt.colorbar()\n",
    "    tick_marks = np.arange(len(classes))\n",
    "    plt.xticks(tick_marks, classes)\n",
    "    plt.yticks(tick_marks, classes)\n",
    "\n",
    "    fmt = '.2f'\n",
    "    thresh = cm.max() / 2.\n",
    "    for i, j in itertools.product(range(cm.shape[0]), range(cm.shape[1])):\n",
    "        plt.text(j, i, format(cm[i, j], fmt),\n",
    "                 horizontalalignment=\"center\",\n",
    "                 color=\"white\" if cm[i, j] > thresh else \"black\")\n",
    "\n",
    "    plt.tight_layout()\n",
    "    plt.ylabel('True label')\n",
    "    plt.xlabel('Predicted label')\n",
    "#     plt.savefig('confusion')"
   ]
  },
  {
   "cell_type": "code",
   "execution_count": 184,
   "metadata": {},
   "outputs": [],
   "source": [
    "def plot_AUC_ROC(y_score,fpr,tpr):\n",
    "    sns.set_style(\"darkgrid\", {\"axes.facecolor\": \".9\"})\n",
    "    print('AUC: {}'.format(auc(fpr, tpr)))\n",
    "    plt.figure(figsize=(10,8))\n",
    "    lw = 2\n",
    "    plt.plot(fpr, tpr, color='darkorange',\n",
    "         lw=lw, label='ROC curve')\n",
    "    plt.plot([0, 1], [0, 1], color='navy', lw=lw, linestyle='--')\n",
    "    plt.xlim([0.0, 1.0])\n",
    "    plt.ylim([0.0, 1.05])\n",
    "    plt.yticks([i/20.0 for i in range(21)])\n",
    "    plt.xticks([i/20.0 for i in range(21)])\n",
    "    plt.xlabel('False Positive Rate')\n",
    "    plt.ylabel('True Positive Rate')\n",
    "    plt.title('Receiver operating characteristic (ROC) Curve')\n",
    "    plt.legend(loc=\"lower right\")\n",
    "    plt.show()"
   ]
  }
 ],
 "metadata": {
  "kernelspec": {
   "display_name": "Python 3",
   "language": "python",
   "name": "python3"
  },
  "language_info": {
   "codemirror_mode": {
    "name": "ipython",
    "version": 3
   },
   "file_extension": ".py",
   "mimetype": "text/x-python",
   "name": "python",
   "nbconvert_exporter": "python",
   "pygments_lexer": "ipython3",
   "version": "3.7.3"
  }
 },
 "nbformat": 4,
 "nbformat_minor": 2
}
