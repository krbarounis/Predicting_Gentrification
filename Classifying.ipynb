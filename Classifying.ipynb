{
 "cells": [
  {
   "cell_type": "markdown",
   "metadata": {},
   "source": [
    "# Classifying"
   ]
  },
  {
   "cell_type": "markdown",
   "metadata": {},
   "source": [
    "This notebook tests a number of classification algorithms to determine if it is possible to classify census tracts into their respective clusters (representing gentrification status) using the census' current demographic state."
   ]
  },
  {
   "cell_type": "code",
   "execution_count": 1,
   "metadata": {},
   "outputs": [],
   "source": [
    "import pandas as pd\n",
    "pd.set_option('display.max_rows',None)\n",
    "pd.set_option('display.max_columns',None)\n",
    "import numpy as np\n",
    "import matplotlib.pyplot as plt\n",
    "%matplotlib inline \n",
    "from sklearn.model_selection import train_test_split\n",
    "from sklearn.dummy import DummyClassifier\n",
    "from sklearn.linear_model import LogisticRegression\n",
    "from sklearn.metrics import accuracy_score\n",
    "from sklearn.metrics import confusion_matrix\n",
    "import Classifier_helper_functions as helper\n",
    "from sklearn.neighbors import KNeighborsClassifier\n",
    "from sklearn.tree import DecisionTreeClassifier\n",
    "from sklearn.ensemble import RandomForestClassifier\n",
    "import os\n",
    "os.environ['KMP_DUPLICATE_LIB_OK']='True'\n",
    "from xgboost import XGBClassifier\n",
    "from sklearn.model_selection import GridSearchCV"
   ]
  },
  {
   "cell_type": "code",
   "execution_count": 2,
   "metadata": {},
   "outputs": [
    {
     "data": {
      "text/html": [
       "<div>\n",
       "<style scoped>\n",
       "    .dataframe tbody tr th:only-of-type {\n",
       "        vertical-align: middle;\n",
       "    }\n",
       "\n",
       "    .dataframe tbody tr th {\n",
       "        vertical-align: top;\n",
       "    }\n",
       "\n",
       "    .dataframe thead th {\n",
       "        text-align: right;\n",
       "    }\n",
       "</style>\n",
       "<table border=\"1\" class=\"dataframe\">\n",
       "  <thead>\n",
       "    <tr style=\"text-align: right;\">\n",
       "      <th></th>\n",
       "      <th>tractid</th>\n",
       "      <th>cluster</th>\n",
       "      <th>HINC00_PC</th>\n",
       "      <th>MHMVAL00_PC</th>\n",
       "      <th>MRENT00_PC</th>\n",
       "      <th>percent_owneroccupied_00_PC</th>\n",
       "      <th>percent_non-white00_PC</th>\n",
       "      <th>percent_4yrcollege_degree_ormore_PC</th>\n",
       "      <th>cluster_name</th>\n",
       "    </tr>\n",
       "  </thead>\n",
       "  <tbody>\n",
       "    <tr>\n",
       "      <th>0</th>\n",
       "      <td>25025000100</td>\n",
       "      <td>1</td>\n",
       "      <td>-5.209184</td>\n",
       "      <td>56.776227</td>\n",
       "      <td>50.111359</td>\n",
       "      <td>-12.523463</td>\n",
       "      <td>27.326426</td>\n",
       "      <td>-24.905530</td>\n",
       "      <td>Low Income</td>\n",
       "    </tr>\n",
       "    <tr>\n",
       "      <th>1</th>\n",
       "      <td>25025000201</td>\n",
       "      <td>1</td>\n",
       "      <td>-16.972574</td>\n",
       "      <td>100.301205</td>\n",
       "      <td>41.775984</td>\n",
       "      <td>-6.081155</td>\n",
       "      <td>22.631076</td>\n",
       "      <td>12.614115</td>\n",
       "      <td>Low Income</td>\n",
       "    </tr>\n",
       "    <tr>\n",
       "      <th>2</th>\n",
       "      <td>25025000202</td>\n",
       "      <td>1</td>\n",
       "      <td>-24.082755</td>\n",
       "      <td>56.414890</td>\n",
       "      <td>58.414634</td>\n",
       "      <td>-7.606378</td>\n",
       "      <td>2.145146</td>\n",
       "      <td>11.102718</td>\n",
       "      <td>Low Income</td>\n",
       "    </tr>\n",
       "    <tr>\n",
       "      <th>3</th>\n",
       "      <td>25025000301</td>\n",
       "      <td>2</td>\n",
       "      <td>25.755612</td>\n",
       "      <td>91.091418</td>\n",
       "      <td>51.287333</td>\n",
       "      <td>4.772562</td>\n",
       "      <td>45.576692</td>\n",
       "      <td>37.542492</td>\n",
       "      <td>Stable</td>\n",
       "    </tr>\n",
       "    <tr>\n",
       "      <th>4</th>\n",
       "      <td>25025000302</td>\n",
       "      <td>1</td>\n",
       "      <td>-15.312205</td>\n",
       "      <td>24.161852</td>\n",
       "      <td>15.713135</td>\n",
       "      <td>-3.596587</td>\n",
       "      <td>32.146323</td>\n",
       "      <td>-1.157077</td>\n",
       "      <td>Low Income</td>\n",
       "    </tr>\n",
       "  </tbody>\n",
       "</table>\n",
       "</div>"
      ],
      "text/plain": [
       "       tractid  cluster  HINC00_PC  MHMVAL00_PC  MRENT00_PC  \\\n",
       "0  25025000100        1  -5.209184    56.776227   50.111359   \n",
       "1  25025000201        1 -16.972574   100.301205   41.775984   \n",
       "2  25025000202        1 -24.082755    56.414890   58.414634   \n",
       "3  25025000301        2  25.755612    91.091418   51.287333   \n",
       "4  25025000302        1 -15.312205    24.161852   15.713135   \n",
       "\n",
       "   percent_owneroccupied_00_PC  percent_non-white00_PC  \\\n",
       "0                   -12.523463               27.326426   \n",
       "1                    -6.081155               22.631076   \n",
       "2                    -7.606378                2.145146   \n",
       "3                     4.772562               45.576692   \n",
       "4                    -3.596587               32.146323   \n",
       "\n",
       "   percent_4yrcollege_degree_ormore_PC cluster_name  \n",
       "0                           -24.905530   Low Income  \n",
       "1                            12.614115   Low Income  \n",
       "2                            11.102718   Low Income  \n",
       "3                            37.542492       Stable  \n",
       "4                            -1.157077   Low Income  "
      ]
     },
     "execution_count": 2,
     "metadata": {},
     "output_type": "execute_result"
    }
   ],
   "source": [
    "# import the csv that has the clusters assigned to each tract\n",
    "df = pd.read_csv('CSV_files/clusters.csv')\n",
    "df.head()"
   ]
  },
  {
   "cell_type": "code",
   "execution_count": 3,
   "metadata": {},
   "outputs": [],
   "source": [
    "# subset tracts and clusters\n",
    "df1=df.iloc[:,0:2]"
   ]
  },
  {
   "cell_type": "code",
   "execution_count": 4,
   "metadata": {},
   "outputs": [],
   "source": [
    "# import the data from the 2000 census \n",
    "df2 = pd.read_csv('CSV_files/Final_2000_data.csv',index_col=0)\n",
    "df3 = pd.read_csv('CSV_files/Final_2000_data_sample.csv',index_col=0)"
   ]
  },
  {
   "cell_type": "code",
   "execution_count": 5,
   "metadata": {},
   "outputs": [],
   "source": [
    "# join the dataframes\n",
    "df = df1.merge(df2,how='inner',on='tractid')\n",
    "\n",
    "df_final = df.merge(df3,how='inner',on='tractid')\n",
    "df_final.set_index('tractid',inplace=True)"
   ]
  },
  {
   "cell_type": "code",
   "execution_count": 6,
   "metadata": {},
   "outputs": [
    {
     "data": {
      "text/plain": [
       "2    82\n",
       "1    77\n",
       "0    31\n",
       "3     1\n",
       "Name: cluster, dtype: int64"
      ]
     },
     "execution_count": 6,
     "metadata": {},
     "output_type": "execute_result"
    }
   ],
   "source": [
    "df_final['cluster'].value_counts()"
   ]
  },
  {
   "cell_type": "code",
   "execution_count": 7,
   "metadata": {},
   "outputs": [],
   "source": [
    "# lets drop classes 3 since it only has 1 tract\n",
    "df_final = df_final[df_final['cluster']!=3]"
   ]
  },
  {
   "cell_type": "code",
   "execution_count": 8,
   "metadata": {},
   "outputs": [
    {
     "data": {
      "text/plain": [
       "Index(['cluster', 'state', 'county', 'tract', 'POP00', 'NHWHT00', 'NHBLK00',\n",
       "       'NTV00', 'ASIAN00', 'HISP00', 'HAW00', 'INDIA00', 'CHINA00', 'FILIP00',\n",
       "       'JAPAN00', 'KOREA00', 'VIET00', 'MEX00', 'PR00', 'CUBAN00', 'HU00',\n",
       "       'VAC00', 'OHU00', 'A18UND00', 'A60UP00', 'A75UP00', 'AGEWHT00',\n",
       "       'A15WHT00', 'A60WHT00', 'AGEBLK00', 'A15BLK00', 'A60BLK00', 'AGEHSP00',\n",
       "       'A15HSP00', 'A60HSP00', 'AGENTV00', 'A15NTV00', 'A60NTV00', 'AGEASN00',\n",
       "       'A15ASN00', 'A60ASN00', 'FAMILY00', 'FHH00', 'OWN00', 'RENT00',\n",
       "       'GlobD00', 'GlobG00', 'percent_white00', 'percent_black00',\n",
       "       'percent_asian00', 'percent_hispanic00', 'percent_indian00',\n",
       "       'percent_chinese00', 'percent_filip00', 'percent_japan00',\n",
       "       'percent_korean00', 'percent_viet00', 'percent_mex00', 'percent_pr00',\n",
       "       'percent_cuban00', 'percent_vacant_housing00',\n",
       "       'percent_occupied_housing00', 'percent_under18_00',\n",
       "       'percent_60andup_00', 'percent_75andup_00', 'percent_owneroccupied_00',\n",
       "       'percent_renteroccupied_00', 'percent_non-white00', 'INCPC00', 'HINC00',\n",
       "       'MHMVAL00', 'MRENT00', 'percent_foreign_born', 'percent_naturalized',\n",
       "       'percent_recent_immigrants(10)', 'percent_other_languages',\n",
       "       'percent_hs_degree_orless', 'percent_4yrcollege_degree_ormore',\n",
       "       'percent_married', 'percent_unemployed', 'percent_employed',\n",
       "       'percent_professional', 'percent_manufacturing',\n",
       "       'percent_self_employed', 'percent_poverty', 'percent_houses_30yrsago',\n",
       "       'percent_multiunit_houses'],\n",
       "      dtype='object')"
      ]
     },
     "execution_count": 8,
     "metadata": {},
     "output_type": "execute_result"
    }
   ],
   "source": [
    "df_final.columns"
   ]
  },
  {
   "cell_type": "code",
   "execution_count": 9,
   "metadata": {},
   "outputs": [
    {
     "data": {
      "text/plain": [
       "2    82\n",
       "1    77\n",
       "0    31\n",
       "Name: cluster, dtype: int64"
      ]
     },
     "execution_count": 9,
     "metadata": {},
     "output_type": "execute_result"
    }
   ],
   "source": [
    "df_final['cluster'].value_counts()"
   ]
  },
  {
   "cell_type": "code",
   "execution_count": 10,
   "metadata": {},
   "outputs": [],
   "source": [
    "# split into X and Y\n",
    "X = df_final[['percent_white00', 'percent_black00',\n",
    "       'percent_asian00', 'percent_hispanic00', 'percent_indian00',\n",
    "       'percent_chinese00', 'percent_filip00', 'percent_japan00',\n",
    "       'percent_korean00', 'percent_viet00', 'percent_mex00', 'percent_pr00',\n",
    "       'percent_cuban00', 'percent_vacant_housing00',\n",
    "       'percent_occupied_housing00', 'percent_under18_00',\n",
    "       'percent_60andup_00', 'percent_75andup_00', 'percent_owneroccupied_00',\n",
    "       'percent_renteroccupied_00', 'percent_non-white00', 'INCPC00', 'HINC00',\n",
    "       'MHMVAL00', 'MRENT00', 'percent_foreign_born', 'percent_naturalized',\n",
    "       'percent_recent_immigrants(10)', 'percent_other_languages',\n",
    "       'percent_hs_degree_orless', 'percent_4yrcollege_degree_ormore',\n",
    "       'percent_married', 'percent_unemployed', 'percent_employed',\n",
    "       'percent_professional', 'percent_manufacturing',\n",
    "       'percent_self_employed', 'percent_poverty', 'percent_houses_30yrsago',\n",
    "       'percent_multiunit_houses']]\n",
    "Y = df_final['cluster']\n",
    "Y=Y.astype('str')"
   ]
  },
  {
   "cell_type": "markdown",
   "metadata": {},
   "source": [
    "# Dummy Classifier"
   ]
  },
  {
   "cell_type": "code",
   "execution_count": 11,
   "metadata": {},
   "outputs": [],
   "source": [
    "# train test split\n",
    "X_train,X_test,y_train,y_test=train_test_split(X,Y,test_size=.2)"
   ]
  },
  {
   "cell_type": "code",
   "execution_count": 12,
   "metadata": {},
   "outputs": [],
   "source": [
    "# create instance of the class\n",
    "dummy_clf = DummyClassifier('most_frequent')\n",
    "dummy_clf.fit(X_train,y_train)\n",
    "y_hat_train = dummy_clf.predict(X_train)\n",
    "y_hat_test = dummy_clf.predict(X_test)"
   ]
  },
  {
   "cell_type": "code",
   "execution_count": 13,
   "metadata": {},
   "outputs": [
    {
     "name": "stdout",
     "output_type": "stream",
     "text": [
      "0.4473684210526316\n",
      "0.3684210526315789\n"
     ]
    }
   ],
   "source": [
    "print(accuracy_score(y_hat_train,y_train))\n",
    "print(accuracy_score(y_hat_test,y_test))"
   ]
  },
  {
   "cell_type": "code",
   "execution_count": 14,
   "metadata": {},
   "outputs": [
    {
     "name": "stdout",
     "output_type": "stream",
     "text": [
      "Confusion matrix, without normalization\n",
      "[[ 0  0  3]\n",
      " [ 0  0 21]\n",
      " [ 0  0 14]]\n"
     ]
    },
    {
     "data": {
      "image/png": "[encoded data removed]",
      "text/plain": [
       "<Figure size 360x288 with 2 Axes>"
      ]
     },
     "metadata": {
      "needs_background": "light"
     },
     "output_type": "display_data"
    }
   ],
   "source": [
    "# confusion matrix\n",
    "cnf_matrix = confusion_matrix(y_test, y_hat_test)\n",
    "plt.figure(figsize=(5,4))\n",
    "\n",
    "helper.plot_confusion_matrix(cnf_matrix, normalize=False,classes=[0,1,2],\n",
    "                      title='Normalized confusion matrix for Baseline Model')\n",
    "\n",
    "plt.savefig('Dummy_Confusion')\n",
    "plt.show()"
   ]
  },
  {
   "cell_type": "markdown",
   "metadata": {},
   "source": [
    "## KNN"
   ]
  },
  {
   "cell_type": "code",
   "execution_count": 21,
   "metadata": {},
   "outputs": [
    {
     "name": "stderr",
     "output_type": "stream",
     "text": [
      "/Users/Kristinabarounis/anaconda3/lib/python3.7/site-packages/sklearn/model_selection/_search.py:841: DeprecationWarning: The default of the `iid` parameter will change from True to False in version 0.22 and will be removed in 0.24. This will change numeric results when test-set sizes are unequal.\n",
      "  DeprecationWarning)\n"
     ]
    },
    {
     "data": {
      "text/plain": [
       "GridSearchCV(cv=5, error_score='raise-deprecating',\n",
       "       estimator=KNeighborsClassifier(algorithm='auto', leaf_size=30, metric='minkowski',\n",
       "           metric_params=None, n_jobs=None, n_neighbors=5, p=2,\n",
       "           weights='uniform'),\n",
       "       fit_params=None, iid='warn', n_jobs=None,\n",
       "       param_grid={'n_neighbors': [10, 12, 13, 14, 15, 16, 17, 18, 19, 20]},\n",
       "       pre_dispatch='2*n_jobs', refit=True, return_train_score='warn',\n",
       "       scoring=None, verbose=0)"
      ]
     },
     "execution_count": 21,
     "metadata": {},
     "output_type": "execute_result"
    }
   ],
   "source": [
    "knn = KNeighborsClassifier()\n",
    "parameters={'n_neighbors':[10,12,13,14,15,16,17,18,19,20]}\n",
    "clf = GridSearchCV(knn,parameters,cv=5)\n",
    "clf.fit(X,Y)"
   ]
  },
  {
   "cell_type": "code",
   "execution_count": 22,
   "metadata": {},
   "outputs": [
    {
     "data": {
      "text/plain": [
       "{'n_neighbors': 14}"
      ]
     },
     "execution_count": 22,
     "metadata": {},
     "output_type": "execute_result"
    }
   ],
   "source": [
    "clf.best_params_"
   ]
  },
  {
   "cell_type": "code",
   "execution_count": 23,
   "metadata": {},
   "outputs": [
    {
     "data": {
      "text/plain": [
       "('Train scores from each iteration:[0.544, 0.592, 0.592]',\n",
       " 'Average K-Fold train score: 0.5760000000000001',\n",
       " 'Test scores from each iteration:[0.49230769230769234, 0.4461538461538462, 0.4307692307692308]',\n",
       " 'Average K-Fold test score: 0.4564102564102564')"
      ]
     },
     "execution_count": 23,
     "metadata": {},
     "output_type": "execute_result"
    }
   ],
   "source": [
    "knn = KNeighborsClassifier(n_neighbors=14)\n",
    "helper.stratified_k_fold(knn,3,X,Y)"
   ]
  },
  {
   "cell_type": "markdown",
   "metadata": {},
   "source": [
    "## Decision Tree"
   ]
  },
  {
   "cell_type": "code",
   "execution_count": 18,
   "metadata": {},
   "outputs": [
    {
     "name": "stderr",
     "output_type": "stream",
     "text": [
      "/Users/Kristinabarounis/anaconda3/lib/python3.7/site-packages/sklearn/model_selection/_search.py:841: DeprecationWarning: The default of the `iid` parameter will change from True to False in version 0.22 and will be removed in 0.24. This will change numeric results when test-set sizes are unequal.\n",
      "  DeprecationWarning)\n"
     ]
    },
    {
     "data": {
      "text/plain": [
       "GridSearchCV(cv=5, error_score='raise-deprecating',\n",
       "       estimator=DecisionTreeClassifier(class_weight=None, criterion='gini', max_depth=None,\n",
       "            max_features=None, max_leaf_nodes=None,\n",
       "            min_impurity_decrease=0.0, min_impurity_split=None,\n",
       "            min_samples_leaf=1, min_samples_split=2,\n",
       "            min_weight_fraction_leaf=0.0, presort=False, random_state=None,\n",
       "            splitter='best'),\n",
       "       fit_params=None, iid='warn', n_jobs=None,\n",
       "       param_grid={'criterion': ['gini', 'entropy'], 'max_depth': [5, 10, 15], 'min_samples_split': [2, 3, 4, 5, 6, 7], 'min_samples_leaf': [1, 2, 3, 4, 5, 6, 7], 'max_features': [1, 2, 3, 4, 5, 6, 7]},\n",
       "       pre_dispatch='2*n_jobs', refit=True, return_train_score='warn',\n",
       "       scoring=None, verbose=0)"
      ]
     },
     "execution_count": 18,
     "metadata": {},
     "output_type": "execute_result"
    }
   ],
   "source": [
    "dt = DecisionTreeClassifier()\n",
    "parameters={'criterion':['gini','entropy'],\n",
    "            'max_depth':[5,10,15],\n",
    "            'min_samples_split':[2,3,4,5,6,7],\n",
    "            'min_samples_leaf':[1,2,3,4,5,6,7],\n",
    "            'max_features':[1,2,3,4,5,6,7]   \n",
    "}\n",
    "clf_2 = GridSearchCV(dt,parameters,cv=5)\n",
    "clf_2.fit(X,Y)"
   ]
  },
  {
   "cell_type": "code",
   "execution_count": 19,
   "metadata": {},
   "outputs": [
    {
     "data": {
      "text/plain": [
       "{'criterion': 'entropy',\n",
       " 'max_depth': 5,\n",
       " 'max_features': 4,\n",
       " 'min_samples_leaf': 5,\n",
       " 'min_samples_split': 6}"
      ]
     },
     "execution_count": 19,
     "metadata": {},
     "output_type": "execute_result"
    }
   ],
   "source": [
    "clf_2.best_params_"
   ]
  },
  {
   "cell_type": "code",
   "execution_count": 25,
   "metadata": {},
   "outputs": [
    {
     "data": {
      "text/plain": [
       "('Train scores from each iteration:[0.74, 0.7466666666666667, 0.6666666666666666, 0.7, 0.74]',\n",
       " 'Average K-Fold train score: 0.7186666666666668',\n",
       " 'Test scores from each iteration:[0.425, 0.35, 0.45, 0.55, 0.6]',\n",
       " 'Average K-Fold test score: 0.475')"
      ]
     },
     "execution_count": 25,
     "metadata": {},
     "output_type": "execute_result"
    }
   ],
   "source": [
    "dt= DecisionTreeClassifier(criterion='entropy',max_depth=5,max_features=4,min_samples_leaf=5,min_samples_split=6)\n",
    "\n",
    "helper.stratified_k_fold(dt,5,X,Y)"
   ]
  },
  {
   "cell_type": "markdown",
   "metadata": {},
   "source": [
    "## Random Forest"
   ]
  },
  {
   "cell_type": "code",
   "execution_count": 26,
   "metadata": {},
   "outputs": [
    {
     "name": "stderr",
     "output_type": "stream",
     "text": [
      "/Users/Kristinabarounis/anaconda3/lib/python3.7/site-packages/sklearn/model_selection/_search.py:841: DeprecationWarning: The default of the `iid` parameter will change from True to False in version 0.22 and will be removed in 0.24. This will change numeric results when test-set sizes are unequal.\n",
      "  DeprecationWarning)\n"
     ]
    },
    {
     "data": {
      "text/plain": [
       "GridSearchCV(cv=5, error_score='raise-deprecating',\n",
       "       estimator=DecisionTreeClassifier(class_weight=None, criterion='entropy', max_depth=5,\n",
       "            max_features=4, max_leaf_nodes=None, min_impurity_decrease=0.0,\n",
       "            min_impurity_split=None, min_samples_leaf=5,\n",
       "            min_samples_split=6, min_weight_fraction_leaf=0.0,\n",
       "            presort=False, random_state=None, splitter='best'),\n",
       "       fit_params=None, iid='warn', n_jobs=-1,\n",
       "       param_grid={'criterion': ['gini', 'entropy'], 'max_depth': [10, 15, 20], 'min_samples_split': [2, 3, 4, 5, 6, 7], 'min_samples_leaf': [1, 2, 3, 4, 5, 6, 7], 'max_features': [1, 2, 3, 4, 5, 6, 7]},\n",
       "       pre_dispatch='2*n_jobs', refit=True, return_train_score='warn',\n",
       "       scoring=None, verbose=0)"
      ]
     },
     "execution_count": 26,
     "metadata": {},
     "output_type": "execute_result"
    }
   ],
   "source": [
    "rf = RandomForestClassifier()\n",
    "parameters={'criterion':['gini','entropy'],\n",
    "            'max_depth':[10,15,20],\n",
    "            'min_samples_split':[2,3,4,5,6,7],\n",
    "            'min_samples_leaf':[1,2,3,4,5,6,7],\n",
    "            'max_features':[1,2,3,4,5,6,7]\n",
    "    }\n",
    "clf_3 = GridSearchCV(dt,parameters,cv=5,n_jobs=-1)\n",
    "clf_3.fit(X,Y)"
   ]
  },
  {
   "cell_type": "code",
   "execution_count": 27,
   "metadata": {},
   "outputs": [
    {
     "data": {
      "text/plain": [
       "{'criterion': 'gini',\n",
       " 'max_depth': 10,\n",
       " 'max_features': 2,\n",
       " 'min_samples_leaf': 6,\n",
       " 'min_samples_split': 7}"
      ]
     },
     "execution_count": 27,
     "metadata": {},
     "output_type": "execute_result"
    }
   ],
   "source": [
    "clf_3.best_params_"
   ]
  },
  {
   "cell_type": "code",
   "execution_count": 32,
   "metadata": {},
   "outputs": [
    {
     "name": "stderr",
     "output_type": "stream",
     "text": [
      "/Users/Kristinabarounis/anaconda3/lib/python3.7/site-packages/sklearn/ensemble/forest.py:246: FutureWarning: The default value of n_estimators will change from 10 in version 0.20 to 100 in 0.22.\n",
      "  \"10 in version 0.20 to 100 in 0.22.\", FutureWarning)\n"
     ]
    },
    {
     "data": {
      "text/plain": [
       "('Train scores from each iteration:[0.74, 0.7733333333333333, 0.74, 0.7733333333333333, 0.74]',\n",
       " 'Average K-Fold train score: 0.7533333333333333',\n",
       " 'Test scores from each iteration:[0.55, 0.7, 0.475, 0.6, 0.625]',\n",
       " 'Average K-Fold test score: 0.5900000000000001')"
      ]
     },
     "execution_count": 32,
     "metadata": {},
     "output_type": "execute_result"
    }
   ],
   "source": [
    "rt = RandomForestClassifier(criterion='gini',max_depth=10,max_features=2,min_samples_leaf=6,min_samples_split=7)\n",
    "helper.stratified_k_fold(rt,5,X,Y)"
   ]
  },
  {
   "cell_type": "markdown",
   "metadata": {},
   "source": [
    "## XGBoost"
   ]
  },
  {
   "cell_type": "code",
   "execution_count": 33,
   "metadata": {},
   "outputs": [
    {
     "name": "stdout",
     "output_type": "stream",
     "text": [
      "Training Accuracy: 100.0%\n",
      "Validation accuracy: 55.26%\n"
     ]
    }
   ],
   "source": [
    "clf = XGBClassifier()\n",
    "clf.fit(X_train, y_train)\n",
    "training_preds = clf.predict(X_train)\n",
    "val_preds = clf.predict(X_test)\n",
    "training_accuracy = accuracy_score(y_train, training_preds)\n",
    "val_accuracy = accuracy_score(y_test, val_preds)\n",
    "\n",
    "print(\"Training Accuracy: {:.4}%\".format(training_accuracy * 100))\n",
    "print(\"Validation accuracy: {:.4}%\".format(val_accuracy * 100))\n"
   ]
  },
  {
   "cell_type": "code",
   "execution_count": 34,
   "metadata": {},
   "outputs": [],
   "source": [
    "param_grid = {\n",
    "    \"learning_rate\": [0.1,0.2,0.3,0.4],\n",
    "    'max_depth': [2,3,4,5,6],\n",
    "    'min_child_weight': [10,12,13,14,15],\n",
    "    'subsample': [0.7],\n",
    "    'n_estimators': [5, 30, 100, 250],\n",
    "}"
   ]
  },
  {
   "cell_type": "code",
   "execution_count": 60,
   "metadata": {},
   "outputs": [
    {
     "name": "stdout",
     "output_type": "stream",
     "text": [
      "Grid Search found the following optimal parameters: \n",
      "learning_rate: 0.3\n",
      "max_depth: 2\n",
      "min_child_weight: 12\n",
      "n_estimators: 5\n",
      "subsample: 0.7\n",
      "\n",
      "Training Accuracy: 71.71%\n",
      "Validation accuracy: 71.05%\n"
     ]
    },
    {
     "name": "stderr",
     "output_type": "stream",
     "text": [
      "/Users/Kristinabarounis/anaconda3/lib/python3.7/site-packages/sklearn/model_selection/_search.py:841: DeprecationWarning: The default of the `iid` parameter will change from True to False in version 0.22 and will be removed in 0.24. This will change numeric results when test-set sizes are unequal.\n",
      "  DeprecationWarning)\n"
     ]
    }
   ],
   "source": [
    "grid_clf = GridSearchCV(clf, param_grid, scoring='accuracy', cv=5, n_jobs=1)\n",
    "grid_clf.fit(X, Y)\n",
    "\n",
    "best_parameters = grid_clf.best_params_\n",
    "\n",
    "print(\"Grid Search found the following optimal parameters: \")\n",
    "for param_name in sorted(best_parameters.keys()):\n",
    "    print(\"%s: %r\" % (param_name, best_parameters[param_name]))\n",
    "\n",
    "training_preds = grid_clf.predict(X_train)\n",
    "val_preds = grid_clf.predict(X_test)\n",
    "training_accuracy = accuracy_score(y_train, training_preds)\n",
    "val_accuracy = accuracy_score(y_test, val_preds)\n",
    "\n",
    "print(\"\")\n",
    "print(\"Training Accuracy: {:.4}%\".format(training_accuracy * 100))\n",
    "print(\"Validation accuracy: {:.4}%\".format(val_accuracy * 100))"
   ]
  },
  {
   "cell_type": "code",
   "execution_count": 59,
   "metadata": {},
   "outputs": [
    {
     "data": {
      "text/plain": [
       "('Train scores from each iteration:[0.6666666666666666, 0.6666666666666666, 0.6790123456790124, 0.6666666666666666, 0.7037037037037037, 0.7345679012345679, 0.6851851851851852]',\n",
       " 'Average K-Fold train score: 0.6860670194003528',\n",
       " 'Test scores from each iteration:[0.5714285714285714, 0.4642857142857143, 0.5714285714285714, 0.6071428571428571, 0.6428571428571429, 0.42857142857142855, 0.5357142857142857]',\n",
       " 'Average K-Fold test score: 0.5459183673469387')"
      ]
     },
     "execution_count": 59,
     "metadata": {},
     "output_type": "execute_result"
    }
   ],
   "source": [
    "xgb = XGBClassifier(learning_rate=0.3,max_depth=2,min_child_weight=12,n_estimators=5,subsample=0.7)\n",
    "helper.stratified_k_fold(xgb,7,X,Y)"
   ]
  },
  {
   "cell_type": "markdown",
   "metadata": {},
   "source": [
    "## Predict using 2010 data!!!!!!"
   ]
  },
  {
   "cell_type": "code",
   "execution_count": null,
   "metadata": {},
   "outputs": [],
   "source": [
    "# import the data from the 2000 census \n",
    "df2 = pd.read_csv('CSV_files/Final_2010_data.csv',index_col=0)\n",
    "df3 = pd.read_csv('CSV_files/Final_2010_data_sample.csv',index_col=0)"
   ]
  },
  {
   "cell_type": "code",
   "execution_count": null,
   "metadata": {},
   "outputs": [],
   "source": [
    "# join the dataframes\n",
    "df = df3.merge(df2,how='inner',on='tractid')"
   ]
  },
  {
   "cell_type": "code",
   "execution_count": null,
   "metadata": {},
   "outputs": [],
   "source": []
  }
 ],
 "metadata": {
  "kernelspec": {
   "display_name": "Python 3",
   "language": "python",
   "name": "python3"
  },
  "language_info": {
   "codemirror_mode": {
    "name": "ipython",
    "version": 3
   },
   "file_extension": ".py",
   "mimetype": "text/x-python",
   "name": "python",
   "nbconvert_exporter": "python",
   "pygments_lexer": "ipython3",
   "version": "3.7.3"
  }
 },
 "nbformat": 4,
 "nbformat_minor": 2
}
