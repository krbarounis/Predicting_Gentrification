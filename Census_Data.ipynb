{
 "cells": [
  {
   "cell_type": "markdown",
   "metadata": {},
   "source": [
    "# Census Data"
   ]
  },
  {
   "cell_type": "markdown",
   "metadata": {},
   "source": [
    "This notebook imports 4 csv files from the Longitudinal Tract Data Base (LTDB) which contain census data for 262 census tracts in the Boston area. After a number of pre-processing steps, I calculate the percentage change between the two censuses with an end goal of using k-means clustering on the tracts."
   ]
  },
  {
   "cell_type": "code",
   "execution_count": 1,
   "metadata": {},
   "outputs": [],
   "source": [
    "import pandas as pd\n",
    "pd.set_option('display.max_rows',None)\n",
    "pd.set_option('display.max_columns',None)"
   ]
  },
  {
   "cell_type": "markdown",
   "metadata": {},
   "source": [
    "## File 1: 2000 Census, Long-form questionnaire"
   ]
  },
  {
   "cell_type": "markdown",
   "metadata": {},
   "source": [
    "### Pre-processing"
   ]
  },
  {
   "cell_type": "code",
   "execution_count": 952,
   "metadata": {},
   "outputs": [],
   "source": [
    "# import file\n",
    "df_2000 = pd.read_csv('CSV_files/LTDB_Std_2000_fullcount.csv',sep=',', engine='python')\n",
    "\n",
    "# subset the file to Massachusetts\n",
    "df_2000_MA = df_2000[(df_2000['state']=='MA')]"
   ]
  },
  {
   "cell_type": "code",
   "execution_count": 953,
   "metadata": {},
   "outputs": [],
   "source": [
    "# collect tracts for Cambridge and Brookline\n",
    "Cambridge_tracts = list((range(3522,3531)))+list(((range(3532,3551))))\n",
    "Cambridge_tracts = Cambridge_tracts + [3521.01,3521.02,3531.02,3531.01]\n",
    "Cambridge_tracts = [f'Census Tract {str(x)}' for x in Cambridge_tracts]\n",
    "\n",
    "Brookline_tracts = list(range(4001,4013))\n",
    "Brookline_tracts = [f'Census Tract {str(x)}' for x in Brookline_tracts]\n",
    "\n",
    "Somerville_tracts = [3507,3508,3505,3504,3506,3503,3502,3501.04,3501.03,\n",
    "                     3514.03,3512.03,3512.04,3513,3511,3510,3509,3515]\n",
    "Somerville_tracts = [f'Census Tract {str(x)}' for x in Somerville_tracts]"
   ]
  },
  {
   "cell_type": "code",
   "execution_count": 954,
   "metadata": {},
   "outputs": [],
   "source": [
    "# get Suffolk County\n",
    "df_2000_MA_1 = df_2000_MA[df_2000_MA['county']=='Suffolk County']\n",
    "\n",
    "# get Cambridge\n",
    "df_2000_MA_2 =df_2000_MA[df_2000_MA['tract'].apply(lambda x: any(tract for tract in Cambridge_tracts if tract in x))]\n",
    "\n",
    "# get Brookline\n",
    "df_2000_MA_3=df_2000_MA[df_2000_MA['tract'].apply(lambda x: any(tract for tract in Brookline_tracts if tract in x))]\n",
    "\n",
    "# get Somerville\n",
    "df_2000_MA_4=df_2000_MA[df_2000_MA['tract'].apply(lambda x: any(tract for tract in Somerville_tracts if tract in x))]"
   ]
  },
  {
   "cell_type": "code",
   "execution_count": 955,
   "metadata": {},
   "outputs": [
    {
     "name": "stdout",
     "output_type": "stream",
     "text": [
      "(203, 51)\n",
      "(32, 51)\n",
      "(12, 51)\n",
      "(17, 51)\n"
     ]
    }
   ],
   "source": [
    "print(df_2000_MA_1.shape)\n",
    "print(df_2000_MA_2.shape)\n",
    "print(df_2000_MA_3.shape)\n",
    "print(df_2000_MA_4.shape)"
   ]
  },
  {
   "cell_type": "code",
   "execution_count": 956,
   "metadata": {},
   "outputs": [],
   "source": [
    "# merge the 3\n",
    "df_MA_full_2000= pd.concat([df_2000_MA_1,df_2000_MA_2,df_2000_MA_3,df_2000_MA_4],ignore_index=True)\n",
    "\n",
    "# drop irrelevant columns\n",
    "df_MA_full_2000.drop(columns=['placefp10','cbsa10','metdiv10','ccflag10'],axis=1,inplace=True)\n",
    "\n",
    "# reset the index\n",
    "df_MA_full_2000.reset_index(inplace=True, drop=True)"
   ]
  },
  {
   "cell_type": "code",
   "execution_count": 957,
   "metadata": {},
   "outputs": [],
   "source": [
    "# rename tract id column to match 2010\n",
    "df_MA_full_2000.rename(columns={'TRTID10':'tractid'},inplace=True)"
   ]
  },
  {
   "cell_type": "markdown",
   "metadata": {},
   "source": [
    "### Feature engineering"
   ]
  },
  {
   "cell_type": "code",
   "execution_count": 958,
   "metadata": {},
   "outputs": [],
   "source": [
    "# calculate percentages of population for each category \n",
    "df_MA_full_2000['percent_white00']=100*df_MA_full_2000['NHWHT00']/df_MA_full_2000['POP00']\n",
    "df_MA_full_2000['percent_black00']=100*df_MA_full_2000['NHBLK00']/df_MA_full_2000['POP00']\n",
    "df_MA_full_2000['percent_asian00']=100*df_MA_full_2000['ASIAN00']/df_MA_full_2000['POP00']\n",
    "df_MA_full_2000['percent_hispanic00']=100*df_MA_full_2000['HISP00']/df_MA_full_2000['POP00']\n",
    "df_MA_full_2000['percent_indian00']=100*df_MA_full_2000['INDIA00']/df_MA_full_2000['POP00']\n",
    "df_MA_full_2000['percent_chinese00']=100*df_MA_full_2000['CHINA00']/df_MA_full_2000['POP00']\n",
    "df_MA_full_2000['percent_filip00']=100*df_MA_full_2000['FILIP00']/df_MA_full_2000['POP00']\n",
    "df_MA_full_2000['percent_japan00']=100*df_MA_full_2000['JAPAN00']/df_MA_full_2000['POP00']\n",
    "df_MA_full_2000['percent_korean00']=100*df_MA_full_2000['KOREA00']/df_MA_full_2000['POP00']\n",
    "df_MA_full_2000['percent_viet00']=100*df_MA_full_2000['VIET00']/df_MA_full_2000['POP00']\n",
    "df_MA_full_2000['percent_mex00']=100*df_MA_full_2000['MEX00']/df_MA_full_2000['POP00']\n",
    "df_MA_full_2000['percent_pr00']=100*df_MA_full_2000['PR00']/df_MA_full_2000['POP00']\n",
    "df_MA_full_2000['percent_cuban00']=100*df_MA_full_2000['CUBAN00']/df_MA_full_2000['POP00']\n",
    "df_MA_full_2000['percent_vacant_housing00']=100*df_MA_full_2000['VAC00']/df_MA_full_2000['HU00']\n",
    "df_MA_full_2000['percent_occupied_housing00']=100*df_MA_full_2000['OHU00']/df_MA_full_2000['HU00']\n",
    "df_MA_full_2000['percent_under18_00']=100*df_MA_full_2000['A18UND00']/df_MA_full_2000['POP00']\n",
    "df_MA_full_2000['percent_60andup_00']=100*df_MA_full_2000['A60UP00']/df_MA_full_2000['POP00']\n",
    "df_MA_full_2000['percent_75andup_00']=100*df_MA_full_2000['A75UP00']/df_MA_full_2000['POP00']\n",
    "df_MA_full_2000['percent_owneroccupied_00']=100*df_MA_full_2000['OWN00']/df_MA_full_2000['HU00']\n",
    "df_MA_full_2000['percent_renteroccupied_00']=100*df_MA_full_2000['RENT00']/df_MA_full_2000['HU00']"
   ]
  },
  {
   "cell_type": "code",
   "execution_count": 959,
   "metadata": {},
   "outputs": [],
   "source": [
    "# let's recreate the race buckets into \"percent white\" and \"percent non-white\"\n",
    "df_MA_full_2000['percent_non-white00'] = 100*(df_MA_full_2000.iloc[:,6:20].sum(1)/df_MA_full_2000['POP00'])"
   ]
  },
  {
   "cell_type": "code",
   "execution_count": 960,
   "metadata": {},
   "outputs": [],
   "source": [
    "# now lets drop all other columns\n",
    "df_MA_full_2000.drop(df_MA_full_2000.columns[5:47],axis=1,inplace=True)"
   ]
  },
  {
   "cell_type": "code",
   "execution_count": 961,
   "metadata": {},
   "outputs": [],
   "source": [
    "## save to csv for classification\n",
    "df_MA_full_2000.to_csv('Final_2000_data.csv')"
   ]
  },
  {
   "cell_type": "markdown",
   "metadata": {},
   "source": [
    "## File 1: 2010 Census, Long-form questionnaire"
   ]
  },
  {
   "cell_type": "markdown",
   "metadata": {},
   "source": [
    "### Pre-processing"
   ]
  },
  {
   "cell_type": "code",
   "execution_count": 962,
   "metadata": {},
   "outputs": [],
   "source": [
    "df_2010 = pd.read_csv('CSV_files/LTDB_Std_2010_fullcount.csv',sep=',', engine='python')"
   ]
  },
  {
   "cell_type": "code",
   "execution_count": 963,
   "metadata": {},
   "outputs": [],
   "source": [
    "df_2010_MA = df_2010[(df_2010['state']=='MA')]"
   ]
  },
  {
   "cell_type": "code",
   "execution_count": 964,
   "metadata": {},
   "outputs": [],
   "source": [
    "# same steps for 2010 \n",
    "\n",
    "# get Suffolk County\n",
    "df_2010_MA_1 = df_2010_MA[df_2010_MA['county']=='Suffolk County']\n",
    "\n",
    "# get Cambridge\n",
    "df_2010_MA_2 =df_2010_MA[df_2010_MA['tract'].apply(lambda x: any(tract for tract in Cambridge_tracts if tract in x))]\n",
    "\n",
    "# get Brookline\n",
    "df_2010_MA_3=df_2010_MA[df_2010_MA['tract'].apply(lambda x: any(tract for tract in Brookline_tracts if tract in x))]\n",
    "\n",
    "# get Somerville\n",
    "df_2010_MA_4=df_2010_MA[df_2010_MA['tract'].apply(lambda x: any(tract for tract in Somerville_tracts if tract in x))]"
   ]
  },
  {
   "cell_type": "code",
   "execution_count": 965,
   "metadata": {},
   "outputs": [
    {
     "name": "stdout",
     "output_type": "stream",
     "text": [
      "(204, 47)\n",
      "(32, 47)\n",
      "(12, 47)\n",
      "(17, 47)\n"
     ]
    }
   ],
   "source": [
    "print(df_2010_MA_1.shape)\n",
    "print(df_2010_MA_2.shape)\n",
    "print(df_2010_MA_3.shape)\n",
    "print(df_2010_MA_4.shape)"
   ]
  },
  {
   "cell_type": "code",
   "execution_count": 966,
   "metadata": {},
   "outputs": [],
   "source": [
    "# merge the 3\n",
    "df_MA_full_2010= pd.concat([df_2010_MA_1,df_2010_MA_2,df_2010_MA_3,df_2010_MA_4],ignore_index=True)\n",
    "\n",
    "# reset the index\n",
    "df_MA_full_2010.reset_index(inplace=True, drop=True)"
   ]
  },
  {
   "cell_type": "markdown",
   "metadata": {},
   "source": [
    "### Feature engineering"
   ]
  },
  {
   "cell_type": "code",
   "execution_count": 967,
   "metadata": {},
   "outputs": [],
   "source": [
    "# calculate percentages of population for each category \n",
    "df_MA_full_2010['percent_white10']=100*df_MA_full_2010['nhwht10']/df_MA_full_2010['pop10']\n",
    "df_MA_full_2010['percent_black10']=100*df_MA_full_2010['nhblk10']/df_MA_full_2010['pop10']\n",
    "df_MA_full_2010['percent_asian10']=100*df_MA_full_2010['asian10']/df_MA_full_2010['pop10']\n",
    "df_MA_full_2010['percent_hispanic10']=100*df_MA_full_2010['hisp10']/df_MA_full_2010['pop10']\n",
    "df_MA_full_2010['percent_indian10']=100*df_MA_full_2010['india10']/df_MA_full_2010['pop10']\n",
    "df_MA_full_2010['percent_chinese10']=100*df_MA_full_2010['china10']/df_MA_full_2010['pop10']\n",
    "df_MA_full_2010['percent_filip10']=100*df_MA_full_2010['filip10']/df_MA_full_2010['pop10']\n",
    "df_MA_full_2010['percent_japan10']=100*df_MA_full_2010['japan10']/df_MA_full_2010['pop10']\n",
    "df_MA_full_2010['percent_korean10']=100*df_MA_full_2010['korea10']/df_MA_full_2010['pop10']\n",
    "df_MA_full_2010['percent_viet10']=100*df_MA_full_2010['viet10']/df_MA_full_2010['pop10']\n",
    "df_MA_full_2010['percent_mex10']=100*df_MA_full_2010['mex10']/df_MA_full_2010['pop10']\n",
    "df_MA_full_2010['percent_pr10']=100*df_MA_full_2010['pr10']/df_MA_full_2010['pop10']\n",
    "df_MA_full_2010['percent_cuban10']=100*df_MA_full_2010['cuban10']/df_MA_full_2010['pop10']\n",
    "df_MA_full_2010['percent_vacant_housing10']=100*df_MA_full_2010['vac10']/df_MA_full_2010['hu10']\n",
    "df_MA_full_2010['percent_occupied_housing10']=100*df_MA_full_2010['ohu10']/df_MA_full_2010['hu10']\n",
    "df_MA_full_2010['percent_under18_10']=100*df_MA_full_2010['a18und10']/df_MA_full_2010['pop10']\n",
    "df_MA_full_2010['percent_60andup_10']=100*df_MA_full_2010['a60up10']/df_MA_full_2010['pop10']\n",
    "df_MA_full_2010['percent_75andup_10']=100*df_MA_full_2010['a75up10']/df_MA_full_2010['pop10']\n",
    "df_MA_full_2010['percent_owneroccupied_10']=100*df_MA_full_2010['own10']/df_MA_full_2010['hu10']\n",
    "df_MA_full_2010['percent_renteroccupied_10']=100*df_MA_full_2010['rent10']/df_MA_full_2010['hu10']"
   ]
  },
  {
   "cell_type": "code",
   "execution_count": 968,
   "metadata": {},
   "outputs": [],
   "source": [
    "# let's recreate the race buckets into \"white\" and \"non-white\"\n",
    "df_MA_full_2010['non-white10'] = 100*(df_MA_full_2010.iloc[:,6:20].sum(1)/df_MA_full_2010['pop10'])"
   ]
  },
  {
   "cell_type": "code",
   "execution_count": 969,
   "metadata": {},
   "outputs": [],
   "source": [
    "# now lets drop all other columns\n",
    "df_MA_full_2010.drop(df_MA_full_2010.columns[5:47],axis=1,inplace=True)"
   ]
  },
  {
   "cell_type": "code",
   "execution_count": 970,
   "metadata": {},
   "outputs": [],
   "source": [
    "# save to csv to predict\n",
    "df_MA_full_2010.to_csv('Final_2010_data.csv')"
   ]
  },
  {
   "cell_type": "markdown",
   "metadata": {},
   "source": [
    "## Percentage change 2000-2000, Long-form questionnaire"
   ]
  },
  {
   "cell_type": "code",
   "execution_count": 941,
   "metadata": {},
   "outputs": [],
   "source": [
    "## New df for change in values between 2000 and 2010\n",
    "df_joined = df_MA_full_2000.merge(df_MA_full_2010, on='tractid')"
   ]
  },
  {
   "cell_type": "code",
   "execution_count": 942,
   "metadata": {},
   "outputs": [],
   "source": [
    "df_joined.drop(columns=['state_y','county_y','tract_y'],axis=1,inplace=True)"
   ]
  },
  {
   "cell_type": "code",
   "execution_count": 943,
   "metadata": {},
   "outputs": [
    {
     "data": {
      "text/plain": [
       "Index(['tractid', 'state_x', 'county_x', 'tract_x', 'POP00', 'percent_white00',\n",
       "       'percent_black00', 'percent_asian00', 'percent_hispanic00',\n",
       "       'percent_indian00', 'percent_chinese00', 'percent_filip00',\n",
       "       'percent_japan00', 'percent_korean00', 'percent_viet00',\n",
       "       'percent_mex00', 'percent_pr00', 'percent_cuban00',\n",
       "       'percent_vacant_housing00', 'percent_occupied_housing00',\n",
       "       'percent_under18_00', 'percent_60andup_00', 'percent_75andup_00',\n",
       "       'percent_owneroccupied_00', 'percent_renteroccupied_00',\n",
       "       'percent_non-white00', 'pop10', 'percent_white10', 'percent_black10',\n",
       "       'percent_asian10', 'percent_hispanic10', 'percent_indian10',\n",
       "       'percent_chinese10', 'percent_filip10', 'percent_japan10',\n",
       "       'percent_korean10', 'percent_viet10', 'percent_mex10', 'percent_pr10',\n",
       "       'percent_cuban10', 'percent_vacant_housing10',\n",
       "       'percent_occupied_housing10', 'percent_under18_10',\n",
       "       'percent_60andup_10', 'percent_75andup_10', 'percent_owneroccupied_10',\n",
       "       'percent_renteroccupied_10', 'non-white10'],\n",
       "      dtype='object')"
      ]
     },
     "execution_count": 943,
     "metadata": {},
     "output_type": "execute_result"
    }
   ],
   "source": [
    "df_joined.columns"
   ]
  },
  {
   "cell_type": "code",
   "execution_count": 944,
   "metadata": {},
   "outputs": [
    {
     "name": "stderr",
     "output_type": "stream",
     "text": [
      "/Users/Kristinabarounis/anaconda3/lib/python3.7/site-packages/ipykernel_launcher.py:10: RuntimeWarning: divide by zero encountered in double_scalars\n",
      "  # Remove the CWD from sys.path while we load stuff.\n",
      "/Users/Kristinabarounis/anaconda3/lib/python3.7/site-packages/ipykernel_launcher.py:10: RuntimeWarning: invalid value encountered in double_scalars\n",
      "  # Remove the CWD from sys.path while we load stuff.\n"
     ]
    }
   ],
   "source": [
    "# 2000 starts at column 4\n",
    "i = 4\n",
    "# 2010 starts at column\n",
    "j = 26\n",
    "# stop once you get to final column\n",
    "while j < 48:\n",
    "    try:\n",
    "        df_joined[f'{df_joined.columns[i]}_PC'] = df_joined.iloc[:,4:].apply(lambda x: 100*\n",
    "                                    ((x[df_joined.columns[j]]-x[df_joined.columns[i]])\n",
    "                                   /x[df_joined.columns[i]]),axis=1)\n",
    "    except ZeroDivisionError:\n",
    "        0\n",
    "        \n",
    "    i +=1\n",
    "    j +=1"
   ]
  },
  {
   "cell_type": "code",
   "execution_count": 945,
   "metadata": {},
   "outputs": [],
   "source": [
    "df_joined.to_csv('CSV_files/Full_count_census_changes.csv')"
   ]
  },
  {
   "cell_type": "markdown",
   "metadata": {},
   "source": [
    "## File 3: 2000 Census, Short-form questionnaire"
   ]
  },
  {
   "cell_type": "markdown",
   "metadata": {},
   "source": [
    "### Pre-processing"
   ]
  },
  {
   "cell_type": "code",
   "execution_count": 862,
   "metadata": {},
   "outputs": [],
   "source": [
    "# import the file\n",
    "df_2000_2 = pd.read_csv('CSV_files/LTDB_Std_2000_Sample.csv',sep=',', engine='python')\n",
    "\n",
    "# subset to MA\n",
    "df_2000_MA_2 = df_2000_2[(df_2000_2['state']=='MA')]"
   ]
  },
  {
   "cell_type": "code",
   "execution_count": 863,
   "metadata": {},
   "outputs": [],
   "source": [
    "# get Suffolk County\n",
    "df_MA_sample_2000_1 = df_2000_MA_2[df_2000_MA_2['county']=='Suffolk County']\n",
    "\n",
    "# get Cambridge\n",
    "df_MA_sample_2000_2=df_2000_MA_2[df_2000_MA_2['tract'].apply(lambda x: any(tract for tract in Cambridge_tracts if tract in x))]\n",
    "\n",
    "# get Brookline\n",
    "df_MA_sample_2000_3=df_2000_MA_2[df_2000_MA_2['tract'].apply(lambda x: any(tract for tract in Brookline_tracts if tract in x))]\n",
    "\n",
    "# get Somerville\n",
    "df_MA_sample_2000_4=df_2000_MA_2[df_2000_MA_2['tract'].apply(lambda x: any(tract for tract in Somerville_tracts if tract in x))]"
   ]
  },
  {
   "cell_type": "code",
   "execution_count": 864,
   "metadata": {},
   "outputs": [
    {
     "name": "stdout",
     "output_type": "stream",
     "text": [
      "(203, 77)\n",
      "(32, 77)\n",
      "(12, 77)\n",
      "(17, 77)\n"
     ]
    }
   ],
   "source": [
    "print(df_MA_sample_2000_1.shape)\n",
    "print(df_MA_sample_2000_2.shape)\n",
    "print(df_MA_sample_2000_3.shape)\n",
    "print(df_MA_sample_2000_4.shape)"
   ]
  },
  {
   "cell_type": "code",
   "execution_count": 865,
   "metadata": {},
   "outputs": [],
   "source": [
    "# merge the 3\n",
    "df_MA_sample_2000= pd.concat([df_MA_sample_2000_1,df_MA_sample_2000_2,df_MA_sample_2000_3,df_MA_sample_2000_4],ignore_index=True)\n",
    "\n",
    "# reset the index\n",
    "df_MA_sample_2000.reset_index(inplace=True, drop=True)\n",
    "\n",
    "# drop irrelevant columns\n",
    "df_MA_sample_2000.drop(columns=['placefp10','cbsa10','metdiv10','ccflag10'],axis=1,inplace=True)"
   ]
  },
  {
   "cell_type": "code",
   "execution_count": 866,
   "metadata": {},
   "outputs": [
    {
     "data": {
      "text/plain": [
       "(264, 73)"
      ]
     },
     "execution_count": 866,
     "metadata": {},
     "output_type": "execute_result"
    }
   ],
   "source": [
    "df_MA_sample_2000.shape"
   ]
  },
  {
   "cell_type": "code",
   "execution_count": 867,
   "metadata": {},
   "outputs": [],
   "source": [
    "df_MA_sample_2000.drop(columns=['state','county','tract'],axis=1,inplace=True)"
   ]
  },
  {
   "cell_type": "code",
   "execution_count": 868,
   "metadata": {},
   "outputs": [],
   "source": [
    "# drop ethnic groups\n",
    "df_MA_sample_2000.drop(df_MA_sample_2000.columns[2:12],axis=1,inplace=True)"
   ]
  },
  {
   "cell_type": "code",
   "execution_count": 869,
   "metadata": {},
   "outputs": [],
   "source": [
    "# drop columns that are not variables in 2010\n",
    "df_MA_sample_2000.drop(columns=['DIS00','CNI16U00'],axis=1,inplace=True)"
   ]
  },
  {
   "cell_type": "markdown",
   "metadata": {},
   "source": [
    "### Feature engineering"
   ]
  },
  {
   "cell_type": "code",
   "execution_count": 870,
   "metadata": {},
   "outputs": [],
   "source": [
    "# percentage\n",
    "df_MA_sample_2000['percent_foreign_born']=100*df_MA_sample_2000['FB00']/df_MA_sample_2000['POP00SF3']\n",
    "df_MA_sample_2000['percent_naturalized']=100*df_MA_sample_2000['NAT00']/df_MA_sample_2000['POP00SF3']\n",
    "df_MA_sample_2000['percent_recent_immigrants(10)']=100*df_MA_sample_2000['N10IMM00']/df_MA_sample_2000['POP00SF3']\n",
    "df_MA_sample_2000['percent_other_languages']=100*df_MA_sample_2000['OLANG00']/df_MA_sample_2000['AG5UP00']\n",
    "df_MA_sample_2000['percent_hs_degree_orless']=100*df_MA_sample_2000['HS00']/df_MA_sample_2000['AG25UP00']\n",
    "df_MA_sample_2000['percent_4yrcollege_degree_ormore']=100*df_MA_sample_2000['COL00']/df_MA_sample_2000['AG25UP00']\n",
    "df_MA_sample_2000['percent_married']=100*df_MA_sample_2000['Mar-00']/df_MA_sample_2000['AG15UP00']\n",
    "df_MA_sample_2000['percent_unemployed']=100*df_MA_sample_2000['UNEMP00']/df_MA_sample_2000['CLF00']\n",
    "df_MA_sample_2000['percent_employed']=100*df_MA_sample_2000['EMPCLF00']/df_MA_sample_2000['CLF00']\n",
    "df_MA_sample_2000['percent_professional']=100*df_MA_sample_2000['PROF00']/df_MA_sample_2000['EMPCLF00']\n",
    "df_MA_sample_2000['percent_manufacturing']=100*df_MA_sample_2000['MANUF00']/df_MA_sample_2000['EMPCLF00']\n",
    "df_MA_sample_2000['percent_self_employed']=100*df_MA_sample_2000['SEMP00']/df_MA_sample_2000['EMPCLF00']\n",
    "df_MA_sample_2000['percent_poverty']=100*df_MA_sample_2000['NPOV00']/df_MA_sample_2000['DPOV00']\n",
    "df_MA_sample_2000['percent_houses_30yrsago']=100*df_MA_sample_2000['H30OLD00']/df_MA_sample_2000['DMULTI00']\n",
    "df_MA_sample_2000['percent_multiunit_houses']=100*df_MA_sample_2000['MULTI00']/df_MA_sample_2000['DMULTI00']"
   ]
  },
  {
   "cell_type": "code",
   "execution_count": 871,
   "metadata": {},
   "outputs": [],
   "source": [
    "# drop the remaining columns\n",
    "# only keep: per capita income , median household rent, median household income\n",
    "df_MA_sample_2000.drop(df_MA_sample_2000.columns[1:39],axis=1,inplace=True)"
   ]
  },
  {
   "cell_type": "code",
   "execution_count": 872,
   "metadata": {},
   "outputs": [],
   "source": [
    "df_MA_sample_2000.drop(df_MA_sample_2000.columns[2:13],axis=1,inplace=True)"
   ]
  },
  {
   "cell_type": "code",
   "execution_count": 873,
   "metadata": {},
   "outputs": [],
   "source": [
    "df_MA_sample_2000.drop(df_MA_sample_2000.columns[4:9],axis=1,inplace=True)"
   ]
  },
  {
   "cell_type": "code",
   "execution_count": 875,
   "metadata": {},
   "outputs": [],
   "source": [
    "### convert dtypes to floats so we can do math\n",
    "df_MA_sample_2000['MHMVAL00'] = pd.to_numeric(df_MA_sample_2000['MHMVAL00'],errors='coerce')\n",
    "df_MA_sample_2000['MRENT00'] = pd.to_numeric(df_MA_sample_2000['MRENT00'],errors='coerce')"
   ]
  },
  {
   "cell_type": "code",
   "execution_count": 876,
   "metadata": {},
   "outputs": [],
   "source": [
    "# match id column to 2010\n",
    "df_MA_sample_2000.rename(columns={'TRTID10':'tractid'},inplace=True)"
   ]
  },
  {
   "cell_type": "markdown",
   "metadata": {},
   "source": [
    "## File 4: 2010 Census, Short-form questionnaire"
   ]
  },
  {
   "cell_type": "code",
   "execution_count": 877,
   "metadata": {},
   "outputs": [],
   "source": [
    "# import the file\n",
    "df_2010_2 = pd.read_csv('CSV_files/LTDB_Std_2010_Sample.csv',sep=',', engine='python')\n",
    "\n",
    "# subset to MA\n",
    "df_2010_2_MA= df_2010_2[(df_2010_2['statea']==25)]"
   ]
  },
  {
   "cell_type": "code",
   "execution_count": 878,
   "metadata": {},
   "outputs": [],
   "source": [
    "# formatting is slightly different because this data is from the American Community Survey\n",
    "# so we need to amend our lists\n",
    "Cambridge_tracts_ACS = list((range(3522,3531)))+list(((range(3532,3551))))\n",
    "Cambridge_tracts_ACS = [str(x)+'00' for x in Cambridge_tracts_ACS]\n",
    "Cambridge_tracts_ACS = Cambridge_tracts_ACS + ['352101','352102','353102','353101']\n",
    "\n",
    "Brookline_tracts_ACS = list(range(4001,4013))\n",
    "Brookline_tracts_ACS = [str(x)+'00' for x in Brookline_tracts_ACS]\n",
    "\n",
    "Somerville_tracts_ACS = [3507,3508,3505,3504,3506,3503,3502,3513,3511,3510,3509,3515,3501.04,3501.03,3514.03,3512.03,3512.04]\n",
    "Somerville_tracts_ACS = [str(x).replace(\".\",\"\") if str(x).find('.') != -1 else str(x)+'00' for x in Somerville_tracts_ACS]"
   ]
  },
  {
   "cell_type": "code",
   "execution_count": 879,
   "metadata": {},
   "outputs": [
    {
     "name": "stderr",
     "output_type": "stream",
     "text": [
      "/Users/Kristinabarounis/anaconda3/lib/python3.7/site-packages/ipykernel_launcher.py:1: SettingWithCopyWarning: \n",
      "A value is trying to be set on a copy of a slice from a DataFrame.\n",
      "Try using .loc[row_indexer,col_indexer] = value instead\n",
      "\n",
      "See the caveats in the documentation: http://pandas.pydata.org/pandas-docs/stable/indexing.html#indexing-view-versus-copy\n",
      "  \"\"\"Entry point for launching an IPython kernel.\n"
     ]
    }
   ],
   "source": [
    "df_2010_2_MA['tracta'] = df_2010_2_MA['tracta'].astype('str')"
   ]
  },
  {
   "cell_type": "code",
   "execution_count": 880,
   "metadata": {},
   "outputs": [],
   "source": [
    "# get Suffolk County\n",
    "df_MA_sample_2010_1 = df_2010_2_MA[df_2010_2_MA['countya']==25]\n",
    "\n",
    "# get Cambridge\n",
    "df_MA_sample_2010_2=df_2010_2_MA[df_2010_2_MA['tracta'].apply(lambda x: any(tract for tract in Cambridge_tracts_ACS if tract in x))]\n",
    "\n",
    "# get Brookline\n",
    "df_MA_sample_2010_3=df_2010_2_MA[df_2010_2_MA['tracta'].apply(lambda x: any(tract for tract in Brookline_tracts_ACS if tract in x))]\n",
    "\n",
    "# get Somervile\n",
    "df_MA_sample_2010_4=df_2010_2_MA[df_2010_2_MA['tracta'].apply(lambda x: any(tract for tract in Somerville_tracts_ACS if tract in x))]"
   ]
  },
  {
   "cell_type": "code",
   "execution_count": 881,
   "metadata": {},
   "outputs": [
    {
     "name": "stdout",
     "output_type": "stream",
     "text": [
      "(204, 176)\n",
      "(32, 176)\n",
      "(12, 176)\n",
      "(17, 176)\n"
     ]
    }
   ],
   "source": [
    "print(df_MA_sample_2010_1.shape)\n",
    "print(df_MA_sample_2010_2.shape)\n",
    "print(df_MA_sample_2010_3.shape)\n",
    "print(df_MA_sample_2010_4.shape)"
   ]
  },
  {
   "cell_type": "code",
   "execution_count": 882,
   "metadata": {},
   "outputs": [],
   "source": [
    "# merge the 3\n",
    "df_MA_sample_2010= pd.concat([df_MA_sample_2010_1,df_MA_sample_2010_2,df_MA_sample_2010_3,df_MA_sample_2010_4],ignore_index=True)\n",
    "\n",
    "# reset the index\n",
    "df_MA_sample_2010.reset_index(inplace=True, drop=True)"
   ]
  },
  {
   "cell_type": "code",
   "execution_count": 883,
   "metadata": {},
   "outputs": [
    {
     "data": {
      "text/plain": [
       "(265, 176)"
      ]
     },
     "execution_count": 883,
     "metadata": {},
     "output_type": "execute_result"
    }
   ],
   "source": [
    "df_MA_sample_2010.shape"
   ]
  },
  {
   "cell_type": "markdown",
   "metadata": {},
   "source": [
    "### Feature engineering"
   ]
  },
  {
   "cell_type": "code",
   "execution_count": 884,
   "metadata": {},
   "outputs": [],
   "source": [
    "# feature engineer the one column that is missing\n",
    "df_MA_sample_2010['percent_employed12']=100*(df_MA_sample_2010['empclf12']/df_MA_sample_2010['clf12'])"
   ]
  },
  {
   "cell_type": "code",
   "execution_count": 885,
   "metadata": {},
   "outputs": [],
   "source": [
    "# force these to be in the same order as the 2000 sample file\n",
    "df_MA_sample_2010 = df_MA_sample_2010[['tractid','incpc12','mhmval12','mrent12','pfb12','pnat12','p10imm12','polang12','phs12','pcol12','pmar12',\n",
    "                 'punemp12','percent_employed12','pprof12','pmanuf12','psemp12','ppov12','p30old12','pmulti12']]"
   ]
  },
  {
   "cell_type": "markdown",
   "metadata": {},
   "source": [
    "## Percentage change 2000-2000, short-form questionnaire"
   ]
  },
  {
   "cell_type": "code",
   "execution_count": 947,
   "metadata": {},
   "outputs": [],
   "source": [
    "# merge so we can calculate % change\n",
    "df_joined_sample = df_MA_sample_2000.merge(df_MA_sample_2010, on='tractid')"
   ]
  },
  {
   "cell_type": "code",
   "execution_count": 948,
   "metadata": {},
   "outputs": [
    {
     "data": {
      "text/plain": [
       "(264, 37)"
      ]
     },
     "execution_count": 948,
     "metadata": {},
     "output_type": "execute_result"
    }
   ],
   "source": [
    "df_joined_sample.shape"
   ]
  },
  {
   "cell_type": "code",
   "execution_count": 949,
   "metadata": {},
   "outputs": [
    {
     "name": "stderr",
     "output_type": "stream",
     "text": [
      "/Users/Kristinabarounis/anaconda3/lib/python3.7/site-packages/ipykernel_launcher.py:10: RuntimeWarning: divide by zero encountered in double_scalars\n",
      "  # Remove the CWD from sys.path while we load stuff.\n"
     ]
    }
   ],
   "source": [
    "# this is where 2000 data starts \n",
    "i = 1\n",
    "# this is where 2010 data starts\n",
    "j = 19\n",
    "# stop once you get to final column\n",
    "while j < 37:\n",
    "\n",
    "    df_joined_sample[f'{df_joined_sample.columns[i]}_PC'] = df_joined_sample.iloc[:,1:].apply(lambda x: 100*\n",
    "                                    ((x[df_joined_sample.columns[j]]-x[df_joined_sample.columns[i]])\n",
    "                                     /x[df_joined_sample.columns[i]]),axis=1)\n",
    "        \n",
    "    i +=1\n",
    "    j +=1"
   ]
  },
  {
   "cell_type": "code",
   "execution_count": 950,
   "metadata": {},
   "outputs": [
    {
     "data": {
      "text/html": [
       "<div>\n",
       "<style scoped>\n",
       "    .dataframe tbody tr th:only-of-type {\n",
       "        vertical-align: middle;\n",
       "    }\n",
       "\n",
       "    .dataframe tbody tr th {\n",
       "        vertical-align: top;\n",
       "    }\n",
       "\n",
       "    .dataframe thead th {\n",
       "        text-align: right;\n",
       "    }\n",
       "</style>\n",
       "<table border=\"1\" class=\"dataframe\">\n",
       "  <thead>\n",
       "    <tr style=\"text-align: right;\">\n",
       "      <th></th>\n",
       "      <th>tractid</th>\n",
       "      <th>INCPC00</th>\n",
       "      <th>MHMVAL00</th>\n",
       "      <th>MRENT00</th>\n",
       "      <th>percent_foreign_born</th>\n",
       "      <th>percent_naturalized</th>\n",
       "      <th>percent_recent_immigrants(10)</th>\n",
       "      <th>percent_other_languages</th>\n",
       "      <th>percent_hs_degree_orless</th>\n",
       "      <th>percent_4yrcollege_degree_ormore</th>\n",
       "      <th>percent_married</th>\n",
       "      <th>percent_unemployed</th>\n",
       "      <th>percent_employed</th>\n",
       "      <th>percent_professional</th>\n",
       "      <th>percent_manufacturing</th>\n",
       "      <th>percent_self_employed</th>\n",
       "      <th>percent_poverty</th>\n",
       "      <th>percent_houses_30yrsago</th>\n",
       "      <th>percent_multiunit_houses</th>\n",
       "      <th>incpc12</th>\n",
       "      <th>mhmval12</th>\n",
       "      <th>mrent12</th>\n",
       "      <th>pfb12</th>\n",
       "      <th>pnat12</th>\n",
       "      <th>p10imm12</th>\n",
       "      <th>polang12</th>\n",
       "      <th>phs12</th>\n",
       "      <th>pcol12</th>\n",
       "      <th>pmar12</th>\n",
       "      <th>punemp12</th>\n",
       "      <th>percent_employed12</th>\n",
       "      <th>pprof12</th>\n",
       "      <th>pmanuf12</th>\n",
       "      <th>psemp12</th>\n",
       "      <th>ppov12</th>\n",
       "      <th>p30old12</th>\n",
       "      <th>pmulti12</th>\n",
       "      <th>INCPC00_PC</th>\n",
       "      <th>MHMVAL00_PC</th>\n",
       "      <th>MRENT00_PC</th>\n",
       "      <th>percent_foreign_born_PC</th>\n",
       "      <th>percent_naturalized_PC</th>\n",
       "      <th>percent_recent_immigrants(10)_PC</th>\n",
       "      <th>percent_other_languages_PC</th>\n",
       "      <th>percent_hs_degree_orless_PC</th>\n",
       "      <th>percent_4yrcollege_degree_ormore_PC</th>\n",
       "      <th>percent_married_PC</th>\n",
       "      <th>percent_unemployed_PC</th>\n",
       "      <th>percent_employed_PC</th>\n",
       "      <th>percent_professional_PC</th>\n",
       "      <th>percent_manufacturing_PC</th>\n",
       "      <th>percent_self_employed_PC</th>\n",
       "      <th>percent_poverty_PC</th>\n",
       "      <th>percent_houses_30yrsago_PC</th>\n",
       "      <th>percent_multiunit_houses_PC</th>\n",
       "    </tr>\n",
       "  </thead>\n",
       "  <tbody>\n",
       "    <tr>\n",
       "      <th>0</th>\n",
       "      <td>25025000100</td>\n",
       "      <td>21999.00000</td>\n",
       "      <td>222100.0000</td>\n",
       "      <td>898.000000</td>\n",
       "      <td>26.033266</td>\n",
       "      <td>11.265121</td>\n",
       "      <td>10.509073</td>\n",
       "      <td>34.381663</td>\n",
       "      <td>43.822674</td>\n",
       "      <td>40.988372</td>\n",
       "      <td>32.633698</td>\n",
       "      <td>4.170074</td>\n",
       "      <td>95.829926</td>\n",
       "      <td>41.894198</td>\n",
       "      <td>5.588737</td>\n",
       "      <td>11.348123</td>\n",
       "      <td>13.463986</td>\n",
       "      <td>81.412639</td>\n",
       "      <td>85.439901</td>\n",
       "      <td>27564</td>\n",
       "      <td>348200</td>\n",
       "      <td>1348</td>\n",
       "      <td>29.030001</td>\n",
       "      <td>15.30</td>\n",
       "      <td>9.48</td>\n",
       "      <td>38.450001</td>\n",
       "      <td>54.939999</td>\n",
       "      <td>30.780001</td>\n",
       "      <td>27.690001</td>\n",
       "      <td>6.06</td>\n",
       "      <td>94.380531</td>\n",
       "      <td>22.500000</td>\n",
       "      <td>7.83</td>\n",
       "      <td>7.13</td>\n",
       "      <td>14.660000</td>\n",
       "      <td>94.529999</td>\n",
       "      <td>78.639999</td>\n",
       "      <td>25.296604</td>\n",
       "      <td>56.776227</td>\n",
       "      <td>50.111359</td>\n",
       "      <td>11.511174</td>\n",
       "      <td>35.817451</td>\n",
       "      <td>-9.792235</td>\n",
       "      <td>11.832870</td>\n",
       "      <td>25.368886</td>\n",
       "      <td>-24.905530</td>\n",
       "      <td>-15.149056</td>\n",
       "      <td>45.321175</td>\n",
       "      <td>-1.512466</td>\n",
       "      <td>-46.293279</td>\n",
       "      <td>40.103205</td>\n",
       "      <td>-37.170225</td>\n",
       "      <td>8.883061</td>\n",
       "      <td>16.112190</td>\n",
       "      <td>-7.958695</td>\n",
       "    </tr>\n",
       "    <tr>\n",
       "      <th>1</th>\n",
       "      <td>25025000201</td>\n",
       "      <td>27675.00000</td>\n",
       "      <td>265600.0000</td>\n",
       "      <td>991.000000</td>\n",
       "      <td>25.752508</td>\n",
       "      <td>11.757139</td>\n",
       "      <td>11.474145</td>\n",
       "      <td>26.682565</td>\n",
       "      <td>29.159148</td>\n",
       "      <td>47.347528</td>\n",
       "      <td>29.920590</td>\n",
       "      <td>1.925134</td>\n",
       "      <td>98.074866</td>\n",
       "      <td>49.109415</td>\n",
       "      <td>8.106143</td>\n",
       "      <td>6.288622</td>\n",
       "      <td>8.696774</td>\n",
       "      <td>92.630241</td>\n",
       "      <td>80.813215</td>\n",
       "      <td>38128</td>\n",
       "      <td>532000</td>\n",
       "      <td>1405</td>\n",
       "      <td>25.129999</td>\n",
       "      <td>14.55</td>\n",
       "      <td>7.07</td>\n",
       "      <td>29.030001</td>\n",
       "      <td>32.290001</td>\n",
       "      <td>53.320000</td>\n",
       "      <td>27.059999</td>\n",
       "      <td>1.89</td>\n",
       "      <td>98.404032</td>\n",
       "      <td>45.750000</td>\n",
       "      <td>5.98</td>\n",
       "      <td>8.02</td>\n",
       "      <td>10.130000</td>\n",
       "      <td>95.980003</td>\n",
       "      <td>83.279999</td>\n",
       "      <td>37.770551</td>\n",
       "      <td>100.301205</td>\n",
       "      <td>41.775984</td>\n",
       "      <td>-2.417276</td>\n",
       "      <td>23.754597</td>\n",
       "      <td>-38.383205</td>\n",
       "      <td>8.797639</td>\n",
       "      <td>10.737119</td>\n",
       "      <td>12.614115</td>\n",
       "      <td>-9.560608</td>\n",
       "      <td>-1.825001</td>\n",
       "      <td>0.335627</td>\n",
       "      <td>-6.840674</td>\n",
       "      <td>-26.228789</td>\n",
       "      <td>27.531915</td>\n",
       "      <td>16.479972</td>\n",
       "      <td>3.616272</td>\n",
       "      <td>3.052451</td>\n",
       "    </tr>\n",
       "    <tr>\n",
       "      <th>2</th>\n",
       "      <td>25025000202</td>\n",
       "      <td>23602.00000</td>\n",
       "      <td>276700.0000</td>\n",
       "      <td>820.000000</td>\n",
       "      <td>33.248408</td>\n",
       "      <td>15.312102</td>\n",
       "      <td>14.394904</td>\n",
       "      <td>36.802373</td>\n",
       "      <td>43.316100</td>\n",
       "      <td>38.810931</td>\n",
       "      <td>39.981813</td>\n",
       "      <td>2.715725</td>\n",
       "      <td>97.284275</td>\n",
       "      <td>47.996398</td>\n",
       "      <td>7.744259</td>\n",
       "      <td>5.718145</td>\n",
       "      <td>12.193878</td>\n",
       "      <td>96.503958</td>\n",
       "      <td>79.947230</td>\n",
       "      <td>29292</td>\n",
       "      <td>432800</td>\n",
       "      <td>1299</td>\n",
       "      <td>36.240002</td>\n",
       "      <td>17.66</td>\n",
       "      <td>12.23</td>\n",
       "      <td>41.509998</td>\n",
       "      <td>32.820000</td>\n",
       "      <td>43.119999</td>\n",
       "      <td>33.090000</td>\n",
       "      <td>9.60</td>\n",
       "      <td>91.285081</td>\n",
       "      <td>45.950001</td>\n",
       "      <td>1.62</td>\n",
       "      <td>8.85</td>\n",
       "      <td>18.200001</td>\n",
       "      <td>96.260002</td>\n",
       "      <td>78.570000</td>\n",
       "      <td>24.108126</td>\n",
       "      <td>56.414890</td>\n",
       "      <td>58.414634</td>\n",
       "      <td>8.997706</td>\n",
       "      <td>15.333610</td>\n",
       "      <td>-15.039384</td>\n",
       "      <td>12.791636</td>\n",
       "      <td>-24.231407</td>\n",
       "      <td>11.102718</td>\n",
       "      <td>-17.237369</td>\n",
       "      <td>253.496788</td>\n",
       "      <td>-6.166663</td>\n",
       "      <td>-4.263648</td>\n",
       "      <td>-79.081279</td>\n",
       "      <td>54.770479</td>\n",
       "      <td>49.255236</td>\n",
       "      <td>-0.252793</td>\n",
       "      <td>-1.722674</td>\n",
       "    </tr>\n",
       "    <tr>\n",
       "      <th>3</th>\n",
       "      <td>25025000301</td>\n",
       "      <td>24920.00000</td>\n",
       "      <td>214400.0000</td>\n",
       "      <td>971.000000</td>\n",
       "      <td>24.391105</td>\n",
       "      <td>12.213202</td>\n",
       "      <td>11.436640</td>\n",
       "      <td>21.726079</td>\n",
       "      <td>36.535797</td>\n",
       "      <td>44.618938</td>\n",
       "      <td>33.253205</td>\n",
       "      <td>1.617735</td>\n",
       "      <td>98.382265</td>\n",
       "      <td>53.349574</td>\n",
       "      <td>3.958587</td>\n",
       "      <td>7.003654</td>\n",
       "      <td>8.985399</td>\n",
       "      <td>86.307420</td>\n",
       "      <td>79.063604</td>\n",
       "      <td>41955</td>\n",
       "      <td>409700</td>\n",
       "      <td>1469</td>\n",
       "      <td>15.200000</td>\n",
       "      <td>6.10</td>\n",
       "      <td>6.10</td>\n",
       "      <td>19.830000</td>\n",
       "      <td>26.520000</td>\n",
       "      <td>61.369999</td>\n",
       "      <td>34.970001</td>\n",
       "      <td>4.36</td>\n",
       "      <td>97.350649</td>\n",
       "      <td>63.820000</td>\n",
       "      <td>5.92</td>\n",
       "      <td>7.74</td>\n",
       "      <td>8.990000</td>\n",
       "      <td>93.970001</td>\n",
       "      <td>76.589996</td>\n",
       "      <td>68.358748</td>\n",
       "      <td>91.091418</td>\n",
       "      <td>51.287333</td>\n",
       "      <td>-37.682200</td>\n",
       "      <td>-50.054047</td>\n",
       "      <td>-46.662655</td>\n",
       "      <td>-8.727202</td>\n",
       "      <td>-27.413652</td>\n",
       "      <td>37.542492</td>\n",
       "      <td>5.162799</td>\n",
       "      <td>169.512601</td>\n",
       "      <td>-1.048579</td>\n",
       "      <td>19.626072</td>\n",
       "      <td>49.548310</td>\n",
       "      <td>10.513736</td>\n",
       "      <td>0.051206</td>\n",
       "      <td>8.878241</td>\n",
       "      <td>-3.128630</td>\n",
       "    </tr>\n",
       "    <tr>\n",
       "      <th>4</th>\n",
       "      <td>25025000302</td>\n",
       "      <td>35207.00128</td>\n",
       "      <td>259499.9961</td>\n",
       "      <td>1240.999993</td>\n",
       "      <td>25.428194</td>\n",
       "      <td>16.633729</td>\n",
       "      <td>7.312253</td>\n",
       "      <td>21.293800</td>\n",
       "      <td>25.886993</td>\n",
       "      <td>57.424443</td>\n",
       "      <td>33.655568</td>\n",
       "      <td>3.502130</td>\n",
       "      <td>96.497870</td>\n",
       "      <td>59.097599</td>\n",
       "      <td>9.612556</td>\n",
       "      <td>5.738107</td>\n",
       "      <td>5.566535</td>\n",
       "      <td>79.821962</td>\n",
       "      <td>81.379821</td>\n",
       "      <td>35219</td>\n",
       "      <td>322200</td>\n",
       "      <td>1436</td>\n",
       "      <td>34.490002</td>\n",
       "      <td>13.92</td>\n",
       "      <td>17.90</td>\n",
       "      <td>42.180000</td>\n",
       "      <td>31.459999</td>\n",
       "      <td>56.759998</td>\n",
       "      <td>33.619999</td>\n",
       "      <td>3.02</td>\n",
       "      <td>97.389969</td>\n",
       "      <td>56.020000</td>\n",
       "      <td>5.47</td>\n",
       "      <td>2.68</td>\n",
       "      <td>16.740000</td>\n",
       "      <td>94.820000</td>\n",
       "      <td>75.019997</td>\n",
       "      <td>0.034080</td>\n",
       "      <td>24.161852</td>\n",
       "      <td>15.713135</td>\n",
       "      <td>35.636849</td>\n",
       "      <td>-16.314614</td>\n",
       "      <td>144.794584</td>\n",
       "      <td>98.085829</td>\n",
       "      <td>21.528211</td>\n",
       "      <td>-1.157077</td>\n",
       "      <td>-0.105685</td>\n",
       "      <td>-13.766754</td>\n",
       "      <td>0.924476</td>\n",
       "      <td>-5.207653</td>\n",
       "      <td>-43.095260</td>\n",
       "      <td>-53.294700</td>\n",
       "      <td>200.725668</td>\n",
       "      <td>18.789363</td>\n",
       "      <td>-7.814990</td>\n",
       "    </tr>\n",
       "  </tbody>\n",
       "</table>\n",
       "</div>"
      ],
      "text/plain": [
       "       tractid      INCPC00     MHMVAL00      MRENT00  percent_foreign_born  \\\n",
       "0  25025000100  21999.00000  222100.0000   898.000000             26.033266   \n",
       "1  25025000201  27675.00000  265600.0000   991.000000             25.752508   \n",
       "2  25025000202  23602.00000  276700.0000   820.000000             33.248408   \n",
       "3  25025000301  24920.00000  214400.0000   971.000000             24.391105   \n",
       "4  25025000302  35207.00128  259499.9961  1240.999993             25.428194   \n",
       "\n",
       "   percent_naturalized  percent_recent_immigrants(10)  \\\n",
       "0            11.265121                      10.509073   \n",
       "1            11.757139                      11.474145   \n",
       "2            15.312102                      14.394904   \n",
       "3            12.213202                      11.436640   \n",
       "4            16.633729                       7.312253   \n",
       "\n",
       "   percent_other_languages  percent_hs_degree_orless  \\\n",
       "0                34.381663                 43.822674   \n",
       "1                26.682565                 29.159148   \n",
       "2                36.802373                 43.316100   \n",
       "3                21.726079                 36.535797   \n",
       "4                21.293800                 25.886993   \n",
       "\n",
       "   percent_4yrcollege_degree_ormore  percent_married  percent_unemployed  \\\n",
       "0                         40.988372        32.633698            4.170074   \n",
       "1                         47.347528        29.920590            1.925134   \n",
       "2                         38.810931        39.981813            2.715725   \n",
       "3                         44.618938        33.253205            1.617735   \n",
       "4                         57.424443        33.655568            3.502130   \n",
       "\n",
       "   percent_employed  percent_professional  percent_manufacturing  \\\n",
       "0         95.829926             41.894198               5.588737   \n",
       "1         98.074866             49.109415               8.106143   \n",
       "2         97.284275             47.996398               7.744259   \n",
       "3         98.382265             53.349574               3.958587   \n",
       "4         96.497870             59.097599               9.612556   \n",
       "\n",
       "   percent_self_employed  percent_poverty  percent_houses_30yrsago  \\\n",
       "0              11.348123        13.463986                81.412639   \n",
       "1               6.288622         8.696774                92.630241   \n",
       "2               5.718145        12.193878                96.503958   \n",
       "3               7.003654         8.985399                86.307420   \n",
       "4               5.738107         5.566535                79.821962   \n",
       "\n",
       "   percent_multiunit_houses  incpc12  mhmval12  mrent12      pfb12  pnat12  \\\n",
       "0                 85.439901    27564    348200     1348  29.030001   15.30   \n",
       "1                 80.813215    38128    532000     1405  25.129999   14.55   \n",
       "2                 79.947230    29292    432800     1299  36.240002   17.66   \n",
       "3                 79.063604    41955    409700     1469  15.200000    6.10   \n",
       "4                 81.379821    35219    322200     1436  34.490002   13.92   \n",
       "\n",
       "   p10imm12   polang12      phs12     pcol12     pmar12  punemp12  \\\n",
       "0      9.48  38.450001  54.939999  30.780001  27.690001      6.06   \n",
       "1      7.07  29.030001  32.290001  53.320000  27.059999      1.89   \n",
       "2     12.23  41.509998  32.820000  43.119999  33.090000      9.60   \n",
       "3      6.10  19.830000  26.520000  61.369999  34.970001      4.36   \n",
       "4     17.90  42.180000  31.459999  56.759998  33.619999      3.02   \n",
       "\n",
       "   percent_employed12    pprof12  pmanuf12  psemp12     ppov12   p30old12  \\\n",
       "0           94.380531  22.500000      7.83     7.13  14.660000  94.529999   \n",
       "1           98.404032  45.750000      5.98     8.02  10.130000  95.980003   \n",
       "2           91.285081  45.950001      1.62     8.85  18.200001  96.260002   \n",
       "3           97.350649  63.820000      5.92     7.74   8.990000  93.970001   \n",
       "4           97.389969  56.020000      5.47     2.68  16.740000  94.820000   \n",
       "\n",
       "    pmulti12  INCPC00_PC  MHMVAL00_PC  MRENT00_PC  percent_foreign_born_PC  \\\n",
       "0  78.639999   25.296604    56.776227   50.111359                11.511174   \n",
       "1  83.279999   37.770551   100.301205   41.775984                -2.417276   \n",
       "2  78.570000   24.108126    56.414890   58.414634                 8.997706   \n",
       "3  76.589996   68.358748    91.091418   51.287333               -37.682200   \n",
       "4  75.019997    0.034080    24.161852   15.713135                35.636849   \n",
       "\n",
       "   percent_naturalized_PC  percent_recent_immigrants(10)_PC  \\\n",
       "0               35.817451                         -9.792235   \n",
       "1               23.754597                        -38.383205   \n",
       "2               15.333610                        -15.039384   \n",
       "3              -50.054047                        -46.662655   \n",
       "4              -16.314614                        144.794584   \n",
       "\n",
       "   percent_other_languages_PC  percent_hs_degree_orless_PC  \\\n",
       "0                   11.832870                    25.368886   \n",
       "1                    8.797639                    10.737119   \n",
       "2                   12.791636                   -24.231407   \n",
       "3                   -8.727202                   -27.413652   \n",
       "4                   98.085829                    21.528211   \n",
       "\n",
       "   percent_4yrcollege_degree_ormore_PC  percent_married_PC  \\\n",
       "0                           -24.905530          -15.149056   \n",
       "1                            12.614115           -9.560608   \n",
       "2                            11.102718          -17.237369   \n",
       "3                            37.542492            5.162799   \n",
       "4                            -1.157077           -0.105685   \n",
       "\n",
       "   percent_unemployed_PC  percent_employed_PC  percent_professional_PC  \\\n",
       "0              45.321175            -1.512466               -46.293279   \n",
       "1              -1.825001             0.335627                -6.840674   \n",
       "2             253.496788            -6.166663                -4.263648   \n",
       "3             169.512601            -1.048579                19.626072   \n",
       "4             -13.766754             0.924476                -5.207653   \n",
       "\n",
       "   percent_manufacturing_PC  percent_self_employed_PC  percent_poverty_PC  \\\n",
       "0                 40.103205                -37.170225            8.883061   \n",
       "1                -26.228789                 27.531915           16.479972   \n",
       "2                -79.081279                 54.770479           49.255236   \n",
       "3                 49.548310                 10.513736            0.051206   \n",
       "4                -43.095260                -53.294700          200.725668   \n",
       "\n",
       "   percent_houses_30yrsago_PC  percent_multiunit_houses_PC  \n",
       "0                   16.112190                    -7.958695  \n",
       "1                    3.616272                     3.052451  \n",
       "2                   -0.252793                    -1.722674  \n",
       "3                    8.878241                    -3.128630  \n",
       "4                   18.789363                    -7.814990  "
      ]
     },
     "execution_count": 950,
     "metadata": {},
     "output_type": "execute_result"
    }
   ],
   "source": [
    "df_joined_sample.head()"
   ]
  },
  {
   "cell_type": "code",
   "execution_count": 951,
   "metadata": {},
   "outputs": [],
   "source": [
    "df_joined_sample.to_csv('CSV_files/Sample_count_census_changes.csv')"
   ]
  }
 ],
 "metadata": {
  "kernelspec": {
   "display_name": "Python 3",
   "language": "python",
   "name": "python3"
  },
  "language_info": {
   "codemirror_mode": {
    "name": "ipython",
    "version": 3
   },
   "file_extension": ".py",
   "mimetype": "text/x-python",
   "name": "python",
   "nbconvert_exporter": "python",
   "pygments_lexer": "ipython3",
   "version": "3.7.3"
  }
 },
 "nbformat": 4,
 "nbformat_minor": 2
}
