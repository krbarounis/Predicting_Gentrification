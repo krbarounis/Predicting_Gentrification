{
 "cells": [
  {
   "cell_type": "markdown",
   "metadata": {},
   "source": [
    "# Census Data"
   ]
  },
  {
   "cell_type": "markdown",
   "metadata": {},
   "source": [
    "This notebook imports 4 csv files from the Longitudinal Tract Data Base (LTDB, http://www.s4.brown.edu/us2010/Researcher/Bridging.htm) which contain census data from 2000 and 2010. After a number of pre-processing steps, including filtering for census tracts in Suffolk County, MA, I calculate the percentage change between the two censuses with an end goal of predicting gentrifying census tracts based on trends between censuses."
   ]
  },
  {
   "cell_type": "code",
   "execution_count": null,
   "metadata": {},
   "outputs": [],
   "source": [
    "import pandas as pd\n",
    "pd.set_option('display.max_rows',None)\n",
    "pd.set_option('display.max_columns',None)"
   ]
  },
  {
   "cell_type": "markdown",
   "metadata": {},
   "source": [
    "## File 1: 2000 Census, Long-form questionnaire"
   ]
  },
  {
   "cell_type": "markdown",
   "metadata": {},
   "source": [
    "### Pre-processing"
   ]
  },
  {
   "cell_type": "code",
   "execution_count": null,
   "metadata": {},
   "outputs": [],
   "source": [
    "# import file\n",
    "df_2000 = pd.read_csv('CSV_files/LTDB_Std_2000_fullcount.csv',sep=',', engine='python')\n",
    "\n",
    "# subset the dataframe to Massachusetts\n",
    "df_2000_MA = df_2000[(df_2000['state']=='MA')]\n",
    "\n",
    "# subset the dataframe to Suffolk County\n",
    "df_MA_full_2000= df_2000_MA[df_2000_MA['county']=='Suffolk County']"
   ]
  },
  {
   "cell_type": "code",
   "execution_count": null,
   "metadata": {},
   "outputs": [],
   "source": [
    "# drop irrelevant columns\n",
    "df_MA_full_2000.drop(columns=['placefp10','cbsa10','metdiv10','ccflag10'],axis=1,inplace=True)\n",
    "\n",
    "# reset the index\n",
    "df_MA_full_2000.reset_index(inplace=True, drop=True)"
   ]
  },
  {
   "cell_type": "code",
   "execution_count": null,
   "metadata": {},
   "outputs": [],
   "source": [
    "# rename tract id column\n",
    "df_MA_full_2000.rename(columns={'TRTID10':'tractid'},inplace=True)"
   ]
  },
  {
   "cell_type": "markdown",
   "metadata": {},
   "source": [
    "### Feature engineering"
   ]
  },
  {
   "cell_type": "code",
   "execution_count": null,
   "metadata": {},
   "outputs": [],
   "source": [
    "# calculate percentages of population for each category - currently they are listed as values but we want\n",
    "# to know how much of the population each group comrpises because that gives more context than standalone values\n",
    "\n",
    "df_MA_full_2000['percent_white00']=100*df_MA_full_2000['NHWHT00']/df_MA_full_2000['POP00']\n",
    "df_MA_full_2000['percent_black00']=100*df_MA_full_2000['NHBLK00']/df_MA_full_2000['POP00']\n",
    "df_MA_full_2000['percent_asian00']=100*df_MA_full_2000['ASIAN00']/df_MA_full_2000['POP00']\n",
    "df_MA_full_2000['percent_hispanic00']=100*df_MA_full_2000['HISP00']/df_MA_full_2000['POP00']\n",
    "df_MA_full_2000['percent_indian00']=100*df_MA_full_2000['INDIA00']/df_MA_full_2000['POP00']\n",
    "df_MA_full_2000['percent_chinese00']=100*df_MA_full_2000['CHINA00']/df_MA_full_2000['POP00']\n",
    "df_MA_full_2000['percent_filip00']=100*df_MA_full_2000['FILIP00']/df_MA_full_2000['POP00']\n",
    "df_MA_full_2000['percent_japan00']=100*df_MA_full_2000['JAPAN00']/df_MA_full_2000['POP00']\n",
    "df_MA_full_2000['percent_korean00']=100*df_MA_full_2000['KOREA00']/df_MA_full_2000['POP00']\n",
    "df_MA_full_2000['percent_viet00']=100*df_MA_full_2000['VIET00']/df_MA_full_2000['POP00']\n",
    "df_MA_full_2000['percent_mex00']=100*df_MA_full_2000['MEX00']/df_MA_full_2000['POP00']\n",
    "df_MA_full_2000['percent_pr00']=100*df_MA_full_2000['PR00']/df_MA_full_2000['POP00']\n",
    "df_MA_full_2000['percent_cuban00']=100*df_MA_full_2000['CUBAN00']/df_MA_full_2000['POP00']\n",
    "df_MA_full_2000['percent_vacant_housing00']=100*df_MA_full_2000['VAC00']/df_MA_full_2000['HU00']\n",
    "df_MA_full_2000['percent_occupied_housing00']=100*df_MA_full_2000['OHU00']/df_MA_full_2000['HU00']\n",
    "df_MA_full_2000['percent_under18_00']=100*df_MA_full_2000['A18UND00']/df_MA_full_2000['POP00']\n",
    "df_MA_full_2000['percent_60andup_00']=100*df_MA_full_2000['A60UP00']/df_MA_full_2000['POP00']\n",
    "df_MA_full_2000['percent_75andup_00']=100*df_MA_full_2000['A75UP00']/df_MA_full_2000['POP00']\n",
    "df_MA_full_2000['percent_owneroccupied_00']=100*df_MA_full_2000['OWN00']/df_MA_full_2000['HU00']\n",
    "df_MA_full_2000['percent_renteroccupied_00']=100*df_MA_full_2000['RENT00']/df_MA_full_2000['HU00']"
   ]
  },
  {
   "cell_type": "code",
   "execution_count": null,
   "metadata": {},
   "outputs": [],
   "source": [
    "# let's recreate the race buckets into \"percent white\" and \"percent non-white\" \n",
    "# this is a variable we ultimately want to incldue in our model\n",
    "\n",
    "df_MA_full_2000['percent_non-white00'] = 100*(df_MA_full_2000.iloc[:,6:20].sum(1)/df_MA_full_2000['POP00'])"
   ]
  },
  {
   "cell_type": "code",
   "execution_count": null,
   "metadata": {},
   "outputs": [],
   "source": [
    "# now lets drop all other columns we don't need\n",
    "df_MA_full_2000.drop(df_MA_full_2000.columns[5:47],axis=1,inplace=True)"
   ]
  },
  {
   "cell_type": "code",
   "execution_count": null,
   "metadata": {},
   "outputs": [],
   "source": [
    "# save to csv for classification model\n",
    "df_MA_full_2000.to_csv('CSV_files/Final_2000_data.csv')"
   ]
  },
  {
   "cell_type": "markdown",
   "metadata": {},
   "source": [
    "## File 1: 2010 Census, Long-form questionnaire"
   ]
  },
  {
   "cell_type": "markdown",
   "metadata": {},
   "source": [
    "### Pre-processing"
   ]
  },
  {
   "cell_type": "code",
   "execution_count": null,
   "metadata": {},
   "outputs": [],
   "source": [
    "# import file\n",
    "df_2010 = pd.read_csv('CSV_files/LTDB_Std_2010_fullcount.csv',sep=',', engine='python')\n",
    "\n",
    "# subset dataframe to MA\n",
    "df_2010_MA = df_2010[(df_2010['state']=='MA')]\n",
    "\n",
    "# subset datframe to Suffolk County\n",
    "df_MA_full_2010 = df_2010_MA[df_2010_MA['county']=='Suffolk County']"
   ]
  },
  {
   "cell_type": "code",
   "execution_count": null,
   "metadata": {},
   "outputs": [],
   "source": [
    "# reset the index\n",
    "df_MA_full_2010.reset_index(inplace=True, drop=True)"
   ]
  },
  {
   "cell_type": "markdown",
   "metadata": {},
   "source": [
    "### Feature engineering"
   ]
  },
  {
   "cell_type": "code",
   "execution_count": null,
   "metadata": {},
   "outputs": [],
   "source": [
    "# calculate same features as we did for 2000\n",
    "df_MA_full_2010['percent_white10']=100*df_MA_full_2010['nhwht10']/df_MA_full_2010['pop10']\n",
    "df_MA_full_2010['percent_black10']=100*df_MA_full_2010['nhblk10']/df_MA_full_2010['pop10']\n",
    "df_MA_full_2010['percent_asian10']=100*df_MA_full_2010['asian10']/df_MA_full_2010['pop10']\n",
    "df_MA_full_2010['percent_hispanic10']=100*df_MA_full_2010['hisp10']/df_MA_full_2010['pop10']\n",
    "df_MA_full_2010['percent_indian10']=100*df_MA_full_2010['india10']/df_MA_full_2010['pop10']\n",
    "df_MA_full_2010['percent_chinese10']=100*df_MA_full_2010['china10']/df_MA_full_2010['pop10']\n",
    "df_MA_full_2010['percent_filip10']=100*df_MA_full_2010['filip10']/df_MA_full_2010['pop10']\n",
    "df_MA_full_2010['percent_japan10']=100*df_MA_full_2010['japan10']/df_MA_full_2010['pop10']\n",
    "df_MA_full_2010['percent_korean10']=100*df_MA_full_2010['korea10']/df_MA_full_2010['pop10']\n",
    "df_MA_full_2010['percent_viet10']=100*df_MA_full_2010['viet10']/df_MA_full_2010['pop10']\n",
    "df_MA_full_2010['percent_mex10']=100*df_MA_full_2010['mex10']/df_MA_full_2010['pop10']\n",
    "df_MA_full_2010['percent_pr10']=100*df_MA_full_2010['pr10']/df_MA_full_2010['pop10']\n",
    "df_MA_full_2010['percent_cuban10']=100*df_MA_full_2010['cuban10']/df_MA_full_2010['pop10']\n",
    "df_MA_full_2010['percent_vacant_housing10']=100*df_MA_full_2010['vac10']/df_MA_full_2010['hu10']\n",
    "df_MA_full_2010['percent_occupied_housing10']=100*df_MA_full_2010['ohu10']/df_MA_full_2010['hu10']\n",
    "df_MA_full_2010['percent_under18_10']=100*df_MA_full_2010['a18und10']/df_MA_full_2010['pop10']\n",
    "df_MA_full_2010['percent_60andup_10']=100*df_MA_full_2010['a60up10']/df_MA_full_2010['pop10']\n",
    "df_MA_full_2010['percent_75andup_10']=100*df_MA_full_2010['a75up10']/df_MA_full_2010['pop10']\n",
    "df_MA_full_2010['percent_owneroccupied_10']=100*df_MA_full_2010['own10']/df_MA_full_2010['hu10']\n",
    "df_MA_full_2010['percent_renteroccupied_10']=100*df_MA_full_2010['rent10']/df_MA_full_2010['hu10']"
   ]
  },
  {
   "cell_type": "code",
   "execution_count": null,
   "metadata": {},
   "outputs": [],
   "source": [
    "# let's recreate the race buckets into \"white\" and \"non-white\" as we did with 2000\n",
    "df_MA_full_2010['non-white10'] = 100*(df_MA_full_2010.iloc[:,6:20].sum(1)/df_MA_full_2010['pop10'])"
   ]
  },
  {
   "cell_type": "code",
   "execution_count": null,
   "metadata": {},
   "outputs": [],
   "source": [
    "# now lets drop all other columns\n",
    "df_MA_full_2010.drop(df_MA_full_2010.columns[5:47],axis=1,inplace=True)"
   ]
  },
  {
   "cell_type": "code",
   "execution_count": null,
   "metadata": {},
   "outputs": [],
   "source": [
    "# save to csv for classification model\n",
    "df_MA_full_2010.to_csv('CSV_files/Final_2010_data.csv')"
   ]
  },
  {
   "cell_type": "markdown",
   "metadata": {},
   "source": [
    "## Percentage change 2000-2010, Long-form questionnaire"
   ]
  },
  {
   "cell_type": "code",
   "execution_count": null,
   "metadata": {},
   "outputs": [],
   "source": [
    "## join the 2000 and 2010 dataframes so that we can iterate through and calcualte % changes\n",
    "df_joined = df_MA_full_2000.merge(df_MA_full_2010, on='tractid')"
   ]
  },
  {
   "cell_type": "code",
   "execution_count": null,
   "metadata": {},
   "outputs": [],
   "source": [
    "# drop columns we don't need\n",
    "df_joined.drop(columns=['state_y','county_y','tract_y'],axis=1,inplace=True)"
   ]
  },
  {
   "cell_type": "code",
   "execution_count": null,
   "metadata": {},
   "outputs": [],
   "source": [
    "# run a while loop that calculates the percentage change between 2000 and 2010 data\n",
    "\n",
    "# 2000 starts at column 4\n",
    "i = 4\n",
    "# 2010 starts at column 26\n",
    "j = 26\n",
    "# stop once you get to final column\n",
    "while j < 48:\n",
    "    try:\n",
    "        # formula for calculating percent change: 100 * (new value - initial value) / initial value\n",
    "        df_joined[f'{df_joined.columns[i]}_PC'] = df_joined.iloc[:,4:].apply(lambda x: 100*\n",
    "                                    ((x[df_joined.columns[j]]-x[df_joined.columns[i]])\n",
    "                                   /x[df_joined.columns[i]]),axis=1)\n",
    "    # if denominator is 0, just assign a 0 to the value    \n",
    "    except ZeroDivisionError:\n",
    "        0\n",
    "    # increment i and j to go to next columns    \n",
    "    i +=1\n",
    "    j +=1"
   ]
  },
  {
   "cell_type": "code",
   "execution_count": null,
   "metadata": {},
   "outputs": [],
   "source": [
    "# save this to a csv for clustering\n",
    "df_joined.to_csv('CSV_files/Full_count_census_changes.csv')"
   ]
  },
  {
   "cell_type": "markdown",
   "metadata": {},
   "source": [
    "## File 3: 2000 Census, Short-form questionnaire"
   ]
  },
  {
   "cell_type": "markdown",
   "metadata": {},
   "source": [
    "### Pre-processing"
   ]
  },
  {
   "cell_type": "code",
   "execution_count": null,
   "metadata": {},
   "outputs": [],
   "source": [
    "# import the file\n",
    "df_2000_2 = pd.read_csv('CSV_files/LTDB_Std_2000_Sample.csv',sep=',', engine='python')\n",
    "\n",
    "# subset to MA\n",
    "df_2000_MA_2 = df_2000_2[(df_2000_2['state']=='MA')]\n",
    "\n",
    "# get Suffolk County\n",
    "df_MA_sample_2000 = df_2000_MA_2[df_2000_MA_2['county']=='Suffolk County']"
   ]
  },
  {
   "cell_type": "code",
   "execution_count": null,
   "metadata": {},
   "outputs": [],
   "source": [
    "# reset the index\n",
    "df_MA_sample_2000.reset_index(inplace=True, drop=True)\n",
    "\n",
    "# drop irrelevant columns\n",
    "df_MA_sample_2000.drop(columns=['placefp10','cbsa10','metdiv10','ccflag10'],axis=1,inplace=True)\n",
    "df_MA_sample_2000.drop(columns=['state','county','tract'],axis=1,inplace=True)"
   ]
  },
  {
   "cell_type": "code",
   "execution_count": null,
   "metadata": {},
   "outputs": [],
   "source": [
    "# drop ethnic groups - this isn't super relevant for gentrification\n",
    "df_MA_sample_2000.drop(df_MA_sample_2000.columns[2:12],axis=1,inplace=True)"
   ]
  },
  {
   "cell_type": "code",
   "execution_count": null,
   "metadata": {},
   "outputs": [],
   "source": [
    "# drop columns that are not variables in 2010\n",
    "df_MA_sample_2000.drop(columns=['DIS00','CNI16U00'],axis=1,inplace=True)"
   ]
  },
  {
   "cell_type": "markdown",
   "metadata": {},
   "source": [
    "### Feature engineering"
   ]
  },
  {
   "cell_type": "code",
   "execution_count": null,
   "metadata": {},
   "outputs": [],
   "source": [
    "# calculate percentages of population for each category\n",
    "\n",
    "df_MA_sample_2000['percent_foreign_born']=100*df_MA_sample_2000['FB00']/df_MA_sample_2000['POP00SF3']\n",
    "df_MA_sample_2000['percent_naturalized']=100*df_MA_sample_2000['NAT00']/df_MA_sample_2000['POP00SF3']\n",
    "df_MA_sample_2000['percent_recent_immigrants(10)']=100*df_MA_sample_2000['N10IMM00']/df_MA_sample_2000['POP00SF3']\n",
    "df_MA_sample_2000['percent_other_languages']=100*df_MA_sample_2000['OLANG00']/df_MA_sample_2000['AG5UP00']\n",
    "df_MA_sample_2000['percent_hs_degree_orless']=100*df_MA_sample_2000['HS00']/df_MA_sample_2000['AG25UP00']\n",
    "df_MA_sample_2000['percent_4yrcollege_degree_ormore']=100*df_MA_sample_2000['COL00']/df_MA_sample_2000['AG25UP00']\n",
    "df_MA_sample_2000['percent_married']=100*df_MA_sample_2000['Mar-00']/df_MA_sample_2000['AG15UP00']\n",
    "df_MA_sample_2000['percent_unemployed']=100*df_MA_sample_2000['UNEMP00']/df_MA_sample_2000['CLF00']\n",
    "df_MA_sample_2000['percent_employed']=100*df_MA_sample_2000['EMPCLF00']/df_MA_sample_2000['CLF00']\n",
    "df_MA_sample_2000['percent_professional']=100*df_MA_sample_2000['PROF00']/df_MA_sample_2000['EMPCLF00']\n",
    "df_MA_sample_2000['percent_manufacturing']=100*df_MA_sample_2000['MANUF00']/df_MA_sample_2000['EMPCLF00']\n",
    "df_MA_sample_2000['percent_self_employed']=100*df_MA_sample_2000['SEMP00']/df_MA_sample_2000['EMPCLF00']\n",
    "df_MA_sample_2000['percent_poverty']=100*df_MA_sample_2000['NPOV00']/df_MA_sample_2000['DPOV00']\n",
    "df_MA_sample_2000['percent_houses_30yrsago']=100*df_MA_sample_2000['H30OLD00']/df_MA_sample_2000['DMULTI00']\n",
    "df_MA_sample_2000['percent_multiunit_houses']=100*df_MA_sample_2000['MULTI00']/df_MA_sample_2000['DMULTI00']"
   ]
  },
  {
   "cell_type": "code",
   "execution_count": null,
   "metadata": {},
   "outputs": [],
   "source": [
    "# drop the remaining columns\n",
    "# only keep: per capita income, median household rent, median home value, and median household income\n",
    "# which are important for gentrification\n",
    "df_MA_sample_2000.drop(df_MA_sample_2000.columns[1:39],axis=1,inplace=True)\n",
    "\n",
    "df_MA_sample_2000.drop(df_MA_sample_2000.columns[2:8],axis=1,inplace=True)\n",
    "\n",
    "df_MA_sample_2000.drop(df_MA_sample_2000.columns[3:7],axis=1,inplace=True)\n",
    "\n",
    "df_MA_sample_2000.drop(df_MA_sample_2000.columns[5:10],axis=1,inplace=True)"
   ]
  },
  {
   "cell_type": "code",
   "execution_count": null,
   "metadata": {},
   "outputs": [],
   "source": [
    "### convert dtypes to floats so we can do math\n",
    "df_MA_sample_2000['MHMVAL00'] = pd.to_numeric(df_MA_sample_2000['MHMVAL00'],errors='coerce')\n",
    "df_MA_sample_2000['HINC00'] = pd.to_numeric(df_MA_sample_2000['HINC00'],errors='coerce')\n",
    "df_MA_sample_2000['MRENT00'] = pd.to_numeric(df_MA_sample_2000['MRENT00'],errors='coerce')"
   ]
  },
  {
   "cell_type": "code",
   "execution_count": null,
   "metadata": {},
   "outputs": [],
   "source": [
    "# adjust these variables for inflation (26.63%)\n",
    "df_MA_sample_2000['HINC00']=df_MA_sample_2000['HINC00'].apply(lambda x: x*(1.2663))\n",
    "df_MA_sample_2000['INCPC00']=df_MA_sample_2000['INCPC00'].apply(lambda x: x*(1.2663))\n",
    "df_MA_sample_2000['MHMVAL00']=df_MA_sample_2000['MHMVAL00'].apply(lambda x: x*(1.2663))\n",
    "df_MA_sample_2000['MRENT00']=df_MA_sample_2000['MRENT00'].apply(lambda x: x*(1.2663))"
   ]
  },
  {
   "cell_type": "code",
   "execution_count": null,
   "metadata": {},
   "outputs": [],
   "source": [
    "# rename tract column\n",
    "df_MA_sample_2000.rename(columns={'TRTID10':'tractid'},inplace=True)"
   ]
  },
  {
   "cell_type": "code",
   "execution_count": null,
   "metadata": {},
   "outputs": [],
   "source": [
    "# save to csv \n",
    "df_MA_sample_2000.to_csv('CSV_files/Final_2000_data_sample.csv')"
   ]
  },
  {
   "cell_type": "markdown",
   "metadata": {},
   "source": [
    "## File 4: 2010 Census, Short-form questionnaire"
   ]
  },
  {
   "cell_type": "code",
   "execution_count": null,
   "metadata": {},
   "outputs": [],
   "source": [
    "# import the file\n",
    "df_2010_2 = pd.read_csv('CSV_files/LTDB_Std_2010_Sample.csv',sep=',', engine='python')\n",
    "\n",
    "# subset to MA\n",
    "df_2010_2_MA= df_2010_2[(df_2010_2['statea']==25)]\n",
    "\n",
    "# get Suffolk County\n",
    "df_MA_sample_2010 = df_2010_2_MA[df_2010_2_MA['countya']==25]"
   ]
  },
  {
   "cell_type": "code",
   "execution_count": null,
   "metadata": {},
   "outputs": [],
   "source": [
    "df_2010_2_MA['tracta'] = df_2010_2_MA['tracta'].astype('str')"
   ]
  },
  {
   "cell_type": "code",
   "execution_count": null,
   "metadata": {},
   "outputs": [],
   "source": [
    "# reset the index\n",
    "df_MA_sample_2010.reset_index(inplace=True, drop=True)"
   ]
  },
  {
   "cell_type": "markdown",
   "metadata": {},
   "source": [
    "### Feature engineering"
   ]
  },
  {
   "cell_type": "code",
   "execution_count": null,
   "metadata": {},
   "outputs": [],
   "source": [
    "# feature engineer the one column that is missing\n",
    "# this data is from the ACS which already has columns representing % of population\n",
    "\n",
    "df_MA_sample_2010['percent_employed12']=100*(df_MA_sample_2010['empclf12']/df_MA_sample_2010['clf12'])"
   ]
  },
  {
   "cell_type": "code",
   "execution_count": null,
   "metadata": {},
   "outputs": [],
   "source": [
    "# force these to be in the same order as the 2000 sample file\n",
    "df_MA_sample_2010 = df_MA_sample_2010[['tractid','incpc12','hinc12','mhmval12','mrent12','pfb12','pnat12','p10imm12','polang12','phs12','pcol12','pmar12',\n",
    "                 'punemp12','percent_employed12','pprof12','pmanuf12','psemp12','ppov12','p30old12','pmulti12']]"
   ]
  },
  {
   "cell_type": "code",
   "execution_count": null,
   "metadata": {},
   "outputs": [],
   "source": [
    "# save to csv\n",
    "df_MA_sample_2010.to_csv('CSV_files/Final_2010_data_sample.csv')"
   ]
  },
  {
   "cell_type": "markdown",
   "metadata": {},
   "source": [
    "## Percentage change 2000-2010, short-form questionnaire"
   ]
  },
  {
   "cell_type": "code",
   "execution_count": null,
   "metadata": {},
   "outputs": [],
   "source": [
    "# merge so we can calculate % change\n",
    "df_joined_sample = df_MA_sample_2000.merge(df_MA_sample_2010,how='inner',on='tractid')"
   ]
  },
  {
   "cell_type": "code",
   "execution_count": null,
   "metadata": {},
   "outputs": [],
   "source": [
    "# this is the same while loop as above\n",
    "\n",
    "# this is where 2000 data starts \n",
    "i = 1\n",
    "# this is where 2010 data starts\n",
    "j = 20\n",
    "# stop once you get to final column\n",
    "while j < 39:\n",
    "\n",
    "    df_joined_sample[f'{df_joined_sample.columns[i]}_PC'] = df_joined_sample.iloc[:,1:].apply(lambda x: 100*\n",
    "                                    ((x[df_joined_sample.columns[j]]-x[df_joined_sample.columns[i]])\n",
    "                                     /x[df_joined_sample.columns[i]]),axis=1)\n",
    "        \n",
    "    i +=1\n",
    "    j +=1"
   ]
  },
  {
   "cell_type": "code",
   "execution_count": null,
   "metadata": {},
   "outputs": [],
   "source": [
    "# save to csv\n",
    "df_joined_sample.to_csv('CSV_files/Sample_count_census_changes.csv')"
   ]
  }
 ],
 "metadata": {
  "kernelspec": {
   "display_name": "Python 3",
   "language": "python",
   "name": "python3"
  },
  "language_info": {
   "codemirror_mode": {
    "name": "ipython",
    "version": 3
   },
   "file_extension": ".py",
   "mimetype": "text/x-python",
   "name": "python",
   "nbconvert_exporter": "python",
   "pygments_lexer": "ipython3",
   "version": "3.7.3"
  }
 },
 "nbformat": 4,
 "nbformat_minor": 2
}
