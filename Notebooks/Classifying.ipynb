{
 "cells": [
  {
   "cell_type": "markdown",
   "metadata": {},
   "source": [
    "# Classifying"
   ]
  },
  {
   "cell_type": "markdown",
   "metadata": {},
   "source": [
    "This notebook tests a number of classification algorithms to determine if it is possible to classify census tracts into their respective clusters (representing gentrification status) using the census' current demographic state."
   ]
  },
  {
   "cell_type": "code",
   "execution_count": 1,
   "metadata": {},
   "outputs": [],
   "source": [
    "import pandas as pd\n",
    "pd.set_option('display.max_rows',None)\n",
    "pd.set_option('display.max_columns',None)\n",
    "import numpy as np\n",
    "import matplotlib.pyplot as plt\n",
    "%matplotlib inline \n",
    "from sklearn.model_selection import train_test_split\n",
    "from sklearn.dummy import DummyClassifier\n",
    "from sklearn.linear_model import LogisticRegression\n",
    "from sklearn.metrics import accuracy_score\n",
    "from sklearn.metrics import confusion_matrix\n",
    "import Classifier_helper_functions as helper\n",
    "from sklearn.neighbors import KNeighborsClassifier\n",
    "from sklearn.tree import DecisionTreeClassifier\n",
    "from sklearn.ensemble import RandomForestClassifier\n",
    "import os\n",
    "os.environ['KMP_DUPLICATE_LIB_OK']='True'\n",
    "from xgboost import XGBClassifier\n",
    "from sklearn.model_selection import GridSearchCV"
   ]
  },
  {
   "cell_type": "code",
   "execution_count": 9,
   "metadata": {},
   "outputs": [
    {
     "data": {
      "text/html": [
       "<div>\n",
       "<style scoped>\n",
       "    .dataframe tbody tr th:only-of-type {\n",
       "        vertical-align: middle;\n",
       "    }\n",
       "\n",
       "    .dataframe tbody tr th {\n",
       "        vertical-align: top;\n",
       "    }\n",
       "\n",
       "    .dataframe thead th {\n",
       "        text-align: right;\n",
       "    }\n",
       "</style>\n",
       "<table border=\"1\" class=\"dataframe\">\n",
       "  <thead>\n",
       "    <tr style=\"text-align: right;\">\n",
       "      <th></th>\n",
       "      <th>tractid</th>\n",
       "      <th>cluster</th>\n",
       "      <th>HINC00_PC</th>\n",
       "      <th>MHMVAL00_PC</th>\n",
       "      <th>MRENT00_PC</th>\n",
       "      <th>percent_owneroccupied_00_PC</th>\n",
       "      <th>percent_non-white00_PC</th>\n",
       "      <th>percent_4yrcollege_degree_ormore_PC</th>\n",
       "      <th>cluster_name</th>\n",
       "    </tr>\n",
       "  </thead>\n",
       "  <tbody>\n",
       "    <tr>\n",
       "      <th>0</th>\n",
       "      <td>25025000100</td>\n",
       "      <td>1</td>\n",
       "      <td>-5.21</td>\n",
       "      <td>56.78</td>\n",
       "      <td>50.11</td>\n",
       "      <td>-12.52</td>\n",
       "      <td>27.33</td>\n",
       "      <td>-24.91</td>\n",
       "      <td>Becoming more affordable</td>\n",
       "    </tr>\n",
       "    <tr>\n",
       "      <th>1</th>\n",
       "      <td>25025000201</td>\n",
       "      <td>1</td>\n",
       "      <td>-16.97</td>\n",
       "      <td>100.30</td>\n",
       "      <td>41.78</td>\n",
       "      <td>-6.08</td>\n",
       "      <td>22.63</td>\n",
       "      <td>12.61</td>\n",
       "      <td>Becoming more affordable</td>\n",
       "    </tr>\n",
       "    <tr>\n",
       "      <th>2</th>\n",
       "      <td>25025000202</td>\n",
       "      <td>1</td>\n",
       "      <td>-24.08</td>\n",
       "      <td>56.41</td>\n",
       "      <td>58.41</td>\n",
       "      <td>-7.61</td>\n",
       "      <td>2.15</td>\n",
       "      <td>11.10</td>\n",
       "      <td>Becoming more affordable</td>\n",
       "    </tr>\n",
       "    <tr>\n",
       "      <th>3</th>\n",
       "      <td>25025000301</td>\n",
       "      <td>2</td>\n",
       "      <td>25.76</td>\n",
       "      <td>91.09</td>\n",
       "      <td>51.29</td>\n",
       "      <td>4.77</td>\n",
       "      <td>45.58</td>\n",
       "      <td>37.54</td>\n",
       "      <td>Remaining costly</td>\n",
       "    </tr>\n",
       "    <tr>\n",
       "      <th>4</th>\n",
       "      <td>25025000302</td>\n",
       "      <td>1</td>\n",
       "      <td>-15.31</td>\n",
       "      <td>24.16</td>\n",
       "      <td>15.71</td>\n",
       "      <td>-3.60</td>\n",
       "      <td>32.15</td>\n",
       "      <td>-1.16</td>\n",
       "      <td>Becoming more affordable</td>\n",
       "    </tr>\n",
       "  </tbody>\n",
       "</table>\n",
       "</div>"
      ],
      "text/plain": [
       "       tractid  cluster  HINC00_PC  MHMVAL00_PC  MRENT00_PC  \\\n",
       "0  25025000100        1      -5.21        56.78       50.11   \n",
       "1  25025000201        1     -16.97       100.30       41.78   \n",
       "2  25025000202        1     -24.08        56.41       58.41   \n",
       "3  25025000301        2      25.76        91.09       51.29   \n",
       "4  25025000302        1     -15.31        24.16       15.71   \n",
       "\n",
       "   percent_owneroccupied_00_PC  percent_non-white00_PC  \\\n",
       "0                       -12.52                   27.33   \n",
       "1                        -6.08                   22.63   \n",
       "2                        -7.61                    2.15   \n",
       "3                         4.77                   45.58   \n",
       "4                        -3.60                   32.15   \n",
       "\n",
       "   percent_4yrcollege_degree_ormore_PC              cluster_name  \n",
       "0                               -24.91  Becoming more affordable  \n",
       "1                                12.61  Becoming more affordable  \n",
       "2                                11.10  Becoming more affordable  \n",
       "3                                37.54          Remaining costly  \n",
       "4                                -1.16  Becoming more affordable  "
      ]
     },
     "execution_count": 9,
     "metadata": {},
     "output_type": "execute_result"
    }
   ],
   "source": [
    "# import the csv that has the clusters assigned to each tract\n",
    "df = pd.read_csv('CSV_files/clusters.csv',index_col=0)\n",
    "df.head()"
   ]
  },
  {
   "cell_type": "code",
   "execution_count": 10,
   "metadata": {},
   "outputs": [],
   "source": [
    "# subset tracts and clusters\n",
    "df1=df.iloc[:,0:2]"
   ]
  },
  {
   "cell_type": "code",
   "execution_count": 12,
   "metadata": {},
   "outputs": [],
   "source": [
    "# import the data from the 2000 census \n",
    "df2 = pd.read_csv('CSV_files/Final_2000_data.csv',index_col=0)\n",
    "df3 = pd.read_csv('CSV_files/Final_2000_data_sample.csv',index_col=0)"
   ]
  },
  {
   "cell_type": "code",
   "execution_count": 13,
   "metadata": {},
   "outputs": [],
   "source": [
    "# join the dataframes\n",
    "df = df1.merge(df2,how='inner',on='tractid')\n",
    "\n",
    "df_final = df.merge(df3,how='inner',on='tractid')\n",
    "df_final.set_index('tractid',inplace=True)"
   ]
  },
  {
   "cell_type": "code",
   "execution_count": 15,
   "metadata": {},
   "outputs": [
    {
     "data": {
      "text/html": [
       "<div>\n",
       "<style scoped>\n",
       "    .dataframe tbody tr th:only-of-type {\n",
       "        vertical-align: middle;\n",
       "    }\n",
       "\n",
       "    .dataframe tbody tr th {\n",
       "        vertical-align: top;\n",
       "    }\n",
       "\n",
       "    .dataframe thead th {\n",
       "        text-align: right;\n",
       "    }\n",
       "</style>\n",
       "<table border=\"1\" class=\"dataframe\">\n",
       "  <thead>\n",
       "    <tr style=\"text-align: right;\">\n",
       "      <th></th>\n",
       "      <th>tractid</th>\n",
       "      <th>cluster</th>\n",
       "      <th>state</th>\n",
       "      <th>county</th>\n",
       "      <th>tract</th>\n",
       "      <th>POP00</th>\n",
       "      <th>percent_white00</th>\n",
       "      <th>percent_black00</th>\n",
       "      <th>percent_asian00</th>\n",
       "      <th>percent_hispanic00</th>\n",
       "      <th>percent_indian00</th>\n",
       "      <th>percent_chinese00</th>\n",
       "      <th>percent_filip00</th>\n",
       "      <th>percent_japan00</th>\n",
       "      <th>percent_korean00</th>\n",
       "      <th>percent_viet00</th>\n",
       "      <th>percent_mex00</th>\n",
       "      <th>percent_pr00</th>\n",
       "      <th>percent_cuban00</th>\n",
       "      <th>percent_vacant_housing00</th>\n",
       "      <th>percent_occupied_housing00</th>\n",
       "      <th>percent_under18_00</th>\n",
       "      <th>percent_60andup_00</th>\n",
       "      <th>percent_75andup_00</th>\n",
       "      <th>percent_owneroccupied_00</th>\n",
       "      <th>percent_renteroccupied_00</th>\n",
       "      <th>percent_non-white00</th>\n",
       "    </tr>\n",
       "  </thead>\n",
       "  <tbody>\n",
       "    <tr>\n",
       "      <th>0</th>\n",
       "      <td>25025000100</td>\n",
       "      <td>1</td>\n",
       "      <td>MA</td>\n",
       "      <td>Suffolk County</td>\n",
       "      <td>Census Tract 1</td>\n",
       "      <td>3968.000000</td>\n",
       "      <td>70.816532</td>\n",
       "      <td>4.989919</td>\n",
       "      <td>10.937500</td>\n",
       "      <td>8.795363</td>\n",
       "      <td>1.008065</td>\n",
       "      <td>6.174395</td>\n",
       "      <td>0.302419</td>\n",
       "      <td>0.302419</td>\n",
       "      <td>0.378024</td>\n",
       "      <td>2.469758</td>\n",
       "      <td>0.579637</td>\n",
       "      <td>0.982863</td>\n",
       "      <td>0.151210</td>\n",
       "      <td>3.159851</td>\n",
       "      <td>96.840149</td>\n",
       "      <td>13.734879</td>\n",
       "      <td>13.785282</td>\n",
       "      <td>5.317540</td>\n",
       "      <td>27.323420</td>\n",
       "      <td>69.516729</td>\n",
       "      <td>37.626008</td>\n",
       "    </tr>\n",
       "    <tr>\n",
       "      <th>1</th>\n",
       "      <td>25025000201</td>\n",
       "      <td>1</td>\n",
       "      <td>MA</td>\n",
       "      <td>Suffolk County</td>\n",
       "      <td>Census Tract 2.01</td>\n",
       "      <td>3887.000000</td>\n",
       "      <td>77.617700</td>\n",
       "      <td>3.524569</td>\n",
       "      <td>8.978647</td>\n",
       "      <td>7.435040</td>\n",
       "      <td>0.848984</td>\n",
       "      <td>5.737072</td>\n",
       "      <td>0.668896</td>\n",
       "      <td>0.282995</td>\n",
       "      <td>0.360175</td>\n",
       "      <td>0.463082</td>\n",
       "      <td>0.643170</td>\n",
       "      <td>0.874711</td>\n",
       "      <td>0.643170</td>\n",
       "      <td>1.969504</td>\n",
       "      <td>98.030496</td>\n",
       "      <td>11.577052</td>\n",
       "      <td>10.959609</td>\n",
       "      <td>4.296373</td>\n",
       "      <td>29.415502</td>\n",
       "      <td>68.614994</td>\n",
       "      <td>30.743504</td>\n",
       "    </tr>\n",
       "    <tr>\n",
       "      <th>2</th>\n",
       "      <td>25025000202</td>\n",
       "      <td>1</td>\n",
       "      <td>MA</td>\n",
       "      <td>Suffolk County</td>\n",
       "      <td>Census Tract 2.02</td>\n",
       "      <td>3925.000000</td>\n",
       "      <td>64.280255</td>\n",
       "      <td>7.617834</td>\n",
       "      <td>15.439490</td>\n",
       "      <td>11.261146</td>\n",
       "      <td>1.146497</td>\n",
       "      <td>9.605096</td>\n",
       "      <td>0.101911</td>\n",
       "      <td>0.178344</td>\n",
       "      <td>0.560510</td>\n",
       "      <td>2.726115</td>\n",
       "      <td>0.484076</td>\n",
       "      <td>3.312102</td>\n",
       "      <td>0.382166</td>\n",
       "      <td>1.451187</td>\n",
       "      <td>98.548813</td>\n",
       "      <td>19.031847</td>\n",
       "      <td>13.910828</td>\n",
       "      <td>4.713376</td>\n",
       "      <td>33.707124</td>\n",
       "      <td>64.841689</td>\n",
       "      <td>53.070064</td>\n",
       "    </tr>\n",
       "    <tr>\n",
       "      <th>3</th>\n",
       "      <td>25025000301</td>\n",
       "      <td>2</td>\n",
       "      <td>MA</td>\n",
       "      <td>Suffolk County</td>\n",
       "      <td>Census Tract 3.01</td>\n",
       "      <td>2923.000000</td>\n",
       "      <td>80.841601</td>\n",
       "      <td>3.386931</td>\n",
       "      <td>8.039685</td>\n",
       "      <td>5.542251</td>\n",
       "      <td>0.650017</td>\n",
       "      <td>4.618543</td>\n",
       "      <td>0.205269</td>\n",
       "      <td>0.102634</td>\n",
       "      <td>0.855286</td>\n",
       "      <td>0.273691</td>\n",
       "      <td>0.615806</td>\n",
       "      <td>0.581594</td>\n",
       "      <td>0.205269</td>\n",
       "      <td>2.931323</td>\n",
       "      <td>97.068677</td>\n",
       "      <td>12.076634</td>\n",
       "      <td>18.268902</td>\n",
       "      <td>8.279165</td>\n",
       "      <td>37.269682</td>\n",
       "      <td>59.798995</td>\n",
       "      <td>25.145399</td>\n",
       "    </tr>\n",
       "    <tr>\n",
       "      <th>4</th>\n",
       "      <td>25025000302</td>\n",
       "      <td>1</td>\n",
       "      <td>MA</td>\n",
       "      <td>Suffolk County</td>\n",
       "      <td>Census Tract 3.02</td>\n",
       "      <td>2909.483505</td>\n",
       "      <td>81.004657</td>\n",
       "      <td>2.295409</td>\n",
       "      <td>12.907518</td>\n",
       "      <td>3.193613</td>\n",
       "      <td>1.031271</td>\n",
       "      <td>8.915503</td>\n",
       "      <td>0.399202</td>\n",
       "      <td>0.731870</td>\n",
       "      <td>1.131071</td>\n",
       "      <td>0.365935</td>\n",
       "      <td>0.133067</td>\n",
       "      <td>0.465735</td>\n",
       "      <td>0.066534</td>\n",
       "      <td>1.556709</td>\n",
       "      <td>98.443286</td>\n",
       "      <td>9.214904</td>\n",
       "      <td>15.435795</td>\n",
       "      <td>6.154358</td>\n",
       "      <td>48.628614</td>\n",
       "      <td>49.814677</td>\n",
       "      <td>31.936128</td>\n",
       "    </tr>\n",
       "  </tbody>\n",
       "</table>\n",
       "</div>"
      ],
      "text/plain": [
       "       tractid  cluster state          county              tract        POP00  \\\n",
       "0  25025000100        1    MA  Suffolk County     Census Tract 1  3968.000000   \n",
       "1  25025000201        1    MA  Suffolk County  Census Tract 2.01  3887.000000   \n",
       "2  25025000202        1    MA  Suffolk County  Census Tract 2.02  3925.000000   \n",
       "3  25025000301        2    MA  Suffolk County  Census Tract 3.01  2923.000000   \n",
       "4  25025000302        1    MA  Suffolk County  Census Tract 3.02  2909.483505   \n",
       "\n",
       "   percent_white00  percent_black00  percent_asian00  percent_hispanic00  \\\n",
       "0        70.816532         4.989919        10.937500            8.795363   \n",
       "1        77.617700         3.524569         8.978647            7.435040   \n",
       "2        64.280255         7.617834        15.439490           11.261146   \n",
       "3        80.841601         3.386931         8.039685            5.542251   \n",
       "4        81.004657         2.295409        12.907518            3.193613   \n",
       "\n",
       "   percent_indian00  percent_chinese00  percent_filip00  percent_japan00  \\\n",
       "0          1.008065           6.174395         0.302419         0.302419   \n",
       "1          0.848984           5.737072         0.668896         0.282995   \n",
       "2          1.146497           9.605096         0.101911         0.178344   \n",
       "3          0.650017           4.618543         0.205269         0.102634   \n",
       "4          1.031271           8.915503         0.399202         0.731870   \n",
       "\n",
       "   percent_korean00  percent_viet00  percent_mex00  percent_pr00  \\\n",
       "0          0.378024        2.469758       0.579637      0.982863   \n",
       "1          0.360175        0.463082       0.643170      0.874711   \n",
       "2          0.560510        2.726115       0.484076      3.312102   \n",
       "3          0.855286        0.273691       0.615806      0.581594   \n",
       "4          1.131071        0.365935       0.133067      0.465735   \n",
       "\n",
       "   percent_cuban00  percent_vacant_housing00  percent_occupied_housing00  \\\n",
       "0         0.151210                  3.159851                   96.840149   \n",
       "1         0.643170                  1.969504                   98.030496   \n",
       "2         0.382166                  1.451187                   98.548813   \n",
       "3         0.205269                  2.931323                   97.068677   \n",
       "4         0.066534                  1.556709                   98.443286   \n",
       "\n",
       "   percent_under18_00  percent_60andup_00  percent_75andup_00  \\\n",
       "0           13.734879           13.785282            5.317540   \n",
       "1           11.577052           10.959609            4.296373   \n",
       "2           19.031847           13.910828            4.713376   \n",
       "3           12.076634           18.268902            8.279165   \n",
       "4            9.214904           15.435795            6.154358   \n",
       "\n",
       "   percent_owneroccupied_00  percent_renteroccupied_00  percent_non-white00  \n",
       "0                 27.323420                  69.516729            37.626008  \n",
       "1                 29.415502                  68.614994            30.743504  \n",
       "2                 33.707124                  64.841689            53.070064  \n",
       "3                 37.269682                  59.798995            25.145399  \n",
       "4                 48.628614                  49.814677            31.936128  "
      ]
     },
     "execution_count": 15,
     "metadata": {},
     "output_type": "execute_result"
    }
   ],
   "source": [
    "df.head()"
   ]
  },
  {
   "cell_type": "code",
   "execution_count": 16,
   "metadata": {},
   "outputs": [
    {
     "data": {
      "text/plain": [
       "2    82\n",
       "1    77\n",
       "0    31\n",
       "Name: cluster, dtype: int64"
      ]
     },
     "execution_count": 16,
     "metadata": {},
     "output_type": "execute_result"
    }
   ],
   "source": [
    "df_final['cluster'].value_counts()"
   ]
  },
  {
   "cell_type": "code",
   "execution_count": null,
   "metadata": {},
   "outputs": [],
   "source": [
    "# lets drop classes 3 since it only has 1 tract\n",
    "df_final = df_final[df_final['cluster']!=3]"
   ]
  },
  {
   "cell_type": "code",
   "execution_count": null,
   "metadata": {},
   "outputs": [],
   "source": [
    "df_final.columns"
   ]
  },
  {
   "cell_type": "code",
   "execution_count": null,
   "metadata": {},
   "outputs": [],
   "source": [
    "df_final['cluster'].value_counts()"
   ]
  },
  {
   "cell_type": "code",
   "execution_count": 17,
   "metadata": {},
   "outputs": [],
   "source": [
    "# split into X and Y\n",
    "X = df_final[['percent_white00', 'percent_black00',\n",
    "       'percent_asian00', 'percent_hispanic00', 'percent_indian00',\n",
    "       'percent_chinese00', 'percent_filip00', 'percent_japan00',\n",
    "       'percent_korean00', 'percent_viet00', 'percent_mex00', 'percent_pr00',\n",
    "       'percent_cuban00', 'percent_vacant_housing00',\n",
    "       'percent_occupied_housing00', 'percent_under18_00',\n",
    "       'percent_60andup_00', 'percent_75andup_00', 'percent_owneroccupied_00',\n",
    "       'percent_renteroccupied_00', 'percent_non-white00', 'INCPC00', 'HINC00',\n",
    "       'MHMVAL00', 'MRENT00', 'percent_foreign_born', 'percent_naturalized',\n",
    "       'percent_recent_immigrants(10)', 'percent_other_languages',\n",
    "       'percent_hs_degree_orless', 'percent_4yrcollege_degree_ormore',\n",
    "       'percent_married', 'percent_unemployed', 'percent_employed',\n",
    "       'percent_professional', 'percent_manufacturing',\n",
    "       'percent_self_employed', 'percent_poverty', 'percent_houses_30yrsago',\n",
    "       'percent_multiunit_houses']]\n",
    "Y = df_final['cluster']\n",
    "Y=Y.astype('str')"
   ]
  },
  {
   "cell_type": "markdown",
   "metadata": {},
   "source": [
    "# Dummy Classifier"
   ]
  },
  {
   "cell_type": "code",
   "execution_count": 18,
   "metadata": {},
   "outputs": [],
   "source": [
    "# train test split\n",
    "X_train,X_test,y_train,y_test=train_test_split(X,Y,test_size=.2)"
   ]
  },
  {
   "cell_type": "code",
   "execution_count": 19,
   "metadata": {},
   "outputs": [],
   "source": [
    "# create instance of the class\n",
    "dummy_clf = DummyClassifier('most_frequent')\n",
    "dummy_clf.fit(X_train,y_train)\n",
    "y_hat_train = dummy_clf.predict(X_train)\n",
    "y_hat_test = dummy_clf.predict(X_test)"
   ]
  },
  {
   "cell_type": "code",
   "execution_count": 20,
   "metadata": {},
   "outputs": [
    {
     "name": "stdout",
     "output_type": "stream",
     "text": [
      "0.45394736842105265\n",
      "0.34210526315789475\n"
     ]
    }
   ],
   "source": [
    "print(accuracy_score(y_hat_train,y_train))\n",
    "print(accuracy_score(y_hat_test,y_test))"
   ]
  },
  {
   "cell_type": "code",
   "execution_count": 21,
   "metadata": {},
   "outputs": [
    {
     "name": "stdout",
     "output_type": "stream",
     "text": [
      "Confusion matrix, without normalization\n",
      "[[ 0  0  6]\n",
      " [ 0  0 19]\n",
      " [ 0  0 13]]\n"
     ]
    },
    {
     "data": {
      "image/png": "[encoded data removed]",
      "text/plain": [
       "<Figure size 360x288 with 2 Axes>"
      ]
     },
     "metadata": {
      "needs_background": "light"
     },
     "output_type": "display_data"
    }
   ],
   "source": [
    "# confusion matrix\n",
    "cnf_matrix = confusion_matrix(y_test, y_hat_test)\n",
    "plt.figure(figsize=(5,4))\n",
    "\n",
    "helper.plot_confusion_matrix(cnf_matrix, normalize=False,classes=[0,1,2],\n",
    "                      title='Normalized confusion matrix for Baseline Model')\n",
    "\n",
    "plt.savefig('Dummy_Confusion')\n",
    "plt.show()"
   ]
  },
  {
   "cell_type": "markdown",
   "metadata": {},
   "source": [
    "## KNN"
   ]
  },
  {
   "cell_type": "code",
   "execution_count": 22,
   "metadata": {},
   "outputs": [
    {
     "name": "stderr",
     "output_type": "stream",
     "text": [
      "/Users/Kristinabarounis/anaconda3/lib/python3.7/site-packages/sklearn/model_selection/_search.py:841: DeprecationWarning: The default of the `iid` parameter will change from True to False in version 0.22 and will be removed in 0.24. This will change numeric results when test-set sizes are unequal.\n",
      "  DeprecationWarning)\n"
     ]
    },
    {
     "data": {
      "text/plain": [
       "GridSearchCV(cv=5, error_score='raise-deprecating',\n",
       "       estimator=KNeighborsClassifier(algorithm='auto', leaf_size=30, metric='minkowski',\n",
       "           metric_params=None, n_jobs=None, n_neighbors=5, p=2,\n",
       "           weights='uniform'),\n",
       "       fit_params=None, iid='warn', n_jobs=None,\n",
       "       param_grid={'n_neighbors': [10, 12, 13, 14, 15, 16, 17, 18, 19, 20]},\n",
       "       pre_dispatch='2*n_jobs', refit=True, return_train_score='warn',\n",
       "       scoring=None, verbose=0)"
      ]
     },
     "execution_count": 22,
     "metadata": {},
     "output_type": "execute_result"
    }
   ],
   "source": [
    "knn = KNeighborsClassifier()\n",
    "parameters={'n_neighbors':[10,12,13,14,15,16,17,18,19,20]}\n",
    "clf = GridSearchCV(knn,parameters,cv=5)\n",
    "clf.fit(X,Y)"
   ]
  },
  {
   "cell_type": "code",
   "execution_count": 23,
   "metadata": {},
   "outputs": [
    {
     "data": {
      "text/plain": [
       "{'n_neighbors': 15}"
      ]
     },
     "execution_count": 23,
     "metadata": {},
     "output_type": "execute_result"
    }
   ],
   "source": [
    "clf.best_params_"
   ]
  },
  {
   "cell_type": "code",
   "execution_count": 24,
   "metadata": {},
   "outputs": [
    {
     "data": {
      "text/plain": [
       "('Train scores from each iteration:[0.584, 0.52, 0.576]',\n",
       " 'Average K-Fold train score: 0.56',\n",
       " 'Test scores from each iteration:[0.4461538461538462, 0.4307692307692308, 0.47692307692307695]',\n",
       " 'Average K-Fold test score: 0.4512820512820513')"
      ]
     },
     "execution_count": 24,
     "metadata": {},
     "output_type": "execute_result"
    }
   ],
   "source": [
    "knn = KNeighborsClassifier(n_neighbors=14)\n",
    "helper.stratified_k_fold(knn,3,X,Y)"
   ]
  },
  {
   "cell_type": "markdown",
   "metadata": {},
   "source": [
    "## Decision Tree"
   ]
  },
  {
   "cell_type": "code",
   "execution_count": 25,
   "metadata": {},
   "outputs": [
    {
     "name": "stderr",
     "output_type": "stream",
     "text": [
      "/Users/Kristinabarounis/anaconda3/lib/python3.7/site-packages/sklearn/model_selection/_search.py:841: DeprecationWarning: The default of the `iid` parameter will change from True to False in version 0.22 and will be removed in 0.24. This will change numeric results when test-set sizes are unequal.\n",
      "  DeprecationWarning)\n"
     ]
    },
    {
     "data": {
      "text/plain": [
       "GridSearchCV(cv=5, error_score='raise-deprecating',\n",
       "       estimator=DecisionTreeClassifier(class_weight=None, criterion='gini', max_depth=None,\n",
       "            max_features=None, max_leaf_nodes=None,\n",
       "            min_impurity_decrease=0.0, min_impurity_split=None,\n",
       "            min_samples_leaf=1, min_samples_split=2,\n",
       "            min_weight_fraction_leaf=0.0, presort=False, random_state=None,\n",
       "            splitter='best'),\n",
       "       fit_params=None, iid='warn', n_jobs=None,\n",
       "       param_grid={'criterion': ['gini', 'entropy'], 'max_depth': [5, 10, 15], 'min_samples_split': [2, 3, 4, 5, 6, 7], 'min_samples_leaf': [1, 2, 3, 4, 5, 6, 7], 'max_features': [1, 2, 3, 4, 5, 6, 7]},\n",
       "       pre_dispatch='2*n_jobs', refit=True, return_train_score='warn',\n",
       "       scoring=None, verbose=0)"
      ]
     },
     "execution_count": 25,
     "metadata": {},
     "output_type": "execute_result"
    }
   ],
   "source": [
    "dt = DecisionTreeClassifier()\n",
    "parameters={'criterion':['gini','entropy'],\n",
    "            'max_depth':[5,10,15],\n",
    "            'min_samples_split':[2,3,4,5,6,7],\n",
    "            'min_samples_leaf':[1,2,3,4,5,6,7],\n",
    "            'max_features':[1,2,3,4,5,6,7]   \n",
    "}\n",
    "clf_2 = GridSearchCV(dt,parameters,cv=5)\n",
    "clf_2.fit(X,Y)"
   ]
  },
  {
   "cell_type": "code",
   "execution_count": 26,
   "metadata": {},
   "outputs": [
    {
     "data": {
      "text/plain": [
       "{'criterion': 'gini',\n",
       " 'max_depth': 15,\n",
       " 'max_features': 1,\n",
       " 'min_samples_leaf': 3,\n",
       " 'min_samples_split': 5}"
      ]
     },
     "execution_count": 26,
     "metadata": {},
     "output_type": "execute_result"
    }
   ],
   "source": [
    "clf_2.best_params_"
   ]
  },
  {
   "cell_type": "code",
   "execution_count": 27,
   "metadata": {},
   "outputs": [
    {
     "data": {
      "text/plain": [
       "('Train scores from each iteration:[0.7066666666666667, 0.6933333333333334, 0.7333333333333333, 0.7066666666666667, 0.6666666666666666]',\n",
       " 'Average K-Fold train score: 0.7013333333333333',\n",
       " 'Test scores from each iteration:[0.35, 0.3, 0.6, 0.5, 0.45]',\n",
       " 'Average K-Fold test score: 0.44000000000000006')"
      ]
     },
     "execution_count": 27,
     "metadata": {},
     "output_type": "execute_result"
    }
   ],
   "source": [
    "dt= DecisionTreeClassifier(criterion='entropy',max_depth=5,max_features=4,min_samples_leaf=5,min_samples_split=6)\n",
    "\n",
    "helper.stratified_k_fold(dt,5,X,Y)"
   ]
  },
  {
   "cell_type": "markdown",
   "metadata": {},
   "source": [
    "## Random Forest"
   ]
  },
  {
   "cell_type": "code",
   "execution_count": 28,
   "metadata": {},
   "outputs": [
    {
     "name": "stderr",
     "output_type": "stream",
     "text": [
      "/Users/Kristinabarounis/anaconda3/lib/python3.7/site-packages/sklearn/model_selection/_search.py:841: DeprecationWarning: The default of the `iid` parameter will change from True to False in version 0.22 and will be removed in 0.24. This will change numeric results when test-set sizes are unequal.\n",
      "  DeprecationWarning)\n"
     ]
    },
    {
     "data": {
      "text/plain": [
       "GridSearchCV(cv=5, error_score='raise-deprecating',\n",
       "       estimator=DecisionTreeClassifier(class_weight=None, criterion='entropy', max_depth=5,\n",
       "            max_features=4, max_leaf_nodes=None, min_impurity_decrease=0.0,\n",
       "            min_impurity_split=None, min_samples_leaf=5,\n",
       "            min_samples_split=6, min_weight_fraction_leaf=0.0,\n",
       "            presort=False, random_state=None, splitter='best'),\n",
       "       fit_params=None, iid='warn', n_jobs=-1,\n",
       "       param_grid={'criterion': ['gini', 'entropy'], 'max_depth': [10, 15, 20], 'min_samples_split': [2, 3, 4, 5, 6, 7], 'min_samples_leaf': [1, 2, 3, 4, 5, 6, 7], 'max_features': [1, 2, 3, 4, 5, 6, 7]},\n",
       "       pre_dispatch='2*n_jobs', refit=True, return_train_score='warn',\n",
       "       scoring=None, verbose=0)"
      ]
     },
     "execution_count": 28,
     "metadata": {},
     "output_type": "execute_result"
    }
   ],
   "source": [
    "rf = RandomForestClassifier()\n",
    "parameters={'criterion':['gini','entropy'],\n",
    "            'max_depth':[10,15,20],\n",
    "            'min_samples_split':[2,3,4,5,6,7],\n",
    "            'min_samples_leaf':[1,2,3,4,5,6,7],\n",
    "            'max_features':[1,2,3,4,5,6,7]\n",
    "    }\n",
    "clf_3 = GridSearchCV(dt,parameters,cv=5,n_jobs=-1)\n",
    "clf_3.fit(X,Y)"
   ]
  },
  {
   "cell_type": "code",
   "execution_count": 29,
   "metadata": {},
   "outputs": [
    {
     "data": {
      "text/plain": [
       "{'criterion': 'gini',\n",
       " 'max_depth': 20,\n",
       " 'max_features': 6,\n",
       " 'min_samples_leaf': 7,\n",
       " 'min_samples_split': 7}"
      ]
     },
     "execution_count": 29,
     "metadata": {},
     "output_type": "execute_result"
    }
   ],
   "source": [
    "clf_3.best_params_"
   ]
  },
  {
   "cell_type": "code",
   "execution_count": 30,
   "metadata": {},
   "outputs": [
    {
     "name": "stderr",
     "output_type": "stream",
     "text": [
      "/Users/Kristinabarounis/anaconda3/lib/python3.7/site-packages/sklearn/ensemble/forest.py:246: FutureWarning: The default value of n_estimators will change from 10 in version 0.20 to 100 in 0.22.\n",
      "  \"10 in version 0.20 to 100 in 0.22.\", FutureWarning)\n"
     ]
    },
    {
     "data": {
      "text/plain": [
       "('Train scores from each iteration:[0.78, 0.7866666666666666, 0.8333333333333334, 0.76, 0.7333333333333333]',\n",
       " 'Average K-Fold train score: 0.7786666666666667',\n",
       " 'Test scores from each iteration:[0.4, 0.575, 0.5, 0.575, 0.575]',\n",
       " 'Average K-Fold test score: 0.525')"
      ]
     },
     "execution_count": 30,
     "metadata": {},
     "output_type": "execute_result"
    }
   ],
   "source": [
    "rt = RandomForestClassifier(criterion='gini',max_depth=10,max_features=2,min_samples_leaf=6,min_samples_split=7)\n",
    "helper.stratified_k_fold(rt,5,X,Y)"
   ]
  },
  {
   "cell_type": "markdown",
   "metadata": {},
   "source": [
    "## XGBoost"
   ]
  },
  {
   "cell_type": "code",
   "execution_count": 31,
   "metadata": {},
   "outputs": [
    {
     "name": "stdout",
     "output_type": "stream",
     "text": [
      "Training Accuracy: 100.0%\n",
      "Validation accuracy: 57.89%\n"
     ]
    }
   ],
   "source": [
    "clf = XGBClassifier()\n",
    "clf.fit(X_train, y_train)\n",
    "training_preds = clf.predict(X_train)\n",
    "val_preds = clf.predict(X_test)\n",
    "training_accuracy = accuracy_score(y_train, training_preds)\n",
    "val_accuracy = accuracy_score(y_test, val_preds)\n",
    "\n",
    "print(\"Training Accuracy: {:.4}%\".format(training_accuracy * 100))\n",
    "print(\"Validation accuracy: {:.4}%\".format(val_accuracy * 100))\n"
   ]
  },
  {
   "cell_type": "code",
   "execution_count": 32,
   "metadata": {},
   "outputs": [],
   "source": [
    "param_grid = {\n",
    "    \"learning_rate\": [0.1,0.2,0.3,0.4],\n",
    "    'max_depth': [2,3,4,5,6],\n",
    "    'min_child_weight': [10,12,13,14,15],\n",
    "    'subsample': [0.7],\n",
    "    'n_estimators': [5, 30, 100, 250],\n",
    "}"
   ]
  },
  {
   "cell_type": "code",
   "execution_count": null,
   "metadata": {},
   "outputs": [],
   "source": [
    "grid_clf = GridSearchCV(clf, param_grid, scoring='accuracy', cv=5, n_jobs=1)\n",
    "grid_clf.fit(X, Y)\n",
    "\n",
    "best_parameters = grid_clf.best_params_\n",
    "\n",
    "print(\"Grid Search found the following optimal parameters: \")\n",
    "for param_name in sorted(best_parameters.keys()):\n",
    "    print(\"%s: %r\" % (param_name, best_parameters[param_name]))\n",
    "\n",
    "training_preds = grid_clf.predict(X_train)\n",
    "val_preds = grid_clf.predict(X_test)\n",
    "training_accuracy = accuracy_score(y_train, training_preds)\n",
    "val_accuracy = accuracy_score(y_test, val_preds)\n",
    "\n",
    "print(\"\")\n",
    "print(\"Training Accuracy: {:.4}%\".format(training_accuracy * 100))\n",
    "print(\"Validation accuracy: {:.4}%\".format(val_accuracy * 100))"
   ]
  },
  {
   "cell_type": "code",
   "execution_count": null,
   "metadata": {},
   "outputs": [],
   "source": [
    "# confusion matrix\n",
    "cnf_matrix = confusion_matrix(y_test, val_preds)\n",
    "plt.figure(figsize=(5,4))\n",
    "\n",
    "helper.plot_confusion_matrix(cnf_matrix, normalize=False,classes=[0,1,2],\n",
    "                      title='Normalized confusion matrix for Baseline Model')\n",
    "\n",
    "plt.savefig('Dummy_Confusion')\n",
    "plt.show()"
   ]
  },
  {
   "cell_type": "code",
   "execution_count": null,
   "metadata": {},
   "outputs": [],
   "source": [
    "xgb = XGBClassifier(learning_rate=0.3,max_depth=2,min_child_weight=12,n_estimators=5,subsample=0.7)\n",
    "helper.stratified_k_fold(xgb,7,X,Y)"
   ]
  },
  {
   "cell_type": "markdown",
   "metadata": {},
   "source": [
    "## Predict using 2010 data!!!!!!"
   ]
  },
  {
   "cell_type": "code",
   "execution_count": null,
   "metadata": {},
   "outputs": [],
   "source": [
    "# import the data from the 2000 census \n",
    "df2 = pd.read_csv('CSV_files/Final_2010_data.csv',index_col=0)\n",
    "df3 = pd.read_csv('CSV_files/Final_2010_data_sample.csv',index_col=0)"
   ]
  },
  {
   "cell_type": "code",
   "execution_count": null,
   "metadata": {},
   "outputs": [],
   "source": [
    "# join the dataframes\n",
    "df = df3.merge(df2,how='inner',on='tractid')"
   ]
  },
  {
   "cell_type": "code",
   "execution_count": null,
   "metadata": {},
   "outputs": [],
   "source": []
  }
 ],
 "metadata": {
  "kernelspec": {
   "display_name": "Python 3",
   "language": "python",
   "name": "python3"
  },
  "language_info": {
   "codemirror_mode": {
    "name": "ipython",
    "version": 3
   },
   "file_extension": ".py",
   "mimetype": "text/x-python",
   "name": "python",
   "nbconvert_exporter": "python",
   "pygments_lexer": "ipython3",
   "version": "3.7.3"
  }
 },
 "nbformat": 4,
 "nbformat_minor": 2
}
