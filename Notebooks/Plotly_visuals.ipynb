{
 "cells": [
  {
   "cell_type": "code",
   "execution_count": 585,
   "metadata": {},
   "outputs": [],
   "source": [
    "import pandas as pd\n",
    "pd.set_option('display.max_rows',None)\n",
    "pd.set_option('display.max_columns',None)\n",
    "import numpy as np\n",
    "import plotly.graph_objects as go\n",
    "from ipywidgets import widgets"
   ]
  },
  {
   "cell_type": "code",
   "execution_count": 586,
   "metadata": {},
   "outputs": [],
   "source": [
    "## join up all the data so we can play around with visuals\n",
    "df_2000_1=pd.read_csv('CSV_files/Final_2000_data.csv',index_col=0)\n",
    "df_2000_2=pd.read_csv('CSV_files/Final_2000_data_sample.csv',index_col=0)\n",
    "\n",
    "df_2000 = df_2000_1.merge(df_2000_2,how='inner',on='tractid')\n",
    "\n",
    "# create a column on representing the year of the census data\n",
    "df_2000['year']='2000-01-01'\n",
    "df_2000['year']= pd.to_datetime(df_2000['year']) \n",
    "\n",
    "df_2010_1 = pd.read_csv('CSV_files/Final_2010_data.csv',index_col=0)\n",
    "df_2010_2= pd.read_csv('CSV_files/Final_2010_data_sample.csv',index_col=0)\n",
    "\n",
    "df_2010 = df_2010_1.merge(df_2010_2,how='inner',on='tractid')\n",
    "df_2010['year']='2010-01-01'\n",
    "df_2010['year']= pd.to_datetime(df_2010['year']) "
   ]
  },
  {
   "cell_type": "code",
   "execution_count": 587,
   "metadata": {},
   "outputs": [],
   "source": [
    "# import changes file too\n",
    "\n",
    "df_changes_full = pd.read_csv('CSV_files/fullcount_final.csv',index_col=0)\n",
    "df_changes_sample =  pd.read_csv('CSV_files/samplecount_final.csv',index_col=0)"
   ]
  },
  {
   "cell_type": "code",
   "execution_count": 588,
   "metadata": {},
   "outputs": [],
   "source": [
    "# before visualizing, remove all the tracts that were removed during EDA process\n",
    "tracts_to_remove = [25025981201,25025980300,25025981000,25025981202,25025981300,25025981501,25025981502,\n",
    "                    25025981600,25025981700,25025981800,25025060700,25025980700,25025980101]"
   ]
  },
  {
   "cell_type": "code",
   "execution_count": 589,
   "metadata": {},
   "outputs": [],
   "source": [
    "df_2010 = df_2010[df_2010['tractid'].isin(tracts_to_remove) == False]\n",
    "df_2000 = df_2000[df_2000['tractid'].isin(tracts_to_remove) == False]\n",
    "df_changes_full = df_changes_full[df_changes_full['tractid'].isin(tracts_to_remove) == False]\n",
    "df_changes_sample = df_changes_sample[df_changes_sample['tractid'].isin(tracts_to_remove) == False]"
   ]
  },
  {
   "cell_type": "code",
   "execution_count": 590,
   "metadata": {},
   "outputs": [],
   "source": [
    "# also drop 25025990101 bc it didnt exist in 2000, its index 203\n",
    "df_2010.drop(203,axis=0,inplace=True)"
   ]
  },
  {
   "cell_type": "code",
   "execution_count": 591,
   "metadata": {},
   "outputs": [],
   "source": [
    "df_plotly_2000= df_plotly_2000[df_plotly_2000['TRTID10'].isin(tracts_to_remove) == False]\n",
    "df_plotly_2010= df_plotly_2010[df_plotly_2010['tractid'].isin(tracts_to_remove) == False]"
   ]
  },
  {
   "cell_type": "code",
   "execution_count": 592,
   "metadata": {},
   "outputs": [],
   "source": [
    "df_2010.to_csv('plotly_2010.csv')\n",
    "df_2000.to_csv('plotly_2000.csv')"
   ]
  },
  {
   "cell_type": "code",
   "execution_count": 644,
   "metadata": {},
   "outputs": [],
   "source": [
    "cluster_df=pd.read_csv('CSV_files/clusters.csv')"
   ]
  },
  {
   "cell_type": "code",
   "execution_count": 684,
   "metadata": {},
   "outputs": [
    {
     "data": {
      "text/html": [
       "<div>\n",
       "<style scoped>\n",
       "    .dataframe tbody tr th:only-of-type {\n",
       "        vertical-align: middle;\n",
       "    }\n",
       "\n",
       "    .dataframe tbody tr th {\n",
       "        vertical-align: top;\n",
       "    }\n",
       "\n",
       "    .dataframe thead th {\n",
       "        text-align: right;\n",
       "    }\n",
       "</style>\n",
       "<table border=\"1\" class=\"dataframe\">\n",
       "  <thead>\n",
       "    <tr style=\"text-align: right;\">\n",
       "      <th></th>\n",
       "      <th>Unnamed: 0</th>\n",
       "      <th>tractid</th>\n",
       "      <th>cluster</th>\n",
       "      <th>HINC00_PC</th>\n",
       "      <th>MHMVAL00_PC</th>\n",
       "      <th>MRENT00_PC</th>\n",
       "      <th>percent_owneroccupied_00_PC</th>\n",
       "      <th>percent_non-white00_PC</th>\n",
       "      <th>percent_4yrcollege_degree_ormore_PC</th>\n",
       "      <th>cluster_name</th>\n",
       "    </tr>\n",
       "  </thead>\n",
       "  <tbody>\n",
       "    <tr>\n",
       "      <th>0</th>\n",
       "      <td>0</td>\n",
       "      <td>25025000100</td>\n",
       "      <td>1</td>\n",
       "      <td>-5.21</td>\n",
       "      <td>56.78</td>\n",
       "      <td>50.11</td>\n",
       "      <td>-12.52</td>\n",
       "      <td>27.33</td>\n",
       "      <td>-24.91</td>\n",
       "      <td>Becoming more affordable</td>\n",
       "    </tr>\n",
       "    <tr>\n",
       "      <th>1</th>\n",
       "      <td>1</td>\n",
       "      <td>25025000201</td>\n",
       "      <td>1</td>\n",
       "      <td>-16.97</td>\n",
       "      <td>100.30</td>\n",
       "      <td>41.78</td>\n",
       "      <td>-6.08</td>\n",
       "      <td>22.63</td>\n",
       "      <td>12.61</td>\n",
       "      <td>Becoming more affordable</td>\n",
       "    </tr>\n",
       "    <tr>\n",
       "      <th>2</th>\n",
       "      <td>2</td>\n",
       "      <td>25025000202</td>\n",
       "      <td>1</td>\n",
       "      <td>-24.08</td>\n",
       "      <td>56.41</td>\n",
       "      <td>58.41</td>\n",
       "      <td>-7.61</td>\n",
       "      <td>2.15</td>\n",
       "      <td>11.10</td>\n",
       "      <td>Becoming more affordable</td>\n",
       "    </tr>\n",
       "    <tr>\n",
       "      <th>3</th>\n",
       "      <td>3</td>\n",
       "      <td>25025000301</td>\n",
       "      <td>2</td>\n",
       "      <td>25.76</td>\n",
       "      <td>91.09</td>\n",
       "      <td>51.29</td>\n",
       "      <td>4.77</td>\n",
       "      <td>45.58</td>\n",
       "      <td>37.54</td>\n",
       "      <td>Remaining costly</td>\n",
       "    </tr>\n",
       "    <tr>\n",
       "      <th>4</th>\n",
       "      <td>4</td>\n",
       "      <td>25025000302</td>\n",
       "      <td>1</td>\n",
       "      <td>-15.31</td>\n",
       "      <td>24.16</td>\n",
       "      <td>15.71</td>\n",
       "      <td>-3.60</td>\n",
       "      <td>32.15</td>\n",
       "      <td>-1.16</td>\n",
       "      <td>Becoming more affordable</td>\n",
       "    </tr>\n",
       "  </tbody>\n",
       "</table>\n",
       "</div>"
      ],
      "text/plain": [
       "   Unnamed: 0      tractid  cluster  HINC00_PC  MHMVAL00_PC  MRENT00_PC  \\\n",
       "0           0  25025000100        1      -5.21        56.78       50.11   \n",
       "1           1  25025000201        1     -16.97       100.30       41.78   \n",
       "2           2  25025000202        1     -24.08        56.41       58.41   \n",
       "3           3  25025000301        2      25.76        91.09       51.29   \n",
       "4           4  25025000302        1     -15.31        24.16       15.71   \n",
       "\n",
       "   percent_owneroccupied_00_PC  percent_non-white00_PC  \\\n",
       "0                       -12.52                   27.33   \n",
       "1                        -6.08                   22.63   \n",
       "2                        -7.61                    2.15   \n",
       "3                         4.77                   45.58   \n",
       "4                        -3.60                   32.15   \n",
       "\n",
       "   percent_4yrcollege_degree_ormore_PC              cluster_name  \n",
       "0                               -24.91  Becoming more affordable  \n",
       "1                                12.61  Becoming more affordable  \n",
       "2                                11.10  Becoming more affordable  \n",
       "3                                37.54          Remaining costly  \n",
       "4                                -1.16  Becoming more affordable  "
      ]
     },
     "execution_count": 684,
     "metadata": {},
     "output_type": "execute_result"
    }
   ],
   "source": [
    "cluster_df.head()"
   ]
  },
  {
   "cell_type": "code",
   "execution_count": 686,
   "metadata": {},
   "outputs": [
    {
     "ename": "KeyError",
     "evalue": "25025000100",
     "output_type": "error",
     "traceback": [
      "\u001b[0;31m---------------------------------------------------------------------------\u001b[0m",
      "\u001b[0;31mKeyError\u001b[0m                                  Traceback (most recent call last)",
      "\u001b[0;32m~/anaconda3/lib/python3.7/site-packages/pandas/core/indexes/base.py\u001b[0m in \u001b[0;36mget_loc\u001b[0;34m(self, key, method, tolerance)\u001b[0m\n\u001b[1;32m   2656\u001b[0m             \u001b[0;32mtry\u001b[0m\u001b[0;34m:\u001b[0m\u001b[0;34m\u001b[0m\u001b[0;34m\u001b[0m\u001b[0m\n\u001b[0;32m-> 2657\u001b[0;31m                 \u001b[0;32mreturn\u001b[0m \u001b[0mself\u001b[0m\u001b[0;34m.\u001b[0m\u001b[0m_engine\u001b[0m\u001b[0;34m.\u001b[0m\u001b[0mget_loc\u001b[0m\u001b[0;34m(\u001b[0m\u001b[0mkey\u001b[0m\u001b[0;34m)\u001b[0m\u001b[0;34m\u001b[0m\u001b[0;34m\u001b[0m\u001b[0m\n\u001b[0m\u001b[1;32m   2658\u001b[0m             \u001b[0;32mexcept\u001b[0m \u001b[0mKeyError\u001b[0m\u001b[0;34m:\u001b[0m\u001b[0;34m\u001b[0m\u001b[0;34m\u001b[0m\u001b[0m\n",
      "\u001b[0;32mpandas/_libs/index.pyx\u001b[0m in \u001b[0;36mpandas._libs.index.IndexEngine.get_loc\u001b[0;34m()\u001b[0m\n",
      "\u001b[0;32mpandas/_libs/index.pyx\u001b[0m in \u001b[0;36mpandas._libs.index.IndexEngine.get_loc\u001b[0;34m()\u001b[0m\n",
      "\u001b[0;32mpandas/_libs/hashtable_class_helper.pxi\u001b[0m in \u001b[0;36mpandas._libs.hashtable.Int64HashTable.get_item\u001b[0;34m()\u001b[0m\n",
      "\u001b[0;32mpandas/_libs/hashtable_class_helper.pxi\u001b[0m in \u001b[0;36mpandas._libs.hashtable.Int64HashTable.get_item\u001b[0;34m()\u001b[0m\n",
      "\u001b[0;31mKeyError\u001b[0m: 25025000100",
      "\nDuring handling of the above exception, another exception occurred:\n",
      "\u001b[0;31mKeyError\u001b[0m                                  Traceback (most recent call last)",
      "\u001b[0;32m<ipython-input-686-a278bf6e5b4d>\u001b[0m in \u001b[0;36m<module>\u001b[0;34m\u001b[0m\n\u001b[0;32m----> 1\u001b[0;31m \u001b[0mcluster_df\u001b[0m\u001b[0;34m[\u001b[0m\u001b[0;34m'HINC00_PC'\u001b[0m\u001b[0;34m]\u001b[0m\u001b[0;34m.\u001b[0m\u001b[0mloc\u001b[0m\u001b[0;34m[\u001b[0m\u001b[0;36m25025000100\u001b[0m\u001b[0;34m]\u001b[0m\u001b[0;34m\u001b[0m\u001b[0;34m\u001b[0m\u001b[0m\n\u001b[0m",
      "\u001b[0;32m~/anaconda3/lib/python3.7/site-packages/pandas/core/indexing.py\u001b[0m in \u001b[0;36m__getitem__\u001b[0;34m(self, key)\u001b[0m\n\u001b[1;32m   1498\u001b[0m \u001b[0;34m\u001b[0m\u001b[0m\n\u001b[1;32m   1499\u001b[0m             \u001b[0mmaybe_callable\u001b[0m \u001b[0;34m=\u001b[0m \u001b[0mcom\u001b[0m\u001b[0;34m.\u001b[0m\u001b[0mapply_if_callable\u001b[0m\u001b[0;34m(\u001b[0m\u001b[0mkey\u001b[0m\u001b[0;34m,\u001b[0m \u001b[0mself\u001b[0m\u001b[0;34m.\u001b[0m\u001b[0mobj\u001b[0m\u001b[0;34m)\u001b[0m\u001b[0;34m\u001b[0m\u001b[0;34m\u001b[0m\u001b[0m\n\u001b[0;32m-> 1500\u001b[0;31m             \u001b[0;32mreturn\u001b[0m \u001b[0mself\u001b[0m\u001b[0;34m.\u001b[0m\u001b[0m_getitem_axis\u001b[0m\u001b[0;34m(\u001b[0m\u001b[0mmaybe_callable\u001b[0m\u001b[0;34m,\u001b[0m \u001b[0maxis\u001b[0m\u001b[0;34m=\u001b[0m\u001b[0maxis\u001b[0m\u001b[0;34m)\u001b[0m\u001b[0;34m\u001b[0m\u001b[0;34m\u001b[0m\u001b[0m\n\u001b[0m\u001b[1;32m   1501\u001b[0m \u001b[0;34m\u001b[0m\u001b[0m\n\u001b[1;32m   1502\u001b[0m     \u001b[0;32mdef\u001b[0m \u001b[0m_is_scalar_access\u001b[0m\u001b[0;34m(\u001b[0m\u001b[0mself\u001b[0m\u001b[0;34m,\u001b[0m \u001b[0mkey\u001b[0m\u001b[0;34m)\u001b[0m\u001b[0;34m:\u001b[0m\u001b[0;34m\u001b[0m\u001b[0;34m\u001b[0m\u001b[0m\n",
      "\u001b[0;32m~/anaconda3/lib/python3.7/site-packages/pandas/core/indexing.py\u001b[0m in \u001b[0;36m_getitem_axis\u001b[0;34m(self, key, axis)\u001b[0m\n\u001b[1;32m   1911\u001b[0m         \u001b[0;31m# fall thru to straight lookup\u001b[0m\u001b[0;34m\u001b[0m\u001b[0;34m\u001b[0m\u001b[0;34m\u001b[0m\u001b[0m\n\u001b[1;32m   1912\u001b[0m         \u001b[0mself\u001b[0m\u001b[0;34m.\u001b[0m\u001b[0m_validate_key\u001b[0m\u001b[0;34m(\u001b[0m\u001b[0mkey\u001b[0m\u001b[0;34m,\u001b[0m \u001b[0maxis\u001b[0m\u001b[0;34m)\u001b[0m\u001b[0;34m\u001b[0m\u001b[0;34m\u001b[0m\u001b[0m\n\u001b[0;32m-> 1913\u001b[0;31m         \u001b[0;32mreturn\u001b[0m \u001b[0mself\u001b[0m\u001b[0;34m.\u001b[0m\u001b[0m_get_label\u001b[0m\u001b[0;34m(\u001b[0m\u001b[0mkey\u001b[0m\u001b[0;34m,\u001b[0m \u001b[0maxis\u001b[0m\u001b[0;34m=\u001b[0m\u001b[0maxis\u001b[0m\u001b[0;34m)\u001b[0m\u001b[0;34m\u001b[0m\u001b[0;34m\u001b[0m\u001b[0m\n\u001b[0m\u001b[1;32m   1914\u001b[0m \u001b[0;34m\u001b[0m\u001b[0m\n\u001b[1;32m   1915\u001b[0m \u001b[0;34m\u001b[0m\u001b[0m\n",
      "\u001b[0;32m~/anaconda3/lib/python3.7/site-packages/pandas/core/indexing.py\u001b[0m in \u001b[0;36m_get_label\u001b[0;34m(self, label, axis)\u001b[0m\n\u001b[1;32m    135\u001b[0m             \u001b[0;31m# but will fail when the index is not present\u001b[0m\u001b[0;34m\u001b[0m\u001b[0;34m\u001b[0m\u001b[0;34m\u001b[0m\u001b[0m\n\u001b[1;32m    136\u001b[0m             \u001b[0;31m# see GH5667\u001b[0m\u001b[0;34m\u001b[0m\u001b[0;34m\u001b[0m\u001b[0;34m\u001b[0m\u001b[0m\n\u001b[0;32m--> 137\u001b[0;31m             \u001b[0;32mreturn\u001b[0m \u001b[0mself\u001b[0m\u001b[0;34m.\u001b[0m\u001b[0mobj\u001b[0m\u001b[0;34m.\u001b[0m\u001b[0m_xs\u001b[0m\u001b[0;34m(\u001b[0m\u001b[0mlabel\u001b[0m\u001b[0;34m,\u001b[0m \u001b[0maxis\u001b[0m\u001b[0;34m=\u001b[0m\u001b[0maxis\u001b[0m\u001b[0;34m)\u001b[0m\u001b[0;34m\u001b[0m\u001b[0;34m\u001b[0m\u001b[0m\n\u001b[0m\u001b[1;32m    138\u001b[0m         \u001b[0;32melif\u001b[0m \u001b[0misinstance\u001b[0m\u001b[0;34m(\u001b[0m\u001b[0mlabel\u001b[0m\u001b[0;34m,\u001b[0m \u001b[0mtuple\u001b[0m\u001b[0;34m)\u001b[0m \u001b[0;32mand\u001b[0m \u001b[0misinstance\u001b[0m\u001b[0;34m(\u001b[0m\u001b[0mlabel\u001b[0m\u001b[0;34m[\u001b[0m\u001b[0maxis\u001b[0m\u001b[0;34m]\u001b[0m\u001b[0;34m,\u001b[0m \u001b[0mslice\u001b[0m\u001b[0;34m)\u001b[0m\u001b[0;34m:\u001b[0m\u001b[0;34m\u001b[0m\u001b[0;34m\u001b[0m\u001b[0m\n\u001b[1;32m    139\u001b[0m             \u001b[0;32mraise\u001b[0m \u001b[0mIndexingError\u001b[0m\u001b[0;34m(\u001b[0m\u001b[0;34m'no slices here, handle elsewhere'\u001b[0m\u001b[0;34m)\u001b[0m\u001b[0;34m\u001b[0m\u001b[0;34m\u001b[0m\u001b[0m\n",
      "\u001b[0;32m~/anaconda3/lib/python3.7/site-packages/pandas/core/generic.py\u001b[0m in \u001b[0;36mxs\u001b[0;34m(self, key, axis, level, drop_level)\u001b[0m\n\u001b[1;32m   3583\u001b[0m                                                       drop_level=drop_level)\n\u001b[1;32m   3584\u001b[0m         \u001b[0;32melse\u001b[0m\u001b[0;34m:\u001b[0m\u001b[0;34m\u001b[0m\u001b[0;34m\u001b[0m\u001b[0m\n\u001b[0;32m-> 3585\u001b[0;31m             \u001b[0mloc\u001b[0m \u001b[0;34m=\u001b[0m \u001b[0mself\u001b[0m\u001b[0;34m.\u001b[0m\u001b[0mindex\u001b[0m\u001b[0;34m.\u001b[0m\u001b[0mget_loc\u001b[0m\u001b[0;34m(\u001b[0m\u001b[0mkey\u001b[0m\u001b[0;34m)\u001b[0m\u001b[0;34m\u001b[0m\u001b[0;34m\u001b[0m\u001b[0m\n\u001b[0m\u001b[1;32m   3586\u001b[0m \u001b[0;34m\u001b[0m\u001b[0m\n\u001b[1;32m   3587\u001b[0m             \u001b[0;32mif\u001b[0m \u001b[0misinstance\u001b[0m\u001b[0;34m(\u001b[0m\u001b[0mloc\u001b[0m\u001b[0;34m,\u001b[0m \u001b[0mnp\u001b[0m\u001b[0;34m.\u001b[0m\u001b[0mndarray\u001b[0m\u001b[0;34m)\u001b[0m\u001b[0;34m:\u001b[0m\u001b[0;34m\u001b[0m\u001b[0;34m\u001b[0m\u001b[0m\n",
      "\u001b[0;32m~/anaconda3/lib/python3.7/site-packages/pandas/core/indexes/base.py\u001b[0m in \u001b[0;36mget_loc\u001b[0;34m(self, key, method, tolerance)\u001b[0m\n\u001b[1;32m   2657\u001b[0m                 \u001b[0;32mreturn\u001b[0m \u001b[0mself\u001b[0m\u001b[0;34m.\u001b[0m\u001b[0m_engine\u001b[0m\u001b[0;34m.\u001b[0m\u001b[0mget_loc\u001b[0m\u001b[0;34m(\u001b[0m\u001b[0mkey\u001b[0m\u001b[0;34m)\u001b[0m\u001b[0;34m\u001b[0m\u001b[0;34m\u001b[0m\u001b[0m\n\u001b[1;32m   2658\u001b[0m             \u001b[0;32mexcept\u001b[0m \u001b[0mKeyError\u001b[0m\u001b[0;34m:\u001b[0m\u001b[0;34m\u001b[0m\u001b[0;34m\u001b[0m\u001b[0m\n\u001b[0;32m-> 2659\u001b[0;31m                 \u001b[0;32mreturn\u001b[0m \u001b[0mself\u001b[0m\u001b[0;34m.\u001b[0m\u001b[0m_engine\u001b[0m\u001b[0;34m.\u001b[0m\u001b[0mget_loc\u001b[0m\u001b[0;34m(\u001b[0m\u001b[0mself\u001b[0m\u001b[0;34m.\u001b[0m\u001b[0m_maybe_cast_indexer\u001b[0m\u001b[0;34m(\u001b[0m\u001b[0mkey\u001b[0m\u001b[0;34m)\u001b[0m\u001b[0;34m)\u001b[0m\u001b[0;34m\u001b[0m\u001b[0;34m\u001b[0m\u001b[0m\n\u001b[0m\u001b[1;32m   2660\u001b[0m         \u001b[0mindexer\u001b[0m \u001b[0;34m=\u001b[0m \u001b[0mself\u001b[0m\u001b[0;34m.\u001b[0m\u001b[0mget_indexer\u001b[0m\u001b[0;34m(\u001b[0m\u001b[0;34m[\u001b[0m\u001b[0mkey\u001b[0m\u001b[0;34m]\u001b[0m\u001b[0;34m,\u001b[0m \u001b[0mmethod\u001b[0m\u001b[0;34m=\u001b[0m\u001b[0mmethod\u001b[0m\u001b[0;34m,\u001b[0m \u001b[0mtolerance\u001b[0m\u001b[0;34m=\u001b[0m\u001b[0mtolerance\u001b[0m\u001b[0;34m)\u001b[0m\u001b[0;34m\u001b[0m\u001b[0;34m\u001b[0m\u001b[0m\n\u001b[1;32m   2661\u001b[0m         \u001b[0;32mif\u001b[0m \u001b[0mindexer\u001b[0m\u001b[0;34m.\u001b[0m\u001b[0mndim\u001b[0m \u001b[0;34m>\u001b[0m \u001b[0;36m1\u001b[0m \u001b[0;32mor\u001b[0m \u001b[0mindexer\u001b[0m\u001b[0;34m.\u001b[0m\u001b[0msize\u001b[0m \u001b[0;34m>\u001b[0m \u001b[0;36m1\u001b[0m\u001b[0;34m:\u001b[0m\u001b[0;34m\u001b[0m\u001b[0;34m\u001b[0m\u001b[0m\n",
      "\u001b[0;32mpandas/_libs/index.pyx\u001b[0m in \u001b[0;36mpandas._libs.index.IndexEngine.get_loc\u001b[0;34m()\u001b[0m\n",
      "\u001b[0;32mpandas/_libs/index.pyx\u001b[0m in \u001b[0;36mpandas._libs.index.IndexEngine.get_loc\u001b[0;34m()\u001b[0m\n",
      "\u001b[0;32mpandas/_libs/hashtable_class_helper.pxi\u001b[0m in \u001b[0;36mpandas._libs.hashtable.Int64HashTable.get_item\u001b[0;34m()\u001b[0m\n",
      "\u001b[0;32mpandas/_libs/hashtable_class_helper.pxi\u001b[0m in \u001b[0;36mpandas._libs.hashtable.Int64HashTable.get_item\u001b[0;34m()\u001b[0m\n",
      "\u001b[0;31mKeyError\u001b[0m: 25025000100"
     ]
    }
   ],
   "source": [
    "cluster_df['HINC00_PC'].loc[25025000100]"
   ]
  },
  {
   "cell_type": "code",
   "execution_count": 646,
   "metadata": {},
   "outputs": [],
   "source": [
    "cluster_and_2000=df_2000.merge(cluster_df,how='inner',on='tractid')"
   ]
  },
  {
   "cell_type": "code",
   "execution_count": 710,
   "metadata": {},
   "outputs": [],
   "source": [
    "cluster_and_2000.rename(columns={'HINC00_PC':'Percent Change in Median Income','MHMVAL00_PC':'Percent Change in Median Home Value',\n",
    "                   'MRENT00_PC':'Percent Change in Median Rent','percent_owneroccupied_00_PC':'Percent Change in Owner Occupied Homes',\n",
    "                    'percent_non-white00_PC':'Percent Change in Non-White Population','percent_4yrcollege_degree_ormore_PC':'Percent Change in Population with College Degree'},inplace=True)"
   ]
  },
  {
   "cell_type": "code",
   "execution_count": 712,
   "metadata": {},
   "outputs": [],
   "source": [
    "cluster_and_2000.to_csv('CSV_files/clusters_and_2000.csv')"
   ]
  },
  {
   "cell_type": "code",
   "execution_count": 711,
   "metadata": {},
   "outputs": [
    {
     "data": {
      "text/plain": [
       "Index(['Percent Change in Median Income',\n",
       "       'Percent Change in Median Home Value', 'Percent Change in Median Rent',\n",
       "       'Percent Change in Owner Occupied Homes',\n",
       "       'Percent Change in Non-White Population',\n",
       "       'Percent Change in Population with College Degree'],\n",
       "      dtype='object')"
      ]
     },
     "execution_count": 711,
     "metadata": {},
     "output_type": "execute_result"
    }
   ],
   "source": [
    "cluster_and_2000.columns[-7:-1]"
   ]
  },
  {
   "cell_type": "code",
   "execution_count": 651,
   "metadata": {},
   "outputs": [],
   "source": [
    "df1=df_2000.merge(cluster_df,how='inner',on='tractid')"
   ]
  },
  {
   "cell_type": "code",
   "execution_count": 667,
   "metadata": {},
   "outputs": [
    {
     "data": {
      "application/vnd.plotly.v1+json": {
       "config": {
        "plotlyServerURL": "https://plot.ly"
       },
       "data": [
        {
         "marker": {
          "color": "orange"
         },
         "name": "County Average",
         "r": [
          55907,
          32,
          378607,
          1117,
          64,
          41
         ],
         "theta": [
          "Median Household Income",
          "Median Home Value",
          "Median Rent",
          "% Owner Occupied Housing",
          "% Non-White",
          "% College Degree"
         ],
         "type": "scatterpolar"
        },
        {
         "name": "Remaining costly",
         "r": [
          56486,
          37,
          280846,
          951,
          49,
          35
         ],
         "theta": [
          "Median Household Income",
          "Median Home Value",
          "Median Rent",
          "% Owner Occupied Housing",
          "% Non-White",
          "% College Degree"
         ],
         "type": "scatterpolar"
        },
        {
         "name": "Becoming more affordable",
         "r": [
          50071,
          28,
          289275,
          976,
          63,
          38
         ],
         "theta": [
          "Median Household Income",
          "Median Home Value",
          "Median Rent",
          "% Owner Occupied Housing",
          "% Non-White",
          "% College Degree"
         ],
         "type": "scatterpolar"
        },
        {
         "name": "Gentrifying",
         "r": [
          38815,
          24,
          236787,
          711,
          69,
          17
         ],
         "theta": [
          "Median Household Income",
          "Median Home Value",
          "Median Rent",
          "% Owner Occupied Housing",
          "% Non-White",
          "% College Degree"
         ],
         "type": "scatterpolar"
        }
       ],
       "layout": {
        "polar": {
         "radialaxis": {
          "visible": true
         }
        },
        "showlegend": true,
        "template": {
         "data": {
          "bar": [
           {
            "error_x": {
             "color": "#2a3f5f"
            },
            "error_y": {
             "color": "#2a3f5f"
            },
            "marker": {
             "line": {
              "color": "#E5ECF6",
              "width": 0.5
             }
            },
            "type": "bar"
           }
          ],
          "barpolar": [
           {
            "marker": {
             "line": {
              "color": "#E5ECF6",
              "width": 0.5
             }
            },
            "type": "barpolar"
           }
          ],
          "carpet": [
           {
            "aaxis": {
             "endlinecolor": "#2a3f5f",
             "gridcolor": "white",
             "linecolor": "white",
             "minorgridcolor": "white",
             "startlinecolor": "#2a3f5f"
            },
            "baxis": {
             "endlinecolor": "#2a3f5f",
             "gridcolor": "white",
             "linecolor": "white",
             "minorgridcolor": "white",
             "startlinecolor": "#2a3f5f"
            },
            "type": "carpet"
           }
          ],
          "choropleth": [
           {
            "colorbar": {
             "outlinewidth": 0,
             "ticks": ""
            },
            "type": "choropleth"
           }
          ],
          "contour": [
           {
            "colorbar": {
             "outlinewidth": 0,
             "ticks": ""
            },
            "colorscale": [
             [
              0,
              "#0d0887"
             ],
             [
              0.1111111111111111,
              "#46039f"
             ],
             [
              0.2222222222222222,
              "#7201a8"
             ],
             [
              0.3333333333333333,
              "#9c179e"
             ],
             [
              0.4444444444444444,
              "#bd3786"
             ],
             [
              0.5555555555555556,
              "#d8576b"
             ],
             [
              0.6666666666666666,
              "#ed7953"
             ],
             [
              0.7777777777777778,
              "#fb9f3a"
             ],
             [
              0.8888888888888888,
              "#fdca26"
             ],
             [
              1,
              "#f0f921"
             ]
            ],
            "type": "contour"
           }
          ],
          "contourcarpet": [
           {
            "colorbar": {
             "outlinewidth": 0,
             "ticks": ""
            },
            "type": "contourcarpet"
           }
          ],
          "heatmap": [
           {
            "colorbar": {
             "outlinewidth": 0,
             "ticks": ""
            },
            "colorscale": [
             [
              0,
              "#0d0887"
             ],
             [
              0.1111111111111111,
              "#46039f"
             ],
             [
              0.2222222222222222,
              "#7201a8"
             ],
             [
              0.3333333333333333,
              "#9c179e"
             ],
             [
              0.4444444444444444,
              "#bd3786"
             ],
             [
              0.5555555555555556,
              "#d8576b"
             ],
             [
              0.6666666666666666,
              "#ed7953"
             ],
             [
              0.7777777777777778,
              "#fb9f3a"
             ],
             [
              0.8888888888888888,
              "#fdca26"
             ],
             [
              1,
              "#f0f921"
             ]
            ],
            "type": "heatmap"
           }
          ],
          "heatmapgl": [
           {
            "colorbar": {
             "outlinewidth": 0,
             "ticks": ""
            },
            "colorscale": [
             [
              0,
              "#0d0887"
             ],
             [
              0.1111111111111111,
              "#46039f"
             ],
             [
              0.2222222222222222,
              "#7201a8"
             ],
             [
              0.3333333333333333,
              "#9c179e"
             ],
             [
              0.4444444444444444,
              "#bd3786"
             ],
             [
              0.5555555555555556,
              "#d8576b"
             ],
             [
              0.6666666666666666,
              "#ed7953"
             ],
             [
              0.7777777777777778,
              "#fb9f3a"
             ],
             [
              0.8888888888888888,
              "#fdca26"
             ],
             [
              1,
              "#f0f921"
             ]
            ],
            "type": "heatmapgl"
           }
          ],
          "histogram": [
           {
            "marker": {
             "colorbar": {
              "outlinewidth": 0,
              "ticks": ""
             }
            },
            "type": "histogram"
           }
          ],
          "histogram2d": [
           {
            "colorbar": {
             "outlinewidth": 0,
             "ticks": ""
            },
            "colorscale": [
             [
              0,
              "#0d0887"
             ],
             [
              0.1111111111111111,
              "#46039f"
             ],
             [
              0.2222222222222222,
              "#7201a8"
             ],
             [
              0.3333333333333333,
              "#9c179e"
             ],
             [
              0.4444444444444444,
              "#bd3786"
             ],
             [
              0.5555555555555556,
              "#d8576b"
             ],
             [
              0.6666666666666666,
              "#ed7953"
             ],
             [
              0.7777777777777778,
              "#fb9f3a"
             ],
             [
              0.8888888888888888,
              "#fdca26"
             ],
             [
              1,
              "#f0f921"
             ]
            ],
            "type": "histogram2d"
           }
          ],
          "histogram2dcontour": [
           {
            "colorbar": {
             "outlinewidth": 0,
             "ticks": ""
            },
            "colorscale": [
             [
              0,
              "#0d0887"
             ],
             [
              0.1111111111111111,
              "#46039f"
             ],
             [
              0.2222222222222222,
              "#7201a8"
             ],
             [
              0.3333333333333333,
              "#9c179e"
             ],
             [
              0.4444444444444444,
              "#bd3786"
             ],
             [
              0.5555555555555556,
              "#d8576b"
             ],
             [
              0.6666666666666666,
              "#ed7953"
             ],
             [
              0.7777777777777778,
              "#fb9f3a"
             ],
             [
              0.8888888888888888,
              "#fdca26"
             ],
             [
              1,
              "#f0f921"
             ]
            ],
            "type": "histogram2dcontour"
           }
          ],
          "mesh3d": [
           {
            "colorbar": {
             "outlinewidth": 0,
             "ticks": ""
            },
            "type": "mesh3d"
           }
          ],
          "parcoords": [
           {
            "line": {
             "colorbar": {
              "outlinewidth": 0,
              "ticks": ""
             }
            },
            "type": "parcoords"
           }
          ],
          "scatter": [
           {
            "marker": {
             "colorbar": {
              "outlinewidth": 0,
              "ticks": ""
             }
            },
            "type": "scatter"
           }
          ],
          "scatter3d": [
           {
            "line": {
             "colorbar": {
              "outlinewidth": 0,
              "ticks": ""
             }
            },
            "marker": {
             "colorbar": {
              "outlinewidth": 0,
              "ticks": ""
             }
            },
            "type": "scatter3d"
           }
          ],
          "scattercarpet": [
           {
            "marker": {
             "colorbar": {
              "outlinewidth": 0,
              "ticks": ""
             }
            },
            "type": "scattercarpet"
           }
          ],
          "scattergeo": [
           {
            "marker": {
             "colorbar": {
              "outlinewidth": 0,
              "ticks": ""
             }
            },
            "type": "scattergeo"
           }
          ],
          "scattergl": [
           {
            "marker": {
             "colorbar": {
              "outlinewidth": 0,
              "ticks": ""
             }
            },
            "type": "scattergl"
           }
          ],
          "scattermapbox": [
           {
            "marker": {
             "colorbar": {
              "outlinewidth": 0,
              "ticks": ""
             }
            },
            "type": "scattermapbox"
           }
          ],
          "scatterpolar": [
           {
            "marker": {
             "colorbar": {
              "outlinewidth": 0,
              "ticks": ""
             }
            },
            "type": "scatterpolar"
           }
          ],
          "scatterpolargl": [
           {
            "marker": {
             "colorbar": {
              "outlinewidth": 0,
              "ticks": ""
             }
            },
            "type": "scatterpolargl"
           }
          ],
          "scatterternary": [
           {
            "marker": {
             "colorbar": {
              "outlinewidth": 0,
              "ticks": ""
             }
            },
            "type": "scatterternary"
           }
          ],
          "surface": [
           {
            "colorbar": {
             "outlinewidth": 0,
             "ticks": ""
            },
            "colorscale": [
             [
              0,
              "#0d0887"
             ],
             [
              0.1111111111111111,
              "#46039f"
             ],
             [
              0.2222222222222222,
              "#7201a8"
             ],
             [
              0.3333333333333333,
              "#9c179e"
             ],
             [
              0.4444444444444444,
              "#bd3786"
             ],
             [
              0.5555555555555556,
              "#d8576b"
             ],
             [
              0.6666666666666666,
              "#ed7953"
             ],
             [
              0.7777777777777778,
              "#fb9f3a"
             ],
             [
              0.8888888888888888,
              "#fdca26"
             ],
             [
              1,
              "#f0f921"
             ]
            ],
            "type": "surface"
           }
          ],
          "table": [
           {
            "cells": {
             "fill": {
              "color": "#EBF0F8"
             },
             "line": {
              "color": "white"
             }
            },
            "header": {
             "fill": {
              "color": "#C8D4E3"
             },
             "line": {
              "color": "white"
             }
            },
            "type": "table"
           }
          ]
         },
         "layout": {
          "annotationdefaults": {
           "arrowcolor": "#2a3f5f",
           "arrowhead": 0,
           "arrowwidth": 1
          },
          "colorscale": {
           "diverging": [
            [
             0,
             "#8e0152"
            ],
            [
             0.1,
             "#c51b7d"
            ],
            [
             0.2,
             "#de77ae"
            ],
            [
             0.3,
             "#f1b6da"
            ],
            [
             0.4,
             "#fde0ef"
            ],
            [
             0.5,
             "#f7f7f7"
            ],
            [
             0.6,
             "#e6f5d0"
            ],
            [
             0.7,
             "#b8e186"
            ],
            [
             0.8,
             "#7fbc41"
            ],
            [
             0.9,
             "#4d9221"
            ],
            [
             1,
             "#276419"
            ]
           ],
           "sequential": [
            [
             0,
             "#0d0887"
            ],
            [
             0.1111111111111111,
             "#46039f"
            ],
            [
             0.2222222222222222,
             "#7201a8"
            ],
            [
             0.3333333333333333,
             "#9c179e"
            ],
            [
             0.4444444444444444,
             "#bd3786"
            ],
            [
             0.5555555555555556,
             "#d8576b"
            ],
            [
             0.6666666666666666,
             "#ed7953"
            ],
            [
             0.7777777777777778,
             "#fb9f3a"
            ],
            [
             0.8888888888888888,
             "#fdca26"
            ],
            [
             1,
             "#f0f921"
            ]
           ],
           "sequentialminus": [
            [
             0,
             "#0d0887"
            ],
            [
             0.1111111111111111,
             "#46039f"
            ],
            [
             0.2222222222222222,
             "#7201a8"
            ],
            [
             0.3333333333333333,
             "#9c179e"
            ],
            [
             0.4444444444444444,
             "#bd3786"
            ],
            [
             0.5555555555555556,
             "#d8576b"
            ],
            [
             0.6666666666666666,
             "#ed7953"
            ],
            [
             0.7777777777777778,
             "#fb9f3a"
            ],
            [
             0.8888888888888888,
             "#fdca26"
            ],
            [
             1,
             "#f0f921"
            ]
           ]
          },
          "colorway": [
           "#636efa",
           "#EF553B",
           "#00cc96",
           "#ab63fa",
           "#FFA15A",
           "#19d3f3",
           "#FF6692",
           "#B6E880",
           "#FF97FF",
           "#FECB52"
          ],
          "font": {
           "color": "#2a3f5f"
          },
          "geo": {
           "bgcolor": "white",
           "lakecolor": "white",
           "landcolor": "#E5ECF6",
           "showlakes": true,
           "showland": true,
           "subunitcolor": "white"
          },
          "hoverlabel": {
           "align": "left"
          },
          "hovermode": "closest",
          "mapbox": {
           "style": "light"
          },
          "paper_bgcolor": "white",
          "plot_bgcolor": "#E5ECF6",
          "polar": {
           "angularaxis": {
            "gridcolor": "white",
            "linecolor": "white",
            "ticks": ""
           },
           "bgcolor": "#E5ECF6",
           "radialaxis": {
            "gridcolor": "white",
            "linecolor": "white",
            "ticks": ""
           }
          },
          "scene": {
           "xaxis": {
            "backgroundcolor": "#E5ECF6",
            "gridcolor": "white",
            "gridwidth": 2,
            "linecolor": "white",
            "showbackground": true,
            "ticks": "",
            "zerolinecolor": "white"
           },
           "yaxis": {
            "backgroundcolor": "#E5ECF6",
            "gridcolor": "white",
            "gridwidth": 2,
            "linecolor": "white",
            "showbackground": true,
            "ticks": "",
            "zerolinecolor": "white"
           },
           "zaxis": {
            "backgroundcolor": "#E5ECF6",
            "gridcolor": "white",
            "gridwidth": 2,
            "linecolor": "white",
            "showbackground": true,
            "ticks": "",
            "zerolinecolor": "white"
           }
          },
          "shapedefaults": {
           "line": {
            "color": "#2a3f5f"
           }
          },
          "ternary": {
           "aaxis": {
            "gridcolor": "white",
            "linecolor": "white",
            "ticks": ""
           },
           "baxis": {
            "gridcolor": "white",
            "linecolor": "white",
            "ticks": ""
           },
           "bgcolor": "#E5ECF6",
           "caxis": {
            "gridcolor": "white",
            "linecolor": "white",
            "ticks": ""
           }
          },
          "title": {
           "x": 0.05
          },
          "xaxis": {
           "automargin": true,
           "gridcolor": "white",
           "linecolor": "white",
           "ticks": "",
           "zerolinecolor": "white",
           "zerolinewidth": 2
          },
          "yaxis": {
           "automargin": true,
           "gridcolor": "white",
           "linecolor": "white",
           "ticks": "",
           "zerolinecolor": "white",
           "zerolinewidth": 2
          }
         }
        }
       }
      },
      "text/html": [
       "<div>\n",
       "        \n",
       "        \n",
       "            <div id=\"561f85a9-b891-42ea-815c-33be5a37186f\" class=\"plotly-graph-div\" style=\"height:525px; width:100%;\"></div>\n",
       "            <script type=\"text/javascript\">\n",
       "                require([\"plotly\"], function(Plotly) {\n",
       "                    window.PLOTLYENV=window.PLOTLYENV || {};\n",
       "                    \n",
       "                if (document.getElementById(\"561f85a9-b891-42ea-815c-33be5a37186f\")) {\n",
       "                    Plotly.newPlot(\n",
       "                        '561f85a9-b891-42ea-815c-33be5a37186f',\n",
       "                        [{\"marker\": {\"color\": \"orange\"}, \"name\": \"County Average\", \"r\": [55907, 32, 378607, 1117, 64, 41], \"theta\": [\"Median Household Income\", \"Median Home Value\", \"Median Rent\", \"% Owner Occupied Housing\", \"% Non-White\", \"% College Degree\"], \"type\": \"scatterpolar\"}, {\"name\": \"Remaining costly\", \"r\": [56486, 37, 280846, 951, 49, 35], \"theta\": [\"Median Household Income\", \"Median Home Value\", \"Median Rent\", \"% Owner Occupied Housing\", \"% Non-White\", \"% College Degree\"], \"type\": \"scatterpolar\"}, {\"name\": \"Becoming more affordable\", \"r\": [50071, 28, 289275, 976, 63, 38], \"theta\": [\"Median Household Income\", \"Median Home Value\", \"Median Rent\", \"% Owner Occupied Housing\", \"% Non-White\", \"% College Degree\"], \"type\": \"scatterpolar\"}, {\"name\": \"Gentrifying\", \"r\": [38815, 24, 236787, 711, 69, 17], \"theta\": [\"Median Household Income\", \"Median Home Value\", \"Median Rent\", \"% Owner Occupied Housing\", \"% Non-White\", \"% College Degree\"], \"type\": \"scatterpolar\"}],\n",
       "                        {\"polar\": {\"radialaxis\": {\"visible\": true}}, \"showlegend\": true, \"template\": {\"data\": {\"bar\": [{\"error_x\": {\"color\": \"#2a3f5f\"}, \"error_y\": {\"color\": \"#2a3f5f\"}, \"marker\": {\"line\": {\"color\": \"#E5ECF6\", \"width\": 0.5}}, \"type\": \"bar\"}], \"barpolar\": [{\"marker\": {\"line\": {\"color\": \"#E5ECF6\", \"width\": 0.5}}, \"type\": \"barpolar\"}], \"carpet\": [{\"aaxis\": {\"endlinecolor\": \"#2a3f5f\", \"gridcolor\": \"white\", \"linecolor\": \"white\", \"minorgridcolor\": \"white\", \"startlinecolor\": \"#2a3f5f\"}, \"baxis\": {\"endlinecolor\": \"#2a3f5f\", \"gridcolor\": \"white\", \"linecolor\": \"white\", \"minorgridcolor\": \"white\", \"startlinecolor\": \"#2a3f5f\"}, \"type\": \"carpet\"}], \"choropleth\": [{\"colorbar\": {\"outlinewidth\": 0, \"ticks\": \"\"}, \"type\": \"choropleth\"}], \"contour\": [{\"colorbar\": {\"outlinewidth\": 0, \"ticks\": \"\"}, \"colorscale\": [[0.0, \"#0d0887\"], [0.1111111111111111, \"#46039f\"], [0.2222222222222222, \"#7201a8\"], [0.3333333333333333, \"#9c179e\"], [0.4444444444444444, \"#bd3786\"], [0.5555555555555556, \"#d8576b\"], [0.6666666666666666, \"#ed7953\"], [0.7777777777777778, \"#fb9f3a\"], [0.8888888888888888, \"#fdca26\"], [1.0, \"#f0f921\"]], \"type\": \"contour\"}], \"contourcarpet\": [{\"colorbar\": {\"outlinewidth\": 0, \"ticks\": \"\"}, \"type\": \"contourcarpet\"}], \"heatmap\": [{\"colorbar\": {\"outlinewidth\": 0, \"ticks\": \"\"}, \"colorscale\": [[0.0, \"#0d0887\"], [0.1111111111111111, \"#46039f\"], [0.2222222222222222, \"#7201a8\"], [0.3333333333333333, \"#9c179e\"], [0.4444444444444444, \"#bd3786\"], [0.5555555555555556, \"#d8576b\"], [0.6666666666666666, \"#ed7953\"], [0.7777777777777778, \"#fb9f3a\"], [0.8888888888888888, \"#fdca26\"], [1.0, \"#f0f921\"]], \"type\": \"heatmap\"}], \"heatmapgl\": [{\"colorbar\": {\"outlinewidth\": 0, \"ticks\": \"\"}, \"colorscale\": [[0.0, \"#0d0887\"], [0.1111111111111111, \"#46039f\"], [0.2222222222222222, \"#7201a8\"], [0.3333333333333333, \"#9c179e\"], [0.4444444444444444, \"#bd3786\"], [0.5555555555555556, \"#d8576b\"], [0.6666666666666666, \"#ed7953\"], [0.7777777777777778, \"#fb9f3a\"], [0.8888888888888888, \"#fdca26\"], [1.0, \"#f0f921\"]], \"type\": \"heatmapgl\"}], \"histogram\": [{\"marker\": {\"colorbar\": {\"outlinewidth\": 0, \"ticks\": \"\"}}, \"type\": \"histogram\"}], \"histogram2d\": [{\"colorbar\": {\"outlinewidth\": 0, \"ticks\": \"\"}, \"colorscale\": [[0.0, \"#0d0887\"], [0.1111111111111111, \"#46039f\"], [0.2222222222222222, \"#7201a8\"], [0.3333333333333333, \"#9c179e\"], [0.4444444444444444, \"#bd3786\"], [0.5555555555555556, \"#d8576b\"], [0.6666666666666666, \"#ed7953\"], [0.7777777777777778, \"#fb9f3a\"], [0.8888888888888888, \"#fdca26\"], [1.0, \"#f0f921\"]], \"type\": \"histogram2d\"}], \"histogram2dcontour\": [{\"colorbar\": {\"outlinewidth\": 0, \"ticks\": \"\"}, \"colorscale\": [[0.0, \"#0d0887\"], [0.1111111111111111, \"#46039f\"], [0.2222222222222222, \"#7201a8\"], [0.3333333333333333, \"#9c179e\"], [0.4444444444444444, \"#bd3786\"], [0.5555555555555556, \"#d8576b\"], [0.6666666666666666, \"#ed7953\"], [0.7777777777777778, \"#fb9f3a\"], [0.8888888888888888, \"#fdca26\"], [1.0, \"#f0f921\"]], \"type\": \"histogram2dcontour\"}], \"mesh3d\": [{\"colorbar\": {\"outlinewidth\": 0, \"ticks\": \"\"}, \"type\": \"mesh3d\"}], \"parcoords\": [{\"line\": {\"colorbar\": {\"outlinewidth\": 0, \"ticks\": \"\"}}, \"type\": \"parcoords\"}], \"scatter\": [{\"marker\": {\"colorbar\": {\"outlinewidth\": 0, \"ticks\": \"\"}}, \"type\": \"scatter\"}], \"scatter3d\": [{\"line\": {\"colorbar\": {\"outlinewidth\": 0, \"ticks\": \"\"}}, \"marker\": {\"colorbar\": {\"outlinewidth\": 0, \"ticks\": \"\"}}, \"type\": \"scatter3d\"}], \"scattercarpet\": [{\"marker\": {\"colorbar\": {\"outlinewidth\": 0, \"ticks\": \"\"}}, \"type\": \"scattercarpet\"}], \"scattergeo\": [{\"marker\": {\"colorbar\": {\"outlinewidth\": 0, \"ticks\": \"\"}}, \"type\": \"scattergeo\"}], \"scattergl\": [{\"marker\": {\"colorbar\": {\"outlinewidth\": 0, \"ticks\": \"\"}}, \"type\": \"scattergl\"}], \"scattermapbox\": [{\"marker\": {\"colorbar\": {\"outlinewidth\": 0, \"ticks\": \"\"}}, \"type\": \"scattermapbox\"}], \"scatterpolar\": [{\"marker\": {\"colorbar\": {\"outlinewidth\": 0, \"ticks\": \"\"}}, \"type\": \"scatterpolar\"}], \"scatterpolargl\": [{\"marker\": {\"colorbar\": {\"outlinewidth\": 0, \"ticks\": \"\"}}, \"type\": \"scatterpolargl\"}], \"scatterternary\": [{\"marker\": {\"colorbar\": {\"outlinewidth\": 0, \"ticks\": \"\"}}, \"type\": \"scatterternary\"}], \"surface\": [{\"colorbar\": {\"outlinewidth\": 0, \"ticks\": \"\"}, \"colorscale\": [[0.0, \"#0d0887\"], [0.1111111111111111, \"#46039f\"], [0.2222222222222222, \"#7201a8\"], [0.3333333333333333, \"#9c179e\"], [0.4444444444444444, \"#bd3786\"], [0.5555555555555556, \"#d8576b\"], [0.6666666666666666, \"#ed7953\"], [0.7777777777777778, \"#fb9f3a\"], [0.8888888888888888, \"#fdca26\"], [1.0, \"#f0f921\"]], \"type\": \"surface\"}], \"table\": [{\"cells\": {\"fill\": {\"color\": \"#EBF0F8\"}, \"line\": {\"color\": \"white\"}}, \"header\": {\"fill\": {\"color\": \"#C8D4E3\"}, \"line\": {\"color\": \"white\"}}, \"type\": \"table\"}]}, \"layout\": {\"annotationdefaults\": {\"arrowcolor\": \"#2a3f5f\", \"arrowhead\": 0, \"arrowwidth\": 1}, \"colorscale\": {\"diverging\": [[0, \"#8e0152\"], [0.1, \"#c51b7d\"], [0.2, \"#de77ae\"], [0.3, \"#f1b6da\"], [0.4, \"#fde0ef\"], [0.5, \"#f7f7f7\"], [0.6, \"#e6f5d0\"], [0.7, \"#b8e186\"], [0.8, \"#7fbc41\"], [0.9, \"#4d9221\"], [1, \"#276419\"]], \"sequential\": [[0.0, \"#0d0887\"], [0.1111111111111111, \"#46039f\"], [0.2222222222222222, \"#7201a8\"], [0.3333333333333333, \"#9c179e\"], [0.4444444444444444, \"#bd3786\"], [0.5555555555555556, \"#d8576b\"], [0.6666666666666666, \"#ed7953\"], [0.7777777777777778, \"#fb9f3a\"], [0.8888888888888888, \"#fdca26\"], [1.0, \"#f0f921\"]], \"sequentialminus\": [[0.0, \"#0d0887\"], [0.1111111111111111, \"#46039f\"], [0.2222222222222222, \"#7201a8\"], [0.3333333333333333, \"#9c179e\"], [0.4444444444444444, \"#bd3786\"], [0.5555555555555556, \"#d8576b\"], [0.6666666666666666, \"#ed7953\"], [0.7777777777777778, \"#fb9f3a\"], [0.8888888888888888, \"#fdca26\"], [1.0, \"#f0f921\"]]}, \"colorway\": [\"#636efa\", \"#EF553B\", \"#00cc96\", \"#ab63fa\", \"#FFA15A\", \"#19d3f3\", \"#FF6692\", \"#B6E880\", \"#FF97FF\", \"#FECB52\"], \"font\": {\"color\": \"#2a3f5f\"}, \"geo\": {\"bgcolor\": \"white\", \"lakecolor\": \"white\", \"landcolor\": \"#E5ECF6\", \"showlakes\": true, \"showland\": true, \"subunitcolor\": \"white\"}, \"hoverlabel\": {\"align\": \"left\"}, \"hovermode\": \"closest\", \"mapbox\": {\"style\": \"light\"}, \"paper_bgcolor\": \"white\", \"plot_bgcolor\": \"#E5ECF6\", \"polar\": {\"angularaxis\": {\"gridcolor\": \"white\", \"linecolor\": \"white\", \"ticks\": \"\"}, \"bgcolor\": \"#E5ECF6\", \"radialaxis\": {\"gridcolor\": \"white\", \"linecolor\": \"white\", \"ticks\": \"\"}}, \"scene\": {\"xaxis\": {\"backgroundcolor\": \"#E5ECF6\", \"gridcolor\": \"white\", \"gridwidth\": 2, \"linecolor\": \"white\", \"showbackground\": true, \"ticks\": \"\", \"zerolinecolor\": \"white\"}, \"yaxis\": {\"backgroundcolor\": \"#E5ECF6\", \"gridcolor\": \"white\", \"gridwidth\": 2, \"linecolor\": \"white\", \"showbackground\": true, \"ticks\": \"\", \"zerolinecolor\": \"white\"}, \"zaxis\": {\"backgroundcolor\": \"#E5ECF6\", \"gridcolor\": \"white\", \"gridwidth\": 2, \"linecolor\": \"white\", \"showbackground\": true, \"ticks\": \"\", \"zerolinecolor\": \"white\"}}, \"shapedefaults\": {\"line\": {\"color\": \"#2a3f5f\"}}, \"ternary\": {\"aaxis\": {\"gridcolor\": \"white\", \"linecolor\": \"white\", \"ticks\": \"\"}, \"baxis\": {\"gridcolor\": \"white\", \"linecolor\": \"white\", \"ticks\": \"\"}, \"bgcolor\": \"#E5ECF6\", \"caxis\": {\"gridcolor\": \"white\", \"linecolor\": \"white\", \"ticks\": \"\"}}, \"title\": {\"x\": 0.05}, \"xaxis\": {\"automargin\": true, \"gridcolor\": \"white\", \"linecolor\": \"white\", \"ticks\": \"\", \"zerolinecolor\": \"white\", \"zerolinewidth\": 2}, \"yaxis\": {\"automargin\": true, \"gridcolor\": \"white\", \"linecolor\": \"white\", \"ticks\": \"\", \"zerolinecolor\": \"white\", \"zerolinewidth\": 2}}}},\n",
       "                        {\"responsive\": true}\n",
       "                    ).then(function(){\n",
       "                            \n",
       "var gd = document.getElementById('561f85a9-b891-42ea-815c-33be5a37186f');\n",
       "var x = new MutationObserver(function (mutations, observer) {{\n",
       "        var display = window.getComputedStyle(gd).display;\n",
       "        if (!display || display === 'none') {{\n",
       "            console.log([gd, 'removed!']);\n",
       "            Plotly.purge(gd);\n",
       "            observer.disconnect();\n",
       "        }}\n",
       "}});\n",
       "\n",
       "// Listen for the removal of the full notebook cells\n",
       "var notebookContainer = gd.closest('#notebook-container');\n",
       "if (notebookContainer) {{\n",
       "    x.observe(notebookContainer, {childList: true});\n",
       "}}\n",
       "\n",
       "// Listen for the clearing of the current output cell\n",
       "var outputEl = gd.closest('.output');\n",
       "if (outputEl) {{\n",
       "    x.observe(outputEl, {childList: true});\n",
       "}}\n",
       "\n",
       "                        })\n",
       "                };\n",
       "                });\n",
       "            </script>\n",
       "        </div>"
      ]
     },
     "metadata": {},
     "output_type": "display_data"
    }
   ],
   "source": [
    "categories=['Median Household Income','Median Home Value','Median Rent', \n",
    "         '% Owner Occupied Housing', '% Non-White',\n",
    "         '% College Degree']\n",
    "fig = go.Figure()\n",
    "\n",
    "fig.add_trace(go.Scatterpolar(\n",
    "      r=[55907,32,378607,1117,64,41],\n",
    "      theta=categories,\n",
    "      name='County Average',\n",
    "      marker={\n",
    "        'color':'orange'\n",
    "    }\n",
    "))\n",
    "\n",
    "fig.add_trace(go.Scatterpolar(\n",
    "  r=[56486,37,280846,951,49,35],\n",
    "  theta=categories,\n",
    "    name='Remaining costly'\n",
    "))\n",
    "\n",
    "fig.add_trace(go.Scatterpolar(\n",
    "      r=[50071,28,289275,976,63,38],\n",
    "      theta=categories,\n",
    "      name='Becoming more affordable'\n",
    "))\n",
    "fig.add_trace(go.Scatterpolar(\n",
    "      r=[38815,24,236787,711,69,17],\n",
    "      theta=categories,\n",
    "      name='Gentrifying'\n",
    "))\n",
    "fig.update_layout(\n",
    "  polar=dict(\n",
    "    radialaxis=dict(\n",
    "      visible=True,\n",
    "    ),\n",
    "      \n",
    "  ),\n",
    "  showlegend=True\n",
    ")\n",
    "\n",
    "fig.show()"
   ]
  },
  {
   "cell_type": "code",
   "execution_count": 661,
   "metadata": {},
   "outputs": [
    {
     "data": {
      "text/plain": [
       "HINC00                               51003.701258\n",
       "percent_owneroccupied_00                31.490385\n",
       "MHMVAL00                            277074.143915\n",
       "MRENT00                                922.301268\n",
       "percent_non-white00                     57.858739\n",
       "percent_4yrcollege_degree_ormore        33.356281\n",
       "dtype: float64"
      ]
     },
     "execution_count": 661,
     "metadata": {},
     "output_type": "execute_result"
    }
   ],
   "source": [
    "df1[['HINC00','percent_owneroccupied_00','MHMVAL00','MRENT00','percent_non-white00','percent_4yrcollege_degree_ormore']].mean()"
   ]
  },
  {
   "cell_type": "code",
   "execution_count": 663,
   "metadata": {},
   "outputs": [
    {
     "data": {
      "text/plain": [
       "hinc12                       55906.868421\n",
       "percent_owneroccupied_10        31.991918\n",
       "mhmval12                    378607.394737\n",
       "mrent12                       1116.894737\n",
       "non-white10                     63.681032\n",
       "pcol12                          41.296526\n",
       "dtype: float64"
      ]
     },
     "execution_count": 663,
     "metadata": {},
     "output_type": "execute_result"
    }
   ],
   "source": [
    "df2[['hinc12','percent_owneroccupied_10','mhmval12','mrent12','non-white10','pcol12']].mean()"
   ]
  },
  {
   "cell_type": "code",
   "execution_count": 658,
   "metadata": {},
   "outputs": [
    {
     "data": {
      "text/html": [
       "<div>\n",
       "<style scoped>\n",
       "    .dataframe tbody tr th:only-of-type {\n",
       "        vertical-align: middle;\n",
       "    }\n",
       "\n",
       "    .dataframe tbody tr th {\n",
       "        vertical-align: top;\n",
       "    }\n",
       "\n",
       "    .dataframe thead th {\n",
       "        text-align: right;\n",
       "    }\n",
       "</style>\n",
       "<table border=\"1\" class=\"dataframe\">\n",
       "  <thead>\n",
       "    <tr style=\"text-align: right;\">\n",
       "      <th></th>\n",
       "      <th>HINC00</th>\n",
       "      <th>percent_owneroccupied_00</th>\n",
       "      <th>MHMVAL00</th>\n",
       "      <th>MRENT00</th>\n",
       "      <th>percent_non-white00</th>\n",
       "      <th>percent_4yrcollege_degree_ormore</th>\n",
       "    </tr>\n",
       "    <tr>\n",
       "      <th>cluster_name</th>\n",
       "      <th></th>\n",
       "      <th></th>\n",
       "      <th></th>\n",
       "      <th></th>\n",
       "      <th></th>\n",
       "      <th></th>\n",
       "    </tr>\n",
       "  </thead>\n",
       "  <tbody>\n",
       "    <tr>\n",
       "      <th>Becoming more affordable</th>\n",
       "      <td>50071.892877</td>\n",
       "      <td>28.337898</td>\n",
       "      <td>289275.967114</td>\n",
       "      <td>976.248698</td>\n",
       "      <td>62.758259</td>\n",
       "      <td>38.401296</td>\n",
       "    </tr>\n",
       "    <tr>\n",
       "      <th>Gentrifying</th>\n",
       "      <td>38815.015570</td>\n",
       "      <td>24.615605</td>\n",
       "      <td>236787.053914</td>\n",
       "      <td>711.065697</td>\n",
       "      <td>69.162572</td>\n",
       "      <td>16.959610</td>\n",
       "    </tr>\n",
       "    <tr>\n",
       "      <th>Remaining costly</th>\n",
       "      <td>56486.609816</td>\n",
       "      <td>37.049649</td>\n",
       "      <td>280846.819569</td>\n",
       "      <td>951.500665</td>\n",
       "      <td>48.984569</td>\n",
       "      <td>34.817631</td>\n",
       "    </tr>\n",
       "  </tbody>\n",
       "</table>\n",
       "</div>"
      ],
      "text/plain": [
       "                                HINC00  percent_owneroccupied_00  \\\n",
       "cluster_name                                                       \n",
       "Becoming more affordable  50071.892877                 28.337898   \n",
       "Gentrifying               38815.015570                 24.615605   \n",
       "Remaining costly          56486.609816                 37.049649   \n",
       "\n",
       "                               MHMVAL00     MRENT00  percent_non-white00  \\\n",
       "cluster_name                                                               \n",
       "Becoming more affordable  289275.967114  976.248698            62.758259   \n",
       "Gentrifying               236787.053914  711.065697            69.162572   \n",
       "Remaining costly          280846.819569  951.500665            48.984569   \n",
       "\n",
       "                          percent_4yrcollege_degree_ormore  \n",
       "cluster_name                                                \n",
       "Becoming more affordable                         38.401296  \n",
       "Gentrifying                                      16.959610  \n",
       "Remaining costly                                 34.817631  "
      ]
     },
     "execution_count": 658,
     "metadata": {},
     "output_type": "execute_result"
    }
   ],
   "source": [
    "df1.groupby('cluster_name')['HINC00','percent_owneroccupied_00','MHMVAL00','MRENT00','percent_non-white00','percent_4yrcollege_degree_ormore'].mean()"
   ]
  },
  {
   "cell_type": "code",
   "execution_count": 659,
   "metadata": {},
   "outputs": [
    {
     "data": {
      "text/html": [
       "<div>\n",
       "<style scoped>\n",
       "    .dataframe tbody tr th:only-of-type {\n",
       "        vertical-align: middle;\n",
       "    }\n",
       "\n",
       "    .dataframe tbody tr th {\n",
       "        vertical-align: top;\n",
       "    }\n",
       "\n",
       "    .dataframe thead th {\n",
       "        text-align: right;\n",
       "    }\n",
       "</style>\n",
       "<table border=\"1\" class=\"dataframe\">\n",
       "  <thead>\n",
       "    <tr style=\"text-align: right;\">\n",
       "      <th></th>\n",
       "      <th>hinc12</th>\n",
       "      <th>percent_owneroccupied_10</th>\n",
       "      <th>mhmval12</th>\n",
       "      <th>mrent12</th>\n",
       "      <th>non-white10</th>\n",
       "      <th>pcol12</th>\n",
       "    </tr>\n",
       "    <tr>\n",
       "      <th>cluster_name</th>\n",
       "      <th></th>\n",
       "      <th></th>\n",
       "      <th></th>\n",
       "      <th></th>\n",
       "      <th></th>\n",
       "      <th></th>\n",
       "    </tr>\n",
       "  </thead>\n",
       "  <tbody>\n",
       "    <tr>\n",
       "      <th>Becoming more affordable</th>\n",
       "      <td>44872.090909</td>\n",
       "      <td>26.779719</td>\n",
       "      <td>372684.480519</td>\n",
       "      <td>1085.038961</td>\n",
       "      <td>69.633559</td>\n",
       "      <td>39.670130</td>\n",
       "    </tr>\n",
       "    <tr>\n",
       "      <th>Gentrifying</th>\n",
       "      <td>50964.000000</td>\n",
       "      <td>28.798752</td>\n",
       "      <td>342251.612903</td>\n",
       "      <td>963.935484</td>\n",
       "      <td>69.784084</td>\n",
       "      <td>36.856129</td>\n",
       "    </tr>\n",
       "    <tr>\n",
       "      <th>Remaining costly</th>\n",
       "      <td>68137.439024</td>\n",
       "      <td>38.093474</td>\n",
       "      <td>397913.414634</td>\n",
       "      <td>1204.634146</td>\n",
       "      <td>55.784213</td>\n",
       "      <td>44.502439</td>\n",
       "    </tr>\n",
       "  </tbody>\n",
       "</table>\n",
       "</div>"
      ],
      "text/plain": [
       "                                hinc12  percent_owneroccupied_10  \\\n",
       "cluster_name                                                       \n",
       "Becoming more affordable  44872.090909                 26.779719   \n",
       "Gentrifying               50964.000000                 28.798752   \n",
       "Remaining costly          68137.439024                 38.093474   \n",
       "\n",
       "                               mhmval12      mrent12  non-white10     pcol12  \n",
       "cluster_name                                                                  \n",
       "Becoming more affordable  372684.480519  1085.038961    69.633559  39.670130  \n",
       "Gentrifying               342251.612903   963.935484    69.784084  36.856129  \n",
       "Remaining costly          397913.414634  1204.634146    55.784213  44.502439  "
      ]
     },
     "execution_count": 659,
     "metadata": {},
     "output_type": "execute_result"
    }
   ],
   "source": [
    "df2.groupby('cluster_name')['hinc12','percent_owneroccupied_10','mhmval12','mrent12','non-white10','pcol12'].mean()"
   ]
  },
  {
   "cell_type": "code",
   "execution_count": 652,
   "metadata": {},
   "outputs": [],
   "source": [
    "df2=df_2010.merge(cluster_df,how='inner',on='tractid')"
   ]
  },
  {
   "cell_type": "code",
   "execution_count": 605,
   "metadata": {},
   "outputs": [
    {
     "data": {
      "text/html": [
       "<div>\n",
       "<style scoped>\n",
       "    .dataframe tbody tr th:only-of-type {\n",
       "        vertical-align: middle;\n",
       "    }\n",
       "\n",
       "    .dataframe tbody tr th {\n",
       "        vertical-align: top;\n",
       "    }\n",
       "\n",
       "    .dataframe thead th {\n",
       "        text-align: right;\n",
       "    }\n",
       "</style>\n",
       "<table border=\"1\" class=\"dataframe\">\n",
       "  <thead>\n",
       "    <tr style=\"text-align: right;\">\n",
       "      <th></th>\n",
       "      <th>tractid</th>\n",
       "      <th>state</th>\n",
       "      <th>county</th>\n",
       "      <th>tract</th>\n",
       "      <th>POP00</th>\n",
       "      <th>NHWHT00</th>\n",
       "      <th>NHBLK00</th>\n",
       "      <th>NTV00</th>\n",
       "      <th>ASIAN00</th>\n",
       "      <th>HISP00</th>\n",
       "      <th>HAW00</th>\n",
       "      <th>INDIA00</th>\n",
       "      <th>CHINA00</th>\n",
       "      <th>FILIP00</th>\n",
       "      <th>JAPAN00</th>\n",
       "      <th>KOREA00</th>\n",
       "      <th>VIET00</th>\n",
       "      <th>MEX00</th>\n",
       "      <th>PR00</th>\n",
       "      <th>CUBAN00</th>\n",
       "      <th>HU00</th>\n",
       "      <th>VAC00</th>\n",
       "      <th>OHU00</th>\n",
       "      <th>A18UND00</th>\n",
       "      <th>A60UP00</th>\n",
       "      <th>A75UP00</th>\n",
       "      <th>AGEWHT00</th>\n",
       "      <th>A15WHT00</th>\n",
       "      <th>A60WHT00</th>\n",
       "      <th>AGEBLK00</th>\n",
       "      <th>A15BLK00</th>\n",
       "      <th>A60BLK00</th>\n",
       "      <th>AGEHSP00</th>\n",
       "      <th>A15HSP00</th>\n",
       "      <th>A60HSP00</th>\n",
       "      <th>AGENTV00</th>\n",
       "      <th>A15NTV00</th>\n",
       "      <th>A60NTV00</th>\n",
       "      <th>AGEASN00</th>\n",
       "      <th>A15ASN00</th>\n",
       "      <th>A60ASN00</th>\n",
       "      <th>FAMILY00</th>\n",
       "      <th>FHH00</th>\n",
       "      <th>OWN00</th>\n",
       "      <th>RENT00</th>\n",
       "      <th>GlobD00</th>\n",
       "      <th>GlobG00</th>\n",
       "      <th>percent_white00</th>\n",
       "      <th>percent_black00</th>\n",
       "      <th>percent_asian00</th>\n",
       "      <th>percent_hispanic00</th>\n",
       "      <th>percent_indian00</th>\n",
       "      <th>percent_chinese00</th>\n",
       "      <th>percent_filip00</th>\n",
       "      <th>percent_japan00</th>\n",
       "      <th>percent_korean00</th>\n",
       "      <th>percent_viet00</th>\n",
       "      <th>percent_mex00</th>\n",
       "      <th>percent_pr00</th>\n",
       "      <th>percent_cuban00</th>\n",
       "      <th>percent_vacant_housing00</th>\n",
       "      <th>percent_occupied_housing00</th>\n",
       "      <th>percent_under18_00</th>\n",
       "      <th>percent_60andup_00</th>\n",
       "      <th>percent_75andup_00</th>\n",
       "      <th>percent_owneroccupied_00</th>\n",
       "      <th>percent_renteroccupied_00</th>\n",
       "      <th>percent_non-white00</th>\n",
       "      <th>INCPC00</th>\n",
       "      <th>HINC00</th>\n",
       "      <th>MHMVAL00</th>\n",
       "      <th>MRENT00</th>\n",
       "      <th>percent_foreign_born</th>\n",
       "      <th>percent_naturalized</th>\n",
       "      <th>percent_recent_immigrants(10)</th>\n",
       "      <th>percent_other_languages</th>\n",
       "      <th>percent_hs_degree_orless</th>\n",
       "      <th>percent_4yrcollege_degree_ormore</th>\n",
       "      <th>percent_married</th>\n",
       "      <th>percent_unemployed</th>\n",
       "      <th>percent_employed</th>\n",
       "      <th>percent_professional</th>\n",
       "      <th>percent_manufacturing</th>\n",
       "      <th>percent_self_employed</th>\n",
       "      <th>percent_poverty</th>\n",
       "      <th>percent_houses_30yrsago</th>\n",
       "      <th>percent_multiunit_houses</th>\n",
       "      <th>year</th>\n",
       "      <th>Unnamed: 0</th>\n",
       "      <th>level_0</th>\n",
       "      <th>index</th>\n",
       "      <th>cluster</th>\n",
       "      <th>HINC00_PC</th>\n",
       "      <th>MHMVAL00_PC</th>\n",
       "      <th>MRENT00_PC</th>\n",
       "      <th>percent_owneroccupied_00_PC</th>\n",
       "      <th>percent_non-white00_PC</th>\n",
       "      <th>percent_4yrcollege_degree_ormore_PC</th>\n",
       "      <th>cluster_name</th>\n",
       "    </tr>\n",
       "  </thead>\n",
       "  <tbody>\n",
       "    <tr>\n",
       "      <th>35</th>\n",
       "      <td>25025020302</td>\n",
       "      <td>MA</td>\n",
       "      <td>Suffolk County</td>\n",
       "      <td>Census Tract 203.02</td>\n",
       "      <td>1258.999958</td>\n",
       "      <td>904.270691</td>\n",
       "      <td>121.168846</td>\n",
       "      <td>6.850535</td>\n",
       "      <td>142.576767</td>\n",
       "      <td>74.927734</td>\n",
       "      <td>0.0</td>\n",
       "      <td>30.82741</td>\n",
       "      <td>40.032818</td>\n",
       "      <td>8.991327</td>\n",
       "      <td>37.035706</td>\n",
       "      <td>14.557387</td>\n",
       "      <td>4.281585</td>\n",
       "      <td>12.844754</td>\n",
       "      <td>17.126339</td>\n",
       "      <td>1.712634</td>\n",
       "      <td>704.534729</td>\n",
       "      <td>49.666382</td>\n",
       "      <td>654.868347</td>\n",
       "      <td>93.552628</td>\n",
       "      <td>227.780304</td>\n",
       "      <td>88.628799</td>\n",
       "      <td>904.270691</td>\n",
       "      <td>46.241116</td>\n",
       "      <td>205.730148</td>\n",
       "      <td>115.174629</td>\n",
       "      <td>5.56606</td>\n",
       "      <td>8.34909</td>\n",
       "      <td>74.927734</td>\n",
       "      <td>7.278694</td>\n",
       "      <td>4.281585</td>\n",
       "      <td>3.639347</td>\n",
       "      <td>0.214079</td>\n",
       "      <td>0.428158</td>\n",
       "      <td>132.515045</td>\n",
       "      <td>14.343308</td>\n",
       "      <td>6.636456</td>\n",
       "      <td>177.043518</td>\n",
       "      <td>12.416595</td>\n",
       "      <td>198.451447</td>\n",
       "      <td>456.416931</td>\n",
       "      <td>wba</td>\n",
       "      <td>Semi global</td>\n",
       "      <td>71.824521</td>\n",
       "      <td>9.624214</td>\n",
       "      <td>11.324605</td>\n",
       "      <td>5.951369</td>\n",
       "      <td>2.448563</td>\n",
       "      <td>3.179731</td>\n",
       "      <td>0.714164</td>\n",
       "      <td>2.941676</td>\n",
       "      <td>1.156266</td>\n",
       "      <td>0.340078</td>\n",
       "      <td>1.020235</td>\n",
       "      <td>1.360313</td>\n",
       "      <td>0.136031</td>\n",
       "      <td>7.049529</td>\n",
       "      <td>92.950471</td>\n",
       "      <td>7.430709</td>\n",
       "      <td>18.092161</td>\n",
       "      <td>7.039619</td>\n",
       "      <td>28.167731</td>\n",
       "      <td>64.782744</td>\n",
       "      <td>40.741371</td>\n",
       "      <td>58649.948825</td>\n",
       "      <td>66050.205569</td>\n",
       "      <td>354817.26114</td>\n",
       "      <td>1518.293665</td>\n",
       "      <td>19.91158</td>\n",
       "      <td>7.107634</td>\n",
       "      <td>10.491413</td>\n",
       "      <td>23.450703</td>\n",
       "      <td>23.215007</td>\n",
       "      <td>61.234369</td>\n",
       "      <td>41.835061</td>\n",
       "      <td>4.272699</td>\n",
       "      <td>95.727306</td>\n",
       "      <td>76.895306</td>\n",
       "      <td>3.249097</td>\n",
       "      <td>10.731867</td>\n",
       "      <td>11.066072</td>\n",
       "      <td>67.395929</td>\n",
       "      <td>99.48344</td>\n",
       "      <td>2000-01-01</td>\n",
       "      <td>35</td>\n",
       "      <td>35</td>\n",
       "      <td>35</td>\n",
       "      <td>2</td>\n",
       "      <td>34.37</td>\n",
       "      <td>98.61</td>\n",
       "      <td>43.12</td>\n",
       "      <td>9.8</td>\n",
       "      <td>-45.34</td>\n",
       "      <td>41.72</td>\n",
       "      <td>Average</td>\n",
       "    </tr>\n",
       "  </tbody>\n",
       "</table>\n",
       "</div>"
      ],
      "text/plain": [
       "        tractid state          county                tract        POP00  \\\n",
       "35  25025020302    MA  Suffolk County  Census Tract 203.02  1258.999958   \n",
       "\n",
       "       NHWHT00     NHBLK00     NTV00     ASIAN00     HISP00  HAW00   INDIA00  \\\n",
       "35  904.270691  121.168846  6.850535  142.576767  74.927734    0.0  30.82741   \n",
       "\n",
       "      CHINA00   FILIP00    JAPAN00    KOREA00    VIET00      MEX00       PR00  \\\n",
       "35  40.032818  8.991327  37.035706  14.557387  4.281585  12.844754  17.126339   \n",
       "\n",
       "     CUBAN00        HU00      VAC00       OHU00   A18UND00     A60UP00  \\\n",
       "35  1.712634  704.534729  49.666382  654.868347  93.552628  227.780304   \n",
       "\n",
       "      A75UP00    AGEWHT00   A15WHT00    A60WHT00    AGEBLK00  A15BLK00  \\\n",
       "35  88.628799  904.270691  46.241116  205.730148  115.174629   5.56606   \n",
       "\n",
       "    A60BLK00   AGEHSP00  A15HSP00  A60HSP00  AGENTV00  A15NTV00  A60NTV00  \\\n",
       "35   8.34909  74.927734  7.278694  4.281585  3.639347  0.214079  0.428158   \n",
       "\n",
       "      AGEASN00   A15ASN00  A60ASN00    FAMILY00      FHH00       OWN00  \\\n",
       "35  132.515045  14.343308  6.636456  177.043518  12.416595  198.451447   \n",
       "\n",
       "        RENT00 GlobD00      GlobG00  percent_white00  percent_black00  \\\n",
       "35  456.416931     wba  Semi global        71.824521         9.624214   \n",
       "\n",
       "    percent_asian00  percent_hispanic00  percent_indian00  percent_chinese00  \\\n",
       "35        11.324605            5.951369          2.448563           3.179731   \n",
       "\n",
       "    percent_filip00  percent_japan00  percent_korean00  percent_viet00  \\\n",
       "35         0.714164         2.941676          1.156266        0.340078   \n",
       "\n",
       "    percent_mex00  percent_pr00  percent_cuban00  percent_vacant_housing00  \\\n",
       "35       1.020235      1.360313         0.136031                  7.049529   \n",
       "\n",
       "    percent_occupied_housing00  percent_under18_00  percent_60andup_00  \\\n",
       "35                   92.950471            7.430709           18.092161   \n",
       "\n",
       "    percent_75andup_00  percent_owneroccupied_00  percent_renteroccupied_00  \\\n",
       "35            7.039619                 28.167731                  64.782744   \n",
       "\n",
       "    percent_non-white00       INCPC00        HINC00      MHMVAL00  \\\n",
       "35            40.741371  58649.948825  66050.205569  354817.26114   \n",
       "\n",
       "        MRENT00  percent_foreign_born  percent_naturalized  \\\n",
       "35  1518.293665              19.91158             7.107634   \n",
       "\n",
       "    percent_recent_immigrants(10)  percent_other_languages  \\\n",
       "35                      10.491413                23.450703   \n",
       "\n",
       "    percent_hs_degree_orless  percent_4yrcollege_degree_ormore  \\\n",
       "35                 23.215007                         61.234369   \n",
       "\n",
       "    percent_married  percent_unemployed  percent_employed  \\\n",
       "35        41.835061            4.272699         95.727306   \n",
       "\n",
       "    percent_professional  percent_manufacturing  percent_self_employed  \\\n",
       "35             76.895306               3.249097              10.731867   \n",
       "\n",
       "    percent_poverty  percent_houses_30yrsago  percent_multiunit_houses  \\\n",
       "35        11.066072                67.395929                  99.48344   \n",
       "\n",
       "         year  Unnamed: 0  level_0  index  cluster  HINC00_PC  MHMVAL00_PC  \\\n",
       "35 2000-01-01          35       35     35        2      34.37        98.61   \n",
       "\n",
       "    MRENT00_PC  percent_owneroccupied_00_PC  percent_non-white00_PC  \\\n",
       "35       43.12                          9.8                  -45.34   \n",
       "\n",
       "    percent_4yrcollege_degree_ormore_PC cluster_name  \n",
       "35                                41.72      Average  "
      ]
     },
     "execution_count": 605,
     "metadata": {},
     "output_type": "execute_result"
    }
   ],
   "source": [
    "cluster_and_2000[cluster_and_2000['tractid']==25025020302]"
   ]
  },
  {
   "cell_type": "code",
   "execution_count": 606,
   "metadata": {},
   "outputs": [
    {
     "data": {
      "text/html": [
       "<div>\n",
       "<style scoped>\n",
       "    .dataframe tbody tr th:only-of-type {\n",
       "        vertical-align: middle;\n",
       "    }\n",
       "\n",
       "    .dataframe tbody tr th {\n",
       "        vertical-align: top;\n",
       "    }\n",
       "\n",
       "    .dataframe thead th {\n",
       "        text-align: right;\n",
       "    }\n",
       "</style>\n",
       "<table border=\"1\" class=\"dataframe\">\n",
       "  <thead>\n",
       "    <tr style=\"text-align: right;\">\n",
       "      <th></th>\n",
       "      <th>tractid</th>\n",
       "      <th>state</th>\n",
       "      <th>county</th>\n",
       "      <th>tract</th>\n",
       "      <th>POP00</th>\n",
       "      <th>NHWHT00</th>\n",
       "      <th>NHBLK00</th>\n",
       "      <th>NTV00</th>\n",
       "      <th>ASIAN00</th>\n",
       "      <th>HISP00</th>\n",
       "      <th>HAW00</th>\n",
       "      <th>INDIA00</th>\n",
       "      <th>CHINA00</th>\n",
       "      <th>FILIP00</th>\n",
       "      <th>JAPAN00</th>\n",
       "      <th>KOREA00</th>\n",
       "      <th>VIET00</th>\n",
       "      <th>MEX00</th>\n",
       "      <th>PR00</th>\n",
       "      <th>CUBAN00</th>\n",
       "      <th>HU00</th>\n",
       "      <th>VAC00</th>\n",
       "      <th>OHU00</th>\n",
       "      <th>A18UND00</th>\n",
       "      <th>A60UP00</th>\n",
       "      <th>A75UP00</th>\n",
       "      <th>AGEWHT00</th>\n",
       "      <th>A15WHT00</th>\n",
       "      <th>A60WHT00</th>\n",
       "      <th>AGEBLK00</th>\n",
       "      <th>A15BLK00</th>\n",
       "      <th>A60BLK00</th>\n",
       "      <th>AGEHSP00</th>\n",
       "      <th>A15HSP00</th>\n",
       "      <th>A60HSP00</th>\n",
       "      <th>AGENTV00</th>\n",
       "      <th>A15NTV00</th>\n",
       "      <th>A60NTV00</th>\n",
       "      <th>AGEASN00</th>\n",
       "      <th>A15ASN00</th>\n",
       "      <th>A60ASN00</th>\n",
       "      <th>FAMILY00</th>\n",
       "      <th>FHH00</th>\n",
       "      <th>OWN00</th>\n",
       "      <th>RENT00</th>\n",
       "      <th>GlobD00</th>\n",
       "      <th>GlobG00</th>\n",
       "      <th>percent_white00</th>\n",
       "      <th>percent_black00</th>\n",
       "      <th>percent_asian00</th>\n",
       "      <th>percent_hispanic00</th>\n",
       "      <th>percent_indian00</th>\n",
       "      <th>percent_chinese00</th>\n",
       "      <th>percent_filip00</th>\n",
       "      <th>percent_japan00</th>\n",
       "      <th>percent_korean00</th>\n",
       "      <th>percent_viet00</th>\n",
       "      <th>percent_mex00</th>\n",
       "      <th>percent_pr00</th>\n",
       "      <th>percent_cuban00</th>\n",
       "      <th>percent_vacant_housing00</th>\n",
       "      <th>percent_occupied_housing00</th>\n",
       "      <th>percent_under18_00</th>\n",
       "      <th>percent_60andup_00</th>\n",
       "      <th>percent_75andup_00</th>\n",
       "      <th>percent_owneroccupied_00</th>\n",
       "      <th>percent_renteroccupied_00</th>\n",
       "      <th>percent_non-white00</th>\n",
       "      <th>INCPC00</th>\n",
       "      <th>HINC00</th>\n",
       "      <th>MHMVAL00</th>\n",
       "      <th>MRENT00</th>\n",
       "      <th>percent_foreign_born</th>\n",
       "      <th>percent_naturalized</th>\n",
       "      <th>percent_recent_immigrants(10)</th>\n",
       "      <th>percent_other_languages</th>\n",
       "      <th>percent_hs_degree_orless</th>\n",
       "      <th>percent_4yrcollege_degree_ormore</th>\n",
       "      <th>percent_married</th>\n",
       "      <th>percent_unemployed</th>\n",
       "      <th>percent_employed</th>\n",
       "      <th>percent_professional</th>\n",
       "      <th>percent_manufacturing</th>\n",
       "      <th>percent_self_employed</th>\n",
       "      <th>percent_poverty</th>\n",
       "      <th>percent_houses_30yrsago</th>\n",
       "      <th>percent_multiunit_houses</th>\n",
       "      <th>year</th>\n",
       "      <th>Unnamed: 0</th>\n",
       "      <th>level_0</th>\n",
       "      <th>index</th>\n",
       "      <th>cluster</th>\n",
       "      <th>HINC00_PC</th>\n",
       "      <th>MHMVAL00_PC</th>\n",
       "      <th>MRENT00_PC</th>\n",
       "      <th>percent_owneroccupied_00_PC</th>\n",
       "      <th>percent_non-white00_PC</th>\n",
       "      <th>percent_4yrcollege_degree_ormore_PC</th>\n",
       "      <th>cluster_name</th>\n",
       "    </tr>\n",
       "  </thead>\n",
       "  <tbody>\n",
       "    <tr>\n",
       "      <th>36</th>\n",
       "      <td>25025020303</td>\n",
       "      <td>MA</td>\n",
       "      <td>Suffolk County</td>\n",
       "      <td>Census Tract 203.03</td>\n",
       "      <td>2806.675935</td>\n",
       "      <td>2015.88147</td>\n",
       "      <td>270.120483</td>\n",
       "      <td>15.27183</td>\n",
       "      <td>317.84494</td>\n",
       "      <td>167.035629</td>\n",
       "      <td>0.0</td>\n",
       "      <td>68.723236</td>\n",
       "      <td>89.244751</td>\n",
       "      <td>20.044277</td>\n",
       "      <td>82.563332</td>\n",
       "      <td>32.452637</td>\n",
       "      <td>9.544893</td>\n",
       "      <td>28.63468</td>\n",
       "      <td>38.179573</td>\n",
       "      <td>3.817957</td>\n",
       "      <td>1570.612183</td>\n",
       "      <td>110.720764</td>\n",
       "      <td>1459.891479</td>\n",
       "      <td>208.555924</td>\n",
       "      <td>507.78833</td>\n",
       "      <td>197.5793</td>\n",
       "      <td>2015.88147</td>\n",
       "      <td>103.084846</td>\n",
       "      <td>458.632141</td>\n",
       "      <td>256.757629</td>\n",
       "      <td>12.408361</td>\n",
       "      <td>18.612543</td>\n",
       "      <td>167.035629</td>\n",
       "      <td>16.226318</td>\n",
       "      <td>9.544893</td>\n",
       "      <td>8.113159</td>\n",
       "      <td>0.477245</td>\n",
       "      <td>0.954489</td>\n",
       "      <td>295.414459</td>\n",
       "      <td>31.975393</td>\n",
       "      <td>14.794585</td>\n",
       "      <td>394.681335</td>\n",
       "      <td>27.680191</td>\n",
       "      <td>442.405823</td>\n",
       "      <td>1017.485657</td>\n",
       "      <td>wba</td>\n",
       "      <td>Semi global</td>\n",
       "      <td>71.824518</td>\n",
       "      <td>9.624213</td>\n",
       "      <td>11.324604</td>\n",
       "      <td>5.951369</td>\n",
       "      <td>2.448563</td>\n",
       "      <td>3.179731</td>\n",
       "      <td>0.714164</td>\n",
       "      <td>2.941677</td>\n",
       "      <td>1.156266</td>\n",
       "      <td>0.340078</td>\n",
       "      <td>1.020235</td>\n",
       "      <td>1.360313</td>\n",
       "      <td>0.136031</td>\n",
       "      <td>7.049529</td>\n",
       "      <td>92.950475</td>\n",
       "      <td>7.430709</td>\n",
       "      <td>18.092161</td>\n",
       "      <td>7.039619</td>\n",
       "      <td>28.167732</td>\n",
       "      <td>64.782743</td>\n",
       "      <td>40.74137</td>\n",
       "      <td>58649.948901</td>\n",
       "      <td>66050.20881</td>\n",
       "      <td>354817.252909</td>\n",
       "      <td>1518.293686</td>\n",
       "      <td>19.91158</td>\n",
       "      <td>7.107635</td>\n",
       "      <td>10.491413</td>\n",
       "      <td>23.450703</td>\n",
       "      <td>23.215004</td>\n",
       "      <td>61.234364</td>\n",
       "      <td>41.835064</td>\n",
       "      <td>4.272698</td>\n",
       "      <td>95.727302</td>\n",
       "      <td>76.895309</td>\n",
       "      <td>3.249097</td>\n",
       "      <td>10.731867</td>\n",
       "      <td>11.066072</td>\n",
       "      <td>67.39593</td>\n",
       "      <td>99.48344</td>\n",
       "      <td>2000-01-01</td>\n",
       "      <td>36</td>\n",
       "      <td>36</td>\n",
       "      <td>36</td>\n",
       "      <td>2</td>\n",
       "      <td>26.72</td>\n",
       "      <td>52.89</td>\n",
       "      <td>66.89</td>\n",
       "      <td>-14.66</td>\n",
       "      <td>39.47</td>\n",
       "      <td>12.99</td>\n",
       "      <td>Average</td>\n",
       "    </tr>\n",
       "  </tbody>\n",
       "</table>\n",
       "</div>"
      ],
      "text/plain": [
       "        tractid state          county                tract        POP00  \\\n",
       "36  25025020303    MA  Suffolk County  Census Tract 203.03  2806.675935   \n",
       "\n",
       "       NHWHT00     NHBLK00     NTV00    ASIAN00      HISP00  HAW00    INDIA00  \\\n",
       "36  2015.88147  270.120483  15.27183  317.84494  167.035629    0.0  68.723236   \n",
       "\n",
       "      CHINA00    FILIP00    JAPAN00    KOREA00    VIET00     MEX00       PR00  \\\n",
       "36  89.244751  20.044277  82.563332  32.452637  9.544893  28.63468  38.179573   \n",
       "\n",
       "     CUBAN00         HU00       VAC00        OHU00    A18UND00    A60UP00  \\\n",
       "36  3.817957  1570.612183  110.720764  1459.891479  208.555924  507.78833   \n",
       "\n",
       "     A75UP00    AGEWHT00    A15WHT00    A60WHT00    AGEBLK00   A15BLK00  \\\n",
       "36  197.5793  2015.88147  103.084846  458.632141  256.757629  12.408361   \n",
       "\n",
       "     A60BLK00    AGEHSP00   A15HSP00  A60HSP00  AGENTV00  A15NTV00  A60NTV00  \\\n",
       "36  18.612543  167.035629  16.226318  9.544893  8.113159  0.477245  0.954489   \n",
       "\n",
       "      AGEASN00   A15ASN00   A60ASN00    FAMILY00      FHH00       OWN00  \\\n",
       "36  295.414459  31.975393  14.794585  394.681335  27.680191  442.405823   \n",
       "\n",
       "         RENT00 GlobD00      GlobG00  percent_white00  percent_black00  \\\n",
       "36  1017.485657     wba  Semi global        71.824518         9.624213   \n",
       "\n",
       "    percent_asian00  percent_hispanic00  percent_indian00  percent_chinese00  \\\n",
       "36        11.324604            5.951369          2.448563           3.179731   \n",
       "\n",
       "    percent_filip00  percent_japan00  percent_korean00  percent_viet00  \\\n",
       "36         0.714164         2.941677          1.156266        0.340078   \n",
       "\n",
       "    percent_mex00  percent_pr00  percent_cuban00  percent_vacant_housing00  \\\n",
       "36       1.020235      1.360313         0.136031                  7.049529   \n",
       "\n",
       "    percent_occupied_housing00  percent_under18_00  percent_60andup_00  \\\n",
       "36                   92.950475            7.430709           18.092161   \n",
       "\n",
       "    percent_75andup_00  percent_owneroccupied_00  percent_renteroccupied_00  \\\n",
       "36            7.039619                 28.167732                  64.782743   \n",
       "\n",
       "    percent_non-white00       INCPC00       HINC00       MHMVAL00  \\\n",
       "36             40.74137  58649.948901  66050.20881  354817.252909   \n",
       "\n",
       "        MRENT00  percent_foreign_born  percent_naturalized  \\\n",
       "36  1518.293686              19.91158             7.107635   \n",
       "\n",
       "    percent_recent_immigrants(10)  percent_other_languages  \\\n",
       "36                      10.491413                23.450703   \n",
       "\n",
       "    percent_hs_degree_orless  percent_4yrcollege_degree_ormore  \\\n",
       "36                 23.215004                         61.234364   \n",
       "\n",
       "    percent_married  percent_unemployed  percent_employed  \\\n",
       "36        41.835064            4.272698         95.727302   \n",
       "\n",
       "    percent_professional  percent_manufacturing  percent_self_employed  \\\n",
       "36             76.895309               3.249097              10.731867   \n",
       "\n",
       "    percent_poverty  percent_houses_30yrsago  percent_multiunit_houses  \\\n",
       "36        11.066072                 67.39593                  99.48344   \n",
       "\n",
       "         year  Unnamed: 0  level_0  index  cluster  HINC00_PC  MHMVAL00_PC  \\\n",
       "36 2000-01-01          36       36     36        2      26.72        52.89   \n",
       "\n",
       "    MRENT00_PC  percent_owneroccupied_00_PC  percent_non-white00_PC  \\\n",
       "36       66.89                       -14.66                   39.47   \n",
       "\n",
       "    percent_4yrcollege_degree_ormore_PC cluster_name  \n",
       "36                                12.99      Average  "
      ]
     },
     "execution_count": 606,
     "metadata": {},
     "output_type": "execute_result"
    }
   ],
   "source": [
    "cluster_and_2000[cluster_and_2000['tractid']==25025020303]"
   ]
  },
  {
   "cell_type": "markdown",
   "metadata": {},
   "source": [
    "## EDA"
   ]
  },
  {
   "cell_type": "markdown",
   "metadata": {},
   "source": [
    "### Racial and ethnic changes"
   ]
  },
  {
   "cell_type": "code",
   "execution_count": 211,
   "metadata": {},
   "outputs": [
    {
     "data": {
      "text/plain": [
       "-0.03519017636997504"
      ]
     },
     "execution_count": 211,
     "metadata": {},
     "output_type": "execute_result"
    }
   ],
   "source": [
    "# 3% decline in white population\n",
    "(df_2010.nhwht10.sum()-df_2000.NHWHT00.sum())/df_2000.NHWHT00.sum()"
   ]
  },
  {
   "cell_type": "code",
   "execution_count": 212,
   "metadata": {},
   "outputs": [
    {
     "data": {
      "text/plain": [
       "0.1577839994293794"
      ]
     },
     "execution_count": 212,
     "metadata": {},
     "output_type": "execute_result"
    }
   ],
   "source": [
    "# 16% increase in non-white population\n",
    "((df_2010[['nhblk10','ntv10','asian10','hisp10',\n",
    "                                                   'haw10','india10','china10','filip10',\n",
    "                                                   'japan10','korea10','viet10','mex10',\n",
    "                                                   'pr10','cuban10']].sum().sum())-df_2000[['NHBLK00','NTV00','ASIAN00','HISP00',\n",
    "                                                   'HAW00','INDIA00','CHINA00','FILIP00',\n",
    "                                                   'JAPAN00','KOREA00','VIET00','MEX00',\n",
    "                                                   'PR00','CUBAN00']].sum().sum())/(df_2000[['NHBLK00','NTV00','ASIAN00','HISP00',\n",
    "                                                   'HAW00','INDIA00','CHINA00','FILIP00',\n",
    "                                                   'JAPAN00','KOREA00','VIET00','MEX00',\n",
    "                                                   'PR00','CUBAN00']].sum().sum())"
   ]
  },
  {
   "cell_type": "code",
   "execution_count": null,
   "metadata": {},
   "outputs": [],
   "source": [
    "import plotly.graph_objects as go\n",
    "animals=['giraffes', 'orangutans', 'monkeys']\n",
    "\n",
    "fig = go.Figure(data=[\n",
    "    go.Bar(name='SF Zoo', x=animals, y=[20, 14, 23]),\n",
    "    go.Bar(name='LA Zoo', x=animals, y=[12, 18, 29])\n",
    "])\n",
    "# Change the bar mode\n",
    "fig.update_layout(barmode='stack')\n",
    "fig.show()"
   ]
  },
  {
   "cell_type": "code",
   "execution_count": 262,
   "metadata": {},
   "outputs": [
    {
     "data": {
      "application/vnd.plotly.v1+json": {
       "config": {
        "plotlyServerURL": "https://plot.ly"
       },
       "data": [
        {
         "name": "White",
         "type": "bar",
         "x": [
          "2000",
          "2010"
         ],
         "y": [
          359634.605185214,
          346979
         ]
        },
        {
         "name": "Non-white",
         "type": "bar",
         "x": [
          "2000",
          "2010"
         ],
         "y": [
          405939.2773018433,
          469990
         ]
        }
       ],
       "layout": {
        "barmode": "stack",
        "template": {
         "data": {
          "bar": [
           {
            "error_x": {
             "color": "#2a3f5f"
            },
            "error_y": {
             "color": "#2a3f5f"
            },
            "marker": {
             "line": {
              "color": "#E5ECF6",
              "width": 0.5
             }
            },
            "type": "bar"
           }
          ],
          "barpolar": [
           {
            "marker": {
             "line": {
              "color": "#E5ECF6",
              "width": 0.5
             }
            },
            "type": "barpolar"
           }
          ],
          "carpet": [
           {
            "aaxis": {
             "endlinecolor": "#2a3f5f",
             "gridcolor": "white",
             "linecolor": "white",
             "minorgridcolor": "white",
             "startlinecolor": "#2a3f5f"
            },
            "baxis": {
             "endlinecolor": "#2a3f5f",
             "gridcolor": "white",
             "linecolor": "white",
             "minorgridcolor": "white",
             "startlinecolor": "#2a3f5f"
            },
            "type": "carpet"
           }
          ],
          "choropleth": [
           {
            "colorbar": {
             "outlinewidth": 0,
             "ticks": ""
            },
            "type": "choropleth"
           }
          ],
          "contour": [
           {
            "colorbar": {
             "outlinewidth": 0,
             "ticks": ""
            },
            "colorscale": [
             [
              0,
              "#0d0887"
             ],
             [
              0.1111111111111111,
              "#46039f"
             ],
             [
              0.2222222222222222,
              "#7201a8"
             ],
             [
              0.3333333333333333,
              "#9c179e"
             ],
             [
              0.4444444444444444,
              "#bd3786"
             ],
             [
              0.5555555555555556,
              "#d8576b"
             ],
             [
              0.6666666666666666,
              "#ed7953"
             ],
             [
              0.7777777777777778,
              "#fb9f3a"
             ],
             [
              0.8888888888888888,
              "#fdca26"
             ],
             [
              1,
              "#f0f921"
             ]
            ],
            "type": "contour"
           }
          ],
          "contourcarpet": [
           {
            "colorbar": {
             "outlinewidth": 0,
             "ticks": ""
            },
            "type": "contourcarpet"
           }
          ],
          "heatmap": [
           {
            "colorbar": {
             "outlinewidth": 0,
             "ticks": ""
            },
            "colorscale": [
             [
              0,
              "#0d0887"
             ],
             [
              0.1111111111111111,
              "#46039f"
             ],
             [
              0.2222222222222222,
              "#7201a8"
             ],
             [
              0.3333333333333333,
              "#9c179e"
             ],
             [
              0.4444444444444444,
              "#bd3786"
             ],
             [
              0.5555555555555556,
              "#d8576b"
             ],
             [
              0.6666666666666666,
              "#ed7953"
             ],
             [
              0.7777777777777778,
              "#fb9f3a"
             ],
             [
              0.8888888888888888,
              "#fdca26"
             ],
             [
              1,
              "#f0f921"
             ]
            ],
            "type": "heatmap"
           }
          ],
          "heatmapgl": [
           {
            "colorbar": {
             "outlinewidth": 0,
             "ticks": ""
            },
            "colorscale": [
             [
              0,
              "#0d0887"
             ],
             [
              0.1111111111111111,
              "#46039f"
             ],
             [
              0.2222222222222222,
              "#7201a8"
             ],
             [
              0.3333333333333333,
              "#9c179e"
             ],
             [
              0.4444444444444444,
              "#bd3786"
             ],
             [
              0.5555555555555556,
              "#d8576b"
             ],
             [
              0.6666666666666666,
              "#ed7953"
             ],
             [
              0.7777777777777778,
              "#fb9f3a"
             ],
             [
              0.8888888888888888,
              "#fdca26"
             ],
             [
              1,
              "#f0f921"
             ]
            ],
            "type": "heatmapgl"
           }
          ],
          "histogram": [
           {
            "marker": {
             "colorbar": {
              "outlinewidth": 0,
              "ticks": ""
             }
            },
            "type": "histogram"
           }
          ],
          "histogram2d": [
           {
            "colorbar": {
             "outlinewidth": 0,
             "ticks": ""
            },
            "colorscale": [
             [
              0,
              "#0d0887"
             ],
             [
              0.1111111111111111,
              "#46039f"
             ],
             [
              0.2222222222222222,
              "#7201a8"
             ],
             [
              0.3333333333333333,
              "#9c179e"
             ],
             [
              0.4444444444444444,
              "#bd3786"
             ],
             [
              0.5555555555555556,
              "#d8576b"
             ],
             [
              0.6666666666666666,
              "#ed7953"
             ],
             [
              0.7777777777777778,
              "#fb9f3a"
             ],
             [
              0.8888888888888888,
              "#fdca26"
             ],
             [
              1,
              "#f0f921"
             ]
            ],
            "type": "histogram2d"
           }
          ],
          "histogram2dcontour": [
           {
            "colorbar": {
             "outlinewidth": 0,
             "ticks": ""
            },
            "colorscale": [
             [
              0,
              "#0d0887"
             ],
             [
              0.1111111111111111,
              "#46039f"
             ],
             [
              0.2222222222222222,
              "#7201a8"
             ],
             [
              0.3333333333333333,
              "#9c179e"
             ],
             [
              0.4444444444444444,
              "#bd3786"
             ],
             [
              0.5555555555555556,
              "#d8576b"
             ],
             [
              0.6666666666666666,
              "#ed7953"
             ],
             [
              0.7777777777777778,
              "#fb9f3a"
             ],
             [
              0.8888888888888888,
              "#fdca26"
             ],
             [
              1,
              "#f0f921"
             ]
            ],
            "type": "histogram2dcontour"
           }
          ],
          "mesh3d": [
           {
            "colorbar": {
             "outlinewidth": 0,
             "ticks": ""
            },
            "type": "mesh3d"
           }
          ],
          "parcoords": [
           {
            "line": {
             "colorbar": {
              "outlinewidth": 0,
              "ticks": ""
             }
            },
            "type": "parcoords"
           }
          ],
          "scatter": [
           {
            "marker": {
             "colorbar": {
              "outlinewidth": 0,
              "ticks": ""
             }
            },
            "type": "scatter"
           }
          ],
          "scatter3d": [
           {
            "line": {
             "colorbar": {
              "outlinewidth": 0,
              "ticks": ""
             }
            },
            "marker": {
             "colorbar": {
              "outlinewidth": 0,
              "ticks": ""
             }
            },
            "type": "scatter3d"
           }
          ],
          "scattercarpet": [
           {
            "marker": {
             "colorbar": {
              "outlinewidth": 0,
              "ticks": ""
             }
            },
            "type": "scattercarpet"
           }
          ],
          "scattergeo": [
           {
            "marker": {
             "colorbar": {
              "outlinewidth": 0,
              "ticks": ""
             }
            },
            "type": "scattergeo"
           }
          ],
          "scattergl": [
           {
            "marker": {
             "colorbar": {
              "outlinewidth": 0,
              "ticks": ""
             }
            },
            "type": "scattergl"
           }
          ],
          "scattermapbox": [
           {
            "marker": {
             "colorbar": {
              "outlinewidth": 0,
              "ticks": ""
             }
            },
            "type": "scattermapbox"
           }
          ],
          "scatterpolar": [
           {
            "marker": {
             "colorbar": {
              "outlinewidth": 0,
              "ticks": ""
             }
            },
            "type": "scatterpolar"
           }
          ],
          "scatterpolargl": [
           {
            "marker": {
             "colorbar": {
              "outlinewidth": 0,
              "ticks": ""
             }
            },
            "type": "scatterpolargl"
           }
          ],
          "scatterternary": [
           {
            "marker": {
             "colorbar": {
              "outlinewidth": 0,
              "ticks": ""
             }
            },
            "type": "scatterternary"
           }
          ],
          "surface": [
           {
            "colorbar": {
             "outlinewidth": 0,
             "ticks": ""
            },
            "colorscale": [
             [
              0,
              "#0d0887"
             ],
             [
              0.1111111111111111,
              "#46039f"
             ],
             [
              0.2222222222222222,
              "#7201a8"
             ],
             [
              0.3333333333333333,
              "#9c179e"
             ],
             [
              0.4444444444444444,
              "#bd3786"
             ],
             [
              0.5555555555555556,
              "#d8576b"
             ],
             [
              0.6666666666666666,
              "#ed7953"
             ],
             [
              0.7777777777777778,
              "#fb9f3a"
             ],
             [
              0.8888888888888888,
              "#fdca26"
             ],
             [
              1,
              "#f0f921"
             ]
            ],
            "type": "surface"
           }
          ],
          "table": [
           {
            "cells": {
             "fill": {
              "color": "#EBF0F8"
             },
             "line": {
              "color": "white"
             }
            },
            "header": {
             "fill": {
              "color": "#C8D4E3"
             },
             "line": {
              "color": "white"
             }
            },
            "type": "table"
           }
          ]
         },
         "layout": {
          "annotationdefaults": {
           "arrowcolor": "#2a3f5f",
           "arrowhead": 0,
           "arrowwidth": 1
          },
          "colorscale": {
           "diverging": [
            [
             0,
             "#8e0152"
            ],
            [
             0.1,
             "#c51b7d"
            ],
            [
             0.2,
             "#de77ae"
            ],
            [
             0.3,
             "#f1b6da"
            ],
            [
             0.4,
             "#fde0ef"
            ],
            [
             0.5,
             "#f7f7f7"
            ],
            [
             0.6,
             "#e6f5d0"
            ],
            [
             0.7,
             "#b8e186"
            ],
            [
             0.8,
             "#7fbc41"
            ],
            [
             0.9,
             "#4d9221"
            ],
            [
             1,
             "#276419"
            ]
           ],
           "sequential": [
            [
             0,
             "#0d0887"
            ],
            [
             0.1111111111111111,
             "#46039f"
            ],
            [
             0.2222222222222222,
             "#7201a8"
            ],
            [
             0.3333333333333333,
             "#9c179e"
            ],
            [
             0.4444444444444444,
             "#bd3786"
            ],
            [
             0.5555555555555556,
             "#d8576b"
            ],
            [
             0.6666666666666666,
             "#ed7953"
            ],
            [
             0.7777777777777778,
             "#fb9f3a"
            ],
            [
             0.8888888888888888,
             "#fdca26"
            ],
            [
             1,
             "#f0f921"
            ]
           ],
           "sequentialminus": [
            [
             0,
             "#0d0887"
            ],
            [
             0.1111111111111111,
             "#46039f"
            ],
            [
             0.2222222222222222,
             "#7201a8"
            ],
            [
             0.3333333333333333,
             "#9c179e"
            ],
            [
             0.4444444444444444,
             "#bd3786"
            ],
            [
             0.5555555555555556,
             "#d8576b"
            ],
            [
             0.6666666666666666,
             "#ed7953"
            ],
            [
             0.7777777777777778,
             "#fb9f3a"
            ],
            [
             0.8888888888888888,
             "#fdca26"
            ],
            [
             1,
             "#f0f921"
            ]
           ]
          },
          "colorway": [
           "#636efa",
           "#EF553B",
           "#00cc96",
           "#ab63fa",
           "#FFA15A",
           "#19d3f3",
           "#FF6692",
           "#B6E880",
           "#FF97FF",
           "#FECB52"
          ],
          "font": {
           "color": "#2a3f5f"
          },
          "geo": {
           "bgcolor": "white",
           "lakecolor": "white",
           "landcolor": "#E5ECF6",
           "showlakes": true,
           "showland": true,
           "subunitcolor": "white"
          },
          "hoverlabel": {
           "align": "left"
          },
          "hovermode": "closest",
          "mapbox": {
           "style": "light"
          },
          "paper_bgcolor": "white",
          "plot_bgcolor": "#E5ECF6",
          "polar": {
           "angularaxis": {
            "gridcolor": "white",
            "linecolor": "white",
            "ticks": ""
           },
           "bgcolor": "#E5ECF6",
           "radialaxis": {
            "gridcolor": "white",
            "linecolor": "white",
            "ticks": ""
           }
          },
          "scene": {
           "xaxis": {
            "backgroundcolor": "#E5ECF6",
            "gridcolor": "white",
            "gridwidth": 2,
            "linecolor": "white",
            "showbackground": true,
            "ticks": "",
            "zerolinecolor": "white"
           },
           "yaxis": {
            "backgroundcolor": "#E5ECF6",
            "gridcolor": "white",
            "gridwidth": 2,
            "linecolor": "white",
            "showbackground": true,
            "ticks": "",
            "zerolinecolor": "white"
           },
           "zaxis": {
            "backgroundcolor": "#E5ECF6",
            "gridcolor": "white",
            "gridwidth": 2,
            "linecolor": "white",
            "showbackground": true,
            "ticks": "",
            "zerolinecolor": "white"
           }
          },
          "shapedefaults": {
           "line": {
            "color": "#2a3f5f"
           }
          },
          "ternary": {
           "aaxis": {
            "gridcolor": "white",
            "linecolor": "white",
            "ticks": ""
           },
           "baxis": {
            "gridcolor": "white",
            "linecolor": "white",
            "ticks": ""
           },
           "bgcolor": "#E5ECF6",
           "caxis": {
            "gridcolor": "white",
            "linecolor": "white",
            "ticks": ""
           }
          },
          "title": {
           "x": 0.05
          },
          "xaxis": {
           "automargin": true,
           "gridcolor": "white",
           "linecolor": "white",
           "ticks": "",
           "zerolinecolor": "white",
           "zerolinewidth": 2
          },
          "yaxis": {
           "automargin": true,
           "gridcolor": "white",
           "linecolor": "white",
           "ticks": "",
           "zerolinecolor": "white",
           "zerolinewidth": 2
          }
         }
        },
        "title": {
         "text": "Change in Racial Composition of Population 2000-2010",
         "x": 0,
         "xref": "paper"
        },
        "xaxis": {
         "tickmode": "array",
         "ticktext": [
          2000,
          2010
         ],
         "tickvals": [
          2000,
          2010
         ],
         "title": {
          "text": "Year"
         }
        },
        "yaxis": {
         "title": {
          "text": "Population"
         }
        }
       }
      },
      "text/html": [
       "<div>\n",
       "        \n",
       "        \n",
       "            <div id=\"8fc64b17-577c-4100-8df6-c0887b6d25a9\" class=\"plotly-graph-div\" style=\"height:525px; width:100%;\"></div>\n",
       "            <script type=\"text/javascript\">\n",
       "                require([\"plotly\"], function(Plotly) {\n",
       "                    window.PLOTLYENV=window.PLOTLYENV || {};\n",
       "                    \n",
       "                if (document.getElementById(\"8fc64b17-577c-4100-8df6-c0887b6d25a9\")) {\n",
       "                    Plotly.newPlot(\n",
       "                        '8fc64b17-577c-4100-8df6-c0887b6d25a9',\n",
       "                        [{\"name\": \"White\", \"type\": \"bar\", \"x\": [\"2000\", \"2010\"], \"y\": [359634.605185214, 346979]}, {\"name\": \"Non-white\", \"type\": \"bar\", \"x\": [\"2000\", \"2010\"], \"y\": [405939.2773018433, 469990]}],\n",
       "                        {\"barmode\": \"stack\", \"template\": {\"data\": {\"bar\": [{\"error_x\": {\"color\": \"#2a3f5f\"}, \"error_y\": {\"color\": \"#2a3f5f\"}, \"marker\": {\"line\": {\"color\": \"#E5ECF6\", \"width\": 0.5}}, \"type\": \"bar\"}], \"barpolar\": [{\"marker\": {\"line\": {\"color\": \"#E5ECF6\", \"width\": 0.5}}, \"type\": \"barpolar\"}], \"carpet\": [{\"aaxis\": {\"endlinecolor\": \"#2a3f5f\", \"gridcolor\": \"white\", \"linecolor\": \"white\", \"minorgridcolor\": \"white\", \"startlinecolor\": \"#2a3f5f\"}, \"baxis\": {\"endlinecolor\": \"#2a3f5f\", \"gridcolor\": \"white\", \"linecolor\": \"white\", \"minorgridcolor\": \"white\", \"startlinecolor\": \"#2a3f5f\"}, \"type\": \"carpet\"}], \"choropleth\": [{\"colorbar\": {\"outlinewidth\": 0, \"ticks\": \"\"}, \"type\": \"choropleth\"}], \"contour\": [{\"colorbar\": {\"outlinewidth\": 0, \"ticks\": \"\"}, \"colorscale\": [[0.0, \"#0d0887\"], [0.1111111111111111, \"#46039f\"], [0.2222222222222222, \"#7201a8\"], [0.3333333333333333, \"#9c179e\"], [0.4444444444444444, \"#bd3786\"], [0.5555555555555556, \"#d8576b\"], [0.6666666666666666, \"#ed7953\"], [0.7777777777777778, \"#fb9f3a\"], [0.8888888888888888, \"#fdca26\"], [1.0, \"#f0f921\"]], \"type\": \"contour\"}], \"contourcarpet\": [{\"colorbar\": {\"outlinewidth\": 0, \"ticks\": \"\"}, \"type\": \"contourcarpet\"}], \"heatmap\": [{\"colorbar\": {\"outlinewidth\": 0, \"ticks\": \"\"}, \"colorscale\": [[0.0, \"#0d0887\"], [0.1111111111111111, \"#46039f\"], [0.2222222222222222, \"#7201a8\"], [0.3333333333333333, \"#9c179e\"], [0.4444444444444444, \"#bd3786\"], [0.5555555555555556, \"#d8576b\"], [0.6666666666666666, \"#ed7953\"], [0.7777777777777778, \"#fb9f3a\"], [0.8888888888888888, \"#fdca26\"], [1.0, \"#f0f921\"]], \"type\": \"heatmap\"}], \"heatmapgl\": [{\"colorbar\": {\"outlinewidth\": 0, \"ticks\": \"\"}, \"colorscale\": [[0.0, \"#0d0887\"], [0.1111111111111111, \"#46039f\"], [0.2222222222222222, \"#7201a8\"], [0.3333333333333333, \"#9c179e\"], [0.4444444444444444, \"#bd3786\"], [0.5555555555555556, \"#d8576b\"], [0.6666666666666666, \"#ed7953\"], [0.7777777777777778, \"#fb9f3a\"], [0.8888888888888888, \"#fdca26\"], [1.0, \"#f0f921\"]], \"type\": \"heatmapgl\"}], \"histogram\": [{\"marker\": {\"colorbar\": {\"outlinewidth\": 0, \"ticks\": \"\"}}, \"type\": \"histogram\"}], \"histogram2d\": [{\"colorbar\": {\"outlinewidth\": 0, \"ticks\": \"\"}, \"colorscale\": [[0.0, \"#0d0887\"], [0.1111111111111111, \"#46039f\"], [0.2222222222222222, \"#7201a8\"], [0.3333333333333333, \"#9c179e\"], [0.4444444444444444, \"#bd3786\"], [0.5555555555555556, \"#d8576b\"], [0.6666666666666666, \"#ed7953\"], [0.7777777777777778, \"#fb9f3a\"], [0.8888888888888888, \"#fdca26\"], [1.0, \"#f0f921\"]], \"type\": \"histogram2d\"}], \"histogram2dcontour\": [{\"colorbar\": {\"outlinewidth\": 0, \"ticks\": \"\"}, \"colorscale\": [[0.0, \"#0d0887\"], [0.1111111111111111, \"#46039f\"], [0.2222222222222222, \"#7201a8\"], [0.3333333333333333, \"#9c179e\"], [0.4444444444444444, \"#bd3786\"], [0.5555555555555556, \"#d8576b\"], [0.6666666666666666, \"#ed7953\"], [0.7777777777777778, \"#fb9f3a\"], [0.8888888888888888, \"#fdca26\"], [1.0, \"#f0f921\"]], \"type\": \"histogram2dcontour\"}], \"mesh3d\": [{\"colorbar\": {\"outlinewidth\": 0, \"ticks\": \"\"}, \"type\": \"mesh3d\"}], \"parcoords\": [{\"line\": {\"colorbar\": {\"outlinewidth\": 0, \"ticks\": \"\"}}, \"type\": \"parcoords\"}], \"scatter\": [{\"marker\": {\"colorbar\": {\"outlinewidth\": 0, \"ticks\": \"\"}}, \"type\": \"scatter\"}], \"scatter3d\": [{\"line\": {\"colorbar\": {\"outlinewidth\": 0, \"ticks\": \"\"}}, \"marker\": {\"colorbar\": {\"outlinewidth\": 0, \"ticks\": \"\"}}, \"type\": \"scatter3d\"}], \"scattercarpet\": [{\"marker\": {\"colorbar\": {\"outlinewidth\": 0, \"ticks\": \"\"}}, \"type\": \"scattercarpet\"}], \"scattergeo\": [{\"marker\": {\"colorbar\": {\"outlinewidth\": 0, \"ticks\": \"\"}}, \"type\": \"scattergeo\"}], \"scattergl\": [{\"marker\": {\"colorbar\": {\"outlinewidth\": 0, \"ticks\": \"\"}}, \"type\": \"scattergl\"}], \"scattermapbox\": [{\"marker\": {\"colorbar\": {\"outlinewidth\": 0, \"ticks\": \"\"}}, \"type\": \"scattermapbox\"}], \"scatterpolar\": [{\"marker\": {\"colorbar\": {\"outlinewidth\": 0, \"ticks\": \"\"}}, \"type\": \"scatterpolar\"}], \"scatterpolargl\": [{\"marker\": {\"colorbar\": {\"outlinewidth\": 0, \"ticks\": \"\"}}, \"type\": \"scatterpolargl\"}], \"scatterternary\": [{\"marker\": {\"colorbar\": {\"outlinewidth\": 0, \"ticks\": \"\"}}, \"type\": \"scatterternary\"}], \"surface\": [{\"colorbar\": {\"outlinewidth\": 0, \"ticks\": \"\"}, \"colorscale\": [[0.0, \"#0d0887\"], [0.1111111111111111, \"#46039f\"], [0.2222222222222222, \"#7201a8\"], [0.3333333333333333, \"#9c179e\"], [0.4444444444444444, \"#bd3786\"], [0.5555555555555556, \"#d8576b\"], [0.6666666666666666, \"#ed7953\"], [0.7777777777777778, \"#fb9f3a\"], [0.8888888888888888, \"#fdca26\"], [1.0, \"#f0f921\"]], \"type\": \"surface\"}], \"table\": [{\"cells\": {\"fill\": {\"color\": \"#EBF0F8\"}, \"line\": {\"color\": \"white\"}}, \"header\": {\"fill\": {\"color\": \"#C8D4E3\"}, \"line\": {\"color\": \"white\"}}, \"type\": \"table\"}]}, \"layout\": {\"annotationdefaults\": {\"arrowcolor\": \"#2a3f5f\", \"arrowhead\": 0, \"arrowwidth\": 1}, \"colorscale\": {\"diverging\": [[0, \"#8e0152\"], [0.1, \"#c51b7d\"], [0.2, \"#de77ae\"], [0.3, \"#f1b6da\"], [0.4, \"#fde0ef\"], [0.5, \"#f7f7f7\"], [0.6, \"#e6f5d0\"], [0.7, \"#b8e186\"], [0.8, \"#7fbc41\"], [0.9, \"#4d9221\"], [1, \"#276419\"]], \"sequential\": [[0.0, \"#0d0887\"], [0.1111111111111111, \"#46039f\"], [0.2222222222222222, \"#7201a8\"], [0.3333333333333333, \"#9c179e\"], [0.4444444444444444, \"#bd3786\"], [0.5555555555555556, \"#d8576b\"], [0.6666666666666666, \"#ed7953\"], [0.7777777777777778, \"#fb9f3a\"], [0.8888888888888888, \"#fdca26\"], [1.0, \"#f0f921\"]], \"sequentialminus\": [[0.0, \"#0d0887\"], [0.1111111111111111, \"#46039f\"], [0.2222222222222222, \"#7201a8\"], [0.3333333333333333, \"#9c179e\"], [0.4444444444444444, \"#bd3786\"], [0.5555555555555556, \"#d8576b\"], [0.6666666666666666, \"#ed7953\"], [0.7777777777777778, \"#fb9f3a\"], [0.8888888888888888, \"#fdca26\"], [1.0, \"#f0f921\"]]}, \"colorway\": [\"#636efa\", \"#EF553B\", \"#00cc96\", \"#ab63fa\", \"#FFA15A\", \"#19d3f3\", \"#FF6692\", \"#B6E880\", \"#FF97FF\", \"#FECB52\"], \"font\": {\"color\": \"#2a3f5f\"}, \"geo\": {\"bgcolor\": \"white\", \"lakecolor\": \"white\", \"landcolor\": \"#E5ECF6\", \"showlakes\": true, \"showland\": true, \"subunitcolor\": \"white\"}, \"hoverlabel\": {\"align\": \"left\"}, \"hovermode\": \"closest\", \"mapbox\": {\"style\": \"light\"}, \"paper_bgcolor\": \"white\", \"plot_bgcolor\": \"#E5ECF6\", \"polar\": {\"angularaxis\": {\"gridcolor\": \"white\", \"linecolor\": \"white\", \"ticks\": \"\"}, \"bgcolor\": \"#E5ECF6\", \"radialaxis\": {\"gridcolor\": \"white\", \"linecolor\": \"white\", \"ticks\": \"\"}}, \"scene\": {\"xaxis\": {\"backgroundcolor\": \"#E5ECF6\", \"gridcolor\": \"white\", \"gridwidth\": 2, \"linecolor\": \"white\", \"showbackground\": true, \"ticks\": \"\", \"zerolinecolor\": \"white\"}, \"yaxis\": {\"backgroundcolor\": \"#E5ECF6\", \"gridcolor\": \"white\", \"gridwidth\": 2, \"linecolor\": \"white\", \"showbackground\": true, \"ticks\": \"\", \"zerolinecolor\": \"white\"}, \"zaxis\": {\"backgroundcolor\": \"#E5ECF6\", \"gridcolor\": \"white\", \"gridwidth\": 2, \"linecolor\": \"white\", \"showbackground\": true, \"ticks\": \"\", \"zerolinecolor\": \"white\"}}, \"shapedefaults\": {\"line\": {\"color\": \"#2a3f5f\"}}, \"ternary\": {\"aaxis\": {\"gridcolor\": \"white\", \"linecolor\": \"white\", \"ticks\": \"\"}, \"baxis\": {\"gridcolor\": \"white\", \"linecolor\": \"white\", \"ticks\": \"\"}, \"bgcolor\": \"#E5ECF6\", \"caxis\": {\"gridcolor\": \"white\", \"linecolor\": \"white\", \"ticks\": \"\"}}, \"title\": {\"x\": 0.05}, \"xaxis\": {\"automargin\": true, \"gridcolor\": \"white\", \"linecolor\": \"white\", \"ticks\": \"\", \"zerolinecolor\": \"white\", \"zerolinewidth\": 2}, \"yaxis\": {\"automargin\": true, \"gridcolor\": \"white\", \"linecolor\": \"white\", \"ticks\": \"\", \"zerolinecolor\": \"white\", \"zerolinewidth\": 2}}}, \"title\": {\"text\": \"Change in Racial Composition of Population 2000-2010\", \"x\": 0, \"xref\": \"paper\"}, \"xaxis\": {\"tickmode\": \"array\", \"ticktext\": [2000, 2010], \"tickvals\": [2000, 2010], \"title\": {\"text\": \"Year\"}}, \"yaxis\": {\"title\": {\"text\": \"Population\"}}},\n",
       "                        {\"responsive\": true}\n",
       "                    ).then(function(){\n",
       "                            \n",
       "var gd = document.getElementById('8fc64b17-577c-4100-8df6-c0887b6d25a9');\n",
       "var x = new MutationObserver(function (mutations, observer) {{\n",
       "        var display = window.getComputedStyle(gd).display;\n",
       "        if (!display || display === 'none') {{\n",
       "            console.log([gd, 'removed!']);\n",
       "            Plotly.purge(gd);\n",
       "            observer.disconnect();\n",
       "        }}\n",
       "}});\n",
       "\n",
       "// Listen for the removal of the full notebook cells\n",
       "var notebookContainer = gd.closest('#notebook-container');\n",
       "if (notebookContainer) {{\n",
       "    x.observe(notebookContainer, {childList: true});\n",
       "}}\n",
       "\n",
       "// Listen for the clearing of the current output cell\n",
       "var outputEl = gd.closest('.output');\n",
       "if (outputEl) {{\n",
       "    x.observe(outputEl, {childList: true});\n",
       "}}\n",
       "\n",
       "                        })\n",
       "                };\n",
       "                });\n",
       "            </script>\n",
       "        </div>"
      ]
     },
     "metadata": {},
     "output_type": "display_data"
    }
   ],
   "source": [
    "# bar chart showing breakup of white vs. non -white pop in boston 2000 vs. 2010\n",
    "import plotly.graph_objects as go\n",
    "\n",
    "\n",
    "\n",
    "fig = go.Figure(data=[go.Bar(name='White', x=['2000','2010'], y=[df_2000.NHWHT00.sum(),df_2010.nhwht10.sum()]),\n",
    "                      go.Bar(name='Non-white', x=['2000','2010'], y=[df_2000[['NHBLK00','NTV00','ASIAN00','HISP00',\n",
    "                                                   'HAW00','INDIA00','CHINA00','FILIP00',\n",
    "                                                   'JAPAN00','KOREA00','VIET00','MEX00',\n",
    "                                                   'PR00','CUBAN00']].sum().sum(),\n",
    "                                          df_2010[['nhblk10','ntv10','asian10','hisp10',\n",
    "                                                   'haw10','india10','china10','filip10',\n",
    "                                                   'japan10','korea10','viet10','mex10',\n",
    "                                                   'pr10','cuban10']].sum().sum()])])\n",
    "# Change the bar mode\n",
    "fig.update_layout(title=\n",
    "                  go.layout.Title(text='Change in Racial Composition of Population 2000-2010',\n",
    "                                  xref='paper',\n",
    "                                 x=0),\n",
    "                  barmode='stack',\n",
    "                  xaxis=\n",
    "                  go.layout.XAxis(\n",
    "                     title=go.layout.xaxis.Title(\n",
    "                     text='Year'),\n",
    "                      tickmode='array',\n",
    "                      tickvals=[2000,2010],\n",
    "                      ticktext=[2000,2010]),\n",
    "                  yaxis=go.layout.YAxis(\n",
    "                      title=go.layout.yaxis.Title(\n",
    "                      text='Population')\n",
    "                 ))\n",
    "fig.show()"
   ]
  },
  {
   "cell_type": "code",
   "execution_count": 255,
   "metadata": {},
   "outputs": [],
   "source": [
    "df_2000['population_bucket']=df_2000['POP00'].apply(lambda x: 'less than 2500' if x < 2500 else\n",
    "                                                        ('2500-3500' if x < 3500 else (\n",
    "                                                        ('3500-4500' if x<4500 else\n",
    "                                                        '4500-8000'))))"
   ]
  },
  {
   "cell_type": "markdown",
   "metadata": {},
   "source": [
    "## income"
   ]
  },
  {
   "cell_type": "code",
   "execution_count": 337,
   "metadata": {
    "scrolled": true
   },
   "outputs": [
    {
     "data": {
      "text/plain": [
       "count       191.000000\n",
       "mean      50846.060078\n",
       "std       20540.883432\n",
       "min       15362.751600\n",
       "25%       37189.964700\n",
       "50%       47486.250000\n",
       "75%       63371.983500\n",
       "max      125404.629855\n",
       "Name: HINC00, dtype: float64"
      ]
     },
     "execution_count": 337,
     "metadata": {},
     "output_type": "execute_result"
    }
   ],
   "source": [
    "df_changes_sample['HINC00'].describe()"
   ]
  },
  {
   "cell_type": "code",
   "execution_count": 640,
   "metadata": {},
   "outputs": [
    {
     "data": {
      "text/plain": [
       "count       190.000000\n",
       "mean      55906.868421\n",
       "std       28220.983846\n",
       "min       10446.000000\n",
       "25%       36240.000000\n",
       "50%       52184.500000\n",
       "75%       69859.500000\n",
       "max      176357.000000\n",
       "Name: hinc12, dtype: float64"
      ]
     },
     "execution_count": 640,
     "metadata": {},
     "output_type": "execute_result"
    }
   ],
   "source": [
    "df_changes_sample['hinc12'].describe()"
   ]
  },
  {
   "cell_type": "code",
   "execution_count": 641,
   "metadata": {},
   "outputs": [
    {
     "data": {
      "text/plain": [
       "0.09893442277723961"
      ]
     },
     "execution_count": 641,
     "metadata": {},
     "output_type": "execute_result"
    }
   ],
   "source": [
    "(52184-47486)/47486"
   ]
  },
  {
   "cell_type": "code",
   "execution_count": 431,
   "metadata": {},
   "outputs": [],
   "source": [
    "def func(x):\n",
    "    if x >= 63371:\n",
    "        return 'Top 25% (> 63k)'\n",
    "    elif 37189<x<63371:\n",
    "        return 'Middle 50% (<63k and >37k)'\n",
    "    else:\n",
    "        return 'Bottom 25% (<37k)'"
   ]
  },
  {
   "cell_type": "code",
   "execution_count": 432,
   "metadata": {},
   "outputs": [],
   "source": [
    "df_changes_sample['income_bracket']=df_changes_sample['HINC00'].apply(func)"
   ]
  },
  {
   "cell_type": "code",
   "execution_count": 433,
   "metadata": {},
   "outputs": [],
   "source": [
    "# resave to csv\n",
    "df_changes_sample.to_csv('plotly_changes.csv')"
   ]
  },
  {
   "cell_type": "code",
   "execution_count": 365,
   "metadata": {},
   "outputs": [
    {
     "data": {
      "text/plain": [
       "Middle 50% (<63k and >37k)    95\n",
       "Bottom 25% (<37k)             48\n",
       "Top 25% (> 63k)               48\n",
       "Name: income_bracket, dtype: int64"
      ]
     },
     "execution_count": 365,
     "metadata": {},
     "output_type": "execute_result"
    }
   ],
   "source": [
    "df_changes_sample['income_bracket'].value_counts()"
   ]
  },
  {
   "cell_type": "code",
   "execution_count": 373,
   "metadata": {},
   "outputs": [
    {
     "data": {
      "text/html": [
       "<div>\n",
       "<style scoped>\n",
       "    .dataframe tbody tr th:only-of-type {\n",
       "        vertical-align: middle;\n",
       "    }\n",
       "\n",
       "    .dataframe tbody tr th {\n",
       "        vertical-align: top;\n",
       "    }\n",
       "\n",
       "    .dataframe thead th {\n",
       "        text-align: right;\n",
       "    }\n",
       "</style>\n",
       "<table border=\"1\" class=\"dataframe\">\n",
       "  <thead>\n",
       "    <tr style=\"text-align: right;\">\n",
       "      <th></th>\n",
       "      <th>tractid</th>\n",
       "      <th>INCPC00</th>\n",
       "      <th>HINC00</th>\n",
       "      <th>MHMVAL00</th>\n",
       "      <th>MRENT00</th>\n",
       "      <th>percent_foreign_born</th>\n",
       "      <th>percent_naturalized</th>\n",
       "      <th>percent_recent_immigrants(10)</th>\n",
       "      <th>percent_other_languages</th>\n",
       "      <th>percent_hs_degree_orless</th>\n",
       "      <th>percent_4yrcollege_degree_ormore</th>\n",
       "      <th>percent_married</th>\n",
       "      <th>percent_unemployed</th>\n",
       "      <th>percent_employed</th>\n",
       "      <th>percent_professional</th>\n",
       "      <th>percent_manufacturing</th>\n",
       "      <th>percent_self_employed</th>\n",
       "      <th>percent_poverty</th>\n",
       "      <th>percent_houses_30yrsago</th>\n",
       "      <th>percent_multiunit_houses</th>\n",
       "      <th>incpc12</th>\n",
       "      <th>hinc12</th>\n",
       "      <th>mhmval12</th>\n",
       "      <th>mrent12</th>\n",
       "      <th>pfb12</th>\n",
       "      <th>pnat12</th>\n",
       "      <th>p10imm12</th>\n",
       "      <th>polang12</th>\n",
       "      <th>phs12</th>\n",
       "      <th>pcol12</th>\n",
       "      <th>pmar12</th>\n",
       "      <th>punemp12</th>\n",
       "      <th>percent_employed12</th>\n",
       "      <th>pprof12</th>\n",
       "      <th>pmanuf12</th>\n",
       "      <th>psemp12</th>\n",
       "      <th>ppov12</th>\n",
       "      <th>p30old12</th>\n",
       "      <th>pmulti12</th>\n",
       "      <th>INCPC00_PC</th>\n",
       "      <th>HINC00_PC</th>\n",
       "      <th>MHMVAL00_PC</th>\n",
       "      <th>MRENT00_PC</th>\n",
       "      <th>percent_foreign_born_PC</th>\n",
       "      <th>percent_naturalized_PC</th>\n",
       "      <th>percent_recent_immigrants(10)_PC</th>\n",
       "      <th>percent_other_languages_PC</th>\n",
       "      <th>percent_hs_degree_orless_PC</th>\n",
       "      <th>percent_4yrcollege_degree_ormore_PC</th>\n",
       "      <th>percent_married_PC</th>\n",
       "      <th>percent_unemployed_PC</th>\n",
       "      <th>percent_employed_PC</th>\n",
       "      <th>percent_professional_PC</th>\n",
       "      <th>percent_manufacturing_PC</th>\n",
       "      <th>percent_self_employed_PC</th>\n",
       "      <th>percent_poverty_PC</th>\n",
       "      <th>percent_houses_30yrsago_PC</th>\n",
       "      <th>percent_multiunit_houses_PC</th>\n",
       "    </tr>\n",
       "  </thead>\n",
       "  <tbody>\n",
       "    <tr>\n",
       "      <th>count</th>\n",
       "      <td>1.500000e+01</td>\n",
       "      <td>15.000000</td>\n",
       "      <td>15.000000</td>\n",
       "      <td>15.000000</td>\n",
       "      <td>15.000000</td>\n",
       "      <td>15.000000</td>\n",
       "      <td>15.000000</td>\n",
       "      <td>15.000000</td>\n",
       "      <td>15.000000</td>\n",
       "      <td>15.000000</td>\n",
       "      <td>15.000000</td>\n",
       "      <td>15.000000</td>\n",
       "      <td>15.000000</td>\n",
       "      <td>15.000000</td>\n",
       "      <td>15.000000</td>\n",
       "      <td>15.000000</td>\n",
       "      <td>15.000000</td>\n",
       "      <td>15.000000</td>\n",
       "      <td>15.000000</td>\n",
       "      <td>15.000000</td>\n",
       "      <td>15.000000</td>\n",
       "      <td>15.000000</td>\n",
       "      <td>15.000000</td>\n",
       "      <td>15.000000</td>\n",
       "      <td>15.000000</td>\n",
       "      <td>15.000000</td>\n",
       "      <td>15.000000</td>\n",
       "      <td>15.000000</td>\n",
       "      <td>15.000000</td>\n",
       "      <td>15.000000</td>\n",
       "      <td>15.000000</td>\n",
       "      <td>15.000000</td>\n",
       "      <td>15.000000</td>\n",
       "      <td>15.000000</td>\n",
       "      <td>15.000000</td>\n",
       "      <td>15.000000</td>\n",
       "      <td>15.00000</td>\n",
       "      <td>15.000000</td>\n",
       "      <td>15.000000</td>\n",
       "      <td>15.000000</td>\n",
       "      <td>15.000000</td>\n",
       "      <td>15.000000</td>\n",
       "      <td>15.000000</td>\n",
       "      <td>15.000000</td>\n",
       "      <td>15.000000</td>\n",
       "      <td>15.000000</td>\n",
       "      <td>15.000000</td>\n",
       "      <td>15.000000</td>\n",
       "      <td>15.000000</td>\n",
       "      <td>15.000000</td>\n",
       "      <td>15.000000</td>\n",
       "      <td>15.000000</td>\n",
       "      <td>15.000000</td>\n",
       "      <td>15.000000</td>\n",
       "      <td>15.000000</td>\n",
       "      <td>15.000000</td>\n",
       "      <td>15.000000</td>\n",
       "      <td>15.000000</td>\n",
       "    </tr>\n",
       "    <tr>\n",
       "      <th>mean</th>\n",
       "      <td>2.502507e+10</td>\n",
       "      <td>44047.000084</td>\n",
       "      <td>80727.553867</td>\n",
       "      <td>342493.328787</td>\n",
       "      <td>971.800000</td>\n",
       "      <td>15.433025</td>\n",
       "      <td>7.077633</td>\n",
       "      <td>6.610124</td>\n",
       "      <td>19.263982</td>\n",
       "      <td>26.798447</td>\n",
       "      <td>53.229442</td>\n",
       "      <td>37.889341</td>\n",
       "      <td>3.569311</td>\n",
       "      <td>96.430689</td>\n",
       "      <td>56.306393</td>\n",
       "      <td>5.266610</td>\n",
       "      <td>8.330099</td>\n",
       "      <td>8.125812</td>\n",
       "      <td>92.035402</td>\n",
       "      <td>79.904263</td>\n",
       "      <td>52955.533333</td>\n",
       "      <td>71902.400000</td>\n",
       "      <td>519313.333333</td>\n",
       "      <td>1385.066667</td>\n",
       "      <td>16.867334</td>\n",
       "      <td>7.375333</td>\n",
       "      <td>6.972000</td>\n",
       "      <td>20.982667</td>\n",
       "      <td>23.123333</td>\n",
       "      <td>58.548000</td>\n",
       "      <td>35.433333</td>\n",
       "      <td>5.947333</td>\n",
       "      <td>95.360383</td>\n",
       "      <td>56.460666</td>\n",
       "      <td>4.026000</td>\n",
       "      <td>8.270000</td>\n",
       "      <td>11.53800</td>\n",
       "      <td>93.510667</td>\n",
       "      <td>78.193333</td>\n",
       "      <td>26.051195</td>\n",
       "      <td>-11.238645</td>\n",
       "      <td>57.309406</td>\n",
       "      <td>44.595186</td>\n",
       "      <td>12.360375</td>\n",
       "      <td>19.930136</td>\n",
       "      <td>18.416202</td>\n",
       "      <td>9.175688</td>\n",
       "      <td>-15.965573</td>\n",
       "      <td>14.093173</td>\n",
       "      <td>-6.112294</td>\n",
       "      <td>84.392583</td>\n",
       "      <td>-1.097752</td>\n",
       "      <td>0.997153</td>\n",
       "      <td>-2.787617</td>\n",
       "      <td>0.899336</td>\n",
       "      <td>51.838513</td>\n",
       "      <td>1.678719</td>\n",
       "      <td>-2.230468</td>\n",
       "    </tr>\n",
       "    <tr>\n",
       "      <th>std</th>\n",
       "      <td>7.602105e+04</td>\n",
       "      <td>25151.001350</td>\n",
       "      <td>15413.042562</td>\n",
       "      <td>160842.370131</td>\n",
       "      <td>205.447664</td>\n",
       "      <td>8.884702</td>\n",
       "      <td>4.537482</td>\n",
       "      <td>3.846151</td>\n",
       "      <td>9.198539</td>\n",
       "      <td>15.948152</td>\n",
       "      <td>22.930853</td>\n",
       "      <td>9.107074</td>\n",
       "      <td>1.750035</td>\n",
       "      <td>1.750035</td>\n",
       "      <td>14.782504</td>\n",
       "      <td>2.315893</td>\n",
       "      <td>3.818392</td>\n",
       "      <td>4.361086</td>\n",
       "      <td>6.951029</td>\n",
       "      <td>15.827260</td>\n",
       "      <td>26107.487177</td>\n",
       "      <td>15971.393475</td>\n",
       "      <td>197227.837309</td>\n",
       "      <td>215.045001</td>\n",
       "      <td>9.861223</td>\n",
       "      <td>4.698925</td>\n",
       "      <td>4.171521</td>\n",
       "      <td>11.497288</td>\n",
       "      <td>12.913420</td>\n",
       "      <td>21.871951</td>\n",
       "      <td>9.141427</td>\n",
       "      <td>3.505048</td>\n",
       "      <td>3.441256</td>\n",
       "      <td>15.112461</td>\n",
       "      <td>2.177685</td>\n",
       "      <td>4.528196</td>\n",
       "      <td>6.22594</td>\n",
       "      <td>7.505448</td>\n",
       "      <td>16.231482</td>\n",
       "      <td>22.501986</td>\n",
       "      <td>6.306825</td>\n",
       "      <td>24.909989</td>\n",
       "      <td>14.773247</td>\n",
       "      <td>19.863635</td>\n",
       "      <td>64.122978</td>\n",
       "      <td>48.457737</td>\n",
       "      <td>30.847836</td>\n",
       "      <td>28.079011</td>\n",
       "      <td>14.732064</td>\n",
       "      <td>15.066291</td>\n",
       "      <td>109.229514</td>\n",
       "      <td>3.474476</td>\n",
       "      <td>12.752671</td>\n",
       "      <td>82.336794</td>\n",
       "      <td>40.781289</td>\n",
       "      <td>73.389031</td>\n",
       "      <td>5.721542</td>\n",
       "      <td>4.035407</td>\n",
       "    </tr>\n",
       "    <tr>\n",
       "      <th>min</th>\n",
       "      <td>2.502500e+10</td>\n",
       "      <td>21440.000000</td>\n",
       "      <td>65414.525400</td>\n",
       "      <td>195000.000000</td>\n",
       "      <td>722.000000</td>\n",
       "      <td>3.108808</td>\n",
       "      <td>0.805987</td>\n",
       "      <td>1.312576</td>\n",
       "      <td>7.719505</td>\n",
       "      <td>3.326457</td>\n",
       "      <td>22.997947</td>\n",
       "      <td>26.566546</td>\n",
       "      <td>0.661455</td>\n",
       "      <td>93.404342</td>\n",
       "      <td>35.350877</td>\n",
       "      <td>0.985915</td>\n",
       "      <td>4.766839</td>\n",
       "      <td>2.881303</td>\n",
       "      <td>72.727273</td>\n",
       "      <td>45.943709</td>\n",
       "      <td>29131.000000</td>\n",
       "      <td>54607.000000</td>\n",
       "      <td>322200.000000</td>\n",
       "      <td>1063.000000</td>\n",
       "      <td>4.090000</td>\n",
       "      <td>2.600000</td>\n",
       "      <td>2.130000</td>\n",
       "      <td>7.650000</td>\n",
       "      <td>0.770000</td>\n",
       "      <td>27.799999</td>\n",
       "      <td>17.360001</td>\n",
       "      <td>0.830000</td>\n",
       "      <td>89.865514</td>\n",
       "      <td>36.349998</td>\n",
       "      <td>1.350000</td>\n",
       "      <td>2.680000</td>\n",
       "      <td>3.55000</td>\n",
       "      <td>67.610001</td>\n",
       "      <td>47.169998</td>\n",
       "      <td>-7.599419</td>\n",
       "      <td>-24.082755</td>\n",
       "      <td>15.867026</td>\n",
       "      <td>15.713135</td>\n",
       "      <td>-20.451865</td>\n",
       "      <td>-52.292631</td>\n",
       "      <td>-38.383205</td>\n",
       "      <td>-21.593853</td>\n",
       "      <td>-81.430952</td>\n",
       "      <td>-1.157077</td>\n",
       "      <td>-36.197701</td>\n",
       "      <td>-53.768867</td>\n",
       "      <td>-7.499858</td>\n",
       "      <td>-18.842003</td>\n",
       "      <td>-79.081279</td>\n",
       "      <td>-53.294700</td>\n",
       "      <td>-34.758252</td>\n",
       "      <td>-7.036249</td>\n",
       "      <td>-9.068823</td>\n",
       "    </tr>\n",
       "    <tr>\n",
       "      <th>25%</th>\n",
       "      <td>2.502501e+10</td>\n",
       "      <td>26900.500000</td>\n",
       "      <td>69251.414400</td>\n",
       "      <td>231450.000000</td>\n",
       "      <td>799.000000</td>\n",
       "      <td>7.773926</td>\n",
       "      <td>4.311658</td>\n",
       "      <td>3.174553</td>\n",
       "      <td>13.434899</td>\n",
       "      <td>16.800712</td>\n",
       "      <td>32.605545</td>\n",
       "      <td>31.773408</td>\n",
       "      <td>2.320429</td>\n",
       "      <td>95.314128</td>\n",
       "      <td>43.265269</td>\n",
       "      <td>3.870626</td>\n",
       "      <td>5.728126</td>\n",
       "      <td>5.416763</td>\n",
       "      <td>92.085581</td>\n",
       "      <td>67.140045</td>\n",
       "      <td>34200.000000</td>\n",
       "      <td>59834.500000</td>\n",
       "      <td>366400.000000</td>\n",
       "      <td>1264.000000</td>\n",
       "      <td>9.655000</td>\n",
       "      <td>4.100000</td>\n",
       "      <td>4.185000</td>\n",
       "      <td>13.025000</td>\n",
       "      <td>14.655000</td>\n",
       "      <td>40.485001</td>\n",
       "      <td>29.610000</td>\n",
       "      <td>3.330000</td>\n",
       "      <td>92.976042</td>\n",
       "      <td>44.900000</td>\n",
       "      <td>2.545000</td>\n",
       "      <td>4.885000</td>\n",
       "      <td>6.19000</td>\n",
       "      <td>94.280003</td>\n",
       "      <td>65.199999</td>\n",
       "      <td>6.533803</td>\n",
       "      <td>-15.912885</td>\n",
       "      <td>45.862873</td>\n",
       "      <td>37.301367</td>\n",
       "      <td>0.390132</td>\n",
       "      <td>-9.991052</td>\n",
       "      <td>-12.849214</td>\n",
       "      <td>-16.812895</td>\n",
       "      <td>-25.003771</td>\n",
       "      <td>4.765437</td>\n",
       "      <td>-15.254229</td>\n",
       "      <td>6.546073</td>\n",
       "      <td>-3.505008</td>\n",
       "      <td>-6.024164</td>\n",
       "      <td>-45.572328</td>\n",
       "      <td>-28.820983</td>\n",
       "      <td>5.921186</td>\n",
       "      <td>-0.841181</td>\n",
       "      <td>-3.895194</td>\n",
       "    </tr>\n",
       "    <tr>\n",
       "      <th>50%</th>\n",
       "      <td>2.502503e+10</td>\n",
       "      <td>28177.000000</td>\n",
       "      <td>74512.890900</td>\n",
       "      <td>265600.000000</td>\n",
       "      <td>891.000000</td>\n",
       "      <td>13.895681</td>\n",
       "      <td>4.955497</td>\n",
       "      <td>6.134231</td>\n",
       "      <td>16.897855</td>\n",
       "      <td>25.886993</td>\n",
       "      <td>57.424443</td>\n",
       "      <td>33.963869</td>\n",
       "      <td>3.502130</td>\n",
       "      <td>96.497870</td>\n",
       "      <td>59.097599</td>\n",
       "      <td>5.205811</td>\n",
       "      <td>6.760563</td>\n",
       "      <td>7.275321</td>\n",
       "      <td>93.124246</td>\n",
       "      <td>81.379821</td>\n",
       "      <td>41426.000000</td>\n",
       "      <td>64453.000000</td>\n",
       "      <td>432800.000000</td>\n",
       "      <td>1316.000000</td>\n",
       "      <td>14.340000</td>\n",
       "      <td>5.550000</td>\n",
       "      <td>6.540000</td>\n",
       "      <td>17.120001</td>\n",
       "      <td>25.950001</td>\n",
       "      <td>56.759998</td>\n",
       "      <td>33.799999</td>\n",
       "      <td>4.360000</td>\n",
       "      <td>96.193984</td>\n",
       "      <td>53.610001</td>\n",
       "      <td>3.170000</td>\n",
       "      <td>7.890000</td>\n",
       "      <td>11.04000</td>\n",
       "      <td>95.489998</td>\n",
       "      <td>81.739998</td>\n",
       "      <td>26.759639</td>\n",
       "      <td>-10.469426</td>\n",
       "      <td>58.850671</td>\n",
       "      <td>46.327130</td>\n",
       "      <td>8.997706</td>\n",
       "      <td>-2.950409</td>\n",
       "      <td>4.639307</td>\n",
       "      <td>5.648195</td>\n",
       "      <td>-15.706993</td>\n",
       "      <td>10.181807</td>\n",
       "      <td>-9.560608</td>\n",
       "      <td>66.291919</td>\n",
       "      <td>-0.477130</td>\n",
       "      <td>-0.124570</td>\n",
       "      <td>-39.106510</td>\n",
       "      <td>-2.477253</td>\n",
       "      <td>38.080969</td>\n",
       "      <td>0.653691</td>\n",
       "      <td>-2.697641</td>\n",
       "    </tr>\n",
       "    <tr>\n",
       "      <th>75%</th>\n",
       "      <td>2.502515e+10</td>\n",
       "      <td>57511.500000</td>\n",
       "      <td>91740.901121</td>\n",
       "      <td>445649.988800</td>\n",
       "      <td>1192.999992</td>\n",
       "      <td>23.093326</td>\n",
       "      <td>9.023754</td>\n",
       "      <td>8.948364</td>\n",
       "      <td>23.988182</td>\n",
       "      <td>41.819582</td>\n",
       "      <td>68.545990</td>\n",
       "      <td>41.815844</td>\n",
       "      <td>4.685872</td>\n",
       "      <td>97.679571</td>\n",
       "      <td>68.863520</td>\n",
       "      <td>6.797817</td>\n",
       "      <td>9.566998</td>\n",
       "      <td>9.406965</td>\n",
       "      <td>95.748242</td>\n",
       "      <td>91.577429</td>\n",
       "      <td>74211.500000</td>\n",
       "      <td>88940.500000</td>\n",
       "      <td>692100.000000</td>\n",
       "      <td>1487.500000</td>\n",
       "      <td>22.940000</td>\n",
       "      <td>9.455000</td>\n",
       "      <td>8.790000</td>\n",
       "      <td>25.165000</td>\n",
       "      <td>33.330000</td>\n",
       "      <td>74.125000</td>\n",
       "      <td>40.350000</td>\n",
       "      <td>8.990000</td>\n",
       "      <td>97.851497</td>\n",
       "      <td>70.055000</td>\n",
       "      <td>5.645000</td>\n",
       "      <td>9.545000</td>\n",
       "      <td>15.69000</td>\n",
       "      <td>96.120003</td>\n",
       "      <td>90.910000</td>\n",
       "      <td>45.815714</td>\n",
       "      <td>-6.824510</td>\n",
       "      <td>66.107425</td>\n",
       "      <td>53.680385</td>\n",
       "      <td>25.685768</td>\n",
       "      <td>28.488045</td>\n",
       "      <td>48.016939</td>\n",
       "      <td>19.636512</td>\n",
       "      <td>2.209894</td>\n",
       "      <td>16.747235</td>\n",
       "      <td>3.706579</td>\n",
       "      <td>145.635954</td>\n",
       "      <td>0.893794</td>\n",
       "      <td>8.508115</td>\n",
       "      <td>9.264409</td>\n",
       "      <td>30.792465</td>\n",
       "      <td>77.467087</td>\n",
       "      <td>2.767805</td>\n",
       "      <td>1.171793</td>\n",
       "    </tr>\n",
       "    <tr>\n",
       "      <th>max</th>\n",
       "      <td>2.502518e+10</td>\n",
       "      <td>89844.999690</td>\n",
       "      <td>112771.612800</td>\n",
       "      <td>724099.963900</td>\n",
       "      <td>1312.000000</td>\n",
       "      <td>33.248408</td>\n",
       "      <td>16.633729</td>\n",
       "      <td>14.394904</td>\n",
       "      <td>37.992739</td>\n",
       "      <td>52.291667</td>\n",
       "      <td>86.952038</td>\n",
       "      <td>58.382570</td>\n",
       "      <td>6.595658</td>\n",
       "      <td>99.338545</td>\n",
       "      <td>76.558174</td>\n",
       "      <td>9.612556</td>\n",
       "      <td>16.888620</td>\n",
       "      <td>20.405692</td>\n",
       "      <td>99.089404</td>\n",
       "      <td>99.222999</td>\n",
       "      <td>107804.000000</td>\n",
       "      <td>96847.000000</td>\n",
       "      <td>864000.000000</td>\n",
       "      <td>1764.000000</td>\n",
       "      <td>36.240002</td>\n",
       "      <td>17.660000</td>\n",
       "      <td>17.900000</td>\n",
       "      <td>42.180000</td>\n",
       "      <td>35.689999</td>\n",
       "      <td>92.129997</td>\n",
       "      <td>51.369999</td>\n",
       "      <td>12.490000</td>\n",
       "      <td>101.309524</td>\n",
       "      <td>78.059998</td>\n",
       "      <td>9.220000</td>\n",
       "      <td>17.520000</td>\n",
       "      <td>22.74000</td>\n",
       "      <td>98.860001</td>\n",
       "      <td>98.900002</td>\n",
       "      <td>54.986463</td>\n",
       "      <td>-1.829731</td>\n",
       "      <td>100.301205</td>\n",
       "      <td>67.399741</td>\n",
       "      <td>49.326976</td>\n",
       "      <td>222.585702</td>\n",
       "      <td>144.794584</td>\n",
       "      <td>98.085829</td>\n",
       "      <td>21.528211</td>\n",
       "      <td>47.145270</td>\n",
       "      <td>20.565161</td>\n",
       "      <td>338.516086</td>\n",
       "      <td>5.402436</td>\n",
       "      <td>26.192061</td>\n",
       "      <td>210.371423</td>\n",
       "      <td>83.129553</td>\n",
       "      <td>200.725668</td>\n",
       "      <td>18.789363</td>\n",
       "      <td>3.477348</td>\n",
       "    </tr>\n",
       "  </tbody>\n",
       "</table>\n",
       "</div>"
      ],
      "text/plain": [
       "            tractid       INCPC00         HINC00       MHMVAL00      MRENT00  \\\n",
       "count  1.500000e+01     15.000000      15.000000      15.000000    15.000000   \n",
       "mean   2.502507e+10  44047.000084   80727.553867  342493.328787   971.800000   \n",
       "std    7.602105e+04  25151.001350   15413.042562  160842.370131   205.447664   \n",
       "min    2.502500e+10  21440.000000   65414.525400  195000.000000   722.000000   \n",
       "25%    2.502501e+10  26900.500000   69251.414400  231450.000000   799.000000   \n",
       "50%    2.502503e+10  28177.000000   74512.890900  265600.000000   891.000000   \n",
       "75%    2.502515e+10  57511.500000   91740.901121  445649.988800  1192.999992   \n",
       "max    2.502518e+10  89844.999690  112771.612800  724099.963900  1312.000000   \n",
       "\n",
       "       percent_foreign_born  percent_naturalized  \\\n",
       "count             15.000000            15.000000   \n",
       "mean              15.433025             7.077633   \n",
       "std                8.884702             4.537482   \n",
       "min                3.108808             0.805987   \n",
       "25%                7.773926             4.311658   \n",
       "50%               13.895681             4.955497   \n",
       "75%               23.093326             9.023754   \n",
       "max               33.248408            16.633729   \n",
       "\n",
       "       percent_recent_immigrants(10)  percent_other_languages  \\\n",
       "count                      15.000000                15.000000   \n",
       "mean                        6.610124                19.263982   \n",
       "std                         3.846151                 9.198539   \n",
       "min                         1.312576                 7.719505   \n",
       "25%                         3.174553                13.434899   \n",
       "50%                         6.134231                16.897855   \n",
       "75%                         8.948364                23.988182   \n",
       "max                        14.394904                37.992739   \n",
       "\n",
       "       percent_hs_degree_orless  percent_4yrcollege_degree_ormore  \\\n",
       "count                 15.000000                         15.000000   \n",
       "mean                  26.798447                         53.229442   \n",
       "std                   15.948152                         22.930853   \n",
       "min                    3.326457                         22.997947   \n",
       "25%                   16.800712                         32.605545   \n",
       "50%                   25.886993                         57.424443   \n",
       "75%                   41.819582                         68.545990   \n",
       "max                   52.291667                         86.952038   \n",
       "\n",
       "       percent_married  percent_unemployed  percent_employed  \\\n",
       "count        15.000000           15.000000         15.000000   \n",
       "mean         37.889341            3.569311         96.430689   \n",
       "std           9.107074            1.750035          1.750035   \n",
       "min          26.566546            0.661455         93.404342   \n",
       "25%          31.773408            2.320429         95.314128   \n",
       "50%          33.963869            3.502130         96.497870   \n",
       "75%          41.815844            4.685872         97.679571   \n",
       "max          58.382570            6.595658         99.338545   \n",
       "\n",
       "       percent_professional  percent_manufacturing  percent_self_employed  \\\n",
       "count             15.000000              15.000000              15.000000   \n",
       "mean              56.306393               5.266610               8.330099   \n",
       "std               14.782504               2.315893               3.818392   \n",
       "min               35.350877               0.985915               4.766839   \n",
       "25%               43.265269               3.870626               5.728126   \n",
       "50%               59.097599               5.205811               6.760563   \n",
       "75%               68.863520               6.797817               9.566998   \n",
       "max               76.558174               9.612556              16.888620   \n",
       "\n",
       "       percent_poverty  percent_houses_30yrsago  percent_multiunit_houses  \\\n",
       "count        15.000000                15.000000                 15.000000   \n",
       "mean          8.125812                92.035402                 79.904263   \n",
       "std           4.361086                 6.951029                 15.827260   \n",
       "min           2.881303                72.727273                 45.943709   \n",
       "25%           5.416763                92.085581                 67.140045   \n",
       "50%           7.275321                93.124246                 81.379821   \n",
       "75%           9.406965                95.748242                 91.577429   \n",
       "max          20.405692                99.089404                 99.222999   \n",
       "\n",
       "             incpc12        hinc12       mhmval12      mrent12      pfb12  \\\n",
       "count      15.000000     15.000000      15.000000    15.000000  15.000000   \n",
       "mean    52955.533333  71902.400000  519313.333333  1385.066667  16.867334   \n",
       "std     26107.487177  15971.393475  197227.837309   215.045001   9.861223   \n",
       "min     29131.000000  54607.000000  322200.000000  1063.000000   4.090000   \n",
       "25%     34200.000000  59834.500000  366400.000000  1264.000000   9.655000   \n",
       "50%     41426.000000  64453.000000  432800.000000  1316.000000  14.340000   \n",
       "75%     74211.500000  88940.500000  692100.000000  1487.500000  22.940000   \n",
       "max    107804.000000  96847.000000  864000.000000  1764.000000  36.240002   \n",
       "\n",
       "          pnat12   p10imm12   polang12      phs12     pcol12     pmar12  \\\n",
       "count  15.000000  15.000000  15.000000  15.000000  15.000000  15.000000   \n",
       "mean    7.375333   6.972000  20.982667  23.123333  58.548000  35.433333   \n",
       "std     4.698925   4.171521  11.497288  12.913420  21.871951   9.141427   \n",
       "min     2.600000   2.130000   7.650000   0.770000  27.799999  17.360001   \n",
       "25%     4.100000   4.185000  13.025000  14.655000  40.485001  29.610000   \n",
       "50%     5.550000   6.540000  17.120001  25.950001  56.759998  33.799999   \n",
       "75%     9.455000   8.790000  25.165000  33.330000  74.125000  40.350000   \n",
       "max    17.660000  17.900000  42.180000  35.689999  92.129997  51.369999   \n",
       "\n",
       "        punemp12  percent_employed12    pprof12   pmanuf12    psemp12  \\\n",
       "count  15.000000           15.000000  15.000000  15.000000  15.000000   \n",
       "mean    5.947333           95.360383  56.460666   4.026000   8.270000   \n",
       "std     3.505048            3.441256  15.112461   2.177685   4.528196   \n",
       "min     0.830000           89.865514  36.349998   1.350000   2.680000   \n",
       "25%     3.330000           92.976042  44.900000   2.545000   4.885000   \n",
       "50%     4.360000           96.193984  53.610001   3.170000   7.890000   \n",
       "75%     8.990000           97.851497  70.055000   5.645000   9.545000   \n",
       "max    12.490000          101.309524  78.059998   9.220000  17.520000   \n",
       "\n",
       "         ppov12   p30old12   pmulti12  INCPC00_PC  HINC00_PC  MHMVAL00_PC  \\\n",
       "count  15.00000  15.000000  15.000000   15.000000  15.000000    15.000000   \n",
       "mean   11.53800  93.510667  78.193333   26.051195 -11.238645    57.309406   \n",
       "std     6.22594   7.505448  16.231482   22.501986   6.306825    24.909989   \n",
       "min     3.55000  67.610001  47.169998   -7.599419 -24.082755    15.867026   \n",
       "25%     6.19000  94.280003  65.199999    6.533803 -15.912885    45.862873   \n",
       "50%    11.04000  95.489998  81.739998   26.759639 -10.469426    58.850671   \n",
       "75%    15.69000  96.120003  90.910000   45.815714  -6.824510    66.107425   \n",
       "max    22.74000  98.860001  98.900002   54.986463  -1.829731   100.301205   \n",
       "\n",
       "       MRENT00_PC  percent_foreign_born_PC  percent_naturalized_PC  \\\n",
       "count   15.000000                15.000000               15.000000   \n",
       "mean    44.595186                12.360375               19.930136   \n",
       "std     14.773247                19.863635               64.122978   \n",
       "min     15.713135               -20.451865              -52.292631   \n",
       "25%     37.301367                 0.390132               -9.991052   \n",
       "50%     46.327130                 8.997706               -2.950409   \n",
       "75%     53.680385                25.685768               28.488045   \n",
       "max     67.399741                49.326976              222.585702   \n",
       "\n",
       "       percent_recent_immigrants(10)_PC  percent_other_languages_PC  \\\n",
       "count                         15.000000                   15.000000   \n",
       "mean                          18.416202                    9.175688   \n",
       "std                           48.457737                   30.847836   \n",
       "min                          -38.383205                  -21.593853   \n",
       "25%                          -12.849214                  -16.812895   \n",
       "50%                            4.639307                    5.648195   \n",
       "75%                           48.016939                   19.636512   \n",
       "max                          144.794584                   98.085829   \n",
       "\n",
       "       percent_hs_degree_orless_PC  percent_4yrcollege_degree_ormore_PC  \\\n",
       "count                    15.000000                            15.000000   \n",
       "mean                    -15.965573                            14.093173   \n",
       "std                      28.079011                            14.732064   \n",
       "min                     -81.430952                            -1.157077   \n",
       "25%                     -25.003771                             4.765437   \n",
       "50%                     -15.706993                            10.181807   \n",
       "75%                       2.209894                            16.747235   \n",
       "max                      21.528211                            47.145270   \n",
       "\n",
       "       percent_married_PC  percent_unemployed_PC  percent_employed_PC  \\\n",
       "count           15.000000              15.000000            15.000000   \n",
       "mean            -6.112294              84.392583            -1.097752   \n",
       "std             15.066291             109.229514             3.474476   \n",
       "min            -36.197701             -53.768867            -7.499858   \n",
       "25%            -15.254229               6.546073            -3.505008   \n",
       "50%             -9.560608              66.291919            -0.477130   \n",
       "75%              3.706579             145.635954             0.893794   \n",
       "max             20.565161             338.516086             5.402436   \n",
       "\n",
       "       percent_professional_PC  percent_manufacturing_PC  \\\n",
       "count                15.000000                 15.000000   \n",
       "mean                  0.997153                 -2.787617   \n",
       "std                  12.752671                 82.336794   \n",
       "min                 -18.842003                -79.081279   \n",
       "25%                  -6.024164                -45.572328   \n",
       "50%                  -0.124570                -39.106510   \n",
       "75%                   8.508115                  9.264409   \n",
       "max                  26.192061                210.371423   \n",
       "\n",
       "       percent_self_employed_PC  percent_poverty_PC  \\\n",
       "count                 15.000000           15.000000   \n",
       "mean                   0.899336           51.838513   \n",
       "std                   40.781289           73.389031   \n",
       "min                  -53.294700          -34.758252   \n",
       "25%                  -28.820983            5.921186   \n",
       "50%                   -2.477253           38.080969   \n",
       "75%                   30.792465           77.467087   \n",
       "max                   83.129553          200.725668   \n",
       "\n",
       "       percent_houses_30yrsago_PC  percent_multiunit_houses_PC  \n",
       "count                   15.000000                    15.000000  \n",
       "mean                     1.678719                    -2.230468  \n",
       "std                      5.721542                     4.035407  \n",
       "min                     -7.036249                    -9.068823  \n",
       "25%                     -0.841181                    -3.895194  \n",
       "50%                      0.653691                    -2.697641  \n",
       "75%                      2.767805                     1.171793  \n",
       "max                     18.789363                     3.477348  "
      ]
     },
     "execution_count": 373,
     "metadata": {},
     "output_type": "execute_result"
    }
   ],
   "source": [
    "df_changes_sample[(df_changes_sample['income_bracket']=='Top 25% (> 63k)')&(df_changes_sample['HINC00_PC']<0)].describe()"
   ]
  },
  {
   "cell_type": "code",
   "execution_count": 377,
   "metadata": {},
   "outputs": [
    {
     "data": {
      "text/plain": [
       "-0.10933009612526014"
      ]
     },
     "execution_count": 377,
     "metadata": {},
     "output_type": "execute_result"
    }
   ],
   "source": [
    "(71902-80728)/80728"
   ]
  },
  {
   "cell_type": "code",
   "execution_count": 375,
   "metadata": {},
   "outputs": [
    {
     "data": {
      "text/html": [
       "<div>\n",
       "<style scoped>\n",
       "    .dataframe tbody tr th:only-of-type {\n",
       "        vertical-align: middle;\n",
       "    }\n",
       "\n",
       "    .dataframe tbody tr th {\n",
       "        vertical-align: top;\n",
       "    }\n",
       "\n",
       "    .dataframe thead th {\n",
       "        text-align: right;\n",
       "    }\n",
       "</style>\n",
       "<table border=\"1\" class=\"dataframe\">\n",
       "  <thead>\n",
       "    <tr style=\"text-align: right;\">\n",
       "      <th></th>\n",
       "      <th>tractid</th>\n",
       "      <th>INCPC00</th>\n",
       "      <th>HINC00</th>\n",
       "      <th>MHMVAL00</th>\n",
       "      <th>MRENT00</th>\n",
       "      <th>percent_foreign_born</th>\n",
       "      <th>percent_naturalized</th>\n",
       "      <th>percent_recent_immigrants(10)</th>\n",
       "      <th>percent_other_languages</th>\n",
       "      <th>percent_hs_degree_orless</th>\n",
       "      <th>percent_4yrcollege_degree_ormore</th>\n",
       "      <th>percent_married</th>\n",
       "      <th>percent_unemployed</th>\n",
       "      <th>percent_employed</th>\n",
       "      <th>percent_professional</th>\n",
       "      <th>percent_manufacturing</th>\n",
       "      <th>percent_self_employed</th>\n",
       "      <th>percent_poverty</th>\n",
       "      <th>percent_houses_30yrsago</th>\n",
       "      <th>percent_multiunit_houses</th>\n",
       "      <th>incpc12</th>\n",
       "      <th>hinc12</th>\n",
       "      <th>mhmval12</th>\n",
       "      <th>mrent12</th>\n",
       "      <th>pfb12</th>\n",
       "      <th>pnat12</th>\n",
       "      <th>p10imm12</th>\n",
       "      <th>polang12</th>\n",
       "      <th>phs12</th>\n",
       "      <th>pcol12</th>\n",
       "      <th>pmar12</th>\n",
       "      <th>punemp12</th>\n",
       "      <th>percent_employed12</th>\n",
       "      <th>pprof12</th>\n",
       "      <th>pmanuf12</th>\n",
       "      <th>psemp12</th>\n",
       "      <th>ppov12</th>\n",
       "      <th>p30old12</th>\n",
       "      <th>pmulti12</th>\n",
       "      <th>INCPC00_PC</th>\n",
       "      <th>HINC00_PC</th>\n",
       "      <th>MHMVAL00_PC</th>\n",
       "      <th>MRENT00_PC</th>\n",
       "      <th>percent_foreign_born_PC</th>\n",
       "      <th>percent_naturalized_PC</th>\n",
       "      <th>percent_recent_immigrants(10)_PC</th>\n",
       "      <th>percent_other_languages_PC</th>\n",
       "      <th>percent_hs_degree_orless_PC</th>\n",
       "      <th>percent_4yrcollege_degree_ormore_PC</th>\n",
       "      <th>percent_married_PC</th>\n",
       "      <th>percent_unemployed_PC</th>\n",
       "      <th>percent_employed_PC</th>\n",
       "      <th>percent_professional_PC</th>\n",
       "      <th>percent_manufacturing_PC</th>\n",
       "      <th>percent_self_employed_PC</th>\n",
       "      <th>percent_poverty_PC</th>\n",
       "      <th>percent_houses_30yrsago_PC</th>\n",
       "      <th>percent_multiunit_houses_PC</th>\n",
       "    </tr>\n",
       "  </thead>\n",
       "  <tbody>\n",
       "    <tr>\n",
       "      <th>count</th>\n",
       "      <td>2.600000e+01</td>\n",
       "      <td>26.000000</td>\n",
       "      <td>26.000000</td>\n",
       "      <td>26.000000</td>\n",
       "      <td>26.000000</td>\n",
       "      <td>26.000000</td>\n",
       "      <td>26.000000</td>\n",
       "      <td>26.000000</td>\n",
       "      <td>26.000000</td>\n",
       "      <td>26.000000</td>\n",
       "      <td>26.000000</td>\n",
       "      <td>26.000000</td>\n",
       "      <td>26.000000</td>\n",
       "      <td>26.000000</td>\n",
       "      <td>26.000000</td>\n",
       "      <td>26.000000</td>\n",
       "      <td>26.000000</td>\n",
       "      <td>26.000000</td>\n",
       "      <td>26.000000</td>\n",
       "      <td>26.000000</td>\n",
       "      <td>26.000000</td>\n",
       "      <td>26.000000</td>\n",
       "      <td>26.000000</td>\n",
       "      <td>26.000000</td>\n",
       "      <td>26.000000</td>\n",
       "      <td>26.000000</td>\n",
       "      <td>26.000000</td>\n",
       "      <td>26.000000</td>\n",
       "      <td>26.000000</td>\n",
       "      <td>26.000000</td>\n",
       "      <td>26.000000</td>\n",
       "      <td>26.000000</td>\n",
       "      <td>26.000000</td>\n",
       "      <td>26.000000</td>\n",
       "      <td>26.000000</td>\n",
       "      <td>26.000000</td>\n",
       "      <td>26.000000</td>\n",
       "      <td>26.000000</td>\n",
       "      <td>26.000000</td>\n",
       "      <td>26.000000</td>\n",
       "      <td>26.000000</td>\n",
       "      <td>26.000000</td>\n",
       "      <td>26.000000</td>\n",
       "      <td>26.000000</td>\n",
       "      <td>26.000000</td>\n",
       "      <td>26.000000</td>\n",
       "      <td>26.000000</td>\n",
       "      <td>26.000000</td>\n",
       "      <td>26.000000</td>\n",
       "      <td>26.000000</td>\n",
       "      <td>26.000000</td>\n",
       "      <td>26.000000</td>\n",
       "      <td>26.000000</td>\n",
       "      <td>26.000000</td>\n",
       "      <td>26.000000</td>\n",
       "      <td>26.000000</td>\n",
       "      <td>26.000000</td>\n",
       "      <td>26.000000</td>\n",
       "    </tr>\n",
       "    <tr>\n",
       "      <th>mean</th>\n",
       "      <td>2.502507e+10</td>\n",
       "      <td>12700.592786</td>\n",
       "      <td>27815.000209</td>\n",
       "      <td>179835.601027</td>\n",
       "      <td>524.010957</td>\n",
       "      <td>26.347626</td>\n",
       "      <td>9.169963</td>\n",
       "      <td>12.940507</td>\n",
       "      <td>41.326548</td>\n",
       "      <td>56.855355</td>\n",
       "      <td>24.923433</td>\n",
       "      <td>26.297089</td>\n",
       "      <td>11.878873</td>\n",
       "      <td>88.121127</td>\n",
       "      <td>29.817837</td>\n",
       "      <td>6.750998</td>\n",
       "      <td>3.991062</td>\n",
       "      <td>35.986618</td>\n",
       "      <td>75.024161</td>\n",
       "      <td>88.981753</td>\n",
       "      <td>16718.769231</td>\n",
       "      <td>21508.307692</td>\n",
       "      <td>324907.769231</td>\n",
       "      <td>704.192308</td>\n",
       "      <td>28.045769</td>\n",
       "      <td>12.390000</td>\n",
       "      <td>13.855769</td>\n",
       "      <td>44.243462</td>\n",
       "      <td>50.082692</td>\n",
       "      <td>28.398846</td>\n",
       "      <td>18.810385</td>\n",
       "      <td>16.559615</td>\n",
       "      <td>84.043271</td>\n",
       "      <td>34.516154</td>\n",
       "      <td>5.180385</td>\n",
       "      <td>3.490385</td>\n",
       "      <td>42.160000</td>\n",
       "      <td>70.418846</td>\n",
       "      <td>88.342692</td>\n",
       "      <td>30.527176</td>\n",
       "      <td>-21.295310</td>\n",
       "      <td>80.078859</td>\n",
       "      <td>33.744746</td>\n",
       "      <td>9.887567</td>\n",
       "      <td>55.020874</td>\n",
       "      <td>26.195640</td>\n",
       "      <td>10.838088</td>\n",
       "      <td>-13.562646</td>\n",
       "      <td>42.226714</td>\n",
       "      <td>-29.034116</td>\n",
       "      <td>79.586474</td>\n",
       "      <td>-4.025871</td>\n",
       "      <td>18.367738</td>\n",
       "      <td>-15.881965</td>\n",
       "      <td>24.653569</td>\n",
       "      <td>19.652163</td>\n",
       "      <td>-1.806526</td>\n",
       "      <td>0.250853</td>\n",
       "    </tr>\n",
       "    <tr>\n",
       "      <th>std</th>\n",
       "      <td>3.535341e+04</td>\n",
       "      <td>3787.352493</td>\n",
       "      <td>6398.725980</td>\n",
       "      <td>88127.876284</td>\n",
       "      <td>239.150537</td>\n",
       "      <td>9.737164</td>\n",
       "      <td>5.672491</td>\n",
       "      <td>6.125163</td>\n",
       "      <td>13.650773</td>\n",
       "      <td>22.319269</td>\n",
       "      <td>23.061407</td>\n",
       "      <td>9.011558</td>\n",
       "      <td>6.209828</td>\n",
       "      <td>6.209828</td>\n",
       "      <td>12.229696</td>\n",
       "      <td>3.524164</td>\n",
       "      <td>2.439983</td>\n",
       "      <td>7.841178</td>\n",
       "      <td>16.468160</td>\n",
       "      <td>12.247536</td>\n",
       "      <td>7924.807255</td>\n",
       "      <td>5610.775431</td>\n",
       "      <td>166235.105177</td>\n",
       "      <td>408.679632</td>\n",
       "      <td>9.256793</td>\n",
       "      <td>4.927553</td>\n",
       "      <td>6.877626</td>\n",
       "      <td>12.890602</td>\n",
       "      <td>21.706578</td>\n",
       "      <td>24.375106</td>\n",
       "      <td>9.560462</td>\n",
       "      <td>6.445571</td>\n",
       "      <td>6.400027</td>\n",
       "      <td>15.533556</td>\n",
       "      <td>3.123103</td>\n",
       "      <td>2.601320</td>\n",
       "      <td>9.451024</td>\n",
       "      <td>17.595098</td>\n",
       "      <td>10.030333</td>\n",
       "      <td>36.263889</td>\n",
       "      <td>15.409666</td>\n",
       "      <td>163.150793</td>\n",
       "      <td>36.675453</td>\n",
       "      <td>29.811353</td>\n",
       "      <td>71.958938</td>\n",
       "      <td>76.341155</td>\n",
       "      <td>25.623178</td>\n",
       "      <td>26.354729</td>\n",
       "      <td>74.643637</td>\n",
       "      <td>27.826609</td>\n",
       "      <td>116.134352</td>\n",
       "      <td>11.364454</td>\n",
       "      <td>34.256808</td>\n",
       "      <td>48.160592</td>\n",
       "      <td>144.843726</td>\n",
       "      <td>24.747424</td>\n",
       "      <td>30.735841</td>\n",
       "      <td>11.207126</td>\n",
       "    </tr>\n",
       "    <tr>\n",
       "      <th>min</th>\n",
       "      <td>2.502500e+10</td>\n",
       "      <td>7394.136846</td>\n",
       "      <td>15362.751600</td>\n",
       "      <td>306.206098</td>\n",
       "      <td>181.000000</td>\n",
       "      <td>13.836647</td>\n",
       "      <td>3.525836</td>\n",
       "      <td>3.904170</td>\n",
       "      <td>18.918137</td>\n",
       "      <td>16.735046</td>\n",
       "      <td>3.287253</td>\n",
       "      <td>11.951801</td>\n",
       "      <td>1.997474</td>\n",
       "      <td>68.300153</td>\n",
       "      <td>7.235585</td>\n",
       "      <td>1.276360</td>\n",
       "      <td>1.140684</td>\n",
       "      <td>22.867441</td>\n",
       "      <td>33.074487</td>\n",
       "      <td>55.966880</td>\n",
       "      <td>7287.000000</td>\n",
       "      <td>12921.000000</td>\n",
       "      <td>-999.000000</td>\n",
       "      <td>326.000000</td>\n",
       "      <td>8.540000</td>\n",
       "      <td>2.760000</td>\n",
       "      <td>1.130000</td>\n",
       "      <td>22.410000</td>\n",
       "      <td>1.220000</td>\n",
       "      <td>4.460000</td>\n",
       "      <td>4.720000</td>\n",
       "      <td>7.200000</td>\n",
       "      <td>65.922144</td>\n",
       "      <td>4.740000</td>\n",
       "      <td>1.130000</td>\n",
       "      <td>0.000000</td>\n",
       "      <td>28.400000</td>\n",
       "      <td>41.380001</td>\n",
       "      <td>70.599998</td>\n",
       "      <td>-40.516052</td>\n",
       "      <td>-54.613513</td>\n",
       "      <td>-426.250851</td>\n",
       "      <td>-28.247668</td>\n",
       "      <td>-38.279845</td>\n",
       "      <td>-64.711429</td>\n",
       "      <td>-90.797772</td>\n",
       "      <td>-41.852398</td>\n",
       "      <td>-92.792963</td>\n",
       "      <td>-68.782673</td>\n",
       "      <td>-67.135632</td>\n",
       "      <td>-65.520199</td>\n",
       "      <td>-28.645383</td>\n",
       "      <td>-45.238001</td>\n",
       "      <td>-71.905862</td>\n",
       "      <td>-100.000000</td>\n",
       "      <td>-34.936514</td>\n",
       "      <td>-44.392293</td>\n",
       "      <td>-22.661187</td>\n",
       "    </tr>\n",
       "    <tr>\n",
       "      <th>25%</th>\n",
       "      <td>2.502505e+10</td>\n",
       "      <td>10510.500000</td>\n",
       "      <td>23641.821000</td>\n",
       "      <td>147074.998725</td>\n",
       "      <td>391.655035</td>\n",
       "      <td>20.432391</td>\n",
       "      <td>5.521078</td>\n",
       "      <td>7.739880</td>\n",
       "      <td>34.069874</td>\n",
       "      <td>44.385273</td>\n",
       "      <td>9.104738</td>\n",
       "      <td>19.524024</td>\n",
       "      <td>8.536854</td>\n",
       "      <td>85.489016</td>\n",
       "      <td>21.532026</td>\n",
       "      <td>4.647674</td>\n",
       "      <td>2.454538</td>\n",
       "      <td>30.902484</td>\n",
       "      <td>73.391561</td>\n",
       "      <td>83.470773</td>\n",
       "      <td>13099.250000</td>\n",
       "      <td>16685.250000</td>\n",
       "      <td>268625.000000</td>\n",
       "      <td>396.000000</td>\n",
       "      <td>21.087501</td>\n",
       "      <td>9.867500</td>\n",
       "      <td>10.342500</td>\n",
       "      <td>32.325001</td>\n",
       "      <td>44.870000</td>\n",
       "      <td>12.965000</td>\n",
       "      <td>11.835000</td>\n",
       "      <td>11.965000</td>\n",
       "      <td>82.101521</td>\n",
       "      <td>25.665000</td>\n",
       "      <td>2.805000</td>\n",
       "      <td>1.702500</td>\n",
       "      <td>36.037501</td>\n",
       "      <td>56.504999</td>\n",
       "      <td>80.225002</td>\n",
       "      <td>12.369705</td>\n",
       "      <td>-32.361217</td>\n",
       "      <td>51.463044</td>\n",
       "      <td>8.621321</td>\n",
       "      <td>-6.046665</td>\n",
       "      <td>17.378120</td>\n",
       "      <td>-23.780539</td>\n",
       "      <td>-3.693682</td>\n",
       "      <td>-24.492176</td>\n",
       "      <td>-8.605353</td>\n",
       "      <td>-55.960564</td>\n",
       "      <td>13.190017</td>\n",
       "      <td>-10.432934</td>\n",
       "      <td>-5.403832</td>\n",
       "      <td>-56.555537</td>\n",
       "      <td>-59.756374</td>\n",
       "      <td>6.560103</td>\n",
       "      <td>-27.291468</td>\n",
       "      <td>-4.460624</td>\n",
       "    </tr>\n",
       "    <tr>\n",
       "      <th>50%</th>\n",
       "      <td>2.502508e+10</td>\n",
       "      <td>11447.000000</td>\n",
       "      <td>28938.753900</td>\n",
       "      <td>158550.000000</td>\n",
       "      <td>484.999996</td>\n",
       "      <td>23.104977</td>\n",
       "      <td>7.950249</td>\n",
       "      <td>11.492434</td>\n",
       "      <td>38.393206</td>\n",
       "      <td>66.516455</td>\n",
       "      <td>13.038489</td>\n",
       "      <td>26.047534</td>\n",
       "      <td>10.446922</td>\n",
       "      <td>89.553078</td>\n",
       "      <td>26.548279</td>\n",
       "      <td>5.637169</td>\n",
       "      <td>3.525330</td>\n",
       "      <td>35.220222</td>\n",
       "      <td>77.127667</td>\n",
       "      <td>92.573303</td>\n",
       "      <td>15180.000000</td>\n",
       "      <td>20724.000000</td>\n",
       "      <td>312000.000000</td>\n",
       "      <td>523.500000</td>\n",
       "      <td>26.955000</td>\n",
       "      <td>12.705000</td>\n",
       "      <td>13.520000</td>\n",
       "      <td>44.060001</td>\n",
       "      <td>57.885000</td>\n",
       "      <td>17.280000</td>\n",
       "      <td>18.860000</td>\n",
       "      <td>16.514999</td>\n",
       "      <td>83.672195</td>\n",
       "      <td>30.965000</td>\n",
       "      <td>4.430000</td>\n",
       "      <td>2.785000</td>\n",
       "      <td>40.425001</td>\n",
       "      <td>69.645000</td>\n",
       "      <td>91.190002</td>\n",
       "      <td>30.668744</td>\n",
       "      <td>-15.750370</td>\n",
       "      <td>88.665758</td>\n",
       "      <td>36.225273</td>\n",
       "      <td>7.295049</td>\n",
       "      <td>37.954267</td>\n",
       "      <td>12.302132</td>\n",
       "      <td>6.281889</td>\n",
       "      <td>-14.881011</td>\n",
       "      <td>19.110545</td>\n",
       "      <td>-27.106093</td>\n",
       "      <td>39.786242</td>\n",
       "      <td>-3.398178</td>\n",
       "      <td>16.565924</td>\n",
       "      <td>-34.083226</td>\n",
       "      <td>-14.385344</td>\n",
       "      <td>21.455579</td>\n",
       "      <td>-4.936081</td>\n",
       "      <td>-1.240002</td>\n",
       "    </tr>\n",
       "    <tr>\n",
       "      <th>75%</th>\n",
       "      <td>2.502508e+10</td>\n",
       "      <td>15100.500008</td>\n",
       "      <td>34084.363320</td>\n",
       "      <td>195800.000000</td>\n",
       "      <td>573.499996</td>\n",
       "      <td>30.490298</td>\n",
       "      <td>9.941445</td>\n",
       "      <td>15.846821</td>\n",
       "      <td>47.857844</td>\n",
       "      <td>71.183291</td>\n",
       "      <td>39.877940</td>\n",
       "      <td>32.106302</td>\n",
       "      <td>14.510984</td>\n",
       "      <td>91.463146</td>\n",
       "      <td>37.210605</td>\n",
       "      <td>8.257068</td>\n",
       "      <td>4.910877</td>\n",
       "      <td>40.702659</td>\n",
       "      <td>85.915271</td>\n",
       "      <td>98.149431</td>\n",
       "      <td>17630.000000</td>\n",
       "      <td>25549.250000</td>\n",
       "      <td>359800.000000</td>\n",
       "      <td>847.250000</td>\n",
       "      <td>32.940000</td>\n",
       "      <td>15.617500</td>\n",
       "      <td>17.602500</td>\n",
       "      <td>53.790001</td>\n",
       "      <td>63.437500</td>\n",
       "      <td>33.360001</td>\n",
       "      <td>23.685000</td>\n",
       "      <td>18.342501</td>\n",
       "      <td>88.628920</td>\n",
       "      <td>42.137500</td>\n",
       "      <td>6.955000</td>\n",
       "      <td>4.167500</td>\n",
       "      <td>47.007502</td>\n",
       "      <td>87.842501</td>\n",
       "      <td>97.252502</td>\n",
       "      <td>44.379274</td>\n",
       "      <td>-11.012098</td>\n",
       "      <td>117.500718</td>\n",
       "      <td>56.390178</td>\n",
       "      <td>18.447768</td>\n",
       "      <td>89.085819</td>\n",
       "      <td>77.975725</td>\n",
       "      <td>31.369638</td>\n",
       "      <td>1.754205</td>\n",
       "      <td>69.813894</td>\n",
       "      <td>-11.503563</td>\n",
       "      <td>124.886984</td>\n",
       "      <td>-1.123790</td>\n",
       "      <td>41.331503</td>\n",
       "      <td>7.181219</td>\n",
       "      <td>27.959752</td>\n",
       "      <td>31.961725</td>\n",
       "      <td>12.350321</td>\n",
       "      <td>2.092099</td>\n",
       "    </tr>\n",
       "    <tr>\n",
       "      <th>max</th>\n",
       "      <td>2.502514e+10</td>\n",
       "      <td>22503.834670</td>\n",
       "      <td>36556.062100</td>\n",
       "      <td>532100.000000</td>\n",
       "      <td>986.000000</td>\n",
       "      <td>59.015189</td>\n",
       "      <td>29.691328</td>\n",
       "      <td>24.693778</td>\n",
       "      <td>77.176902</td>\n",
       "      <td>87.483772</td>\n",
       "      <td>71.159875</td>\n",
       "      <td>43.394694</td>\n",
       "      <td>31.699847</td>\n",
       "      <td>98.002531</td>\n",
       "      <td>56.965517</td>\n",
       "      <td>16.849015</td>\n",
       "      <td>12.331839</td>\n",
       "      <td>57.142857</td>\n",
       "      <td>93.529412</td>\n",
       "      <td>100.000000</td>\n",
       "      <td>41731.000000</td>\n",
       "      <td>32485.000000</td>\n",
       "      <td>802100.000000</td>\n",
       "      <td>1576.000000</td>\n",
       "      <td>49.959999</td>\n",
       "      <td>22.010000</td>\n",
       "      <td>29.799999</td>\n",
       "      <td>68.860001</td>\n",
       "      <td>82.709999</td>\n",
       "      <td>84.320000</td>\n",
       "      <td>41.389999</td>\n",
       "      <td>35.040001</td>\n",
       "      <td>93.070652</td>\n",
       "      <td>78.820000</td>\n",
       "      <td>13.430000</td>\n",
       "      <td>10.150000</td>\n",
       "      <td>63.980000</td>\n",
       "      <td>97.489998</td>\n",
       "      <td>100.000000</td>\n",
       "      <td>106.292946</td>\n",
       "      <td>-0.550111</td>\n",
       "      <td>658.879840</td>\n",
       "      <td>115.897436</td>\n",
       "      <td>83.239964</td>\n",
       "      <td>208.230290</td>\n",
       "      <td>204.904293</td>\n",
       "      <td>61.263795</td>\n",
       "      <td>43.583231</td>\n",
       "      <td>243.310830</td>\n",
       "      <td>27.165126</td>\n",
       "      <td>360.244506</td>\n",
       "      <td>22.530811</td>\n",
       "      <td>85.291681</td>\n",
       "      <td>88.307996</td>\n",
       "      <td>561.706658</td>\n",
       "      <td>70.382362</td>\n",
       "      <td>74.713293</td>\n",
       "      <td>33.275244</td>\n",
       "    </tr>\n",
       "  </tbody>\n",
       "</table>\n",
       "</div>"
      ],
      "text/plain": [
       "            tractid       INCPC00        HINC00       MHMVAL00     MRENT00  \\\n",
       "count  2.600000e+01     26.000000     26.000000      26.000000   26.000000   \n",
       "mean   2.502507e+10  12700.592786  27815.000209  179835.601027  524.010957   \n",
       "std    3.535341e+04   3787.352493   6398.725980   88127.876284  239.150537   \n",
       "min    2.502500e+10   7394.136846  15362.751600     306.206098  181.000000   \n",
       "25%    2.502505e+10  10510.500000  23641.821000  147074.998725  391.655035   \n",
       "50%    2.502508e+10  11447.000000  28938.753900  158550.000000  484.999996   \n",
       "75%    2.502508e+10  15100.500008  34084.363320  195800.000000  573.499996   \n",
       "max    2.502514e+10  22503.834670  36556.062100  532100.000000  986.000000   \n",
       "\n",
       "       percent_foreign_born  percent_naturalized  \\\n",
       "count             26.000000            26.000000   \n",
       "mean              26.347626             9.169963   \n",
       "std                9.737164             5.672491   \n",
       "min               13.836647             3.525836   \n",
       "25%               20.432391             5.521078   \n",
       "50%               23.104977             7.950249   \n",
       "75%               30.490298             9.941445   \n",
       "max               59.015189            29.691328   \n",
       "\n",
       "       percent_recent_immigrants(10)  percent_other_languages  \\\n",
       "count                      26.000000                26.000000   \n",
       "mean                       12.940507                41.326548   \n",
       "std                         6.125163                13.650773   \n",
       "min                         3.904170                18.918137   \n",
       "25%                         7.739880                34.069874   \n",
       "50%                        11.492434                38.393206   \n",
       "75%                        15.846821                47.857844   \n",
       "max                        24.693778                77.176902   \n",
       "\n",
       "       percent_hs_degree_orless  percent_4yrcollege_degree_ormore  \\\n",
       "count                 26.000000                         26.000000   \n",
       "mean                  56.855355                         24.923433   \n",
       "std                   22.319269                         23.061407   \n",
       "min                   16.735046                          3.287253   \n",
       "25%                   44.385273                          9.104738   \n",
       "50%                   66.516455                         13.038489   \n",
       "75%                   71.183291                         39.877940   \n",
       "max                   87.483772                         71.159875   \n",
       "\n",
       "       percent_married  percent_unemployed  percent_employed  \\\n",
       "count        26.000000           26.000000         26.000000   \n",
       "mean         26.297089           11.878873         88.121127   \n",
       "std           9.011558            6.209828          6.209828   \n",
       "min          11.951801            1.997474         68.300153   \n",
       "25%          19.524024            8.536854         85.489016   \n",
       "50%          26.047534           10.446922         89.553078   \n",
       "75%          32.106302           14.510984         91.463146   \n",
       "max          43.394694           31.699847         98.002531   \n",
       "\n",
       "       percent_professional  percent_manufacturing  percent_self_employed  \\\n",
       "count             26.000000              26.000000              26.000000   \n",
       "mean              29.817837               6.750998               3.991062   \n",
       "std               12.229696               3.524164               2.439983   \n",
       "min                7.235585               1.276360               1.140684   \n",
       "25%               21.532026               4.647674               2.454538   \n",
       "50%               26.548279               5.637169               3.525330   \n",
       "75%               37.210605               8.257068               4.910877   \n",
       "max               56.965517              16.849015              12.331839   \n",
       "\n",
       "       percent_poverty  percent_houses_30yrsago  percent_multiunit_houses  \\\n",
       "count        26.000000                26.000000                 26.000000   \n",
       "mean         35.986618                75.024161                 88.981753   \n",
       "std           7.841178                16.468160                 12.247536   \n",
       "min          22.867441                33.074487                 55.966880   \n",
       "25%          30.902484                73.391561                 83.470773   \n",
       "50%          35.220222                77.127667                 92.573303   \n",
       "75%          40.702659                85.915271                 98.149431   \n",
       "max          57.142857                93.529412                100.000000   \n",
       "\n",
       "            incpc12        hinc12       mhmval12      mrent12      pfb12  \\\n",
       "count     26.000000     26.000000      26.000000    26.000000  26.000000   \n",
       "mean   16718.769231  21508.307692  324907.769231   704.192308  28.045769   \n",
       "std     7924.807255   5610.775431  166235.105177   408.679632   9.256793   \n",
       "min     7287.000000  12921.000000    -999.000000   326.000000   8.540000   \n",
       "25%    13099.250000  16685.250000  268625.000000   396.000000  21.087501   \n",
       "50%    15180.000000  20724.000000  312000.000000   523.500000  26.955000   \n",
       "75%    17630.000000  25549.250000  359800.000000   847.250000  32.940000   \n",
       "max    41731.000000  32485.000000  802100.000000  1576.000000  49.959999   \n",
       "\n",
       "          pnat12   p10imm12   polang12      phs12     pcol12     pmar12  \\\n",
       "count  26.000000  26.000000  26.000000  26.000000  26.000000  26.000000   \n",
       "mean   12.390000  13.855769  44.243462  50.082692  28.398846  18.810385   \n",
       "std     4.927553   6.877626  12.890602  21.706578  24.375106   9.560462   \n",
       "min     2.760000   1.130000  22.410000   1.220000   4.460000   4.720000   \n",
       "25%     9.867500  10.342500  32.325001  44.870000  12.965000  11.835000   \n",
       "50%    12.705000  13.520000  44.060001  57.885000  17.280000  18.860000   \n",
       "75%    15.617500  17.602500  53.790001  63.437500  33.360001  23.685000   \n",
       "max    22.010000  29.799999  68.860001  82.709999  84.320000  41.389999   \n",
       "\n",
       "        punemp12  percent_employed12    pprof12   pmanuf12    psemp12  \\\n",
       "count  26.000000           26.000000  26.000000  26.000000  26.000000   \n",
       "mean   16.559615           84.043271  34.516154   5.180385   3.490385   \n",
       "std     6.445571            6.400027  15.533556   3.123103   2.601320   \n",
       "min     7.200000           65.922144   4.740000   1.130000   0.000000   \n",
       "25%    11.965000           82.101521  25.665000   2.805000   1.702500   \n",
       "50%    16.514999           83.672195  30.965000   4.430000   2.785000   \n",
       "75%    18.342501           88.628920  42.137500   6.955000   4.167500   \n",
       "max    35.040001           93.070652  78.820000  13.430000  10.150000   \n",
       "\n",
       "          ppov12   p30old12    pmulti12  INCPC00_PC  HINC00_PC  MHMVAL00_PC  \\\n",
       "count  26.000000  26.000000   26.000000   26.000000  26.000000    26.000000   \n",
       "mean   42.160000  70.418846   88.342692   30.527176 -21.295310    80.078859   \n",
       "std     9.451024  17.595098   10.030333   36.263889  15.409666   163.150793   \n",
       "min    28.400000  41.380001   70.599998  -40.516052 -54.613513  -426.250851   \n",
       "25%    36.037501  56.504999   80.225002   12.369705 -32.361217    51.463044   \n",
       "50%    40.425001  69.645000   91.190002   30.668744 -15.750370    88.665758   \n",
       "75%    47.007502  87.842501   97.252502   44.379274 -11.012098   117.500718   \n",
       "max    63.980000  97.489998  100.000000  106.292946  -0.550111   658.879840   \n",
       "\n",
       "       MRENT00_PC  percent_foreign_born_PC  percent_naturalized_PC  \\\n",
       "count   26.000000                26.000000               26.000000   \n",
       "mean    33.744746                 9.887567               55.020874   \n",
       "std     36.675453                29.811353               71.958938   \n",
       "min    -28.247668               -38.279845              -64.711429   \n",
       "25%      8.621321                -6.046665               17.378120   \n",
       "50%     36.225273                 7.295049               37.954267   \n",
       "75%     56.390178                18.447768               89.085819   \n",
       "max    115.897436                83.239964              208.230290   \n",
       "\n",
       "       percent_recent_immigrants(10)_PC  percent_other_languages_PC  \\\n",
       "count                         26.000000                   26.000000   \n",
       "mean                          26.195640                   10.838088   \n",
       "std                           76.341155                   25.623178   \n",
       "min                          -90.797772                  -41.852398   \n",
       "25%                          -23.780539                   -3.693682   \n",
       "50%                           12.302132                    6.281889   \n",
       "75%                           77.975725                   31.369638   \n",
       "max                          204.904293                   61.263795   \n",
       "\n",
       "       percent_hs_degree_orless_PC  percent_4yrcollege_degree_ormore_PC  \\\n",
       "count                    26.000000                            26.000000   \n",
       "mean                    -13.562646                            42.226714   \n",
       "std                      26.354729                            74.643637   \n",
       "min                     -92.792963                           -68.782673   \n",
       "25%                     -24.492176                            -8.605353   \n",
       "50%                     -14.881011                            19.110545   \n",
       "75%                       1.754205                            69.813894   \n",
       "max                      43.583231                           243.310830   \n",
       "\n",
       "       percent_married_PC  percent_unemployed_PC  percent_employed_PC  \\\n",
       "count           26.000000              26.000000            26.000000   \n",
       "mean           -29.034116              79.586474            -4.025871   \n",
       "std             27.826609             116.134352            11.364454   \n",
       "min            -67.135632             -65.520199           -28.645383   \n",
       "25%            -55.960564              13.190017           -10.432934   \n",
       "50%            -27.106093              39.786242            -3.398178   \n",
       "75%            -11.503563             124.886984            -1.123790   \n",
       "max             27.165126             360.244506            22.530811   \n",
       "\n",
       "       percent_professional_PC  percent_manufacturing_PC  \\\n",
       "count                26.000000                 26.000000   \n",
       "mean                 18.367738                -15.881965   \n",
       "std                  34.256808                 48.160592   \n",
       "min                 -45.238001                -71.905862   \n",
       "25%                  -5.403832                -56.555537   \n",
       "50%                  16.565924                -34.083226   \n",
       "75%                  41.331503                  7.181219   \n",
       "max                  85.291681                 88.307996   \n",
       "\n",
       "       percent_self_employed_PC  percent_poverty_PC  \\\n",
       "count                 26.000000           26.000000   \n",
       "mean                  24.653569           19.652163   \n",
       "std                  144.843726           24.747424   \n",
       "min                 -100.000000          -34.936514   \n",
       "25%                  -59.756374            6.560103   \n",
       "50%                  -14.385344           21.455579   \n",
       "75%                   27.959752           31.961725   \n",
       "max                  561.706658           70.382362   \n",
       "\n",
       "       percent_houses_30yrsago_PC  percent_multiunit_houses_PC  \n",
       "count                   26.000000                    26.000000  \n",
       "mean                    -1.806526                     0.250853  \n",
       "std                     30.735841                    11.207126  \n",
       "min                    -44.392293                   -22.661187  \n",
       "25%                    -27.291468                    -4.460624  \n",
       "50%                     -4.936081                    -1.240002  \n",
       "75%                     12.350321                     2.092099  \n",
       "max                     74.713293                    33.275244  "
      ]
     },
     "execution_count": 375,
     "metadata": {},
     "output_type": "execute_result"
    }
   ],
   "source": [
    "df_changes_sample[(df_changes_sample['income_bracket']=='Bottom 25% (<37k)')&(df_changes_sample['HINC00_PC']<0)].describe()"
   ]
  },
  {
   "cell_type": "code",
   "execution_count": 376,
   "metadata": {},
   "outputs": [
    {
     "data": {
      "text/plain": [
       "-0.22674815746899155"
      ]
     },
     "execution_count": 376,
     "metadata": {},
     "output_type": "execute_result"
    }
   ],
   "source": [
    "(21508-27815)/27815"
   ]
  },
  {
   "cell_type": "code",
   "execution_count": 354,
   "metadata": {},
   "outputs": [
    {
     "data": {
      "text/plain": [
       "Middle 50% (<63k and >37k)    34\n",
       "Bottom 25% (<37k)             26\n",
       "Top 25% (> 63k)               15\n",
       "Name: income_bracket, dtype: int64"
      ]
     },
     "execution_count": 354,
     "metadata": {},
     "output_type": "execute_result"
    }
   ],
   "source": [
    "df_changes_sample['income_bracket'][df_changes_sample['HINC00_PC']<0].value_counts()"
   ]
  },
  {
   "cell_type": "code",
   "execution_count": 355,
   "metadata": {},
   "outputs": [
    {
     "data": {
      "text/plain": [
       "65"
      ]
     },
     "execution_count": 355,
     "metadata": {},
     "output_type": "execute_result"
    }
   ],
   "source": [
    "len(df_changes_sample[(df_changes_sample['HINC00']>47000) &(df_changes_sample['HINC00_PC']>0)])"
   ]
  },
  {
   "cell_type": "code",
   "execution_count": 356,
   "metadata": {},
   "outputs": [
    {
     "data": {
      "text/html": [
       "<div>\n",
       "<style scoped>\n",
       "    .dataframe tbody tr th:only-of-type {\n",
       "        vertical-align: middle;\n",
       "    }\n",
       "\n",
       "    .dataframe tbody tr th {\n",
       "        vertical-align: top;\n",
       "    }\n",
       "\n",
       "    .dataframe thead th {\n",
       "        text-align: right;\n",
       "    }\n",
       "</style>\n",
       "<table border=\"1\" class=\"dataframe\">\n",
       "  <thead>\n",
       "    <tr style=\"text-align: right;\">\n",
       "      <th></th>\n",
       "      <th>HINC00</th>\n",
       "      <th>income_bracket</th>\n",
       "    </tr>\n",
       "  </thead>\n",
       "  <tbody>\n",
       "    <tr>\n",
       "      <th>0</th>\n",
       "      <td>56514.969000</td>\n",
       "      <td>Middle 50% (&lt;63k and &gt;37k)</td>\n",
       "    </tr>\n",
       "    <tr>\n",
       "      <th>1</th>\n",
       "      <td>78896.821500</td>\n",
       "      <td>Top 25% (&gt; 63k)</td>\n",
       "    </tr>\n",
       "    <tr>\n",
       "      <th>2</th>\n",
       "      <td>71929.638900</td>\n",
       "      <td>Top 25% (&gt; 63k)</td>\n",
       "    </tr>\n",
       "    <tr>\n",
       "      <th>3</th>\n",
       "      <td>71319.282300</td>\n",
       "      <td>Top 25% (&gt; 63k)</td>\n",
       "    </tr>\n",
       "    <tr>\n",
       "      <th>4</th>\n",
       "      <td>81992.924658</td>\n",
       "      <td>Top 25% (&gt; 63k)</td>\n",
       "    </tr>\n",
       "    <tr>\n",
       "      <th>5</th>\n",
       "      <td>38893.138200</td>\n",
       "      <td>Middle 50% (&lt;63k and &gt;37k)</td>\n",
       "    </tr>\n",
       "    <tr>\n",
       "      <th>6</th>\n",
       "      <td>69435.027900</td>\n",
       "      <td>Top 25% (&gt; 63k)</td>\n",
       "    </tr>\n",
       "    <tr>\n",
       "      <th>7</th>\n",
       "      <td>49332.516350</td>\n",
       "      <td>Middle 50% (&lt;63k and &gt;37k)</td>\n",
       "    </tr>\n",
       "    <tr>\n",
       "      <th>8</th>\n",
       "      <td>50056.838190</td>\n",
       "      <td>Middle 50% (&lt;63k and &gt;37k)</td>\n",
       "    </tr>\n",
       "    <tr>\n",
       "      <th>9</th>\n",
       "      <td>50056.839431</td>\n",
       "      <td>Middle 50% (&lt;63k and &gt;37k)</td>\n",
       "    </tr>\n",
       "    <tr>\n",
       "      <th>10</th>\n",
       "      <td>55469.005200</td>\n",
       "      <td>Middle 50% (&lt;63k and &gt;37k)</td>\n",
       "    </tr>\n",
       "    <tr>\n",
       "      <th>11</th>\n",
       "      <td>25547.602500</td>\n",
       "      <td>Bottom 25% (&lt;37k)</td>\n",
       "    </tr>\n",
       "    <tr>\n",
       "      <th>12</th>\n",
       "      <td>46694.812500</td>\n",
       "      <td>Middle 50% (&lt;63k and &gt;37k)</td>\n",
       "    </tr>\n",
       "    <tr>\n",
       "      <th>13</th>\n",
       "      <td>35044.854134</td>\n",
       "      <td>Bottom 25% (&lt;37k)</td>\n",
       "    </tr>\n",
       "    <tr>\n",
       "      <th>14</th>\n",
       "      <td>35044.852285</td>\n",
       "      <td>Bottom 25% (&lt;37k)</td>\n",
       "    </tr>\n",
       "    <tr>\n",
       "      <th>15</th>\n",
       "      <td>37425.496500</td>\n",
       "      <td>Middle 50% (&lt;63k and &gt;37k)</td>\n",
       "    </tr>\n",
       "    <tr>\n",
       "      <th>16</th>\n",
       "      <td>39214.778400</td>\n",
       "      <td>Middle 50% (&lt;63k and &gt;37k)</td>\n",
       "    </tr>\n",
       "    <tr>\n",
       "      <th>17</th>\n",
       "      <td>20826.836100</td>\n",
       "      <td>Bottom 25% (&lt;37k)</td>\n",
       "    </tr>\n",
       "    <tr>\n",
       "      <th>18</th>\n",
       "      <td>43883.626500</td>\n",
       "      <td>Middle 50% (&lt;63k and &gt;37k)</td>\n",
       "    </tr>\n",
       "    <tr>\n",
       "      <th>19</th>\n",
       "      <td>36556.062100</td>\n",
       "      <td>Bottom 25% (&lt;37k)</td>\n",
       "    </tr>\n",
       "    <tr>\n",
       "      <th>20</th>\n",
       "      <td>22869.378000</td>\n",
       "      <td>Bottom 25% (&lt;37k)</td>\n",
       "    </tr>\n",
       "    <tr>\n",
       "      <th>21</th>\n",
       "      <td>18011.851542</td>\n",
       "      <td>Bottom 25% (&lt;37k)</td>\n",
       "    </tr>\n",
       "    <tr>\n",
       "      <th>22</th>\n",
       "      <td>33653.189965</td>\n",
       "      <td>Bottom 25% (&lt;37k)</td>\n",
       "    </tr>\n",
       "    <tr>\n",
       "      <th>23</th>\n",
       "      <td>33653.188268</td>\n",
       "      <td>Bottom 25% (&lt;37k)</td>\n",
       "    </tr>\n",
       "    <tr>\n",
       "      <th>24</th>\n",
       "      <td>17449.613810</td>\n",
       "      <td>Bottom 25% (&lt;37k)</td>\n",
       "    </tr>\n",
       "    <tr>\n",
       "      <th>25</th>\n",
       "      <td>36636.591385</td>\n",
       "      <td>Bottom 25% (&lt;37k)</td>\n",
       "    </tr>\n",
       "    <tr>\n",
       "      <th>26</th>\n",
       "      <td>42209.577900</td>\n",
       "      <td>Middle 50% (&lt;63k and &gt;37k)</td>\n",
       "    </tr>\n",
       "    <tr>\n",
       "      <th>27</th>\n",
       "      <td>77824.265400</td>\n",
       "      <td>Top 25% (&gt; 63k)</td>\n",
       "    </tr>\n",
       "    <tr>\n",
       "      <th>28</th>\n",
       "      <td>97862.194042</td>\n",
       "      <td>Top 25% (&gt; 63k)</td>\n",
       "    </tr>\n",
       "    <tr>\n",
       "      <th>29</th>\n",
       "      <td>97862.198829</td>\n",
       "      <td>Top 25% (&gt; 63k)</td>\n",
       "    </tr>\n",
       "    <tr>\n",
       "      <th>30</th>\n",
       "      <td>90756.989921</td>\n",
       "      <td>Top 25% (&gt; 63k)</td>\n",
       "    </tr>\n",
       "    <tr>\n",
       "      <th>31</th>\n",
       "      <td>90756.984641</td>\n",
       "      <td>Top 25% (&gt; 63k)</td>\n",
       "    </tr>\n",
       "    <tr>\n",
       "      <th>32</th>\n",
       "      <td>103588.409581</td>\n",
       "      <td>Top 25% (&gt; 63k)</td>\n",
       "    </tr>\n",
       "    <tr>\n",
       "      <th>33</th>\n",
       "      <td>67709.061000</td>\n",
       "      <td>Top 25% (&gt; 63k)</td>\n",
       "    </tr>\n",
       "    <tr>\n",
       "      <th>34</th>\n",
       "      <td>66050.208443</td>\n",
       "      <td>Top 25% (&gt; 63k)</td>\n",
       "    </tr>\n",
       "    <tr>\n",
       "      <th>35</th>\n",
       "      <td>66050.205569</td>\n",
       "      <td>Top 25% (&gt; 63k)</td>\n",
       "    </tr>\n",
       "    <tr>\n",
       "      <th>36</th>\n",
       "      <td>66050.208810</td>\n",
       "      <td>Top 25% (&gt; 63k)</td>\n",
       "    </tr>\n",
       "    <tr>\n",
       "      <th>37</th>\n",
       "      <td>66722.613300</td>\n",
       "      <td>Top 25% (&gt; 63k)</td>\n",
       "    </tr>\n",
       "    <tr>\n",
       "      <th>38</th>\n",
       "      <td>54609.187500</td>\n",
       "      <td>Middle 50% (&lt;63k and &gt;37k)</td>\n",
       "    </tr>\n",
       "    <tr>\n",
       "      <th>39</th>\n",
       "      <td>89722.420200</td>\n",
       "      <td>Top 25% (&gt; 63k)</td>\n",
       "    </tr>\n",
       "    <tr>\n",
       "      <th>40</th>\n",
       "      <td>63379.581300</td>\n",
       "      <td>Top 25% (&gt; 63k)</td>\n",
       "    </tr>\n",
       "    <tr>\n",
       "      <th>41</th>\n",
       "      <td>80394.854400</td>\n",
       "      <td>Top 25% (&gt; 63k)</td>\n",
       "    </tr>\n",
       "    <tr>\n",
       "      <th>42</th>\n",
       "      <td>95049.744300</td>\n",
       "      <td>Top 25% (&gt; 63k)</td>\n",
       "    </tr>\n",
       "    <tr>\n",
       "      <th>43</th>\n",
       "      <td>40869.832500</td>\n",
       "      <td>Middle 50% (&lt;63k and &gt;37k)</td>\n",
       "    </tr>\n",
       "    <tr>\n",
       "      <th>44</th>\n",
       "      <td>83161.719900</td>\n",
       "      <td>Top 25% (&gt; 63k)</td>\n",
       "    </tr>\n",
       "    <tr>\n",
       "      <th>45</th>\n",
       "      <td>68124.407400</td>\n",
       "      <td>Top 25% (&gt; 63k)</td>\n",
       "    </tr>\n",
       "    <tr>\n",
       "      <th>46</th>\n",
       "      <td>81638.361000</td>\n",
       "      <td>Top 25% (&gt; 63k)</td>\n",
       "    </tr>\n",
       "    <tr>\n",
       "      <th>47</th>\n",
       "      <td>42404.588100</td>\n",
       "      <td>Middle 50% (&lt;63k and &gt;37k)</td>\n",
       "    </tr>\n",
       "    <tr>\n",
       "      <th>48</th>\n",
       "      <td>35637.480900</td>\n",
       "      <td>Bottom 25% (&lt;37k)</td>\n",
       "    </tr>\n",
       "    <tr>\n",
       "      <th>49</th>\n",
       "      <td>36954.432900</td>\n",
       "      <td>Bottom 25% (&lt;37k)</td>\n",
       "    </tr>\n",
       "    <tr>\n",
       "      <th>50</th>\n",
       "      <td>17633.227500</td>\n",
       "      <td>Bottom 25% (&lt;37k)</td>\n",
       "    </tr>\n",
       "    <tr>\n",
       "      <th>51</th>\n",
       "      <td>39993.552900</td>\n",
       "      <td>Middle 50% (&lt;63k and &gt;37k)</td>\n",
       "    </tr>\n",
       "    <tr>\n",
       "      <th>52</th>\n",
       "      <td>42050.024100</td>\n",
       "      <td>Middle 50% (&lt;63k and &gt;37k)</td>\n",
       "    </tr>\n",
       "    <tr>\n",
       "      <th>53</th>\n",
       "      <td>47582.488800</td>\n",
       "      <td>Middle 50% (&lt;63k and &gt;37k)</td>\n",
       "    </tr>\n",
       "    <tr>\n",
       "      <th>54</th>\n",
       "      <td>40691.284200</td>\n",
       "      <td>Middle 50% (&lt;63k and &gt;37k)</td>\n",
       "    </tr>\n",
       "    <tr>\n",
       "      <th>55</th>\n",
       "      <td>40398.768900</td>\n",
       "      <td>Middle 50% (&lt;63k and &gt;37k)</td>\n",
       "    </tr>\n",
       "    <tr>\n",
       "      <th>56</th>\n",
       "      <td>35385.487200</td>\n",
       "      <td>Bottom 25% (&lt;37k)</td>\n",
       "    </tr>\n",
       "    <tr>\n",
       "      <th>57</th>\n",
       "      <td>50642.885806</td>\n",
       "      <td>Middle 50% (&lt;63k and &gt;37k)</td>\n",
       "    </tr>\n",
       "    <tr>\n",
       "      <th>58</th>\n",
       "      <td>40221.485165</td>\n",
       "      <td>Middle 50% (&lt;63k and &gt;37k)</td>\n",
       "    </tr>\n",
       "    <tr>\n",
       "      <th>59</th>\n",
       "      <td>62180.395200</td>\n",
       "      <td>Middle 50% (&lt;63k and &gt;37k)</td>\n",
       "    </tr>\n",
       "    <tr>\n",
       "      <th>60</th>\n",
       "      <td>70852.017600</td>\n",
       "      <td>Top 25% (&gt; 63k)</td>\n",
       "    </tr>\n",
       "    <tr>\n",
       "      <th>61</th>\n",
       "      <td>63093.397500</td>\n",
       "      <td>Middle 50% (&lt;63k and &gt;37k)</td>\n",
       "    </tr>\n",
       "    <tr>\n",
       "      <th>62</th>\n",
       "      <td>54469.894500</td>\n",
       "      <td>Middle 50% (&lt;63k and &gt;37k)</td>\n",
       "    </tr>\n",
       "    <tr>\n",
       "      <th>63</th>\n",
       "      <td>61383.892500</td>\n",
       "      <td>Middle 50% (&lt;63k and &gt;37k)</td>\n",
       "    </tr>\n",
       "    <tr>\n",
       "      <th>64</th>\n",
       "      <td>72548.860651</td>\n",
       "      <td>Top 25% (&gt; 63k)</td>\n",
       "    </tr>\n",
       "    <tr>\n",
       "      <th>65</th>\n",
       "      <td>20894.235867</td>\n",
       "      <td>Bottom 25% (&lt;37k)</td>\n",
       "    </tr>\n",
       "    <tr>\n",
       "      <th>66</th>\n",
       "      <td>53153.127519</td>\n",
       "      <td>Middle 50% (&lt;63k and &gt;37k)</td>\n",
       "    </tr>\n",
       "    <tr>\n",
       "      <th>67</th>\n",
       "      <td>17694.009900</td>\n",
       "      <td>Bottom 25% (&lt;37k)</td>\n",
       "    </tr>\n",
       "    <tr>\n",
       "      <th>68</th>\n",
       "      <td>15362.751600</td>\n",
       "      <td>Bottom 25% (&lt;37k)</td>\n",
       "    </tr>\n",
       "    <tr>\n",
       "      <th>69</th>\n",
       "      <td>47091.163818</td>\n",
       "      <td>Middle 50% (&lt;63k and &gt;37k)</td>\n",
       "    </tr>\n",
       "    <tr>\n",
       "      <th>70</th>\n",
       "      <td>22336.264890</td>\n",
       "      <td>Bottom 25% (&lt;37k)</td>\n",
       "    </tr>\n",
       "    <tr>\n",
       "      <th>71</th>\n",
       "      <td>19468.096200</td>\n",
       "      <td>Bottom 25% (&lt;37k)</td>\n",
       "    </tr>\n",
       "    <tr>\n",
       "      <th>72</th>\n",
       "      <td>79622.411400</td>\n",
       "      <td>Top 25% (&gt; 63k)</td>\n",
       "    </tr>\n",
       "    <tr>\n",
       "      <th>73</th>\n",
       "      <td>15404.539500</td>\n",
       "      <td>Bottom 25% (&lt;37k)</td>\n",
       "    </tr>\n",
       "    <tr>\n",
       "      <th>74</th>\n",
       "      <td>55256.266800</td>\n",
       "      <td>Middle 50% (&lt;63k and &gt;37k)</td>\n",
       "    </tr>\n",
       "    <tr>\n",
       "      <th>75</th>\n",
       "      <td>112771.612800</td>\n",
       "      <td>Top 25% (&gt; 63k)</td>\n",
       "    </tr>\n",
       "    <tr>\n",
       "      <th>76</th>\n",
       "      <td>74512.890900</td>\n",
       "      <td>Top 25% (&gt; 63k)</td>\n",
       "    </tr>\n",
       "    <tr>\n",
       "      <th>77</th>\n",
       "      <td>57598.920964</td>\n",
       "      <td>Middle 50% (&lt;63k and &gt;37k)</td>\n",
       "    </tr>\n",
       "    <tr>\n",
       "      <th>78</th>\n",
       "      <td>50612.744700</td>\n",
       "      <td>Middle 50% (&lt;63k and &gt;37k)</td>\n",
       "    </tr>\n",
       "    <tr>\n",
       "      <th>79</th>\n",
       "      <td>40905.288900</td>\n",
       "      <td>Middle 50% (&lt;63k and &gt;37k)</td>\n",
       "    </tr>\n",
       "    <tr>\n",
       "      <th>80</th>\n",
       "      <td>26346.637800</td>\n",
       "      <td>Bottom 25% (&lt;37k)</td>\n",
       "    </tr>\n",
       "    <tr>\n",
       "      <th>81</th>\n",
       "      <td>35367.759000</td>\n",
       "      <td>Bottom 25% (&lt;37k)</td>\n",
       "    </tr>\n",
       "    <tr>\n",
       "      <th>82</th>\n",
       "      <td>30212.651700</td>\n",
       "      <td>Bottom 25% (&lt;37k)</td>\n",
       "    </tr>\n",
       "    <tr>\n",
       "      <th>83</th>\n",
       "      <td>25150.224973</td>\n",
       "      <td>Bottom 25% (&lt;37k)</td>\n",
       "    </tr>\n",
       "    <tr>\n",
       "      <th>84</th>\n",
       "      <td>18256.247113</td>\n",
       "      <td>Bottom 25% (&lt;37k)</td>\n",
       "    </tr>\n",
       "    <tr>\n",
       "      <th>85</th>\n",
       "      <td>21730.902944</td>\n",
       "      <td>Bottom 25% (&lt;37k)</td>\n",
       "    </tr>\n",
       "    <tr>\n",
       "      <th>86</th>\n",
       "      <td>26878.452953</td>\n",
       "      <td>Bottom 25% (&lt;37k)</td>\n",
       "    </tr>\n",
       "    <tr>\n",
       "      <th>87</th>\n",
       "      <td>41394.080700</td>\n",
       "      <td>Middle 50% (&lt;63k and &gt;37k)</td>\n",
       "    </tr>\n",
       "    <tr>\n",
       "      <th>88</th>\n",
       "      <td>28132.120800</td>\n",
       "      <td>Bottom 25% (&lt;37k)</td>\n",
       "    </tr>\n",
       "    <tr>\n",
       "      <th>89</th>\n",
       "      <td>40435.491600</td>\n",
       "      <td>Middle 50% (&lt;63k and &gt;37k)</td>\n",
       "    </tr>\n",
       "    <tr>\n",
       "      <th>90</th>\n",
       "      <td>24017.912100</td>\n",
       "      <td>Bottom 25% (&lt;37k)</td>\n",
       "    </tr>\n",
       "    <tr>\n",
       "      <th>91</th>\n",
       "      <td>25762.873500</td>\n",
       "      <td>Bottom 25% (&lt;37k)</td>\n",
       "    </tr>\n",
       "    <tr>\n",
       "      <th>92</th>\n",
       "      <td>45599.463000</td>\n",
       "      <td>Middle 50% (&lt;63k and &gt;37k)</td>\n",
       "    </tr>\n",
       "    <tr>\n",
       "      <th>93</th>\n",
       "      <td>39897.314100</td>\n",
       "      <td>Middle 50% (&lt;63k and &gt;37k)</td>\n",
       "    </tr>\n",
       "    <tr>\n",
       "      <th>94</th>\n",
       "      <td>34399.039500</td>\n",
       "      <td>Bottom 25% (&lt;37k)</td>\n",
       "    </tr>\n",
       "    <tr>\n",
       "      <th>95</th>\n",
       "      <td>31798.059300</td>\n",
       "      <td>Bottom 25% (&lt;37k)</td>\n",
       "    </tr>\n",
       "    <tr>\n",
       "      <th>96</th>\n",
       "      <td>47486.250000</td>\n",
       "      <td>Middle 50% (&lt;63k and &gt;37k)</td>\n",
       "    </tr>\n",
       "    <tr>\n",
       "      <th>97</th>\n",
       "      <td>33325.217100</td>\n",
       "      <td>Bottom 25% (&lt;37k)</td>\n",
       "    </tr>\n",
       "    <tr>\n",
       "      <th>98</th>\n",
       "      <td>23516.457300</td>\n",
       "      <td>Bottom 25% (&lt;37k)</td>\n",
       "    </tr>\n",
       "    <tr>\n",
       "      <th>99</th>\n",
       "      <td>37604.044800</td>\n",
       "      <td>Middle 50% (&lt;63k and &gt;37k)</td>\n",
       "    </tr>\n",
       "    <tr>\n",
       "      <th>100</th>\n",
       "      <td>29745.387000</td>\n",
       "      <td>Bottom 25% (&lt;37k)</td>\n",
       "    </tr>\n",
       "    <tr>\n",
       "      <th>101</th>\n",
       "      <td>30422.857500</td>\n",
       "      <td>Bottom 25% (&lt;37k)</td>\n",
       "    </tr>\n",
       "    <tr>\n",
       "      <th>102</th>\n",
       "      <td>30644.460000</td>\n",
       "      <td>Bottom 25% (&lt;37k)</td>\n",
       "    </tr>\n",
       "    <tr>\n",
       "      <th>103</th>\n",
       "      <td>45139.796100</td>\n",
       "      <td>Middle 50% (&lt;63k and &gt;37k)</td>\n",
       "    </tr>\n",
       "    <tr>\n",
       "      <th>104</th>\n",
       "      <td>45339.871500</td>\n",
       "      <td>Middle 50% (&lt;63k and &gt;37k)</td>\n",
       "    </tr>\n",
       "    <tr>\n",
       "      <th>105</th>\n",
       "      <td>41463.172814</td>\n",
       "      <td>Middle 50% (&lt;63k and &gt;37k)</td>\n",
       "    </tr>\n",
       "    <tr>\n",
       "      <th>106</th>\n",
       "      <td>56860.407574</td>\n",
       "      <td>Middle 50% (&lt;63k and &gt;37k)</td>\n",
       "    </tr>\n",
       "    <tr>\n",
       "      <th>107</th>\n",
       "      <td>49666.818600</td>\n",
       "      <td>Middle 50% (&lt;63k and &gt;37k)</td>\n",
       "    </tr>\n",
       "    <tr>\n",
       "      <th>108</th>\n",
       "      <td>46763.192700</td>\n",
       "      <td>Middle 50% (&lt;63k and &gt;37k)</td>\n",
       "    </tr>\n",
       "    <tr>\n",
       "      <th>109</th>\n",
       "      <td>34383.843900</td>\n",
       "      <td>Bottom 25% (&lt;37k)</td>\n",
       "    </tr>\n",
       "    <tr>\n",
       "      <th>110</th>\n",
       "      <td>34295.202900</td>\n",
       "      <td>Bottom 25% (&lt;37k)</td>\n",
       "    </tr>\n",
       "    <tr>\n",
       "      <th>111</th>\n",
       "      <td>40526.665833</td>\n",
       "      <td>Middle 50% (&lt;63k and &gt;37k)</td>\n",
       "    </tr>\n",
       "    <tr>\n",
       "      <th>112</th>\n",
       "      <td>47243.120400</td>\n",
       "      <td>Middle 50% (&lt;63k and &gt;37k)</td>\n",
       "    </tr>\n",
       "    <tr>\n",
       "      <th>113</th>\n",
       "      <td>44654.803200</td>\n",
       "      <td>Middle 50% (&lt;63k and &gt;37k)</td>\n",
       "    </tr>\n",
       "    <tr>\n",
       "      <th>114</th>\n",
       "      <td>47312.766900</td>\n",
       "      <td>Middle 50% (&lt;63k and &gt;37k)</td>\n",
       "    </tr>\n",
       "    <tr>\n",
       "      <th>115</th>\n",
       "      <td>41434.602300</td>\n",
       "      <td>Middle 50% (&lt;63k and &gt;37k)</td>\n",
       "    </tr>\n",
       "    <tr>\n",
       "      <th>116</th>\n",
       "      <td>49308.455700</td>\n",
       "      <td>Middle 50% (&lt;63k and &gt;37k)</td>\n",
       "    </tr>\n",
       "    <tr>\n",
       "      <th>117</th>\n",
       "      <td>50820.417900</td>\n",
       "      <td>Middle 50% (&lt;63k and &gt;37k)</td>\n",
       "    </tr>\n",
       "    <tr>\n",
       "      <th>118</th>\n",
       "      <td>63364.385700</td>\n",
       "      <td>Middle 50% (&lt;63k and &gt;37k)</td>\n",
       "    </tr>\n",
       "    <tr>\n",
       "      <th>119</th>\n",
       "      <td>40321.524600</td>\n",
       "      <td>Middle 50% (&lt;63k and &gt;37k)</td>\n",
       "    </tr>\n",
       "    <tr>\n",
       "      <th>120</th>\n",
       "      <td>28929.889800</td>\n",
       "      <td>Bottom 25% (&lt;37k)</td>\n",
       "    </tr>\n",
       "    <tr>\n",
       "      <th>121</th>\n",
       "      <td>29788.441200</td>\n",
       "      <td>Bottom 25% (&lt;37k)</td>\n",
       "    </tr>\n",
       "    <tr>\n",
       "      <th>122</th>\n",
       "      <td>45365.197500</td>\n",
       "      <td>Middle 50% (&lt;63k and &gt;37k)</td>\n",
       "    </tr>\n",
       "    <tr>\n",
       "      <th>123</th>\n",
       "      <td>43265.672100</td>\n",
       "      <td>Middle 50% (&lt;63k and &gt;37k)</td>\n",
       "    </tr>\n",
       "    <tr>\n",
       "      <th>124</th>\n",
       "      <td>52257.668400</td>\n",
       "      <td>Middle 50% (&lt;63k and &gt;37k)</td>\n",
       "    </tr>\n",
       "    <tr>\n",
       "      <th>125</th>\n",
       "      <td>39953.031300</td>\n",
       "      <td>Middle 50% (&lt;63k and &gt;37k)</td>\n",
       "    </tr>\n",
       "    <tr>\n",
       "      <th>126</th>\n",
       "      <td>53019.981000</td>\n",
       "      <td>Middle 50% (&lt;63k and &gt;37k)</td>\n",
       "    </tr>\n",
       "    <tr>\n",
       "      <th>127</th>\n",
       "      <td>52992.122400</td>\n",
       "      <td>Middle 50% (&lt;63k and &gt;37k)</td>\n",
       "    </tr>\n",
       "    <tr>\n",
       "      <th>128</th>\n",
       "      <td>57700.225800</td>\n",
       "      <td>Middle 50% (&lt;63k and &gt;37k)</td>\n",
       "    </tr>\n",
       "    <tr>\n",
       "      <th>129</th>\n",
       "      <td>53680.989600</td>\n",
       "      <td>Middle 50% (&lt;63k and &gt;37k)</td>\n",
       "    </tr>\n",
       "    <tr>\n",
       "      <th>130</th>\n",
       "      <td>59654.126700</td>\n",
       "      <td>Middle 50% (&lt;63k and &gt;37k)</td>\n",
       "    </tr>\n",
       "    <tr>\n",
       "      <th>131</th>\n",
       "      <td>47657.199474</td>\n",
       "      <td>Middle 50% (&lt;63k and &gt;37k)</td>\n",
       "    </tr>\n",
       "    <tr>\n",
       "      <th>132</th>\n",
       "      <td>46526.394600</td>\n",
       "      <td>Middle 50% (&lt;63k and &gt;37k)</td>\n",
       "    </tr>\n",
       "    <tr>\n",
       "      <th>133</th>\n",
       "      <td>45418.382100</td>\n",
       "      <td>Middle 50% (&lt;63k and &gt;37k)</td>\n",
       "    </tr>\n",
       "    <tr>\n",
       "      <th>134</th>\n",
       "      <td>38617.084800</td>\n",
       "      <td>Middle 50% (&lt;63k and &gt;37k)</td>\n",
       "    </tr>\n",
       "    <tr>\n",
       "      <th>135</th>\n",
       "      <td>53087.367471</td>\n",
       "      <td>Middle 50% (&lt;63k and &gt;37k)</td>\n",
       "    </tr>\n",
       "    <tr>\n",
       "      <th>136</th>\n",
       "      <td>41649.872084</td>\n",
       "      <td>Middle 50% (&lt;63k and &gt;37k)</td>\n",
       "    </tr>\n",
       "    <tr>\n",
       "      <th>137</th>\n",
       "      <td>65354.184546</td>\n",
       "      <td>Top 25% (&gt; 63k)</td>\n",
       "    </tr>\n",
       "    <tr>\n",
       "      <th>138</th>\n",
       "      <td>58171.289400</td>\n",
       "      <td>Middle 50% (&lt;63k and &gt;37k)</td>\n",
       "    </tr>\n",
       "    <tr>\n",
       "      <th>139</th>\n",
       "      <td>63821.147796</td>\n",
       "      <td>Top 25% (&gt; 63k)</td>\n",
       "    </tr>\n",
       "    <tr>\n",
       "      <th>140</th>\n",
       "      <td>70601.290200</td>\n",
       "      <td>Top 25% (&gt; 63k)</td>\n",
       "    </tr>\n",
       "    <tr>\n",
       "      <th>141</th>\n",
       "      <td>65802.013200</td>\n",
       "      <td>Top 25% (&gt; 63k)</td>\n",
       "    </tr>\n",
       "    <tr>\n",
       "      <th>142</th>\n",
       "      <td>83407.723064</td>\n",
       "      <td>Top 25% (&gt; 63k)</td>\n",
       "    </tr>\n",
       "    <tr>\n",
       "      <th>143</th>\n",
       "      <td>75375.242365</td>\n",
       "      <td>Top 25% (&gt; 63k)</td>\n",
       "    </tr>\n",
       "    <tr>\n",
       "      <th>144</th>\n",
       "      <td>125244.671029</td>\n",
       "      <td>Top 25% (&gt; 63k)</td>\n",
       "    </tr>\n",
       "    <tr>\n",
       "      <th>145</th>\n",
       "      <td>62561.548790</td>\n",
       "      <td>Middle 50% (&lt;63k and &gt;37k)</td>\n",
       "    </tr>\n",
       "    <tr>\n",
       "      <th>146</th>\n",
       "      <td>125404.629855</td>\n",
       "      <td>Top 25% (&gt; 63k)</td>\n",
       "    </tr>\n",
       "    <tr>\n",
       "      <th>147</th>\n",
       "      <td>50990.573974</td>\n",
       "      <td>Middle 50% (&lt;63k and &gt;37k)</td>\n",
       "    </tr>\n",
       "    <tr>\n",
       "      <th>148</th>\n",
       "      <td>47261.748711</td>\n",
       "      <td>Middle 50% (&lt;63k and &gt;37k)</td>\n",
       "    </tr>\n",
       "    <tr>\n",
       "      <th>149</th>\n",
       "      <td>70437.937500</td>\n",
       "      <td>Top 25% (&gt; 63k)</td>\n",
       "    </tr>\n",
       "    <tr>\n",
       "      <th>150</th>\n",
       "      <td>51877.778400</td>\n",
       "      <td>Middle 50% (&lt;63k and &gt;37k)</td>\n",
       "    </tr>\n",
       "    <tr>\n",
       "      <th>151</th>\n",
       "      <td>69892.162200</td>\n",
       "      <td>Top 25% (&gt; 63k)</td>\n",
       "    </tr>\n",
       "    <tr>\n",
       "      <th>152</th>\n",
       "      <td>57433.036500</td>\n",
       "      <td>Middle 50% (&lt;63k and &gt;37k)</td>\n",
       "    </tr>\n",
       "    <tr>\n",
       "      <th>153</th>\n",
       "      <td>78007.816699</td>\n",
       "      <td>Top 25% (&gt; 63k)</td>\n",
       "    </tr>\n",
       "    <tr>\n",
       "      <th>154</th>\n",
       "      <td>86289.480900</td>\n",
       "      <td>Top 25% (&gt; 63k)</td>\n",
       "    </tr>\n",
       "    <tr>\n",
       "      <th>155</th>\n",
       "      <td>82507.041154</td>\n",
       "      <td>Top 25% (&gt; 63k)</td>\n",
       "    </tr>\n",
       "    <tr>\n",
       "      <th>156</th>\n",
       "      <td>68538.487500</td>\n",
       "      <td>Top 25% (&gt; 63k)</td>\n",
       "    </tr>\n",
       "    <tr>\n",
       "      <th>157</th>\n",
       "      <td>43492.342016</td>\n",
       "      <td>Middle 50% (&lt;63k and &gt;37k)</td>\n",
       "    </tr>\n",
       "    <tr>\n",
       "      <th>158</th>\n",
       "      <td>43492.339015</td>\n",
       "      <td>Middle 50% (&lt;63k and &gt;37k)</td>\n",
       "    </tr>\n",
       "    <tr>\n",
       "      <th>159</th>\n",
       "      <td>62610.410521</td>\n",
       "      <td>Middle 50% (&lt;63k and &gt;37k)</td>\n",
       "    </tr>\n",
       "    <tr>\n",
       "      <th>160</th>\n",
       "      <td>64588.623152</td>\n",
       "      <td>Top 25% (&gt; 63k)</td>\n",
       "    </tr>\n",
       "    <tr>\n",
       "      <th>161</th>\n",
       "      <td>34228.087772</td>\n",
       "      <td>Bottom 25% (&lt;37k)</td>\n",
       "    </tr>\n",
       "    <tr>\n",
       "      <th>162</th>\n",
       "      <td>34228.088443</td>\n",
       "      <td>Bottom 25% (&lt;37k)</td>\n",
       "    </tr>\n",
       "    <tr>\n",
       "      <th>163</th>\n",
       "      <td>54434.968743</td>\n",
       "      <td>Middle 50% (&lt;63k and &gt;37k)</td>\n",
       "    </tr>\n",
       "    <tr>\n",
       "      <th>164</th>\n",
       "      <td>63930.449937</td>\n",
       "      <td>Top 25% (&gt; 63k)</td>\n",
       "    </tr>\n",
       "    <tr>\n",
       "      <th>165</th>\n",
       "      <td>52186.651042</td>\n",
       "      <td>Middle 50% (&lt;63k and &gt;37k)</td>\n",
       "    </tr>\n",
       "    <tr>\n",
       "      <th>166</th>\n",
       "      <td>54433.171800</td>\n",
       "      <td>Middle 50% (&lt;63k and &gt;37k)</td>\n",
       "    </tr>\n",
       "    <tr>\n",
       "      <th>167</th>\n",
       "      <td>40153.106700</td>\n",
       "      <td>Middle 50% (&lt;63k and &gt;37k)</td>\n",
       "    </tr>\n",
       "    <tr>\n",
       "      <th>168</th>\n",
       "      <td>34082.464500</td>\n",
       "      <td>Bottom 25% (&lt;37k)</td>\n",
       "    </tr>\n",
       "    <tr>\n",
       "      <th>169</th>\n",
       "      <td>48277.687500</td>\n",
       "      <td>Middle 50% (&lt;63k and &gt;37k)</td>\n",
       "    </tr>\n",
       "    <tr>\n",
       "      <th>170</th>\n",
       "      <td>31856.589408</td>\n",
       "      <td>Bottom 25% (&lt;37k)</td>\n",
       "    </tr>\n",
       "    <tr>\n",
       "      <th>171</th>\n",
       "      <td>34488.945787</td>\n",
       "      <td>Bottom 25% (&lt;37k)</td>\n",
       "    </tr>\n",
       "    <tr>\n",
       "      <th>172</th>\n",
       "      <td>34488.948130</td>\n",
       "      <td>Bottom 25% (&lt;37k)</td>\n",
       "    </tr>\n",
       "    <tr>\n",
       "      <th>173</th>\n",
       "      <td>40945.811880</td>\n",
       "      <td>Middle 50% (&lt;63k and &gt;37k)</td>\n",
       "    </tr>\n",
       "    <tr>\n",
       "      <th>174</th>\n",
       "      <td>40985.768179</td>\n",
       "      <td>Middle 50% (&lt;63k and &gt;37k)</td>\n",
       "    </tr>\n",
       "    <tr>\n",
       "      <th>175</th>\n",
       "      <td>49644.973013</td>\n",
       "      <td>Middle 50% (&lt;63k and &gt;37k)</td>\n",
       "    </tr>\n",
       "    <tr>\n",
       "      <th>176</th>\n",
       "      <td>45623.522700</td>\n",
       "      <td>Middle 50% (&lt;63k and &gt;37k)</td>\n",
       "    </tr>\n",
       "    <tr>\n",
       "      <th>177</th>\n",
       "      <td>52268.597797</td>\n",
       "      <td>Middle 50% (&lt;63k and &gt;37k)</td>\n",
       "    </tr>\n",
       "    <tr>\n",
       "      <th>178</th>\n",
       "      <td>45232.236000</td>\n",
       "      <td>Middle 50% (&lt;63k and &gt;37k)</td>\n",
       "    </tr>\n",
       "    <tr>\n",
       "      <th>179</th>\n",
       "      <td>47599.060438</td>\n",
       "      <td>Middle 50% (&lt;63k and &gt;37k)</td>\n",
       "    </tr>\n",
       "    <tr>\n",
       "      <th>180</th>\n",
       "      <td>47655.934542</td>\n",
       "      <td>Middle 50% (&lt;63k and &gt;37k)</td>\n",
       "    </tr>\n",
       "    <tr>\n",
       "      <th>181</th>\n",
       "      <td>48365.062200</td>\n",
       "      <td>Middle 50% (&lt;63k and &gt;37k)</td>\n",
       "    </tr>\n",
       "    <tr>\n",
       "      <th>182</th>\n",
       "      <td>38162.853708</td>\n",
       "      <td>Middle 50% (&lt;63k and &gt;37k)</td>\n",
       "    </tr>\n",
       "    <tr>\n",
       "      <th>183</th>\n",
       "      <td>38035.853429</td>\n",
       "      <td>Middle 50% (&lt;63k and &gt;37k)</td>\n",
       "    </tr>\n",
       "    <tr>\n",
       "      <th>184</th>\n",
       "      <td>49940.860520</td>\n",
       "      <td>Middle 50% (&lt;63k and &gt;37k)</td>\n",
       "    </tr>\n",
       "    <tr>\n",
       "      <th>185</th>\n",
       "      <td>58681.037591</td>\n",
       "      <td>Middle 50% (&lt;63k and &gt;37k)</td>\n",
       "    </tr>\n",
       "    <tr>\n",
       "      <th>186</th>\n",
       "      <td>69251.414400</td>\n",
       "      <td>Top 25% (&gt; 63k)</td>\n",
       "    </tr>\n",
       "    <tr>\n",
       "      <th>187</th>\n",
       "      <td>85619.608200</td>\n",
       "      <td>Top 25% (&gt; 63k)</td>\n",
       "    </tr>\n",
       "    <tr>\n",
       "      <th>188</th>\n",
       "      <td>65414.525400</td>\n",
       "      <td>Top 25% (&gt; 63k)</td>\n",
       "    </tr>\n",
       "    <tr>\n",
       "      <th>189</th>\n",
       "      <td>69251.414400</td>\n",
       "      <td>Top 25% (&gt; 63k)</td>\n",
       "    </tr>\n",
       "    <tr>\n",
       "      <th>194</th>\n",
       "      <td>48768.410863</td>\n",
       "      <td>Middle 50% (&lt;63k and &gt;37k)</td>\n",
       "    </tr>\n",
       "  </tbody>\n",
       "</table>\n",
       "</div>"
      ],
      "text/plain": [
       "            HINC00              income_bracket\n",
       "0     56514.969000  Middle 50% (<63k and >37k)\n",
       "1     78896.821500             Top 25% (> 63k)\n",
       "2     71929.638900             Top 25% (> 63k)\n",
       "3     71319.282300             Top 25% (> 63k)\n",
       "4     81992.924658             Top 25% (> 63k)\n",
       "5     38893.138200  Middle 50% (<63k and >37k)\n",
       "6     69435.027900             Top 25% (> 63k)\n",
       "7     49332.516350  Middle 50% (<63k and >37k)\n",
       "8     50056.838190  Middle 50% (<63k and >37k)\n",
       "9     50056.839431  Middle 50% (<63k and >37k)\n",
       "10    55469.005200  Middle 50% (<63k and >37k)\n",
       "11    25547.602500           Bottom 25% (<37k)\n",
       "12    46694.812500  Middle 50% (<63k and >37k)\n",
       "13    35044.854134           Bottom 25% (<37k)\n",
       "14    35044.852285           Bottom 25% (<37k)\n",
       "15    37425.496500  Middle 50% (<63k and >37k)\n",
       "16    39214.778400  Middle 50% (<63k and >37k)\n",
       "17    20826.836100           Bottom 25% (<37k)\n",
       "18    43883.626500  Middle 50% (<63k and >37k)\n",
       "19    36556.062100           Bottom 25% (<37k)\n",
       "20    22869.378000           Bottom 25% (<37k)\n",
       "21    18011.851542           Bottom 25% (<37k)\n",
       "22    33653.189965           Bottom 25% (<37k)\n",
       "23    33653.188268           Bottom 25% (<37k)\n",
       "24    17449.613810           Bottom 25% (<37k)\n",
       "25    36636.591385           Bottom 25% (<37k)\n",
       "26    42209.577900  Middle 50% (<63k and >37k)\n",
       "27    77824.265400             Top 25% (> 63k)\n",
       "28    97862.194042             Top 25% (> 63k)\n",
       "29    97862.198829             Top 25% (> 63k)\n",
       "30    90756.989921             Top 25% (> 63k)\n",
       "31    90756.984641             Top 25% (> 63k)\n",
       "32   103588.409581             Top 25% (> 63k)\n",
       "33    67709.061000             Top 25% (> 63k)\n",
       "34    66050.208443             Top 25% (> 63k)\n",
       "35    66050.205569             Top 25% (> 63k)\n",
       "36    66050.208810             Top 25% (> 63k)\n",
       "37    66722.613300             Top 25% (> 63k)\n",
       "38    54609.187500  Middle 50% (<63k and >37k)\n",
       "39    89722.420200             Top 25% (> 63k)\n",
       "40    63379.581300             Top 25% (> 63k)\n",
       "41    80394.854400             Top 25% (> 63k)\n",
       "42    95049.744300             Top 25% (> 63k)\n",
       "43    40869.832500  Middle 50% (<63k and >37k)\n",
       "44    83161.719900             Top 25% (> 63k)\n",
       "45    68124.407400             Top 25% (> 63k)\n",
       "46    81638.361000             Top 25% (> 63k)\n",
       "47    42404.588100  Middle 50% (<63k and >37k)\n",
       "48    35637.480900           Bottom 25% (<37k)\n",
       "49    36954.432900           Bottom 25% (<37k)\n",
       "50    17633.227500           Bottom 25% (<37k)\n",
       "51    39993.552900  Middle 50% (<63k and >37k)\n",
       "52    42050.024100  Middle 50% (<63k and >37k)\n",
       "53    47582.488800  Middle 50% (<63k and >37k)\n",
       "54    40691.284200  Middle 50% (<63k and >37k)\n",
       "55    40398.768900  Middle 50% (<63k and >37k)\n",
       "56    35385.487200           Bottom 25% (<37k)\n",
       "57    50642.885806  Middle 50% (<63k and >37k)\n",
       "58    40221.485165  Middle 50% (<63k and >37k)\n",
       "59    62180.395200  Middle 50% (<63k and >37k)\n",
       "60    70852.017600             Top 25% (> 63k)\n",
       "61    63093.397500  Middle 50% (<63k and >37k)\n",
       "62    54469.894500  Middle 50% (<63k and >37k)\n",
       "63    61383.892500  Middle 50% (<63k and >37k)\n",
       "64    72548.860651             Top 25% (> 63k)\n",
       "65    20894.235867           Bottom 25% (<37k)\n",
       "66    53153.127519  Middle 50% (<63k and >37k)\n",
       "67    17694.009900           Bottom 25% (<37k)\n",
       "68    15362.751600           Bottom 25% (<37k)\n",
       "69    47091.163818  Middle 50% (<63k and >37k)\n",
       "70    22336.264890           Bottom 25% (<37k)\n",
       "71    19468.096200           Bottom 25% (<37k)\n",
       "72    79622.411400             Top 25% (> 63k)\n",
       "73    15404.539500           Bottom 25% (<37k)\n",
       "74    55256.266800  Middle 50% (<63k and >37k)\n",
       "75   112771.612800             Top 25% (> 63k)\n",
       "76    74512.890900             Top 25% (> 63k)\n",
       "77    57598.920964  Middle 50% (<63k and >37k)\n",
       "78    50612.744700  Middle 50% (<63k and >37k)\n",
       "79    40905.288900  Middle 50% (<63k and >37k)\n",
       "80    26346.637800           Bottom 25% (<37k)\n",
       "81    35367.759000           Bottom 25% (<37k)\n",
       "82    30212.651700           Bottom 25% (<37k)\n",
       "83    25150.224973           Bottom 25% (<37k)\n",
       "84    18256.247113           Bottom 25% (<37k)\n",
       "85    21730.902944           Bottom 25% (<37k)\n",
       "86    26878.452953           Bottom 25% (<37k)\n",
       "87    41394.080700  Middle 50% (<63k and >37k)\n",
       "88    28132.120800           Bottom 25% (<37k)\n",
       "89    40435.491600  Middle 50% (<63k and >37k)\n",
       "90    24017.912100           Bottom 25% (<37k)\n",
       "91    25762.873500           Bottom 25% (<37k)\n",
       "92    45599.463000  Middle 50% (<63k and >37k)\n",
       "93    39897.314100  Middle 50% (<63k and >37k)\n",
       "94    34399.039500           Bottom 25% (<37k)\n",
       "95    31798.059300           Bottom 25% (<37k)\n",
       "96    47486.250000  Middle 50% (<63k and >37k)\n",
       "97    33325.217100           Bottom 25% (<37k)\n",
       "98    23516.457300           Bottom 25% (<37k)\n",
       "99    37604.044800  Middle 50% (<63k and >37k)\n",
       "100   29745.387000           Bottom 25% (<37k)\n",
       "101   30422.857500           Bottom 25% (<37k)\n",
       "102   30644.460000           Bottom 25% (<37k)\n",
       "103   45139.796100  Middle 50% (<63k and >37k)\n",
       "104   45339.871500  Middle 50% (<63k and >37k)\n",
       "105   41463.172814  Middle 50% (<63k and >37k)\n",
       "106   56860.407574  Middle 50% (<63k and >37k)\n",
       "107   49666.818600  Middle 50% (<63k and >37k)\n",
       "108   46763.192700  Middle 50% (<63k and >37k)\n",
       "109   34383.843900           Bottom 25% (<37k)\n",
       "110   34295.202900           Bottom 25% (<37k)\n",
       "111   40526.665833  Middle 50% (<63k and >37k)\n",
       "112   47243.120400  Middle 50% (<63k and >37k)\n",
       "113   44654.803200  Middle 50% (<63k and >37k)\n",
       "114   47312.766900  Middle 50% (<63k and >37k)\n",
       "115   41434.602300  Middle 50% (<63k and >37k)\n",
       "116   49308.455700  Middle 50% (<63k and >37k)\n",
       "117   50820.417900  Middle 50% (<63k and >37k)\n",
       "118   63364.385700  Middle 50% (<63k and >37k)\n",
       "119   40321.524600  Middle 50% (<63k and >37k)\n",
       "120   28929.889800           Bottom 25% (<37k)\n",
       "121   29788.441200           Bottom 25% (<37k)\n",
       "122   45365.197500  Middle 50% (<63k and >37k)\n",
       "123   43265.672100  Middle 50% (<63k and >37k)\n",
       "124   52257.668400  Middle 50% (<63k and >37k)\n",
       "125   39953.031300  Middle 50% (<63k and >37k)\n",
       "126   53019.981000  Middle 50% (<63k and >37k)\n",
       "127   52992.122400  Middle 50% (<63k and >37k)\n",
       "128   57700.225800  Middle 50% (<63k and >37k)\n",
       "129   53680.989600  Middle 50% (<63k and >37k)\n",
       "130   59654.126700  Middle 50% (<63k and >37k)\n",
       "131   47657.199474  Middle 50% (<63k and >37k)\n",
       "132   46526.394600  Middle 50% (<63k and >37k)\n",
       "133   45418.382100  Middle 50% (<63k and >37k)\n",
       "134   38617.084800  Middle 50% (<63k and >37k)\n",
       "135   53087.367471  Middle 50% (<63k and >37k)\n",
       "136   41649.872084  Middle 50% (<63k and >37k)\n",
       "137   65354.184546             Top 25% (> 63k)\n",
       "138   58171.289400  Middle 50% (<63k and >37k)\n",
       "139   63821.147796             Top 25% (> 63k)\n",
       "140   70601.290200             Top 25% (> 63k)\n",
       "141   65802.013200             Top 25% (> 63k)\n",
       "142   83407.723064             Top 25% (> 63k)\n",
       "143   75375.242365             Top 25% (> 63k)\n",
       "144  125244.671029             Top 25% (> 63k)\n",
       "145   62561.548790  Middle 50% (<63k and >37k)\n",
       "146  125404.629855             Top 25% (> 63k)\n",
       "147   50990.573974  Middle 50% (<63k and >37k)\n",
       "148   47261.748711  Middle 50% (<63k and >37k)\n",
       "149   70437.937500             Top 25% (> 63k)\n",
       "150   51877.778400  Middle 50% (<63k and >37k)\n",
       "151   69892.162200             Top 25% (> 63k)\n",
       "152   57433.036500  Middle 50% (<63k and >37k)\n",
       "153   78007.816699             Top 25% (> 63k)\n",
       "154   86289.480900             Top 25% (> 63k)\n",
       "155   82507.041154             Top 25% (> 63k)\n",
       "156   68538.487500             Top 25% (> 63k)\n",
       "157   43492.342016  Middle 50% (<63k and >37k)\n",
       "158   43492.339015  Middle 50% (<63k and >37k)\n",
       "159   62610.410521  Middle 50% (<63k and >37k)\n",
       "160   64588.623152             Top 25% (> 63k)\n",
       "161   34228.087772           Bottom 25% (<37k)\n",
       "162   34228.088443           Bottom 25% (<37k)\n",
       "163   54434.968743  Middle 50% (<63k and >37k)\n",
       "164   63930.449937             Top 25% (> 63k)\n",
       "165   52186.651042  Middle 50% (<63k and >37k)\n",
       "166   54433.171800  Middle 50% (<63k and >37k)\n",
       "167   40153.106700  Middle 50% (<63k and >37k)\n",
       "168   34082.464500           Bottom 25% (<37k)\n",
       "169   48277.687500  Middle 50% (<63k and >37k)\n",
       "170   31856.589408           Bottom 25% (<37k)\n",
       "171   34488.945787           Bottom 25% (<37k)\n",
       "172   34488.948130           Bottom 25% (<37k)\n",
       "173   40945.811880  Middle 50% (<63k and >37k)\n",
       "174   40985.768179  Middle 50% (<63k and >37k)\n",
       "175   49644.973013  Middle 50% (<63k and >37k)\n",
       "176   45623.522700  Middle 50% (<63k and >37k)\n",
       "177   52268.597797  Middle 50% (<63k and >37k)\n",
       "178   45232.236000  Middle 50% (<63k and >37k)\n",
       "179   47599.060438  Middle 50% (<63k and >37k)\n",
       "180   47655.934542  Middle 50% (<63k and >37k)\n",
       "181   48365.062200  Middle 50% (<63k and >37k)\n",
       "182   38162.853708  Middle 50% (<63k and >37k)\n",
       "183   38035.853429  Middle 50% (<63k and >37k)\n",
       "184   49940.860520  Middle 50% (<63k and >37k)\n",
       "185   58681.037591  Middle 50% (<63k and >37k)\n",
       "186   69251.414400             Top 25% (> 63k)\n",
       "187   85619.608200             Top 25% (> 63k)\n",
       "188   65414.525400             Top 25% (> 63k)\n",
       "189   69251.414400             Top 25% (> 63k)\n",
       "194   48768.410863  Middle 50% (<63k and >37k)"
      ]
     },
     "execution_count": 356,
     "metadata": {},
     "output_type": "execute_result"
    }
   ],
   "source": [
    "df_changes_sample[['HINC00','income_bracket']]"
   ]
  },
  {
   "cell_type": "code",
   "execution_count": 358,
   "metadata": {},
   "outputs": [
    {
     "data": {
      "application/vnd.plotly.v1+json": {
       "config": {
        "plotlyServerURL": "https://plot.ly"
       },
       "data": [
        {
         "marker": {
          "color": [
           "red",
           "blue",
           "blue",
           "blue",
           "blue",
           "red",
           "blue",
           "red",
           "red",
           "red",
           "red",
           "yellow",
           "red",
           "yellow",
           "yellow",
           "red",
           "red",
           "yellow",
           "red",
           "yellow",
           "yellow",
           "yellow",
           "yellow",
           "yellow",
           "yellow",
           "yellow",
           "red",
           "blue",
           "blue",
           "blue",
           "blue",
           "blue",
           "blue",
           "blue",
           "blue",
           "blue",
           "blue",
           "blue",
           "red",
           "blue",
           "blue",
           "blue",
           "blue",
           "red",
           "blue",
           "blue",
           "blue",
           "red",
           "yellow",
           "yellow",
           "yellow",
           "red",
           "red",
           "red",
           "red",
           "red",
           "yellow",
           "red",
           "red",
           "red",
           "blue",
           "red",
           "red",
           "red",
           "blue",
           "yellow",
           "red",
           "yellow",
           "yellow",
           "red",
           "yellow",
           "yellow",
           "blue",
           "yellow",
           "red",
           "blue",
           "blue",
           "red",
           "red",
           "red",
           "yellow",
           "yellow",
           "yellow",
           "yellow",
           "yellow",
           "yellow",
           "yellow",
           "red",
           "yellow",
           "red",
           "yellow",
           "yellow",
           "red",
           "red",
           "yellow",
           "yellow",
           "red",
           "yellow",
           "yellow",
           "red",
           "yellow",
           "yellow",
           "yellow",
           "red",
           "red",
           "red",
           "red",
           "red",
           "red",
           "yellow",
           "yellow",
           "red",
           "red",
           "red",
           "red",
           "red",
           "red",
           "red",
           "red",
           "red",
           "yellow",
           "yellow",
           "red",
           "red",
           "red",
           "red",
           "red",
           "red",
           "red",
           "red",
           "red",
           "red",
           "red",
           "red",
           "red",
           "red",
           "red",
           "blue",
           "red",
           "blue",
           "blue",
           "blue",
           "blue",
           "blue",
           "blue",
           "red",
           "blue",
           "red",
           "red",
           "blue",
           "red",
           "blue",
           "red",
           "blue",
           "blue",
           "blue",
           "blue",
           "red",
           "red",
           "red",
           "blue",
           "yellow",
           "yellow",
           "red",
           "blue",
           "red",
           "red",
           "red",
           "yellow",
           "red",
           "yellow",
           "yellow",
           "yellow",
           "red",
           "red",
           "red",
           "red",
           "red",
           "red",
           "red",
           "red",
           "red",
           "red",
           "red",
           "red",
           "red",
           "blue",
           "blue",
           "blue",
           "blue",
           "red"
          ],
          "size": 10
         },
         "mode": "markers",
         "type": "scatter",
         "x": [
          56514.96900000001,
          78896.8215,
          71929.6389,
          71319.28229999999,
          81992.924658099,
          38893.1382,
          69435.0279,
          49332.516349725,
          50056.838189568,
          50056.839430542,
          55469.0052,
          25547.6025,
          46694.8125,
          35044.854133527,
          35044.852284729,
          37425.4965,
          39214.7784,
          20826.8361,
          43883.6265,
          36556.062099921,
          22869.378,
          18011.851541900996,
          33653.189964996,
          33653.188268154,
          17449.613810055,
          36636.591384729,
          42209.5779,
          77824.2654,
          97862.194042074,
          97862.19882868801,
          90756.989921241,
          90756.98464077,
          103588.40958139801,
          67709.061,
          66050.208443205,
          66050.205568704,
          66050.208810432,
          66722.6133,
          54609.1875,
          89722.4202,
          63379.5813,
          80394.8544,
          95049.7443,
          40869.8325,
          83161.7199,
          68124.4074,
          81638.36099999999,
          42404.5881,
          35637.4809,
          36954.4329,
          17633.2275,
          39993.5529,
          42050.0241,
          47582.4888,
          40691.2842,
          40398.7689,
          35385.4872,
          50642.88580575,
          40221.48516516901,
          62180.3952,
          70852.01759999999,
          63093.3975,
          54469.8945,
          61383.8925,
          72548.860651029,
          20894.235867225,
          53153.127519092995,
          17694.0099,
          15362.7516,
          47091.16381750201,
          22336.264889568,
          19468.0962,
          79622.4114,
          15404.5395,
          55256.2668,
          112771.6128,
          74512.8909,
          57598.920964242,
          50612.7447,
          40905.2889,
          26346.6378,
          35367.759,
          30212.6517,
          25150.224972977998,
          18256.247112663,
          21730.902943995006,
          26878.452952932003,
          41394.0807,
          28132.1208,
          40435.4916,
          24017.9121,
          25762.8735,
          45599.462999999996,
          39897.3141,
          34399.0395,
          31798.0593,
          47486.25,
          33325.2171,
          23516.4573,
          37604.0448,
          29745.387,
          30422.8575,
          30644.46,
          45139.7961,
          45339.8715,
          41463.17281386,
          56860.407573669014,
          49666.8186,
          46763.1927,
          34383.8439,
          34295.2029,
          40526.66583315,
          47243.1204,
          44654.8032,
          47312.7669,
          41434.6023,
          49308.4557,
          50820.4179,
          63364.3857,
          40321.5246,
          28929.8898,
          29788.4412,
          45365.1975,
          43265.6721,
          52257.6684,
          39953.0313,
          53019.981,
          52992.1224,
          57700.2258,
          53680.9896,
          59654.1267,
          47657.19947429699,
          46526.3946,
          45418.3821,
          38617.0848,
          53087.367471075,
          41649.872084351984,
          65354.184546147,
          58171.2894,
          63821.147796440986,
          70601.2902,
          65802.0132,
          83407.723063938,
          75375.24236499601,
          125244.671029065,
          62561.548790117995,
          125404.62985512,
          50990.57397403199,
          47261.748711365995,
          70437.9375,
          51877.7784,
          69892.1622,
          57433.0365,
          78007.81669934401,
          86289.4809,
          82507.04115381,
          68538.4875,
          43492.342016025,
          43492.339014894,
          62610.410520504,
          64588.623152192995,
          34228.087771688995,
          34228.088442828004,
          54434.96874301499,
          63930.449937185986,
          52186.651041609,
          54433.1718,
          40153.1067,
          34082.4645,
          48277.6875,
          31856.589408167998,
          34488.94578696,
          34488.948129615,
          40945.811880267,
          40985.768178620994,
          49644.973012887,
          45623.5227,
          52268.597797311,
          45232.236,
          47599.060437558,
          47655.934541901,
          48365.0622,
          38162.853708021,
          38035.853429238,
          49940.860520439004,
          58681.037591253,
          69251.4144,
          85619.6082,
          65414.5254,
          69251.4144,
          48768.410863368
         ],
         "y": [
          -5.20918449057275,
          -16.972574110605972,
          -24.0827552659937,
          25.755612097627644,
          -15.312204937745033,
          -9.8812756641993,
          -17.816696088632234,
          -12.706662488664925,
          12.57003446083278,
          -27.40452570837325,
          1.817221701318704,
          0.10332672116688492,
          0.21669966016032294,
          -40.616103235281095,
          33.49178823728565,
          1.404132340635745,
          -19.892445446026038,
          -10.970634661113989,
          -35.97156333467563,
          -11.136489725817043,
          36.35263713774813,
          49.02410192287793,
          -53.50515057777566,
          -54.61351275756009,
          -25.95251596597213,
          39.349754085692865,
          -6.116095039178293,
          8.060126963948184,
          -2.584444449494582,
          -4.122325961375578,
          74.22900444056269,
          0.6247622279148412,
          -6.507880185283398,
          6.152705322556457,
          13.215388357632019,
          34.36748490916378,
          26.7232935481352,
          -13.219825878732474,
          24.777538578100987,
          37.51969655406153,
          6.172995497526271,
          27.14495319740265,
          39.80574169729776,
          19.28113480768487,
          41.797211675993736,
          10.24976637081177,
          39.84479673716135,
          -11.710025547919425,
          13.085995368432446,
          35.382946168820794,
          -14.190411256249039,
          41.1277466173804,
          13.988044063927177,
          23.310069480854892,
          55.46818254509646,
          39.236916202166725,
          44.04210322699755,
          7.766370600080293,
          23.978514953453164,
          29.10982592146664,
          26.11073477743845,
          37.44544347924836,
          63.16903275808622,
          56.759364844775845,
          15.267144445243476,
          -6.763759518201972,
          70.66540434034637,
          30.134436061324905,
          -2.1854913022221854,
          75.62105774345463,
          222.66361612527385,
          -0.5501113149420329,
          46.786561653921474,
          1.3727154907811496,
          38.149036156022035,
          -16.513564307204806,
          -13.500873175758102,
          11.700009171945592,
          6.046412456268161,
          3.698081936783488,
          -15.154259265673742,
          -12.68318696697746,
          -40.94857949856815,
          -35.189446545654725,
          8.68060602793755,
          2.2000791096308863,
          -41.94978398748218,
          -14.557831936584108,
          -17.603083803052638,
          16.08860964114011,
          -6.461477973349737,
          -19.89635783446283,
          0.8301347759292779,
          -20.33047658213162,
          -33.283020882022015,
          28.338020930730195,
          -25.38471662849772,
          30.156691462334084,
          -14.421633568079994,
          -11.357939877786755,
          -29.59580589756657,
          -12.289632885405318,
          7.200453197739496,
          5.782489345360602,
          17.322785089940098,
          -43.988849805924986,
          3.944031571397853,
          9.556040700380196,
          38.89556347593008,
          -7.6310371453262675,
          -23.199171391984958,
          7.830237453815596,
          -17.204876246912768,
          8.946846730252744,
          -0.4856340371841629,
          1.526255025742099,
          -2.4001070063932235,
          -6.633983031453979,
          -22.688432218163207,
          -4.961430947479593,
          12.52721743862294,
          -6.540930379398304,
          12.11016991604632,
          1.1194276582149845,
          10.091019675114318,
          31.644579368875064,
          -0.3375727350788748,
          24.42981525118156,
          21.31668295828402,
          25.16721562077909,
          -6.093671806279247,
          14.752861274391373,
          -23.720717444115053,
          16.468261426687846,
          -7.054092286116839,
          25.70787209661697,
          23.20806147032468,
          10.834524985700329,
          -8.415301518140321,
          0.8396154285223955,
          18.476588406595432,
          -7.141138958344213,
          7.7789882012344025,
          4.840790583909895,
          40.80998301242978,
          5.713495396147554,
          35.10824934912278,
          16.035171579225647,
          41.76369226026361,
          27.94667646252419,
          -5.925038609594733,
          20.52281307159216,
          27.61818713868628,
          11.428576875849133,
          17.066412900393292,
          23.76519454822862,
          14.106690784502645,
          63.821943582039175,
          -30.684344225137853,
          3.4428611177849926,
          14.630094878382867,
          -16.34648072953948,
          51.948304349136755,
          29.413135759427647,
          13.23242691256798,
          -3.6650197003138296,
          -6.035238607940163,
          15.893896698160106,
          27.103484549950892,
          15.154645714958903,
          9.50952580961245,
          4.981463404687718,
          63.18270939574827,
          17.533388129477693,
          12.966041768984134,
          5.46888601673371,
          23.29166331559925,
          2.0172766194681544,
          -0.8826360032256577,
          -19.097142578019238,
          -0.08799437531568753,
          -1.3068569981080276,
          10.89579496279925,
          28.318403820754728,
          2.8396376529807887,
          -7.983903801918036,
          -8.71810987877815,
          -1.829730634062867,
          -10.469426107003443,
          -9.788124125303057,
          -78.58039699249986
         ]
        }
       ],
       "layout": {
        "template": {
         "data": {
          "bar": [
           {
            "error_x": {
             "color": "#2a3f5f"
            },
            "error_y": {
             "color": "#2a3f5f"
            },
            "marker": {
             "line": {
              "color": "#E5ECF6",
              "width": 0.5
             }
            },
            "type": "bar"
           }
          ],
          "barpolar": [
           {
            "marker": {
             "line": {
              "color": "#E5ECF6",
              "width": 0.5
             }
            },
            "type": "barpolar"
           }
          ],
          "carpet": [
           {
            "aaxis": {
             "endlinecolor": "#2a3f5f",
             "gridcolor": "white",
             "linecolor": "white",
             "minorgridcolor": "white",
             "startlinecolor": "#2a3f5f"
            },
            "baxis": {
             "endlinecolor": "#2a3f5f",
             "gridcolor": "white",
             "linecolor": "white",
             "minorgridcolor": "white",
             "startlinecolor": "#2a3f5f"
            },
            "type": "carpet"
           }
          ],
          "choropleth": [
           {
            "colorbar": {
             "outlinewidth": 0,
             "ticks": ""
            },
            "type": "choropleth"
           }
          ],
          "contour": [
           {
            "colorbar": {
             "outlinewidth": 0,
             "ticks": ""
            },
            "colorscale": [
             [
              0,
              "#0d0887"
             ],
             [
              0.1111111111111111,
              "#46039f"
             ],
             [
              0.2222222222222222,
              "#7201a8"
             ],
             [
              0.3333333333333333,
              "#9c179e"
             ],
             [
              0.4444444444444444,
              "#bd3786"
             ],
             [
              0.5555555555555556,
              "#d8576b"
             ],
             [
              0.6666666666666666,
              "#ed7953"
             ],
             [
              0.7777777777777778,
              "#fb9f3a"
             ],
             [
              0.8888888888888888,
              "#fdca26"
             ],
             [
              1,
              "#f0f921"
             ]
            ],
            "type": "contour"
           }
          ],
          "contourcarpet": [
           {
            "colorbar": {
             "outlinewidth": 0,
             "ticks": ""
            },
            "type": "contourcarpet"
           }
          ],
          "heatmap": [
           {
            "colorbar": {
             "outlinewidth": 0,
             "ticks": ""
            },
            "colorscale": [
             [
              0,
              "#0d0887"
             ],
             [
              0.1111111111111111,
              "#46039f"
             ],
             [
              0.2222222222222222,
              "#7201a8"
             ],
             [
              0.3333333333333333,
              "#9c179e"
             ],
             [
              0.4444444444444444,
              "#bd3786"
             ],
             [
              0.5555555555555556,
              "#d8576b"
             ],
             [
              0.6666666666666666,
              "#ed7953"
             ],
             [
              0.7777777777777778,
              "#fb9f3a"
             ],
             [
              0.8888888888888888,
              "#fdca26"
             ],
             [
              1,
              "#f0f921"
             ]
            ],
            "type": "heatmap"
           }
          ],
          "heatmapgl": [
           {
            "colorbar": {
             "outlinewidth": 0,
             "ticks": ""
            },
            "colorscale": [
             [
              0,
              "#0d0887"
             ],
             [
              0.1111111111111111,
              "#46039f"
             ],
             [
              0.2222222222222222,
              "#7201a8"
             ],
             [
              0.3333333333333333,
              "#9c179e"
             ],
             [
              0.4444444444444444,
              "#bd3786"
             ],
             [
              0.5555555555555556,
              "#d8576b"
             ],
             [
              0.6666666666666666,
              "#ed7953"
             ],
             [
              0.7777777777777778,
              "#fb9f3a"
             ],
             [
              0.8888888888888888,
              "#fdca26"
             ],
             [
              1,
              "#f0f921"
             ]
            ],
            "type": "heatmapgl"
           }
          ],
          "histogram": [
           {
            "marker": {
             "colorbar": {
              "outlinewidth": 0,
              "ticks": ""
             }
            },
            "type": "histogram"
           }
          ],
          "histogram2d": [
           {
            "colorbar": {
             "outlinewidth": 0,
             "ticks": ""
            },
            "colorscale": [
             [
              0,
              "#0d0887"
             ],
             [
              0.1111111111111111,
              "#46039f"
             ],
             [
              0.2222222222222222,
              "#7201a8"
             ],
             [
              0.3333333333333333,
              "#9c179e"
             ],
             [
              0.4444444444444444,
              "#bd3786"
             ],
             [
              0.5555555555555556,
              "#d8576b"
             ],
             [
              0.6666666666666666,
              "#ed7953"
             ],
             [
              0.7777777777777778,
              "#fb9f3a"
             ],
             [
              0.8888888888888888,
              "#fdca26"
             ],
             [
              1,
              "#f0f921"
             ]
            ],
            "type": "histogram2d"
           }
          ],
          "histogram2dcontour": [
           {
            "colorbar": {
             "outlinewidth": 0,
             "ticks": ""
            },
            "colorscale": [
             [
              0,
              "#0d0887"
             ],
             [
              0.1111111111111111,
              "#46039f"
             ],
             [
              0.2222222222222222,
              "#7201a8"
             ],
             [
              0.3333333333333333,
              "#9c179e"
             ],
             [
              0.4444444444444444,
              "#bd3786"
             ],
             [
              0.5555555555555556,
              "#d8576b"
             ],
             [
              0.6666666666666666,
              "#ed7953"
             ],
             [
              0.7777777777777778,
              "#fb9f3a"
             ],
             [
              0.8888888888888888,
              "#fdca26"
             ],
             [
              1,
              "#f0f921"
             ]
            ],
            "type": "histogram2dcontour"
           }
          ],
          "mesh3d": [
           {
            "colorbar": {
             "outlinewidth": 0,
             "ticks": ""
            },
            "type": "mesh3d"
           }
          ],
          "parcoords": [
           {
            "line": {
             "colorbar": {
              "outlinewidth": 0,
              "ticks": ""
             }
            },
            "type": "parcoords"
           }
          ],
          "scatter": [
           {
            "marker": {
             "colorbar": {
              "outlinewidth": 0,
              "ticks": ""
             }
            },
            "type": "scatter"
           }
          ],
          "scatter3d": [
           {
            "line": {
             "colorbar": {
              "outlinewidth": 0,
              "ticks": ""
             }
            },
            "marker": {
             "colorbar": {
              "outlinewidth": 0,
              "ticks": ""
             }
            },
            "type": "scatter3d"
           }
          ],
          "scattercarpet": [
           {
            "marker": {
             "colorbar": {
              "outlinewidth": 0,
              "ticks": ""
             }
            },
            "type": "scattercarpet"
           }
          ],
          "scattergeo": [
           {
            "marker": {
             "colorbar": {
              "outlinewidth": 0,
              "ticks": ""
             }
            },
            "type": "scattergeo"
           }
          ],
          "scattergl": [
           {
            "marker": {
             "colorbar": {
              "outlinewidth": 0,
              "ticks": ""
             }
            },
            "type": "scattergl"
           }
          ],
          "scattermapbox": [
           {
            "marker": {
             "colorbar": {
              "outlinewidth": 0,
              "ticks": ""
             }
            },
            "type": "scattermapbox"
           }
          ],
          "scatterpolar": [
           {
            "marker": {
             "colorbar": {
              "outlinewidth": 0,
              "ticks": ""
             }
            },
            "type": "scatterpolar"
           }
          ],
          "scatterpolargl": [
           {
            "marker": {
             "colorbar": {
              "outlinewidth": 0,
              "ticks": ""
             }
            },
            "type": "scatterpolargl"
           }
          ],
          "scatterternary": [
           {
            "marker": {
             "colorbar": {
              "outlinewidth": 0,
              "ticks": ""
             }
            },
            "type": "scatterternary"
           }
          ],
          "surface": [
           {
            "colorbar": {
             "outlinewidth": 0,
             "ticks": ""
            },
            "colorscale": [
             [
              0,
              "#0d0887"
             ],
             [
              0.1111111111111111,
              "#46039f"
             ],
             [
              0.2222222222222222,
              "#7201a8"
             ],
             [
              0.3333333333333333,
              "#9c179e"
             ],
             [
              0.4444444444444444,
              "#bd3786"
             ],
             [
              0.5555555555555556,
              "#d8576b"
             ],
             [
              0.6666666666666666,
              "#ed7953"
             ],
             [
              0.7777777777777778,
              "#fb9f3a"
             ],
             [
              0.8888888888888888,
              "#fdca26"
             ],
             [
              1,
              "#f0f921"
             ]
            ],
            "type": "surface"
           }
          ],
          "table": [
           {
            "cells": {
             "fill": {
              "color": "#EBF0F8"
             },
             "line": {
              "color": "white"
             }
            },
            "header": {
             "fill": {
              "color": "#C8D4E3"
             },
             "line": {
              "color": "white"
             }
            },
            "type": "table"
           }
          ]
         },
         "layout": {
          "annotationdefaults": {
           "arrowcolor": "#2a3f5f",
           "arrowhead": 0,
           "arrowwidth": 1
          },
          "colorscale": {
           "diverging": [
            [
             0,
             "#8e0152"
            ],
            [
             0.1,
             "#c51b7d"
            ],
            [
             0.2,
             "#de77ae"
            ],
            [
             0.3,
             "#f1b6da"
            ],
            [
             0.4,
             "#fde0ef"
            ],
            [
             0.5,
             "#f7f7f7"
            ],
            [
             0.6,
             "#e6f5d0"
            ],
            [
             0.7,
             "#b8e186"
            ],
            [
             0.8,
             "#7fbc41"
            ],
            [
             0.9,
             "#4d9221"
            ],
            [
             1,
             "#276419"
            ]
           ],
           "sequential": [
            [
             0,
             "#0d0887"
            ],
            [
             0.1111111111111111,
             "#46039f"
            ],
            [
             0.2222222222222222,
             "#7201a8"
            ],
            [
             0.3333333333333333,
             "#9c179e"
            ],
            [
             0.4444444444444444,
             "#bd3786"
            ],
            [
             0.5555555555555556,
             "#d8576b"
            ],
            [
             0.6666666666666666,
             "#ed7953"
            ],
            [
             0.7777777777777778,
             "#fb9f3a"
            ],
            [
             0.8888888888888888,
             "#fdca26"
            ],
            [
             1,
             "#f0f921"
            ]
           ],
           "sequentialminus": [
            [
             0,
             "#0d0887"
            ],
            [
             0.1111111111111111,
             "#46039f"
            ],
            [
             0.2222222222222222,
             "#7201a8"
            ],
            [
             0.3333333333333333,
             "#9c179e"
            ],
            [
             0.4444444444444444,
             "#bd3786"
            ],
            [
             0.5555555555555556,
             "#d8576b"
            ],
            [
             0.6666666666666666,
             "#ed7953"
            ],
            [
             0.7777777777777778,
             "#fb9f3a"
            ],
            [
             0.8888888888888888,
             "#fdca26"
            ],
            [
             1,
             "#f0f921"
            ]
           ]
          },
          "colorway": [
           "#636efa",
           "#EF553B",
           "#00cc96",
           "#ab63fa",
           "#FFA15A",
           "#19d3f3",
           "#FF6692",
           "#B6E880",
           "#FF97FF",
           "#FECB52"
          ],
          "font": {
           "color": "#2a3f5f"
          },
          "geo": {
           "bgcolor": "white",
           "lakecolor": "white",
           "landcolor": "#E5ECF6",
           "showlakes": true,
           "showland": true,
           "subunitcolor": "white"
          },
          "hoverlabel": {
           "align": "left"
          },
          "hovermode": "closest",
          "mapbox": {
           "style": "light"
          },
          "paper_bgcolor": "white",
          "plot_bgcolor": "#E5ECF6",
          "polar": {
           "angularaxis": {
            "gridcolor": "white",
            "linecolor": "white",
            "ticks": ""
           },
           "bgcolor": "#E5ECF6",
           "radialaxis": {
            "gridcolor": "white",
            "linecolor": "white",
            "ticks": ""
           }
          },
          "scene": {
           "xaxis": {
            "backgroundcolor": "#E5ECF6",
            "gridcolor": "white",
            "gridwidth": 2,
            "linecolor": "white",
            "showbackground": true,
            "ticks": "",
            "zerolinecolor": "white"
           },
           "yaxis": {
            "backgroundcolor": "#E5ECF6",
            "gridcolor": "white",
            "gridwidth": 2,
            "linecolor": "white",
            "showbackground": true,
            "ticks": "",
            "zerolinecolor": "white"
           },
           "zaxis": {
            "backgroundcolor": "#E5ECF6",
            "gridcolor": "white",
            "gridwidth": 2,
            "linecolor": "white",
            "showbackground": true,
            "ticks": "",
            "zerolinecolor": "white"
           }
          },
          "shapedefaults": {
           "line": {
            "color": "#2a3f5f"
           }
          },
          "ternary": {
           "aaxis": {
            "gridcolor": "white",
            "linecolor": "white",
            "ticks": ""
           },
           "baxis": {
            "gridcolor": "white",
            "linecolor": "white",
            "ticks": ""
           },
           "bgcolor": "#E5ECF6",
           "caxis": {
            "gridcolor": "white",
            "linecolor": "white",
            "ticks": ""
           }
          },
          "title": {
           "x": 0.05
          },
          "xaxis": {
           "automargin": true,
           "gridcolor": "white",
           "linecolor": "white",
           "ticks": "",
           "zerolinecolor": "white",
           "zerolinewidth": 2
          },
          "yaxis": {
           "automargin": true,
           "gridcolor": "white",
           "linecolor": "white",
           "ticks": "",
           "zerolinecolor": "white",
           "zerolinewidth": 2
          }
         }
        }
       }
      },
      "text/html": [
       "<div>\n",
       "        \n",
       "        \n",
       "            <div id=\"c8ebfa54-7633-4969-aa66-536abde08d3a\" class=\"plotly-graph-div\" style=\"height:525px; width:100%;\"></div>\n",
       "            <script type=\"text/javascript\">\n",
       "                require([\"plotly\"], function(Plotly) {\n",
       "                    window.PLOTLYENV=window.PLOTLYENV || {};\n",
       "                    \n",
       "                if (document.getElementById(\"c8ebfa54-7633-4969-aa66-536abde08d3a\")) {\n",
       "                    Plotly.newPlot(\n",
       "                        'c8ebfa54-7633-4969-aa66-536abde08d3a',\n",
       "                        [{\"marker\": {\"color\": [\"red\", \"blue\", \"blue\", \"blue\", \"blue\", \"red\", \"blue\", \"red\", \"red\", \"red\", \"red\", \"yellow\", \"red\", \"yellow\", \"yellow\", \"red\", \"red\", \"yellow\", \"red\", \"yellow\", \"yellow\", \"yellow\", \"yellow\", \"yellow\", \"yellow\", \"yellow\", \"red\", \"blue\", \"blue\", \"blue\", \"blue\", \"blue\", \"blue\", \"blue\", \"blue\", \"blue\", \"blue\", \"blue\", \"red\", \"blue\", \"blue\", \"blue\", \"blue\", \"red\", \"blue\", \"blue\", \"blue\", \"red\", \"yellow\", \"yellow\", \"yellow\", \"red\", \"red\", \"red\", \"red\", \"red\", \"yellow\", \"red\", \"red\", \"red\", \"blue\", \"red\", \"red\", \"red\", \"blue\", \"yellow\", \"red\", \"yellow\", \"yellow\", \"red\", \"yellow\", \"yellow\", \"blue\", \"yellow\", \"red\", \"blue\", \"blue\", \"red\", \"red\", \"red\", \"yellow\", \"yellow\", \"yellow\", \"yellow\", \"yellow\", \"yellow\", \"yellow\", \"red\", \"yellow\", \"red\", \"yellow\", \"yellow\", \"red\", \"red\", \"yellow\", \"yellow\", \"red\", \"yellow\", \"yellow\", \"red\", \"yellow\", \"yellow\", \"yellow\", \"red\", \"red\", \"red\", \"red\", \"red\", \"red\", \"yellow\", \"yellow\", \"red\", \"red\", \"red\", \"red\", \"red\", \"red\", \"red\", \"red\", \"red\", \"yellow\", \"yellow\", \"red\", \"red\", \"red\", \"red\", \"red\", \"red\", \"red\", \"red\", \"red\", \"red\", \"red\", \"red\", \"red\", \"red\", \"red\", \"blue\", \"red\", \"blue\", \"blue\", \"blue\", \"blue\", \"blue\", \"blue\", \"red\", \"blue\", \"red\", \"red\", \"blue\", \"red\", \"blue\", \"red\", \"blue\", \"blue\", \"blue\", \"blue\", \"red\", \"red\", \"red\", \"blue\", \"yellow\", \"yellow\", \"red\", \"blue\", \"red\", \"red\", \"red\", \"yellow\", \"red\", \"yellow\", \"yellow\", \"yellow\", \"red\", \"red\", \"red\", \"red\", \"red\", \"red\", \"red\", \"red\", \"red\", \"red\", \"red\", \"red\", \"red\", \"blue\", \"blue\", \"blue\", \"blue\", \"red\"], \"size\": 10}, \"mode\": \"markers\", \"type\": \"scatter\", \"x\": [56514.96900000001, 78896.8215, 71929.6389, 71319.28229999999, 81992.924658099, 38893.1382, 69435.0279, 49332.516349725, 50056.838189568, 50056.839430542, 55469.0052, 25547.6025, 46694.8125, 35044.854133527, 35044.852284729, 37425.4965, 39214.7784, 20826.8361, 43883.6265, 36556.062099921, 22869.378, 18011.851541900996, 33653.189964996, 33653.188268154, 17449.613810055, 36636.591384729, 42209.5779, 77824.2654, 97862.194042074, 97862.19882868801, 90756.989921241, 90756.98464077, 103588.40958139801, 67709.061, 66050.208443205, 66050.205568704, 66050.208810432, 66722.6133, 54609.1875, 89722.4202, 63379.5813, 80394.8544, 95049.7443, 40869.8325, 83161.7199, 68124.4074, 81638.36099999999, 42404.5881, 35637.4809, 36954.4329, 17633.2275, 39993.5529, 42050.0241, 47582.4888, 40691.2842, 40398.7689, 35385.4872, 50642.88580575, 40221.48516516901, 62180.3952, 70852.01759999999, 63093.3975, 54469.8945, 61383.8925, 72548.860651029, 20894.235867225, 53153.127519092995, 17694.0099, 15362.7516, 47091.16381750201, 22336.264889568, 19468.0962, 79622.4114, 15404.5395, 55256.2668, 112771.6128, 74512.8909, 57598.920964242, 50612.7447, 40905.2889, 26346.6378, 35367.759, 30212.6517, 25150.224972977998, 18256.247112663, 21730.902943995006, 26878.452952932003, 41394.0807, 28132.1208, 40435.4916, 24017.9121, 25762.8735, 45599.462999999996, 39897.3141, 34399.0395, 31798.0593, 47486.25, 33325.2171, 23516.4573, 37604.0448, 29745.387, 30422.8575, 30644.46, 45139.7961, 45339.8715, 41463.17281386, 56860.407573669014, 49666.8186, 46763.1927, 34383.8439, 34295.2029, 40526.66583315, 47243.1204, 44654.8032, 47312.7669, 41434.6023, 49308.4557, 50820.4179, 63364.3857, 40321.5246, 28929.8898, 29788.4412, 45365.1975, 43265.6721, 52257.6684, 39953.0313, 53019.981, 52992.1224, 57700.2258, 53680.9896, 59654.1267, 47657.19947429699, 46526.3946, 45418.3821, 38617.0848, 53087.367471075, 41649.872084351984, 65354.184546147, 58171.2894, 63821.147796440986, 70601.2902, 65802.0132, 83407.723063938, 75375.24236499601, 125244.671029065, 62561.548790117995, 125404.62985512, 50990.57397403199, 47261.748711365995, 70437.9375, 51877.7784, 69892.1622, 57433.0365, 78007.81669934401, 86289.4809, 82507.04115381, 68538.4875, 43492.342016025, 43492.339014894, 62610.410520504, 64588.623152192995, 34228.087771688995, 34228.088442828004, 54434.96874301499, 63930.449937185986, 52186.651041609, 54433.1718, 40153.1067, 34082.4645, 48277.6875, 31856.589408167998, 34488.94578696, 34488.948129615, 40945.811880267, 40985.768178620994, 49644.973012887, 45623.5227, 52268.597797311, 45232.236, 47599.060437558, 47655.934541901, 48365.0622, 38162.853708021, 38035.853429238, 49940.860520439004, 58681.037591253, 69251.4144, 85619.6082, 65414.5254, 69251.4144, 48768.410863368], \"y\": [-5.20918449057275, -16.972574110605972, -24.0827552659937, 25.755612097627644, -15.312204937745033, -9.8812756641993, -17.816696088632234, -12.706662488664925, 12.57003446083278, -27.40452570837325, 1.817221701318704, 0.10332672116688492, 0.21669966016032294, -40.616103235281095, 33.49178823728565, 1.404132340635745, -19.892445446026038, -10.970634661113989, -35.97156333467563, -11.136489725817043, 36.35263713774813, 49.02410192287793, -53.50515057777566, -54.61351275756009, -25.95251596597213, 39.349754085692865, -6.116095039178293, 8.060126963948184, -2.584444449494582, -4.122325961375578, 74.22900444056269, 0.6247622279148412, -6.507880185283398, 6.152705322556457, 13.215388357632019, 34.36748490916378, 26.7232935481352, -13.219825878732474, 24.777538578100987, 37.51969655406153, 6.172995497526271, 27.14495319740265, 39.80574169729776, 19.28113480768487, 41.797211675993736, 10.24976637081177, 39.84479673716135, -11.710025547919425, 13.085995368432446, 35.382946168820794, -14.190411256249039, 41.1277466173804, 13.988044063927177, 23.310069480854892, 55.46818254509646, 39.236916202166725, 44.04210322699755, 7.766370600080293, 23.978514953453164, 29.10982592146664, 26.11073477743845, 37.44544347924836, 63.16903275808622, 56.759364844775845, 15.267144445243476, -6.763759518201972, 70.66540434034637, 30.134436061324905, -2.1854913022221854, 75.62105774345463, 222.66361612527385, -0.5501113149420329, 46.786561653921474, 1.3727154907811496, 38.149036156022035, -16.513564307204806, -13.500873175758102, 11.700009171945592, 6.046412456268161, 3.698081936783488, -15.154259265673742, -12.68318696697746, -40.94857949856815, -35.189446545654725, 8.68060602793755, 2.2000791096308863, -41.94978398748218, -14.557831936584108, -17.603083803052638, 16.08860964114011, -6.461477973349737, -19.89635783446283, 0.8301347759292779, -20.33047658213162, -33.283020882022015, 28.338020930730195, -25.38471662849772, 30.156691462334084, -14.421633568079994, -11.357939877786755, -29.59580589756657, -12.289632885405318, 7.200453197739496, 5.782489345360602, 17.322785089940098, -43.988849805924986, 3.944031571397853, 9.556040700380196, 38.89556347593008, -7.6310371453262675, -23.199171391984958, 7.830237453815596, -17.204876246912768, 8.946846730252744, -0.4856340371841629, 1.526255025742099, -2.4001070063932235, -6.633983031453979, -22.688432218163207, -4.961430947479593, 12.52721743862294, -6.540930379398304, 12.11016991604632, 1.1194276582149845, 10.091019675114318, 31.644579368875064, -0.3375727350788748, 24.42981525118156, 21.31668295828402, 25.16721562077909, -6.093671806279247, 14.752861274391373, -23.720717444115053, 16.468261426687846, -7.054092286116839, 25.70787209661697, 23.20806147032468, 10.834524985700329, -8.415301518140321, 0.8396154285223955, 18.476588406595432, -7.141138958344213, 7.7789882012344025, 4.840790583909895, 40.80998301242978, 5.713495396147554, 35.10824934912278, 16.035171579225647, 41.76369226026361, 27.94667646252419, -5.925038609594733, 20.52281307159216, 27.61818713868628, 11.428576875849133, 17.066412900393292, 23.76519454822862, 14.106690784502645, 63.821943582039175, -30.684344225137853, 3.4428611177849926, 14.630094878382867, -16.34648072953948, 51.948304349136755, 29.413135759427647, 13.23242691256798, -3.6650197003138296, -6.035238607940163, 15.893896698160106, 27.103484549950892, 15.154645714958903, 9.50952580961245, 4.981463404687718, 63.18270939574827, 17.533388129477693, 12.966041768984134, 5.46888601673371, 23.29166331559925, 2.0172766194681544, -0.8826360032256577, -19.097142578019238, -0.08799437531568753, -1.3068569981080276, 10.89579496279925, 28.318403820754728, 2.8396376529807887, -7.983903801918036, -8.71810987877815, -1.829730634062867, -10.469426107003443, -9.788124125303057, -78.58039699249986]}],\n",
       "                        {\"template\": {\"data\": {\"bar\": [{\"error_x\": {\"color\": \"#2a3f5f\"}, \"error_y\": {\"color\": \"#2a3f5f\"}, \"marker\": {\"line\": {\"color\": \"#E5ECF6\", \"width\": 0.5}}, \"type\": \"bar\"}], \"barpolar\": [{\"marker\": {\"line\": {\"color\": \"#E5ECF6\", \"width\": 0.5}}, \"type\": \"barpolar\"}], \"carpet\": [{\"aaxis\": {\"endlinecolor\": \"#2a3f5f\", \"gridcolor\": \"white\", \"linecolor\": \"white\", \"minorgridcolor\": \"white\", \"startlinecolor\": \"#2a3f5f\"}, \"baxis\": {\"endlinecolor\": \"#2a3f5f\", \"gridcolor\": \"white\", \"linecolor\": \"white\", \"minorgridcolor\": \"white\", \"startlinecolor\": \"#2a3f5f\"}, \"type\": \"carpet\"}], \"choropleth\": [{\"colorbar\": {\"outlinewidth\": 0, \"ticks\": \"\"}, \"type\": \"choropleth\"}], \"contour\": [{\"colorbar\": {\"outlinewidth\": 0, \"ticks\": \"\"}, \"colorscale\": [[0.0, \"#0d0887\"], [0.1111111111111111, \"#46039f\"], [0.2222222222222222, \"#7201a8\"], [0.3333333333333333, \"#9c179e\"], [0.4444444444444444, \"#bd3786\"], [0.5555555555555556, \"#d8576b\"], [0.6666666666666666, \"#ed7953\"], [0.7777777777777778, \"#fb9f3a\"], [0.8888888888888888, \"#fdca26\"], [1.0, \"#f0f921\"]], \"type\": \"contour\"}], \"contourcarpet\": [{\"colorbar\": {\"outlinewidth\": 0, \"ticks\": \"\"}, \"type\": \"contourcarpet\"}], \"heatmap\": [{\"colorbar\": {\"outlinewidth\": 0, \"ticks\": \"\"}, \"colorscale\": [[0.0, \"#0d0887\"], [0.1111111111111111, \"#46039f\"], [0.2222222222222222, \"#7201a8\"], [0.3333333333333333, \"#9c179e\"], [0.4444444444444444, \"#bd3786\"], [0.5555555555555556, \"#d8576b\"], [0.6666666666666666, \"#ed7953\"], [0.7777777777777778, \"#fb9f3a\"], [0.8888888888888888, \"#fdca26\"], [1.0, \"#f0f921\"]], \"type\": \"heatmap\"}], \"heatmapgl\": [{\"colorbar\": {\"outlinewidth\": 0, \"ticks\": \"\"}, \"colorscale\": [[0.0, \"#0d0887\"], [0.1111111111111111, \"#46039f\"], [0.2222222222222222, \"#7201a8\"], [0.3333333333333333, \"#9c179e\"], [0.4444444444444444, \"#bd3786\"], [0.5555555555555556, \"#d8576b\"], [0.6666666666666666, \"#ed7953\"], [0.7777777777777778, \"#fb9f3a\"], [0.8888888888888888, \"#fdca26\"], [1.0, \"#f0f921\"]], \"type\": \"heatmapgl\"}], \"histogram\": [{\"marker\": {\"colorbar\": {\"outlinewidth\": 0, \"ticks\": \"\"}}, \"type\": \"histogram\"}], \"histogram2d\": [{\"colorbar\": {\"outlinewidth\": 0, \"ticks\": \"\"}, \"colorscale\": [[0.0, \"#0d0887\"], [0.1111111111111111, \"#46039f\"], [0.2222222222222222, \"#7201a8\"], [0.3333333333333333, \"#9c179e\"], [0.4444444444444444, \"#bd3786\"], [0.5555555555555556, \"#d8576b\"], [0.6666666666666666, \"#ed7953\"], [0.7777777777777778, \"#fb9f3a\"], [0.8888888888888888, \"#fdca26\"], [1.0, \"#f0f921\"]], \"type\": \"histogram2d\"}], \"histogram2dcontour\": [{\"colorbar\": {\"outlinewidth\": 0, \"ticks\": \"\"}, \"colorscale\": [[0.0, \"#0d0887\"], [0.1111111111111111, \"#46039f\"], [0.2222222222222222, \"#7201a8\"], [0.3333333333333333, \"#9c179e\"], [0.4444444444444444, \"#bd3786\"], [0.5555555555555556, \"#d8576b\"], [0.6666666666666666, \"#ed7953\"], [0.7777777777777778, \"#fb9f3a\"], [0.8888888888888888, \"#fdca26\"], [1.0, \"#f0f921\"]], \"type\": \"histogram2dcontour\"}], \"mesh3d\": [{\"colorbar\": {\"outlinewidth\": 0, \"ticks\": \"\"}, \"type\": \"mesh3d\"}], \"parcoords\": [{\"line\": {\"colorbar\": {\"outlinewidth\": 0, \"ticks\": \"\"}}, \"type\": \"parcoords\"}], \"scatter\": [{\"marker\": {\"colorbar\": {\"outlinewidth\": 0, \"ticks\": \"\"}}, \"type\": \"scatter\"}], \"scatter3d\": [{\"line\": {\"colorbar\": {\"outlinewidth\": 0, \"ticks\": \"\"}}, \"marker\": {\"colorbar\": {\"outlinewidth\": 0, \"ticks\": \"\"}}, \"type\": \"scatter3d\"}], \"scattercarpet\": [{\"marker\": {\"colorbar\": {\"outlinewidth\": 0, \"ticks\": \"\"}}, \"type\": \"scattercarpet\"}], \"scattergeo\": [{\"marker\": {\"colorbar\": {\"outlinewidth\": 0, \"ticks\": \"\"}}, \"type\": \"scattergeo\"}], \"scattergl\": [{\"marker\": {\"colorbar\": {\"outlinewidth\": 0, \"ticks\": \"\"}}, \"type\": \"scattergl\"}], \"scattermapbox\": [{\"marker\": {\"colorbar\": {\"outlinewidth\": 0, \"ticks\": \"\"}}, \"type\": \"scattermapbox\"}], \"scatterpolar\": [{\"marker\": {\"colorbar\": {\"outlinewidth\": 0, \"ticks\": \"\"}}, \"type\": \"scatterpolar\"}], \"scatterpolargl\": [{\"marker\": {\"colorbar\": {\"outlinewidth\": 0, \"ticks\": \"\"}}, \"type\": \"scatterpolargl\"}], \"scatterternary\": [{\"marker\": {\"colorbar\": {\"outlinewidth\": 0, \"ticks\": \"\"}}, \"type\": \"scatterternary\"}], \"surface\": [{\"colorbar\": {\"outlinewidth\": 0, \"ticks\": \"\"}, \"colorscale\": [[0.0, \"#0d0887\"], [0.1111111111111111, \"#46039f\"], [0.2222222222222222, \"#7201a8\"], [0.3333333333333333, \"#9c179e\"], [0.4444444444444444, \"#bd3786\"], [0.5555555555555556, \"#d8576b\"], [0.6666666666666666, \"#ed7953\"], [0.7777777777777778, \"#fb9f3a\"], [0.8888888888888888, \"#fdca26\"], [1.0, \"#f0f921\"]], \"type\": \"surface\"}], \"table\": [{\"cells\": {\"fill\": {\"color\": \"#EBF0F8\"}, \"line\": {\"color\": \"white\"}}, \"header\": {\"fill\": {\"color\": \"#C8D4E3\"}, \"line\": {\"color\": \"white\"}}, \"type\": \"table\"}]}, \"layout\": {\"annotationdefaults\": {\"arrowcolor\": \"#2a3f5f\", \"arrowhead\": 0, \"arrowwidth\": 1}, \"colorscale\": {\"diverging\": [[0, \"#8e0152\"], [0.1, \"#c51b7d\"], [0.2, \"#de77ae\"], [0.3, \"#f1b6da\"], [0.4, \"#fde0ef\"], [0.5, \"#f7f7f7\"], [0.6, \"#e6f5d0\"], [0.7, \"#b8e186\"], [0.8, \"#7fbc41\"], [0.9, \"#4d9221\"], [1, \"#276419\"]], \"sequential\": [[0.0, \"#0d0887\"], [0.1111111111111111, \"#46039f\"], [0.2222222222222222, \"#7201a8\"], [0.3333333333333333, \"#9c179e\"], [0.4444444444444444, \"#bd3786\"], [0.5555555555555556, \"#d8576b\"], [0.6666666666666666, \"#ed7953\"], [0.7777777777777778, \"#fb9f3a\"], [0.8888888888888888, \"#fdca26\"], [1.0, \"#f0f921\"]], \"sequentialminus\": [[0.0, \"#0d0887\"], [0.1111111111111111, \"#46039f\"], [0.2222222222222222, \"#7201a8\"], [0.3333333333333333, \"#9c179e\"], [0.4444444444444444, \"#bd3786\"], [0.5555555555555556, \"#d8576b\"], [0.6666666666666666, \"#ed7953\"], [0.7777777777777778, \"#fb9f3a\"], [0.8888888888888888, \"#fdca26\"], [1.0, \"#f0f921\"]]}, \"colorway\": [\"#636efa\", \"#EF553B\", \"#00cc96\", \"#ab63fa\", \"#FFA15A\", \"#19d3f3\", \"#FF6692\", \"#B6E880\", \"#FF97FF\", \"#FECB52\"], \"font\": {\"color\": \"#2a3f5f\"}, \"geo\": {\"bgcolor\": \"white\", \"lakecolor\": \"white\", \"landcolor\": \"#E5ECF6\", \"showlakes\": true, \"showland\": true, \"subunitcolor\": \"white\"}, \"hoverlabel\": {\"align\": \"left\"}, \"hovermode\": \"closest\", \"mapbox\": {\"style\": \"light\"}, \"paper_bgcolor\": \"white\", \"plot_bgcolor\": \"#E5ECF6\", \"polar\": {\"angularaxis\": {\"gridcolor\": \"white\", \"linecolor\": \"white\", \"ticks\": \"\"}, \"bgcolor\": \"#E5ECF6\", \"radialaxis\": {\"gridcolor\": \"white\", \"linecolor\": \"white\", \"ticks\": \"\"}}, \"scene\": {\"xaxis\": {\"backgroundcolor\": \"#E5ECF6\", \"gridcolor\": \"white\", \"gridwidth\": 2, \"linecolor\": \"white\", \"showbackground\": true, \"ticks\": \"\", \"zerolinecolor\": \"white\"}, \"yaxis\": {\"backgroundcolor\": \"#E5ECF6\", \"gridcolor\": \"white\", \"gridwidth\": 2, \"linecolor\": \"white\", \"showbackground\": true, \"ticks\": \"\", \"zerolinecolor\": \"white\"}, \"zaxis\": {\"backgroundcolor\": \"#E5ECF6\", \"gridcolor\": \"white\", \"gridwidth\": 2, \"linecolor\": \"white\", \"showbackground\": true, \"ticks\": \"\", \"zerolinecolor\": \"white\"}}, \"shapedefaults\": {\"line\": {\"color\": \"#2a3f5f\"}}, \"ternary\": {\"aaxis\": {\"gridcolor\": \"white\", \"linecolor\": \"white\", \"ticks\": \"\"}, \"baxis\": {\"gridcolor\": \"white\", \"linecolor\": \"white\", \"ticks\": \"\"}, \"bgcolor\": \"#E5ECF6\", \"caxis\": {\"gridcolor\": \"white\", \"linecolor\": \"white\", \"ticks\": \"\"}}, \"title\": {\"x\": 0.05}, \"xaxis\": {\"automargin\": true, \"gridcolor\": \"white\", \"linecolor\": \"white\", \"ticks\": \"\", \"zerolinecolor\": \"white\", \"zerolinewidth\": 2}, \"yaxis\": {\"automargin\": true, \"gridcolor\": \"white\", \"linecolor\": \"white\", \"ticks\": \"\", \"zerolinecolor\": \"white\", \"zerolinewidth\": 2}}}},\n",
       "                        {\"responsive\": true}\n",
       "                    ).then(function(){\n",
       "                            \n",
       "var gd = document.getElementById('c8ebfa54-7633-4969-aa66-536abde08d3a');\n",
       "var x = new MutationObserver(function (mutations, observer) {{\n",
       "        var display = window.getComputedStyle(gd).display;\n",
       "        if (!display || display === 'none') {{\n",
       "            console.log([gd, 'removed!']);\n",
       "            Plotly.purge(gd);\n",
       "            observer.disconnect();\n",
       "        }}\n",
       "}});\n",
       "\n",
       "// Listen for the removal of the full notebook cells\n",
       "var notebookContainer = gd.closest('#notebook-container');\n",
       "if (notebookContainer) {{\n",
       "    x.observe(notebookContainer, {childList: true});\n",
       "}}\n",
       "\n",
       "// Listen for the clearing of the current output cell\n",
       "var outputEl = gd.closest('.output');\n",
       "if (outputEl) {{\n",
       "    x.observe(outputEl, {childList: true});\n",
       "}}\n",
       "\n",
       "                        })\n",
       "                };\n",
       "                });\n",
       "            </script>\n",
       "        </div>"
      ]
     },
     "metadata": {},
     "output_type": "display_data"
    }
   ],
   "source": [
    "fig=go.Figure()\n",
    "colorsIdx={'Middle 50% (<63k and >37k)':'red','Top 25% (> 63k)':'blue','Bottom 25% (<37k)':'yellow'}\n",
    "cols=df_changes_sample.income_bracket.map(colorsIdx)\n",
    "fig.add_trace(go.Scatter(x=df_changes_sample.HINC00,\n",
    "                         y=df_changes_sample.HINC00_PC,\n",
    "                        mode='markers',\n",
    "                        marker=dict(size=10,color=cols)))\n",
    "fig.show()"
   ]
  },
  {
   "cell_type": "code",
   "execution_count": 285,
   "metadata": {},
   "outputs": [
    {
     "data": {
      "text/plain": [
       "count       191.000000\n",
       "mean      50846.060078\n",
       "std       20540.883432\n",
       "min       15362.751600\n",
       "25%       37189.964700\n",
       "50%       47486.250000\n",
       "75%       63371.983500\n",
       "max      125404.629855\n",
       "Name: HINC00, dtype: float64"
      ]
     },
     "execution_count": 285,
     "metadata": {},
     "output_type": "execute_result"
    }
   ],
   "source": [
    "df_changes_sample['HINC00'].describe()"
   ]
  },
  {
   "cell_type": "code",
   "execution_count": 276,
   "metadata": {},
   "outputs": [
    {
     "data": {
      "text/plain": [
       "0.09524912605820662"
      ]
     },
     "execution_count": 276,
     "metadata": {},
     "output_type": "execute_result"
    }
   ],
   "source": [
    "(52009-47486)/47486"
   ]
  },
  {
   "cell_type": "markdown",
   "metadata": {},
   "source": [
    "## Housing costs"
   ]
  },
  {
   "cell_type": "code",
   "execution_count": 512,
   "metadata": {},
   "outputs": [],
   "source": [
    "df_all_changes=df_changes_full.merge(df_changes_sample,how='inner',on='tractid')"
   ]
  },
  {
   "cell_type": "code",
   "execution_count": 518,
   "metadata": {},
   "outputs": [],
   "source": [
    "df_all_changes.to_csv('plotly_changes_full.csv')"
   ]
  },
  {
   "cell_type": "code",
   "execution_count": 637,
   "metadata": {},
   "outputs": [
    {
     "data": {
      "text/plain": [
       "count     190.000000\n",
       "mean     1116.894737\n",
       "std       371.192187\n",
       "min       196.000000\n",
       "25%       933.250000\n",
       "50%      1083.500000\n",
       "75%      1349.500000\n",
       "max      2001.000000\n",
       "Name: mrent12, dtype: float64"
      ]
     },
     "execution_count": 637,
     "metadata": {},
     "output_type": "execute_result"
    }
   ],
   "source": [
    "df_2010['mrent12'].describe()"
   ]
  },
  {
   "cell_type": "code",
   "execution_count": 638,
   "metadata": {},
   "outputs": [
    {
     "data": {
      "text/plain": [
       "count     190.000000\n",
       "mean      922.301268\n",
       "std       288.738712\n",
       "min       229.200300\n",
       "25%       758.184353\n",
       "50%       871.566708\n",
       "75%      1112.444550\n",
       "max      2004.552900\n",
       "Name: MRENT00, dtype: float64"
      ]
     },
     "execution_count": 638,
     "metadata": {},
     "output_type": "execute_result"
    }
   ],
   "source": [
    "df_2000['MRENT00'].describe()"
   ]
  },
  {
   "cell_type": "code",
   "execution_count": 639,
   "metadata": {},
   "outputs": [
    {
     "data": {
      "text/plain": [
       "0.24317316076919554"
      ]
     },
     "execution_count": 639,
     "metadata": {},
     "output_type": "execute_result"
    }
   ],
   "source": [
    "(1083.5-871.56)/871.56"
   ]
  },
  {
   "cell_type": "code",
   "execution_count": 523,
   "metadata": {},
   "outputs": [
    {
     "data": {
      "text/plain": [
       "49"
      ]
     },
     "execution_count": 523,
     "metadata": {},
     "output_type": "execute_result"
    }
   ],
   "source": [
    "len(df_all_changes[(df_all_changes['percent_renteroccupied_00_PC']>0) & (df_all_changes['MHMVAL00_PC'])])"
   ]
  },
  {
   "cell_type": "code",
   "execution_count": 521,
   "metadata": {},
   "outputs": [
    {
     "data": {
      "text/plain": [
       "0.5392670157068062"
      ]
     },
     "execution_count": 521,
     "metadata": {},
     "output_type": "execute_result"
    }
   ],
   "source": [
    "103/191 # 53 % of tracts experienced and increase in home value while owner occ went up\n",
    "# vs. only 49/191 tracts expereicen increase in home while renter occupany went up"
   ]
  },
  {
   "cell_type": "code",
   "execution_count": 629,
   "metadata": {},
   "outputs": [
    {
     "data": {
      "text/plain": [
       "count       190.000000\n",
       "mean     378607.394737\n",
       "std      154806.929654\n",
       "min        -999.000000\n",
       "25%      299150.000000\n",
       "50%      337150.000000\n",
       "75%      425400.000000\n",
       "max      977500.000000\n",
       "Name: mhmval12, dtype: float64"
      ]
     },
     "execution_count": 629,
     "metadata": {},
     "output_type": "execute_result"
    }
   ],
   "source": [
    "df_2010['mhmval12'].describe()"
   ]
  },
  {
   "cell_type": "code",
   "execution_count": 634,
   "metadata": {},
   "outputs": [
    {
     "data": {
      "text/plain": [
       "count       190.000000\n",
       "mean     277074.143915\n",
       "std      117207.467872\n",
       "min       12661.733700\n",
       "25%      207419.940000\n",
       "50%      239077.440000\n",
       "75%      307584.270000\n",
       "max      916927.784287\n",
       "Name: MHMVAL00, dtype: float64"
      ]
     },
     "execution_count": 634,
     "metadata": {},
     "output_type": "execute_result"
    }
   ],
   "source": [
    "df_2000['MHMVAL00'].describe()"
   ]
  },
  {
   "cell_type": "code",
   "execution_count": 636,
   "metadata": {},
   "outputs": [
    {
     "data": {
      "text/plain": [
       "0.41021511897840446"
      ]
     },
     "execution_count": 636,
     "metadata": {},
     "output_type": "execute_result"
    }
   ],
   "source": [
    "# county's median median home value rose 41%\n",
    "(337150-239077)/239077"
   ]
  },
  {
   "cell_type": "code",
   "execution_count": 481,
   "metadata": {},
   "outputs": [
    {
     "data": {
      "text/plain": [
       "181"
      ]
     },
     "execution_count": 481,
     "metadata": {},
     "output_type": "execute_result"
    }
   ],
   "source": [
    "# 95% of tracts increas ein home val\n",
    "len(df_changes_sample[df_changes_sample['MRENT00_PC']>0])"
   ]
  },
  {
   "cell_type": "code",
   "execution_count": 380,
   "metadata": {},
   "outputs": [
    {
     "data": {
      "text/plain": [
       "183"
      ]
     },
     "execution_count": 380,
     "metadata": {},
     "output_type": "execute_result"
    }
   ],
   "source": [
    "# same with rent val\n",
    "len(df_changes_sample[df_changes_sample['MHMVAL00_PC']>0])"
   ]
  },
  {
   "cell_type": "code",
   "execution_count": 482,
   "metadata": {},
   "outputs": [
    {
     "data": {
      "text/plain": [
       "0.9526315789473684"
      ]
     },
     "execution_count": 482,
     "metadata": {},
     "output_type": "execute_result"
    }
   ],
   "source": [
    "181/190"
   ]
  },
  {
   "cell_type": "code",
   "execution_count": 480,
   "metadata": {},
   "outputs": [
    {
     "data": {
      "text/plain": [
       "0.9581151832460733"
      ]
     },
     "execution_count": 480,
     "metadata": {},
     "output_type": "execute_result"
    }
   ],
   "source": [
    "183/191"
   ]
  },
  {
   "cell_type": "markdown",
   "metadata": {},
   "source": [
    "## Visualizing the clusters"
   ]
  },
  {
   "cell_type": "code",
   "execution_count": 683,
   "metadata": {},
   "outputs": [
    {
     "data": {
      "application/vnd.plotly.v1+json": {
       "config": {
        "plotlyServerURL": "https://plot.ly"
       },
       "data": [
        {
         "marker": {
          "color": "orange"
         },
         "name": "Baseline, County Avg. (n=191)",
         "r": [
          8.2,
          76.14,
          54.41,
          6.23,
          28.04,
          36.73
         ],
         "theta": [
          "% Change in Household Income",
          "% Change in Median Home Value",
          "% Change in Median Rent",
          "% Change in Owner Occupied Housing",
          "% Change in Non-White Population",
          "% Change in Population with College Degree"
         ],
         "type": "scatterpolar"
        },
        {
         "name": "Cluster 1: Gentrifying (n=31)",
         "r": [
          29.95,
          87.36,
          69.79,
          28.49,
          11.23,
          129.64
         ],
         "theta": [
          "% Change in Household Income",
          "% Change in Median Home Value",
          "% Change in Median Rent",
          "% Change in Owner Occupied Housing",
          "% Change in Non-White Population",
          "% Change in Population with College Degree"
         ],
         "type": "scatterpolar"
        },
        {
         "name": "Cluster 2: Becoming more affordable (n=77)",
         "r": [
          -12.11,
          72.58,
          40.7,
          -7.45,
          22.16,
          2.05
         ],
         "theta": [
          "% Change in Household Income",
          "% Change in Median Home Value",
          "% Change in Median Rent",
          "% Change in Owner Occupied Housing",
          "% Change in Non-White Population",
          "% Change in Population with College Degree"
         ],
         "type": "scatterpolar"
        },
        {
         "name": "Cluster 3: Remaining costly (n=82)",
         "r": [
          19.24,
          81.35,
          61.29,
          7.34,
          40.02,
          34.12
         ],
         "theta": [
          "% Change in Household Income",
          "% Change in Median Home Value",
          "% Change in Median Rent",
          "% Change in Owner Occupied Housing",
          "% Change in Non-White Population",
          "% Change in Population with College Degree"
         ],
         "type": "scatterpolar"
        }
       ],
       "layout": {
        "legend": {
         "orientation": "h",
         "x": -0.1,
         "y": 1.2
        },
        "polar": {
         "radialaxis": {
          "visible": true
         }
        },
        "showlegend": true,
        "template": {
         "data": {
          "bar": [
           {
            "error_x": {
             "color": "#2a3f5f"
            },
            "error_y": {
             "color": "#2a3f5f"
            },
            "marker": {
             "line": {
              "color": "#E5ECF6",
              "width": 0.5
             }
            },
            "type": "bar"
           }
          ],
          "barpolar": [
           {
            "marker": {
             "line": {
              "color": "#E5ECF6",
              "width": 0.5
             }
            },
            "type": "barpolar"
           }
          ],
          "carpet": [
           {
            "aaxis": {
             "endlinecolor": "#2a3f5f",
             "gridcolor": "white",
             "linecolor": "white",
             "minorgridcolor": "white",
             "startlinecolor": "#2a3f5f"
            },
            "baxis": {
             "endlinecolor": "#2a3f5f",
             "gridcolor": "white",
             "linecolor": "white",
             "minorgridcolor": "white",
             "startlinecolor": "#2a3f5f"
            },
            "type": "carpet"
           }
          ],
          "choropleth": [
           {
            "colorbar": {
             "outlinewidth": 0,
             "ticks": ""
            },
            "type": "choropleth"
           }
          ],
          "contour": [
           {
            "colorbar": {
             "outlinewidth": 0,
             "ticks": ""
            },
            "colorscale": [
             [
              0,
              "#0d0887"
             ],
             [
              0.1111111111111111,
              "#46039f"
             ],
             [
              0.2222222222222222,
              "#7201a8"
             ],
             [
              0.3333333333333333,
              "#9c179e"
             ],
             [
              0.4444444444444444,
              "#bd3786"
             ],
             [
              0.5555555555555556,
              "#d8576b"
             ],
             [
              0.6666666666666666,
              "#ed7953"
             ],
             [
              0.7777777777777778,
              "#fb9f3a"
             ],
             [
              0.8888888888888888,
              "#fdca26"
             ],
             [
              1,
              "#f0f921"
             ]
            ],
            "type": "contour"
           }
          ],
          "contourcarpet": [
           {
            "colorbar": {
             "outlinewidth": 0,
             "ticks": ""
            },
            "type": "contourcarpet"
           }
          ],
          "heatmap": [
           {
            "colorbar": {
             "outlinewidth": 0,
             "ticks": ""
            },
            "colorscale": [
             [
              0,
              "#0d0887"
             ],
             [
              0.1111111111111111,
              "#46039f"
             ],
             [
              0.2222222222222222,
              "#7201a8"
             ],
             [
              0.3333333333333333,
              "#9c179e"
             ],
             [
              0.4444444444444444,
              "#bd3786"
             ],
             [
              0.5555555555555556,
              "#d8576b"
             ],
             [
              0.6666666666666666,
              "#ed7953"
             ],
             [
              0.7777777777777778,
              "#fb9f3a"
             ],
             [
              0.8888888888888888,
              "#fdca26"
             ],
             [
              1,
              "#f0f921"
             ]
            ],
            "type": "heatmap"
           }
          ],
          "heatmapgl": [
           {
            "colorbar": {
             "outlinewidth": 0,
             "ticks": ""
            },
            "colorscale": [
             [
              0,
              "#0d0887"
             ],
             [
              0.1111111111111111,
              "#46039f"
             ],
             [
              0.2222222222222222,
              "#7201a8"
             ],
             [
              0.3333333333333333,
              "#9c179e"
             ],
             [
              0.4444444444444444,
              "#bd3786"
             ],
             [
              0.5555555555555556,
              "#d8576b"
             ],
             [
              0.6666666666666666,
              "#ed7953"
             ],
             [
              0.7777777777777778,
              "#fb9f3a"
             ],
             [
              0.8888888888888888,
              "#fdca26"
             ],
             [
              1,
              "#f0f921"
             ]
            ],
            "type": "heatmapgl"
           }
          ],
          "histogram": [
           {
            "marker": {
             "colorbar": {
              "outlinewidth": 0,
              "ticks": ""
             }
            },
            "type": "histogram"
           }
          ],
          "histogram2d": [
           {
            "colorbar": {
             "outlinewidth": 0,
             "ticks": ""
            },
            "colorscale": [
             [
              0,
              "#0d0887"
             ],
             [
              0.1111111111111111,
              "#46039f"
             ],
             [
              0.2222222222222222,
              "#7201a8"
             ],
             [
              0.3333333333333333,
              "#9c179e"
             ],
             [
              0.4444444444444444,
              "#bd3786"
             ],
             [
              0.5555555555555556,
              "#d8576b"
             ],
             [
              0.6666666666666666,
              "#ed7953"
             ],
             [
              0.7777777777777778,
              "#fb9f3a"
             ],
             [
              0.8888888888888888,
              "#fdca26"
             ],
             [
              1,
              "#f0f921"
             ]
            ],
            "type": "histogram2d"
           }
          ],
          "histogram2dcontour": [
           {
            "colorbar": {
             "outlinewidth": 0,
             "ticks": ""
            },
            "colorscale": [
             [
              0,
              "#0d0887"
             ],
             [
              0.1111111111111111,
              "#46039f"
             ],
             [
              0.2222222222222222,
              "#7201a8"
             ],
             [
              0.3333333333333333,
              "#9c179e"
             ],
             [
              0.4444444444444444,
              "#bd3786"
             ],
             [
              0.5555555555555556,
              "#d8576b"
             ],
             [
              0.6666666666666666,
              "#ed7953"
             ],
             [
              0.7777777777777778,
              "#fb9f3a"
             ],
             [
              0.8888888888888888,
              "#fdca26"
             ],
             [
              1,
              "#f0f921"
             ]
            ],
            "type": "histogram2dcontour"
           }
          ],
          "mesh3d": [
           {
            "colorbar": {
             "outlinewidth": 0,
             "ticks": ""
            },
            "type": "mesh3d"
           }
          ],
          "parcoords": [
           {
            "line": {
             "colorbar": {
              "outlinewidth": 0,
              "ticks": ""
             }
            },
            "type": "parcoords"
           }
          ],
          "scatter": [
           {
            "marker": {
             "colorbar": {
              "outlinewidth": 0,
              "ticks": ""
             }
            },
            "type": "scatter"
           }
          ],
          "scatter3d": [
           {
            "line": {
             "colorbar": {
              "outlinewidth": 0,
              "ticks": ""
             }
            },
            "marker": {
             "colorbar": {
              "outlinewidth": 0,
              "ticks": ""
             }
            },
            "type": "scatter3d"
           }
          ],
          "scattercarpet": [
           {
            "marker": {
             "colorbar": {
              "outlinewidth": 0,
              "ticks": ""
             }
            },
            "type": "scattercarpet"
           }
          ],
          "scattergeo": [
           {
            "marker": {
             "colorbar": {
              "outlinewidth": 0,
              "ticks": ""
             }
            },
            "type": "scattergeo"
           }
          ],
          "scattergl": [
           {
            "marker": {
             "colorbar": {
              "outlinewidth": 0,
              "ticks": ""
             }
            },
            "type": "scattergl"
           }
          ],
          "scattermapbox": [
           {
            "marker": {
             "colorbar": {
              "outlinewidth": 0,
              "ticks": ""
             }
            },
            "type": "scattermapbox"
           }
          ],
          "scatterpolar": [
           {
            "marker": {
             "colorbar": {
              "outlinewidth": 0,
              "ticks": ""
             }
            },
            "type": "scatterpolar"
           }
          ],
          "scatterpolargl": [
           {
            "marker": {
             "colorbar": {
              "outlinewidth": 0,
              "ticks": ""
             }
            },
            "type": "scatterpolargl"
           }
          ],
          "scatterternary": [
           {
            "marker": {
             "colorbar": {
              "outlinewidth": 0,
              "ticks": ""
             }
            },
            "type": "scatterternary"
           }
          ],
          "surface": [
           {
            "colorbar": {
             "outlinewidth": 0,
             "ticks": ""
            },
            "colorscale": [
             [
              0,
              "#0d0887"
             ],
             [
              0.1111111111111111,
              "#46039f"
             ],
             [
              0.2222222222222222,
              "#7201a8"
             ],
             [
              0.3333333333333333,
              "#9c179e"
             ],
             [
              0.4444444444444444,
              "#bd3786"
             ],
             [
              0.5555555555555556,
              "#d8576b"
             ],
             [
              0.6666666666666666,
              "#ed7953"
             ],
             [
              0.7777777777777778,
              "#fb9f3a"
             ],
             [
              0.8888888888888888,
              "#fdca26"
             ],
             [
              1,
              "#f0f921"
             ]
            ],
            "type": "surface"
           }
          ],
          "table": [
           {
            "cells": {
             "fill": {
              "color": "#EBF0F8"
             },
             "line": {
              "color": "white"
             }
            },
            "header": {
             "fill": {
              "color": "#C8D4E3"
             },
             "line": {
              "color": "white"
             }
            },
            "type": "table"
           }
          ]
         },
         "layout": {
          "annotationdefaults": {
           "arrowcolor": "#2a3f5f",
           "arrowhead": 0,
           "arrowwidth": 1
          },
          "colorscale": {
           "diverging": [
            [
             0,
             "#8e0152"
            ],
            [
             0.1,
             "#c51b7d"
            ],
            [
             0.2,
             "#de77ae"
            ],
            [
             0.3,
             "#f1b6da"
            ],
            [
             0.4,
             "#fde0ef"
            ],
            [
             0.5,
             "#f7f7f7"
            ],
            [
             0.6,
             "#e6f5d0"
            ],
            [
             0.7,
             "#b8e186"
            ],
            [
             0.8,
             "#7fbc41"
            ],
            [
             0.9,
             "#4d9221"
            ],
            [
             1,
             "#276419"
            ]
           ],
           "sequential": [
            [
             0,
             "#0d0887"
            ],
            [
             0.1111111111111111,
             "#46039f"
            ],
            [
             0.2222222222222222,
             "#7201a8"
            ],
            [
             0.3333333333333333,
             "#9c179e"
            ],
            [
             0.4444444444444444,
             "#bd3786"
            ],
            [
             0.5555555555555556,
             "#d8576b"
            ],
            [
             0.6666666666666666,
             "#ed7953"
            ],
            [
             0.7777777777777778,
             "#fb9f3a"
            ],
            [
             0.8888888888888888,
             "#fdca26"
            ],
            [
             1,
             "#f0f921"
            ]
           ],
           "sequentialminus": [
            [
             0,
             "#0d0887"
            ],
            [
             0.1111111111111111,
             "#46039f"
            ],
            [
             0.2222222222222222,
             "#7201a8"
            ],
            [
             0.3333333333333333,
             "#9c179e"
            ],
            [
             0.4444444444444444,
             "#bd3786"
            ],
            [
             0.5555555555555556,
             "#d8576b"
            ],
            [
             0.6666666666666666,
             "#ed7953"
            ],
            [
             0.7777777777777778,
             "#fb9f3a"
            ],
            [
             0.8888888888888888,
             "#fdca26"
            ],
            [
             1,
             "#f0f921"
            ]
           ]
          },
          "colorway": [
           "#636efa",
           "#EF553B",
           "#00cc96",
           "#ab63fa",
           "#FFA15A",
           "#19d3f3",
           "#FF6692",
           "#B6E880",
           "#FF97FF",
           "#FECB52"
          ],
          "font": {
           "color": "#2a3f5f"
          },
          "geo": {
           "bgcolor": "white",
           "lakecolor": "white",
           "landcolor": "#E5ECF6",
           "showlakes": true,
           "showland": true,
           "subunitcolor": "white"
          },
          "hoverlabel": {
           "align": "left"
          },
          "hovermode": "closest",
          "mapbox": {
           "style": "light"
          },
          "paper_bgcolor": "white",
          "plot_bgcolor": "#E5ECF6",
          "polar": {
           "angularaxis": {
            "gridcolor": "white",
            "linecolor": "white",
            "ticks": ""
           },
           "bgcolor": "#E5ECF6",
           "radialaxis": {
            "gridcolor": "white",
            "linecolor": "white",
            "ticks": ""
           }
          },
          "scene": {
           "xaxis": {
            "backgroundcolor": "#E5ECF6",
            "gridcolor": "white",
            "gridwidth": 2,
            "linecolor": "white",
            "showbackground": true,
            "ticks": "",
            "zerolinecolor": "white"
           },
           "yaxis": {
            "backgroundcolor": "#E5ECF6",
            "gridcolor": "white",
            "gridwidth": 2,
            "linecolor": "white",
            "showbackground": true,
            "ticks": "",
            "zerolinecolor": "white"
           },
           "zaxis": {
            "backgroundcolor": "#E5ECF6",
            "gridcolor": "white",
            "gridwidth": 2,
            "linecolor": "white",
            "showbackground": true,
            "ticks": "",
            "zerolinecolor": "white"
           }
          },
          "shapedefaults": {
           "line": {
            "color": "#2a3f5f"
           }
          },
          "ternary": {
           "aaxis": {
            "gridcolor": "white",
            "linecolor": "white",
            "ticks": ""
           },
           "baxis": {
            "gridcolor": "white",
            "linecolor": "white",
            "ticks": ""
           },
           "bgcolor": "#E5ECF6",
           "caxis": {
            "gridcolor": "white",
            "linecolor": "white",
            "ticks": ""
           }
          },
          "title": {
           "x": 0.05
          },
          "xaxis": {
           "automargin": true,
           "gridcolor": "white",
           "linecolor": "white",
           "ticks": "",
           "zerolinecolor": "white",
           "zerolinewidth": 2
          },
          "yaxis": {
           "automargin": true,
           "gridcolor": "white",
           "linecolor": "white",
           "ticks": "",
           "zerolinecolor": "white",
           "zerolinewidth": 2
          }
         }
        }
       }
      },
      "text/html": [
       "<div>\n",
       "        \n",
       "        \n",
       "            <div id=\"0cfea129-2a47-4ca5-beee-8294fef2e7f7\" class=\"plotly-graph-div\" style=\"height:525px; width:100%;\"></div>\n",
       "            <script type=\"text/javascript\">\n",
       "                require([\"plotly\"], function(Plotly) {\n",
       "                    window.PLOTLYENV=window.PLOTLYENV || {};\n",
       "                    \n",
       "                if (document.getElementById(\"0cfea129-2a47-4ca5-beee-8294fef2e7f7\")) {\n",
       "                    Plotly.newPlot(\n",
       "                        '0cfea129-2a47-4ca5-beee-8294fef2e7f7',\n",
       "                        [{\"marker\": {\"color\": \"orange\"}, \"name\": \"Baseline, County Avg. (n=191)\", \"r\": [8.2, 76.14, 54.41, 6.23, 28.04, 36.73], \"theta\": [\"% Change in Household Income\", \"% Change in Median Home Value\", \"% Change in Median Rent\", \"% Change in Owner Occupied Housing\", \"% Change in Non-White Population\", \"% Change in Population with College Degree\"], \"type\": \"scatterpolar\"}, {\"name\": \"Cluster 1: Gentrifying (n=31)\", \"r\": [29.95, 87.36, 69.79, 28.49, 11.23, 129.64], \"theta\": [\"% Change in Household Income\", \"% Change in Median Home Value\", \"% Change in Median Rent\", \"% Change in Owner Occupied Housing\", \"% Change in Non-White Population\", \"% Change in Population with College Degree\"], \"type\": \"scatterpolar\"}, {\"name\": \"Cluster 2: Becoming more affordable (n=77)\", \"r\": [-12.11, 72.58, 40.7, -7.45, 22.16, 2.05], \"theta\": [\"% Change in Household Income\", \"% Change in Median Home Value\", \"% Change in Median Rent\", \"% Change in Owner Occupied Housing\", \"% Change in Non-White Population\", \"% Change in Population with College Degree\"], \"type\": \"scatterpolar\"}, {\"name\": \"Cluster 3: Remaining costly (n=82)\", \"r\": [19.24, 81.35, 61.29, 7.34, 40.02, 34.12], \"theta\": [\"% Change in Household Income\", \"% Change in Median Home Value\", \"% Change in Median Rent\", \"% Change in Owner Occupied Housing\", \"% Change in Non-White Population\", \"% Change in Population with College Degree\"], \"type\": \"scatterpolar\"}],\n",
       "                        {\"legend\": {\"orientation\": \"h\", \"x\": -0.1, \"y\": 1.2}, \"polar\": {\"radialaxis\": {\"visible\": true}}, \"showlegend\": true, \"template\": {\"data\": {\"bar\": [{\"error_x\": {\"color\": \"#2a3f5f\"}, \"error_y\": {\"color\": \"#2a3f5f\"}, \"marker\": {\"line\": {\"color\": \"#E5ECF6\", \"width\": 0.5}}, \"type\": \"bar\"}], \"barpolar\": [{\"marker\": {\"line\": {\"color\": \"#E5ECF6\", \"width\": 0.5}}, \"type\": \"barpolar\"}], \"carpet\": [{\"aaxis\": {\"endlinecolor\": \"#2a3f5f\", \"gridcolor\": \"white\", \"linecolor\": \"white\", \"minorgridcolor\": \"white\", \"startlinecolor\": \"#2a3f5f\"}, \"baxis\": {\"endlinecolor\": \"#2a3f5f\", \"gridcolor\": \"white\", \"linecolor\": \"white\", \"minorgridcolor\": \"white\", \"startlinecolor\": \"#2a3f5f\"}, \"type\": \"carpet\"}], \"choropleth\": [{\"colorbar\": {\"outlinewidth\": 0, \"ticks\": \"\"}, \"type\": \"choropleth\"}], \"contour\": [{\"colorbar\": {\"outlinewidth\": 0, \"ticks\": \"\"}, \"colorscale\": [[0.0, \"#0d0887\"], [0.1111111111111111, \"#46039f\"], [0.2222222222222222, \"#7201a8\"], [0.3333333333333333, \"#9c179e\"], [0.4444444444444444, \"#bd3786\"], [0.5555555555555556, \"#d8576b\"], [0.6666666666666666, \"#ed7953\"], [0.7777777777777778, \"#fb9f3a\"], [0.8888888888888888, \"#fdca26\"], [1.0, \"#f0f921\"]], \"type\": \"contour\"}], \"contourcarpet\": [{\"colorbar\": {\"outlinewidth\": 0, \"ticks\": \"\"}, \"type\": \"contourcarpet\"}], \"heatmap\": [{\"colorbar\": {\"outlinewidth\": 0, \"ticks\": \"\"}, \"colorscale\": [[0.0, \"#0d0887\"], [0.1111111111111111, \"#46039f\"], [0.2222222222222222, \"#7201a8\"], [0.3333333333333333, \"#9c179e\"], [0.4444444444444444, \"#bd3786\"], [0.5555555555555556, \"#d8576b\"], [0.6666666666666666, \"#ed7953\"], [0.7777777777777778, \"#fb9f3a\"], [0.8888888888888888, \"#fdca26\"], [1.0, \"#f0f921\"]], \"type\": \"heatmap\"}], \"heatmapgl\": [{\"colorbar\": {\"outlinewidth\": 0, \"ticks\": \"\"}, \"colorscale\": [[0.0, \"#0d0887\"], [0.1111111111111111, \"#46039f\"], [0.2222222222222222, \"#7201a8\"], [0.3333333333333333, \"#9c179e\"], [0.4444444444444444, \"#bd3786\"], [0.5555555555555556, \"#d8576b\"], [0.6666666666666666, \"#ed7953\"], [0.7777777777777778, \"#fb9f3a\"], [0.8888888888888888, \"#fdca26\"], [1.0, \"#f0f921\"]], \"type\": \"heatmapgl\"}], \"histogram\": [{\"marker\": {\"colorbar\": {\"outlinewidth\": 0, \"ticks\": \"\"}}, \"type\": \"histogram\"}], \"histogram2d\": [{\"colorbar\": {\"outlinewidth\": 0, \"ticks\": \"\"}, \"colorscale\": [[0.0, \"#0d0887\"], [0.1111111111111111, \"#46039f\"], [0.2222222222222222, \"#7201a8\"], [0.3333333333333333, \"#9c179e\"], [0.4444444444444444, \"#bd3786\"], [0.5555555555555556, \"#d8576b\"], [0.6666666666666666, \"#ed7953\"], [0.7777777777777778, \"#fb9f3a\"], [0.8888888888888888, \"#fdca26\"], [1.0, \"#f0f921\"]], \"type\": \"histogram2d\"}], \"histogram2dcontour\": [{\"colorbar\": {\"outlinewidth\": 0, \"ticks\": \"\"}, \"colorscale\": [[0.0, \"#0d0887\"], [0.1111111111111111, \"#46039f\"], [0.2222222222222222, \"#7201a8\"], [0.3333333333333333, \"#9c179e\"], [0.4444444444444444, \"#bd3786\"], [0.5555555555555556, \"#d8576b\"], [0.6666666666666666, \"#ed7953\"], [0.7777777777777778, \"#fb9f3a\"], [0.8888888888888888, \"#fdca26\"], [1.0, \"#f0f921\"]], \"type\": \"histogram2dcontour\"}], \"mesh3d\": [{\"colorbar\": {\"outlinewidth\": 0, \"ticks\": \"\"}, \"type\": \"mesh3d\"}], \"parcoords\": [{\"line\": {\"colorbar\": {\"outlinewidth\": 0, \"ticks\": \"\"}}, \"type\": \"parcoords\"}], \"scatter\": [{\"marker\": {\"colorbar\": {\"outlinewidth\": 0, \"ticks\": \"\"}}, \"type\": \"scatter\"}], \"scatter3d\": [{\"line\": {\"colorbar\": {\"outlinewidth\": 0, \"ticks\": \"\"}}, \"marker\": {\"colorbar\": {\"outlinewidth\": 0, \"ticks\": \"\"}}, \"type\": \"scatter3d\"}], \"scattercarpet\": [{\"marker\": {\"colorbar\": {\"outlinewidth\": 0, \"ticks\": \"\"}}, \"type\": \"scattercarpet\"}], \"scattergeo\": [{\"marker\": {\"colorbar\": {\"outlinewidth\": 0, \"ticks\": \"\"}}, \"type\": \"scattergeo\"}], \"scattergl\": [{\"marker\": {\"colorbar\": {\"outlinewidth\": 0, \"ticks\": \"\"}}, \"type\": \"scattergl\"}], \"scattermapbox\": [{\"marker\": {\"colorbar\": {\"outlinewidth\": 0, \"ticks\": \"\"}}, \"type\": \"scattermapbox\"}], \"scatterpolar\": [{\"marker\": {\"colorbar\": {\"outlinewidth\": 0, \"ticks\": \"\"}}, \"type\": \"scatterpolar\"}], \"scatterpolargl\": [{\"marker\": {\"colorbar\": {\"outlinewidth\": 0, \"ticks\": \"\"}}, \"type\": \"scatterpolargl\"}], \"scatterternary\": [{\"marker\": {\"colorbar\": {\"outlinewidth\": 0, \"ticks\": \"\"}}, \"type\": \"scatterternary\"}], \"surface\": [{\"colorbar\": {\"outlinewidth\": 0, \"ticks\": \"\"}, \"colorscale\": [[0.0, \"#0d0887\"], [0.1111111111111111, \"#46039f\"], [0.2222222222222222, \"#7201a8\"], [0.3333333333333333, \"#9c179e\"], [0.4444444444444444, \"#bd3786\"], [0.5555555555555556, \"#d8576b\"], [0.6666666666666666, \"#ed7953\"], [0.7777777777777778, \"#fb9f3a\"], [0.8888888888888888, \"#fdca26\"], [1.0, \"#f0f921\"]], \"type\": \"surface\"}], \"table\": [{\"cells\": {\"fill\": {\"color\": \"#EBF0F8\"}, \"line\": {\"color\": \"white\"}}, \"header\": {\"fill\": {\"color\": \"#C8D4E3\"}, \"line\": {\"color\": \"white\"}}, \"type\": \"table\"}]}, \"layout\": {\"annotationdefaults\": {\"arrowcolor\": \"#2a3f5f\", \"arrowhead\": 0, \"arrowwidth\": 1}, \"colorscale\": {\"diverging\": [[0, \"#8e0152\"], [0.1, \"#c51b7d\"], [0.2, \"#de77ae\"], [0.3, \"#f1b6da\"], [0.4, \"#fde0ef\"], [0.5, \"#f7f7f7\"], [0.6, \"#e6f5d0\"], [0.7, \"#b8e186\"], [0.8, \"#7fbc41\"], [0.9, \"#4d9221\"], [1, \"#276419\"]], \"sequential\": [[0.0, \"#0d0887\"], [0.1111111111111111, \"#46039f\"], [0.2222222222222222, \"#7201a8\"], [0.3333333333333333, \"#9c179e\"], [0.4444444444444444, \"#bd3786\"], [0.5555555555555556, \"#d8576b\"], [0.6666666666666666, \"#ed7953\"], [0.7777777777777778, \"#fb9f3a\"], [0.8888888888888888, \"#fdca26\"], [1.0, \"#f0f921\"]], \"sequentialminus\": [[0.0, \"#0d0887\"], [0.1111111111111111, \"#46039f\"], [0.2222222222222222, \"#7201a8\"], [0.3333333333333333, \"#9c179e\"], [0.4444444444444444, \"#bd3786\"], [0.5555555555555556, \"#d8576b\"], [0.6666666666666666, \"#ed7953\"], [0.7777777777777778, \"#fb9f3a\"], [0.8888888888888888, \"#fdca26\"], [1.0, \"#f0f921\"]]}, \"colorway\": [\"#636efa\", \"#EF553B\", \"#00cc96\", \"#ab63fa\", \"#FFA15A\", \"#19d3f3\", \"#FF6692\", \"#B6E880\", \"#FF97FF\", \"#FECB52\"], \"font\": {\"color\": \"#2a3f5f\"}, \"geo\": {\"bgcolor\": \"white\", \"lakecolor\": \"white\", \"landcolor\": \"#E5ECF6\", \"showlakes\": true, \"showland\": true, \"subunitcolor\": \"white\"}, \"hoverlabel\": {\"align\": \"left\"}, \"hovermode\": \"closest\", \"mapbox\": {\"style\": \"light\"}, \"paper_bgcolor\": \"white\", \"plot_bgcolor\": \"#E5ECF6\", \"polar\": {\"angularaxis\": {\"gridcolor\": \"white\", \"linecolor\": \"white\", \"ticks\": \"\"}, \"bgcolor\": \"#E5ECF6\", \"radialaxis\": {\"gridcolor\": \"white\", \"linecolor\": \"white\", \"ticks\": \"\"}}, \"scene\": {\"xaxis\": {\"backgroundcolor\": \"#E5ECF6\", \"gridcolor\": \"white\", \"gridwidth\": 2, \"linecolor\": \"white\", \"showbackground\": true, \"ticks\": \"\", \"zerolinecolor\": \"white\"}, \"yaxis\": {\"backgroundcolor\": \"#E5ECF6\", \"gridcolor\": \"white\", \"gridwidth\": 2, \"linecolor\": \"white\", \"showbackground\": true, \"ticks\": \"\", \"zerolinecolor\": \"white\"}, \"zaxis\": {\"backgroundcolor\": \"#E5ECF6\", \"gridcolor\": \"white\", \"gridwidth\": 2, \"linecolor\": \"white\", \"showbackground\": true, \"ticks\": \"\", \"zerolinecolor\": \"white\"}}, \"shapedefaults\": {\"line\": {\"color\": \"#2a3f5f\"}}, \"ternary\": {\"aaxis\": {\"gridcolor\": \"white\", \"linecolor\": \"white\", \"ticks\": \"\"}, \"baxis\": {\"gridcolor\": \"white\", \"linecolor\": \"white\", \"ticks\": \"\"}, \"bgcolor\": \"#E5ECF6\", \"caxis\": {\"gridcolor\": \"white\", \"linecolor\": \"white\", \"ticks\": \"\"}}, \"title\": {\"x\": 0.05}, \"xaxis\": {\"automargin\": true, \"gridcolor\": \"white\", \"linecolor\": \"white\", \"ticks\": \"\", \"zerolinecolor\": \"white\", \"zerolinewidth\": 2}, \"yaxis\": {\"automargin\": true, \"gridcolor\": \"white\", \"linecolor\": \"white\", \"ticks\": \"\", \"zerolinecolor\": \"white\", \"zerolinewidth\": 2}}}},\n",
       "                        {\"responsive\": true}\n",
       "                    ).then(function(){\n",
       "                            \n",
       "var gd = document.getElementById('0cfea129-2a47-4ca5-beee-8294fef2e7f7');\n",
       "var x = new MutationObserver(function (mutations, observer) {{\n",
       "        var display = window.getComputedStyle(gd).display;\n",
       "        if (!display || display === 'none') {{\n",
       "            console.log([gd, 'removed!']);\n",
       "            Plotly.purge(gd);\n",
       "            observer.disconnect();\n",
       "        }}\n",
       "}});\n",
       "\n",
       "// Listen for the removal of the full notebook cells\n",
       "var notebookContainer = gd.closest('#notebook-container');\n",
       "if (notebookContainer) {{\n",
       "    x.observe(notebookContainer, {childList: true});\n",
       "}}\n",
       "\n",
       "// Listen for the clearing of the current output cell\n",
       "var outputEl = gd.closest('.output');\n",
       "if (outputEl) {{\n",
       "    x.observe(outputEl, {childList: true});\n",
       "}}\n",
       "\n",
       "                        })\n",
       "                };\n",
       "                });\n",
       "            </script>\n",
       "        </div>"
      ]
     },
     "metadata": {},
     "output_type": "display_data"
    }
   ],
   "source": [
    "# Cluster 0 - \"gentrified\"\n",
    "import plotly.graph_objects as go\n",
    "\n",
    "categories=['% Change in Household Income','% Change in Median Home Value','% Change in Median Rent', \n",
    "         '% Change in Owner Occupied Housing', '% Change in Non-White Population',\n",
    "         '% Change in Population with College Degree']\n",
    "fig = go.Figure()\n",
    "\n",
    "fig.add_trace(go.Scatterpolar(\n",
    "      r=[8.20,76.14,54.41,6.23,28.04,36.73],\n",
    "      theta=categories,\n",
    "      name='Baseline, County Avg. (n=191)',\n",
    "      marker={\n",
    "        'color':'orange'\n",
    "    }\n",
    "))\n",
    "\n",
    "fig.add_trace(go.Scatterpolar(\n",
    "  r=[29.95,87.36,69.79,28.49,11.23,129.64],\n",
    "  theta=categories,\n",
    "    name='Cluster 1: Gentrifying (n=31)'\n",
    "))\n",
    "\n",
    "fig.add_trace(go.Scatterpolar(\n",
    "      r=[-12.11,72.58,40.70,-7.45,22.16,2.05],\n",
    "      theta=categories,\n",
    "      name='Cluster 2: Becoming more affordable (n=77)'\n",
    "))\n",
    "fig.add_trace(go.Scatterpolar(\n",
    "      r=[19.24,81.35,61.29,7.34,40.02,34.12],\n",
    "      theta=categories,\n",
    "      name='Cluster 3: Remaining costly (n=82)'\n",
    "))\n",
    "fig.update_layout(\n",
    "    legend_orientation=\"h\",\n",
    "    legend={'x':-.1,'y':1.2\n",
    "        \n",
    "    },\n",
    "  polar=dict(\n",
    "    radialaxis=dict(\n",
    "      visible=True,\n",
    "    ),\n",
    "\n",
    "  ),\n",
    "  showlegend=True,\n",
    "   \n",
    ")\n",
    "\n",
    "fig.show()\n",
    "legend=dict(x=0, y=1.2)"
   ]
  },
  {
   "cell_type": "code",
   "execution_count": 617,
   "metadata": {},
   "outputs": [
    {
     "data": {
      "application/vnd.plotly.v1+json": {
       "config": {
        "plotlyServerURL": "https://plot.ly"
       },
       "data": [
        {
         "name": "Cluster 2 (n=)",
         "r": [
          -12.11,
          72.58,
          40.7,
          -7.45,
          22.16,
          2.05
         ],
         "theta": [
          "% Change in Household Income",
          "% Change in Median Home Value",
          "% Change in Median Rent",
          "% Change in Owner Occupied Housing",
          "% Change in Non-White Population",
          "% Change in Population with College Degree"
         ],
         "type": "scatterpolar"
        },
        {
         "name": "Cluster 2: Affordable (n=77)",
         "r": [
          8.2,
          76.14,
          54.41,
          6.23,
          28.04,
          36.73
         ],
         "theta": [
          "% Change in Household Income",
          "% Change in Median Home Value",
          "% Change in Median Rent",
          "% Change in Owner Occupied Housing",
          "% Change in Non-White Population",
          "% Change in Population with College Degree"
         ],
         "type": "scatterpolar"
        }
       ],
       "layout": {
        "polar": {
         "radialaxis": {
          "range": [
           -10,
           120
          ],
          "visible": true
         }
        },
        "showlegend": true,
        "template": {
         "data": {
          "bar": [
           {
            "error_x": {
             "color": "#2a3f5f"
            },
            "error_y": {
             "color": "#2a3f5f"
            },
            "marker": {
             "line": {
              "color": "#E5ECF6",
              "width": 0.5
             }
            },
            "type": "bar"
           }
          ],
          "barpolar": [
           {
            "marker": {
             "line": {
              "color": "#E5ECF6",
              "width": 0.5
             }
            },
            "type": "barpolar"
           }
          ],
          "carpet": [
           {
            "aaxis": {
             "endlinecolor": "#2a3f5f",
             "gridcolor": "white",
             "linecolor": "white",
             "minorgridcolor": "white",
             "startlinecolor": "#2a3f5f"
            },
            "baxis": {
             "endlinecolor": "#2a3f5f",
             "gridcolor": "white",
             "linecolor": "white",
             "minorgridcolor": "white",
             "startlinecolor": "#2a3f5f"
            },
            "type": "carpet"
           }
          ],
          "choropleth": [
           {
            "colorbar": {
             "outlinewidth": 0,
             "ticks": ""
            },
            "type": "choropleth"
           }
          ],
          "contour": [
           {
            "colorbar": {
             "outlinewidth": 0,
             "ticks": ""
            },
            "colorscale": [
             [
              0,
              "#0d0887"
             ],
             [
              0.1111111111111111,
              "#46039f"
             ],
             [
              0.2222222222222222,
              "#7201a8"
             ],
             [
              0.3333333333333333,
              "#9c179e"
             ],
             [
              0.4444444444444444,
              "#bd3786"
             ],
             [
              0.5555555555555556,
              "#d8576b"
             ],
             [
              0.6666666666666666,
              "#ed7953"
             ],
             [
              0.7777777777777778,
              "#fb9f3a"
             ],
             [
              0.8888888888888888,
              "#fdca26"
             ],
             [
              1,
              "#f0f921"
             ]
            ],
            "type": "contour"
           }
          ],
          "contourcarpet": [
           {
            "colorbar": {
             "outlinewidth": 0,
             "ticks": ""
            },
            "type": "contourcarpet"
           }
          ],
          "heatmap": [
           {
            "colorbar": {
             "outlinewidth": 0,
             "ticks": ""
            },
            "colorscale": [
             [
              0,
              "#0d0887"
             ],
             [
              0.1111111111111111,
              "#46039f"
             ],
             [
              0.2222222222222222,
              "#7201a8"
             ],
             [
              0.3333333333333333,
              "#9c179e"
             ],
             [
              0.4444444444444444,
              "#bd3786"
             ],
             [
              0.5555555555555556,
              "#d8576b"
             ],
             [
              0.6666666666666666,
              "#ed7953"
             ],
             [
              0.7777777777777778,
              "#fb9f3a"
             ],
             [
              0.8888888888888888,
              "#fdca26"
             ],
             [
              1,
              "#f0f921"
             ]
            ],
            "type": "heatmap"
           }
          ],
          "heatmapgl": [
           {
            "colorbar": {
             "outlinewidth": 0,
             "ticks": ""
            },
            "colorscale": [
             [
              0,
              "#0d0887"
             ],
             [
              0.1111111111111111,
              "#46039f"
             ],
             [
              0.2222222222222222,
              "#7201a8"
             ],
             [
              0.3333333333333333,
              "#9c179e"
             ],
             [
              0.4444444444444444,
              "#bd3786"
             ],
             [
              0.5555555555555556,
              "#d8576b"
             ],
             [
              0.6666666666666666,
              "#ed7953"
             ],
             [
              0.7777777777777778,
              "#fb9f3a"
             ],
             [
              0.8888888888888888,
              "#fdca26"
             ],
             [
              1,
              "#f0f921"
             ]
            ],
            "type": "heatmapgl"
           }
          ],
          "histogram": [
           {
            "marker": {
             "colorbar": {
              "outlinewidth": 0,
              "ticks": ""
             }
            },
            "type": "histogram"
           }
          ],
          "histogram2d": [
           {
            "colorbar": {
             "outlinewidth": 0,
             "ticks": ""
            },
            "colorscale": [
             [
              0,
              "#0d0887"
             ],
             [
              0.1111111111111111,
              "#46039f"
             ],
             [
              0.2222222222222222,
              "#7201a8"
             ],
             [
              0.3333333333333333,
              "#9c179e"
             ],
             [
              0.4444444444444444,
              "#bd3786"
             ],
             [
              0.5555555555555556,
              "#d8576b"
             ],
             [
              0.6666666666666666,
              "#ed7953"
             ],
             [
              0.7777777777777778,
              "#fb9f3a"
             ],
             [
              0.8888888888888888,
              "#fdca26"
             ],
             [
              1,
              "#f0f921"
             ]
            ],
            "type": "histogram2d"
           }
          ],
          "histogram2dcontour": [
           {
            "colorbar": {
             "outlinewidth": 0,
             "ticks": ""
            },
            "colorscale": [
             [
              0,
              "#0d0887"
             ],
             [
              0.1111111111111111,
              "#46039f"
             ],
             [
              0.2222222222222222,
              "#7201a8"
             ],
             [
              0.3333333333333333,
              "#9c179e"
             ],
             [
              0.4444444444444444,
              "#bd3786"
             ],
             [
              0.5555555555555556,
              "#d8576b"
             ],
             [
              0.6666666666666666,
              "#ed7953"
             ],
             [
              0.7777777777777778,
              "#fb9f3a"
             ],
             [
              0.8888888888888888,
              "#fdca26"
             ],
             [
              1,
              "#f0f921"
             ]
            ],
            "type": "histogram2dcontour"
           }
          ],
          "mesh3d": [
           {
            "colorbar": {
             "outlinewidth": 0,
             "ticks": ""
            },
            "type": "mesh3d"
           }
          ],
          "parcoords": [
           {
            "line": {
             "colorbar": {
              "outlinewidth": 0,
              "ticks": ""
             }
            },
            "type": "parcoords"
           }
          ],
          "scatter": [
           {
            "marker": {
             "colorbar": {
              "outlinewidth": 0,
              "ticks": ""
             }
            },
            "type": "scatter"
           }
          ],
          "scatter3d": [
           {
            "line": {
             "colorbar": {
              "outlinewidth": 0,
              "ticks": ""
             }
            },
            "marker": {
             "colorbar": {
              "outlinewidth": 0,
              "ticks": ""
             }
            },
            "type": "scatter3d"
           }
          ],
          "scattercarpet": [
           {
            "marker": {
             "colorbar": {
              "outlinewidth": 0,
              "ticks": ""
             }
            },
            "type": "scattercarpet"
           }
          ],
          "scattergeo": [
           {
            "marker": {
             "colorbar": {
              "outlinewidth": 0,
              "ticks": ""
             }
            },
            "type": "scattergeo"
           }
          ],
          "scattergl": [
           {
            "marker": {
             "colorbar": {
              "outlinewidth": 0,
              "ticks": ""
             }
            },
            "type": "scattergl"
           }
          ],
          "scattermapbox": [
           {
            "marker": {
             "colorbar": {
              "outlinewidth": 0,
              "ticks": ""
             }
            },
            "type": "scattermapbox"
           }
          ],
          "scatterpolar": [
           {
            "marker": {
             "colorbar": {
              "outlinewidth": 0,
              "ticks": ""
             }
            },
            "type": "scatterpolar"
           }
          ],
          "scatterpolargl": [
           {
            "marker": {
             "colorbar": {
              "outlinewidth": 0,
              "ticks": ""
             }
            },
            "type": "scatterpolargl"
           }
          ],
          "scatterternary": [
           {
            "marker": {
             "colorbar": {
              "outlinewidth": 0,
              "ticks": ""
             }
            },
            "type": "scatterternary"
           }
          ],
          "surface": [
           {
            "colorbar": {
             "outlinewidth": 0,
             "ticks": ""
            },
            "colorscale": [
             [
              0,
              "#0d0887"
             ],
             [
              0.1111111111111111,
              "#46039f"
             ],
             [
              0.2222222222222222,
              "#7201a8"
             ],
             [
              0.3333333333333333,
              "#9c179e"
             ],
             [
              0.4444444444444444,
              "#bd3786"
             ],
             [
              0.5555555555555556,
              "#d8576b"
             ],
             [
              0.6666666666666666,
              "#ed7953"
             ],
             [
              0.7777777777777778,
              "#fb9f3a"
             ],
             [
              0.8888888888888888,
              "#fdca26"
             ],
             [
              1,
              "#f0f921"
             ]
            ],
            "type": "surface"
           }
          ],
          "table": [
           {
            "cells": {
             "fill": {
              "color": "#EBF0F8"
             },
             "line": {
              "color": "white"
             }
            },
            "header": {
             "fill": {
              "color": "#C8D4E3"
             },
             "line": {
              "color": "white"
             }
            },
            "type": "table"
           }
          ]
         },
         "layout": {
          "annotationdefaults": {
           "arrowcolor": "#2a3f5f",
           "arrowhead": 0,
           "arrowwidth": 1
          },
          "colorscale": {
           "diverging": [
            [
             0,
             "#8e0152"
            ],
            [
             0.1,
             "#c51b7d"
            ],
            [
             0.2,
             "#de77ae"
            ],
            [
             0.3,
             "#f1b6da"
            ],
            [
             0.4,
             "#fde0ef"
            ],
            [
             0.5,
             "#f7f7f7"
            ],
            [
             0.6,
             "#e6f5d0"
            ],
            [
             0.7,
             "#b8e186"
            ],
            [
             0.8,
             "#7fbc41"
            ],
            [
             0.9,
             "#4d9221"
            ],
            [
             1,
             "#276419"
            ]
           ],
           "sequential": [
            [
             0,
             "#0d0887"
            ],
            [
             0.1111111111111111,
             "#46039f"
            ],
            [
             0.2222222222222222,
             "#7201a8"
            ],
            [
             0.3333333333333333,
             "#9c179e"
            ],
            [
             0.4444444444444444,
             "#bd3786"
            ],
            [
             0.5555555555555556,
             "#d8576b"
            ],
            [
             0.6666666666666666,
             "#ed7953"
            ],
            [
             0.7777777777777778,
             "#fb9f3a"
            ],
            [
             0.8888888888888888,
             "#fdca26"
            ],
            [
             1,
             "#f0f921"
            ]
           ],
           "sequentialminus": [
            [
             0,
             "#0d0887"
            ],
            [
             0.1111111111111111,
             "#46039f"
            ],
            [
             0.2222222222222222,
             "#7201a8"
            ],
            [
             0.3333333333333333,
             "#9c179e"
            ],
            [
             0.4444444444444444,
             "#bd3786"
            ],
            [
             0.5555555555555556,
             "#d8576b"
            ],
            [
             0.6666666666666666,
             "#ed7953"
            ],
            [
             0.7777777777777778,
             "#fb9f3a"
            ],
            [
             0.8888888888888888,
             "#fdca26"
            ],
            [
             1,
             "#f0f921"
            ]
           ]
          },
          "colorway": [
           "#636efa",
           "#EF553B",
           "#00cc96",
           "#ab63fa",
           "#FFA15A",
           "#19d3f3",
           "#FF6692",
           "#B6E880",
           "#FF97FF",
           "#FECB52"
          ],
          "font": {
           "color": "#2a3f5f"
          },
          "geo": {
           "bgcolor": "white",
           "lakecolor": "white",
           "landcolor": "#E5ECF6",
           "showlakes": true,
           "showland": true,
           "subunitcolor": "white"
          },
          "hoverlabel": {
           "align": "left"
          },
          "hovermode": "closest",
          "mapbox": {
           "style": "light"
          },
          "paper_bgcolor": "white",
          "plot_bgcolor": "#E5ECF6",
          "polar": {
           "angularaxis": {
            "gridcolor": "white",
            "linecolor": "white",
            "ticks": ""
           },
           "bgcolor": "#E5ECF6",
           "radialaxis": {
            "gridcolor": "white",
            "linecolor": "white",
            "ticks": ""
           }
          },
          "scene": {
           "xaxis": {
            "backgroundcolor": "#E5ECF6",
            "gridcolor": "white",
            "gridwidth": 2,
            "linecolor": "white",
            "showbackground": true,
            "ticks": "",
            "zerolinecolor": "white"
           },
           "yaxis": {
            "backgroundcolor": "#E5ECF6",
            "gridcolor": "white",
            "gridwidth": 2,
            "linecolor": "white",
            "showbackground": true,
            "ticks": "",
            "zerolinecolor": "white"
           },
           "zaxis": {
            "backgroundcolor": "#E5ECF6",
            "gridcolor": "white",
            "gridwidth": 2,
            "linecolor": "white",
            "showbackground": true,
            "ticks": "",
            "zerolinecolor": "white"
           }
          },
          "shapedefaults": {
           "line": {
            "color": "#2a3f5f"
           }
          },
          "ternary": {
           "aaxis": {
            "gridcolor": "white",
            "linecolor": "white",
            "ticks": ""
           },
           "baxis": {
            "gridcolor": "white",
            "linecolor": "white",
            "ticks": ""
           },
           "bgcolor": "#E5ECF6",
           "caxis": {
            "gridcolor": "white",
            "linecolor": "white",
            "ticks": ""
           }
          },
          "title": {
           "x": 0.05
          },
          "xaxis": {
           "automargin": true,
           "gridcolor": "white",
           "linecolor": "white",
           "ticks": "",
           "zerolinecolor": "white",
           "zerolinewidth": 2
          },
          "yaxis": {
           "automargin": true,
           "gridcolor": "white",
           "linecolor": "white",
           "ticks": "",
           "zerolinecolor": "white",
           "zerolinewidth": 2
          }
         }
        }
       }
      },
      "text/html": [
       "<div>\n",
       "        \n",
       "        \n",
       "            <div id=\"2768cd0f-dc89-47c4-93d2-be611174d289\" class=\"plotly-graph-div\" style=\"height:525px; width:100%;\"></div>\n",
       "            <script type=\"text/javascript\">\n",
       "                require([\"plotly\"], function(Plotly) {\n",
       "                    window.PLOTLYENV=window.PLOTLYENV || {};\n",
       "                    \n",
       "                if (document.getElementById(\"2768cd0f-dc89-47c4-93d2-be611174d289\")) {\n",
       "                    Plotly.newPlot(\n",
       "                        '2768cd0f-dc89-47c4-93d2-be611174d289',\n",
       "                        [{\"name\": \"Cluster 2 (n=)\", \"r\": [-12.11, 72.58, 40.7, -7.45, 22.16, 2.05], \"theta\": [\"% Change in Household Income\", \"% Change in Median Home Value\", \"% Change in Median Rent\", \"% Change in Owner Occupied Housing\", \"% Change in Non-White Population\", \"% Change in Population with College Degree\"], \"type\": \"scatterpolar\"}, {\"name\": \"Cluster 2: Affordable (n=77)\", \"r\": [8.2, 76.14, 54.41, 6.23, 28.04, 36.73], \"theta\": [\"% Change in Household Income\", \"% Change in Median Home Value\", \"% Change in Median Rent\", \"% Change in Owner Occupied Housing\", \"% Change in Non-White Population\", \"% Change in Population with College Degree\"], \"type\": \"scatterpolar\"}],\n",
       "                        {\"polar\": {\"radialaxis\": {\"range\": [-10, 120], \"visible\": true}}, \"showlegend\": true, \"template\": {\"data\": {\"bar\": [{\"error_x\": {\"color\": \"#2a3f5f\"}, \"error_y\": {\"color\": \"#2a3f5f\"}, \"marker\": {\"line\": {\"color\": \"#E5ECF6\", \"width\": 0.5}}, \"type\": \"bar\"}], \"barpolar\": [{\"marker\": {\"line\": {\"color\": \"#E5ECF6\", \"width\": 0.5}}, \"type\": \"barpolar\"}], \"carpet\": [{\"aaxis\": {\"endlinecolor\": \"#2a3f5f\", \"gridcolor\": \"white\", \"linecolor\": \"white\", \"minorgridcolor\": \"white\", \"startlinecolor\": \"#2a3f5f\"}, \"baxis\": {\"endlinecolor\": \"#2a3f5f\", \"gridcolor\": \"white\", \"linecolor\": \"white\", \"minorgridcolor\": \"white\", \"startlinecolor\": \"#2a3f5f\"}, \"type\": \"carpet\"}], \"choropleth\": [{\"colorbar\": {\"outlinewidth\": 0, \"ticks\": \"\"}, \"type\": \"choropleth\"}], \"contour\": [{\"colorbar\": {\"outlinewidth\": 0, \"ticks\": \"\"}, \"colorscale\": [[0.0, \"#0d0887\"], [0.1111111111111111, \"#46039f\"], [0.2222222222222222, \"#7201a8\"], [0.3333333333333333, \"#9c179e\"], [0.4444444444444444, \"#bd3786\"], [0.5555555555555556, \"#d8576b\"], [0.6666666666666666, \"#ed7953\"], [0.7777777777777778, \"#fb9f3a\"], [0.8888888888888888, \"#fdca26\"], [1.0, \"#f0f921\"]], \"type\": \"contour\"}], \"contourcarpet\": [{\"colorbar\": {\"outlinewidth\": 0, \"ticks\": \"\"}, \"type\": \"contourcarpet\"}], \"heatmap\": [{\"colorbar\": {\"outlinewidth\": 0, \"ticks\": \"\"}, \"colorscale\": [[0.0, \"#0d0887\"], [0.1111111111111111, \"#46039f\"], [0.2222222222222222, \"#7201a8\"], [0.3333333333333333, \"#9c179e\"], [0.4444444444444444, \"#bd3786\"], [0.5555555555555556, \"#d8576b\"], [0.6666666666666666, \"#ed7953\"], [0.7777777777777778, \"#fb9f3a\"], [0.8888888888888888, \"#fdca26\"], [1.0, \"#f0f921\"]], \"type\": \"heatmap\"}], \"heatmapgl\": [{\"colorbar\": {\"outlinewidth\": 0, \"ticks\": \"\"}, \"colorscale\": [[0.0, \"#0d0887\"], [0.1111111111111111, \"#46039f\"], [0.2222222222222222, \"#7201a8\"], [0.3333333333333333, \"#9c179e\"], [0.4444444444444444, \"#bd3786\"], [0.5555555555555556, \"#d8576b\"], [0.6666666666666666, \"#ed7953\"], [0.7777777777777778, \"#fb9f3a\"], [0.8888888888888888, \"#fdca26\"], [1.0, \"#f0f921\"]], \"type\": \"heatmapgl\"}], \"histogram\": [{\"marker\": {\"colorbar\": {\"outlinewidth\": 0, \"ticks\": \"\"}}, \"type\": \"histogram\"}], \"histogram2d\": [{\"colorbar\": {\"outlinewidth\": 0, \"ticks\": \"\"}, \"colorscale\": [[0.0, \"#0d0887\"], [0.1111111111111111, \"#46039f\"], [0.2222222222222222, \"#7201a8\"], [0.3333333333333333, \"#9c179e\"], [0.4444444444444444, \"#bd3786\"], [0.5555555555555556, \"#d8576b\"], [0.6666666666666666, \"#ed7953\"], [0.7777777777777778, \"#fb9f3a\"], [0.8888888888888888, \"#fdca26\"], [1.0, \"#f0f921\"]], \"type\": \"histogram2d\"}], \"histogram2dcontour\": [{\"colorbar\": {\"outlinewidth\": 0, \"ticks\": \"\"}, \"colorscale\": [[0.0, \"#0d0887\"], [0.1111111111111111, \"#46039f\"], [0.2222222222222222, \"#7201a8\"], [0.3333333333333333, \"#9c179e\"], [0.4444444444444444, \"#bd3786\"], [0.5555555555555556, \"#d8576b\"], [0.6666666666666666, \"#ed7953\"], [0.7777777777777778, \"#fb9f3a\"], [0.8888888888888888, \"#fdca26\"], [1.0, \"#f0f921\"]], \"type\": \"histogram2dcontour\"}], \"mesh3d\": [{\"colorbar\": {\"outlinewidth\": 0, \"ticks\": \"\"}, \"type\": \"mesh3d\"}], \"parcoords\": [{\"line\": {\"colorbar\": {\"outlinewidth\": 0, \"ticks\": \"\"}}, \"type\": \"parcoords\"}], \"scatter\": [{\"marker\": {\"colorbar\": {\"outlinewidth\": 0, \"ticks\": \"\"}}, \"type\": \"scatter\"}], \"scatter3d\": [{\"line\": {\"colorbar\": {\"outlinewidth\": 0, \"ticks\": \"\"}}, \"marker\": {\"colorbar\": {\"outlinewidth\": 0, \"ticks\": \"\"}}, \"type\": \"scatter3d\"}], \"scattercarpet\": [{\"marker\": {\"colorbar\": {\"outlinewidth\": 0, \"ticks\": \"\"}}, \"type\": \"scattercarpet\"}], \"scattergeo\": [{\"marker\": {\"colorbar\": {\"outlinewidth\": 0, \"ticks\": \"\"}}, \"type\": \"scattergeo\"}], \"scattergl\": [{\"marker\": {\"colorbar\": {\"outlinewidth\": 0, \"ticks\": \"\"}}, \"type\": \"scattergl\"}], \"scattermapbox\": [{\"marker\": {\"colorbar\": {\"outlinewidth\": 0, \"ticks\": \"\"}}, \"type\": \"scattermapbox\"}], \"scatterpolar\": [{\"marker\": {\"colorbar\": {\"outlinewidth\": 0, \"ticks\": \"\"}}, \"type\": \"scatterpolar\"}], \"scatterpolargl\": [{\"marker\": {\"colorbar\": {\"outlinewidth\": 0, \"ticks\": \"\"}}, \"type\": \"scatterpolargl\"}], \"scatterternary\": [{\"marker\": {\"colorbar\": {\"outlinewidth\": 0, \"ticks\": \"\"}}, \"type\": \"scatterternary\"}], \"surface\": [{\"colorbar\": {\"outlinewidth\": 0, \"ticks\": \"\"}, \"colorscale\": [[0.0, \"#0d0887\"], [0.1111111111111111, \"#46039f\"], [0.2222222222222222, \"#7201a8\"], [0.3333333333333333, \"#9c179e\"], [0.4444444444444444, \"#bd3786\"], [0.5555555555555556, \"#d8576b\"], [0.6666666666666666, \"#ed7953\"], [0.7777777777777778, \"#fb9f3a\"], [0.8888888888888888, \"#fdca26\"], [1.0, \"#f0f921\"]], \"type\": \"surface\"}], \"table\": [{\"cells\": {\"fill\": {\"color\": \"#EBF0F8\"}, \"line\": {\"color\": \"white\"}}, \"header\": {\"fill\": {\"color\": \"#C8D4E3\"}, \"line\": {\"color\": \"white\"}}, \"type\": \"table\"}]}, \"layout\": {\"annotationdefaults\": {\"arrowcolor\": \"#2a3f5f\", \"arrowhead\": 0, \"arrowwidth\": 1}, \"colorscale\": {\"diverging\": [[0, \"#8e0152\"], [0.1, \"#c51b7d\"], [0.2, \"#de77ae\"], [0.3, \"#f1b6da\"], [0.4, \"#fde0ef\"], [0.5, \"#f7f7f7\"], [0.6, \"#e6f5d0\"], [0.7, \"#b8e186\"], [0.8, \"#7fbc41\"], [0.9, \"#4d9221\"], [1, \"#276419\"]], \"sequential\": [[0.0, \"#0d0887\"], [0.1111111111111111, \"#46039f\"], [0.2222222222222222, \"#7201a8\"], [0.3333333333333333, \"#9c179e\"], [0.4444444444444444, \"#bd3786\"], [0.5555555555555556, \"#d8576b\"], [0.6666666666666666, \"#ed7953\"], [0.7777777777777778, \"#fb9f3a\"], [0.8888888888888888, \"#fdca26\"], [1.0, \"#f0f921\"]], \"sequentialminus\": [[0.0, \"#0d0887\"], [0.1111111111111111, \"#46039f\"], [0.2222222222222222, \"#7201a8\"], [0.3333333333333333, \"#9c179e\"], [0.4444444444444444, \"#bd3786\"], [0.5555555555555556, \"#d8576b\"], [0.6666666666666666, \"#ed7953\"], [0.7777777777777778, \"#fb9f3a\"], [0.8888888888888888, \"#fdca26\"], [1.0, \"#f0f921\"]]}, \"colorway\": [\"#636efa\", \"#EF553B\", \"#00cc96\", \"#ab63fa\", \"#FFA15A\", \"#19d3f3\", \"#FF6692\", \"#B6E880\", \"#FF97FF\", \"#FECB52\"], \"font\": {\"color\": \"#2a3f5f\"}, \"geo\": {\"bgcolor\": \"white\", \"lakecolor\": \"white\", \"landcolor\": \"#E5ECF6\", \"showlakes\": true, \"showland\": true, \"subunitcolor\": \"white\"}, \"hoverlabel\": {\"align\": \"left\"}, \"hovermode\": \"closest\", \"mapbox\": {\"style\": \"light\"}, \"paper_bgcolor\": \"white\", \"plot_bgcolor\": \"#E5ECF6\", \"polar\": {\"angularaxis\": {\"gridcolor\": \"white\", \"linecolor\": \"white\", \"ticks\": \"\"}, \"bgcolor\": \"#E5ECF6\", \"radialaxis\": {\"gridcolor\": \"white\", \"linecolor\": \"white\", \"ticks\": \"\"}}, \"scene\": {\"xaxis\": {\"backgroundcolor\": \"#E5ECF6\", \"gridcolor\": \"white\", \"gridwidth\": 2, \"linecolor\": \"white\", \"showbackground\": true, \"ticks\": \"\", \"zerolinecolor\": \"white\"}, \"yaxis\": {\"backgroundcolor\": \"#E5ECF6\", \"gridcolor\": \"white\", \"gridwidth\": 2, \"linecolor\": \"white\", \"showbackground\": true, \"ticks\": \"\", \"zerolinecolor\": \"white\"}, \"zaxis\": {\"backgroundcolor\": \"#E5ECF6\", \"gridcolor\": \"white\", \"gridwidth\": 2, \"linecolor\": \"white\", \"showbackground\": true, \"ticks\": \"\", \"zerolinecolor\": \"white\"}}, \"shapedefaults\": {\"line\": {\"color\": \"#2a3f5f\"}}, \"ternary\": {\"aaxis\": {\"gridcolor\": \"white\", \"linecolor\": \"white\", \"ticks\": \"\"}, \"baxis\": {\"gridcolor\": \"white\", \"linecolor\": \"white\", \"ticks\": \"\"}, \"bgcolor\": \"#E5ECF6\", \"caxis\": {\"gridcolor\": \"white\", \"linecolor\": \"white\", \"ticks\": \"\"}}, \"title\": {\"x\": 0.05}, \"xaxis\": {\"automargin\": true, \"gridcolor\": \"white\", \"linecolor\": \"white\", \"ticks\": \"\", \"zerolinecolor\": \"white\", \"zerolinewidth\": 2}, \"yaxis\": {\"automargin\": true, \"gridcolor\": \"white\", \"linecolor\": \"white\", \"ticks\": \"\", \"zerolinecolor\": \"white\", \"zerolinewidth\": 2}}}},\n",
       "                        {\"responsive\": true}\n",
       "                    ).then(function(){\n",
       "                            \n",
       "var gd = document.getElementById('2768cd0f-dc89-47c4-93d2-be611174d289');\n",
       "var x = new MutationObserver(function (mutations, observer) {{\n",
       "        var display = window.getComputedStyle(gd).display;\n",
       "        if (!display || display === 'none') {{\n",
       "            console.log([gd, 'removed!']);\n",
       "            Plotly.purge(gd);\n",
       "            observer.disconnect();\n",
       "        }}\n",
       "}});\n",
       "\n",
       "// Listen for the removal of the full notebook cells\n",
       "var notebookContainer = gd.closest('#notebook-container');\n",
       "if (notebookContainer) {{\n",
       "    x.observe(notebookContainer, {childList: true});\n",
       "}}\n",
       "\n",
       "// Listen for the clearing of the current output cell\n",
       "var outputEl = gd.closest('.output');\n",
       "if (outputEl) {{\n",
       "    x.observe(outputEl, {childList: true});\n",
       "}}\n",
       "\n",
       "                        })\n",
       "                };\n",
       "                });\n",
       "            </script>\n",
       "        </div>"
      ]
     },
     "metadata": {},
     "output_type": "display_data"
    }
   ],
   "source": [
    "# Cluster 1-\"affordable/low income\"\n",
    "categories=['% Change in Household Income','% Change in Median Home Value','% Change in Median Rent', \n",
    "         '% Change in Owner Occupied Housing', '% Change in Non-White Population',\n",
    "         '% Change in Population with College Degree']\n",
    "fig = go.Figure()\n",
    "\n",
    "fig.add_trace(go.Scatterpolar(\n",
    "  r=[-12.11,72.58,40.70,-7.45,22.16,2.05],\n",
    "  theta=categories,\n",
    "    name='Cluster 2: Affordable (n=77)'\n",
    "))\n",
    "\n",
    "fig.add_trace(go.Scatterpolar(\n",
    "      r=[8.20,76.14,54.41,6.23,28.04,36.73],\n",
    "      theta=categories,\n",
    "      name='Cluster 2: Affordable (n=77)'\n",
    "))\n",
    "\n",
    "fig.update_layout(\n",
    "  polar=dict(\n",
    "    radialaxis=dict(\n",
    "      visible=True,\n",
    "        range=[-10,120]\n",
    "    ),\n",
    "  ),\n",
    "  showlegend=True\n",
    ")\n",
    "\n",
    "fig.show()\n"
   ]
  },
  {
   "cell_type": "code",
   "execution_count": 618,
   "metadata": {},
   "outputs": [
    {
     "data": {
      "application/vnd.plotly.v1+json": {
       "config": {
        "plotlyServerURL": "https://plot.ly"
       },
       "data": [
        {
         "name": "Cluster 3: Gentrified (n=31)",
         "r": [
          19.24,
          81.35,
          61.29,
          7.34,
          40.02,
          34.12
         ],
         "theta": [
          "% Change in Household Income",
          "% Change in Median Home Value",
          "% Change in Median Rent",
          "% Change in Owner Occupied Housing",
          "% Change in Non-White Population",
          "% Change in Population with College Degree"
         ],
         "type": "scatterpolar"
        },
        {
         "name": "Baseline",
         "r": [
          8.2,
          76.14,
          54.41,
          6.23,
          28.04,
          36.73
         ],
         "theta": [
          "% Change in Household Income",
          "% Change in Median Home Value",
          "% Change in Median Rent",
          "% Change in Owner Occupied Housing",
          "% Change in Non-White Population",
          "% Change in Population with College Degree"
         ],
         "type": "scatterpolar"
        }
       ],
       "layout": {
        "polar": {
         "radialaxis": {
          "visible": true
         }
        },
        "showlegend": false,
        "template": {
         "data": {
          "bar": [
           {
            "error_x": {
             "color": "#2a3f5f"
            },
            "error_y": {
             "color": "#2a3f5f"
            },
            "marker": {
             "line": {
              "color": "#E5ECF6",
              "width": 0.5
             }
            },
            "type": "bar"
           }
          ],
          "barpolar": [
           {
            "marker": {
             "line": {
              "color": "#E5ECF6",
              "width": 0.5
             }
            },
            "type": "barpolar"
           }
          ],
          "carpet": [
           {
            "aaxis": {
             "endlinecolor": "#2a3f5f",
             "gridcolor": "white",
             "linecolor": "white",
             "minorgridcolor": "white",
             "startlinecolor": "#2a3f5f"
            },
            "baxis": {
             "endlinecolor": "#2a3f5f",
             "gridcolor": "white",
             "linecolor": "white",
             "minorgridcolor": "white",
             "startlinecolor": "#2a3f5f"
            },
            "type": "carpet"
           }
          ],
          "choropleth": [
           {
            "colorbar": {
             "outlinewidth": 0,
             "ticks": ""
            },
            "type": "choropleth"
           }
          ],
          "contour": [
           {
            "colorbar": {
             "outlinewidth": 0,
             "ticks": ""
            },
            "colorscale": [
             [
              0,
              "#0d0887"
             ],
             [
              0.1111111111111111,
              "#46039f"
             ],
             [
              0.2222222222222222,
              "#7201a8"
             ],
             [
              0.3333333333333333,
              "#9c179e"
             ],
             [
              0.4444444444444444,
              "#bd3786"
             ],
             [
              0.5555555555555556,
              "#d8576b"
             ],
             [
              0.6666666666666666,
              "#ed7953"
             ],
             [
              0.7777777777777778,
              "#fb9f3a"
             ],
             [
              0.8888888888888888,
              "#fdca26"
             ],
             [
              1,
              "#f0f921"
             ]
            ],
            "type": "contour"
           }
          ],
          "contourcarpet": [
           {
            "colorbar": {
             "outlinewidth": 0,
             "ticks": ""
            },
            "type": "contourcarpet"
           }
          ],
          "heatmap": [
           {
            "colorbar": {
             "outlinewidth": 0,
             "ticks": ""
            },
            "colorscale": [
             [
              0,
              "#0d0887"
             ],
             [
              0.1111111111111111,
              "#46039f"
             ],
             [
              0.2222222222222222,
              "#7201a8"
             ],
             [
              0.3333333333333333,
              "#9c179e"
             ],
             [
              0.4444444444444444,
              "#bd3786"
             ],
             [
              0.5555555555555556,
              "#d8576b"
             ],
             [
              0.6666666666666666,
              "#ed7953"
             ],
             [
              0.7777777777777778,
              "#fb9f3a"
             ],
             [
              0.8888888888888888,
              "#fdca26"
             ],
             [
              1,
              "#f0f921"
             ]
            ],
            "type": "heatmap"
           }
          ],
          "heatmapgl": [
           {
            "colorbar": {
             "outlinewidth": 0,
             "ticks": ""
            },
            "colorscale": [
             [
              0,
              "#0d0887"
             ],
             [
              0.1111111111111111,
              "#46039f"
             ],
             [
              0.2222222222222222,
              "#7201a8"
             ],
             [
              0.3333333333333333,
              "#9c179e"
             ],
             [
              0.4444444444444444,
              "#bd3786"
             ],
             [
              0.5555555555555556,
              "#d8576b"
             ],
             [
              0.6666666666666666,
              "#ed7953"
             ],
             [
              0.7777777777777778,
              "#fb9f3a"
             ],
             [
              0.8888888888888888,
              "#fdca26"
             ],
             [
              1,
              "#f0f921"
             ]
            ],
            "type": "heatmapgl"
           }
          ],
          "histogram": [
           {
            "marker": {
             "colorbar": {
              "outlinewidth": 0,
              "ticks": ""
             }
            },
            "type": "histogram"
           }
          ],
          "histogram2d": [
           {
            "colorbar": {
             "outlinewidth": 0,
             "ticks": ""
            },
            "colorscale": [
             [
              0,
              "#0d0887"
             ],
             [
              0.1111111111111111,
              "#46039f"
             ],
             [
              0.2222222222222222,
              "#7201a8"
             ],
             [
              0.3333333333333333,
              "#9c179e"
             ],
             [
              0.4444444444444444,
              "#bd3786"
             ],
             [
              0.5555555555555556,
              "#d8576b"
             ],
             [
              0.6666666666666666,
              "#ed7953"
             ],
             [
              0.7777777777777778,
              "#fb9f3a"
             ],
             [
              0.8888888888888888,
              "#fdca26"
             ],
             [
              1,
              "#f0f921"
             ]
            ],
            "type": "histogram2d"
           }
          ],
          "histogram2dcontour": [
           {
            "colorbar": {
             "outlinewidth": 0,
             "ticks": ""
            },
            "colorscale": [
             [
              0,
              "#0d0887"
             ],
             [
              0.1111111111111111,
              "#46039f"
             ],
             [
              0.2222222222222222,
              "#7201a8"
             ],
             [
              0.3333333333333333,
              "#9c179e"
             ],
             [
              0.4444444444444444,
              "#bd3786"
             ],
             [
              0.5555555555555556,
              "#d8576b"
             ],
             [
              0.6666666666666666,
              "#ed7953"
             ],
             [
              0.7777777777777778,
              "#fb9f3a"
             ],
             [
              0.8888888888888888,
              "#fdca26"
             ],
             [
              1,
              "#f0f921"
             ]
            ],
            "type": "histogram2dcontour"
           }
          ],
          "mesh3d": [
           {
            "colorbar": {
             "outlinewidth": 0,
             "ticks": ""
            },
            "type": "mesh3d"
           }
          ],
          "parcoords": [
           {
            "line": {
             "colorbar": {
              "outlinewidth": 0,
              "ticks": ""
             }
            },
            "type": "parcoords"
           }
          ],
          "scatter": [
           {
            "marker": {
             "colorbar": {
              "outlinewidth": 0,
              "ticks": ""
             }
            },
            "type": "scatter"
           }
          ],
          "scatter3d": [
           {
            "line": {
             "colorbar": {
              "outlinewidth": 0,
              "ticks": ""
             }
            },
            "marker": {
             "colorbar": {
              "outlinewidth": 0,
              "ticks": ""
             }
            },
            "type": "scatter3d"
           }
          ],
          "scattercarpet": [
           {
            "marker": {
             "colorbar": {
              "outlinewidth": 0,
              "ticks": ""
             }
            },
            "type": "scattercarpet"
           }
          ],
          "scattergeo": [
           {
            "marker": {
             "colorbar": {
              "outlinewidth": 0,
              "ticks": ""
             }
            },
            "type": "scattergeo"
           }
          ],
          "scattergl": [
           {
            "marker": {
             "colorbar": {
              "outlinewidth": 0,
              "ticks": ""
             }
            },
            "type": "scattergl"
           }
          ],
          "scattermapbox": [
           {
            "marker": {
             "colorbar": {
              "outlinewidth": 0,
              "ticks": ""
             }
            },
            "type": "scattermapbox"
           }
          ],
          "scatterpolar": [
           {
            "marker": {
             "colorbar": {
              "outlinewidth": 0,
              "ticks": ""
             }
            },
            "type": "scatterpolar"
           }
          ],
          "scatterpolargl": [
           {
            "marker": {
             "colorbar": {
              "outlinewidth": 0,
              "ticks": ""
             }
            },
            "type": "scatterpolargl"
           }
          ],
          "scatterternary": [
           {
            "marker": {
             "colorbar": {
              "outlinewidth": 0,
              "ticks": ""
             }
            },
            "type": "scatterternary"
           }
          ],
          "surface": [
           {
            "colorbar": {
             "outlinewidth": 0,
             "ticks": ""
            },
            "colorscale": [
             [
              0,
              "#0d0887"
             ],
             [
              0.1111111111111111,
              "#46039f"
             ],
             [
              0.2222222222222222,
              "#7201a8"
             ],
             [
              0.3333333333333333,
              "#9c179e"
             ],
             [
              0.4444444444444444,
              "#bd3786"
             ],
             [
              0.5555555555555556,
              "#d8576b"
             ],
             [
              0.6666666666666666,
              "#ed7953"
             ],
             [
              0.7777777777777778,
              "#fb9f3a"
             ],
             [
              0.8888888888888888,
              "#fdca26"
             ],
             [
              1,
              "#f0f921"
             ]
            ],
            "type": "surface"
           }
          ],
          "table": [
           {
            "cells": {
             "fill": {
              "color": "#EBF0F8"
             },
             "line": {
              "color": "white"
             }
            },
            "header": {
             "fill": {
              "color": "#C8D4E3"
             },
             "line": {
              "color": "white"
             }
            },
            "type": "table"
           }
          ]
         },
         "layout": {
          "annotationdefaults": {
           "arrowcolor": "#2a3f5f",
           "arrowhead": 0,
           "arrowwidth": 1
          },
          "colorscale": {
           "diverging": [
            [
             0,
             "#8e0152"
            ],
            [
             0.1,
             "#c51b7d"
            ],
            [
             0.2,
             "#de77ae"
            ],
            [
             0.3,
             "#f1b6da"
            ],
            [
             0.4,
             "#fde0ef"
            ],
            [
             0.5,
             "#f7f7f7"
            ],
            [
             0.6,
             "#e6f5d0"
            ],
            [
             0.7,
             "#b8e186"
            ],
            [
             0.8,
             "#7fbc41"
            ],
            [
             0.9,
             "#4d9221"
            ],
            [
             1,
             "#276419"
            ]
           ],
           "sequential": [
            [
             0,
             "#0d0887"
            ],
            [
             0.1111111111111111,
             "#46039f"
            ],
            [
             0.2222222222222222,
             "#7201a8"
            ],
            [
             0.3333333333333333,
             "#9c179e"
            ],
            [
             0.4444444444444444,
             "#bd3786"
            ],
            [
             0.5555555555555556,
             "#d8576b"
            ],
            [
             0.6666666666666666,
             "#ed7953"
            ],
            [
             0.7777777777777778,
             "#fb9f3a"
            ],
            [
             0.8888888888888888,
             "#fdca26"
            ],
            [
             1,
             "#f0f921"
            ]
           ],
           "sequentialminus": [
            [
             0,
             "#0d0887"
            ],
            [
             0.1111111111111111,
             "#46039f"
            ],
            [
             0.2222222222222222,
             "#7201a8"
            ],
            [
             0.3333333333333333,
             "#9c179e"
            ],
            [
             0.4444444444444444,
             "#bd3786"
            ],
            [
             0.5555555555555556,
             "#d8576b"
            ],
            [
             0.6666666666666666,
             "#ed7953"
            ],
            [
             0.7777777777777778,
             "#fb9f3a"
            ],
            [
             0.8888888888888888,
             "#fdca26"
            ],
            [
             1,
             "#f0f921"
            ]
           ]
          },
          "colorway": [
           "#636efa",
           "#EF553B",
           "#00cc96",
           "#ab63fa",
           "#FFA15A",
           "#19d3f3",
           "#FF6692",
           "#B6E880",
           "#FF97FF",
           "#FECB52"
          ],
          "font": {
           "color": "#2a3f5f"
          },
          "geo": {
           "bgcolor": "white",
           "lakecolor": "white",
           "landcolor": "#E5ECF6",
           "showlakes": true,
           "showland": true,
           "subunitcolor": "white"
          },
          "hoverlabel": {
           "align": "left"
          },
          "hovermode": "closest",
          "mapbox": {
           "style": "light"
          },
          "paper_bgcolor": "white",
          "plot_bgcolor": "#E5ECF6",
          "polar": {
           "angularaxis": {
            "gridcolor": "white",
            "linecolor": "white",
            "ticks": ""
           },
           "bgcolor": "#E5ECF6",
           "radialaxis": {
            "gridcolor": "white",
            "linecolor": "white",
            "ticks": ""
           }
          },
          "scene": {
           "xaxis": {
            "backgroundcolor": "#E5ECF6",
            "gridcolor": "white",
            "gridwidth": 2,
            "linecolor": "white",
            "showbackground": true,
            "ticks": "",
            "zerolinecolor": "white"
           },
           "yaxis": {
            "backgroundcolor": "#E5ECF6",
            "gridcolor": "white",
            "gridwidth": 2,
            "linecolor": "white",
            "showbackground": true,
            "ticks": "",
            "zerolinecolor": "white"
           },
           "zaxis": {
            "backgroundcolor": "#E5ECF6",
            "gridcolor": "white",
            "gridwidth": 2,
            "linecolor": "white",
            "showbackground": true,
            "ticks": "",
            "zerolinecolor": "white"
           }
          },
          "shapedefaults": {
           "line": {
            "color": "#2a3f5f"
           }
          },
          "ternary": {
           "aaxis": {
            "gridcolor": "white",
            "linecolor": "white",
            "ticks": ""
           },
           "baxis": {
            "gridcolor": "white",
            "linecolor": "white",
            "ticks": ""
           },
           "bgcolor": "#E5ECF6",
           "caxis": {
            "gridcolor": "white",
            "linecolor": "white",
            "ticks": ""
           }
          },
          "title": {
           "x": 0.05
          },
          "xaxis": {
           "automargin": true,
           "gridcolor": "white",
           "linecolor": "white",
           "ticks": "",
           "zerolinecolor": "white",
           "zerolinewidth": 2
          },
          "yaxis": {
           "automargin": true,
           "gridcolor": "white",
           "linecolor": "white",
           "ticks": "",
           "zerolinecolor": "white",
           "zerolinewidth": 2
          }
         }
        }
       }
      },
      "text/html": [
       "<div>\n",
       "        \n",
       "        \n",
       "            <div id=\"5d80cfe8-f85a-4b67-bf03-9294baf57196\" class=\"plotly-graph-div\" style=\"height:525px; width:100%;\"></div>\n",
       "            <script type=\"text/javascript\">\n",
       "                require([\"plotly\"], function(Plotly) {\n",
       "                    window.PLOTLYENV=window.PLOTLYENV || {};\n",
       "                    \n",
       "                if (document.getElementById(\"5d80cfe8-f85a-4b67-bf03-9294baf57196\")) {\n",
       "                    Plotly.newPlot(\n",
       "                        '5d80cfe8-f85a-4b67-bf03-9294baf57196',\n",
       "                        [{\"name\": \"Cluster 3: Gentrified (n=31)\", \"r\": [19.24, 81.35, 61.29, 7.34, 40.02, 34.12], \"theta\": [\"% Change in Household Income\", \"% Change in Median Home Value\", \"% Change in Median Rent\", \"% Change in Owner Occupied Housing\", \"% Change in Non-White Population\", \"% Change in Population with College Degree\"], \"type\": \"scatterpolar\"}, {\"name\": \"Baseline\", \"r\": [8.2, 76.14, 54.41, 6.23, 28.04, 36.73], \"theta\": [\"% Change in Household Income\", \"% Change in Median Home Value\", \"% Change in Median Rent\", \"% Change in Owner Occupied Housing\", \"% Change in Non-White Population\", \"% Change in Population with College Degree\"], \"type\": \"scatterpolar\"}],\n",
       "                        {\"polar\": {\"radialaxis\": {\"visible\": true}}, \"showlegend\": false, \"template\": {\"data\": {\"bar\": [{\"error_x\": {\"color\": \"#2a3f5f\"}, \"error_y\": {\"color\": \"#2a3f5f\"}, \"marker\": {\"line\": {\"color\": \"#E5ECF6\", \"width\": 0.5}}, \"type\": \"bar\"}], \"barpolar\": [{\"marker\": {\"line\": {\"color\": \"#E5ECF6\", \"width\": 0.5}}, \"type\": \"barpolar\"}], \"carpet\": [{\"aaxis\": {\"endlinecolor\": \"#2a3f5f\", \"gridcolor\": \"white\", \"linecolor\": \"white\", \"minorgridcolor\": \"white\", \"startlinecolor\": \"#2a3f5f\"}, \"baxis\": {\"endlinecolor\": \"#2a3f5f\", \"gridcolor\": \"white\", \"linecolor\": \"white\", \"minorgridcolor\": \"white\", \"startlinecolor\": \"#2a3f5f\"}, \"type\": \"carpet\"}], \"choropleth\": [{\"colorbar\": {\"outlinewidth\": 0, \"ticks\": \"\"}, \"type\": \"choropleth\"}], \"contour\": [{\"colorbar\": {\"outlinewidth\": 0, \"ticks\": \"\"}, \"colorscale\": [[0.0, \"#0d0887\"], [0.1111111111111111, \"#46039f\"], [0.2222222222222222, \"#7201a8\"], [0.3333333333333333, \"#9c179e\"], [0.4444444444444444, \"#bd3786\"], [0.5555555555555556, \"#d8576b\"], [0.6666666666666666, \"#ed7953\"], [0.7777777777777778, \"#fb9f3a\"], [0.8888888888888888, \"#fdca26\"], [1.0, \"#f0f921\"]], \"type\": \"contour\"}], \"contourcarpet\": [{\"colorbar\": {\"outlinewidth\": 0, \"ticks\": \"\"}, \"type\": \"contourcarpet\"}], \"heatmap\": [{\"colorbar\": {\"outlinewidth\": 0, \"ticks\": \"\"}, \"colorscale\": [[0.0, \"#0d0887\"], [0.1111111111111111, \"#46039f\"], [0.2222222222222222, \"#7201a8\"], [0.3333333333333333, \"#9c179e\"], [0.4444444444444444, \"#bd3786\"], [0.5555555555555556, \"#d8576b\"], [0.6666666666666666, \"#ed7953\"], [0.7777777777777778, \"#fb9f3a\"], [0.8888888888888888, \"#fdca26\"], [1.0, \"#f0f921\"]], \"type\": \"heatmap\"}], \"heatmapgl\": [{\"colorbar\": {\"outlinewidth\": 0, \"ticks\": \"\"}, \"colorscale\": [[0.0, \"#0d0887\"], [0.1111111111111111, \"#46039f\"], [0.2222222222222222, \"#7201a8\"], [0.3333333333333333, \"#9c179e\"], [0.4444444444444444, \"#bd3786\"], [0.5555555555555556, \"#d8576b\"], [0.6666666666666666, \"#ed7953\"], [0.7777777777777778, \"#fb9f3a\"], [0.8888888888888888, \"#fdca26\"], [1.0, \"#f0f921\"]], \"type\": \"heatmapgl\"}], \"histogram\": [{\"marker\": {\"colorbar\": {\"outlinewidth\": 0, \"ticks\": \"\"}}, \"type\": \"histogram\"}], \"histogram2d\": [{\"colorbar\": {\"outlinewidth\": 0, \"ticks\": \"\"}, \"colorscale\": [[0.0, \"#0d0887\"], [0.1111111111111111, \"#46039f\"], [0.2222222222222222, \"#7201a8\"], [0.3333333333333333, \"#9c179e\"], [0.4444444444444444, \"#bd3786\"], [0.5555555555555556, \"#d8576b\"], [0.6666666666666666, \"#ed7953\"], [0.7777777777777778, \"#fb9f3a\"], [0.8888888888888888, \"#fdca26\"], [1.0, \"#f0f921\"]], \"type\": \"histogram2d\"}], \"histogram2dcontour\": [{\"colorbar\": {\"outlinewidth\": 0, \"ticks\": \"\"}, \"colorscale\": [[0.0, \"#0d0887\"], [0.1111111111111111, \"#46039f\"], [0.2222222222222222, \"#7201a8\"], [0.3333333333333333, \"#9c179e\"], [0.4444444444444444, \"#bd3786\"], [0.5555555555555556, \"#d8576b\"], [0.6666666666666666, \"#ed7953\"], [0.7777777777777778, \"#fb9f3a\"], [0.8888888888888888, \"#fdca26\"], [1.0, \"#f0f921\"]], \"type\": \"histogram2dcontour\"}], \"mesh3d\": [{\"colorbar\": {\"outlinewidth\": 0, \"ticks\": \"\"}, \"type\": \"mesh3d\"}], \"parcoords\": [{\"line\": {\"colorbar\": {\"outlinewidth\": 0, \"ticks\": \"\"}}, \"type\": \"parcoords\"}], \"scatter\": [{\"marker\": {\"colorbar\": {\"outlinewidth\": 0, \"ticks\": \"\"}}, \"type\": \"scatter\"}], \"scatter3d\": [{\"line\": {\"colorbar\": {\"outlinewidth\": 0, \"ticks\": \"\"}}, \"marker\": {\"colorbar\": {\"outlinewidth\": 0, \"ticks\": \"\"}}, \"type\": \"scatter3d\"}], \"scattercarpet\": [{\"marker\": {\"colorbar\": {\"outlinewidth\": 0, \"ticks\": \"\"}}, \"type\": \"scattercarpet\"}], \"scattergeo\": [{\"marker\": {\"colorbar\": {\"outlinewidth\": 0, \"ticks\": \"\"}}, \"type\": \"scattergeo\"}], \"scattergl\": [{\"marker\": {\"colorbar\": {\"outlinewidth\": 0, \"ticks\": \"\"}}, \"type\": \"scattergl\"}], \"scattermapbox\": [{\"marker\": {\"colorbar\": {\"outlinewidth\": 0, \"ticks\": \"\"}}, \"type\": \"scattermapbox\"}], \"scatterpolar\": [{\"marker\": {\"colorbar\": {\"outlinewidth\": 0, \"ticks\": \"\"}}, \"type\": \"scatterpolar\"}], \"scatterpolargl\": [{\"marker\": {\"colorbar\": {\"outlinewidth\": 0, \"ticks\": \"\"}}, \"type\": \"scatterpolargl\"}], \"scatterternary\": [{\"marker\": {\"colorbar\": {\"outlinewidth\": 0, \"ticks\": \"\"}}, \"type\": \"scatterternary\"}], \"surface\": [{\"colorbar\": {\"outlinewidth\": 0, \"ticks\": \"\"}, \"colorscale\": [[0.0, \"#0d0887\"], [0.1111111111111111, \"#46039f\"], [0.2222222222222222, \"#7201a8\"], [0.3333333333333333, \"#9c179e\"], [0.4444444444444444, \"#bd3786\"], [0.5555555555555556, \"#d8576b\"], [0.6666666666666666, \"#ed7953\"], [0.7777777777777778, \"#fb9f3a\"], [0.8888888888888888, \"#fdca26\"], [1.0, \"#f0f921\"]], \"type\": \"surface\"}], \"table\": [{\"cells\": {\"fill\": {\"color\": \"#EBF0F8\"}, \"line\": {\"color\": \"white\"}}, \"header\": {\"fill\": {\"color\": \"#C8D4E3\"}, \"line\": {\"color\": \"white\"}}, \"type\": \"table\"}]}, \"layout\": {\"annotationdefaults\": {\"arrowcolor\": \"#2a3f5f\", \"arrowhead\": 0, \"arrowwidth\": 1}, \"colorscale\": {\"diverging\": [[0, \"#8e0152\"], [0.1, \"#c51b7d\"], [0.2, \"#de77ae\"], [0.3, \"#f1b6da\"], [0.4, \"#fde0ef\"], [0.5, \"#f7f7f7\"], [0.6, \"#e6f5d0\"], [0.7, \"#b8e186\"], [0.8, \"#7fbc41\"], [0.9, \"#4d9221\"], [1, \"#276419\"]], \"sequential\": [[0.0, \"#0d0887\"], [0.1111111111111111, \"#46039f\"], [0.2222222222222222, \"#7201a8\"], [0.3333333333333333, \"#9c179e\"], [0.4444444444444444, \"#bd3786\"], [0.5555555555555556, \"#d8576b\"], [0.6666666666666666, \"#ed7953\"], [0.7777777777777778, \"#fb9f3a\"], [0.8888888888888888, \"#fdca26\"], [1.0, \"#f0f921\"]], \"sequentialminus\": [[0.0, \"#0d0887\"], [0.1111111111111111, \"#46039f\"], [0.2222222222222222, \"#7201a8\"], [0.3333333333333333, \"#9c179e\"], [0.4444444444444444, \"#bd3786\"], [0.5555555555555556, \"#d8576b\"], [0.6666666666666666, \"#ed7953\"], [0.7777777777777778, \"#fb9f3a\"], [0.8888888888888888, \"#fdca26\"], [1.0, \"#f0f921\"]]}, \"colorway\": [\"#636efa\", \"#EF553B\", \"#00cc96\", \"#ab63fa\", \"#FFA15A\", \"#19d3f3\", \"#FF6692\", \"#B6E880\", \"#FF97FF\", \"#FECB52\"], \"font\": {\"color\": \"#2a3f5f\"}, \"geo\": {\"bgcolor\": \"white\", \"lakecolor\": \"white\", \"landcolor\": \"#E5ECF6\", \"showlakes\": true, \"showland\": true, \"subunitcolor\": \"white\"}, \"hoverlabel\": {\"align\": \"left\"}, \"hovermode\": \"closest\", \"mapbox\": {\"style\": \"light\"}, \"paper_bgcolor\": \"white\", \"plot_bgcolor\": \"#E5ECF6\", \"polar\": {\"angularaxis\": {\"gridcolor\": \"white\", \"linecolor\": \"white\", \"ticks\": \"\"}, \"bgcolor\": \"#E5ECF6\", \"radialaxis\": {\"gridcolor\": \"white\", \"linecolor\": \"white\", \"ticks\": \"\"}}, \"scene\": {\"xaxis\": {\"backgroundcolor\": \"#E5ECF6\", \"gridcolor\": \"white\", \"gridwidth\": 2, \"linecolor\": \"white\", \"showbackground\": true, \"ticks\": \"\", \"zerolinecolor\": \"white\"}, \"yaxis\": {\"backgroundcolor\": \"#E5ECF6\", \"gridcolor\": \"white\", \"gridwidth\": 2, \"linecolor\": \"white\", \"showbackground\": true, \"ticks\": \"\", \"zerolinecolor\": \"white\"}, \"zaxis\": {\"backgroundcolor\": \"#E5ECF6\", \"gridcolor\": \"white\", \"gridwidth\": 2, \"linecolor\": \"white\", \"showbackground\": true, \"ticks\": \"\", \"zerolinecolor\": \"white\"}}, \"shapedefaults\": {\"line\": {\"color\": \"#2a3f5f\"}}, \"ternary\": {\"aaxis\": {\"gridcolor\": \"white\", \"linecolor\": \"white\", \"ticks\": \"\"}, \"baxis\": {\"gridcolor\": \"white\", \"linecolor\": \"white\", \"ticks\": \"\"}, \"bgcolor\": \"#E5ECF6\", \"caxis\": {\"gridcolor\": \"white\", \"linecolor\": \"white\", \"ticks\": \"\"}}, \"title\": {\"x\": 0.05}, \"xaxis\": {\"automargin\": true, \"gridcolor\": \"white\", \"linecolor\": \"white\", \"ticks\": \"\", \"zerolinecolor\": \"white\", \"zerolinewidth\": 2}, \"yaxis\": {\"automargin\": true, \"gridcolor\": \"white\", \"linecolor\": \"white\", \"ticks\": \"\", \"zerolinecolor\": \"white\", \"zerolinewidth\": 2}}}},\n",
       "                        {\"responsive\": true}\n",
       "                    ).then(function(){\n",
       "                            \n",
       "var gd = document.getElementById('5d80cfe8-f85a-4b67-bf03-9294baf57196');\n",
       "var x = new MutationObserver(function (mutations, observer) {{\n",
       "        var display = window.getComputedStyle(gd).display;\n",
       "        if (!display || display === 'none') {{\n",
       "            console.log([gd, 'removed!']);\n",
       "            Plotly.purge(gd);\n",
       "            observer.disconnect();\n",
       "        }}\n",
       "}});\n",
       "\n",
       "// Listen for the removal of the full notebook cells\n",
       "var notebookContainer = gd.closest('#notebook-container');\n",
       "if (notebookContainer) {{\n",
       "    x.observe(notebookContainer, {childList: true});\n",
       "}}\n",
       "\n",
       "// Listen for the clearing of the current output cell\n",
       "var outputEl = gd.closest('.output');\n",
       "if (outputEl) {{\n",
       "    x.observe(outputEl, {childList: true});\n",
       "}}\n",
       "\n",
       "                        })\n",
       "                };\n",
       "                });\n",
       "            </script>\n",
       "        </div>"
      ]
     },
     "metadata": {},
     "output_type": "display_data"
    }
   ],
   "source": [
    "# Cluster 2 - \"stable, in line with average\"\n",
    "categories=['% Change in Household Income','% Change in Median Home Value','% Change in Median Rent', \n",
    "         '% Change in Owner Occupied Housing', '% Change in Non-White Population',\n",
    "         '% Change in Population with College Degree']\n",
    "fig = go.Figure()\n",
    "\n",
    "fig.add_trace(go.Scatterpolar(\n",
    "  r=[19.24,81.35,61.29,7.34,40.02,34.12],\n",
    "  theta=categories,\n",
    "    name='Cluster 3: Gentrified (n=31)'\n",
    "))\n",
    "\n",
    "fig.add_trace(go.Scatterpolar(\n",
    "      r=[8.20,76.14,54.41,6.23,28.04,36.73],\n",
    "      theta=categories,\n",
    "      name='Baseline'\n",
    "))\n",
    "\n",
    "fig.update_layout(\n",
    "  polar=dict(\n",
    "    radialaxis=dict(\n",
    "      visible=True,\n",
    "    ),\n",
    "  ),\n",
    "  showlegend=False\n",
    ")\n",
    "\n",
    "fig.show()"
   ]
  },
  {
   "cell_type": "code",
   "execution_count": 173,
   "metadata": {},
   "outputs": [
    {
     "data": {
      "text/plain": [
       "0.3054187192118227"
      ]
     },
     "execution_count": 173,
     "metadata": {},
     "output_type": "execute_result"
    }
   ],
   "source": [
    "len(df_2000[df_2000['percent_white00']>75])/len(df_2000)"
   ]
  },
  {
   "cell_type": "code",
   "execution_count": 50,
   "metadata": {
    "collapsed": true
   },
   "outputs": [
    {
     "data": {
      "application/vnd.plotly.v1+json": {
       "config": {
        "plotlyServerURL": "https://plot.ly"
       },
       "data": [
        {
         "mode": "markers",
         "transforms": [
          {
           "operation": ">",
           "target": "y",
           "type": "filter",
           "value": 4
          }
         ],
         "type": "scatter",
         "x": [
          3968,
          3887,
          3925,
          2923,
          2909.483505,
          5796,
          3564,
          3177.918358,
          2579.999936,
          4786.000064,
          3413,
          4860,
          4687,
          2457.515956,
          5035.0002159999985,
          7984,
          3540,
          3938,
          5004,
          4135.338614,
          2635,
          3907.999973,
          2927.999984,
          6418.000016,
          3729.66133,
          1367,
          3061,
          2406,
          2289.000062,
          2618.999938,
          3178.000034,
          3127.999966,
          4095.073961,
          3635,
          1815.324108,
          1258.999958,
          2806.675935,
          1963,
          1534,
          4074,
          2222,
          2321,
          1843,
          1652,
          3845,
          2070,
          2131,
          3654,
          4587,
          4897,
          2307,
          2525,
          1897,
          2081,
          4042,
          3697,
          3914,
          5628.063177,
          2613.013128,
          3009,
          2054,
          3077,
          4946,
          3326,
          1303.999974,
          1384.011484,
          3726.621025,
          3064,
          2046,
          1904.367544,
          3180.000037,
          4183,
          3552,
          1832,
          5435,
          2188,
          2214,
          3587.626433,
          2853,
          3120,
          1344,
          3381,
          1682,
          2167.129219,
          2433.00005,
          2312.244205,
          2603.000027,
          3564,
          4943,
          3754,
          2975,
          4142,
          2531,
          1641,
          3722,
          2863,
          3206,
          2806,
          4251,
          4588,
          1996,
          3130,
          3255,
          2123,
          4518,
          3193.107546,
          2784.848131,
          5086,
          3458,
          2409,
          2440,
          4779.044405,
          3448,
          3347,
          3547,
          3684,
          5347,
          6859,
          3671,
          3079,
          6470,
          5430,
          2663,
          3661,
          5228,
          6556,
          5666,
          1941,
          4384,
          5512,
          4250,
          6032.017296,
          5405,
          3205,
          4942,
          6201.005613,
          1962.921141,
          2367.340814,
          3756,
          4410.834053000001,
          3285,
          3995,
          2657.722299,
          5429.75097,
          1442.000033,
          2179.678023,
          2177.462584,
          3496,
          4884.999991,
          5585,
          2480,
          2368,
          2086,
          5232.452235,
          4689,
          4295.00008,
          4507,
          2629.000007,
          4592.084053000001,
          3776.942619,
          3602.634574,
          2015.435306,
          2312.721207,
          2018.215355,
          5467.936954,
          6215.909013,
          7978,
          7541,
          3920,
          2244,
          2771.273427,
          5834.000086,
          4421.999914,
          3835.459546,
          4422.5523520000015,
          6892.444990000001,
          4433,
          7332.418453,
          4879,
          3225.649641,
          2875.00003,
          4770,
          1675.578844,
          6509.294392,
          4703.114993,
          4894.2384299999985,
          4120,
          3191,
          1822,
          4274,
          640,
          0,
          1328.63871,
          380.7986271,
          610.720658,
          0,
          96.99999491,
          55.9869164,
          61.92591938,
          227.2109861,
          60.84939231,
          0.999999958,
          5.011266335
         ],
         "y": [
          70.81653225806451,
          77.61770002572679,
          64.28025477707007,
          80.84160109476565,
          81.00465718227196,
          76.50103519668737,
          76.73961840628508,
          74.73253549832069,
          79.31034254878371,
          79.31034605602547,
          70.70026369762671,
          52.88065843621399,
          65.39364198847879,
          60.905840645536784,
          60.905839115062314,
          53.55711422845691,
          67.17514124293785,
          71.07668867445403,
          72.82174260591528,
          67.8772423979305,
          68.61480075901328,
          62.58110785304247,
          68.92788200233815,
          68.92788240840665,
          65.61422111749755,
          67.89897703730797,
          71.41457040182947,
          77.80548628428926,
          88.2844313352404,
          88.28443084140311,
          86.88550681116827,
          86.88550490860207,
          93.84171049407816,
          85.25447042640991,
          71.82451729991568,
          71.82452113314527,
          71.82451828019823,
          96.5868568517575,
          94.58930899608866,
          85.61610211094747,
          94.32943294329434,
          92.67557087462299,
          92.67498643516006,
          51.271186440677965,
          81.76853055916774,
          97.14975845410628,
          94.13420929141249,
          61.029009304871366,
          44.10289949858296,
          34.73555237900756,
          24.750758560901605,
          42.376237623762385,
          41.960991038481815,
          30.56222969726093,
          42.03364670954973,
          49.55369218285096,
          80.2248339294839,
          67.74592615771556,
          63.01985800815311,
          97.77334662678629,
          98.63680623174294,
          97.82255443613909,
          96.09785685402343,
          95.27961515333736,
          88.07993871938527,
          40.17383539282829,
          92.61922631373552,
          54.11227154046998,
          37.927663734115356,
          91.3910763961224,
          52.71926913502736,
          22.089409514702368,
          74.88738738738739,
          5.567685589519651,
          47.61729530818768,
          78.83912248628884,
          47.78681120144535,
          58.16666737665325,
          42.86715737819839,
          45.448717948717956,
          35.56547619047619,
          15.025140490978998,
          2.5564803804994054,
          4.347943621168997,
          2.9920041949855283,
          16.485119278307373,
          45.191324925022755,
          57.154882154882145,
          40.299413311753995,
          40.6766116142781,
          8.941176470588236,
          4.418155480444231,
          16.041090478071908,
          7.495429616087751,
          2.041912950026868,
          1.5717778553964372,
          0.9357454772301934,
          1.603706343549537,
          1.2702893436838392,
          0.8282476024411508,
          0.30060120240480964,
          1.0543130990415337,
          3.0414746543778803,
          3.9566650965614696,
          61.04471004869411,
          31.474075223647358,
          64.08856357847831,
          50.78647267007472,
          28.22440717177559,
          6.7662930676629305,
          8.360655737704919,
          11.094890345552251,
          16.850348027842227,
          7.2303555422766665,
          4.567239921060051,
          2.3887079261672097,
          6.620534879371611,
          38.227146814404435,
          24.02615091255789,
          0.8119519324455993,
          1.6846986089644511,
          1.141804788213628,
          1.7273751408186255,
          2.7314941272876263,
          14.135424636572305,
          14.078706528370958,
          50.14119308153901,
          80.73158165893871,
          92.72354014598541,
          62.31857764876633,
          25.835294117647056,
          3.645495881548945,
          3.848288621646624,
          0.7176287051482059,
          1.1533791987049775,
          38.21112119351342,
          34.846336371492576,
          50.58663281255792,
          39.00425985090522,
          58.55487461024187,
          81.18721461187216,
          63.529411764705884,
          90.3505907258823,
          85.80006718061325,
          86.18753901235173,
          64.14704751097085,
          86.08270060634943,
          46.013651115560634,
          26.012558614966842,
          75.04028648164726,
          21.20967741935484,
          66.63851351351353,
          55.656759348034505,
          89.1167403461257,
          93.15419065898912,
          91.01382705911385,
          90.48147326381184,
          62.92656803328796,
          62.92657276410701,
          60.329877651233645,
          50.92333017176003,
          41.348268174081504,
          41.348269722507894,
          73.6890645151196,
          65.10945552134835,
          30.759961366892675,
          13.599899724241665,
          24.12146930115369,
          17.525510204081634,
          72.59358288770053,
          22.52342354307863,
          36.4957085466865,
          36.49570876043215,
          58.96022953386144,
          59.032979831642685,
          85.04952035895755,
          89.44281524926686,
          90.71478749659407,
          82.90633326501332,
          83.32487077445744,
          83.60224097110705,
          84.23480083857444,
          50.30742930530818,
          50.030065501452896,
          81.24140869799906,
          88.66368345279001,
          94.80582524271843,
          95.04857411469759,
          95.82875960482987,
          93.44875994384651,
          40.625,
          null,
          52.45107601147645,
          77.3532314292317,
          29.303099421274208,
          null,
          88.07994085904018,
          63.0198577251881,
          93.84171185800487,
          58.85137826968833,
          67.92639454709453,
          52.719273414209496,
          82.53804498698629
         ]
        }
       ],
       "layout": {
        "title": "Scores > 4"
       }
      },
      "text/html": [
       "<div>\n",
       "        \n",
       "        \n",
       "            <div id=\"cdc12d1a-fd9d-4d7a-973e-325ea035a182\" class=\"plotly-graph-div\" style=\"height:525px; width:100%;\"></div>\n",
       "            <script type=\"text/javascript\">\n",
       "                require([\"plotly\"], function(Plotly) {\n",
       "                    window.PLOTLYENV=window.PLOTLYENV || {};\n",
       "                    \n",
       "                if (document.getElementById(\"cdc12d1a-fd9d-4d7a-973e-325ea035a182\")) {\n",
       "                    Plotly.newPlot(\n",
       "                        'cdc12d1a-fd9d-4d7a-973e-325ea035a182',\n",
       "                        [{\"mode\": \"markers\", \"transforms\": [{\"operation\": \">\", \"target\": \"y\", \"type\": \"filter\", \"value\": 4}], \"type\": \"scatter\", \"x\": [3968.0, 3887.0, 3925.0, 2923.0, 2909.483505, 5796.0, 3564.0, 3177.918358, 2579.999936, 4786.000064, 3413.0, 4860.0, 4687.0, 2457.515956, 5035.0002159999985, 7984.0, 3540.0, 3938.0, 5004.0, 4135.338614, 2635.0, 3907.999973, 2927.999984, 6418.000016, 3729.66133, 1367.0, 3061.0, 2406.0, 2289.000062, 2618.999938, 3178.000034, 3127.999966, 4095.073961, 3635.0, 1815.324108, 1258.999958, 2806.675935, 1963.0, 1534.0, 4074.0, 2222.0, 2321.0, 1843.0, 1652.0, 3845.0, 2070.0, 2131.0, 3654.0, 4587.0, 4897.0, 2307.0, 2525.0, 1897.0, 2081.0, 4042.0, 3697.0, 3914.0, 5628.063177, 2613.013128, 3009.0, 2054.0, 3077.0, 4946.0, 3326.0, 1303.999974, 1384.011484, 3726.621025, 3064.0, 2046.0, 1904.367544, 3180.000037, 4183.0, 3552.0, 1832.0, 5435.0, 2188.0, 2214.0, 3587.626433, 2853.0, 3120.0, 1344.0, 3381.0, 1682.0, 2167.129219, 2433.00005, 2312.244205, 2603.000027, 3564.0, 4943.0, 3754.0, 2975.0, 4142.0, 2531.0, 1641.0, 3722.0, 2863.0, 3206.0, 2806.0, 4251.0, 4588.0, 1996.0, 3130.0, 3255.0, 2123.0, 4518.0, 3193.107546, 2784.848131, 5086.0, 3458.0, 2409.0, 2440.0, 4779.044405, 3448.0, 3347.0, 3547.0, 3684.0, 5347.0, 6859.0, 3671.0, 3079.0, 6470.0, 5430.0, 2663.0, 3661.0, 5228.0, 6556.0, 5666.0, 1941.0, 4384.0, 5512.0, 4250.0, 6032.017296, 5405.0, 3205.0, 4942.0, 6201.005613, 1962.921141, 2367.340814, 3756.0, 4410.834053000001, 3285.0, 3995.0, 2657.722299, 5429.75097, 1442.000033, 2179.678023, 2177.462584, 3496.0, 4884.999991, 5585.0, 2480.0, 2368.0, 2086.0, 5232.452235, 4689.0, 4295.00008, 4507.0, 2629.000007, 4592.084053000001, 3776.942619, 3602.634574, 2015.435306, 2312.721207, 2018.215355, 5467.936954, 6215.909013, 7978.0, 7541.0, 3920.0, 2244.0, 2771.273427, 5834.000086, 4421.999914, 3835.459546, 4422.5523520000015, 6892.444990000001, 4433.0, 7332.418453, 4879.0, 3225.649641, 2875.00003, 4770.0, 1675.578844, 6509.294392, 4703.114993, 4894.2384299999985, 4120.0, 3191.0, 1822.0, 4274.0, 640.0, 0.0, 1328.63871, 380.7986271, 610.720658, 0.0, 96.99999491, 55.9869164, 61.92591938, 227.2109861, 60.84939231, 0.999999958, 5.011266335], \"y\": [70.81653225806451, 77.61770002572679, 64.28025477707007, 80.84160109476565, 81.00465718227196, 76.50103519668737, 76.73961840628508, 74.73253549832069, 79.31034254878371, 79.31034605602547, 70.70026369762671, 52.88065843621399, 65.39364198847879, 60.905840645536784, 60.905839115062314, 53.55711422845691, 67.17514124293785, 71.07668867445403, 72.82174260591528, 67.8772423979305, 68.61480075901328, 62.58110785304247, 68.92788200233815, 68.92788240840665, 65.61422111749755, 67.89897703730797, 71.41457040182947, 77.80548628428926, 88.2844313352404, 88.28443084140311, 86.88550681116827, 86.88550490860207, 93.84171049407816, 85.25447042640991, 71.82451729991568, 71.82452113314527, 71.82451828019823, 96.5868568517575, 94.58930899608866, 85.61610211094747, 94.32943294329434, 92.67557087462299, 92.67498643516006, 51.271186440677965, 81.76853055916774, 97.14975845410628, 94.13420929141249, 61.029009304871366, 44.10289949858296, 34.73555237900756, 24.750758560901605, 42.376237623762385, 41.960991038481815, 30.56222969726093, 42.03364670954973, 49.55369218285096, 80.2248339294839, 67.74592615771556, 63.01985800815311, 97.77334662678629, 98.63680623174294, 97.82255443613909, 96.09785685402343, 95.27961515333736, 88.07993871938527, 40.17383539282829, 92.61922631373552, 54.11227154046998, 37.927663734115356, 91.3910763961224, 52.71926913502736, 22.089409514702368, 74.88738738738739, 5.567685589519651, 47.61729530818768, 78.83912248628884, 47.78681120144535, 58.16666737665325, 42.86715737819839, 45.448717948717956, 35.56547619047619, 15.025140490978998, 2.5564803804994054, 4.347943621168997, 2.9920041949855283, 16.485119278307373, 45.191324925022755, 57.154882154882145, 40.299413311753995, 40.6766116142781, 8.941176470588236, 4.418155480444231, 16.041090478071908, 7.495429616087751, 2.041912950026868, 1.5717778553964372, 0.9357454772301934, 1.603706343549537, 1.2702893436838392, 0.8282476024411508, 0.30060120240480964, 1.0543130990415337, 3.0414746543778803, 3.9566650965614696, 61.04471004869411, 31.474075223647358, 64.08856357847831, 50.78647267007472, 28.22440717177559, 6.7662930676629305, 8.360655737704919, 11.094890345552251, 16.850348027842227, 7.2303555422766665, 4.567239921060051, 2.3887079261672097, 6.620534879371611, 38.227146814404435, 24.02615091255789, 0.8119519324455993, 1.6846986089644511, 1.141804788213628, 1.7273751408186255, 2.7314941272876263, 14.135424636572305, 14.078706528370958, 50.14119308153901, 80.73158165893871, 92.72354014598541, 62.31857764876633, 25.835294117647056, 3.645495881548945, 3.848288621646624, 0.7176287051482059, 1.1533791987049775, 38.21112119351342, 34.846336371492576, 50.58663281255792, 39.00425985090522, 58.55487461024187, 81.18721461187216, 63.529411764705884, 90.3505907258823, 85.80006718061325, 86.18753901235173, 64.14704751097085, 86.08270060634943, 46.013651115560634, 26.012558614966842, 75.04028648164726, 21.20967741935484, 66.63851351351353, 55.656759348034505, 89.1167403461257, 93.15419065898912, 91.01382705911385, 90.48147326381184, 62.92656803328796, 62.92657276410701, 60.329877651233645, 50.92333017176003, 41.348268174081504, 41.348269722507894, 73.6890645151196, 65.10945552134835, 30.759961366892675, 13.599899724241665, 24.12146930115369, 17.525510204081634, 72.59358288770053, 22.52342354307863, 36.4957085466865, 36.49570876043215, 58.96022953386144, 59.032979831642685, 85.04952035895755, 89.44281524926686, 90.71478749659407, 82.90633326501332, 83.32487077445744, 83.60224097110705, 84.23480083857444, 50.30742930530818, 50.030065501452896, 81.24140869799906, 88.66368345279001, 94.80582524271843, 95.04857411469759, 95.82875960482987, 93.44875994384651, 40.625, null, 52.45107601147645, 77.3532314292317, 29.303099421274208, null, 88.07994085904018, 63.0198577251881, 93.84171185800487, 58.85137826968833, 67.92639454709453, 52.719273414209496, 82.53804498698629]}],\n",
       "                        {\"title\": \"Scores > 4\"},\n",
       "                        {\"responsive\": true}\n",
       "                    ).then(function(){\n",
       "                            \n",
       "var gd = document.getElementById('cdc12d1a-fd9d-4d7a-973e-325ea035a182');\n",
       "var x = new MutationObserver(function (mutations, observer) {{\n",
       "        var display = window.getComputedStyle(gd).display;\n",
       "        if (!display || display === 'none') {{\n",
       "            console.log([gd, 'removed!']);\n",
       "            Plotly.purge(gd);\n",
       "            observer.disconnect();\n",
       "        }}\n",
       "}});\n",
       "\n",
       "// Listen for the removal of the full notebook cells\n",
       "var notebookContainer = gd.closest('#notebook-container');\n",
       "if (notebookContainer) {{\n",
       "    x.observe(notebookContainer, {childList: true});\n",
       "}}\n",
       "\n",
       "// Listen for the clearing of the current output cell\n",
       "var outputEl = gd.closest('.output');\n",
       "if (outputEl) {{\n",
       "    x.observe(outputEl, {childList: true});\n",
       "}}\n",
       "\n",
       "                        })\n",
       "                };\n",
       "                });\n",
       "            </script>\n",
       "        </div>"
      ]
     },
     "metadata": {},
     "output_type": "display_data"
    }
   ],
   "source": [
    "import plotly.io as pio\n",
    "\n",
    "population = df_joined.POP00\n",
    "percent_white = df_joined.percent_white00\n",
    "\n",
    "data = [dict(\n",
    "  type = 'scatter',\n",
    "  x = population,\n",
    "  y = percent_white,\n",
    "  mode = 'markers',\n",
    "  transforms = [dict(\n",
    "    type = 'filter',\n",
    "    target = 'y',\n",
    "    operation = '>',\n",
    "    value = 4\n",
    "  )]\n",
    ")]\n",
    "\n",
    "layout = dict(\n",
    "    title = 'Scores > 4'\n",
    ")\n",
    "\n",
    "fig_dict = dict(data=data, layout=layout)\n",
    "\n",
    "pio.show(fig_dict, validate=False)"
   ]
  },
  {
   "cell_type": "code",
   "execution_count": 51,
   "metadata": {},
   "outputs": [
    {
     "data": {
      "application/vnd.plotly.v1+json": {
       "config": {
        "plotlyServerURL": "https://plot.ly"
       },
       "data": [
        {
         "marker": {
          "color": "DarkOrange"
         },
         "mode": "markers",
         "type": "scatter",
         "x": [
          2.649738145465297,
          1.75529743453997,
          1.7887312990946178,
          1.5708125511375317,
          2.3461630517298713,
          1.0793845212478868,
          2.6979247056865923,
          1.6955172396419589,
          2.1276156384228395,
          1.900251849809036,
          2.5848431748179896,
          1.1759437162009383,
          1.871033118394597,
          1.8463782581326338,
          2.453507776934175,
          1.5600434930743876,
          1.9310287169798257,
          1.6488566328314513,
          2.016885498686237,
          2.233126085486329,
          1.5597523291148314,
          2.457889483935846,
          2.360636288237118,
          2.2009977355607475,
          2.3603423797057648,
          1.7265088563302666,
          1.9508439097925407,
          1.6256922262963724,
          1.8928447681495937,
          2.2121421866952744,
          1.7233356993098763,
          1.841298589257609,
          1.7251309199521603,
          1.6619177434005121,
          1.7315015476652724,
          1.9949341604324395,
          1.553075860545889,
          2.0937662791268368,
          2.663920870843948,
          2.296817664230934,
          1.923265779055354,
          1.6449484143660655,
          1.701136682499665,
          2.6769818404110985,
          2.0203231019104115,
          1.7452017413722587,
          2.0763661938669866,
          2.840102054591537,
          2.0480635809926517,
          2.2468812438829677,
          2.120068127982331,
          1.8591000614025925,
          1.542992720791144,
          1.860262911034849,
          1.9164423066500889,
          2.234649276472879,
          2.3355933655498022,
          2.372440832521423,
          2.1142349301017034,
          2.3540564657082914,
          1.6982408236013389,
          2.501147262093315,
          2.2051719281672035,
          1.8807628659589137,
          2.1954072586149986,
          1.9697713147915776,
          2.452651754980571,
          2.6079267265688797,
          2.8742301626132645,
          1.441401465804745,
          1.422354477828164,
          1.7982136548214194,
          2.064014827779132,
          2.35046756844649,
          2.126253978896642,
          1.1911195136703987,
          1.8775183949486514,
          2.3311898570428986,
          2.0920378941457534,
          2.3048044721248098,
          1.9110687429558564,
          1.919696772428001,
          2.074624556395314,
          2.1640206588833024,
          2.079319888050708,
          2.0476034583229836,
          1.7317350854843878,
          2.1510255145283677,
          2.0487285083965747,
          2.451793563164768,
          2.4795671519606026,
          2.0740625669935775,
          1.8498860199639542,
          1.7445078370183111,
          2.1693977416256454,
          2.0309360273394237,
          1.8624585297715697,
          2.017438742733699,
          1.7519996624207483,
          2.2792128136288876,
          1.8211485740856008,
          2.4898030819221995,
          2.16139665671632,
          2.237431409294827,
          1.5620352617035833,
          2.067752973223467,
          2.29622258043851,
          1.6185197592768261,
          1.8935125975985512,
          2.0130458186773432,
          1.4507530719012975,
          2.1260637568169165,
          2.3384642590340134,
          1.6561936236672055,
          2.140218391465643,
          1.4750866355050274,
          1.9845217962935795,
          1.353691058118682,
          2.4485670832942654,
          2.1635602151747313,
          1.9901532176496886,
          1.6899353523323362,
          2.5095023720635106,
          2.786840699701894,
          1.2568072542212991,
          2.494465612181128,
          2.6510603012595624,
          2.1352046786297905,
          1.5202927870659255,
          2.345338127017609,
          1.92763187916874,
          1.758431748882697,
          1.5079767457332154,
          2.220214998390486,
          2.317122746367739,
          1.7505877081280834,
          2.2082305348293483,
          1.542263444150743,
          2.320744412748538,
          2.0186269193696584,
          1.9253720912370604,
          1.9593016509883419,
          2.3475544628023473,
          2.3001646559460034,
          2.2117861297410837,
          2.0550804839989545,
          2.0311284511650824,
          2.24735210479941,
          2.092997823671495,
          2.2730205627457942,
          1.875953290592776,
          1.0260648943571444,
          2.4155298407437655,
          2.874791858789703,
          2.1765457774274326,
          1.9599379066866,
          1.9454221024415868,
          1.9523783248900761,
          2.0069637633200017,
          1.5511925085012446,
          1.7931622168319088,
          1.6011892689398948,
          2.099519664555108,
          1.8813435390516549,
          2.198084529591184,
          1.9301187361029997,
          2.394534075128497,
          2.085413560534177,
          2.8762798915878935,
          1.241455630843563,
          1.7412333246980367,
          2.3605947566594843,
          3.011330282722559,
          1.900546088913816,
          2.017467597271356,
          1.909474302994558,
          2.5325828450350367,
          1.8850768546095924,
          2.272027935951242,
          1.8720793604405315,
          1.4909764979016022,
          2.1254190881853727,
          2.2012739253741302,
          2.5172903530129047,
          1.9558211894330735,
          1.7530551745150555,
          2.2251044386476106,
          2.096294836895093,
          2.1122660308490557,
          1.9707549185010889,
          2.464135427997508,
          2.1477970865502893,
          2.7618634833363926,
          2.4444226794242017,
          2.2636199184400843,
          1.349024663753497,
          2.2409277121182516,
          2.168112881458824,
          2.3243806691214224,
          2.4177768378829034,
          1.8396487232844294,
          2.329602247380163,
          1.775077827592364,
          2.7819512300036138,
          1.4672193333931007,
          1.2957245758404867,
          1.33971149367036,
          1.6437777663347806,
          1.5523538405761088,
          2.7824315614814568,
          1.8694002007687263,
          1.4629296842490256,
          2.4457531907119168,
          1.765390424471363,
          1.505258649383441,
          2.35033557105972,
          2.249344870631213,
          1.826017326817909,
          2.5630160000964914,
          2.05164063188429,
          2.64677983954292,
          2.201096352799962,
          2.623522216247944,
          2.043761078570171,
          1.5121022412083869,
          2.979747459624559,
          1.7816903328069729,
          1.9204648548444414,
          1.7198405980314981,
          1.9186422204141766,
          2.0970677764327177,
          2.0807320715496016,
          2.264408115039477,
          2.716863283590227,
          1.951814171284597,
          1.5067517058214293,
          1.5270727493961465,
          1.7336981927203494,
          1.330321676952427,
          2.330011929775594,
          1.8007145745475688,
          1.8756060086788597,
          1.9992434068647986,
          1.4413518301618273,
          1.6554734556895832,
          2.269884610275189,
          2.2474156523145172,
          1.822731227719745,
          2.7242139656501827,
          1.477709230976905,
          1.8620051159380082,
          1.9076641027458123,
          0.8827659999413839,
          2.775011525446432,
          2.1465328058160233,
          1.5821642472368833,
          2.820469377142978,
          2.234264800068953,
          2.1718104560087856,
          1.7572006407199816,
          2.042489089614087,
          1.389727873508257,
          2.3180104377699378,
          1.8502246724627118,
          2.0536192786218495,
          2.4808219448798825,
          2.113899244339623,
          2.1049869781853072,
          2.1105997219288737,
          1.7066913584418748,
          2.3344018877737076,
          2.6173436443217937,
          2.3035222640391724,
          2.3539635257859532,
          1.6490873924327247,
          1.6528851108508298,
          1.423649590283264,
          2.4929012283313745,
          1.8983280529570528,
          2.5599375769923944,
          1.6872353269252798,
          1.8249964068685676,
          2.038170034876503,
          2.3685800274638047,
          2.024300078319803,
          2.0844499020030867,
          2.006611026922246,
          2.0708750881103843,
          1.5534119928461023,
          2.0323708403893113,
          1.9253684025954134,
          1.977270207645661,
          2.1969346223746595,
          1.7277287435964457,
          1.966196789038148,
          1.8810552468905986,
          2.166920801989945,
          2.3139082604062358,
          1.6178298950505243,
          2.234364172441046,
          2.826313328087534,
          1.41153722966695,
          1.6679312418739545,
          1.6477689600623315,
          1.8883609113826838,
          2.6491396343816005,
          2.005341070538871,
          1.7221225618851095,
          2.248721401722229,
          1.760078187571661,
          2.449364864808774,
          2.122106816097604,
          2.5555117585481075,
          1.7354623027387925,
          3.2123428449488123,
          2.329833850013383,
          2.26183206103468,
          1.9795246209569344,
          1.709761152346229,
          1.6528925289505638,
          1.9456090695597643,
          1.681092085802748,
          2.113070284899368,
          1.669561027261072,
          2.2484330803356034,
          2.3824486816498784,
          1.7176637970390864,
          2.4770744271018774,
          1.9048232256991269,
          2.46211515443529,
          2.175266538916495,
          2.448931328662837,
          1.601192081788127,
          1.95728240528831,
          2.580571704236374,
          1.7527852609273684,
          1.185119509727682,
          1.2229643274094177,
          0.9974237389295755,
          1.1543344312332695,
          1.835344334724607,
          2.511411233136689,
          1.823108288194731,
          2.1294109414405726,
          1.9560034039345573,
          2.0034195781744097,
          1.9327204641021136,
          1.9303278622768036,
          2.184465639990807,
          1.529606931423474,
          2.4040508709338897,
          2.3680071732991053,
          1.9219770636496396,
          2.3221573696928726,
          1.7194622294971293,
          1.7851107904498646,
          2.062505540108033,
          1.9239115899660555,
          1.8205047869313509,
          1.7310207844853616,
          1.7770021112855827,
          2.375667497678595,
          1.2226706377326588,
          2.1409977457477334,
          1.9054252192748053,
          2.2911253999998595,
          2.206029445455746,
          0.8869862129388308,
          2.2338586441909705,
          2.1297096973793685,
          2.008745134650621,
          1.8125304734888434,
          2.3413124887822487,
          1.8347882761155871,
          2.7338870506598747,
          2.2257531421977257,
          2.855131226975793,
          1.6857864012319057,
          1.2976297439068594,
          2.285915838994326,
          2.3410816246901147,
          2.014144038821903,
          1.3844827017021428,
          1.8208419261135527,
          2.2471942135681338,
          1.9263294697385018,
          1.9536059258110414,
          1.929816412535299,
          1.6264341377493994,
          1.7867918695665603,
          1.4293778317917871,
          2.7071839793244106,
          1.8098508499448072,
          2.191044072727023,
          1.5912456221434763,
          2.317811295840433,
          1.2507356089458792,
          2.3682460472219824,
          1.9858528300485156,
          2.8442420214402837
         ],
         "y": [
          1.4773863708623924,
          2.030552192063837,
          2.146892725553546,
          2.493159676950495,
          1.83085721544369,
          2.034585762609715,
          1.1430133083690526,
          1.6679324543909169,
          2.180646380222097,
          2.4416697305212853,
          1.887305492373755,
          2.8225422092793173,
          2.7040996905796373,
          1.9757390032900761,
          1.0345987995304848,
          1.2889734496776049,
          1.6888564693490349,
          2.4463364431696677,
          2.124108915113507,
          1.162300873510875,
          1.9084936684519351,
          2.6453445498252464,
          1.8500781250789389,
          1.7000121530897334,
          2.8218496410072462,
          2.021363814719339,
          1.808337160485568,
          2.1400668635313114,
          2.0068658905496353,
          1.8283430887059624,
          2.4833825314207854,
          2.4462807211137947,
          2.3363446232564415,
          1.958845112970585,
          2.4587601505597934,
          1.9801189683365297,
          2.1866573068915365,
          2.4134747471758002,
          2.323537744106273,
          2.7159018732825086,
          2.1805136064160684,
          1.3263760056527052,
          1.5359319580070896,
          2.5400427274726907,
          1.8674867320269486,
          2.1546156580532365,
          1.6594177373876693,
          2.4003525694721204,
          1.8460671004668838,
          2.583243295443808,
          1.787106391640729,
          2.447253358687078,
          2.2697584419283476,
          1.7110432378343396,
          2.439598533098872,
          1.6393462038096007,
          1.6710131244382993,
          2.288684516845077,
          1.7498631994136047,
          1.762462773098196,
          1.862439716315843,
          1.5999323240509937,
          2.417997763869559,
          2.24340587939394,
          1.972268521323807,
          1.956643173130584,
          2.1800622051068714,
          2.706134040207629,
          2.348387921012897,
          1.7966171462898397,
          2.310967682099545,
          1.9524915311587643,
          1.9204007264785101,
          2.7465885500608502,
          1.8324248409287507,
          1.8083260339490377,
          1.219157885101907,
          1.439068341818745,
          2.1804491754938393,
          1.7220316395259043,
          2.2061655207132964,
          1.5540515790536253,
          1.6930760694673062,
          2.2698282827824015,
          2.584356952185231,
          2.236989120569608,
          2.4791323366885005,
          2.6818376685489627,
          2.4160356612616383,
          1.6326239846799897,
          1.957862114996983,
          2.2520782682739644,
          1.8340612394847058,
          2.180778414928489,
          1.368337485842214,
          1.6685488084574376,
          2.2115518982340694,
          1.1051653955550118,
          1.556914999086179,
          1.9929126728359432,
          1.3122422101521907,
          2.0228483984328367,
          1.680181003723296,
          1.883362161799667,
          1.896406858639787,
          2.075717279023463,
          1.7744845061670789,
          2.035874562929036,
          1.7595372797402467,
          2.222429404030954,
          2.6775236453152322,
          2.0787479117001166,
          2.067947702139029,
          1.534396811535519,
          2.277346490264154,
          1.696773068577507,
          1.6764611214111484,
          2.222975781143213,
          2.0724154977431484,
          2.442870180379625,
          2.5771507713985238,
          1.784127375119003,
          2.0513507960623776,
          2.704166073430129,
          2.386615700091623,
          2.2852196201213077,
          2.5224824260541796,
          1.7581588123342495,
          2.254633363765852,
          2.563701355745603,
          2.648364914248699,
          1.6775260730471104,
          1.8993303169474303,
          2.1530860694897456,
          1.8844010627960737,
          1.8432735040767807,
          2.2736005312727814,
          1.8586360068531942,
          1.2848348435201138,
          2.1447389263358274,
          1.830202883771629,
          1.7073876073078667,
          1.3737047397376378,
          2.405528986788682,
          1.1091549472599942,
          1.3202665581110815,
          1.8896615749755425,
          2.491582234260279,
          2.5238823622730613,
          1.5380069460282542,
          1.9289471216065797,
          1.3958174499649725,
          2.4044828255099633,
          1.4093749357919279,
          1.942721701997105,
          2.4131935115799004,
          1.9110343885880365,
          2.588064137530296,
          1.651996710723659,
          2.1476761878187496,
          2.3413128743294935,
          1.9441153078235711,
          2.5545257056985275,
          2.219251833875277,
          1.3450201627966631,
          3.5834410816151854,
          2.259457457636267,
          2.042937317529436,
          1.4404748725334096,
          2.0327071275222464,
          1.8160228676637251,
          2.2577414664121287,
          2.148668116484746,
          2.7412037940277516,
          2.056900549010527,
          2.205402191995419,
          2.148982740604577,
          1.9406040787762426,
          1.9266399210719904,
          2.4404000810673927,
          2.312010854135452,
          1.748223358378488,
          1.554625558810804,
          1.9730359900212582,
          2.4645759926697575,
          1.9889882454928087,
          2.698574035691189,
          1.689971885170626,
          2.056656215066322,
          0.9934784556137004,
          1.7617328476358838,
          1.876351472543255,
          2.204375109796836,
          2.6842647354684543,
          2.013977435745496,
          2.581567032643527,
          2.2646724305863932,
          2.394540872084826,
          1.813538057269629,
          2.5539965374594553,
          1.570814288515342,
          2.198063444480127,
          1.6191751597174964,
          1.792741779040498,
          1.4154385581111575,
          1.7934608365415912,
          2.1404467586043863,
          1.9724918147685446,
          1.4608940234985344,
          2.5882959426765475,
          2.1348883753233836,
          2.4032261732303053,
          2.3140907678538754,
          1.7340528932131147,
          1.2219812165551844,
          1.6338302527073174,
          2.4900623397092922,
          1.578581570519874,
          2.3264174737296246,
          1.7550372107484704,
          2.1572436979415937,
          1.2704320589499223,
          2.466830066399986,
          1.9841325199638071,
          2.3543303195863627,
          2.0759446597532385,
          2.3192255181195773,
          1.9592271842945599,
          2.297342617405545,
          1.3961709263103828,
          1.5677157230217973,
          2.290189601792614,
          1.9843286975162013,
          1.908498331511915,
          1.9281550821394569,
          2.2006900437380663,
          1.7626624983030323,
          2.2041230386981026,
          1.6336832603725284,
          1.8370991827920138,
          2.3939806686876843,
          2.4285009711383565,
          1.561138255897855,
          2.335453898891351,
          1.5843270711860389,
          2.2932092926876315,
          1.240475176272282,
          1.553155723024355,
          1.7964110888708553,
          1.9334056180456163,
          2.569445771739595,
          2.3615996696014108,
          2.6301871634289524,
          2.482643159214227,
          1.8868545793460623,
          1.893469246272512,
          2.427588648880505,
          2.016148572409136,
          1.9372025310026728,
          1.4659189107939232,
          1.957415951377784,
          0.8836014373224614,
          1.817552977940526,
          1.6080438993352797,
          2.277029739015742,
          1.8085310574337354,
          1.8683793802635678,
          2.538842185868199,
          1.5803729019325536,
          2.1266635580626616,
          1.2418932210094136,
          2.0358916469778605,
          2.164106298158738,
          2.343948388718765,
          1.6405267226725415,
          2.1278627767778375,
          2.127261679871476,
          1.992307346360945,
          2.0600065114911215,
          2.1854137286926663,
          2.1591521699527405,
          1.6015956443646402,
          1.5216553958702073,
          3.002392114127469,
          2.7679169145712352,
          1.4433224495783865,
          2.180087096815138,
          2.2509748331012442,
          2.300534894064194,
          2.05615817457894,
          1.6292512243165502,
          1.927031837454761,
          1.8035499448836727,
          2.0537492464159017,
          1.8926514783517694,
          1.9473297494851927,
          2.407420989907153,
          2.4922232799818897,
          1.5275587308912708,
          1.8160279582261674,
          1.683680018489933,
          2.489488884784044,
          1.9762528389806002,
          2.5795957616632945,
          1.8089676581373118,
          2.0103999976742633,
          1.460521421281103,
          2.521014214594472,
          1.8549551649690965,
          1.4059374194698182,
          1.7630154859386922,
          1.0780368248919447,
          1.9872731309204834,
          2.0449950969656783,
          2.11523126680206,
          2.5992432734308135,
          1.8796095384178646,
          2.3229823668021083,
          2.1248954756052,
          1.9226713438103984,
          1.1692791912305784,
          2.3790004669382703,
          1.7984104203430729,
          2.0071823566603304,
          1.4918156894458081,
          2.1131982135244005,
          2.0432123269249383,
          2.011767047588306,
          1.9460827482817105,
          2.4196873163010273,
          2.3864883450313368,
          2.2903667410083286,
          3.328431502468146,
          1.759909867849074,
          1.848192993786448,
          1.5940785236565316,
          2.174394478518564,
          1.7250050427759303,
          0.9206553033335811,
          1.5146647496685182,
          2.0289007596623536,
          2.4039149339790233,
          1.3772233768539874,
          1.7550231486862622,
          1.9442592778196315,
          1.7085850042301194,
          2.21246551738249,
          2.0016003367901503,
          2.1285063657935326,
          1.7099140297018536,
          2.6146145312084395,
          1.9998499964966576,
          2.517419848265323,
          1.824400934533489,
          2.236015785664332,
          1.7282464868011063,
          1.619636299579692,
          1.7182598673906164,
          1.981653325572093,
          1.9125066164129163,
          2.615682803862025,
          1.5405183081452216,
          1.563864667018074,
          2.6800752586582104,
          2.2435134635632434,
          1.247435653133576,
          2.198907639458391,
          2.0949330797358385,
          1.1422223813086196,
          1.8521750298650268,
          1.993018019265529,
          2.2925610068500264,
          2.381798266619075,
          2.038298708444054,
          2.413380321305695,
          1.9414906901554585,
          1.6570012701040913,
          1.6263272627408203,
          2.2170581178265265,
          1.2167323657603957,
          2.2711230284479247,
          1.557370773043246,
          1.8563103617157044,
          2.202152761101167,
          2.487176360320539,
          1.2237276142540425,
          1.6775287152186171,
          2.019624676949241,
          1.7615654661649351,
          2.344649240536482,
          1.1654437738173895,
          2.1447206562284187,
          2.1703680706011266,
          2.0196321588566524,
          2.440894693034137,
          1.5081702985814285,
          2.44344670319587,
          1.7188318388359325,
          2.2902202072314934,
          1.8703183122059155
         ]
        },
        {
         "marker": {
          "color": "Crimson"
         },
         "mode": "markers",
         "type": "scatter",
         "x": [
          3.488605877489355,
          3.468281957855025,
          2.121567855851645,
          2.907305283713683,
          2.9445406088750485,
          2.8572748407259003,
          2.546602340938821,
          4.110862736744106,
          3.1254580059453128,
          3.9330095965998533,
          2.6585108078928177,
          2.3629219432134914,
          3.0793486673518706,
          2.662058037529526,
          4.434087577400107,
          3.1472537095134716,
          3.691559481006362,
          2.865458536725901,
          2.8043632165439183,
          2.9814531494375185,
          3.21343035694561,
          3.509752107056893,
          2.92670759093299,
          2.5914890555896095,
          2.359274054108067,
          2.953992382376561,
          3.3437776355740536,
          3.274768245785845,
          2.9893094705676364,
          2.6399167204586322,
          3.0880591580321335,
          3.343082927318994,
          2.9779094060897835,
          3.0674210932753314,
          2.9096974046097293,
          3.5492995608375435,
          2.737079839596799,
          3.1113213725799334,
          3.2366568180072677,
          3.4353135349521353,
          3.8975308595306855,
          3.405272285522527,
          3.359527941275555,
          2.117857746587212,
          3.3638423665823023,
          4.376230567414307,
          2.501993408659396,
          2.3882880903565704,
          2.8712076946643865,
          3.612748875659341,
          3.3148502953780943,
          2.713725476118401,
          2.978405890963685,
          3.6222233890643447,
          3.4035718488728874,
          4.457326181713787,
          3.60341200818673,
          3.2121403296015774,
          3.368835765496469,
          2.7906094854506684,
          2.41333619908022,
          3.1031742793005543,
          3.294336626285783,
          2.1628301849608036,
          2.686586120918583,
          2.778446458902619,
          3.159385441508571,
          2.843720364680772,
          3.267058026206743,
          3.058867347733195,
          3.6361965054940844,
          1.9732994042253045,
          3.994274782825755,
          3.850604407799616,
          3.030190251688281,
          3.3901939285514078,
          3.363929040247977,
          2.557626223344041,
          3.098799039509524,
          3.46690450745974,
          3.185890055164493,
          3.6307924607092508,
          3.0569976660414966,
          3.048450593173812,
          2.539317752385264,
          2.7812771701760175,
          2.724169391377159,
          4.0232901106532655,
          3.1443033312884174,
          2.4003440991850926,
          3.2391590328968625,
          2.8847977820213733,
          1.167741371744217,
          3.2879114226922903,
          2.0683807300938986,
          3.347078652153745,
          2.423241840581694,
          2.125005323764108,
          3.2966049905894272,
          2.1034837408351894,
          2.7319804779137282,
          3.122626436952698,
          3.3673395138768316,
          3.446930721864391,
          2.978231226867779,
          2.5005627913867867,
          4.154289255582555,
          2.6364112076768413,
          4.082153388891898,
          2.728485016029585,
          3.6967714160050846,
          3.6419793233700797,
          2.3726794515738634,
          3.213170704203738,
          3.4532352175145133,
          3.4205892729139467,
          2.8806375298296625,
          3.181176027243687,
          2.7631861914026654,
          2.296911972467327,
          3.590407342164144,
          2.6641911468488657,
          3.8278549149637304,
          3.361470540743766,
          2.4644119958922697,
          2.9032810082752576,
          2.8281690507628956,
          2.477467410208823,
          3.3008577539359982,
          2.712831555683289,
          3.9790149081784785,
          3.5165347446110578,
          2.4718865612750522,
          2.98859968707161,
          2.8639438846982497,
          2.061295287713282,
          3.5587534072608715,
          3.5698852891267974,
          3.5553007288214316,
          2.7258072854438775,
          3.641391582971351,
          2.8741482387464674,
          3.561088667754645,
          4.087516689070524,
          3.084065928782852,
          2.148510733713308,
          2.8098592820829924,
          3.3845915198301038,
          3.7319246274183726,
          2.3197247787638533,
          2.885671021403129,
          3.140003475756073,
          3.2609989945577045,
          3.5462541618018504,
          2.430936206127722,
          2.7459130216646783,
          3.604779886560347,
          3.2354009466745843,
          3.2690283904690123,
          3.6751940991985523,
          3.062432033825454,
          3.316802053243102,
          2.8112616828496275,
          2.192993987838975,
          2.222845268831348,
          3.044592332209579,
          2.88026356920227,
          2.6072380988850132,
          3.1908085778515014,
          2.4658370687350506,
          3.066802359829782,
          2.9882864650078362,
          2.4960066512326518,
          1.621076471677289,
          3.873916431883666,
          3.1899823414223745,
          1.4015244364427166,
          2.7441428294198866,
          3.236272638749591,
          2.863115585579726,
          3.3481980675619374,
          2.416039448850456,
          3.105100637530841,
          2.9679097843589064,
          2.890162807822816,
          2.867382658926999,
          3.1198557331155765,
          3.559632848212855,
          2.681928119879969,
          2.7556559855928415,
          3.096338995045507,
          2.927910014622751,
          3.2313613754065953,
          3.4309744414526056,
          3.7747133417105254,
          2.9301335110370017,
          1.6336212020037806,
          2.9582252763269223,
          3.212322256129704,
          2.88782699008035,
          2.908058302939745,
          1.540494892411732,
          3.3047906019692275,
          2.805580602587996,
          2.0933540352538786,
          2.4771467606430253,
          2.4811020351206476,
          3.365249449405021,
          3.3369828579140433,
          3.9088502294893503,
          3.388754887387751,
          2.1890103688093956,
          2.1544744341166853,
          3.6784352127174786,
          3.9400117206576866,
          2.857351141112782,
          3.3352817929110667,
          2.0970652297322925,
          1.8336469450009276,
          2.295585794074294,
          2.7856874846381903,
          2.687174168755177,
          2.86193156192924,
          2.705391340380534,
          3.4075806869697978,
          3.8565281707964068,
          3.021718477656261,
          4.217998492464277,
          2.6193571738194925,
          2.6849379636366364,
          3.23264079764577,
          2.7871207427935953,
          3.706231353465985,
          2.6153353108812665,
          3.793616391065184,
          3.116505009776266,
          4.539271668430068,
          2.7215310566110764,
          2.8783836553755227,
          3.0873910903718924,
          1.6913832197508303,
          3.3613590765231227,
          3.2885076679591014,
          3.065591018343261,
          2.073362531167981,
          2.072063376018806,
          3.351971111160507,
          3.705107212534413,
          3.9566787790933327,
          2.4627350856300483,
          2.38152118334473,
          2.83683672018927,
          1.814561914875698,
          2.6466412943737536,
          3.5110737825091896,
          3.980761500821649,
          3.1674932721807982,
          3.9843321891331613,
          3.2465237627994425,
          3.114818349083352,
          2.89713528751348,
          3.1121622274631973,
          2.8470882316536668,
          2.915453548565905,
          2.6028648990361964,
          3.1554191410752024,
          3.008669049010672,
          2.112251979230333,
          2.8555796989488083,
          2.486597164563301,
          1.771079724755535,
          3.290330189604794,
          3.935212952713429,
          4.421838113438942,
          3.9374517176957777,
          2.4775190684351633,
          3.7051469956248324,
          3.6719394021336833,
          1.807302281163227,
          3.51677310923487,
          3.3763062212349153,
          3.097684950184075,
          3.173170029406083,
          3.0349844296464505,
          3.979161509193017,
          2.7589266997008677,
          2.8800363640672324,
          3.0044333902237104,
          3.165398445090043,
          1.9420501194052613,
          3.832784285729379,
          3.135719854105894,
          3.341474757494867,
          3.1183895950486744,
          2.8881352372296694,
          2.786855091901823,
          3.0576684854037124,
          3.0912314045600575,
          3.69315705325089,
          3.207634647770804,
          2.9199067983803637,
          4.19193906656544,
          2.232344306211887,
          2.1958744944578994,
          3.212761231267697,
          2.8725760287056277,
          1.9352424070650998,
          2.812662203173313,
          2.5736065375915302,
          3.6786771602549773,
          2.6272489377418533,
          3.6303687893203636,
          3.2758690201261103,
          2.876201452773072,
          3.0127030971528894,
          3.2571952437803318,
          1.6151768918230205,
          3.1962410445416203,
          2.772528233519497,
          4.078751619832867,
          2.5852386259427025,
          3.685538352003133,
          1.4910452253565334,
          3.488775008990573,
          3.165661652353965,
          2.8517901054685586,
          2.9274664137081983,
          2.8436636456265894,
          3.2538019257499657,
          2.919450861221809,
          1.9273573749492947,
          2.888513485931803,
          4.3408330425755315,
          3.0281077229149806,
          3.1744727678812232,
          2.737167295507426,
          3.104432679697037,
          3.106767334776966,
          2.843278848326093,
          3.517958039362449,
          2.4461532257494025,
          2.9218828750789947,
          3.3030322513752584,
          2.839797492394851,
          2.265672209654853,
          3.3349585311405825,
          2.4107034251827986,
          2.7316151029479734,
          2.5031114464870354,
          2.933562951575341,
          2.742368416072192,
          2.7152460797523554,
          3.408587356388431,
          4.0575653408499885,
          2.785491471588592,
          3.313593104458873,
          2.786751905704715,
          3.0593653476194977,
          3.676650806970138,
          3.030175943416229,
          2.5106715892771523,
          2.5620440326274165,
          2.6299521449633,
          2.992017467215502,
          3.5148068712546485,
          2.1847218953388423,
          2.3776264983870092,
          2.4452752730543716,
          1.9503567469624667,
          3.795553610093089,
          2.9781728137415433,
          4.1404675918342955,
          2.145399794891399,
          3.7765093879555045,
          2.5790108807016217,
          2.7555781888953694,
          2.4066213257450775,
          2.4300816843074045,
          2.2057527532628676,
          3.1297997745722843,
          2.211479380483907,
          2.8549188808062764,
          2.9944790734539604,
          3.3999664112436663,
          3.0602350334397284,
          3.1927955000775525,
          3.3086469363397932,
          2.98964948084417,
          3.218008751144559,
          2.4121678851330124,
          2.5347177391776468,
          4.13850648428361,
          2.9929594713740655,
          2.573699595199827,
          3.827927940642568,
          2.905894433691139,
          2.612105383929604,
          2.130605070886773,
          3.467695119631327,
          2.348219455673465,
          2.6765804519879777,
          3.386459992765761,
          3.1101801445548722,
          2.948143875694915,
          2.871607331063083,
          3.687556412480593,
          4.338164488681008,
          2.670743502508569,
          3.3413424543016297,
          4.15728018321247,
          3.6474342329704377,
          2.5879010245329663,
          2.741591623755631,
          2.641218874499857,
          2.451933954207136,
          2.6256569083988026,
          3.157125287364204,
          2.647782596907118,
          3.525719917590215,
          3.0739532781436756,
          2.761724590286315,
          3.531653952124195,
          3.1913830954322764,
          3.1589205754714627,
          3.624023072720688,
          3.343959269115024,
          2.9346609198971745,
          3.562532905720648,
          3.1855906813227968,
          4.750385257723865,
          3.6592131006282718,
          3.6919275728248335,
          3.7745960229770934,
          3.047903766753772,
          3.7877372469178368,
          3.0140142165417947,
          2.5012959580887584,
          2.661608124953906,
          3.3167703325995235,
          2.0633280656047877,
          3.125011752872551,
          2.562989948731577,
          3.430929829537112,
          2.5522957736055916,
          4.123381957365195,
          3.4606908773945175,
          2.23868462449572,
          4.055255610050301,
          2.863648494383793,
          2.5635143341681195,
          2.385720410204281,
          3.340658843793392,
          3.9027131199988028,
          2.6529438164810126,
          2.4014274948971686,
          2.3161799471803297,
          3.8978431868161283,
          4.002437533026555,
          2.7909173159284215,
          3.3226230524645324,
          2.998256729834675,
          2.9636218186324546,
          3.578413579330451,
          3.264573600408266,
          3.1976939800568864,
          2.824452638784055,
          3.489360215826527,
          2.8307964585534235,
          3.029953492840714,
          3.131686496265262,
          2.27930660684793,
          2.8205430199433135,
          2.812438191800957,
          3.060721851898992,
          2.3329091455346873,
          2.2880689794329947,
          3.974077261975852,
          3.693866163836188,
          3.5334236140212614,
          4.094891271953992,
          3.2517571425297356,
          2.945352759043692,
          3.289305449060076,
          1.872427805129899,
          2.341150112747381,
          3.455182237812869,
          3.019569289894006,
          2.2334181989512594,
          3.3951221229358772,
          3.5993409893959685,
          3.400727736818601,
          2.9818219323367128,
          2.498370311968569,
          3.064556962901109,
          3.2561545972954105,
          2.7848467214008172,
          3.3618215460760195,
          3.1886591602514827,
          3.1998687302828994,
          1.7804761267070475,
          3.6486557958126555,
          4.034635031971132,
          2.75851942525823,
          2.1138606112887115,
          3.383357591651885,
          2.7206041605397,
          2.419792577395074,
          3.7306297535252115,
          2.1699723885083015,
          3.4304571732222344,
          2.2513595274565077,
          3.877360789665284,
          3.3099314796254227,
          2.845563002095902,
          3.0896219748689324,
          3.3492524324900055,
          3.497936626458667,
          3.496674856975339,
          3.3280381595498554,
          2.7135710026604034,
          3.398447728516424,
          2.213205370794304,
          3.6024558627608947,
          3.5238035023893186,
          3.836448625500258,
          2.6467322356988876,
          3.111727019081762,
          3.5149716005293246,
          3.1907147274613537,
          2.7439996295769284,
          3.1843986402282347,
          3.0408192208010476,
          3.597422364846303,
          2.6229224683471255,
          3.2036926833413926,
          3.1757586754083427,
          3.454396874578238,
          2.9562646528728744,
          3.076388781343253,
          2.957430195059485,
          3.020439517532311,
          3.00501549765449,
          2.803953269170946,
          4.69637987643579,
          2.4936531072373183,
          2.2959540562007437,
          2.522624032326525,
          2.5739684706041683,
          3.00686194269325,
          3.858559678705582,
          4.013030269797003,
          3.1423946183779163,
          1.5010723714442025,
          3.230615611844795,
          2.2136072606247637,
          2.6995790548874954,
          2.310166327115315,
          3.2553735477666224,
          2.6240355332417686,
          3.4632718064644195,
          3.2863814378351304,
          2.8559582599483253,
          3.048336222361253,
          3.550451859841344,
          2.7767208504743266,
          3.54937133129594,
          2.9884103959874517,
          3.1616384716829167,
          3.479544522681312,
          3.798919514147357,
          3.3124873193266433,
          3.035023130377798,
          3.4324115608573016,
          2.0727314175481237,
          3.9833769618923762,
          2.2047052405830083,
          3.5422256599307738,
          2.6615016416727704,
          3.3043509507236237,
          2.9300595455659524,
          3.182153855441266,
          2.51952777625994,
          1.7036231974201994,
          3.243993389609123,
          2.6396973968254307,
          2.610818539439054,
          2.5648061179307704,
          4.190646749331073,
          2.6506845371242003,
          3.196087787471433,
          2.3037340836783375,
          3.9138580283567905,
          2.6662392188302397,
          1.4396149145321433,
          4.627169924337093,
          2.3411108204656688,
          3.7853594005689004,
          3.439843536325468,
          3.391307781489017,
          2.8611091017775023
         ],
         "y": [
          6.07567950073004,
          6.489574403566759,
          5.87962771352024,
          6.100523852834511,
          6.371316085970027,
          6.033355534894364,
          5.830006721960617,
          6.580671563327174,
          6.136675439549155,
          5.949930934165189,
          5.689642070411253,
          5.59776111121761,
          6.3575136421524165,
          6.3797072344933525,
          5.131715576369172,
          5.753803344229698,
          6.38595525474785,
          6.969722647705806,
          6.860141523037158,
          6.37674647009685,
          6.549332982050444,
          5.7890322172132,
          6.309813809411592,
          5.505134119627448,
          5.775249461492456,
          6.1283884333075065,
          6.867174828020063,
          6.299185331735133,
          6.109530836266628,
          5.931966574925661,
          5.4710228114631,
          6.2411452009149375,
          5.860362521366707,
          6.095617882252178,
          5.644267634410194,
          6.048501981481431,
          5.385188453224175,
          6.201562487675881,
          6.52789036478877,
          6.365580325951647,
          6.845529503647778,
          6.129821406371629,
          6.202145376605022,
          6.205945935142338,
          5.64810807935511,
          6.861293387705181,
          6.395431233763439,
          5.902869431410327,
          5.638867302998487,
          6.232603713296582,
          6.343019021436158,
          6.055153947163931,
          6.074429806845341,
          5.924753266627613,
          5.998901041708811,
          6.534056531087453,
          6.560247154321876,
          5.399929246602083,
          6.055551549814468,
          5.518359460132119,
          5.465721819320557,
          6.234381114607802,
          5.6633722648094045,
          4.738657019923581,
          6.258061061251431,
          6.512856732035728,
          6.815510855831424,
          5.841482683262943,
          6.578178123205158,
          4.9515953456768,
          5.582640157238526,
          6.207587748563339,
          6.188613707234914,
          6.528167165092728,
          6.382675795852825,
          5.96737199213932,
          6.611699145360574,
          6.274593056052658,
          6.68683549322253,
          5.678289202910714,
          6.120101470528075,
          5.82816173043987,
          6.322365322935436,
          5.912179133162334,
          5.899259121099966,
          5.469404140889285,
          6.123281653534559,
          6.446195749637923,
          6.403278244364105,
          4.79358720591628,
          5.352141722471737,
          6.802056210218637,
          5.92494946035551,
          5.94042350834221,
          6.466134176455683,
          6.078658117986762,
          5.746963943044172,
          5.916061220589232,
          6.758864274954353,
          5.447443538751252,
          6.520489935091664,
          5.875043153923426,
          5.891508513951895,
          6.745165235909389,
          5.742850562032147,
          6.334023346144459,
          5.854778619682123,
          5.4271731895404365,
          5.933592052122134,
          6.467570549731149,
          5.925643128951102,
          6.2197687307920715,
          6.075421326112065,
          6.018732543198976,
          5.833000870906334,
          6.05271292020701,
          5.18684261920008,
          5.820671337750018,
          5.278422549873639,
          6.107879538723909,
          6.141864194558368,
          5.681573900201869,
          6.320523043382973,
          6.158332220454459,
          6.117428834899303,
          5.8554384557859445,
          6.189117201473896,
          6.421682814254307,
          5.7358227236959385,
          5.673262229655924,
          6.475604302823356,
          5.072628608925037,
          4.9530839622448255,
          5.274109164973095,
          6.072696411931812,
          6.0609496829275615,
          6.198602015343312,
          6.030390916169089,
          6.6149519230923985,
          6.630313378344866,
          6.4636042555451825,
          5.537679891404986,
          6.145431154396178,
          5.653518927719623,
          5.7997158537625895,
          5.590655119405261,
          6.004284970651093,
          6.2176496334350215,
          6.031476819936274,
          5.522652523854829,
          5.389585924806958,
          5.6951660779019475,
          5.688944657049621,
          6.313709266842833,
          5.8722876565006725,
          5.924533464437952,
          5.93722597320687,
          6.438739259142457,
          6.654446048863981,
          6.1708234148696715,
          5.9006776667252305,
          6.561000610514256,
          6.175296557207013,
          5.831561245973674,
          6.404229484519016,
          6.0828919784046,
          5.426387708419166,
          6.2507625223881185,
          6.119930080710116,
          5.257343431110373,
          5.139582737918417,
          6.054520402148109,
          6.273342501831707,
          6.2434320200510784,
          5.455608090438178,
          5.861196020355366,
          6.266635967611435,
          5.385699116483243,
          6.034113192871659,
          6.085331707759062,
          6.369502387625586,
          5.018443227867493,
          6.057994930800443,
          6.807248740936146,
          5.75151706448357,
          5.873504268947112,
          6.381596892087339,
          5.69474295956693,
          6.46278195383921,
          6.216213264497845,
          5.370370629946507,
          6.0402373670718905,
          5.416407216405209,
          6.381019127372598,
          5.327730210891476,
          5.275298514112345,
          5.5450782354903545,
          5.678770933538609,
          6.5259763150072105,
          5.992696985930381,
          6.116401816948157,
          6.429959899418042,
          5.7208760399493075,
          5.768669713192086,
          5.661018984860116,
          6.313961858954949,
          6.653310483831615,
          6.103496997724906,
          5.7506880025153935,
          5.791855589145322,
          5.5550742839174365,
          6.292458147823425,
          5.57482849505106,
          5.898146773813759,
          5.532415462080307,
          5.24021476015142,
          4.9840178386777305,
          5.644015395871586,
          6.087231399114468,
          5.872873773474088,
          5.910570045017912,
          5.57144804784532,
          5.6273273751361454,
          5.572919062842258,
          6.084493464464016,
          6.819061934857423,
          5.9454509960974,
          5.45228783791467,
          6.509049332517797,
          5.600573434084318,
          6.223013056550928,
          5.822937836131938,
          6.03243328231917,
          7.373065372718224,
          5.7009894925681595,
          5.765327824121018,
          6.15009418044103,
          5.991221294467491,
          5.837571639521805,
          5.724636982732563,
          6.236197546480122,
          6.430950627050553,
          5.619166371340472,
          5.545426759472922,
          6.731962495218863,
          5.429937531095048,
          6.286133379641909,
          6.175650949287521,
          5.558812180430252,
          6.303797437198037,
          5.558713461490766,
          5.564179560614783,
          5.444179904611794,
          6.333713282100703,
          5.8202616609790425,
          6.434100528147978,
          5.675943987742516,
          6.2458650344501425,
          6.562964237863155,
          5.965594594762745,
          5.54981890149992,
          5.862971623075048,
          6.502694988352533,
          6.295637534497049,
          5.845604762588502,
          5.302251050178443,
          6.286214714022687,
          6.65236250163215,
          6.659437630820434,
          6.173116079853815,
          5.923588331440157,
          5.685551491903933,
          5.770959273075746,
          5.340099878394131,
          6.853820623565066,
          5.989214244286788,
          6.953762055387151,
          5.970201033850725,
          5.35267282735601,
          6.744626040910996,
          5.656069190452998,
          5.824836715593805,
          6.659420435998243,
          6.583509284306508,
          5.189517433666456,
          6.0004219079767305,
          5.5641859979594095,
          6.215655288828224,
          6.724870836638007,
          5.79300407101521,
          6.597289120261621,
          5.628542289848259,
          6.868908206328583,
          5.669738443627787,
          5.814664812865468,
          6.118782947102924,
          5.43976222133254,
          6.619843541284505,
          5.571993238348356,
          6.245580625631929,
          5.484347984210032,
          6.0439131784449405,
          5.995789529831594,
          5.844703637204318,
          6.195687677502597,
          5.5532670971055,
          6.608746306666999,
          6.080978942765592,
          4.883422384831267,
          6.802224630355193,
          6.181085448894545,
          6.621426088624843,
          5.9292253771098515,
          5.094953869461758,
          5.832112852034864,
          5.509572015504114,
          5.984607015086088,
          5.806909255053781,
          6.083604912028014,
          5.294236767747713,
          6.021512961770832,
          5.816167266731052,
          6.253403548311438,
          5.3230789804598455,
          5.829971609697766,
          6.66335973592317,
          5.527574840904881,
          6.295221474143721,
          6.532202446077942,
          5.995964092657389,
          6.395404256887656,
          6.4165758537508575,
          6.627902203964878,
          5.852867119453645,
          5.955080366645064,
          6.321649140408189,
          5.701742380131907,
          6.019220282666586,
          5.720571735180059,
          5.068383551029198,
          6.133966057506823,
          6.6809720187631765,
          5.851174127596016,
          6.033718956364116,
          5.818758019448826,
          5.703614662957457,
          6.054441785554189,
          6.429172439198718,
          6.886337334339167,
          6.330590622827374,
          5.615454478975418,
          5.429193748515349,
          6.52273223430698,
          6.126685996615469,
          5.755814702623033,
          5.577531145437677,
          5.676911053321975,
          6.493369963719705,
          5.9910562511908605,
          5.4398120091502395,
          6.34903159589269,
          6.12404103845268,
          5.883547131682264,
          6.243086099388916,
          5.668926417090799,
          6.385561838976783,
          5.430055639338254,
          5.638622909456202,
          5.449246783597651,
          5.833376376050439,
          5.697019586638737,
          5.854941632493031,
          6.001907132710525,
          6.221701015963505,
          6.058612829106029,
          6.100743881301401,
          6.641729577246537,
          5.893403775637563,
          5.4166656242544144,
          6.380552724991978,
          6.734347818215971,
          6.074915477655862,
          6.335813689114486,
          5.737753325141462,
          6.074270141503554,
          6.254810127517944,
          6.151430230718331,
          5.784120938874726,
          6.652251916855614,
          6.069126433641464,
          6.372079282216155,
          6.1623115946514195,
          6.349469689066802,
          6.3733013186343985,
          5.913537940240188,
          6.33347152514501,
          6.864182290743711,
          6.799596805558844,
          6.305616568019245,
          6.674902089262081
         ]
        },
        {
         "marker": {
          "color": "RebeccaPurple"
         },
         "mode": "markers",
         "type": "scatter",
         "x": [
          3.7384057312672625,
          4.294479261345714,
          4.0149752195777335,
          3.6426129192440437,
          4.03304211730585,
          4.195259259616254,
          3.860794465740769,
          4.387426316124862,
          4.269845535652542,
          3.7449772270659674,
          4.20181805253443,
          4.022394537499306,
          3.8896639512377975,
          3.936673671482908,
          3.911000999456817,
          3.7567457954835723,
          3.9103353786554838,
          4.138537782326903,
          4.28518840549951,
          4.291667667350499,
          3.8853278541485743,
          3.976550464574088,
          3.8281257366164247,
          4.206000497713342,
          3.6703694162784792,
          3.7273446885909727,
          3.8728306602832583,
          4.05029468889424,
          3.9357704039893413,
          4.0066127811458925,
          4.00950692443302,
          4.046655945411208,
          3.7931074037600103,
          3.9321280458837458,
          4.115522467154342,
          4.056045831143133,
          4.218661326603466,
          3.850755144917342,
          4.181252282683721,
          4.293324948054543,
          3.971481941634071,
          4.05318602887365,
          4.04503788685993,
          4.107134117873964,
          4.077584222980064,
          4.293897541561279,
          4.102672987122636,
          4.172900340704512,
          4.066305346100141,
          3.7916459435957424,
          4.086672070420898,
          3.9540087954708225,
          3.872982516170561,
          3.8211258712382214,
          3.9859205838850644,
          3.8785071796134476,
          4.4079344531413245,
          4.319354379604331,
          3.9466139408700514,
          4.14183143437461,
          4.231392499411646,
          3.9654321256209055,
          4.36964667359358,
          4.184422073628112,
          3.9796581772477704,
          3.640140174089723,
          3.8068089583535016,
          4.063738508556093,
          3.9123472101958336,
          3.9958493476803154,
          3.8425372916063374,
          4.049384546227752,
          3.908339592399049,
          3.6894588250456497,
          3.9316713497402582,
          3.885594822557381,
          3.689668472161636,
          4.284635437265154,
          3.984789806768994,
          3.9346267842568907,
          4.1500749622985,
          3.983480952207665,
          4.153458725297483,
          3.7038690761439463,
          3.7926688264876396,
          4.109045518196969,
          4.298379472179051,
          4.006002305234335,
          4.043286852869853,
          3.835311219161328,
          3.99401282463295,
          3.858212657271885,
          3.9679523768420624,
          4.144456024726943,
          3.600247211165333,
          4.042605145278971,
          3.8390916829293116,
          3.870683556923723,
          4.227634553856215,
          4.059087932931728,
          4.1867259256417775,
          3.6472450568497417,
          3.917956636145667,
          3.9092665750554,
          3.8821140657497786,
          4.088046900876045,
          4.17918429623419,
          3.7786442260237094,
          3.807467487124001,
          3.7496085135185346,
          4.229521334921355,
          3.897053015586336,
          3.979723843759857,
          3.9335578641179163,
          3.8072686830197924,
          4.074652194730089,
          4.076605373951441,
          4.188265116909908,
          3.9549159835283842,
          3.9405825157552226,
          3.8828956506444574,
          4.297628313354616,
          4.2015133970796255,
          3.991922958423277,
          4.12979472120401,
          3.882831250525277,
          4.4108949523970615,
          3.8816867499466547,
          3.924062208909951,
          3.9257936964210387,
          4.340246993068615,
          4.029520487197361,
          4.216883712686576,
          3.9779806083362677,
          3.7574050057646726,
          4.155096034774404,
          3.87470869073399,
          3.7362954977190905,
          3.9167848911679632,
          4.1263314201981744,
          4.352857011762512,
          3.722504413101013,
          3.56018840180624,
          4.18603139947834,
          4.060010251789867,
          3.887305417885303,
          4.08367238332672,
          4.145888614756197,
          4.382413749307419,
          3.973931613543599,
          4.255960034326129,
          3.909648811680982,
          3.8980662518772506,
          4.084754686038901,
          3.7770064991608994,
          3.7396081947968076,
          4.1926386194280845,
          3.6073849864102803,
          4.022669651034658,
          3.9350515471918066,
          3.9253959615369887,
          3.733538941296714,
          3.592819512998602,
          3.8678183047879853,
          3.7669563995939925,
          3.914916195039008,
          4.017607219224976,
          3.851647953699492,
          3.7854949396018083,
          4.058008272871101,
          3.84763306188431,
          3.808093635421013,
          3.94016934582783,
          4.057098287232365,
          4.421749685999726,
          4.322712310218457,
          3.7473238117867105,
          3.7351501565639365,
          4.0129434744375105,
          4.1113997880344995,
          3.9736588874851417,
          4.434466559251085,
          4.235414044044049,
          4.3280114735298145,
          3.916425876443619,
          3.8206240827167766,
          3.785942341680784,
          3.9772436871372503,
          3.7483300165434033,
          3.8732415892606626,
          3.913846052121546,
          4.1888569458398575,
          3.9054248881940894,
          3.7185871779004955,
          3.9105053454540726,
          4.037716582475541,
          4.112183611682669,
          3.815668189097241,
          4.129475023170281,
          4.277365118788209
         ],
         "y": [
          4.195806647256715,
          4.09551834300918,
          3.820755277562594,
          3.7556819988606347,
          3.1880219723258847,
          4.243178634435654,
          3.858356446576124,
          4.061032596048598,
          4.200509939616335,
          3.685438891721855,
          4.406798274269028,
          4.045244232749612,
          4.598798099064509,
          4.067575067142509,
          4.127449878128001,
          3.890649144641752,
          4.5905655971378785,
          3.1586028872792693,
          3.7868672155517786,
          3.8779784024207817,
          3.387831705957887,
          3.682118939296437,
          3.1311509158139943,
          4.0761548949098545,
          3.437908982369492,
          4.147944189488144,
          3.895287321615474,
          3.666914594886085,
          3.3784869560011392,
          3.7268608622193042,
          4.124249528086188,
          3.9498211224533715,
          4.266497519714439,
          3.684667892591005,
          4.642397408626191,
          3.904818633454189,
          3.6619218283743034,
          4.5240636925565845,
          4.5430265911851855,
          3.963932273164227,
          3.8062791533333944,
          4.364029855574254,
          3.6423452127346425,
          4.374076616717121,
          3.4451277920156844,
          3.96664269083865,
          4.004702202877287,
          4.483239784456219,
          3.2683121465000413,
          4.093774688787151,
          3.951715813289595,
          4.001163314863235,
          3.6463577816792823,
          3.4792420678037574,
          3.814745175299731,
          3.903334486131895,
          4.590073391323529,
          4.04455265741258,
          3.9982894981316943,
          4.2793385170457565,
          3.355258143636884,
          4.289026578860411,
          4.36615045652299,
          4.362857547021847,
          3.866802375088009,
          3.5059000016278596,
          3.6060285977621596,
          4.0989815475786875,
          4.21470593809492,
          4.510619910205639,
          4.608573618005799,
          4.348499312355712,
          4.013571519356561,
          4.1059679826840805,
          3.905875052098087,
          4.421947380868596,
          4.237708619734455,
          4.086343868944242,
          3.4977597847840527,
          4.4186645539831195,
          3.389245453750515,
          4.4927128749522165,
          4.393851801590694,
          3.3651724719655105,
          3.980614265582852,
          3.5034422960285174,
          3.9421522720508926,
          4.222067989407639,
          3.9453447601172886,
          3.4544527901518256,
          4.104330910875708,
          4.103795082626569,
          3.9891060757758017,
          3.5819444100828757,
          3.8600873351874814,
          4.10741086736735,
          3.9379800714793345,
          4.845048847722534,
          4.1024317749807855,
          3.917295466376652,
          4.193039180609663,
          3.5578270587089085,
          4.16830207994123,
          4.646717691009373,
          3.6464914725706628,
          4.119534007627374,
          4.306845238577929,
          3.3226605167711583,
          4.655555572287546,
          3.5820007243727146,
          3.865978376945373,
          4.152268871055247,
          3.9069588463676013,
          4.321174666846584,
          4.060370166790143,
          4.227900516401868,
          4.0299893694813465,
          4.588800645827145,
          3.193800796402723,
          4.145637698645495,
          3.8797539488797033,
          3.616386953207714,
          3.6753559957708637,
          3.771208008728218,
          4.231364214693121,
          3.6415478255014064,
          3.934726569455433,
          4.110099548046317,
          3.5376833395602842,
          4.444939461034656,
          4.968635721575052,
          3.730393077117408,
          4.3677788737672865,
          3.8761282078321138,
          4.2133469825707826,
          3.9273179218054874,
          4.883464651992444,
          3.8702672737532664,
          4.317572163657125,
          4.242946461047077,
          3.566415945246141,
          3.13589223478028,
          4.231634886300014,
          4.337807375830753,
          3.7853178327170918,
          3.746650132984938,
          4.390721302224855,
          4.34113336996512,
          4.382350658945792,
          4.104560814216088,
          3.6846894155510825,
          3.5128106481221604,
          3.20274538170709,
          3.976927296838265,
          4.767667503517413,
          4.191157822415334,
          3.968103902584083,
          3.3917015133468387,
          3.732827973371637,
          4.0019755102494186,
          3.911112209728798,
          4.3633358760676995,
          3.936557292042541,
          4.278122398095742,
          3.9543126959474497,
          3.924093133422513,
          4.503653411839904,
          3.6992090263156236,
          3.886778852831418,
          3.482905038950197,
          4.038695741838695,
          4.427800400413516,
          4.272560764053442,
          4.293604723967563,
          4.42121695040907,
          4.250087274786924,
          4.30330377285968,
          4.1614896308310465,
          3.6098445818515428,
          4.210438039866892,
          4.378354549929641,
          3.6432361379125164,
          4.094395992412879,
          4.4331252286284455,
          3.8506094178445682,
          3.4715573705376523,
          4.024613588745184,
          4.637474223808675,
          3.634821832289136,
          3.9578439718377667,
          3.699587621128661,
          3.856413082377181,
          4.093908512420363,
          4.590725443450474,
          3.7133423896126567,
          3.7165380023086687,
          3.650999023844762,
          3.562483821804871,
          3.3861199759151526,
          3.6594951203957886
         ]
        }
       ],
       "layout": {
        "showlegend": false,
        "template": {
         "data": {
          "bar": [
           {
            "error_x": {
             "color": "#2a3f5f"
            },
            "error_y": {
             "color": "#2a3f5f"
            },
            "marker": {
             "line": {
              "color": "#E5ECF6",
              "width": 0.5
             }
            },
            "type": "bar"
           }
          ],
          "barpolar": [
           {
            "marker": {
             "line": {
              "color": "#E5ECF6",
              "width": 0.5
             }
            },
            "type": "barpolar"
           }
          ],
          "carpet": [
           {
            "aaxis": {
             "endlinecolor": "#2a3f5f",
             "gridcolor": "white",
             "linecolor": "white",
             "minorgridcolor": "white",
             "startlinecolor": "#2a3f5f"
            },
            "baxis": {
             "endlinecolor": "#2a3f5f",
             "gridcolor": "white",
             "linecolor": "white",
             "minorgridcolor": "white",
             "startlinecolor": "#2a3f5f"
            },
            "type": "carpet"
           }
          ],
          "choropleth": [
           {
            "colorbar": {
             "outlinewidth": 0,
             "ticks": ""
            },
            "type": "choropleth"
           }
          ],
          "contour": [
           {
            "colorbar": {
             "outlinewidth": 0,
             "ticks": ""
            },
            "colorscale": [
             [
              0,
              "#0d0887"
             ],
             [
              0.1111111111111111,
              "#46039f"
             ],
             [
              0.2222222222222222,
              "#7201a8"
             ],
             [
              0.3333333333333333,
              "#9c179e"
             ],
             [
              0.4444444444444444,
              "#bd3786"
             ],
             [
              0.5555555555555556,
              "#d8576b"
             ],
             [
              0.6666666666666666,
              "#ed7953"
             ],
             [
              0.7777777777777778,
              "#fb9f3a"
             ],
             [
              0.8888888888888888,
              "#fdca26"
             ],
             [
              1,
              "#f0f921"
             ]
            ],
            "type": "contour"
           }
          ],
          "contourcarpet": [
           {
            "colorbar": {
             "outlinewidth": 0,
             "ticks": ""
            },
            "type": "contourcarpet"
           }
          ],
          "heatmap": [
           {
            "colorbar": {
             "outlinewidth": 0,
             "ticks": ""
            },
            "colorscale": [
             [
              0,
              "#0d0887"
             ],
             [
              0.1111111111111111,
              "#46039f"
             ],
             [
              0.2222222222222222,
              "#7201a8"
             ],
             [
              0.3333333333333333,
              "#9c179e"
             ],
             [
              0.4444444444444444,
              "#bd3786"
             ],
             [
              0.5555555555555556,
              "#d8576b"
             ],
             [
              0.6666666666666666,
              "#ed7953"
             ],
             [
              0.7777777777777778,
              "#fb9f3a"
             ],
             [
              0.8888888888888888,
              "#fdca26"
             ],
             [
              1,
              "#f0f921"
             ]
            ],
            "type": "heatmap"
           }
          ],
          "heatmapgl": [
           {
            "colorbar": {
             "outlinewidth": 0,
             "ticks": ""
            },
            "colorscale": [
             [
              0,
              "#0d0887"
             ],
             [
              0.1111111111111111,
              "#46039f"
             ],
             [
              0.2222222222222222,
              "#7201a8"
             ],
             [
              0.3333333333333333,
              "#9c179e"
             ],
             [
              0.4444444444444444,
              "#bd3786"
             ],
             [
              0.5555555555555556,
              "#d8576b"
             ],
             [
              0.6666666666666666,
              "#ed7953"
             ],
             [
              0.7777777777777778,
              "#fb9f3a"
             ],
             [
              0.8888888888888888,
              "#fdca26"
             ],
             [
              1,
              "#f0f921"
             ]
            ],
            "type": "heatmapgl"
           }
          ],
          "histogram": [
           {
            "marker": {
             "colorbar": {
              "outlinewidth": 0,
              "ticks": ""
             }
            },
            "type": "histogram"
           }
          ],
          "histogram2d": [
           {
            "colorbar": {
             "outlinewidth": 0,
             "ticks": ""
            },
            "colorscale": [
             [
              0,
              "#0d0887"
             ],
             [
              0.1111111111111111,
              "#46039f"
             ],
             [
              0.2222222222222222,
              "#7201a8"
             ],
             [
              0.3333333333333333,
              "#9c179e"
             ],
             [
              0.4444444444444444,
              "#bd3786"
             ],
             [
              0.5555555555555556,
              "#d8576b"
             ],
             [
              0.6666666666666666,
              "#ed7953"
             ],
             [
              0.7777777777777778,
              "#fb9f3a"
             ],
             [
              0.8888888888888888,
              "#fdca26"
             ],
             [
              1,
              "#f0f921"
             ]
            ],
            "type": "histogram2d"
           }
          ],
          "histogram2dcontour": [
           {
            "colorbar": {
             "outlinewidth": 0,
             "ticks": ""
            },
            "colorscale": [
             [
              0,
              "#0d0887"
             ],
             [
              0.1111111111111111,
              "#46039f"
             ],
             [
              0.2222222222222222,
              "#7201a8"
             ],
             [
              0.3333333333333333,
              "#9c179e"
             ],
             [
              0.4444444444444444,
              "#bd3786"
             ],
             [
              0.5555555555555556,
              "#d8576b"
             ],
             [
              0.6666666666666666,
              "#ed7953"
             ],
             [
              0.7777777777777778,
              "#fb9f3a"
             ],
             [
              0.8888888888888888,
              "#fdca26"
             ],
             [
              1,
              "#f0f921"
             ]
            ],
            "type": "histogram2dcontour"
           }
          ],
          "mesh3d": [
           {
            "colorbar": {
             "outlinewidth": 0,
             "ticks": ""
            },
            "type": "mesh3d"
           }
          ],
          "parcoords": [
           {
            "line": {
             "colorbar": {
              "outlinewidth": 0,
              "ticks": ""
             }
            },
            "type": "parcoords"
           }
          ],
          "scatter": [
           {
            "marker": {
             "colorbar": {
              "outlinewidth": 0,
              "ticks": ""
             }
            },
            "type": "scatter"
           }
          ],
          "scatter3d": [
           {
            "line": {
             "colorbar": {
              "outlinewidth": 0,
              "ticks": ""
             }
            },
            "marker": {
             "colorbar": {
              "outlinewidth": 0,
              "ticks": ""
             }
            },
            "type": "scatter3d"
           }
          ],
          "scattercarpet": [
           {
            "marker": {
             "colorbar": {
              "outlinewidth": 0,
              "ticks": ""
             }
            },
            "type": "scattercarpet"
           }
          ],
          "scattergeo": [
           {
            "marker": {
             "colorbar": {
              "outlinewidth": 0,
              "ticks": ""
             }
            },
            "type": "scattergeo"
           }
          ],
          "scattergl": [
           {
            "marker": {
             "colorbar": {
              "outlinewidth": 0,
              "ticks": ""
             }
            },
            "type": "scattergl"
           }
          ],
          "scattermapbox": [
           {
            "marker": {
             "colorbar": {
              "outlinewidth": 0,
              "ticks": ""
             }
            },
            "type": "scattermapbox"
           }
          ],
          "scatterpolar": [
           {
            "marker": {
             "colorbar": {
              "outlinewidth": 0,
              "ticks": ""
             }
            },
            "type": "scatterpolar"
           }
          ],
          "scatterpolargl": [
           {
            "marker": {
             "colorbar": {
              "outlinewidth": 0,
              "ticks": ""
             }
            },
            "type": "scatterpolargl"
           }
          ],
          "scatterternary": [
           {
            "marker": {
             "colorbar": {
              "outlinewidth": 0,
              "ticks": ""
             }
            },
            "type": "scatterternary"
           }
          ],
          "surface": [
           {
            "colorbar": {
             "outlinewidth": 0,
             "ticks": ""
            },
            "colorscale": [
             [
              0,
              "#0d0887"
             ],
             [
              0.1111111111111111,
              "#46039f"
             ],
             [
              0.2222222222222222,
              "#7201a8"
             ],
             [
              0.3333333333333333,
              "#9c179e"
             ],
             [
              0.4444444444444444,
              "#bd3786"
             ],
             [
              0.5555555555555556,
              "#d8576b"
             ],
             [
              0.6666666666666666,
              "#ed7953"
             ],
             [
              0.7777777777777778,
              "#fb9f3a"
             ],
             [
              0.8888888888888888,
              "#fdca26"
             ],
             [
              1,
              "#f0f921"
             ]
            ],
            "type": "surface"
           }
          ],
          "table": [
           {
            "cells": {
             "fill": {
              "color": "#EBF0F8"
             },
             "line": {
              "color": "white"
             }
            },
            "header": {
             "fill": {
              "color": "#C8D4E3"
             },
             "line": {
              "color": "white"
             }
            },
            "type": "table"
           }
          ]
         },
         "layout": {
          "annotationdefaults": {
           "arrowcolor": "#2a3f5f",
           "arrowhead": 0,
           "arrowwidth": 1
          },
          "colorscale": {
           "diverging": [
            [
             0,
             "#8e0152"
            ],
            [
             0.1,
             "#c51b7d"
            ],
            [
             0.2,
             "#de77ae"
            ],
            [
             0.3,
             "#f1b6da"
            ],
            [
             0.4,
             "#fde0ef"
            ],
            [
             0.5,
             "#f7f7f7"
            ],
            [
             0.6,
             "#e6f5d0"
            ],
            [
             0.7,
             "#b8e186"
            ],
            [
             0.8,
             "#7fbc41"
            ],
            [
             0.9,
             "#4d9221"
            ],
            [
             1,
             "#276419"
            ]
           ],
           "sequential": [
            [
             0,
             "#0d0887"
            ],
            [
             0.1111111111111111,
             "#46039f"
            ],
            [
             0.2222222222222222,
             "#7201a8"
            ],
            [
             0.3333333333333333,
             "#9c179e"
            ],
            [
             0.4444444444444444,
             "#bd3786"
            ],
            [
             0.5555555555555556,
             "#d8576b"
            ],
            [
             0.6666666666666666,
             "#ed7953"
            ],
            [
             0.7777777777777778,
             "#fb9f3a"
            ],
            [
             0.8888888888888888,
             "#fdca26"
            ],
            [
             1,
             "#f0f921"
            ]
           ],
           "sequentialminus": [
            [
             0,
             "#0d0887"
            ],
            [
             0.1111111111111111,
             "#46039f"
            ],
            [
             0.2222222222222222,
             "#7201a8"
            ],
            [
             0.3333333333333333,
             "#9c179e"
            ],
            [
             0.4444444444444444,
             "#bd3786"
            ],
            [
             0.5555555555555556,
             "#d8576b"
            ],
            [
             0.6666666666666666,
             "#ed7953"
            ],
            [
             0.7777777777777778,
             "#fb9f3a"
            ],
            [
             0.8888888888888888,
             "#fdca26"
            ],
            [
             1,
             "#f0f921"
            ]
           ]
          },
          "colorway": [
           "#636efa",
           "#EF553B",
           "#00cc96",
           "#ab63fa",
           "#FFA15A",
           "#19d3f3",
           "#FF6692",
           "#B6E880",
           "#FF97FF",
           "#FECB52"
          ],
          "font": {
           "color": "#2a3f5f"
          },
          "geo": {
           "bgcolor": "white",
           "lakecolor": "white",
           "landcolor": "#E5ECF6",
           "showlakes": true,
           "showland": true,
           "subunitcolor": "white"
          },
          "hoverlabel": {
           "align": "left"
          },
          "hovermode": "closest",
          "mapbox": {
           "style": "light"
          },
          "paper_bgcolor": "white",
          "plot_bgcolor": "#E5ECF6",
          "polar": {
           "angularaxis": {
            "gridcolor": "white",
            "linecolor": "white",
            "ticks": ""
           },
           "bgcolor": "#E5ECF6",
           "radialaxis": {
            "gridcolor": "white",
            "linecolor": "white",
            "ticks": ""
           }
          },
          "scene": {
           "xaxis": {
            "backgroundcolor": "#E5ECF6",
            "gridcolor": "white",
            "gridwidth": 2,
            "linecolor": "white",
            "showbackground": true,
            "ticks": "",
            "zerolinecolor": "white"
           },
           "yaxis": {
            "backgroundcolor": "#E5ECF6",
            "gridcolor": "white",
            "gridwidth": 2,
            "linecolor": "white",
            "showbackground": true,
            "ticks": "",
            "zerolinecolor": "white"
           },
           "zaxis": {
            "backgroundcolor": "#E5ECF6",
            "gridcolor": "white",
            "gridwidth": 2,
            "linecolor": "white",
            "showbackground": true,
            "ticks": "",
            "zerolinecolor": "white"
           }
          },
          "shapedefaults": {
           "line": {
            "color": "#2a3f5f"
           }
          },
          "ternary": {
           "aaxis": {
            "gridcolor": "white",
            "linecolor": "white",
            "ticks": ""
           },
           "baxis": {
            "gridcolor": "white",
            "linecolor": "white",
            "ticks": ""
           },
           "bgcolor": "#E5ECF6",
           "caxis": {
            "gridcolor": "white",
            "linecolor": "white",
            "ticks": ""
           }
          },
          "title": {
           "x": 0.05
          },
          "xaxis": {
           "automargin": true,
           "gridcolor": "white",
           "linecolor": "white",
           "ticks": "",
           "zerolinecolor": "white",
           "zerolinewidth": 2
          },
          "yaxis": {
           "automargin": true,
           "gridcolor": "white",
           "linecolor": "white",
           "ticks": "",
           "zerolinecolor": "white",
           "zerolinewidth": 2
          }
         }
        },
        "title": {
         "text": "Highlight Clusters"
        },
        "updatemenus": [
         {
          "buttons": [
           {
            "args": [
             "shapes",
             []
            ],
            "label": "None",
            "method": "relayout"
           },
           {
            "args": [
             "shapes",
             [
              {
               "line": {
                "color": "DarkOrange"
               },
               "type": "circle",
               "x0": 0.8827659999413839,
               "x1": 3.2123428449488123,
               "xref": "x",
               "y0": 0.8836014373224614,
               "y1": 3.5834410816151854,
               "yref": "y"
              }
             ]
            ],
            "label": "Cluster 0",
            "method": "relayout"
           },
           {
            "args": [
             "shapes",
             [
              {
               "line": {
                "color": "Crimson"
               },
               "type": "circle",
               "x0": 1.167741371744217,
               "x1": 4.750385257723865,
               "xref": "x",
               "y0": 4.738657019923581,
               "y1": 7.373065372718224,
               "yref": "y"
              }
             ]
            ],
            "label": "Cluster 1",
            "method": "relayout"
           },
           {
            "args": [
             "shapes",
             [
              {
               "line": {
                "color": "RebeccaPurple"
               },
               "type": "circle",
               "x0": 3.56018840180624,
               "x1": 4.434466559251085,
               "xref": "x",
               "y0": 3.1311509158139943,
               "y1": 4.968635721575052,
               "yref": "y"
              }
             ]
            ],
            "label": "Cluster 2",
            "method": "relayout"
           },
           {
            "args": [
             "shapes",
             [
              {
               "line": {
                "color": "DarkOrange"
               },
               "type": "circle",
               "x0": 0.8827659999413839,
               "x1": 3.2123428449488123,
               "xref": "x",
               "y0": 0.8836014373224614,
               "y1": 3.5834410816151854,
               "yref": "y"
              },
              {
               "line": {
                "color": "Crimson"
               },
               "type": "circle",
               "x0": 1.167741371744217,
               "x1": 4.750385257723865,
               "xref": "x",
               "y0": 4.738657019923581,
               "y1": 7.373065372718224,
               "yref": "y"
              },
              {
               "line": {
                "color": "RebeccaPurple"
               },
               "type": "circle",
               "x0": 3.56018840180624,
               "x1": 4.434466559251085,
               "xref": "x",
               "y0": 3.1311509158139943,
               "y1": 4.968635721575052,
               "yref": "y"
              }
             ]
            ],
            "label": "All",
            "method": "relayout"
           }
          ]
         }
        ]
       }
      },
      "text/html": [
       "<div>\n",
       "        \n",
       "        \n",
       "            <div id=\"456c5348-747b-4af4-8b32-f40c7846d6aa\" class=\"plotly-graph-div\" style=\"height:525px; width:100%;\"></div>\n",
       "            <script type=\"text/javascript\">\n",
       "                require([\"plotly\"], function(Plotly) {\n",
       "                    window.PLOTLYENV=window.PLOTLYENV || {};\n",
       "                    \n",
       "                if (document.getElementById(\"456c5348-747b-4af4-8b32-f40c7846d6aa\")) {\n",
       "                    Plotly.newPlot(\n",
       "                        '456c5348-747b-4af4-8b32-f40c7846d6aa',\n",
       "                        [{\"marker\": {\"color\": \"DarkOrange\"}, \"mode\": \"markers\", \"type\": \"scatter\", \"x\": [2.649738145465297, 1.75529743453997, 1.7887312990946178, 1.5708125511375317, 2.3461630517298713, 1.0793845212478868, 2.6979247056865923, 1.6955172396419589, 2.1276156384228395, 1.900251849809036, 2.5848431748179896, 1.1759437162009383, 1.871033118394597, 1.8463782581326338, 2.453507776934175, 1.5600434930743876, 1.9310287169798257, 1.6488566328314513, 2.016885498686237, 2.233126085486329, 1.5597523291148314, 2.457889483935846, 2.360636288237118, 2.2009977355607475, 2.3603423797057648, 1.7265088563302666, 1.9508439097925407, 1.6256922262963724, 1.8928447681495937, 2.2121421866952744, 1.7233356993098763, 1.841298589257609, 1.7251309199521603, 1.6619177434005121, 1.7315015476652724, 1.9949341604324395, 1.553075860545889, 2.0937662791268368, 2.663920870843948, 2.296817664230934, 1.923265779055354, 1.6449484143660655, 1.701136682499665, 2.6769818404110985, 2.0203231019104115, 1.7452017413722587, 2.0763661938669866, 2.840102054591537, 2.0480635809926517, 2.2468812438829677, 2.120068127982331, 1.8591000614025925, 1.542992720791144, 1.860262911034849, 1.9164423066500889, 2.234649276472879, 2.3355933655498022, 2.372440832521423, 2.1142349301017034, 2.3540564657082914, 1.6982408236013389, 2.501147262093315, 2.2051719281672035, 1.8807628659589137, 2.1954072586149986, 1.9697713147915776, 2.452651754980571, 2.6079267265688797, 2.8742301626132645, 1.441401465804745, 1.422354477828164, 1.7982136548214194, 2.064014827779132, 2.35046756844649, 2.126253978896642, 1.1911195136703987, 1.8775183949486514, 2.3311898570428986, 2.0920378941457534, 2.3048044721248098, 1.9110687429558564, 1.919696772428001, 2.074624556395314, 2.1640206588833024, 2.079319888050708, 2.0476034583229836, 1.7317350854843878, 2.1510255145283677, 2.0487285083965747, 2.451793563164768, 2.4795671519606026, 2.0740625669935775, 1.8498860199639542, 1.7445078370183111, 2.1693977416256454, 2.0309360273394237, 1.8624585297715697, 2.017438742733699, 1.7519996624207483, 2.2792128136288876, 1.8211485740856008, 2.4898030819221995, 2.16139665671632, 2.237431409294827, 1.5620352617035833, 2.067752973223467, 2.29622258043851, 1.6185197592768261, 1.8935125975985512, 2.0130458186773432, 1.4507530719012975, 2.1260637568169165, 2.3384642590340134, 1.6561936236672055, 2.140218391465643, 1.4750866355050274, 1.9845217962935795, 1.353691058118682, 2.4485670832942654, 2.1635602151747313, 1.9901532176496886, 1.6899353523323362, 2.5095023720635106, 2.786840699701894, 1.2568072542212991, 2.494465612181128, 2.6510603012595624, 2.1352046786297905, 1.5202927870659255, 2.345338127017609, 1.92763187916874, 1.758431748882697, 1.5079767457332154, 2.220214998390486, 2.317122746367739, 1.7505877081280834, 2.2082305348293483, 1.542263444150743, 2.320744412748538, 2.0186269193696584, 1.9253720912370604, 1.9593016509883419, 2.3475544628023473, 2.3001646559460034, 2.2117861297410837, 2.0550804839989545, 2.0311284511650824, 2.24735210479941, 2.092997823671495, 2.2730205627457942, 1.875953290592776, 1.0260648943571444, 2.4155298407437655, 2.874791858789703, 2.1765457774274326, 1.9599379066866, 1.9454221024415868, 1.9523783248900761, 2.0069637633200017, 1.5511925085012446, 1.7931622168319088, 1.6011892689398948, 2.099519664555108, 1.8813435390516549, 2.198084529591184, 1.9301187361029997, 2.394534075128497, 2.085413560534177, 2.8762798915878935, 1.241455630843563, 1.7412333246980367, 2.3605947566594843, 3.011330282722559, 1.900546088913816, 2.017467597271356, 1.909474302994558, 2.5325828450350367, 1.8850768546095924, 2.272027935951242, 1.8720793604405315, 1.4909764979016022, 2.1254190881853727, 2.2012739253741302, 2.5172903530129047, 1.9558211894330735, 1.7530551745150555, 2.2251044386476106, 2.096294836895093, 2.1122660308490557, 1.9707549185010889, 2.464135427997508, 2.1477970865502893, 2.7618634833363926, 2.4444226794242017, 2.2636199184400843, 1.349024663753497, 2.2409277121182516, 2.168112881458824, 2.3243806691214224, 2.4177768378829034, 1.8396487232844294, 2.329602247380163, 1.775077827592364, 2.7819512300036138, 1.4672193333931007, 1.2957245758404867, 1.33971149367036, 1.6437777663347806, 1.5523538405761088, 2.7824315614814568, 1.8694002007687263, 1.4629296842490256, 2.4457531907119168, 1.765390424471363, 1.505258649383441, 2.35033557105972, 2.249344870631213, 1.826017326817909, 2.5630160000964914, 2.05164063188429, 2.64677983954292, 2.201096352799962, 2.623522216247944, 2.043761078570171, 1.5121022412083869, 2.979747459624559, 1.7816903328069729, 1.9204648548444414, 1.7198405980314981, 1.9186422204141766, 2.0970677764327177, 2.0807320715496016, 2.264408115039477, 2.716863283590227, 1.951814171284597, 1.5067517058214293, 1.5270727493961465, 1.7336981927203494, 1.330321676952427, 2.330011929775594, 1.8007145745475688, 1.8756060086788597, 1.9992434068647986, 1.4413518301618273, 1.6554734556895832, 2.269884610275189, 2.2474156523145172, 1.822731227719745, 2.7242139656501827, 1.477709230976905, 1.8620051159380082, 1.9076641027458123, 0.8827659999413839, 2.775011525446432, 2.1465328058160233, 1.5821642472368833, 2.820469377142978, 2.234264800068953, 2.1718104560087856, 1.7572006407199816, 2.042489089614087, 1.389727873508257, 2.3180104377699378, 1.8502246724627118, 2.0536192786218495, 2.4808219448798825, 2.113899244339623, 2.1049869781853072, 2.1105997219288737, 1.7066913584418748, 2.3344018877737076, 2.6173436443217937, 2.3035222640391724, 2.3539635257859532, 1.6490873924327247, 1.6528851108508298, 1.423649590283264, 2.4929012283313745, 1.8983280529570528, 2.5599375769923944, 1.6872353269252798, 1.8249964068685676, 2.038170034876503, 2.3685800274638047, 2.024300078319803, 2.0844499020030867, 2.006611026922246, 2.0708750881103843, 1.5534119928461023, 2.0323708403893113, 1.9253684025954134, 1.977270207645661, 2.1969346223746595, 1.7277287435964457, 1.966196789038148, 1.8810552468905986, 2.166920801989945, 2.3139082604062358, 1.6178298950505243, 2.234364172441046, 2.826313328087534, 1.41153722966695, 1.6679312418739545, 1.6477689600623315, 1.8883609113826838, 2.6491396343816005, 2.005341070538871, 1.7221225618851095, 2.248721401722229, 1.760078187571661, 2.449364864808774, 2.122106816097604, 2.5555117585481075, 1.7354623027387925, 3.2123428449488123, 2.329833850013383, 2.26183206103468, 1.9795246209569344, 1.709761152346229, 1.6528925289505638, 1.9456090695597643, 1.681092085802748, 2.113070284899368, 1.669561027261072, 2.2484330803356034, 2.3824486816498784, 1.7176637970390864, 2.4770744271018774, 1.9048232256991269, 2.46211515443529, 2.175266538916495, 2.448931328662837, 1.601192081788127, 1.95728240528831, 2.580571704236374, 1.7527852609273684, 1.185119509727682, 1.2229643274094177, 0.9974237389295755, 1.1543344312332695, 1.835344334724607, 2.511411233136689, 1.823108288194731, 2.1294109414405726, 1.9560034039345573, 2.0034195781744097, 1.9327204641021136, 1.9303278622768036, 2.184465639990807, 1.529606931423474, 2.4040508709338897, 2.3680071732991053, 1.9219770636496396, 2.3221573696928726, 1.7194622294971293, 1.7851107904498646, 2.062505540108033, 1.9239115899660555, 1.8205047869313509, 1.7310207844853616, 1.7770021112855827, 2.375667497678595, 1.2226706377326588, 2.1409977457477334, 1.9054252192748053, 2.2911253999998595, 2.206029445455746, 0.8869862129388308, 2.2338586441909705, 2.1297096973793685, 2.008745134650621, 1.8125304734888434, 2.3413124887822487, 1.8347882761155871, 2.7338870506598747, 2.2257531421977257, 2.855131226975793, 1.6857864012319057, 1.2976297439068594, 2.285915838994326, 2.3410816246901147, 2.014144038821903, 1.3844827017021428, 1.8208419261135527, 2.2471942135681338, 1.9263294697385018, 1.9536059258110414, 1.929816412535299, 1.6264341377493994, 1.7867918695665603, 1.4293778317917871, 2.7071839793244106, 1.8098508499448072, 2.191044072727023, 1.5912456221434763, 2.317811295840433, 1.2507356089458792, 2.3682460472219824, 1.9858528300485156, 2.8442420214402837], \"y\": [1.4773863708623924, 2.030552192063837, 2.146892725553546, 2.493159676950495, 1.83085721544369, 2.034585762609715, 1.1430133083690526, 1.6679324543909169, 2.180646380222097, 2.4416697305212853, 1.887305492373755, 2.8225422092793173, 2.7040996905796373, 1.9757390032900761, 1.0345987995304848, 1.2889734496776049, 1.6888564693490349, 2.4463364431696677, 2.124108915113507, 1.162300873510875, 1.9084936684519351, 2.6453445498252464, 1.8500781250789389, 1.7000121530897334, 2.8218496410072462, 2.021363814719339, 1.808337160485568, 2.1400668635313114, 2.0068658905496353, 1.8283430887059624, 2.4833825314207854, 2.4462807211137947, 2.3363446232564415, 1.958845112970585, 2.4587601505597934, 1.9801189683365297, 2.1866573068915365, 2.4134747471758002, 2.323537744106273, 2.7159018732825086, 2.1805136064160684, 1.3263760056527052, 1.5359319580070896, 2.5400427274726907, 1.8674867320269486, 2.1546156580532365, 1.6594177373876693, 2.4003525694721204, 1.8460671004668838, 2.583243295443808, 1.787106391640729, 2.447253358687078, 2.2697584419283476, 1.7110432378343396, 2.439598533098872, 1.6393462038096007, 1.6710131244382993, 2.288684516845077, 1.7498631994136047, 1.762462773098196, 1.862439716315843, 1.5999323240509937, 2.417997763869559, 2.24340587939394, 1.972268521323807, 1.956643173130584, 2.1800622051068714, 2.706134040207629, 2.348387921012897, 1.7966171462898397, 2.310967682099545, 1.9524915311587643, 1.9204007264785101, 2.7465885500608502, 1.8324248409287507, 1.8083260339490377, 1.219157885101907, 1.439068341818745, 2.1804491754938393, 1.7220316395259043, 2.2061655207132964, 1.5540515790536253, 1.6930760694673062, 2.2698282827824015, 2.584356952185231, 2.236989120569608, 2.4791323366885005, 2.6818376685489627, 2.4160356612616383, 1.6326239846799897, 1.957862114996983, 2.2520782682739644, 1.8340612394847058, 2.180778414928489, 1.368337485842214, 1.6685488084574376, 2.2115518982340694, 1.1051653955550118, 1.556914999086179, 1.9929126728359432, 1.3122422101521907, 2.0228483984328367, 1.680181003723296, 1.883362161799667, 1.896406858639787, 2.075717279023463, 1.7744845061670789, 2.035874562929036, 1.7595372797402467, 2.222429404030954, 2.6775236453152322, 2.0787479117001166, 2.067947702139029, 1.534396811535519, 2.277346490264154, 1.696773068577507, 1.6764611214111484, 2.222975781143213, 2.0724154977431484, 2.442870180379625, 2.5771507713985238, 1.784127375119003, 2.0513507960623776, 2.704166073430129, 2.386615700091623, 2.2852196201213077, 2.5224824260541796, 1.7581588123342495, 2.254633363765852, 2.563701355745603, 2.648364914248699, 1.6775260730471104, 1.8993303169474303, 2.1530860694897456, 1.8844010627960737, 1.8432735040767807, 2.2736005312727814, 1.8586360068531942, 1.2848348435201138, 2.1447389263358274, 1.830202883771629, 1.7073876073078667, 1.3737047397376378, 2.405528986788682, 1.1091549472599942, 1.3202665581110815, 1.8896615749755425, 2.491582234260279, 2.5238823622730613, 1.5380069460282542, 1.9289471216065797, 1.3958174499649725, 2.4044828255099633, 1.4093749357919279, 1.942721701997105, 2.4131935115799004, 1.9110343885880365, 2.588064137530296, 1.651996710723659, 2.1476761878187496, 2.3413128743294935, 1.9441153078235711, 2.5545257056985275, 2.219251833875277, 1.3450201627966631, 3.5834410816151854, 2.259457457636267, 2.042937317529436, 1.4404748725334096, 2.0327071275222464, 1.8160228676637251, 2.2577414664121287, 2.148668116484746, 2.7412037940277516, 2.056900549010527, 2.205402191995419, 2.148982740604577, 1.9406040787762426, 1.9266399210719904, 2.4404000810673927, 2.312010854135452, 1.748223358378488, 1.554625558810804, 1.9730359900212582, 2.4645759926697575, 1.9889882454928087, 2.698574035691189, 1.689971885170626, 2.056656215066322, 0.9934784556137004, 1.7617328476358838, 1.876351472543255, 2.204375109796836, 2.6842647354684543, 2.013977435745496, 2.581567032643527, 2.2646724305863932, 2.394540872084826, 1.813538057269629, 2.5539965374594553, 1.570814288515342, 2.198063444480127, 1.6191751597174964, 1.792741779040498, 1.4154385581111575, 1.7934608365415912, 2.1404467586043863, 1.9724918147685446, 1.4608940234985344, 2.5882959426765475, 2.1348883753233836, 2.4032261732303053, 2.3140907678538754, 1.7340528932131147, 1.2219812165551844, 1.6338302527073174, 2.4900623397092922, 1.578581570519874, 2.3264174737296246, 1.7550372107484704, 2.1572436979415937, 1.2704320589499223, 2.466830066399986, 1.9841325199638071, 2.3543303195863627, 2.0759446597532385, 2.3192255181195773, 1.9592271842945599, 2.297342617405545, 1.3961709263103828, 1.5677157230217973, 2.290189601792614, 1.9843286975162013, 1.908498331511915, 1.9281550821394569, 2.2006900437380663, 1.7626624983030323, 2.2041230386981026, 1.6336832603725284, 1.8370991827920138, 2.3939806686876843, 2.4285009711383565, 1.561138255897855, 2.335453898891351, 1.5843270711860389, 2.2932092926876315, 1.240475176272282, 1.553155723024355, 1.7964110888708553, 1.9334056180456163, 2.569445771739595, 2.3615996696014108, 2.6301871634289524, 2.482643159214227, 1.8868545793460623, 1.893469246272512, 2.427588648880505, 2.016148572409136, 1.9372025310026728, 1.4659189107939232, 1.957415951377784, 0.8836014373224614, 1.817552977940526, 1.6080438993352797, 2.277029739015742, 1.8085310574337354, 1.8683793802635678, 2.538842185868199, 1.5803729019325536, 2.1266635580626616, 1.2418932210094136, 2.0358916469778605, 2.164106298158738, 2.343948388718765, 1.6405267226725415, 2.1278627767778375, 2.127261679871476, 1.992307346360945, 2.0600065114911215, 2.1854137286926663, 2.1591521699527405, 1.6015956443646402, 1.5216553958702073, 3.002392114127469, 2.7679169145712352, 1.4433224495783865, 2.180087096815138, 2.2509748331012442, 2.300534894064194, 2.05615817457894, 1.6292512243165502, 1.927031837454761, 1.8035499448836727, 2.0537492464159017, 1.8926514783517694, 1.9473297494851927, 2.407420989907153, 2.4922232799818897, 1.5275587308912708, 1.8160279582261674, 1.683680018489933, 2.489488884784044, 1.9762528389806002, 2.5795957616632945, 1.8089676581373118, 2.0103999976742633, 1.460521421281103, 2.521014214594472, 1.8549551649690965, 1.4059374194698182, 1.7630154859386922, 1.0780368248919447, 1.9872731309204834, 2.0449950969656783, 2.11523126680206, 2.5992432734308135, 1.8796095384178646, 2.3229823668021083, 2.1248954756052, 1.9226713438103984, 1.1692791912305784, 2.3790004669382703, 1.7984104203430729, 2.0071823566603304, 1.4918156894458081, 2.1131982135244005, 2.0432123269249383, 2.011767047588306, 1.9460827482817105, 2.4196873163010273, 2.3864883450313368, 2.2903667410083286, 3.328431502468146, 1.759909867849074, 1.848192993786448, 1.5940785236565316, 2.174394478518564, 1.7250050427759303, 0.9206553033335811, 1.5146647496685182, 2.0289007596623536, 2.4039149339790233, 1.3772233768539874, 1.7550231486862622, 1.9442592778196315, 1.7085850042301194, 2.21246551738249, 2.0016003367901503, 2.1285063657935326, 1.7099140297018536, 2.6146145312084395, 1.9998499964966576, 2.517419848265323, 1.824400934533489, 2.236015785664332, 1.7282464868011063, 1.619636299579692, 1.7182598673906164, 1.981653325572093, 1.9125066164129163, 2.615682803862025, 1.5405183081452216, 1.563864667018074, 2.6800752586582104, 2.2435134635632434, 1.247435653133576, 2.198907639458391, 2.0949330797358385, 1.1422223813086196, 1.8521750298650268, 1.993018019265529, 2.2925610068500264, 2.381798266619075, 2.038298708444054, 2.413380321305695, 1.9414906901554585, 1.6570012701040913, 1.6263272627408203, 2.2170581178265265, 1.2167323657603957, 2.2711230284479247, 1.557370773043246, 1.8563103617157044, 2.202152761101167, 2.487176360320539, 1.2237276142540425, 1.6775287152186171, 2.019624676949241, 1.7615654661649351, 2.344649240536482, 1.1654437738173895, 2.1447206562284187, 2.1703680706011266, 2.0196321588566524, 2.440894693034137, 1.5081702985814285, 2.44344670319587, 1.7188318388359325, 2.2902202072314934, 1.8703183122059155]}, {\"marker\": {\"color\": \"Crimson\"}, \"mode\": \"markers\", \"type\": \"scatter\", \"x\": [3.488605877489355, 3.468281957855025, 2.121567855851645, 2.907305283713683, 2.9445406088750485, 2.8572748407259003, 2.546602340938821, 4.110862736744106, 3.1254580059453128, 3.9330095965998533, 2.6585108078928177, 2.3629219432134914, 3.0793486673518706, 2.662058037529526, 4.434087577400107, 3.1472537095134716, 3.691559481006362, 2.865458536725901, 2.8043632165439183, 2.9814531494375185, 3.21343035694561, 3.509752107056893, 2.92670759093299, 2.5914890555896095, 2.359274054108067, 2.953992382376561, 3.3437776355740536, 3.274768245785845, 2.9893094705676364, 2.6399167204586322, 3.0880591580321335, 3.343082927318994, 2.9779094060897835, 3.0674210932753314, 2.9096974046097293, 3.5492995608375435, 2.737079839596799, 3.1113213725799334, 3.2366568180072677, 3.4353135349521353, 3.8975308595306855, 3.405272285522527, 3.359527941275555, 2.117857746587212, 3.3638423665823023, 4.376230567414307, 2.501993408659396, 2.3882880903565704, 2.8712076946643865, 3.612748875659341, 3.3148502953780943, 2.713725476118401, 2.978405890963685, 3.6222233890643447, 3.4035718488728874, 4.457326181713787, 3.60341200818673, 3.2121403296015774, 3.368835765496469, 2.7906094854506684, 2.41333619908022, 3.1031742793005543, 3.294336626285783, 2.1628301849608036, 2.686586120918583, 2.778446458902619, 3.159385441508571, 2.843720364680772, 3.267058026206743, 3.058867347733195, 3.6361965054940844, 1.9732994042253045, 3.994274782825755, 3.850604407799616, 3.030190251688281, 3.3901939285514078, 3.363929040247977, 2.557626223344041, 3.098799039509524, 3.46690450745974, 3.185890055164493, 3.6307924607092508, 3.0569976660414966, 3.048450593173812, 2.539317752385264, 2.7812771701760175, 2.724169391377159, 4.0232901106532655, 3.1443033312884174, 2.4003440991850926, 3.2391590328968625, 2.8847977820213733, 1.167741371744217, 3.2879114226922903, 2.0683807300938986, 3.347078652153745, 2.423241840581694, 2.125005323764108, 3.2966049905894272, 2.1034837408351894, 2.7319804779137282, 3.122626436952698, 3.3673395138768316, 3.446930721864391, 2.978231226867779, 2.5005627913867867, 4.154289255582555, 2.6364112076768413, 4.082153388891898, 2.728485016029585, 3.6967714160050846, 3.6419793233700797, 2.3726794515738634, 3.213170704203738, 3.4532352175145133, 3.4205892729139467, 2.8806375298296625, 3.181176027243687, 2.7631861914026654, 2.296911972467327, 3.590407342164144, 2.6641911468488657, 3.8278549149637304, 3.361470540743766, 2.4644119958922697, 2.9032810082752576, 2.8281690507628956, 2.477467410208823, 3.3008577539359982, 2.712831555683289, 3.9790149081784785, 3.5165347446110578, 2.4718865612750522, 2.98859968707161, 2.8639438846982497, 2.061295287713282, 3.5587534072608715, 3.5698852891267974, 3.5553007288214316, 2.7258072854438775, 3.641391582971351, 2.8741482387464674, 3.561088667754645, 4.087516689070524, 3.084065928782852, 2.148510733713308, 2.8098592820829924, 3.3845915198301038, 3.7319246274183726, 2.3197247787638533, 2.885671021403129, 3.140003475756073, 3.2609989945577045, 3.5462541618018504, 2.430936206127722, 2.7459130216646783, 3.604779886560347, 3.2354009466745843, 3.2690283904690123, 3.6751940991985523, 3.062432033825454, 3.316802053243102, 2.8112616828496275, 2.192993987838975, 2.222845268831348, 3.044592332209579, 2.88026356920227, 2.6072380988850132, 3.1908085778515014, 2.4658370687350506, 3.066802359829782, 2.9882864650078362, 2.4960066512326518, 1.621076471677289, 3.873916431883666, 3.1899823414223745, 1.4015244364427166, 2.7441428294198866, 3.236272638749591, 2.863115585579726, 3.3481980675619374, 2.416039448850456, 3.105100637530841, 2.9679097843589064, 2.890162807822816, 2.867382658926999, 3.1198557331155765, 3.559632848212855, 2.681928119879969, 2.7556559855928415, 3.096338995045507, 2.927910014622751, 3.2313613754065953, 3.4309744414526056, 3.7747133417105254, 2.9301335110370017, 1.6336212020037806, 2.9582252763269223, 3.212322256129704, 2.88782699008035, 2.908058302939745, 1.540494892411732, 3.3047906019692275, 2.805580602587996, 2.0933540352538786, 2.4771467606430253, 2.4811020351206476, 3.365249449405021, 3.3369828579140433, 3.9088502294893503, 3.388754887387751, 2.1890103688093956, 2.1544744341166853, 3.6784352127174786, 3.9400117206576866, 2.857351141112782, 3.3352817929110667, 2.0970652297322925, 1.8336469450009276, 2.295585794074294, 2.7856874846381903, 2.687174168755177, 2.86193156192924, 2.705391340380534, 3.4075806869697978, 3.8565281707964068, 3.021718477656261, 4.217998492464277, 2.6193571738194925, 2.6849379636366364, 3.23264079764577, 2.7871207427935953, 3.706231353465985, 2.6153353108812665, 3.793616391065184, 3.116505009776266, 4.539271668430068, 2.7215310566110764, 2.8783836553755227, 3.0873910903718924, 1.6913832197508303, 3.3613590765231227, 3.2885076679591014, 3.065591018343261, 2.073362531167981, 2.072063376018806, 3.351971111160507, 3.705107212534413, 3.9566787790933327, 2.4627350856300483, 2.38152118334473, 2.83683672018927, 1.814561914875698, 2.6466412943737536, 3.5110737825091896, 3.980761500821649, 3.1674932721807982, 3.9843321891331613, 3.2465237627994425, 3.114818349083352, 2.89713528751348, 3.1121622274631973, 2.8470882316536668, 2.915453548565905, 2.6028648990361964, 3.1554191410752024, 3.008669049010672, 2.112251979230333, 2.8555796989488083, 2.486597164563301, 1.771079724755535, 3.290330189604794, 3.935212952713429, 4.421838113438942, 3.9374517176957777, 2.4775190684351633, 3.7051469956248324, 3.6719394021336833, 1.807302281163227, 3.51677310923487, 3.3763062212349153, 3.097684950184075, 3.173170029406083, 3.0349844296464505, 3.979161509193017, 2.7589266997008677, 2.8800363640672324, 3.0044333902237104, 3.165398445090043, 1.9420501194052613, 3.832784285729379, 3.135719854105894, 3.341474757494867, 3.1183895950486744, 2.8881352372296694, 2.786855091901823, 3.0576684854037124, 3.0912314045600575, 3.69315705325089, 3.207634647770804, 2.9199067983803637, 4.19193906656544, 2.232344306211887, 2.1958744944578994, 3.212761231267697, 2.8725760287056277, 1.9352424070650998, 2.812662203173313, 2.5736065375915302, 3.6786771602549773, 2.6272489377418533, 3.6303687893203636, 3.2758690201261103, 2.876201452773072, 3.0127030971528894, 3.2571952437803318, 1.6151768918230205, 3.1962410445416203, 2.772528233519497, 4.078751619832867, 2.5852386259427025, 3.685538352003133, 1.4910452253565334, 3.488775008990573, 3.165661652353965, 2.8517901054685586, 2.9274664137081983, 2.8436636456265894, 3.2538019257499657, 2.919450861221809, 1.9273573749492947, 2.888513485931803, 4.3408330425755315, 3.0281077229149806, 3.1744727678812232, 2.737167295507426, 3.104432679697037, 3.106767334776966, 2.843278848326093, 3.517958039362449, 2.4461532257494025, 2.9218828750789947, 3.3030322513752584, 2.839797492394851, 2.265672209654853, 3.3349585311405825, 2.4107034251827986, 2.7316151029479734, 2.5031114464870354, 2.933562951575341, 2.742368416072192, 2.7152460797523554, 3.408587356388431, 4.0575653408499885, 2.785491471588592, 3.313593104458873, 2.786751905704715, 3.0593653476194977, 3.676650806970138, 3.030175943416229, 2.5106715892771523, 2.5620440326274165, 2.6299521449633, 2.992017467215502, 3.5148068712546485, 2.1847218953388423, 2.3776264983870092, 2.4452752730543716, 1.9503567469624667, 3.795553610093089, 2.9781728137415433, 4.1404675918342955, 2.145399794891399, 3.7765093879555045, 2.5790108807016217, 2.7555781888953694, 2.4066213257450775, 2.4300816843074045, 2.2057527532628676, 3.1297997745722843, 2.211479380483907, 2.8549188808062764, 2.9944790734539604, 3.3999664112436663, 3.0602350334397284, 3.1927955000775525, 3.3086469363397932, 2.98964948084417, 3.218008751144559, 2.4121678851330124, 2.5347177391776468, 4.13850648428361, 2.9929594713740655, 2.573699595199827, 3.827927940642568, 2.905894433691139, 2.612105383929604, 2.130605070886773, 3.467695119631327, 2.348219455673465, 2.6765804519879777, 3.386459992765761, 3.1101801445548722, 2.948143875694915, 2.871607331063083, 3.687556412480593, 4.338164488681008, 2.670743502508569, 3.3413424543016297, 4.15728018321247, 3.6474342329704377, 2.5879010245329663, 2.741591623755631, 2.641218874499857, 2.451933954207136, 2.6256569083988026, 3.157125287364204, 2.647782596907118, 3.525719917590215, 3.0739532781436756, 2.761724590286315, 3.531653952124195, 3.1913830954322764, 3.1589205754714627, 3.624023072720688, 3.343959269115024, 2.9346609198971745, 3.562532905720648, 3.1855906813227968, 4.750385257723865, 3.6592131006282718, 3.6919275728248335, 3.7745960229770934, 3.047903766753772, 3.7877372469178368, 3.0140142165417947, 2.5012959580887584, 2.661608124953906, 3.3167703325995235, 2.0633280656047877, 3.125011752872551, 2.562989948731577, 3.430929829537112, 2.5522957736055916, 4.123381957365195, 3.4606908773945175, 2.23868462449572, 4.055255610050301, 2.863648494383793, 2.5635143341681195, 2.385720410204281, 3.340658843793392, 3.9027131199988028, 2.6529438164810126, 2.4014274948971686, 2.3161799471803297, 3.8978431868161283, 4.002437533026555, 2.7909173159284215, 3.3226230524645324, 2.998256729834675, 2.9636218186324546, 3.578413579330451, 3.264573600408266, 3.1976939800568864, 2.824452638784055, 3.489360215826527, 2.8307964585534235, 3.029953492840714, 3.131686496265262, 2.27930660684793, 2.8205430199433135, 2.812438191800957, 3.060721851898992, 2.3329091455346873, 2.2880689794329947, 3.974077261975852, 3.693866163836188, 3.5334236140212614, 4.094891271953992, 3.2517571425297356, 2.945352759043692, 3.289305449060076, 1.872427805129899, 2.341150112747381, 3.455182237812869, 3.019569289894006, 2.2334181989512594, 3.3951221229358772, 3.5993409893959685, 3.400727736818601, 2.9818219323367128, 2.498370311968569, 3.064556962901109, 3.2561545972954105, 2.7848467214008172, 3.3618215460760195, 3.1886591602514827, 3.1998687302828994, 1.7804761267070475, 3.6486557958126555, 4.034635031971132, 2.75851942525823, 2.1138606112887115, 3.383357591651885, 2.7206041605397, 2.419792577395074, 3.7306297535252115, 2.1699723885083015, 3.4304571732222344, 2.2513595274565077, 3.877360789665284, 3.3099314796254227, 2.845563002095902, 3.0896219748689324, 3.3492524324900055, 3.497936626458667, 3.496674856975339, 3.3280381595498554, 2.7135710026604034, 3.398447728516424, 2.213205370794304, 3.6024558627608947, 3.5238035023893186, 3.836448625500258, 2.6467322356988876, 3.111727019081762, 3.5149716005293246, 3.1907147274613537, 2.7439996295769284, 3.1843986402282347, 3.0408192208010476, 3.597422364846303, 2.6229224683471255, 3.2036926833413926, 3.1757586754083427, 3.454396874578238, 2.9562646528728744, 3.076388781343253, 2.957430195059485, 3.020439517532311, 3.00501549765449, 2.803953269170946, 4.69637987643579, 2.4936531072373183, 2.2959540562007437, 2.522624032326525, 2.5739684706041683, 3.00686194269325, 3.858559678705582, 4.013030269797003, 3.1423946183779163, 1.5010723714442025, 3.230615611844795, 2.2136072606247637, 2.6995790548874954, 2.310166327115315, 3.2553735477666224, 2.6240355332417686, 3.4632718064644195, 3.2863814378351304, 2.8559582599483253, 3.048336222361253, 3.550451859841344, 2.7767208504743266, 3.54937133129594, 2.9884103959874517, 3.1616384716829167, 3.479544522681312, 3.798919514147357, 3.3124873193266433, 3.035023130377798, 3.4324115608573016, 2.0727314175481237, 3.9833769618923762, 2.2047052405830083, 3.5422256599307738, 2.6615016416727704, 3.3043509507236237, 2.9300595455659524, 3.182153855441266, 2.51952777625994, 1.7036231974201994, 3.243993389609123, 2.6396973968254307, 2.610818539439054, 2.5648061179307704, 4.190646749331073, 2.6506845371242003, 3.196087787471433, 2.3037340836783375, 3.9138580283567905, 2.6662392188302397, 1.4396149145321433, 4.627169924337093, 2.3411108204656688, 3.7853594005689004, 3.439843536325468, 3.391307781489017, 2.8611091017775023], \"y\": [6.07567950073004, 6.489574403566759, 5.87962771352024, 6.100523852834511, 6.371316085970027, 6.033355534894364, 5.830006721960617, 6.580671563327174, 6.136675439549155, 5.949930934165189, 5.689642070411253, 5.59776111121761, 6.3575136421524165, 6.3797072344933525, 5.131715576369172, 5.753803344229698, 6.38595525474785, 6.969722647705806, 6.860141523037158, 6.37674647009685, 6.549332982050444, 5.7890322172132, 6.309813809411592, 5.505134119627448, 5.775249461492456, 6.1283884333075065, 6.867174828020063, 6.299185331735133, 6.109530836266628, 5.931966574925661, 5.4710228114631, 6.2411452009149375, 5.860362521366707, 6.095617882252178, 5.644267634410194, 6.048501981481431, 5.385188453224175, 6.201562487675881, 6.52789036478877, 6.365580325951647, 6.845529503647778, 6.129821406371629, 6.202145376605022, 6.205945935142338, 5.64810807935511, 6.861293387705181, 6.395431233763439, 5.902869431410327, 5.638867302998487, 6.232603713296582, 6.343019021436158, 6.055153947163931, 6.074429806845341, 5.924753266627613, 5.998901041708811, 6.534056531087453, 6.560247154321876, 5.399929246602083, 6.055551549814468, 5.518359460132119, 5.465721819320557, 6.234381114607802, 5.6633722648094045, 4.738657019923581, 6.258061061251431, 6.512856732035728, 6.815510855831424, 5.841482683262943, 6.578178123205158, 4.9515953456768, 5.582640157238526, 6.207587748563339, 6.188613707234914, 6.528167165092728, 6.382675795852825, 5.96737199213932, 6.611699145360574, 6.274593056052658, 6.68683549322253, 5.678289202910714, 6.120101470528075, 5.82816173043987, 6.322365322935436, 5.912179133162334, 5.899259121099966, 5.469404140889285, 6.123281653534559, 6.446195749637923, 6.403278244364105, 4.79358720591628, 5.352141722471737, 6.802056210218637, 5.92494946035551, 5.94042350834221, 6.466134176455683, 6.078658117986762, 5.746963943044172, 5.916061220589232, 6.758864274954353, 5.447443538751252, 6.520489935091664, 5.875043153923426, 5.891508513951895, 6.745165235909389, 5.742850562032147, 6.334023346144459, 5.854778619682123, 5.4271731895404365, 5.933592052122134, 6.467570549731149, 5.925643128951102, 6.2197687307920715, 6.075421326112065, 6.018732543198976, 5.833000870906334, 6.05271292020701, 5.18684261920008, 5.820671337750018, 5.278422549873639, 6.107879538723909, 6.141864194558368, 5.681573900201869, 6.320523043382973, 6.158332220454459, 6.117428834899303, 5.8554384557859445, 6.189117201473896, 6.421682814254307, 5.7358227236959385, 5.673262229655924, 6.475604302823356, 5.072628608925037, 4.9530839622448255, 5.274109164973095, 6.072696411931812, 6.0609496829275615, 6.198602015343312, 6.030390916169089, 6.6149519230923985, 6.630313378344866, 6.4636042555451825, 5.537679891404986, 6.145431154396178, 5.653518927719623, 5.7997158537625895, 5.590655119405261, 6.004284970651093, 6.2176496334350215, 6.031476819936274, 5.522652523854829, 5.389585924806958, 5.6951660779019475, 5.688944657049621, 6.313709266842833, 5.8722876565006725, 5.924533464437952, 5.93722597320687, 6.438739259142457, 6.654446048863981, 6.1708234148696715, 5.9006776667252305, 6.561000610514256, 6.175296557207013, 5.831561245973674, 6.404229484519016, 6.0828919784046, 5.426387708419166, 6.2507625223881185, 6.119930080710116, 5.257343431110373, 5.139582737918417, 6.054520402148109, 6.273342501831707, 6.2434320200510784, 5.455608090438178, 5.861196020355366, 6.266635967611435, 5.385699116483243, 6.034113192871659, 6.085331707759062, 6.369502387625586, 5.018443227867493, 6.057994930800443, 6.807248740936146, 5.75151706448357, 5.873504268947112, 6.381596892087339, 5.69474295956693, 6.46278195383921, 6.216213264497845, 5.370370629946507, 6.0402373670718905, 5.416407216405209, 6.381019127372598, 5.327730210891476, 5.275298514112345, 5.5450782354903545, 5.678770933538609, 6.5259763150072105, 5.992696985930381, 6.116401816948157, 6.429959899418042, 5.7208760399493075, 5.768669713192086, 5.661018984860116, 6.313961858954949, 6.653310483831615, 6.103496997724906, 5.7506880025153935, 5.791855589145322, 5.5550742839174365, 6.292458147823425, 5.57482849505106, 5.898146773813759, 5.532415462080307, 5.24021476015142, 4.9840178386777305, 5.644015395871586, 6.087231399114468, 5.872873773474088, 5.910570045017912, 5.57144804784532, 5.6273273751361454, 5.572919062842258, 6.084493464464016, 6.819061934857423, 5.9454509960974, 5.45228783791467, 6.509049332517797, 5.600573434084318, 6.223013056550928, 5.822937836131938, 6.03243328231917, 7.373065372718224, 5.7009894925681595, 5.765327824121018, 6.15009418044103, 5.991221294467491, 5.837571639521805, 5.724636982732563, 6.236197546480122, 6.430950627050553, 5.619166371340472, 5.545426759472922, 6.731962495218863, 5.429937531095048, 6.286133379641909, 6.175650949287521, 5.558812180430252, 6.303797437198037, 5.558713461490766, 5.564179560614783, 5.444179904611794, 6.333713282100703, 5.8202616609790425, 6.434100528147978, 5.675943987742516, 6.2458650344501425, 6.562964237863155, 5.965594594762745, 5.54981890149992, 5.862971623075048, 6.502694988352533, 6.295637534497049, 5.845604762588502, 5.302251050178443, 6.286214714022687, 6.65236250163215, 6.659437630820434, 6.173116079853815, 5.923588331440157, 5.685551491903933, 5.770959273075746, 5.340099878394131, 6.853820623565066, 5.989214244286788, 6.953762055387151, 5.970201033850725, 5.35267282735601, 6.744626040910996, 5.656069190452998, 5.824836715593805, 6.659420435998243, 6.583509284306508, 5.189517433666456, 6.0004219079767305, 5.5641859979594095, 6.215655288828224, 6.724870836638007, 5.79300407101521, 6.597289120261621, 5.628542289848259, 6.868908206328583, 5.669738443627787, 5.814664812865468, 6.118782947102924, 5.43976222133254, 6.619843541284505, 5.571993238348356, 6.245580625631929, 5.484347984210032, 6.0439131784449405, 5.995789529831594, 5.844703637204318, 6.195687677502597, 5.5532670971055, 6.608746306666999, 6.080978942765592, 4.883422384831267, 6.802224630355193, 6.181085448894545, 6.621426088624843, 5.9292253771098515, 5.094953869461758, 5.832112852034864, 5.509572015504114, 5.984607015086088, 5.806909255053781, 6.083604912028014, 5.294236767747713, 6.021512961770832, 5.816167266731052, 6.253403548311438, 5.3230789804598455, 5.829971609697766, 6.66335973592317, 5.527574840904881, 6.295221474143721, 6.532202446077942, 5.995964092657389, 6.395404256887656, 6.4165758537508575, 6.627902203964878, 5.852867119453645, 5.955080366645064, 6.321649140408189, 5.701742380131907, 6.019220282666586, 5.720571735180059, 5.068383551029198, 6.133966057506823, 6.6809720187631765, 5.851174127596016, 6.033718956364116, 5.818758019448826, 5.703614662957457, 6.054441785554189, 6.429172439198718, 6.886337334339167, 6.330590622827374, 5.615454478975418, 5.429193748515349, 6.52273223430698, 6.126685996615469, 5.755814702623033, 5.577531145437677, 5.676911053321975, 6.493369963719705, 5.9910562511908605, 5.4398120091502395, 6.34903159589269, 6.12404103845268, 5.883547131682264, 6.243086099388916, 5.668926417090799, 6.385561838976783, 5.430055639338254, 5.638622909456202, 5.449246783597651, 5.833376376050439, 5.697019586638737, 5.854941632493031, 6.001907132710525, 6.221701015963505, 6.058612829106029, 6.100743881301401, 6.641729577246537, 5.893403775637563, 5.4166656242544144, 6.380552724991978, 6.734347818215971, 6.074915477655862, 6.335813689114486, 5.737753325141462, 6.074270141503554, 6.254810127517944, 6.151430230718331, 5.784120938874726, 6.652251916855614, 6.069126433641464, 6.372079282216155, 6.1623115946514195, 6.349469689066802, 6.3733013186343985, 5.913537940240188, 6.33347152514501, 6.864182290743711, 6.799596805558844, 6.305616568019245, 6.674902089262081]}, {\"marker\": {\"color\": \"RebeccaPurple\"}, \"mode\": \"markers\", \"type\": \"scatter\", \"x\": [3.7384057312672625, 4.294479261345714, 4.0149752195777335, 3.6426129192440437, 4.03304211730585, 4.195259259616254, 3.860794465740769, 4.387426316124862, 4.269845535652542, 3.7449772270659674, 4.20181805253443, 4.022394537499306, 3.8896639512377975, 3.936673671482908, 3.911000999456817, 3.7567457954835723, 3.9103353786554838, 4.138537782326903, 4.28518840549951, 4.291667667350499, 3.8853278541485743, 3.976550464574088, 3.8281257366164247, 4.206000497713342, 3.6703694162784792, 3.7273446885909727, 3.8728306602832583, 4.05029468889424, 3.9357704039893413, 4.0066127811458925, 4.00950692443302, 4.046655945411208, 3.7931074037600103, 3.9321280458837458, 4.115522467154342, 4.056045831143133, 4.218661326603466, 3.850755144917342, 4.181252282683721, 4.293324948054543, 3.971481941634071, 4.05318602887365, 4.04503788685993, 4.107134117873964, 4.077584222980064, 4.293897541561279, 4.102672987122636, 4.172900340704512, 4.066305346100141, 3.7916459435957424, 4.086672070420898, 3.9540087954708225, 3.872982516170561, 3.8211258712382214, 3.9859205838850644, 3.8785071796134476, 4.4079344531413245, 4.319354379604331, 3.9466139408700514, 4.14183143437461, 4.231392499411646, 3.9654321256209055, 4.36964667359358, 4.184422073628112, 3.9796581772477704, 3.640140174089723, 3.8068089583535016, 4.063738508556093, 3.9123472101958336, 3.9958493476803154, 3.8425372916063374, 4.049384546227752, 3.908339592399049, 3.6894588250456497, 3.9316713497402582, 3.885594822557381, 3.689668472161636, 4.284635437265154, 3.984789806768994, 3.9346267842568907, 4.1500749622985, 3.983480952207665, 4.153458725297483, 3.7038690761439463, 3.7926688264876396, 4.109045518196969, 4.298379472179051, 4.006002305234335, 4.043286852869853, 3.835311219161328, 3.99401282463295, 3.858212657271885, 3.9679523768420624, 4.144456024726943, 3.600247211165333, 4.042605145278971, 3.8390916829293116, 3.870683556923723, 4.227634553856215, 4.059087932931728, 4.1867259256417775, 3.6472450568497417, 3.917956636145667, 3.9092665750554, 3.8821140657497786, 4.088046900876045, 4.17918429623419, 3.7786442260237094, 3.807467487124001, 3.7496085135185346, 4.229521334921355, 3.897053015586336, 3.979723843759857, 3.9335578641179163, 3.8072686830197924, 4.074652194730089, 4.076605373951441, 4.188265116909908, 3.9549159835283842, 3.9405825157552226, 3.8828956506444574, 4.297628313354616, 4.2015133970796255, 3.991922958423277, 4.12979472120401, 3.882831250525277, 4.4108949523970615, 3.8816867499466547, 3.924062208909951, 3.9257936964210387, 4.340246993068615, 4.029520487197361, 4.216883712686576, 3.9779806083362677, 3.7574050057646726, 4.155096034774404, 3.87470869073399, 3.7362954977190905, 3.9167848911679632, 4.1263314201981744, 4.352857011762512, 3.722504413101013, 3.56018840180624, 4.18603139947834, 4.060010251789867, 3.887305417885303, 4.08367238332672, 4.145888614756197, 4.382413749307419, 3.973931613543599, 4.255960034326129, 3.909648811680982, 3.8980662518772506, 4.084754686038901, 3.7770064991608994, 3.7396081947968076, 4.1926386194280845, 3.6073849864102803, 4.022669651034658, 3.9350515471918066, 3.9253959615369887, 3.733538941296714, 3.592819512998602, 3.8678183047879853, 3.7669563995939925, 3.914916195039008, 4.017607219224976, 3.851647953699492, 3.7854949396018083, 4.058008272871101, 3.84763306188431, 3.808093635421013, 3.94016934582783, 4.057098287232365, 4.421749685999726, 4.322712310218457, 3.7473238117867105, 3.7351501565639365, 4.0129434744375105, 4.1113997880344995, 3.9736588874851417, 4.434466559251085, 4.235414044044049, 4.3280114735298145, 3.916425876443619, 3.8206240827167766, 3.785942341680784, 3.9772436871372503, 3.7483300165434033, 3.8732415892606626, 3.913846052121546, 4.1888569458398575, 3.9054248881940894, 3.7185871779004955, 3.9105053454540726, 4.037716582475541, 4.112183611682669, 3.815668189097241, 4.129475023170281, 4.277365118788209], \"y\": [4.195806647256715, 4.09551834300918, 3.820755277562594, 3.7556819988606347, 3.1880219723258847, 4.243178634435654, 3.858356446576124, 4.061032596048598, 4.200509939616335, 3.685438891721855, 4.406798274269028, 4.045244232749612, 4.598798099064509, 4.067575067142509, 4.127449878128001, 3.890649144641752, 4.5905655971378785, 3.1586028872792693, 3.7868672155517786, 3.8779784024207817, 3.387831705957887, 3.682118939296437, 3.1311509158139943, 4.0761548949098545, 3.437908982369492, 4.147944189488144, 3.895287321615474, 3.666914594886085, 3.3784869560011392, 3.7268608622193042, 4.124249528086188, 3.9498211224533715, 4.266497519714439, 3.684667892591005, 4.642397408626191, 3.904818633454189, 3.6619218283743034, 4.5240636925565845, 4.5430265911851855, 3.963932273164227, 3.8062791533333944, 4.364029855574254, 3.6423452127346425, 4.374076616717121, 3.4451277920156844, 3.96664269083865, 4.004702202877287, 4.483239784456219, 3.2683121465000413, 4.093774688787151, 3.951715813289595, 4.001163314863235, 3.6463577816792823, 3.4792420678037574, 3.814745175299731, 3.903334486131895, 4.590073391323529, 4.04455265741258, 3.9982894981316943, 4.2793385170457565, 3.355258143636884, 4.289026578860411, 4.36615045652299, 4.362857547021847, 3.866802375088009, 3.5059000016278596, 3.6060285977621596, 4.0989815475786875, 4.21470593809492, 4.510619910205639, 4.608573618005799, 4.348499312355712, 4.013571519356561, 4.1059679826840805, 3.905875052098087, 4.421947380868596, 4.237708619734455, 4.086343868944242, 3.4977597847840527, 4.4186645539831195, 3.389245453750515, 4.4927128749522165, 4.393851801590694, 3.3651724719655105, 3.980614265582852, 3.5034422960285174, 3.9421522720508926, 4.222067989407639, 3.9453447601172886, 3.4544527901518256, 4.104330910875708, 4.103795082626569, 3.9891060757758017, 3.5819444100828757, 3.8600873351874814, 4.10741086736735, 3.9379800714793345, 4.845048847722534, 4.1024317749807855, 3.917295466376652, 4.193039180609663, 3.5578270587089085, 4.16830207994123, 4.646717691009373, 3.6464914725706628, 4.119534007627374, 4.306845238577929, 3.3226605167711583, 4.655555572287546, 3.5820007243727146, 3.865978376945373, 4.152268871055247, 3.9069588463676013, 4.321174666846584, 4.060370166790143, 4.227900516401868, 4.0299893694813465, 4.588800645827145, 3.193800796402723, 4.145637698645495, 3.8797539488797033, 3.616386953207714, 3.6753559957708637, 3.771208008728218, 4.231364214693121, 3.6415478255014064, 3.934726569455433, 4.110099548046317, 3.5376833395602842, 4.444939461034656, 4.968635721575052, 3.730393077117408, 4.3677788737672865, 3.8761282078321138, 4.2133469825707826, 3.9273179218054874, 4.883464651992444, 3.8702672737532664, 4.317572163657125, 4.242946461047077, 3.566415945246141, 3.13589223478028, 4.231634886300014, 4.337807375830753, 3.7853178327170918, 3.746650132984938, 4.390721302224855, 4.34113336996512, 4.382350658945792, 4.104560814216088, 3.6846894155510825, 3.5128106481221604, 3.20274538170709, 3.976927296838265, 4.767667503517413, 4.191157822415334, 3.968103902584083, 3.3917015133468387, 3.732827973371637, 4.0019755102494186, 3.911112209728798, 4.3633358760676995, 3.936557292042541, 4.278122398095742, 3.9543126959474497, 3.924093133422513, 4.503653411839904, 3.6992090263156236, 3.886778852831418, 3.482905038950197, 4.038695741838695, 4.427800400413516, 4.272560764053442, 4.293604723967563, 4.42121695040907, 4.250087274786924, 4.30330377285968, 4.1614896308310465, 3.6098445818515428, 4.210438039866892, 4.378354549929641, 3.6432361379125164, 4.094395992412879, 4.4331252286284455, 3.8506094178445682, 3.4715573705376523, 4.024613588745184, 4.637474223808675, 3.634821832289136, 3.9578439718377667, 3.699587621128661, 3.856413082377181, 4.093908512420363, 4.590725443450474, 3.7133423896126567, 3.7165380023086687, 3.650999023844762, 3.562483821804871, 3.3861199759151526, 3.6594951203957886]}],\n",
       "                        {\"showlegend\": false, \"template\": {\"data\": {\"bar\": [{\"error_x\": {\"color\": \"#2a3f5f\"}, \"error_y\": {\"color\": \"#2a3f5f\"}, \"marker\": {\"line\": {\"color\": \"#E5ECF6\", \"width\": 0.5}}, \"type\": \"bar\"}], \"barpolar\": [{\"marker\": {\"line\": {\"color\": \"#E5ECF6\", \"width\": 0.5}}, \"type\": \"barpolar\"}], \"carpet\": [{\"aaxis\": {\"endlinecolor\": \"#2a3f5f\", \"gridcolor\": \"white\", \"linecolor\": \"white\", \"minorgridcolor\": \"white\", \"startlinecolor\": \"#2a3f5f\"}, \"baxis\": {\"endlinecolor\": \"#2a3f5f\", \"gridcolor\": \"white\", \"linecolor\": \"white\", \"minorgridcolor\": \"white\", \"startlinecolor\": \"#2a3f5f\"}, \"type\": \"carpet\"}], \"choropleth\": [{\"colorbar\": {\"outlinewidth\": 0, \"ticks\": \"\"}, \"type\": \"choropleth\"}], \"contour\": [{\"colorbar\": {\"outlinewidth\": 0, \"ticks\": \"\"}, \"colorscale\": [[0.0, \"#0d0887\"], [0.1111111111111111, \"#46039f\"], [0.2222222222222222, \"#7201a8\"], [0.3333333333333333, \"#9c179e\"], [0.4444444444444444, \"#bd3786\"], [0.5555555555555556, \"#d8576b\"], [0.6666666666666666, \"#ed7953\"], [0.7777777777777778, \"#fb9f3a\"], [0.8888888888888888, \"#fdca26\"], [1.0, \"#f0f921\"]], \"type\": \"contour\"}], \"contourcarpet\": [{\"colorbar\": {\"outlinewidth\": 0, \"ticks\": \"\"}, \"type\": \"contourcarpet\"}], \"heatmap\": [{\"colorbar\": {\"outlinewidth\": 0, \"ticks\": \"\"}, \"colorscale\": [[0.0, \"#0d0887\"], [0.1111111111111111, \"#46039f\"], [0.2222222222222222, \"#7201a8\"], [0.3333333333333333, \"#9c179e\"], [0.4444444444444444, \"#bd3786\"], [0.5555555555555556, \"#d8576b\"], [0.6666666666666666, \"#ed7953\"], [0.7777777777777778, \"#fb9f3a\"], [0.8888888888888888, \"#fdca26\"], [1.0, \"#f0f921\"]], \"type\": \"heatmap\"}], \"heatmapgl\": [{\"colorbar\": {\"outlinewidth\": 0, \"ticks\": \"\"}, \"colorscale\": [[0.0, \"#0d0887\"], [0.1111111111111111, \"#46039f\"], [0.2222222222222222, \"#7201a8\"], [0.3333333333333333, \"#9c179e\"], [0.4444444444444444, \"#bd3786\"], [0.5555555555555556, \"#d8576b\"], [0.6666666666666666, \"#ed7953\"], [0.7777777777777778, \"#fb9f3a\"], [0.8888888888888888, \"#fdca26\"], [1.0, \"#f0f921\"]], \"type\": \"heatmapgl\"}], \"histogram\": [{\"marker\": {\"colorbar\": {\"outlinewidth\": 0, \"ticks\": \"\"}}, \"type\": \"histogram\"}], \"histogram2d\": [{\"colorbar\": {\"outlinewidth\": 0, \"ticks\": \"\"}, \"colorscale\": [[0.0, \"#0d0887\"], [0.1111111111111111, \"#46039f\"], [0.2222222222222222, \"#7201a8\"], [0.3333333333333333, \"#9c179e\"], [0.4444444444444444, \"#bd3786\"], [0.5555555555555556, \"#d8576b\"], [0.6666666666666666, \"#ed7953\"], [0.7777777777777778, \"#fb9f3a\"], [0.8888888888888888, \"#fdca26\"], [1.0, \"#f0f921\"]], \"type\": \"histogram2d\"}], \"histogram2dcontour\": [{\"colorbar\": {\"outlinewidth\": 0, \"ticks\": \"\"}, \"colorscale\": [[0.0, \"#0d0887\"], [0.1111111111111111, \"#46039f\"], [0.2222222222222222, \"#7201a8\"], [0.3333333333333333, \"#9c179e\"], [0.4444444444444444, \"#bd3786\"], [0.5555555555555556, \"#d8576b\"], [0.6666666666666666, \"#ed7953\"], [0.7777777777777778, \"#fb9f3a\"], [0.8888888888888888, \"#fdca26\"], [1.0, \"#f0f921\"]], \"type\": \"histogram2dcontour\"}], \"mesh3d\": [{\"colorbar\": {\"outlinewidth\": 0, \"ticks\": \"\"}, \"type\": \"mesh3d\"}], \"parcoords\": [{\"line\": {\"colorbar\": {\"outlinewidth\": 0, \"ticks\": \"\"}}, \"type\": \"parcoords\"}], \"scatter\": [{\"marker\": {\"colorbar\": {\"outlinewidth\": 0, \"ticks\": \"\"}}, \"type\": \"scatter\"}], \"scatter3d\": [{\"line\": {\"colorbar\": {\"outlinewidth\": 0, \"ticks\": \"\"}}, \"marker\": {\"colorbar\": {\"outlinewidth\": 0, \"ticks\": \"\"}}, \"type\": \"scatter3d\"}], \"scattercarpet\": [{\"marker\": {\"colorbar\": {\"outlinewidth\": 0, \"ticks\": \"\"}}, \"type\": \"scattercarpet\"}], \"scattergeo\": [{\"marker\": {\"colorbar\": {\"outlinewidth\": 0, \"ticks\": \"\"}}, \"type\": \"scattergeo\"}], \"scattergl\": [{\"marker\": {\"colorbar\": {\"outlinewidth\": 0, \"ticks\": \"\"}}, \"type\": \"scattergl\"}], \"scattermapbox\": [{\"marker\": {\"colorbar\": {\"outlinewidth\": 0, \"ticks\": \"\"}}, \"type\": \"scattermapbox\"}], \"scatterpolar\": [{\"marker\": {\"colorbar\": {\"outlinewidth\": 0, \"ticks\": \"\"}}, \"type\": \"scatterpolar\"}], \"scatterpolargl\": [{\"marker\": {\"colorbar\": {\"outlinewidth\": 0, \"ticks\": \"\"}}, \"type\": \"scatterpolargl\"}], \"scatterternary\": [{\"marker\": {\"colorbar\": {\"outlinewidth\": 0, \"ticks\": \"\"}}, \"type\": \"scatterternary\"}], \"surface\": [{\"colorbar\": {\"outlinewidth\": 0, \"ticks\": \"\"}, \"colorscale\": [[0.0, \"#0d0887\"], [0.1111111111111111, \"#46039f\"], [0.2222222222222222, \"#7201a8\"], [0.3333333333333333, \"#9c179e\"], [0.4444444444444444, \"#bd3786\"], [0.5555555555555556, \"#d8576b\"], [0.6666666666666666, \"#ed7953\"], [0.7777777777777778, \"#fb9f3a\"], [0.8888888888888888, \"#fdca26\"], [1.0, \"#f0f921\"]], \"type\": \"surface\"}], \"table\": [{\"cells\": {\"fill\": {\"color\": \"#EBF0F8\"}, \"line\": {\"color\": \"white\"}}, \"header\": {\"fill\": {\"color\": \"#C8D4E3\"}, \"line\": {\"color\": \"white\"}}, \"type\": \"table\"}]}, \"layout\": {\"annotationdefaults\": {\"arrowcolor\": \"#2a3f5f\", \"arrowhead\": 0, \"arrowwidth\": 1}, \"colorscale\": {\"diverging\": [[0, \"#8e0152\"], [0.1, \"#c51b7d\"], [0.2, \"#de77ae\"], [0.3, \"#f1b6da\"], [0.4, \"#fde0ef\"], [0.5, \"#f7f7f7\"], [0.6, \"#e6f5d0\"], [0.7, \"#b8e186\"], [0.8, \"#7fbc41\"], [0.9, \"#4d9221\"], [1, \"#276419\"]], \"sequential\": [[0.0, \"#0d0887\"], [0.1111111111111111, \"#46039f\"], [0.2222222222222222, \"#7201a8\"], [0.3333333333333333, \"#9c179e\"], [0.4444444444444444, \"#bd3786\"], [0.5555555555555556, \"#d8576b\"], [0.6666666666666666, \"#ed7953\"], [0.7777777777777778, \"#fb9f3a\"], [0.8888888888888888, \"#fdca26\"], [1.0, \"#f0f921\"]], \"sequentialminus\": [[0.0, \"#0d0887\"], [0.1111111111111111, \"#46039f\"], [0.2222222222222222, \"#7201a8\"], [0.3333333333333333, \"#9c179e\"], [0.4444444444444444, \"#bd3786\"], [0.5555555555555556, \"#d8576b\"], [0.6666666666666666, \"#ed7953\"], [0.7777777777777778, \"#fb9f3a\"], [0.8888888888888888, \"#fdca26\"], [1.0, \"#f0f921\"]]}, \"colorway\": [\"#636efa\", \"#EF553B\", \"#00cc96\", \"#ab63fa\", \"#FFA15A\", \"#19d3f3\", \"#FF6692\", \"#B6E880\", \"#FF97FF\", \"#FECB52\"], \"font\": {\"color\": \"#2a3f5f\"}, \"geo\": {\"bgcolor\": \"white\", \"lakecolor\": \"white\", \"landcolor\": \"#E5ECF6\", \"showlakes\": true, \"showland\": true, \"subunitcolor\": \"white\"}, \"hoverlabel\": {\"align\": \"left\"}, \"hovermode\": \"closest\", \"mapbox\": {\"style\": \"light\"}, \"paper_bgcolor\": \"white\", \"plot_bgcolor\": \"#E5ECF6\", \"polar\": {\"angularaxis\": {\"gridcolor\": \"white\", \"linecolor\": \"white\", \"ticks\": \"\"}, \"bgcolor\": \"#E5ECF6\", \"radialaxis\": {\"gridcolor\": \"white\", \"linecolor\": \"white\", \"ticks\": \"\"}}, \"scene\": {\"xaxis\": {\"backgroundcolor\": \"#E5ECF6\", \"gridcolor\": \"white\", \"gridwidth\": 2, \"linecolor\": \"white\", \"showbackground\": true, \"ticks\": \"\", \"zerolinecolor\": \"white\"}, \"yaxis\": {\"backgroundcolor\": \"#E5ECF6\", \"gridcolor\": \"white\", \"gridwidth\": 2, \"linecolor\": \"white\", \"showbackground\": true, \"ticks\": \"\", \"zerolinecolor\": \"white\"}, \"zaxis\": {\"backgroundcolor\": \"#E5ECF6\", \"gridcolor\": \"white\", \"gridwidth\": 2, \"linecolor\": \"white\", \"showbackground\": true, \"ticks\": \"\", \"zerolinecolor\": \"white\"}}, \"shapedefaults\": {\"line\": {\"color\": \"#2a3f5f\"}}, \"ternary\": {\"aaxis\": {\"gridcolor\": \"white\", \"linecolor\": \"white\", \"ticks\": \"\"}, \"baxis\": {\"gridcolor\": \"white\", \"linecolor\": \"white\", \"ticks\": \"\"}, \"bgcolor\": \"#E5ECF6\", \"caxis\": {\"gridcolor\": \"white\", \"linecolor\": \"white\", \"ticks\": \"\"}}, \"title\": {\"x\": 0.05}, \"xaxis\": {\"automargin\": true, \"gridcolor\": \"white\", \"linecolor\": \"white\", \"ticks\": \"\", \"zerolinecolor\": \"white\", \"zerolinewidth\": 2}, \"yaxis\": {\"automargin\": true, \"gridcolor\": \"white\", \"linecolor\": \"white\", \"ticks\": \"\", \"zerolinecolor\": \"white\", \"zerolinewidth\": 2}}}, \"title\": {\"text\": \"Highlight Clusters\"}, \"updatemenus\": [{\"buttons\": [{\"args\": [\"shapes\", []], \"label\": \"None\", \"method\": \"relayout\"}, {\"args\": [\"shapes\", [{\"line\": {\"color\": \"DarkOrange\"}, \"type\": \"circle\", \"x0\": 0.8827659999413839, \"x1\": 3.2123428449488123, \"xref\": \"x\", \"y0\": 0.8836014373224614, \"y1\": 3.5834410816151854, \"yref\": \"y\"}]], \"label\": \"Cluster 0\", \"method\": \"relayout\"}, {\"args\": [\"shapes\", [{\"line\": {\"color\": \"Crimson\"}, \"type\": \"circle\", \"x0\": 1.167741371744217, \"x1\": 4.750385257723865, \"xref\": \"x\", \"y0\": 4.738657019923581, \"y1\": 7.373065372718224, \"yref\": \"y\"}]], \"label\": \"Cluster 1\", \"method\": \"relayout\"}, {\"args\": [\"shapes\", [{\"line\": {\"color\": \"RebeccaPurple\"}, \"type\": \"circle\", \"x0\": 3.56018840180624, \"x1\": 4.434466559251085, \"xref\": \"x\", \"y0\": 3.1311509158139943, \"y1\": 4.968635721575052, \"yref\": \"y\"}]], \"label\": \"Cluster 2\", \"method\": \"relayout\"}, {\"args\": [\"shapes\", [{\"line\": {\"color\": \"DarkOrange\"}, \"type\": \"circle\", \"x0\": 0.8827659999413839, \"x1\": 3.2123428449488123, \"xref\": \"x\", \"y0\": 0.8836014373224614, \"y1\": 3.5834410816151854, \"yref\": \"y\"}, {\"line\": {\"color\": \"Crimson\"}, \"type\": \"circle\", \"x0\": 1.167741371744217, \"x1\": 4.750385257723865, \"xref\": \"x\", \"y0\": 4.738657019923581, \"y1\": 7.373065372718224, \"yref\": \"y\"}, {\"line\": {\"color\": \"RebeccaPurple\"}, \"type\": \"circle\", \"x0\": 3.56018840180624, \"x1\": 4.434466559251085, \"xref\": \"x\", \"y0\": 3.1311509158139943, \"y1\": 4.968635721575052, \"yref\": \"y\"}]], \"label\": \"All\", \"method\": \"relayout\"}]}]},\n",
       "                        {\"responsive\": true}\n",
       "                    ).then(function(){\n",
       "                            \n",
       "var gd = document.getElementById('456c5348-747b-4af4-8b32-f40c7846d6aa');\n",
       "var x = new MutationObserver(function (mutations, observer) {{\n",
       "        var display = window.getComputedStyle(gd).display;\n",
       "        if (!display || display === 'none') {{\n",
       "            console.log([gd, 'removed!']);\n",
       "            Plotly.purge(gd);\n",
       "            observer.disconnect();\n",
       "        }}\n",
       "}});\n",
       "\n",
       "// Listen for the removal of the full notebook cells\n",
       "var notebookContainer = gd.closest('#notebook-container');\n",
       "if (notebookContainer) {{\n",
       "    x.observe(notebookContainer, {childList: true});\n",
       "}}\n",
       "\n",
       "// Listen for the clearing of the current output cell\n",
       "var outputEl = gd.closest('.output');\n",
       "if (outputEl) {{\n",
       "    x.observe(outputEl, {childList: true});\n",
       "}}\n",
       "\n",
       "                        })\n",
       "                };\n",
       "                });\n",
       "            </script>\n",
       "        </div>"
      ]
     },
     "metadata": {},
     "output_type": "display_data"
    }
   ],
   "source": [
    "import plotly.graph_objects as go\n",
    "\n",
    "# Generate dataset\n",
    "import numpy as np\n",
    "np.random.seed(1)\n",
    "\n",
    "x0 = np.random.normal(2, 0.4, 400)\n",
    "y0 = np.random.normal(2, 0.4, 400)\n",
    "x1 = np.random.normal(3, 0.6, 600)\n",
    "y1 = np.random.normal(6, 0.4, 400)\n",
    "x2 = np.random.normal(4, 0.2, 200)\n",
    "y2 = np.random.normal(4, 0.4, 200)\n",
    "\n",
    "# Create figure\n",
    "fig = go.Figure()\n",
    "\n",
    "# Add traces\n",
    "fig.add_trace(\n",
    "    go.Scatter(\n",
    "        x=x0,\n",
    "        y=y0,\n",
    "        mode=\"markers\",\n",
    "        marker=dict(color=\"DarkOrange\")\n",
    "    )\n",
    ")\n",
    "\n",
    "fig.add_trace(\n",
    "    go.Scatter(\n",
    "        x=x1,\n",
    "        y=y1,\n",
    "        mode=\"markers\",\n",
    "        marker=dict(color=\"Crimson\")\n",
    "    )\n",
    ")\n",
    "\n",
    "fig.add_trace(\n",
    "    go.Scatter(\n",
    "        x=x2,\n",
    "        y=y2,\n",
    "        mode=\"markers\",\n",
    "        marker=dict(color=\"RebeccaPurple\")\n",
    "    )\n",
    ")\n",
    "\n",
    "# Add buttons that add shapes\n",
    "cluster0 = [go.layout.Shape(type=\"circle\",\n",
    "                            xref=\"x\", yref=\"y\",\n",
    "                            x0=min(x0), y0=min(y0),\n",
    "                            x1=max(x0), y1=max(y0),\n",
    "                            line=dict(color=\"DarkOrange\"))]\n",
    "cluster1 = [go.layout.Shape(type=\"circle\",\n",
    "                            xref=\"x\", yref=\"y\",\n",
    "                            x0=min(x1), y0=min(y1),\n",
    "                            x1=max(x1), y1=max(y1),\n",
    "                            line=dict(color=\"Crimson\"))]\n",
    "cluster2 = [go.layout.Shape(type=\"circle\",\n",
    "                            xref=\"x\", yref=\"y\",\n",
    "                            x0=min(x2), y0=min(y2),\n",
    "                            x1=max(x2), y1=max(y2),\n",
    "                            line=dict(color=\"RebeccaPurple\"))]\n",
    "\n",
    "fig.update_layout(\n",
    "    updatemenus=[\n",
    "        go.layout.Updatemenu(buttons=list([\n",
    "            dict(label=\"None\",\n",
    "                 method=\"relayout\",\n",
    "                 args=[\"shapes\", []]),\n",
    "            dict(label=\"Cluster 0\",\n",
    "                 method=\"relayout\",\n",
    "                 args=[\"shapes\", cluster0]),\n",
    "            dict(label=\"Cluster 1\",\n",
    "                 method=\"relayout\",\n",
    "                 args=[\"shapes\", cluster1]),\n",
    "            dict(label=\"Cluster 2\",\n",
    "                 method=\"relayout\",\n",
    "                 args=[\"shapes\", cluster2]),\n",
    "            dict(label=\"All\",\n",
    "                 method=\"relayout\",\n",
    "                 args=[\"shapes\", cluster0 + cluster1 + cluster2])\n",
    "        ]),\n",
    "        )\n",
    "    ]\n",
    ")\n",
    "\n",
    "# Update remaining layout properties\n",
    "fig.update_layout(\n",
    "    title_text=\"Highlight Clusters\",\n",
    "    showlegend=False,\n",
    ")\n",
    "\n",
    "fig.show()"
   ]
  },
  {
   "cell_type": "code",
   "execution_count": null,
   "metadata": {},
   "outputs": [],
   "source": []
  }
 ],
 "metadata": {
  "kernelspec": {
   "display_name": "Python 3",
   "language": "python",
   "name": "python3"
  },
  "language_info": {
   "codemirror_mode": {
    "name": "ipython",
    "version": 3
   },
   "file_extension": ".py",
   "mimetype": "text/x-python",
   "name": "python",
   "nbconvert_exporter": "python",
   "pygments_lexer": "ipython3",
   "version": "3.7.3"
  }
 },
 "nbformat": 4,
 "nbformat_minor": 2
}
