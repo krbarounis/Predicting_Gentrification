{
 "cells": [
  {
   "cell_type": "markdown",
   "metadata": {},
   "source": [
    "This notebook builds visuals that highlight trends in the Boston area from 2000 to 2010 using census data."
   ]
  },
  {
   "cell_type": "code",
   "execution_count": 1,
   "metadata": {},
   "outputs": [],
   "source": [
    "import pandas as pd\n",
    "pd.set_option('display.max_rows',None)\n",
    "pd.set_option('display.max_columns',None)\n",
    "import numpy as np\n",
    "import sys\n",
    "sys.path.append('../')\n",
    "import plotly.graph_objects as go\n",
    "from ipywidgets import widgets"
   ]
  },
  {
   "cell_type": "code",
   "execution_count": 2,
   "metadata": {},
   "outputs": [],
   "source": [
    "## join up all the data so we can play around with visuals\n",
    "df_2000_1=pd.read_csv('../Final_2000_data.csv',index_col=0)\n",
    "df_2000_2=pd.read_csv('../Final_2000_data_sample.csv',index_col=0)\n",
    "\n",
    "df_2000 = df_2000_1.merge(df_2000_2,how='inner',on='tractid')\n",
    "\n",
    "# create a column on representing the year of the census data\n",
    "df_2000['year']='2000-01-01'\n",
    "df_2000['year']= pd.to_datetime(df_2000['year']) \n",
    "\n",
    "df_2010_1 = pd.read_csv('../Final_2010_data.csv',index_col=0)\n",
    "df_2010_2= pd.read_csv('../Final_2010_data_sample.csv',index_col=0)\n",
    "\n",
    "df_2010 = df_2010_1.merge(df_2010_2,how='inner',on='tractid')\n",
    "df_2010['year']='2010-01-01'\n",
    "df_2010['year']= pd.to_datetime(df_2010['year']) "
   ]
  },
  {
   "cell_type": "code",
   "execution_count": 3,
   "metadata": {},
   "outputs": [],
   "source": [
    "# import changes file too\n",
    "\n",
    "df_changes_full = pd.read_csv('../fullcount_final.csv',index_col=0)\n",
    "df_changes_sample =  pd.read_csv('../samplecount_final.csv',index_col=0)"
   ]
  },
  {
   "cell_type": "code",
   "execution_count": 4,
   "metadata": {},
   "outputs": [],
   "source": [
    "# before visualizing, remove all the tracts that were removed during EDA process\n",
    "tracts_to_remove = [25025981201,25025980300,25025981000,25025981202,25025981300,25025981501,25025981502,\n",
    "                    25025981600,25025981700,25025981800,25025060700,25025980700,25025980101]"
   ]
  },
  {
   "cell_type": "code",
   "execution_count": 5,
   "metadata": {},
   "outputs": [],
   "source": [
    "df_2010 = df_2010[df_2010['tractid'].isin(tracts_to_remove) == False]\n",
    "df_2000 = df_2000[df_2000['tractid'].isin(tracts_to_remove) == False]\n",
    "df_changes_full = df_changes_full[df_changes_full['tractid'].isin(tracts_to_remove) == False]\n",
    "df_changes_sample = df_changes_sample[df_changes_sample['tractid'].isin(tracts_to_remove) == False]"
   ]
  },
  {
   "cell_type": "code",
   "execution_count": 6,
   "metadata": {},
   "outputs": [],
   "source": [
    "# also drop 25025990101 bc it didnt exist in 2000, its index 203\n",
    "df_2010.drop(203,axis=0,inplace=True)"
   ]
  },
  {
   "cell_type": "code",
   "execution_count": 7,
   "metadata": {},
   "outputs": [],
   "source": [
    "df_2010.to_csv('plotly_2010.csv')\n",
    "df_2000.to_csv('plotly_2000.csv')"
   ]
  },
  {
   "cell_type": "code",
   "execution_count": 8,
   "metadata": {},
   "outputs": [],
   "source": [
    "cluster_df=pd.read_csv('../clusters.csv',index_col=0)"
   ]
  },
  {
   "cell_type": "code",
   "execution_count": 9,
   "metadata": {},
   "outputs": [
    {
     "data": {
      "text/html": [
       "<div>\n",
       "<style scoped>\n",
       "    .dataframe tbody tr th:only-of-type {\n",
       "        vertical-align: middle;\n",
       "    }\n",
       "\n",
       "    .dataframe tbody tr th {\n",
       "        vertical-align: top;\n",
       "    }\n",
       "\n",
       "    .dataframe thead th {\n",
       "        text-align: right;\n",
       "    }\n",
       "</style>\n",
       "<table border=\"1\" class=\"dataframe\">\n",
       "  <thead>\n",
       "    <tr style=\"text-align: right;\">\n",
       "      <th></th>\n",
       "      <th>tractid</th>\n",
       "      <th>cluster</th>\n",
       "      <th>HINC00_PC</th>\n",
       "      <th>MHMVAL00_PC</th>\n",
       "      <th>MRENT00_PC</th>\n",
       "      <th>percent_owneroccupied_00_PC</th>\n",
       "      <th>percent_non-white00_PC</th>\n",
       "      <th>percent_4yrcollege_degree_ormore_PC</th>\n",
       "      <th>cluster_name</th>\n",
       "    </tr>\n",
       "  </thead>\n",
       "  <tbody>\n",
       "    <tr>\n",
       "      <th>0</th>\n",
       "      <td>25025000100</td>\n",
       "      <td>1</td>\n",
       "      <td>-5.21</td>\n",
       "      <td>56.78</td>\n",
       "      <td>50.11</td>\n",
       "      <td>-12.52</td>\n",
       "      <td>27.33</td>\n",
       "      <td>-24.91</td>\n",
       "      <td>Becoming more affordable</td>\n",
       "    </tr>\n",
       "    <tr>\n",
       "      <th>1</th>\n",
       "      <td>25025000201</td>\n",
       "      <td>1</td>\n",
       "      <td>-16.97</td>\n",
       "      <td>100.30</td>\n",
       "      <td>41.78</td>\n",
       "      <td>-6.08</td>\n",
       "      <td>22.63</td>\n",
       "      <td>12.61</td>\n",
       "      <td>Becoming more affordable</td>\n",
       "    </tr>\n",
       "    <tr>\n",
       "      <th>2</th>\n",
       "      <td>25025000202</td>\n",
       "      <td>1</td>\n",
       "      <td>-24.08</td>\n",
       "      <td>56.41</td>\n",
       "      <td>58.41</td>\n",
       "      <td>-7.61</td>\n",
       "      <td>2.15</td>\n",
       "      <td>11.10</td>\n",
       "      <td>Becoming more affordable</td>\n",
       "    </tr>\n",
       "    <tr>\n",
       "      <th>3</th>\n",
       "      <td>25025000301</td>\n",
       "      <td>2</td>\n",
       "      <td>25.76</td>\n",
       "      <td>91.09</td>\n",
       "      <td>51.29</td>\n",
       "      <td>4.77</td>\n",
       "      <td>45.58</td>\n",
       "      <td>37.54</td>\n",
       "      <td>Remaining costly</td>\n",
       "    </tr>\n",
       "    <tr>\n",
       "      <th>4</th>\n",
       "      <td>25025000302</td>\n",
       "      <td>1</td>\n",
       "      <td>-15.31</td>\n",
       "      <td>24.16</td>\n",
       "      <td>15.71</td>\n",
       "      <td>-3.60</td>\n",
       "      <td>32.15</td>\n",
       "      <td>-1.16</td>\n",
       "      <td>Becoming more affordable</td>\n",
       "    </tr>\n",
       "  </tbody>\n",
       "</table>\n",
       "</div>"
      ],
      "text/plain": [
       "       tractid  cluster  HINC00_PC  MHMVAL00_PC  MRENT00_PC  \\\n",
       "0  25025000100        1      -5.21        56.78       50.11   \n",
       "1  25025000201        1     -16.97       100.30       41.78   \n",
       "2  25025000202        1     -24.08        56.41       58.41   \n",
       "3  25025000301        2      25.76        91.09       51.29   \n",
       "4  25025000302        1     -15.31        24.16       15.71   \n",
       "\n",
       "   percent_owneroccupied_00_PC  percent_non-white00_PC  \\\n",
       "0                       -12.52                   27.33   \n",
       "1                        -6.08                   22.63   \n",
       "2                        -7.61                    2.15   \n",
       "3                         4.77                   45.58   \n",
       "4                        -3.60                   32.15   \n",
       "\n",
       "   percent_4yrcollege_degree_ormore_PC              cluster_name  \n",
       "0                               -24.91  Becoming more affordable  \n",
       "1                                12.61  Becoming more affordable  \n",
       "2                                11.10  Becoming more affordable  \n",
       "3                                37.54          Remaining costly  \n",
       "4                                -1.16  Becoming more affordable  "
      ]
     },
     "execution_count": 9,
     "metadata": {},
     "output_type": "execute_result"
    }
   ],
   "source": [
    "cluster_df.head()"
   ]
  },
  {
   "cell_type": "code",
   "execution_count": 10,
   "metadata": {},
   "outputs": [],
   "source": [
    "cluster_and_2000=df_2000.merge(cluster_df,how='inner',on='tractid')"
   ]
  },
  {
   "cell_type": "code",
   "execution_count": 11,
   "metadata": {},
   "outputs": [],
   "source": [
    "cluster_and_2000.rename(columns={'HINC00_PC':'Percent Change in Median Income','MHMVAL00_PC':'Percent Change in Median Home Value',\n",
    "                   'MRENT00_PC':'Percent Change in Median Rent','percent_owneroccupied_00_PC':'Percent Change in Owner Occupied Homes',\n",
    "                    'percent_non-white00_PC':'Percent Change in Non-White Population','percent_4yrcollege_degree_ormore_PC':'Percent Change in Population with College Degree'},inplace=True)"
   ]
  },
  {
   "cell_type": "code",
   "execution_count": 12,
   "metadata": {},
   "outputs": [],
   "source": [
    "cluster_and_2000.to_csv('../clusters_and_2000.csv')"
   ]
  },
  {
   "cell_type": "code",
   "execution_count": 13,
   "metadata": {},
   "outputs": [
    {
     "data": {
      "text/plain": [
       "Index(['Percent Change in Median Income',\n",
       "       'Percent Change in Median Home Value', 'Percent Change in Median Rent',\n",
       "       'Percent Change in Owner Occupied Homes',\n",
       "       'Percent Change in Non-White Population',\n",
       "       'Percent Change in Population with College Degree'],\n",
       "      dtype='object')"
      ]
     },
     "execution_count": 13,
     "metadata": {},
     "output_type": "execute_result"
    }
   ],
   "source": [
    "cluster_and_2000.columns[-7:-1]"
   ]
  },
  {
   "cell_type": "code",
   "execution_count": 14,
   "metadata": {},
   "outputs": [],
   "source": [
    "df1=df_2000.merge(cluster_df,how='inner',on='tractid')"
   ]
  },
  {
   "cell_type": "code",
   "execution_count": 16,
   "metadata": {},
   "outputs": [
    {
     "data": {
      "text/plain": [
       "HINC00                               51003.701258\n",
       "percent_owneroccupied_00                31.490385\n",
       "MHMVAL00                            277074.143915\n",
       "MRENT00                                922.301268\n",
       "percent_non-white00                     57.858739\n",
       "percent_4yrcollege_degree_ormore        33.356281\n",
       "dtype: float64"
      ]
     },
     "execution_count": 16,
     "metadata": {},
     "output_type": "execute_result"
    }
   ],
   "source": [
    "df1[['HINC00','percent_owneroccupied_00','MHMVAL00','MRENT00','percent_non-white00','percent_4yrcollege_degree_ormore']].mean()"
   ]
  },
  {
   "cell_type": "code",
   "execution_count": 17,
   "metadata": {},
   "outputs": [
    {
     "data": {
      "text/html": [
       "<div>\n",
       "<style scoped>\n",
       "    .dataframe tbody tr th:only-of-type {\n",
       "        vertical-align: middle;\n",
       "    }\n",
       "\n",
       "    .dataframe tbody tr th {\n",
       "        vertical-align: top;\n",
       "    }\n",
       "\n",
       "    .dataframe thead th {\n",
       "        text-align: right;\n",
       "    }\n",
       "</style>\n",
       "<table border=\"1\" class=\"dataframe\">\n",
       "  <thead>\n",
       "    <tr style=\"text-align: right;\">\n",
       "      <th></th>\n",
       "      <th>HINC00</th>\n",
       "      <th>percent_owneroccupied_00</th>\n",
       "      <th>MHMVAL00</th>\n",
       "      <th>MRENT00</th>\n",
       "      <th>percent_non-white00</th>\n",
       "      <th>percent_4yrcollege_degree_ormore</th>\n",
       "    </tr>\n",
       "    <tr>\n",
       "      <th>cluster_name</th>\n",
       "      <th></th>\n",
       "      <th></th>\n",
       "      <th></th>\n",
       "      <th></th>\n",
       "      <th></th>\n",
       "      <th></th>\n",
       "    </tr>\n",
       "  </thead>\n",
       "  <tbody>\n",
       "    <tr>\n",
       "      <th>Becoming more affordable</th>\n",
       "      <td>50071.892877</td>\n",
       "      <td>28.337898</td>\n",
       "      <td>289275.967114</td>\n",
       "      <td>976.248698</td>\n",
       "      <td>62.758259</td>\n",
       "      <td>38.401296</td>\n",
       "    </tr>\n",
       "    <tr>\n",
       "      <th>Gentrifying</th>\n",
       "      <td>38815.015570</td>\n",
       "      <td>24.615605</td>\n",
       "      <td>236787.053914</td>\n",
       "      <td>711.065697</td>\n",
       "      <td>69.162572</td>\n",
       "      <td>16.959610</td>\n",
       "    </tr>\n",
       "    <tr>\n",
       "      <th>Remaining costly</th>\n",
       "      <td>56486.609816</td>\n",
       "      <td>37.049649</td>\n",
       "      <td>280846.819569</td>\n",
       "      <td>951.500665</td>\n",
       "      <td>48.984569</td>\n",
       "      <td>34.817631</td>\n",
       "    </tr>\n",
       "  </tbody>\n",
       "</table>\n",
       "</div>"
      ],
      "text/plain": [
       "                                HINC00  percent_owneroccupied_00  \\\n",
       "cluster_name                                                       \n",
       "Becoming more affordable  50071.892877                 28.337898   \n",
       "Gentrifying               38815.015570                 24.615605   \n",
       "Remaining costly          56486.609816                 37.049649   \n",
       "\n",
       "                               MHMVAL00     MRENT00  percent_non-white00  \\\n",
       "cluster_name                                                               \n",
       "Becoming more affordable  289275.967114  976.248698            62.758259   \n",
       "Gentrifying               236787.053914  711.065697            69.162572   \n",
       "Remaining costly          280846.819569  951.500665            48.984569   \n",
       "\n",
       "                          percent_4yrcollege_degree_ormore  \n",
       "cluster_name                                                \n",
       "Becoming more affordable                         38.401296  \n",
       "Gentrifying                                      16.959610  \n",
       "Remaining costly                                 34.817631  "
      ]
     },
     "execution_count": 17,
     "metadata": {},
     "output_type": "execute_result"
    }
   ],
   "source": [
    "df1.groupby('cluster_name')['HINC00','percent_owneroccupied_00','MHMVAL00','MRENT00','percent_non-white00','percent_4yrcollege_degree_ormore'].mean()"
   ]
  },
  {
   "cell_type": "code",
   "execution_count": 18,
   "metadata": {},
   "outputs": [],
   "source": [
    "df2=df_2010.merge(cluster_df,how='inner',on='tractid')"
   ]
  },
  {
   "cell_type": "code",
   "execution_count": 19,
   "metadata": {},
   "outputs": [
    {
     "data": {
      "text/html": [
       "<div>\n",
       "<style scoped>\n",
       "    .dataframe tbody tr th:only-of-type {\n",
       "        vertical-align: middle;\n",
       "    }\n",
       "\n",
       "    .dataframe tbody tr th {\n",
       "        vertical-align: top;\n",
       "    }\n",
       "\n",
       "    .dataframe thead th {\n",
       "        text-align: right;\n",
       "    }\n",
       "</style>\n",
       "<table border=\"1\" class=\"dataframe\">\n",
       "  <thead>\n",
       "    <tr style=\"text-align: right;\">\n",
       "      <th></th>\n",
       "      <th>hinc12</th>\n",
       "      <th>percent_owneroccupied_10</th>\n",
       "      <th>mhmval12</th>\n",
       "      <th>mrent12</th>\n",
       "      <th>non-white10</th>\n",
       "      <th>pcol12</th>\n",
       "    </tr>\n",
       "    <tr>\n",
       "      <th>cluster_name</th>\n",
       "      <th></th>\n",
       "      <th></th>\n",
       "      <th></th>\n",
       "      <th></th>\n",
       "      <th></th>\n",
       "      <th></th>\n",
       "    </tr>\n",
       "  </thead>\n",
       "  <tbody>\n",
       "    <tr>\n",
       "      <th>Becoming more affordable</th>\n",
       "      <td>44872.090909</td>\n",
       "      <td>26.779719</td>\n",
       "      <td>372684.480519</td>\n",
       "      <td>1085.038961</td>\n",
       "      <td>69.633559</td>\n",
       "      <td>39.670130</td>\n",
       "    </tr>\n",
       "    <tr>\n",
       "      <th>Gentrifying</th>\n",
       "      <td>50964.000000</td>\n",
       "      <td>28.798752</td>\n",
       "      <td>342251.612903</td>\n",
       "      <td>963.935484</td>\n",
       "      <td>69.784084</td>\n",
       "      <td>36.856129</td>\n",
       "    </tr>\n",
       "    <tr>\n",
       "      <th>Remaining costly</th>\n",
       "      <td>68137.439024</td>\n",
       "      <td>38.093474</td>\n",
       "      <td>397913.414634</td>\n",
       "      <td>1204.634146</td>\n",
       "      <td>55.784213</td>\n",
       "      <td>44.502439</td>\n",
       "    </tr>\n",
       "  </tbody>\n",
       "</table>\n",
       "</div>"
      ],
      "text/plain": [
       "                                hinc12  percent_owneroccupied_10  \\\n",
       "cluster_name                                                       \n",
       "Becoming more affordable  44872.090909                 26.779719   \n",
       "Gentrifying               50964.000000                 28.798752   \n",
       "Remaining costly          68137.439024                 38.093474   \n",
       "\n",
       "                               mhmval12      mrent12  non-white10     pcol12  \n",
       "cluster_name                                                                  \n",
       "Becoming more affordable  372684.480519  1085.038961    69.633559  39.670130  \n",
       "Gentrifying               342251.612903   963.935484    69.784084  36.856129  \n",
       "Remaining costly          397913.414634  1204.634146    55.784213  44.502439  "
      ]
     },
     "execution_count": 19,
     "metadata": {},
     "output_type": "execute_result"
    }
   ],
   "source": [
    "df2.groupby('cluster_name')['hinc12','percent_owneroccupied_10','mhmval12','mrent12','non-white10','pcol12'].mean()"
   ]
  },
  {
   "cell_type": "code",
   "execution_count": 20,
   "metadata": {},
   "outputs": [
    {
     "data": {
      "text/plain": [
       "hinc12                       55906.868421\n",
       "percent_owneroccupied_10        31.991918\n",
       "mhmval12                    378607.394737\n",
       "mrent12                       1116.894737\n",
       "non-white10                     63.681032\n",
       "pcol12                          41.296526\n",
       "dtype: float64"
      ]
     },
     "execution_count": 20,
     "metadata": {},
     "output_type": "execute_result"
    }
   ],
   "source": [
    "df2[['hinc12','percent_owneroccupied_10','mhmval12','mrent12','non-white10','pcol12']].mean()"
   ]
  },
  {
   "cell_type": "code",
   "execution_count": 21,
   "metadata": {},
   "outputs": [
    {
     "data": {
      "text/html": [
       "<div>\n",
       "<style scoped>\n",
       "    .dataframe tbody tr th:only-of-type {\n",
       "        vertical-align: middle;\n",
       "    }\n",
       "\n",
       "    .dataframe tbody tr th {\n",
       "        vertical-align: top;\n",
       "    }\n",
       "\n",
       "    .dataframe thead th {\n",
       "        text-align: right;\n",
       "    }\n",
       "</style>\n",
       "<table border=\"1\" class=\"dataframe\">\n",
       "  <thead>\n",
       "    <tr style=\"text-align: right;\">\n",
       "      <th></th>\n",
       "      <th>tractid</th>\n",
       "      <th>state</th>\n",
       "      <th>county</th>\n",
       "      <th>tract</th>\n",
       "      <th>POP00</th>\n",
       "      <th>percent_white00</th>\n",
       "      <th>percent_black00</th>\n",
       "      <th>percent_asian00</th>\n",
       "      <th>percent_hispanic00</th>\n",
       "      <th>percent_indian00</th>\n",
       "      <th>percent_chinese00</th>\n",
       "      <th>percent_filip00</th>\n",
       "      <th>percent_japan00</th>\n",
       "      <th>percent_korean00</th>\n",
       "      <th>percent_viet00</th>\n",
       "      <th>percent_mex00</th>\n",
       "      <th>percent_pr00</th>\n",
       "      <th>percent_cuban00</th>\n",
       "      <th>percent_vacant_housing00</th>\n",
       "      <th>percent_occupied_housing00</th>\n",
       "      <th>percent_under18_00</th>\n",
       "      <th>percent_60andup_00</th>\n",
       "      <th>percent_75andup_00</th>\n",
       "      <th>percent_owneroccupied_00</th>\n",
       "      <th>percent_renteroccupied_00</th>\n",
       "      <th>percent_non-white00</th>\n",
       "      <th>INCPC00</th>\n",
       "      <th>HINC00</th>\n",
       "      <th>MHMVAL00</th>\n",
       "      <th>MRENT00</th>\n",
       "      <th>percent_foreign_born</th>\n",
       "      <th>percent_naturalized</th>\n",
       "      <th>percent_recent_immigrants(10)</th>\n",
       "      <th>percent_other_languages</th>\n",
       "      <th>percent_hs_degree_orless</th>\n",
       "      <th>percent_4yrcollege_degree_ormore</th>\n",
       "      <th>percent_married</th>\n",
       "      <th>percent_unemployed</th>\n",
       "      <th>percent_employed</th>\n",
       "      <th>percent_professional</th>\n",
       "      <th>percent_manufacturing</th>\n",
       "      <th>percent_self_employed</th>\n",
       "      <th>percent_poverty</th>\n",
       "      <th>percent_houses_30yrsago</th>\n",
       "      <th>percent_multiunit_houses</th>\n",
       "      <th>year</th>\n",
       "      <th>cluster</th>\n",
       "      <th>Percent Change in Median Income</th>\n",
       "      <th>Percent Change in Median Home Value</th>\n",
       "      <th>Percent Change in Median Rent</th>\n",
       "      <th>Percent Change in Owner Occupied Homes</th>\n",
       "      <th>Percent Change in Non-White Population</th>\n",
       "      <th>Percent Change in Population with College Degree</th>\n",
       "      <th>cluster_name</th>\n",
       "    </tr>\n",
       "  </thead>\n",
       "  <tbody>\n",
       "    <tr>\n",
       "      <th>35</th>\n",
       "      <td>25025020302</td>\n",
       "      <td>MA</td>\n",
       "      <td>Suffolk County</td>\n",
       "      <td>Census Tract 203.02</td>\n",
       "      <td>1258.999958</td>\n",
       "      <td>71.824521</td>\n",
       "      <td>9.624214</td>\n",
       "      <td>11.324605</td>\n",
       "      <td>5.951369</td>\n",
       "      <td>2.448563</td>\n",
       "      <td>3.179731</td>\n",
       "      <td>0.714164</td>\n",
       "      <td>2.941676</td>\n",
       "      <td>1.156266</td>\n",
       "      <td>0.340078</td>\n",
       "      <td>1.020235</td>\n",
       "      <td>1.360313</td>\n",
       "      <td>0.136031</td>\n",
       "      <td>7.049529</td>\n",
       "      <td>92.950471</td>\n",
       "      <td>7.430709</td>\n",
       "      <td>18.092161</td>\n",
       "      <td>7.039619</td>\n",
       "      <td>28.167731</td>\n",
       "      <td>64.782744</td>\n",
       "      <td>40.741371</td>\n",
       "      <td>58649.948825</td>\n",
       "      <td>66050.205569</td>\n",
       "      <td>354817.26114</td>\n",
       "      <td>1518.293665</td>\n",
       "      <td>19.91158</td>\n",
       "      <td>7.107634</td>\n",
       "      <td>10.491413</td>\n",
       "      <td>23.450703</td>\n",
       "      <td>23.215007</td>\n",
       "      <td>61.234369</td>\n",
       "      <td>41.835061</td>\n",
       "      <td>4.272699</td>\n",
       "      <td>95.727306</td>\n",
       "      <td>76.895306</td>\n",
       "      <td>3.249097</td>\n",
       "      <td>10.731867</td>\n",
       "      <td>11.066072</td>\n",
       "      <td>67.395929</td>\n",
       "      <td>99.48344</td>\n",
       "      <td>2000-01-01</td>\n",
       "      <td>2</td>\n",
       "      <td>34.37</td>\n",
       "      <td>98.61</td>\n",
       "      <td>43.12</td>\n",
       "      <td>9.8</td>\n",
       "      <td>-45.34</td>\n",
       "      <td>41.72</td>\n",
       "      <td>Remaining costly</td>\n",
       "    </tr>\n",
       "  </tbody>\n",
       "</table>\n",
       "</div>"
      ],
      "text/plain": [
       "        tractid state          county                tract        POP00  \\\n",
       "35  25025020302    MA  Suffolk County  Census Tract 203.02  1258.999958   \n",
       "\n",
       "    percent_white00  percent_black00  percent_asian00  percent_hispanic00  \\\n",
       "35        71.824521         9.624214        11.324605            5.951369   \n",
       "\n",
       "    percent_indian00  percent_chinese00  percent_filip00  percent_japan00  \\\n",
       "35          2.448563           3.179731         0.714164         2.941676   \n",
       "\n",
       "    percent_korean00  percent_viet00  percent_mex00  percent_pr00  \\\n",
       "35          1.156266        0.340078       1.020235      1.360313   \n",
       "\n",
       "    percent_cuban00  percent_vacant_housing00  percent_occupied_housing00  \\\n",
       "35         0.136031                  7.049529                   92.950471   \n",
       "\n",
       "    percent_under18_00  percent_60andup_00  percent_75andup_00  \\\n",
       "35            7.430709           18.092161            7.039619   \n",
       "\n",
       "    percent_owneroccupied_00  percent_renteroccupied_00  percent_non-white00  \\\n",
       "35                 28.167731                  64.782744            40.741371   \n",
       "\n",
       "         INCPC00        HINC00      MHMVAL00      MRENT00  \\\n",
       "35  58649.948825  66050.205569  354817.26114  1518.293665   \n",
       "\n",
       "    percent_foreign_born  percent_naturalized  percent_recent_immigrants(10)  \\\n",
       "35              19.91158             7.107634                      10.491413   \n",
       "\n",
       "    percent_other_languages  percent_hs_degree_orless  \\\n",
       "35                23.450703                 23.215007   \n",
       "\n",
       "    percent_4yrcollege_degree_ormore  percent_married  percent_unemployed  \\\n",
       "35                         61.234369        41.835061            4.272699   \n",
       "\n",
       "    percent_employed  percent_professional  percent_manufacturing  \\\n",
       "35         95.727306             76.895306               3.249097   \n",
       "\n",
       "    percent_self_employed  percent_poverty  percent_houses_30yrsago  \\\n",
       "35              10.731867        11.066072                67.395929   \n",
       "\n",
       "    percent_multiunit_houses       year  cluster  \\\n",
       "35                  99.48344 2000-01-01        2   \n",
       "\n",
       "    Percent Change in Median Income  Percent Change in Median Home Value  \\\n",
       "35                            34.37                                98.61   \n",
       "\n",
       "    Percent Change in Median Rent  Percent Change in Owner Occupied Homes  \\\n",
       "35                          43.12                                     9.8   \n",
       "\n",
       "    Percent Change in Non-White Population  \\\n",
       "35                                  -45.34   \n",
       "\n",
       "    Percent Change in Population with College Degree      cluster_name  \n",
       "35                                             41.72  Remaining costly  "
      ]
     },
     "execution_count": 21,
     "metadata": {},
     "output_type": "execute_result"
    }
   ],
   "source": [
    "cluster_and_2000[cluster_and_2000['tractid']==25025020302]"
   ]
  },
  {
   "cell_type": "code",
   "execution_count": 22,
   "metadata": {},
   "outputs": [
    {
     "data": {
      "text/html": [
       "<div>\n",
       "<style scoped>\n",
       "    .dataframe tbody tr th:only-of-type {\n",
       "        vertical-align: middle;\n",
       "    }\n",
       "\n",
       "    .dataframe tbody tr th {\n",
       "        vertical-align: top;\n",
       "    }\n",
       "\n",
       "    .dataframe thead th {\n",
       "        text-align: right;\n",
       "    }\n",
       "</style>\n",
       "<table border=\"1\" class=\"dataframe\">\n",
       "  <thead>\n",
       "    <tr style=\"text-align: right;\">\n",
       "      <th></th>\n",
       "      <th>tractid</th>\n",
       "      <th>state</th>\n",
       "      <th>county</th>\n",
       "      <th>tract</th>\n",
       "      <th>POP00</th>\n",
       "      <th>percent_white00</th>\n",
       "      <th>percent_black00</th>\n",
       "      <th>percent_asian00</th>\n",
       "      <th>percent_hispanic00</th>\n",
       "      <th>percent_indian00</th>\n",
       "      <th>percent_chinese00</th>\n",
       "      <th>percent_filip00</th>\n",
       "      <th>percent_japan00</th>\n",
       "      <th>percent_korean00</th>\n",
       "      <th>percent_viet00</th>\n",
       "      <th>percent_mex00</th>\n",
       "      <th>percent_pr00</th>\n",
       "      <th>percent_cuban00</th>\n",
       "      <th>percent_vacant_housing00</th>\n",
       "      <th>percent_occupied_housing00</th>\n",
       "      <th>percent_under18_00</th>\n",
       "      <th>percent_60andup_00</th>\n",
       "      <th>percent_75andup_00</th>\n",
       "      <th>percent_owneroccupied_00</th>\n",
       "      <th>percent_renteroccupied_00</th>\n",
       "      <th>percent_non-white00</th>\n",
       "      <th>INCPC00</th>\n",
       "      <th>HINC00</th>\n",
       "      <th>MHMVAL00</th>\n",
       "      <th>MRENT00</th>\n",
       "      <th>percent_foreign_born</th>\n",
       "      <th>percent_naturalized</th>\n",
       "      <th>percent_recent_immigrants(10)</th>\n",
       "      <th>percent_other_languages</th>\n",
       "      <th>percent_hs_degree_orless</th>\n",
       "      <th>percent_4yrcollege_degree_ormore</th>\n",
       "      <th>percent_married</th>\n",
       "      <th>percent_unemployed</th>\n",
       "      <th>percent_employed</th>\n",
       "      <th>percent_professional</th>\n",
       "      <th>percent_manufacturing</th>\n",
       "      <th>percent_self_employed</th>\n",
       "      <th>percent_poverty</th>\n",
       "      <th>percent_houses_30yrsago</th>\n",
       "      <th>percent_multiunit_houses</th>\n",
       "      <th>year</th>\n",
       "      <th>cluster</th>\n",
       "      <th>Percent Change in Median Income</th>\n",
       "      <th>Percent Change in Median Home Value</th>\n",
       "      <th>Percent Change in Median Rent</th>\n",
       "      <th>Percent Change in Owner Occupied Homes</th>\n",
       "      <th>Percent Change in Non-White Population</th>\n",
       "      <th>Percent Change in Population with College Degree</th>\n",
       "      <th>cluster_name</th>\n",
       "    </tr>\n",
       "  </thead>\n",
       "  <tbody>\n",
       "    <tr>\n",
       "      <th>36</th>\n",
       "      <td>25025020303</td>\n",
       "      <td>MA</td>\n",
       "      <td>Suffolk County</td>\n",
       "      <td>Census Tract 203.03</td>\n",
       "      <td>2806.675935</td>\n",
       "      <td>71.824518</td>\n",
       "      <td>9.624213</td>\n",
       "      <td>11.324604</td>\n",
       "      <td>5.951369</td>\n",
       "      <td>2.448563</td>\n",
       "      <td>3.179731</td>\n",
       "      <td>0.714164</td>\n",
       "      <td>2.941677</td>\n",
       "      <td>1.156266</td>\n",
       "      <td>0.340078</td>\n",
       "      <td>1.020235</td>\n",
       "      <td>1.360313</td>\n",
       "      <td>0.136031</td>\n",
       "      <td>7.049529</td>\n",
       "      <td>92.950475</td>\n",
       "      <td>7.430709</td>\n",
       "      <td>18.092161</td>\n",
       "      <td>7.039619</td>\n",
       "      <td>28.167732</td>\n",
       "      <td>64.782743</td>\n",
       "      <td>40.74137</td>\n",
       "      <td>58649.948901</td>\n",
       "      <td>66050.20881</td>\n",
       "      <td>354817.252909</td>\n",
       "      <td>1518.293686</td>\n",
       "      <td>19.91158</td>\n",
       "      <td>7.107635</td>\n",
       "      <td>10.491413</td>\n",
       "      <td>23.450703</td>\n",
       "      <td>23.215004</td>\n",
       "      <td>61.234364</td>\n",
       "      <td>41.835064</td>\n",
       "      <td>4.272698</td>\n",
       "      <td>95.727302</td>\n",
       "      <td>76.895309</td>\n",
       "      <td>3.249097</td>\n",
       "      <td>10.731867</td>\n",
       "      <td>11.066072</td>\n",
       "      <td>67.39593</td>\n",
       "      <td>99.48344</td>\n",
       "      <td>2000-01-01</td>\n",
       "      <td>2</td>\n",
       "      <td>26.72</td>\n",
       "      <td>52.89</td>\n",
       "      <td>66.89</td>\n",
       "      <td>-14.66</td>\n",
       "      <td>39.47</td>\n",
       "      <td>12.99</td>\n",
       "      <td>Remaining costly</td>\n",
       "    </tr>\n",
       "  </tbody>\n",
       "</table>\n",
       "</div>"
      ],
      "text/plain": [
       "        tractid state          county                tract        POP00  \\\n",
       "36  25025020303    MA  Suffolk County  Census Tract 203.03  2806.675935   \n",
       "\n",
       "    percent_white00  percent_black00  percent_asian00  percent_hispanic00  \\\n",
       "36        71.824518         9.624213        11.324604            5.951369   \n",
       "\n",
       "    percent_indian00  percent_chinese00  percent_filip00  percent_japan00  \\\n",
       "36          2.448563           3.179731         0.714164         2.941677   \n",
       "\n",
       "    percent_korean00  percent_viet00  percent_mex00  percent_pr00  \\\n",
       "36          1.156266        0.340078       1.020235      1.360313   \n",
       "\n",
       "    percent_cuban00  percent_vacant_housing00  percent_occupied_housing00  \\\n",
       "36         0.136031                  7.049529                   92.950475   \n",
       "\n",
       "    percent_under18_00  percent_60andup_00  percent_75andup_00  \\\n",
       "36            7.430709           18.092161            7.039619   \n",
       "\n",
       "    percent_owneroccupied_00  percent_renteroccupied_00  percent_non-white00  \\\n",
       "36                 28.167732                  64.782743             40.74137   \n",
       "\n",
       "         INCPC00       HINC00       MHMVAL00      MRENT00  \\\n",
       "36  58649.948901  66050.20881  354817.252909  1518.293686   \n",
       "\n",
       "    percent_foreign_born  percent_naturalized  percent_recent_immigrants(10)  \\\n",
       "36              19.91158             7.107635                      10.491413   \n",
       "\n",
       "    percent_other_languages  percent_hs_degree_orless  \\\n",
       "36                23.450703                 23.215004   \n",
       "\n",
       "    percent_4yrcollege_degree_ormore  percent_married  percent_unemployed  \\\n",
       "36                         61.234364        41.835064            4.272698   \n",
       "\n",
       "    percent_employed  percent_professional  percent_manufacturing  \\\n",
       "36         95.727302             76.895309               3.249097   \n",
       "\n",
       "    percent_self_employed  percent_poverty  percent_houses_30yrsago  \\\n",
       "36              10.731867        11.066072                 67.39593   \n",
       "\n",
       "    percent_multiunit_houses       year  cluster  \\\n",
       "36                  99.48344 2000-01-01        2   \n",
       "\n",
       "    Percent Change in Median Income  Percent Change in Median Home Value  \\\n",
       "36                            26.72                                52.89   \n",
       "\n",
       "    Percent Change in Median Rent  Percent Change in Owner Occupied Homes  \\\n",
       "36                          66.89                                  -14.66   \n",
       "\n",
       "    Percent Change in Non-White Population  \\\n",
       "36                                   39.47   \n",
       "\n",
       "    Percent Change in Population with College Degree      cluster_name  \n",
       "36                                             12.99  Remaining costly  "
      ]
     },
     "execution_count": 22,
     "metadata": {},
     "output_type": "execute_result"
    }
   ],
   "source": [
    "cluster_and_2000[cluster_and_2000['tractid']==25025020303]"
   ]
  },
  {
   "cell_type": "markdown",
   "metadata": {},
   "source": [
    "## EDA"
   ]
  },
  {
   "cell_type": "markdown",
   "metadata": {},
   "source": [
    "### Racial and ethnic changes"
   ]
  },
  {
   "cell_type": "code",
   "execution_count": 23,
   "metadata": {},
   "outputs": [
    {
     "ename": "AttributeError",
     "evalue": "'DataFrame' object has no attribute 'nhwht10'",
     "output_type": "error",
     "traceback": [
      "\u001b[0;31m---------------------------------------------------------------------------\u001b[0m",
      "\u001b[0;31mAttributeError\u001b[0m                            Traceback (most recent call last)",
      "\u001b[0;32m<ipython-input-23-cf6fad234d84>\u001b[0m in \u001b[0;36m<module>\u001b[0;34m\u001b[0m\n\u001b[1;32m      1\u001b[0m \u001b[0;31m# 3% decline in white population\u001b[0m\u001b[0;34m\u001b[0m\u001b[0;34m\u001b[0m\u001b[0;34m\u001b[0m\u001b[0m\n\u001b[0;32m----> 2\u001b[0;31m \u001b[0;34m(\u001b[0m\u001b[0mdf_2010\u001b[0m\u001b[0;34m.\u001b[0m\u001b[0mnhwht10\u001b[0m\u001b[0;34m.\u001b[0m\u001b[0msum\u001b[0m\u001b[0;34m(\u001b[0m\u001b[0;34m)\u001b[0m\u001b[0;34m-\u001b[0m\u001b[0mdf_2000\u001b[0m\u001b[0;34m.\u001b[0m\u001b[0mNHWHT00\u001b[0m\u001b[0;34m.\u001b[0m\u001b[0msum\u001b[0m\u001b[0;34m(\u001b[0m\u001b[0;34m)\u001b[0m\u001b[0;34m)\u001b[0m\u001b[0;34m/\u001b[0m\u001b[0mdf_2000\u001b[0m\u001b[0;34m.\u001b[0m\u001b[0mNHWHT00\u001b[0m\u001b[0;34m.\u001b[0m\u001b[0msum\u001b[0m\u001b[0;34m(\u001b[0m\u001b[0;34m)\u001b[0m\u001b[0;34m\u001b[0m\u001b[0;34m\u001b[0m\u001b[0m\n\u001b[0m",
      "\u001b[0;32m~/anaconda3/lib/python3.7/site-packages/pandas/core/generic.py\u001b[0m in \u001b[0;36m__getattr__\u001b[0;34m(self, name)\u001b[0m\n\u001b[1;32m   5065\u001b[0m             \u001b[0;32mif\u001b[0m \u001b[0mself\u001b[0m\u001b[0;34m.\u001b[0m\u001b[0m_info_axis\u001b[0m\u001b[0;34m.\u001b[0m\u001b[0m_can_hold_identifiers_and_holds_name\u001b[0m\u001b[0;34m(\u001b[0m\u001b[0mname\u001b[0m\u001b[0;34m)\u001b[0m\u001b[0;34m:\u001b[0m\u001b[0;34m\u001b[0m\u001b[0;34m\u001b[0m\u001b[0m\n\u001b[1;32m   5066\u001b[0m                 \u001b[0;32mreturn\u001b[0m \u001b[0mself\u001b[0m\u001b[0;34m[\u001b[0m\u001b[0mname\u001b[0m\u001b[0;34m]\u001b[0m\u001b[0;34m\u001b[0m\u001b[0;34m\u001b[0m\u001b[0m\n\u001b[0;32m-> 5067\u001b[0;31m             \u001b[0;32mreturn\u001b[0m \u001b[0mobject\u001b[0m\u001b[0;34m.\u001b[0m\u001b[0m__getattribute__\u001b[0m\u001b[0;34m(\u001b[0m\u001b[0mself\u001b[0m\u001b[0;34m,\u001b[0m \u001b[0mname\u001b[0m\u001b[0;34m)\u001b[0m\u001b[0;34m\u001b[0m\u001b[0;34m\u001b[0m\u001b[0m\n\u001b[0m\u001b[1;32m   5068\u001b[0m \u001b[0;34m\u001b[0m\u001b[0m\n\u001b[1;32m   5069\u001b[0m     \u001b[0;32mdef\u001b[0m \u001b[0m__setattr__\u001b[0m\u001b[0;34m(\u001b[0m\u001b[0mself\u001b[0m\u001b[0;34m,\u001b[0m \u001b[0mname\u001b[0m\u001b[0;34m,\u001b[0m \u001b[0mvalue\u001b[0m\u001b[0;34m)\u001b[0m\u001b[0;34m:\u001b[0m\u001b[0;34m\u001b[0m\u001b[0;34m\u001b[0m\u001b[0m\n",
      "\u001b[0;31mAttributeError\u001b[0m: 'DataFrame' object has no attribute 'nhwht10'"
     ]
    }
   ],
   "source": [
    "# 3% decline in white population\n",
    "(df_2010.nhwht10.sum()-df_2000.NHWHT00.sum())/df_2000.NHWHT00.sum()"
   ]
  },
  {
   "cell_type": "code",
   "execution_count": null,
   "metadata": {},
   "outputs": [],
   "source": [
    "df_2010.head()"
   ]
  },
  {
   "cell_type": "code",
   "execution_count": null,
   "metadata": {},
   "outputs": [],
   "source": [
    "# 16% increase in non-white population\n",
    "((df_2010[['nhblk10','ntv10','asian10','hisp10',\n",
    "                                                   'haw10','india10','china10','filip10',\n",
    "                                                   'japan10','korea10','viet10','mex10',\n",
    "                                                   'pr10','cuban10']].sum().sum())-df_2000[['NHBLK00','NTV00','ASIAN00','HISP00',\n",
    "                                                   'HAW00','INDIA00','CHINA00','FILIP00',\n",
    "                                                   'JAPAN00','KOREA00','VIET00','MEX00',\n",
    "                                                   'PR00','CUBAN00']].sum().sum())/(df_2000[['NHBLK00','NTV00','ASIAN00','HISP00',\n",
    "                                                   'HAW00','INDIA00','CHINA00','FILIP00',\n",
    "                                                   'JAPAN00','KOREA00','VIET00','MEX00',\n",
    "                                                   'PR00','CUBAN00']].sum().sum())"
   ]
  },
  {
   "cell_type": "code",
   "execution_count": 1,
   "metadata": {},
   "outputs": [
    {
     "ename": "NameError",
     "evalue": "name 'df_2000' is not defined",
     "output_type": "error",
     "traceback": [
      "\u001b[0;31m---------------------------------------------------------------------------\u001b[0m",
      "\u001b[0;31mNameError\u001b[0m                                 Traceback (most recent call last)",
      "\u001b[0;32m<ipython-input-1-6d6a9c2994cc>\u001b[0m in \u001b[0;36m<module>\u001b[0;34m\u001b[0m\n\u001b[1;32m      4\u001b[0m \u001b[0;34m\u001b[0m\u001b[0m\n\u001b[1;32m      5\u001b[0m \u001b[0;34m\u001b[0m\u001b[0m\n\u001b[0;32m----> 6\u001b[0;31m fig = go.Figure(data=[go.Bar(name='White', x=['2000','2010'], y=[df_2000.NHWHT00.sum(),df_2010.nhwht10.sum()]),\n\u001b[0m\u001b[1;32m      7\u001b[0m                       go.Bar(name='Non-white', x=['2000','2010'], y=[df_2000[['NHBLK00','NTV00','ASIAN00','HISP00',\n\u001b[1;32m      8\u001b[0m                                                    \u001b[0;34m'HAW00'\u001b[0m\u001b[0;34m,\u001b[0m\u001b[0;34m'INDIA00'\u001b[0m\u001b[0;34m,\u001b[0m\u001b[0;34m'CHINA00'\u001b[0m\u001b[0;34m,\u001b[0m\u001b[0;34m'FILIP00'\u001b[0m\u001b[0;34m,\u001b[0m\u001b[0;34m\u001b[0m\u001b[0;34m\u001b[0m\u001b[0m\n",
      "\u001b[0;31mNameError\u001b[0m: name 'df_2000' is not defined"
     ]
    }
   ],
   "source": [
    "# bar chart showing breakup of white vs. non -white pop in boston 2000 vs. 2010\n",
    "import plotly.graph_objects as go\n",
    "\n",
    "\n",
    "\n",
    "fig = go.Figure(data=[go.Bar(name='White', x=['2000','2010'], y=[df_2000.NHWHT00.sum(),df_2010.nhwht10.sum()]),\n",
    "                      go.Bar(name='Non-white', x=['2000','2010'], y=[df_2000[['NHBLK00','NTV00','ASIAN00','HISP00',\n",
    "                                                   'HAW00','INDIA00','CHINA00','FILIP00',\n",
    "                                                   'JAPAN00','KOREA00','VIET00','MEX00',\n",
    "                                                   'PR00','CUBAN00']].sum().sum(),\n",
    "                                          df_2010[['nhblk10','ntv10','asian10','hisp10',\n",
    "                                                   'haw10','india10','china10','filip10',\n",
    "                                                   'japan10','korea10','viet10','mex10',\n",
    "                                                   'pr10','cuban10']].sum().sum()])])\n",
    "# Change the bar mode\n",
    "fig.update_layout(title=\n",
    "                  go.layout.Title(text='Change in Racial Composition of Population 2000-2010',\n",
    "                                  xref='paper',\n",
    "                                 x=0),\n",
    "                  barmode='stack',\n",
    "                  xaxis=\n",
    "                  go.layout.XAxis(\n",
    "                     title=go.layout.xaxis.Title(\n",
    "                     text='Year'),\n",
    "                      tickmode='array',\n",
    "                      tickvals=[2000,2010],\n",
    "                      ticktext=[2000,2010]),\n",
    "                  yaxis=go.layout.YAxis(\n",
    "                      title=go.layout.yaxis.Title(\n",
    "                      text='Population')\n",
    "                 ))\n",
    "fig.show()"
   ]
  },
  {
   "cell_type": "code",
   "execution_count": null,
   "metadata": {},
   "outputs": [],
   "source": [
    "df_2000['population_bucket']=df_2000['POP00'].apply(lambda x: 'less than 2500' if x < 2500 else\n",
    "                                                        ('2500-3500' if x < 3500 else (\n",
    "                                                        ('3500-4500' if x<4500 else\n",
    "                                                        '4500-8000'))))"
   ]
  },
  {
   "cell_type": "markdown",
   "metadata": {},
   "source": [
    "## income"
   ]
  },
  {
   "cell_type": "code",
   "execution_count": null,
   "metadata": {
    "scrolled": true
   },
   "outputs": [],
   "source": [
    "df_changes_sample['HINC00'].describe()"
   ]
  },
  {
   "cell_type": "code",
   "execution_count": null,
   "metadata": {},
   "outputs": [],
   "source": [
    "df_changes_sample['hinc12'].describe()"
   ]
  },
  {
   "cell_type": "code",
   "execution_count": null,
   "metadata": {},
   "outputs": [],
   "source": [
    "(52184-47486)/47486"
   ]
  },
  {
   "cell_type": "code",
   "execution_count": null,
   "metadata": {},
   "outputs": [],
   "source": [
    "def func(x):\n",
    "    if x >= 63371:\n",
    "        return 'Top 25% (> 63k)'\n",
    "    elif 37189<x<63371:\n",
    "        return 'Middle 50% (<63k and >37k)'\n",
    "    else:\n",
    "        return 'Bottom 25% (<37k)'"
   ]
  },
  {
   "cell_type": "code",
   "execution_count": null,
   "metadata": {},
   "outputs": [],
   "source": [
    "df_changes_sample['income_bracket']=df_changes_sample['HINC00'].apply(func)"
   ]
  },
  {
   "cell_type": "code",
   "execution_count": null,
   "metadata": {},
   "outputs": [],
   "source": [
    "# resave to csv\n",
    "df_changes_sample.to_csv('plotly_changes.csv')"
   ]
  },
  {
   "cell_type": "code",
   "execution_count": null,
   "metadata": {},
   "outputs": [],
   "source": [
    "df_changes_sample['income_bracket'].value_counts()"
   ]
  },
  {
   "cell_type": "code",
   "execution_count": null,
   "metadata": {},
   "outputs": [],
   "source": [
    "df_changes_sample[(df_changes_sample['income_bracket']=='Top 25% (> 63k)')&(df_changes_sample['HINC00_PC']<0)].describe()"
   ]
  },
  {
   "cell_type": "code",
   "execution_count": null,
   "metadata": {},
   "outputs": [],
   "source": [
    "(71902-80728)/80728"
   ]
  },
  {
   "cell_type": "code",
   "execution_count": null,
   "metadata": {},
   "outputs": [],
   "source": [
    "df_changes_sample[(df_changes_sample['income_bracket']=='Bottom 25% (<37k)')&(df_changes_sample['HINC00_PC']<0)].describe()"
   ]
  },
  {
   "cell_type": "code",
   "execution_count": null,
   "metadata": {},
   "outputs": [],
   "source": [
    "(21508-27815)/27815"
   ]
  },
  {
   "cell_type": "code",
   "execution_count": null,
   "metadata": {},
   "outputs": [],
   "source": [
    "df_changes_sample['income_bracket'][df_changes_sample['HINC00_PC']<0].value_counts()"
   ]
  },
  {
   "cell_type": "code",
   "execution_count": null,
   "metadata": {},
   "outputs": [],
   "source": [
    "len(df_changes_sample[(df_changes_sample['HINC00']>47000) &(df_changes_sample['HINC00_PC']>0)])"
   ]
  },
  {
   "cell_type": "code",
   "execution_count": null,
   "metadata": {},
   "outputs": [],
   "source": [
    "df_changes_sample[['HINC00','income_bracket']]"
   ]
  },
  {
   "cell_type": "code",
   "execution_count": null,
   "metadata": {},
   "outputs": [],
   "source": [
    "fig=go.Figure()\n",
    "colorsIdx={'Middle 50% (<63k and >37k)':'red','Top 25% (> 63k)':'blue','Bottom 25% (<37k)':'yellow'}\n",
    "cols=df_changes_sample.income_bracket.map(colorsIdx)\n",
    "fig.add_trace(go.Scatter(x=df_changes_sample.HINC00,\n",
    "                         y=df_changes_sample.HINC00_PC,\n",
    "                        mode='markers',\n",
    "                        marker=dict(size=10,color=cols)))\n",
    "fig.show()"
   ]
  },
  {
   "cell_type": "code",
   "execution_count": null,
   "metadata": {},
   "outputs": [],
   "source": [
    "df_changes_sample['HINC00'].describe()"
   ]
  },
  {
   "cell_type": "code",
   "execution_count": null,
   "metadata": {},
   "outputs": [],
   "source": [
    "(52009-47486)/47486"
   ]
  },
  {
   "cell_type": "markdown",
   "metadata": {},
   "source": [
    "## Housing costs"
   ]
  },
  {
   "cell_type": "code",
   "execution_count": null,
   "metadata": {},
   "outputs": [],
   "source": [
    "df_all_changes=df_changes_full.merge(df_changes_sample,how='inner',on='tractid')"
   ]
  },
  {
   "cell_type": "code",
   "execution_count": null,
   "metadata": {},
   "outputs": [],
   "source": [
    "df_all_changes.to_csv('plotly_changes_full.csv')"
   ]
  },
  {
   "cell_type": "code",
   "execution_count": null,
   "metadata": {},
   "outputs": [],
   "source": [
    "df_2010['mrent12'].describe()"
   ]
  },
  {
   "cell_type": "code",
   "execution_count": null,
   "metadata": {},
   "outputs": [],
   "source": [
    "df_2000['MRENT00'].describe()"
   ]
  },
  {
   "cell_type": "code",
   "execution_count": null,
   "metadata": {},
   "outputs": [],
   "source": [
    "(1083.5-871.56)/871.56"
   ]
  },
  {
   "cell_type": "code",
   "execution_count": null,
   "metadata": {},
   "outputs": [],
   "source": [
    "len(df_all_changes[(df_all_changes['percent_renteroccupied_00_PC']>0) & (df_all_changes['MHMVAL00_PC'])])"
   ]
  },
  {
   "cell_type": "code",
   "execution_count": null,
   "metadata": {},
   "outputs": [],
   "source": [
    "103/191 # 53 % of tracts experienced and increase in home value while owner occ went up\n",
    "# vs. only 49/191 tracts expereicen increase in home while renter occupany went up"
   ]
  },
  {
   "cell_type": "code",
   "execution_count": null,
   "metadata": {},
   "outputs": [],
   "source": [
    "df_2010['mhmval12'].describe()"
   ]
  },
  {
   "cell_type": "code",
   "execution_count": null,
   "metadata": {},
   "outputs": [],
   "source": [
    "df_2000['MHMVAL00'].describe()"
   ]
  },
  {
   "cell_type": "code",
   "execution_count": null,
   "metadata": {},
   "outputs": [],
   "source": [
    "# county's median median home value rose 41%\n",
    "(337150-239077)/239077"
   ]
  },
  {
   "cell_type": "code",
   "execution_count": null,
   "metadata": {},
   "outputs": [],
   "source": [
    "# 95% of tracts increas ein home val\n",
    "len(df_changes_sample[df_changes_sample['MRENT00_PC']>0])"
   ]
  },
  {
   "cell_type": "code",
   "execution_count": null,
   "metadata": {},
   "outputs": [],
   "source": [
    "# same with rent val\n",
    "len(df_changes_sample[df_changes_sample['MHMVAL00_PC']>0])"
   ]
  },
  {
   "cell_type": "code",
   "execution_count": null,
   "metadata": {},
   "outputs": [],
   "source": [
    "181/190"
   ]
  },
  {
   "cell_type": "code",
   "execution_count": null,
   "metadata": {},
   "outputs": [],
   "source": [
    "183/191"
   ]
  },
  {
   "cell_type": "markdown",
   "metadata": {},
   "source": [
    "## Visualizing the clusters"
   ]
  },
  {
   "cell_type": "code",
   "execution_count": 2,
   "metadata": {},
   "outputs": [
    {
     "ename": "ValueError",
     "evalue": "Invalid property specified for object of type plotly.graph_objs.Layout: 'bgcolor'\n\n    Valid properties:\n        angularaxis\n            plotly.graph_objects.layout.AngularAxis instance or\n            dict with compatible properties\n        annotations\n            A tuple of plotly.graph_objects.layout.Annotation\n            instances or dicts with compatible properties\n        annotationdefaults\n            When used in a template (as\n            layout.template.layout.annotationdefaults), sets the\n            default property values to use for elements of\n            layout.annotations\n        autosize\n            Determines whether or not a layout width or height that\n            has been left undefined by the user is initialized on\n            each relayout. Note that, regardless of this attribute,\n            an undefined layout width or height is always\n            initialized on the first call to plot.\n        bargap\n            Sets the gap (in plot fraction) between bars of\n            adjacent location coordinates.\n        bargroupgap\n            Sets the gap (in plot fraction) between bars of the\n            same location coordinate.\n        barmode\n            Determines how bars at the same location coordinate are\n            displayed on the graph. With \"stack\", the bars are\n            stacked on top of one another With \"relative\", the bars\n            are stacked on top of one another, with negative values\n            below the axis, positive values above With \"group\", the\n            bars are plotted next to one another centered around\n            the shared location. With \"overlay\", the bars are\n            plotted over one another, you might need to an\n            \"opacity\" to see multiple bars.\n        barnorm\n            Sets the normalization for bar traces on the graph.\n            With \"fraction\", the value of each bar is divided by\n            the sum of all values at that location coordinate.\n            \"percent\" is the same but multiplied by 100 to show\n            percentages.\n        boxgap\n            Sets the gap (in plot fraction) between boxes of\n            adjacent location coordinates. Has no effect on traces\n            that have \"width\" set.\n        boxgroupgap\n            Sets the gap (in plot fraction) between boxes of the\n            same location coordinate. Has no effect on traces that\n            have \"width\" set.\n        boxmode\n            Determines how boxes at the same location coordinate\n            are displayed on the graph. If \"group\", the boxes are\n            plotted next to one another centered around the shared\n            location. If \"overlay\", the boxes are plotted over one\n            another, you might need to set \"opacity\" to see them\n            multiple boxes. Has no effect on traces that have\n            \"width\" set.\n        calendar\n            Sets the default calendar system to use for\n            interpreting and displaying dates throughout the plot.\n        clickmode\n            Determines the mode of single click interactions.\n            \"event\" is the default value and emits the\n            `plotly_click` event. In addition this mode emits the\n            `plotly_selected` event in drag modes \"lasso\" and\n            \"select\", but with no event data attached (kept for\n            compatibility reasons). The \"select\" flag enables\n            selecting single data points via click. This mode also\n            supports persistent selections, meaning that pressing\n            Shift while clicking, adds to / subtracts from an\n            existing selection. \"select\" with `hovermode`: \"x\" can\n            be confusing, consider explicitly setting `hovermode`:\n            \"closest\" when using this feature. Selection events are\n            sent accordingly as long as \"event\" flag is set as\n            well. When the \"event\" flag is missing, `plotly_click`\n            and `plotly_selected` events are not fired.\n        coloraxis\n            plotly.graph_objects.layout.Coloraxis instance or dict\n            with compatible properties\n        colorscale\n            plotly.graph_objects.layout.Colorscale instance or dict\n            with compatible properties\n        colorway\n            Sets the default trace colors.\n        datarevision\n            If provided, a changed value tells `Plotly.react` that\n            one or more data arrays has changed. This way you can\n            modify arrays in-place rather than making a complete\n            new copy for an incremental change. If NOT provided,\n            `Plotly.react` assumes that data arrays are being\n            treated as immutable, thus any data array with a\n            different identity from its predecessor contains new\n            data.\n        direction\n            Legacy polar charts are deprecated! Please switch to\n            \"polar\" subplots. Sets the direction corresponding to\n            positive angles in legacy polar charts.\n        dragmode\n            Determines the mode of drag interactions. \"select\" and\n            \"lasso\" apply only to scatter traces with markers or\n            text. \"orbit\" and \"turntable\" apply only to 3D scenes.\n        editrevision\n            Controls persistence of user-driven changes in\n            `editable: true` configuration, other than trace names\n            and axis titles. Defaults to `layout.uirevision`.\n        extendfunnelareacolors\n            If `true`, the funnelarea slice colors (whether given\n            by `funnelareacolorway` or inherited from `colorway`)\n            will be extended to three times its original length by\n            first repeating every color 20% lighter then each color\n            20% darker. This is intended to reduce the likelihood\n            of reusing the same color when you have many slices,\n            but you can set `false` to disable. Colors provided in\n            the trace, using `marker.colors`, are never extended.\n        extendpiecolors\n            If `true`, the pie slice colors (whether given by\n            `piecolorway` or inherited from `colorway`) will be\n            extended to three times its original length by first\n            repeating every color 20% lighter then each color 20%\n            darker. This is intended to reduce the likelihood of\n            reusing the same color when you have many slices, but\n            you can set `false` to disable. Colors provided in the\n            trace, using `marker.colors`, are never extended.\n        extendsunburstcolors\n            If `true`, the sunburst slice colors (whether given by\n            `sunburstcolorway` or inherited from `colorway`) will\n            be extended to three times its original length by first\n            repeating every color 20% lighter then each color 20%\n            darker. This is intended to reduce the likelihood of\n            reusing the same color when you have many slices, but\n            you can set `false` to disable. Colors provided in the\n            trace, using `marker.colors`, are never extended.\n        font\n            Sets the global font. Note that fonts used in traces\n            and other layout components inherit from the global\n            font.\n        funnelareacolorway\n            Sets the default funnelarea slice colors. Defaults to\n            the main `colorway` used for trace colors. If you\n            specify a new list here it can still be extended with\n            lighter and darker colors, see\n            `extendfunnelareacolors`.\n        funnelgap\n            Sets the gap (in plot fraction) between bars of\n            adjacent location coordinates.\n        funnelgroupgap\n            Sets the gap (in plot fraction) between bars of the\n            same location coordinate.\n        funnelmode\n            Determines how bars at the same location coordinate are\n            displayed on the graph. With \"stack\", the bars are\n            stacked on top of one another With \"group\", the bars\n            are plotted next to one another centered around the\n            shared location. With \"overlay\", the bars are plotted\n            over one another, you might need to an \"opacity\" to see\n            multiple bars.\n        geo\n            plotly.graph_objects.layout.Geo instance or dict with\n            compatible properties\n        grid\n            plotly.graph_objects.layout.Grid instance or dict with\n            compatible properties\n        height\n            Sets the plot's height (in px).\n        hiddenlabels\n            hiddenlabels is the funnelarea & pie chart analog of\n            visible:'legendonly' but it can contain many labels,\n            and can simultaneously hide slices from several\n            pies/funnelarea charts\n        hiddenlabelssrc\n            Sets the source reference on plot.ly for  hiddenlabels\n            .\n        hidesources\n            Determines whether or not a text link citing the data\n            source is placed at the bottom-right cored of the\n            figure. Has only an effect only on graphs that have\n            been generated via forked graphs from the plotly\n            service (at https://plot.ly or on-premise).\n        hoverdistance\n            Sets the default distance (in pixels) to look for data\n            to add hover labels (-1 means no cutoff, 0 means no\n            looking for data). This is only a real distance for\n            hovering on point-like objects, like scatter points.\n            For area-like objects (bars, scatter fills, etc)\n            hovering is on inside the area and off outside, but\n            these objects will not supersede hover on point-like\n            objects in case of conflict.\n        hoverlabel\n            plotly.graph_objects.layout.Hoverlabel instance or dict\n            with compatible properties\n        hovermode\n            Determines the mode of hover interactions. If\n            `clickmode` includes the \"select\" flag, `hovermode`\n            defaults to \"closest\". If `clickmode` lacks the\n            \"select\" flag, it defaults to \"x\" or \"y\" (depending on\n            the trace's `orientation` value) for plots based on\n            cartesian coordinates. For anything else the default\n            value is \"closest\".\n        images\n            A tuple of plotly.graph_objects.layout.Image instances\n            or dicts with compatible properties\n        imagedefaults\n            When used in a template (as\n            layout.template.layout.imagedefaults), sets the default\n            property values to use for elements of layout.images\n        legend\n            plotly.graph_objects.layout.Legend instance or dict\n            with compatible properties\n        mapbox\n            plotly.graph_objects.layout.Mapbox instance or dict\n            with compatible properties\n        margin\n            plotly.graph_objects.layout.Margin instance or dict\n            with compatible properties\n        meta\n            Assigns extra meta information that can be used in\n            various `text` attributes. Attributes such as the\n            graph, axis and colorbar `title.text`, annotation\n            `text` `trace.name` in legend items, `rangeselector`,\n            `updatemenues` and `sliders` `label` text all support\n            `meta`. One can access `meta` fields using template\n            strings: `%{meta[i]}` where `i` is the index of the\n            `meta` item in question. `meta` can also be an object\n            for example `{key: value}` which can be accessed\n            %{meta[key]}.\n        metasrc\n            Sets the source reference on plot.ly for  meta .\n        modebar\n            plotly.graph_objects.layout.Modebar instance or dict\n            with compatible properties\n        orientation\n            Legacy polar charts are deprecated! Please switch to\n            \"polar\" subplots. Rotates the entire polar by the given\n            angle in legacy polar charts.\n        paper_bgcolor\n            Sets the color of paper where the graph is drawn.\n        piecolorway\n            Sets the default pie slice colors. Defaults to the main\n            `colorway` used for trace colors. If you specify a new\n            list here it can still be extended with lighter and\n            darker colors, see `extendpiecolors`.\n        plot_bgcolor\n            Sets the color of plotting area in-between x and y\n            axes.\n        polar\n            plotly.graph_objects.layout.Polar instance or dict with\n            compatible properties\n        radialaxis\n            plotly.graph_objects.layout.RadialAxis instance or dict\n            with compatible properties\n        scene\n            plotly.graph_objects.layout.Scene instance or dict with\n            compatible properties\n        selectdirection\n            When \"dragmode\" is set to \"select\", this limits the\n            selection of the drag to horizontal, vertical or\n            diagonal. \"h\" only allows horizontal selection, \"v\"\n            only vertical, \"d\" only diagonal and \"any\" sets no\n            limit.\n        selectionrevision\n            Controls persistence of user-driven changes in selected\n            points from all traces.\n        separators\n            Sets the decimal and thousand separators. For example,\n            *. * puts a '.' before decimals and a space between\n            thousands. In English locales, dflt is \".,\" but other\n            locales may alter this default.\n        shapes\n            A tuple of plotly.graph_objects.layout.Shape instances\n            or dicts with compatible properties\n        shapedefaults\n            When used in a template (as\n            layout.template.layout.shapedefaults), sets the default\n            property values to use for elements of layout.shapes\n        showlegend\n            Determines whether or not a legend is drawn. Default is\n            `true` if there is a trace to show and any of these: a)\n            Two or more traces would by default be shown in the\n            legend. b) One pie trace is shown in the legend. c) One\n            trace is explicitly given with `showlegend: true`.\n        sliders\n            A tuple of plotly.graph_objects.layout.Slider instances\n            or dicts with compatible properties\n        sliderdefaults\n            When used in a template (as\n            layout.template.layout.sliderdefaults), sets the\n            default property values to use for elements of\n            layout.sliders\n        spikedistance\n            Sets the default distance (in pixels) to look for data\n            to draw spikelines to (-1 means no cutoff, 0 means no\n            looking for data). As with hoverdistance, distance does\n            not apply to area-like objects. In addition, some\n            objects can be hovered on but will not generate\n            spikelines, such as scatter fills.\n        sunburstcolorway\n            Sets the default sunburst slice colors. Defaults to the\n            main `colorway` used for trace colors. If you specify a\n            new list here it can still be extended with lighter and\n            darker colors, see `extendsunburstcolors`.\n        template\n            Default attributes to be applied to the plot. This\n            should be a dict with format: `{'layout':\n            layoutTemplate, 'data': {trace_type: [traceTemplate,\n            ...], ...}}` where `layoutTemplate` is a dict matching\n            the structure of `figure.layout` and `traceTemplate` is\n            a dict matching the structure of the trace with type\n            `trace_type` (e.g. 'scatter'). Alternatively, this may\n            be specified as an instance of\n            plotly.graph_objs.layout.Template.  Trace templates are\n            applied cyclically to traces of each type. Container\n            arrays (eg `annotations`) have special handling: An\n            object ending in `defaults` (eg `annotationdefaults`)\n            is applied to each array item. But if an item has a\n            `templateitemname` key we look in the template array\n            for an item with matching `name` and apply that\n            instead. If no matching `name` is found we mark the\n            item invisible. Any named template item not referenced\n            is appended to the end of the array, so this can be\n            used to add a watermark annotation or a logo image, for\n            example. To omit one of these items on the plot, make\n            an item with matching `templateitemname` and `visible:\n            false`.\n        ternary\n            plotly.graph_objects.layout.Ternary instance or dict\n            with compatible properties\n        title\n            plotly.graph_objects.layout.Title instance or dict with\n            compatible properties\n        titlefont\n            Deprecated: Please use layout.title.font instead. Sets\n            the title font. Note that the title's font used to be\n            customized by the now deprecated `titlefont` attribute.\n        transition\n            Sets transition options used during Plotly.react\n            updates.\n        uirevision\n            Used to allow user interactions with the plot to\n            persist after `Plotly.react` calls that are unaware of\n            these interactions. If `uirevision` is omitted, or if\n            it is given and it changed from the previous\n            `Plotly.react` call, the exact new figure is used. If\n            `uirevision` is truthy and did NOT change, any\n            attribute that has been affected by user interactions\n            and did not receive a different value in the new figure\n            will keep the interaction value. `layout.uirevision`\n            attribute serves as the default for `uirevision`\n            attributes in various sub-containers. For finer control\n            you can set these sub-attributes directly. For example,\n            if your app separately controls the data on the x and y\n            axes you might set `xaxis.uirevision=*time*` and\n            `yaxis.uirevision=*cost*`. Then if only the y data is\n            changed, you can update `yaxis.uirevision=*quantity*`\n            and the y axis range will reset but the x axis range\n            will retain any user-driven zoom.\n        updatemenus\n            A tuple of plotly.graph_objects.layout.Updatemenu\n            instances or dicts with compatible properties\n        updatemenudefaults\n            When used in a template (as\n            layout.template.layout.updatemenudefaults), sets the\n            default property values to use for elements of\n            layout.updatemenus\n        violingap\n            Sets the gap (in plot fraction) between violins of\n            adjacent location coordinates. Has no effect on traces\n            that have \"width\" set.\n        violingroupgap\n            Sets the gap (in plot fraction) between violins of the\n            same location coordinate. Has no effect on traces that\n            have \"width\" set.\n        violinmode\n            Determines how violins at the same location coordinate\n            are displayed on the graph. If \"group\", the violins are\n            plotted next to one another centered around the shared\n            location. If \"overlay\", the violins are plotted over\n            one another, you might need to set \"opacity\" to see\n            them multiple violins. Has no effect on traces that\n            have \"width\" set.\n        waterfallgap\n            Sets the gap (in plot fraction) between bars of\n            adjacent location coordinates.\n        waterfallgroupgap\n            Sets the gap (in plot fraction) between bars of the\n            same location coordinate.\n        waterfallmode\n            Determines how bars at the same location coordinate are\n            displayed on the graph. With \"group\", the bars are\n            plotted next to one another centered around the shared\n            location. With \"overlay\", the bars are plotted over one\n            another, you might need to an \"opacity\" to see multiple\n            bars.\n        width\n            Sets the plot's width (in px).\n        xaxis\n            plotly.graph_objects.layout.XAxis instance or dict with\n            compatible properties\n        yaxis\n            plotly.graph_objects.layout.YAxis instance or dict with\n            compatible properties\n        ",
     "output_type": "error",
     "traceback": [
      "\u001b[0;31m---------------------------------------------------------------------------\u001b[0m",
      "\u001b[0;31mValueError\u001b[0m                                Traceback (most recent call last)",
      "\u001b[0;32m<ipython-input-2-3f41d97bc010>\u001b[0m in \u001b[0;36m<module>\u001b[0;34m\u001b[0m\n\u001b[1;32m     42\u001b[0m   ),\n\u001b[1;32m     43\u001b[0m     \u001b[0mbgcolor\u001b[0m\u001b[0;34m=\u001b[0m\u001b[0;34m'aliceblue'\u001b[0m\u001b[0;34m,\u001b[0m\u001b[0;34m\u001b[0m\u001b[0;34m\u001b[0m\u001b[0m\n\u001b[0;32m---> 44\u001b[0;31m   \u001b[0mshowlegend\u001b[0m\u001b[0;34m=\u001b[0m\u001b[0;32mTrue\u001b[0m\u001b[0;34m,\u001b[0m\u001b[0;34m\u001b[0m\u001b[0;34m\u001b[0m\u001b[0m\n\u001b[0m\u001b[1;32m     45\u001b[0m \u001b[0;34m\u001b[0m\u001b[0m\n\u001b[1;32m     46\u001b[0m )\n",
      "\u001b[0;32m~/anaconda3/lib/python3.7/site-packages/plotly/basedatatypes.py\u001b[0m in \u001b[0;36mupdate_layout\u001b[0;34m(self, dict1, **kwargs)\u001b[0m\n\u001b[1;32m    914\u001b[0m             \u001b[0mThe\u001b[0m \u001b[0mFigure\u001b[0m \u001b[0mobject\u001b[0m \u001b[0mthat\u001b[0m \u001b[0mthe\u001b[0m \u001b[0mupdate_layout\u001b[0m \u001b[0mmethod\u001b[0m \u001b[0mwas\u001b[0m \u001b[0mcalled\u001b[0m \u001b[0mon\u001b[0m\u001b[0;34m\u001b[0m\u001b[0;34m\u001b[0m\u001b[0m\n\u001b[1;32m    915\u001b[0m         \"\"\"\n\u001b[0;32m--> 916\u001b[0;31m         \u001b[0mself\u001b[0m\u001b[0;34m.\u001b[0m\u001b[0mlayout\u001b[0m\u001b[0;34m.\u001b[0m\u001b[0mupdate\u001b[0m\u001b[0;34m(\u001b[0m\u001b[0mdict1\u001b[0m\u001b[0;34m,\u001b[0m \u001b[0;34m**\u001b[0m\u001b[0mkwargs\u001b[0m\u001b[0;34m)\u001b[0m\u001b[0;34m\u001b[0m\u001b[0;34m\u001b[0m\u001b[0m\n\u001b[0m\u001b[1;32m    917\u001b[0m         \u001b[0;32mreturn\u001b[0m \u001b[0mself\u001b[0m\u001b[0;34m\u001b[0m\u001b[0;34m\u001b[0m\u001b[0m\n\u001b[1;32m    918\u001b[0m \u001b[0;34m\u001b[0m\u001b[0m\n",
      "\u001b[0;32m~/anaconda3/lib/python3.7/site-packages/plotly/basedatatypes.py\u001b[0m in \u001b[0;36mupdate\u001b[0;34m(self, dict1, **kwargs)\u001b[0m\n\u001b[1;32m   3554\u001b[0m             \u001b[0;32mwith\u001b[0m \u001b[0mself\u001b[0m\u001b[0;34m.\u001b[0m\u001b[0mfigure\u001b[0m\u001b[0;34m.\u001b[0m\u001b[0mbatch_update\u001b[0m\u001b[0;34m(\u001b[0m\u001b[0;34m)\u001b[0m\u001b[0;34m:\u001b[0m\u001b[0;34m\u001b[0m\u001b[0;34m\u001b[0m\u001b[0m\n\u001b[1;32m   3555\u001b[0m                 \u001b[0mBaseFigure\u001b[0m\u001b[0;34m.\u001b[0m\u001b[0m_perform_update\u001b[0m\u001b[0;34m(\u001b[0m\u001b[0mself\u001b[0m\u001b[0;34m,\u001b[0m \u001b[0mdict1\u001b[0m\u001b[0;34m)\u001b[0m\u001b[0;34m\u001b[0m\u001b[0;34m\u001b[0m\u001b[0m\n\u001b[0;32m-> 3556\u001b[0;31m                 \u001b[0mBaseFigure\u001b[0m\u001b[0;34m.\u001b[0m\u001b[0m_perform_update\u001b[0m\u001b[0;34m(\u001b[0m\u001b[0mself\u001b[0m\u001b[0;34m,\u001b[0m \u001b[0mkwargs\u001b[0m\u001b[0;34m)\u001b[0m\u001b[0;34m\u001b[0m\u001b[0;34m\u001b[0m\u001b[0m\n\u001b[0m\u001b[1;32m   3557\u001b[0m         \u001b[0;32melse\u001b[0m\u001b[0;34m:\u001b[0m\u001b[0;34m\u001b[0m\u001b[0;34m\u001b[0m\u001b[0m\n\u001b[1;32m   3558\u001b[0m             \u001b[0mBaseFigure\u001b[0m\u001b[0;34m.\u001b[0m\u001b[0m_perform_update\u001b[0m\u001b[0;34m(\u001b[0m\u001b[0mself\u001b[0m\u001b[0;34m,\u001b[0m \u001b[0mdict1\u001b[0m\u001b[0;34m)\u001b[0m\u001b[0;34m\u001b[0m\u001b[0;34m\u001b[0m\u001b[0m\n",
      "\u001b[0;32m~/anaconda3/lib/python3.7/site-packages/plotly/basedatatypes.py\u001b[0m in \u001b[0;36m_perform_update\u001b[0;34m(plotly_obj, update_obj)\u001b[0m\n\u001b[1;32m   2737\u001b[0m             \u001b[0minvalid_props\u001b[0m \u001b[0;34m=\u001b[0m \u001b[0;34m[\u001b[0m\u001b[0mk\u001b[0m \u001b[0;32mfor\u001b[0m \u001b[0mk\u001b[0m \u001b[0;32min\u001b[0m \u001b[0mupdate_obj\u001b[0m \u001b[0;32mif\u001b[0m \u001b[0mk\u001b[0m \u001b[0;32mnot\u001b[0m \u001b[0;32min\u001b[0m \u001b[0mplotly_obj\u001b[0m\u001b[0;34m]\u001b[0m\u001b[0;34m\u001b[0m\u001b[0;34m\u001b[0m\u001b[0m\n\u001b[1;32m   2738\u001b[0m \u001b[0;34m\u001b[0m\u001b[0m\n\u001b[0;32m-> 2739\u001b[0;31m             \u001b[0mplotly_obj\u001b[0m\u001b[0;34m.\u001b[0m\u001b[0m_raise_on_invalid_property_error\u001b[0m\u001b[0;34m(\u001b[0m\u001b[0;34m*\u001b[0m\u001b[0minvalid_props\u001b[0m\u001b[0;34m)\u001b[0m\u001b[0;34m\u001b[0m\u001b[0;34m\u001b[0m\u001b[0m\n\u001b[0m\u001b[1;32m   2740\u001b[0m \u001b[0;34m\u001b[0m\u001b[0m\n\u001b[1;32m   2741\u001b[0m             \u001b[0;31m# Convert update_obj to dict\u001b[0m\u001b[0;34m\u001b[0m\u001b[0;34m\u001b[0m\u001b[0;34m\u001b[0m\u001b[0m\n",
      "\u001b[0;32m~/anaconda3/lib/python3.7/site-packages/plotly/basedatatypes.py\u001b[0m in \u001b[0;36m_raise_on_invalid_property_error\u001b[0;34m(self, *args)\u001b[0m\n\u001b[1;32m   3527\u001b[0m                     \u001b[0mfull_obj_name\u001b[0m\u001b[0;34m=\u001b[0m\u001b[0mfull_obj_name\u001b[0m\u001b[0;34m,\u001b[0m\u001b[0;34m\u001b[0m\u001b[0;34m\u001b[0m\u001b[0m\n\u001b[1;32m   3528\u001b[0m                     \u001b[0minvalid_str\u001b[0m\u001b[0;34m=\u001b[0m\u001b[0minvalid_str\u001b[0m\u001b[0;34m,\u001b[0m\u001b[0;34m\u001b[0m\u001b[0;34m\u001b[0m\u001b[0m\n\u001b[0;32m-> 3529\u001b[0;31m                     \u001b[0mprop_descriptions\u001b[0m\u001b[0;34m=\u001b[0m\u001b[0mself\u001b[0m\u001b[0;34m.\u001b[0m\u001b[0m_prop_descriptions\u001b[0m\u001b[0;34m,\u001b[0m\u001b[0;34m\u001b[0m\u001b[0;34m\u001b[0m\u001b[0m\n\u001b[0m\u001b[1;32m   3530\u001b[0m                 )\n\u001b[1;32m   3531\u001b[0m             )\n",
      "\u001b[0;31mValueError\u001b[0m: Invalid property specified for object of type plotly.graph_objs.Layout: 'bgcolor'\n\n    Valid properties:\n        angularaxis\n            plotly.graph_objects.layout.AngularAxis instance or\n            dict with compatible properties\n        annotations\n            A tuple of plotly.graph_objects.layout.Annotation\n            instances or dicts with compatible properties\n        annotationdefaults\n            When used in a template (as\n            layout.template.layout.annotationdefaults), sets the\n            default property values to use for elements of\n            layout.annotations\n        autosize\n            Determines whether or not a layout width or height that\n            has been left undefined by the user is initialized on\n            each relayout. Note that, regardless of this attribute,\n            an undefined layout width or height is always\n            initialized on the first call to plot.\n        bargap\n            Sets the gap (in plot fraction) between bars of\n            adjacent location coordinates.\n        bargroupgap\n            Sets the gap (in plot fraction) between bars of the\n            same location coordinate.\n        barmode\n            Determines how bars at the same location coordinate are\n            displayed on the graph. With \"stack\", the bars are\n            stacked on top of one another With \"relative\", the bars\n            are stacked on top of one another, with negative values\n            below the axis, positive values above With \"group\", the\n            bars are plotted next to one another centered around\n            the shared location. With \"overlay\", the bars are\n            plotted over one another, you might need to an\n            \"opacity\" to see multiple bars.\n        barnorm\n            Sets the normalization for bar traces on the graph.\n            With \"fraction\", the value of each bar is divided by\n            the sum of all values at that location coordinate.\n            \"percent\" is the same but multiplied by 100 to show\n            percentages.\n        boxgap\n            Sets the gap (in plot fraction) between boxes of\n            adjacent location coordinates. Has no effect on traces\n            that have \"width\" set.\n        boxgroupgap\n            Sets the gap (in plot fraction) between boxes of the\n            same location coordinate. Has no effect on traces that\n            have \"width\" set.\n        boxmode\n            Determines how boxes at the same location coordinate\n            are displayed on the graph. If \"group\", the boxes are\n            plotted next to one another centered around the shared\n            location. If \"overlay\", the boxes are plotted over one\n            another, you might need to set \"opacity\" to see them\n            multiple boxes. Has no effect on traces that have\n            \"width\" set.\n        calendar\n            Sets the default calendar system to use for\n            interpreting and displaying dates throughout the plot.\n        clickmode\n            Determines the mode of single click interactions.\n            \"event\" is the default value and emits the\n            `plotly_click` event. In addition this mode emits the\n            `plotly_selected` event in drag modes \"lasso\" and\n            \"select\", but with no event data attached (kept for\n            compatibility reasons). The \"select\" flag enables\n            selecting single data points via click. This mode also\n            supports persistent selections, meaning that pressing\n            Shift while clicking, adds to / subtracts from an\n            existing selection. \"select\" with `hovermode`: \"x\" can\n            be confusing, consider explicitly setting `hovermode`:\n            \"closest\" when using this feature. Selection events are\n            sent accordingly as long as \"event\" flag is set as\n            well. When the \"event\" flag is missing, `plotly_click`\n            and `plotly_selected` events are not fired.\n        coloraxis\n            plotly.graph_objects.layout.Coloraxis instance or dict\n            with compatible properties\n        colorscale\n            plotly.graph_objects.layout.Colorscale instance or dict\n            with compatible properties\n        colorway\n            Sets the default trace colors.\n        datarevision\n            If provided, a changed value tells `Plotly.react` that\n            one or more data arrays has changed. This way you can\n            modify arrays in-place rather than making a complete\n            new copy for an incremental change. If NOT provided,\n            `Plotly.react` assumes that data arrays are being\n            treated as immutable, thus any data array with a\n            different identity from its predecessor contains new\n            data.\n        direction\n            Legacy polar charts are deprecated! Please switch to\n            \"polar\" subplots. Sets the direction corresponding to\n            positive angles in legacy polar charts.\n        dragmode\n            Determines the mode of drag interactions. \"select\" and\n            \"lasso\" apply only to scatter traces with markers or\n            text. \"orbit\" and \"turntable\" apply only to 3D scenes.\n        editrevision\n            Controls persistence of user-driven changes in\n            `editable: true` configuration, other than trace names\n            and axis titles. Defaults to `layout.uirevision`.\n        extendfunnelareacolors\n            If `true`, the funnelarea slice colors (whether given\n            by `funnelareacolorway` or inherited from `colorway`)\n            will be extended to three times its original length by\n            first repeating every color 20% lighter then each color\n            20% darker. This is intended to reduce the likelihood\n            of reusing the same color when you have many slices,\n            but you can set `false` to disable. Colors provided in\n            the trace, using `marker.colors`, are never extended.\n        extendpiecolors\n            If `true`, the pie slice colors (whether given by\n            `piecolorway` or inherited from `colorway`) will be\n            extended to three times its original length by first\n            repeating every color 20% lighter then each color 20%\n            darker. This is intended to reduce the likelihood of\n            reusing the same color when you have many slices, but\n            you can set `false` to disable. Colors provided in the\n            trace, using `marker.colors`, are never extended.\n        extendsunburstcolors\n            If `true`, the sunburst slice colors (whether given by\n            `sunburstcolorway` or inherited from `colorway`) will\n            be extended to three times its original length by first\n            repeating every color 20% lighter then each color 20%\n            darker. This is intended to reduce the likelihood of\n            reusing the same color when you have many slices, but\n            you can set `false` to disable. Colors provided in the\n            trace, using `marker.colors`, are never extended.\n        font\n            Sets the global font. Note that fonts used in traces\n            and other layout components inherit from the global\n            font.\n        funnelareacolorway\n            Sets the default funnelarea slice colors. Defaults to\n            the main `colorway` used for trace colors. If you\n            specify a new list here it can still be extended with\n            lighter and darker colors, see\n            `extendfunnelareacolors`.\n        funnelgap\n            Sets the gap (in plot fraction) between bars of\n            adjacent location coordinates.\n        funnelgroupgap\n            Sets the gap (in plot fraction) between bars of the\n            same location coordinate.\n        funnelmode\n            Determines how bars at the same location coordinate are\n            displayed on the graph. With \"stack\", the bars are\n            stacked on top of one another With \"group\", the bars\n            are plotted next to one another centered around the\n            shared location. With \"overlay\", the bars are plotted\n            over one another, you might need to an \"opacity\" to see\n            multiple bars.\n        geo\n            plotly.graph_objects.layout.Geo instance or dict with\n            compatible properties\n        grid\n            plotly.graph_objects.layout.Grid instance or dict with\n            compatible properties\n        height\n            Sets the plot's height (in px).\n        hiddenlabels\n            hiddenlabels is the funnelarea & pie chart analog of\n            visible:'legendonly' but it can contain many labels,\n            and can simultaneously hide slices from several\n            pies/funnelarea charts\n        hiddenlabelssrc\n            Sets the source reference on plot.ly for  hiddenlabels\n            .\n        hidesources\n            Determines whether or not a text link citing the data\n            source is placed at the bottom-right cored of the\n            figure. Has only an effect only on graphs that have\n            been generated via forked graphs from the plotly\n            service (at https://plot.ly or on-premise).\n        hoverdistance\n            Sets the default distance (in pixels) to look for data\n            to add hover labels (-1 means no cutoff, 0 means no\n            looking for data). This is only a real distance for\n            hovering on point-like objects, like scatter points.\n            For area-like objects (bars, scatter fills, etc)\n            hovering is on inside the area and off outside, but\n            these objects will not supersede hover on point-like\n            objects in case of conflict.\n        hoverlabel\n            plotly.graph_objects.layout.Hoverlabel instance or dict\n            with compatible properties\n        hovermode\n            Determines the mode of hover interactions. If\n            `clickmode` includes the \"select\" flag, `hovermode`\n            defaults to \"closest\". If `clickmode` lacks the\n            \"select\" flag, it defaults to \"x\" or \"y\" (depending on\n            the trace's `orientation` value) for plots based on\n            cartesian coordinates. For anything else the default\n            value is \"closest\".\n        images\n            A tuple of plotly.graph_objects.layout.Image instances\n            or dicts with compatible properties\n        imagedefaults\n            When used in a template (as\n            layout.template.layout.imagedefaults), sets the default\n            property values to use for elements of layout.images\n        legend\n            plotly.graph_objects.layout.Legend instance or dict\n            with compatible properties\n        mapbox\n            plotly.graph_objects.layout.Mapbox instance or dict\n            with compatible properties\n        margin\n            plotly.graph_objects.layout.Margin instance or dict\n            with compatible properties\n        meta\n            Assigns extra meta information that can be used in\n            various `text` attributes. Attributes such as the\n            graph, axis and colorbar `title.text`, annotation\n            `text` `trace.name` in legend items, `rangeselector`,\n            `updatemenues` and `sliders` `label` text all support\n            `meta`. One can access `meta` fields using template\n            strings: `%{meta[i]}` where `i` is the index of the\n            `meta` item in question. `meta` can also be an object\n            for example `{key: value}` which can be accessed\n            %{meta[key]}.\n        metasrc\n            Sets the source reference on plot.ly for  meta .\n        modebar\n            plotly.graph_objects.layout.Modebar instance or dict\n            with compatible properties\n        orientation\n            Legacy polar charts are deprecated! Please switch to\n            \"polar\" subplots. Rotates the entire polar by the given\n            angle in legacy polar charts.\n        paper_bgcolor\n            Sets the color of paper where the graph is drawn.\n        piecolorway\n            Sets the default pie slice colors. Defaults to the main\n            `colorway` used for trace colors. If you specify a new\n            list here it can still be extended with lighter and\n            darker colors, see `extendpiecolors`.\n        plot_bgcolor\n            Sets the color of plotting area in-between x and y\n            axes.\n        polar\n            plotly.graph_objects.layout.Polar instance or dict with\n            compatible properties\n        radialaxis\n            plotly.graph_objects.layout.RadialAxis instance or dict\n            with compatible properties\n        scene\n            plotly.graph_objects.layout.Scene instance or dict with\n            compatible properties\n        selectdirection\n            When \"dragmode\" is set to \"select\", this limits the\n            selection of the drag to horizontal, vertical or\n            diagonal. \"h\" only allows horizontal selection, \"v\"\n            only vertical, \"d\" only diagonal and \"any\" sets no\n            limit.\n        selectionrevision\n            Controls persistence of user-driven changes in selected\n            points from all traces.\n        separators\n            Sets the decimal and thousand separators. For example,\n            *. * puts a '.' before decimals and a space between\n            thousands. In English locales, dflt is \".,\" but other\n            locales may alter this default.\n        shapes\n            A tuple of plotly.graph_objects.layout.Shape instances\n            or dicts with compatible properties\n        shapedefaults\n            When used in a template (as\n            layout.template.layout.shapedefaults), sets the default\n            property values to use for elements of layout.shapes\n        showlegend\n            Determines whether or not a legend is drawn. Default is\n            `true` if there is a trace to show and any of these: a)\n            Two or more traces would by default be shown in the\n            legend. b) One pie trace is shown in the legend. c) One\n            trace is explicitly given with `showlegend: true`.\n        sliders\n            A tuple of plotly.graph_objects.layout.Slider instances\n            or dicts with compatible properties\n        sliderdefaults\n            When used in a template (as\n            layout.template.layout.sliderdefaults), sets the\n            default property values to use for elements of\n            layout.sliders\n        spikedistance\n            Sets the default distance (in pixels) to look for data\n            to draw spikelines to (-1 means no cutoff, 0 means no\n            looking for data). As with hoverdistance, distance does\n            not apply to area-like objects. In addition, some\n            objects can be hovered on but will not generate\n            spikelines, such as scatter fills.\n        sunburstcolorway\n            Sets the default sunburst slice colors. Defaults to the\n            main `colorway` used for trace colors. If you specify a\n            new list here it can still be extended with lighter and\n            darker colors, see `extendsunburstcolors`.\n        template\n            Default attributes to be applied to the plot. This\n            should be a dict with format: `{'layout':\n            layoutTemplate, 'data': {trace_type: [traceTemplate,\n            ...], ...}}` where `layoutTemplate` is a dict matching\n            the structure of `figure.layout` and `traceTemplate` is\n            a dict matching the structure of the trace with type\n            `trace_type` (e.g. 'scatter'). Alternatively, this may\n            be specified as an instance of\n            plotly.graph_objs.layout.Template.  Trace templates are\n            applied cyclically to traces of each type. Container\n            arrays (eg `annotations`) have special handling: An\n            object ending in `defaults` (eg `annotationdefaults`)\n            is applied to each array item. But if an item has a\n            `templateitemname` key we look in the template array\n            for an item with matching `name` and apply that\n            instead. If no matching `name` is found we mark the\n            item invisible. Any named template item not referenced\n            is appended to the end of the array, so this can be\n            used to add a watermark annotation or a logo image, for\n            example. To omit one of these items on the plot, make\n            an item with matching `templateitemname` and `visible:\n            false`.\n        ternary\n            plotly.graph_objects.layout.Ternary instance or dict\n            with compatible properties\n        title\n            plotly.graph_objects.layout.Title instance or dict with\n            compatible properties\n        titlefont\n            Deprecated: Please use layout.title.font instead. Sets\n            the title font. Note that the title's font used to be\n            customized by the now deprecated `titlefont` attribute.\n        transition\n            Sets transition options used during Plotly.react\n            updates.\n        uirevision\n            Used to allow user interactions with the plot to\n            persist after `Plotly.react` calls that are unaware of\n            these interactions. If `uirevision` is omitted, or if\n            it is given and it changed from the previous\n            `Plotly.react` call, the exact new figure is used. If\n            `uirevision` is truthy and did NOT change, any\n            attribute that has been affected by user interactions\n            and did not receive a different value in the new figure\n            will keep the interaction value. `layout.uirevision`\n            attribute serves as the default for `uirevision`\n            attributes in various sub-containers. For finer control\n            you can set these sub-attributes directly. For example,\n            if your app separately controls the data on the x and y\n            axes you might set `xaxis.uirevision=*time*` and\n            `yaxis.uirevision=*cost*`. Then if only the y data is\n            changed, you can update `yaxis.uirevision=*quantity*`\n            and the y axis range will reset but the x axis range\n            will retain any user-driven zoom.\n        updatemenus\n            A tuple of plotly.graph_objects.layout.Updatemenu\n            instances or dicts with compatible properties\n        updatemenudefaults\n            When used in a template (as\n            layout.template.layout.updatemenudefaults), sets the\n            default property values to use for elements of\n            layout.updatemenus\n        violingap\n            Sets the gap (in plot fraction) between violins of\n            adjacent location coordinates. Has no effect on traces\n            that have \"width\" set.\n        violingroupgap\n            Sets the gap (in plot fraction) between violins of the\n            same location coordinate. Has no effect on traces that\n            have \"width\" set.\n        violinmode\n            Determines how violins at the same location coordinate\n            are displayed on the graph. If \"group\", the violins are\n            plotted next to one another centered around the shared\n            location. If \"overlay\", the violins are plotted over\n            one another, you might need to set \"opacity\" to see\n            them multiple violins. Has no effect on traces that\n            have \"width\" set.\n        waterfallgap\n            Sets the gap (in plot fraction) between bars of\n            adjacent location coordinates.\n        waterfallgroupgap\n            Sets the gap (in plot fraction) between bars of the\n            same location coordinate.\n        waterfallmode\n            Determines how bars at the same location coordinate are\n            displayed on the graph. With \"group\", the bars are\n            plotted next to one another centered around the shared\n            location. With \"overlay\", the bars are plotted over one\n            another, you might need to an \"opacity\" to see multiple\n            bars.\n        width\n            Sets the plot's width (in px).\n        xaxis\n            plotly.graph_objects.layout.XAxis instance or dict with\n            compatible properties\n        yaxis\n            plotly.graph_objects.layout.YAxis instance or dict with\n            compatible properties\n        "
     ]
    }
   ],
   "source": [
    "# Cluster 0 - \"gentrified\"\n",
    "import plotly.graph_objects as go\n",
    "\n",
    "categories=['% Change in Household Income','% Change in Median Home Value','% Change in Median Rent', \n",
    "         '% Change in Owner Occupied Housing', '% Change in Non-White Population',\n",
    "         '% Change in Population with College Degree']\n",
    "fig = go.Figure()\n",
    "\n",
    "fig.add_trace(go.Scatterpolar(\n",
    "      r=[8.20,76.14,54.41,6.23,28.04,36.73],\n",
    "      theta=categories,\n",
    "      name='Baseline, County Avg. (n=190)',\n",
    "      marker={\n",
    "        'color':'orange'\n",
    "    }\n",
    "))\n",
    "\n",
    "fig.add_trace(go.Scatterpolar(\n",
    "  r=[29.95,87.36,69.79,28.49,11.23,129.64],\n",
    "  theta=categories,\n",
    "    name='Cluster 1: Gentrifying (n=31)'\n",
    "))\n",
    "\n",
    "fig.add_trace(go.Scatterpolar(\n",
    "      r=[-12.11,72.58,40.70,-7.45,22.16,2.05],\n",
    "      theta=categories,\n",
    "      name='Cluster 2: Becoming more affordable (n=77)'\n",
    "))\n",
    "fig.add_trace(go.Scatterpolar(\n",
    "      r=[19.24,81.35,61.29,7.34,40.02,34.12],\n",
    "      theta=categories,\n",
    "      name='Cluster 3: Becoming costly (n=82)'\n",
    "))\n",
    "fig.update_layout(\n",
    "    legend_orientation=\"h\",\n",
    "    legend={'x':-.1,'y':1.2\n",
    "    },\n",
    "  polar=dict(\n",
    "    radialaxis=dict(\n",
    "      visible=True,\n",
    "        ),\n",
    "  ),\n",
    "    bgcolor='aliceblue',\n",
    "  showlegend=True,\n",
    "   \n",
    ")\n",
    "\n",
    "fig.show()\n",
    "legend=dict(x=0, y=1.2)"
   ]
  },
  {
   "cell_type": "code",
   "execution_count": null,
   "metadata": {},
   "outputs": [],
   "source": [
    "# Cluster 1-\"affordable/low income\"\n",
    "categories=['% Change in Household Income','% Change in Median Home Value','% Change in Median Rent', \n",
    "         '% Change in Owner Occupied Housing', '% Change in Non-White Population',\n",
    "         '% Change in Population with College Degree']\n",
    "fig = go.Figure()\n",
    "\n",
    "fig.add_trace(go.Scatterpolar(\n",
    "  r=[-12.11,72.58,40.70,-7.45,22.16,2.05],\n",
    "  theta=categories,\n",
    "    name='Cluster 2: Affordable (n=77)'\n",
    "))\n",
    "\n",
    "fig.add_trace(go.Scatterpolar(\n",
    "      r=[8.20,76.14,54.41,6.23,28.04,36.73],\n",
    "      theta=categories,\n",
    "      name='Cluster 2: Affordable (n=77)'\n",
    "))\n",
    "\n",
    "fig.update_layout(\n",
    "  polar=dict(\n",
    "    radialaxis=dict(\n",
    "      visible=True,\n",
    "        range=[-10,120]\n",
    "    ),\n",
    "  ),\n",
    "  showlegend=True\n",
    ")\n",
    "\n",
    "fig.show()\n"
   ]
  },
  {
   "cell_type": "code",
   "execution_count": null,
   "metadata": {},
   "outputs": [],
   "source": [
    "# Cluster 2 - \"stable, in line with average\"\n",
    "categories=['% Change in Household Income','% Change in Median Home Value','% Change in Median Rent', \n",
    "         '% Change in Owner Occupied Housing', '% Change in Non-White Population',\n",
    "         '% Change in Population with College Degree']\n",
    "fig = go.Figure()\n",
    "\n",
    "fig.add_trace(go.Scatterpolar(\n",
    "  r=[19.24,81.35,61.29,7.34,40.02,34.12],\n",
    "  theta=categories,\n",
    "    name='Cluster 3: Gentrified (n=31)'\n",
    "))\n",
    "\n",
    "fig.add_trace(go.Scatterpolar(\n",
    "      r=[8.20,76.14,54.41,6.23,28.04,36.73],\n",
    "      theta=categories,\n",
    "      name='Baseline'\n",
    "))\n",
    "\n",
    "fig.update_layout(\n",
    "  polar=dict(\n",
    "    radialaxis=dict(\n",
    "      visible=True,\n",
    "    ),\n",
    "  ),\n",
    "  showlegend=False\n",
    ")\n",
    "\n",
    "fig.show()"
   ]
  },
  {
   "cell_type": "code",
   "execution_count": null,
   "metadata": {},
   "outputs": [],
   "source": [
    "len(df_2000[df_2000['percent_white00']>75])/len(df_2000)"
   ]
  },
  {
   "cell_type": "code",
   "execution_count": null,
   "metadata": {},
   "outputs": [],
   "source": []
  }
 ],
 "metadata": {
  "kernelspec": {
   "display_name": "Python 3",
   "language": "python",
   "name": "python3"
  },
  "language_info": {
   "codemirror_mode": {
    "name": "ipython",
    "version": 3
   },
   "file_extension": ".py",
   "mimetype": "text/x-python",
   "name": "python",
   "nbconvert_exporter": "python",
   "pygments_lexer": "ipython3",
   "version": "3.7.3"
  }
 },
 "nbformat": 4,
 "nbformat_minor": 2
}
