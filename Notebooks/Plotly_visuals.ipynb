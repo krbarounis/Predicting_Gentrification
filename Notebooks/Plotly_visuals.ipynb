{
 "cells": [
  {
   "cell_type": "markdown",
   "metadata": {},
   "source": [
    "This notebook builds visuals that highlight trends in the Boston area from 2000 to 2010 using census data."
   ]
  },
  {
   "cell_type": "code",
   "execution_count": 1,
   "metadata": {},
   "outputs": [],
   "source": [
    "import pandas as pd\n",
    "pd.set_option('display.max_rows',None)\n",
    "pd.set_option('display.max_columns',None)\n",
    "import numpy as np\n",
    "import sys\n",
    "sys.path.append('../')\n",
    "import plotly.graph_objects as go\n",
    "from ipywidgets import widgets"
   ]
  },
  {
   "cell_type": "code",
   "execution_count": 2,
   "metadata": {},
   "outputs": [],
   "source": [
    "## join up all the data so we can play around with visuals\n",
    "df_2000_1=pd.read_csv('../Final_2000_data.csv',index_col=0)\n",
    "df_2000_2=pd.read_csv('../Final_2000_data_sample.csv',index_col=0)\n",
    "\n",
    "df_2000 = df_2000_1.merge(df_2000_2,how='inner',on='tractid')\n",
    "\n",
    "# create a column on representing the year of the census data\n",
    "df_2000['year']='2000-01-01'\n",
    "df_2000['year']= pd.to_datetime(df_2000['year']) \n",
    "\n",
    "df_2010_1 = pd.read_csv('../Final_2010_data.csv',index_col=0)\n",
    "df_2010_2= pd.read_csv('../Final_2010_data_sample.csv',index_col=0)\n",
    "\n",
    "df_2010 = df_2010_1.merge(df_2010_2,how='inner',on='tractid')\n",
    "df_2010['year']='2010-01-01'\n",
    "df_2010['year']= pd.to_datetime(df_2010['year']) "
   ]
  },
  {
   "cell_type": "code",
   "execution_count": 3,
   "metadata": {},
   "outputs": [],
   "source": [
    "# import changes file too\n",
    "\n",
    "df_changes_full = pd.read_csv('../fullcount_final.csv',index_col=0)\n",
    "df_changes_sample =  pd.read_csv('../samplecount_final.csv',index_col=0)"
   ]
  },
  {
   "cell_type": "code",
   "execution_count": 4,
   "metadata": {},
   "outputs": [],
   "source": [
    "# before visualizing, remove all the tracts that were removed during EDA process\n",
    "tracts_to_remove = [25025981201,25025980300,25025981000,25025981202,25025981300,25025981501,25025981502,\n",
    "                    25025981600,25025981700,25025981800,25025060700,25025980700,25025980101]"
   ]
  },
  {
   "cell_type": "code",
   "execution_count": 5,
   "metadata": {},
   "outputs": [],
   "source": [
    "df_2010 = df_2010[df_2010['tractid'].isin(tracts_to_remove) == False]\n",
    "df_2000 = df_2000[df_2000['tractid'].isin(tracts_to_remove) == False]\n",
    "df_changes_full = df_changes_full[df_changes_full['tractid'].isin(tracts_to_remove) == False]\n",
    "df_changes_sample = df_changes_sample[df_changes_sample['tractid'].isin(tracts_to_remove) == False]"
   ]
  },
  {
   "cell_type": "code",
   "execution_count": 6,
   "metadata": {},
   "outputs": [],
   "source": [
    "# also drop 25025990101 bc it didnt exist in 2000, its index 203\n",
    "df_2010.drop(203,axis=0,inplace=True)"
   ]
  },
  {
   "cell_type": "code",
   "execution_count": 7,
   "metadata": {},
   "outputs": [],
   "source": [
    "df_2010.to_csv('plotly_2010.csv')\n",
    "df_2000.to_csv('plotly_2000.csv')"
   ]
  },
  {
   "cell_type": "code",
   "execution_count": 8,
   "metadata": {},
   "outputs": [],
   "source": [
    "cluster_df=pd.read_csv('../clusters.csv',index_col=0)"
   ]
  },
  {
   "cell_type": "code",
   "execution_count": 9,
   "metadata": {},
   "outputs": [
    {
     "data": {
      "text/html": [
       "<div>\n",
       "<style scoped>\n",
       "    .dataframe tbody tr th:only-of-type {\n",
       "        vertical-align: middle;\n",
       "    }\n",
       "\n",
       "    .dataframe tbody tr th {\n",
       "        vertical-align: top;\n",
       "    }\n",
       "\n",
       "    .dataframe thead th {\n",
       "        text-align: right;\n",
       "    }\n",
       "</style>\n",
       "<table border=\"1\" class=\"dataframe\">\n",
       "  <thead>\n",
       "    <tr style=\"text-align: right;\">\n",
       "      <th></th>\n",
       "      <th>tractid</th>\n",
       "      <th>cluster</th>\n",
       "      <th>HINC00_PC</th>\n",
       "      <th>MHMVAL00_PC</th>\n",
       "      <th>MRENT00_PC</th>\n",
       "      <th>percent_owneroccupied_00_PC</th>\n",
       "      <th>percent_non-white00_PC</th>\n",
       "      <th>percent_4yrcollege_degree_ormore_PC</th>\n",
       "      <th>cluster_name</th>\n",
       "    </tr>\n",
       "  </thead>\n",
       "  <tbody>\n",
       "    <tr>\n",
       "      <th>0</th>\n",
       "      <td>25025000100</td>\n",
       "      <td>1</td>\n",
       "      <td>-5.21</td>\n",
       "      <td>56.78</td>\n",
       "      <td>50.11</td>\n",
       "      <td>-12.52</td>\n",
       "      <td>27.33</td>\n",
       "      <td>-24.91</td>\n",
       "      <td>Becoming more affordable</td>\n",
       "    </tr>\n",
       "    <tr>\n",
       "      <th>1</th>\n",
       "      <td>25025000201</td>\n",
       "      <td>1</td>\n",
       "      <td>-16.97</td>\n",
       "      <td>100.30</td>\n",
       "      <td>41.78</td>\n",
       "      <td>-6.08</td>\n",
       "      <td>22.63</td>\n",
       "      <td>12.61</td>\n",
       "      <td>Becoming more affordable</td>\n",
       "    </tr>\n",
       "    <tr>\n",
       "      <th>2</th>\n",
       "      <td>25025000202</td>\n",
       "      <td>1</td>\n",
       "      <td>-24.08</td>\n",
       "      <td>56.41</td>\n",
       "      <td>58.41</td>\n",
       "      <td>-7.61</td>\n",
       "      <td>2.15</td>\n",
       "      <td>11.10</td>\n",
       "      <td>Becoming more affordable</td>\n",
       "    </tr>\n",
       "    <tr>\n",
       "      <th>3</th>\n",
       "      <td>25025000301</td>\n",
       "      <td>2</td>\n",
       "      <td>25.76</td>\n",
       "      <td>91.09</td>\n",
       "      <td>51.29</td>\n",
       "      <td>4.77</td>\n",
       "      <td>45.58</td>\n",
       "      <td>37.54</td>\n",
       "      <td>Remaining costly</td>\n",
       "    </tr>\n",
       "    <tr>\n",
       "      <th>4</th>\n",
       "      <td>25025000302</td>\n",
       "      <td>1</td>\n",
       "      <td>-15.31</td>\n",
       "      <td>24.16</td>\n",
       "      <td>15.71</td>\n",
       "      <td>-3.60</td>\n",
       "      <td>32.15</td>\n",
       "      <td>-1.16</td>\n",
       "      <td>Becoming more affordable</td>\n",
       "    </tr>\n",
       "  </tbody>\n",
       "</table>\n",
       "</div>"
      ],
      "text/plain": [
       "       tractid  cluster  HINC00_PC  MHMVAL00_PC  MRENT00_PC  \\\n",
       "0  25025000100        1      -5.21        56.78       50.11   \n",
       "1  25025000201        1     -16.97       100.30       41.78   \n",
       "2  25025000202        1     -24.08        56.41       58.41   \n",
       "3  25025000301        2      25.76        91.09       51.29   \n",
       "4  25025000302        1     -15.31        24.16       15.71   \n",
       "\n",
       "   percent_owneroccupied_00_PC  percent_non-white00_PC  \\\n",
       "0                       -12.52                   27.33   \n",
       "1                        -6.08                   22.63   \n",
       "2                        -7.61                    2.15   \n",
       "3                         4.77                   45.58   \n",
       "4                        -3.60                   32.15   \n",
       "\n",
       "   percent_4yrcollege_degree_ormore_PC              cluster_name  \n",
       "0                               -24.91  Becoming more affordable  \n",
       "1                                12.61  Becoming more affordable  \n",
       "2                                11.10  Becoming more affordable  \n",
       "3                                37.54          Remaining costly  \n",
       "4                                -1.16  Becoming more affordable  "
      ]
     },
     "execution_count": 9,
     "metadata": {},
     "output_type": "execute_result"
    }
   ],
   "source": [
    "cluster_df.head()"
   ]
  },
  {
   "cell_type": "code",
   "execution_count": 10,
   "metadata": {},
   "outputs": [],
   "source": [
    "cluster_and_2000=df_2000.merge(cluster_df,how='inner',on='tractid')"
   ]
  },
  {
   "cell_type": "code",
   "execution_count": 11,
   "metadata": {},
   "outputs": [],
   "source": [
    "cluster_and_2000.rename(columns={'HINC00_PC':'Percent Change in Median Income','MHMVAL00_PC':'Percent Change in Median Home Value',\n",
    "                   'MRENT00_PC':'Percent Change in Median Rent','percent_owneroccupied_00_PC':'Percent Change in Owner Occupied Homes',\n",
    "                    'percent_non-white00_PC':'Percent Change in Non-White Population','percent_4yrcollege_degree_ormore_PC':'Percent Change in Population with College Degree'},inplace=True)"
   ]
  },
  {
   "cell_type": "code",
   "execution_count": 12,
   "metadata": {},
   "outputs": [],
   "source": [
    "cluster_and_2000.to_csv('../clusters_and_2000.csv')"
   ]
  },
  {
   "cell_type": "code",
   "execution_count": 13,
   "metadata": {},
   "outputs": [
    {
     "data": {
      "text/plain": [
       "Index(['Percent Change in Median Income',\n",
       "       'Percent Change in Median Home Value', 'Percent Change in Median Rent',\n",
       "       'Percent Change in Owner Occupied Homes',\n",
       "       'Percent Change in Non-White Population',\n",
       "       'Percent Change in Population with College Degree'],\n",
       "      dtype='object')"
      ]
     },
     "execution_count": 13,
     "metadata": {},
     "output_type": "execute_result"
    }
   ],
   "source": [
    "cluster_and_2000.columns[-7:-1]"
   ]
  },
  {
   "cell_type": "code",
   "execution_count": 14,
   "metadata": {},
   "outputs": [],
   "source": [
    "df1=df_2000.merge(cluster_df,how='inner',on='tractid')"
   ]
  },
  {
   "cell_type": "code",
   "execution_count": 16,
   "metadata": {},
   "outputs": [
    {
     "data": {
      "text/plain": [
       "HINC00                               51003.701258\n",
       "percent_owneroccupied_00                31.490385\n",
       "MHMVAL00                            277074.143915\n",
       "MRENT00                                922.301268\n",
       "percent_non-white00                     57.858739\n",
       "percent_4yrcollege_degree_ormore        33.356281\n",
       "dtype: float64"
      ]
     },
     "execution_count": 16,
     "metadata": {},
     "output_type": "execute_result"
    }
   ],
   "source": [
    "df1[['HINC00','percent_owneroccupied_00','MHMVAL00','MRENT00','percent_non-white00','percent_4yrcollege_degree_ormore']].mean()"
   ]
  },
  {
   "cell_type": "code",
   "execution_count": 17,
   "metadata": {},
   "outputs": [
    {
     "data": {
      "text/html": [
       "<div>\n",
       "<style scoped>\n",
       "    .dataframe tbody tr th:only-of-type {\n",
       "        vertical-align: middle;\n",
       "    }\n",
       "\n",
       "    .dataframe tbody tr th {\n",
       "        vertical-align: top;\n",
       "    }\n",
       "\n",
       "    .dataframe thead th {\n",
       "        text-align: right;\n",
       "    }\n",
       "</style>\n",
       "<table border=\"1\" class=\"dataframe\">\n",
       "  <thead>\n",
       "    <tr style=\"text-align: right;\">\n",
       "      <th></th>\n",
       "      <th>HINC00</th>\n",
       "      <th>percent_owneroccupied_00</th>\n",
       "      <th>MHMVAL00</th>\n",
       "      <th>MRENT00</th>\n",
       "      <th>percent_non-white00</th>\n",
       "      <th>percent_4yrcollege_degree_ormore</th>\n",
       "    </tr>\n",
       "    <tr>\n",
       "      <th>cluster_name</th>\n",
       "      <th></th>\n",
       "      <th></th>\n",
       "      <th></th>\n",
       "      <th></th>\n",
       "      <th></th>\n",
       "      <th></th>\n",
       "    </tr>\n",
       "  </thead>\n",
       "  <tbody>\n",
       "    <tr>\n",
       "      <th>Becoming more affordable</th>\n",
       "      <td>50071.892877</td>\n",
       "      <td>28.337898</td>\n",
       "      <td>289275.967114</td>\n",
       "      <td>976.248698</td>\n",
       "      <td>62.758259</td>\n",
       "      <td>38.401296</td>\n",
       "    </tr>\n",
       "    <tr>\n",
       "      <th>Gentrifying</th>\n",
       "      <td>38815.015570</td>\n",
       "      <td>24.615605</td>\n",
       "      <td>236787.053914</td>\n",
       "      <td>711.065697</td>\n",
       "      <td>69.162572</td>\n",
       "      <td>16.959610</td>\n",
       "    </tr>\n",
       "    <tr>\n",
       "      <th>Remaining costly</th>\n",
       "      <td>56486.609816</td>\n",
       "      <td>37.049649</td>\n",
       "      <td>280846.819569</td>\n",
       "      <td>951.500665</td>\n",
       "      <td>48.984569</td>\n",
       "      <td>34.817631</td>\n",
       "    </tr>\n",
       "  </tbody>\n",
       "</table>\n",
       "</div>"
      ],
      "text/plain": [
       "                                HINC00  percent_owneroccupied_00  \\\n",
       "cluster_name                                                       \n",
       "Becoming more affordable  50071.892877                 28.337898   \n",
       "Gentrifying               38815.015570                 24.615605   \n",
       "Remaining costly          56486.609816                 37.049649   \n",
       "\n",
       "                               MHMVAL00     MRENT00  percent_non-white00  \\\n",
       "cluster_name                                                               \n",
       "Becoming more affordable  289275.967114  976.248698            62.758259   \n",
       "Gentrifying               236787.053914  711.065697            69.162572   \n",
       "Remaining costly          280846.819569  951.500665            48.984569   \n",
       "\n",
       "                          percent_4yrcollege_degree_ormore  \n",
       "cluster_name                                                \n",
       "Becoming more affordable                         38.401296  \n",
       "Gentrifying                                      16.959610  \n",
       "Remaining costly                                 34.817631  "
      ]
     },
     "execution_count": 17,
     "metadata": {},
     "output_type": "execute_result"
    }
   ],
   "source": [
    "df1.groupby('cluster_name')['HINC00','percent_owneroccupied_00','MHMVAL00','MRENT00','percent_non-white00','percent_4yrcollege_degree_ormore'].mean()"
   ]
  },
  {
   "cell_type": "code",
   "execution_count": 18,
   "metadata": {},
   "outputs": [],
   "source": [
    "df2=df_2010.merge(cluster_df,how='inner',on='tractid')"
   ]
  },
  {
   "cell_type": "code",
   "execution_count": 19,
   "metadata": {},
   "outputs": [
    {
     "data": {
      "text/html": [
       "<div>\n",
       "<style scoped>\n",
       "    .dataframe tbody tr th:only-of-type {\n",
       "        vertical-align: middle;\n",
       "    }\n",
       "\n",
       "    .dataframe tbody tr th {\n",
       "        vertical-align: top;\n",
       "    }\n",
       "\n",
       "    .dataframe thead th {\n",
       "        text-align: right;\n",
       "    }\n",
       "</style>\n",
       "<table border=\"1\" class=\"dataframe\">\n",
       "  <thead>\n",
       "    <tr style=\"text-align: right;\">\n",
       "      <th></th>\n",
       "      <th>hinc12</th>\n",
       "      <th>percent_owneroccupied_10</th>\n",
       "      <th>mhmval12</th>\n",
       "      <th>mrent12</th>\n",
       "      <th>non-white10</th>\n",
       "      <th>pcol12</th>\n",
       "    </tr>\n",
       "    <tr>\n",
       "      <th>cluster_name</th>\n",
       "      <th></th>\n",
       "      <th></th>\n",
       "      <th></th>\n",
       "      <th></th>\n",
       "      <th></th>\n",
       "      <th></th>\n",
       "    </tr>\n",
       "  </thead>\n",
       "  <tbody>\n",
       "    <tr>\n",
       "      <th>Becoming more affordable</th>\n",
       "      <td>44872.090909</td>\n",
       "      <td>26.779719</td>\n",
       "      <td>372684.480519</td>\n",
       "      <td>1085.038961</td>\n",
       "      <td>69.633559</td>\n",
       "      <td>39.670130</td>\n",
       "    </tr>\n",
       "    <tr>\n",
       "      <th>Gentrifying</th>\n",
       "      <td>50964.000000</td>\n",
       "      <td>28.798752</td>\n",
       "      <td>342251.612903</td>\n",
       "      <td>963.935484</td>\n",
       "      <td>69.784084</td>\n",
       "      <td>36.856129</td>\n",
       "    </tr>\n",
       "    <tr>\n",
       "      <th>Remaining costly</th>\n",
       "      <td>68137.439024</td>\n",
       "      <td>38.093474</td>\n",
       "      <td>397913.414634</td>\n",
       "      <td>1204.634146</td>\n",
       "      <td>55.784213</td>\n",
       "      <td>44.502439</td>\n",
       "    </tr>\n",
       "  </tbody>\n",
       "</table>\n",
       "</div>"
      ],
      "text/plain": [
       "                                hinc12  percent_owneroccupied_10  \\\n",
       "cluster_name                                                       \n",
       "Becoming more affordable  44872.090909                 26.779719   \n",
       "Gentrifying               50964.000000                 28.798752   \n",
       "Remaining costly          68137.439024                 38.093474   \n",
       "\n",
       "                               mhmval12      mrent12  non-white10     pcol12  \n",
       "cluster_name                                                                  \n",
       "Becoming more affordable  372684.480519  1085.038961    69.633559  39.670130  \n",
       "Gentrifying               342251.612903   963.935484    69.784084  36.856129  \n",
       "Remaining costly          397913.414634  1204.634146    55.784213  44.502439  "
      ]
     },
     "execution_count": 19,
     "metadata": {},
     "output_type": "execute_result"
    }
   ],
   "source": [
    "df2.groupby('cluster_name')['hinc12','percent_owneroccupied_10','mhmval12','mrent12','non-white10','pcol12'].mean()"
   ]
  },
  {
   "cell_type": "code",
   "execution_count": 20,
   "metadata": {},
   "outputs": [
    {
     "data": {
      "text/plain": [
       "hinc12                       55906.868421\n",
       "percent_owneroccupied_10        31.991918\n",
       "mhmval12                    378607.394737\n",
       "mrent12                       1116.894737\n",
       "non-white10                     63.681032\n",
       "pcol12                          41.296526\n",
       "dtype: float64"
      ]
     },
     "execution_count": 20,
     "metadata": {},
     "output_type": "execute_result"
    }
   ],
   "source": [
    "df2[['hinc12','percent_owneroccupied_10','mhmval12','mrent12','non-white10','pcol12']].mean()"
   ]
  },
  {
   "cell_type": "code",
   "execution_count": 21,
   "metadata": {},
   "outputs": [
    {
     "data": {
      "text/html": [
       "<div>\n",
       "<style scoped>\n",
       "    .dataframe tbody tr th:only-of-type {\n",
       "        vertical-align: middle;\n",
       "    }\n",
       "\n",
       "    .dataframe tbody tr th {\n",
       "        vertical-align: top;\n",
       "    }\n",
       "\n",
       "    .dataframe thead th {\n",
       "        text-align: right;\n",
       "    }\n",
       "</style>\n",
       "<table border=\"1\" class=\"dataframe\">\n",
       "  <thead>\n",
       "    <tr style=\"text-align: right;\">\n",
       "      <th></th>\n",
       "      <th>tractid</th>\n",
       "      <th>state</th>\n",
       "      <th>county</th>\n",
       "      <th>tract</th>\n",
       "      <th>POP00</th>\n",
       "      <th>percent_white00</th>\n",
       "      <th>percent_black00</th>\n",
       "      <th>percent_asian00</th>\n",
       "      <th>percent_hispanic00</th>\n",
       "      <th>percent_indian00</th>\n",
       "      <th>percent_chinese00</th>\n",
       "      <th>percent_filip00</th>\n",
       "      <th>percent_japan00</th>\n",
       "      <th>percent_korean00</th>\n",
       "      <th>percent_viet00</th>\n",
       "      <th>percent_mex00</th>\n",
       "      <th>percent_pr00</th>\n",
       "      <th>percent_cuban00</th>\n",
       "      <th>percent_vacant_housing00</th>\n",
       "      <th>percent_occupied_housing00</th>\n",
       "      <th>percent_under18_00</th>\n",
       "      <th>percent_60andup_00</th>\n",
       "      <th>percent_75andup_00</th>\n",
       "      <th>percent_owneroccupied_00</th>\n",
       "      <th>percent_renteroccupied_00</th>\n",
       "      <th>percent_non-white00</th>\n",
       "      <th>INCPC00</th>\n",
       "      <th>HINC00</th>\n",
       "      <th>MHMVAL00</th>\n",
       "      <th>MRENT00</th>\n",
       "      <th>percent_foreign_born</th>\n",
       "      <th>percent_naturalized</th>\n",
       "      <th>percent_recent_immigrants(10)</th>\n",
       "      <th>percent_other_languages</th>\n",
       "      <th>percent_hs_degree_orless</th>\n",
       "      <th>percent_4yrcollege_degree_ormore</th>\n",
       "      <th>percent_married</th>\n",
       "      <th>percent_unemployed</th>\n",
       "      <th>percent_employed</th>\n",
       "      <th>percent_professional</th>\n",
       "      <th>percent_manufacturing</th>\n",
       "      <th>percent_self_employed</th>\n",
       "      <th>percent_poverty</th>\n",
       "      <th>percent_houses_30yrsago</th>\n",
       "      <th>percent_multiunit_houses</th>\n",
       "      <th>year</th>\n",
       "      <th>cluster</th>\n",
       "      <th>Percent Change in Median Income</th>\n",
       "      <th>Percent Change in Median Home Value</th>\n",
       "      <th>Percent Change in Median Rent</th>\n",
       "      <th>Percent Change in Owner Occupied Homes</th>\n",
       "      <th>Percent Change in Non-White Population</th>\n",
       "      <th>Percent Change in Population with College Degree</th>\n",
       "      <th>cluster_name</th>\n",
       "    </tr>\n",
       "  </thead>\n",
       "  <tbody>\n",
       "    <tr>\n",
       "      <th>35</th>\n",
       "      <td>25025020302</td>\n",
       "      <td>MA</td>\n",
       "      <td>Suffolk County</td>\n",
       "      <td>Census Tract 203.02</td>\n",
       "      <td>1258.999958</td>\n",
       "      <td>71.824521</td>\n",
       "      <td>9.624214</td>\n",
       "      <td>11.324605</td>\n",
       "      <td>5.951369</td>\n",
       "      <td>2.448563</td>\n",
       "      <td>3.179731</td>\n",
       "      <td>0.714164</td>\n",
       "      <td>2.941676</td>\n",
       "      <td>1.156266</td>\n",
       "      <td>0.340078</td>\n",
       "      <td>1.020235</td>\n",
       "      <td>1.360313</td>\n",
       "      <td>0.136031</td>\n",
       "      <td>7.049529</td>\n",
       "      <td>92.950471</td>\n",
       "      <td>7.430709</td>\n",
       "      <td>18.092161</td>\n",
       "      <td>7.039619</td>\n",
       "      <td>28.167731</td>\n",
       "      <td>64.782744</td>\n",
       "      <td>40.741371</td>\n",
       "      <td>58649.948825</td>\n",
       "      <td>66050.205569</td>\n",
       "      <td>354817.26114</td>\n",
       "      <td>1518.293665</td>\n",
       "      <td>19.91158</td>\n",
       "      <td>7.107634</td>\n",
       "      <td>10.491413</td>\n",
       "      <td>23.450703</td>\n",
       "      <td>23.215007</td>\n",
       "      <td>61.234369</td>\n",
       "      <td>41.835061</td>\n",
       "      <td>4.272699</td>\n",
       "      <td>95.727306</td>\n",
       "      <td>76.895306</td>\n",
       "      <td>3.249097</td>\n",
       "      <td>10.731867</td>\n",
       "      <td>11.066072</td>\n",
       "      <td>67.395929</td>\n",
       "      <td>99.48344</td>\n",
       "      <td>2000-01-01</td>\n",
       "      <td>2</td>\n",
       "      <td>34.37</td>\n",
       "      <td>98.61</td>\n",
       "      <td>43.12</td>\n",
       "      <td>9.8</td>\n",
       "      <td>-45.34</td>\n",
       "      <td>41.72</td>\n",
       "      <td>Remaining costly</td>\n",
       "    </tr>\n",
       "  </tbody>\n",
       "</table>\n",
       "</div>"
      ],
      "text/plain": [
       "        tractid state          county                tract        POP00  \\\n",
       "35  25025020302    MA  Suffolk County  Census Tract 203.02  1258.999958   \n",
       "\n",
       "    percent_white00  percent_black00  percent_asian00  percent_hispanic00  \\\n",
       "35        71.824521         9.624214        11.324605            5.951369   \n",
       "\n",
       "    percent_indian00  percent_chinese00  percent_filip00  percent_japan00  \\\n",
       "35          2.448563           3.179731         0.714164         2.941676   \n",
       "\n",
       "    percent_korean00  percent_viet00  percent_mex00  percent_pr00  \\\n",
       "35          1.156266        0.340078       1.020235      1.360313   \n",
       "\n",
       "    percent_cuban00  percent_vacant_housing00  percent_occupied_housing00  \\\n",
       "35         0.136031                  7.049529                   92.950471   \n",
       "\n",
       "    percent_under18_00  percent_60andup_00  percent_75andup_00  \\\n",
       "35            7.430709           18.092161            7.039619   \n",
       "\n",
       "    percent_owneroccupied_00  percent_renteroccupied_00  percent_non-white00  \\\n",
       "35                 28.167731                  64.782744            40.741371   \n",
       "\n",
       "         INCPC00        HINC00      MHMVAL00      MRENT00  \\\n",
       "35  58649.948825  66050.205569  354817.26114  1518.293665   \n",
       "\n",
       "    percent_foreign_born  percent_naturalized  percent_recent_immigrants(10)  \\\n",
       "35              19.91158             7.107634                      10.491413   \n",
       "\n",
       "    percent_other_languages  percent_hs_degree_orless  \\\n",
       "35                23.450703                 23.215007   \n",
       "\n",
       "    percent_4yrcollege_degree_ormore  percent_married  percent_unemployed  \\\n",
       "35                         61.234369        41.835061            4.272699   \n",
       "\n",
       "    percent_employed  percent_professional  percent_manufacturing  \\\n",
       "35         95.727306             76.895306               3.249097   \n",
       "\n",
       "    percent_self_employed  percent_poverty  percent_houses_30yrsago  \\\n",
       "35              10.731867        11.066072                67.395929   \n",
       "\n",
       "    percent_multiunit_houses       year  cluster  \\\n",
       "35                  99.48344 2000-01-01        2   \n",
       "\n",
       "    Percent Change in Median Income  Percent Change in Median Home Value  \\\n",
       "35                            34.37                                98.61   \n",
       "\n",
       "    Percent Change in Median Rent  Percent Change in Owner Occupied Homes  \\\n",
       "35                          43.12                                     9.8   \n",
       "\n",
       "    Percent Change in Non-White Population  \\\n",
       "35                                  -45.34   \n",
       "\n",
       "    Percent Change in Population with College Degree      cluster_name  \n",
       "35                                             41.72  Remaining costly  "
      ]
     },
     "execution_count": 21,
     "metadata": {},
     "output_type": "execute_result"
    }
   ],
   "source": [
    "cluster_and_2000[cluster_and_2000['tractid']==25025020302]"
   ]
  },
  {
   "cell_type": "code",
   "execution_count": 22,
   "metadata": {},
   "outputs": [
    {
     "data": {
      "text/html": [
       "<div>\n",
       "<style scoped>\n",
       "    .dataframe tbody tr th:only-of-type {\n",
       "        vertical-align: middle;\n",
       "    }\n",
       "\n",
       "    .dataframe tbody tr th {\n",
       "        vertical-align: top;\n",
       "    }\n",
       "\n",
       "    .dataframe thead th {\n",
       "        text-align: right;\n",
       "    }\n",
       "</style>\n",
       "<table border=\"1\" class=\"dataframe\">\n",
       "  <thead>\n",
       "    <tr style=\"text-align: right;\">\n",
       "      <th></th>\n",
       "      <th>tractid</th>\n",
       "      <th>state</th>\n",
       "      <th>county</th>\n",
       "      <th>tract</th>\n",
       "      <th>POP00</th>\n",
       "      <th>percent_white00</th>\n",
       "      <th>percent_black00</th>\n",
       "      <th>percent_asian00</th>\n",
       "      <th>percent_hispanic00</th>\n",
       "      <th>percent_indian00</th>\n",
       "      <th>percent_chinese00</th>\n",
       "      <th>percent_filip00</th>\n",
       "      <th>percent_japan00</th>\n",
       "      <th>percent_korean00</th>\n",
       "      <th>percent_viet00</th>\n",
       "      <th>percent_mex00</th>\n",
       "      <th>percent_pr00</th>\n",
       "      <th>percent_cuban00</th>\n",
       "      <th>percent_vacant_housing00</th>\n",
       "      <th>percent_occupied_housing00</th>\n",
       "      <th>percent_under18_00</th>\n",
       "      <th>percent_60andup_00</th>\n",
       "      <th>percent_75andup_00</th>\n",
       "      <th>percent_owneroccupied_00</th>\n",
       "      <th>percent_renteroccupied_00</th>\n",
       "      <th>percent_non-white00</th>\n",
       "      <th>INCPC00</th>\n",
       "      <th>HINC00</th>\n",
       "      <th>MHMVAL00</th>\n",
       "      <th>MRENT00</th>\n",
       "      <th>percent_foreign_born</th>\n",
       "      <th>percent_naturalized</th>\n",
       "      <th>percent_recent_immigrants(10)</th>\n",
       "      <th>percent_other_languages</th>\n",
       "      <th>percent_hs_degree_orless</th>\n",
       "      <th>percent_4yrcollege_degree_ormore</th>\n",
       "      <th>percent_married</th>\n",
       "      <th>percent_unemployed</th>\n",
       "      <th>percent_employed</th>\n",
       "      <th>percent_professional</th>\n",
       "      <th>percent_manufacturing</th>\n",
       "      <th>percent_self_employed</th>\n",
       "      <th>percent_poverty</th>\n",
       "      <th>percent_houses_30yrsago</th>\n",
       "      <th>percent_multiunit_houses</th>\n",
       "      <th>year</th>\n",
       "      <th>cluster</th>\n",
       "      <th>Percent Change in Median Income</th>\n",
       "      <th>Percent Change in Median Home Value</th>\n",
       "      <th>Percent Change in Median Rent</th>\n",
       "      <th>Percent Change in Owner Occupied Homes</th>\n",
       "      <th>Percent Change in Non-White Population</th>\n",
       "      <th>Percent Change in Population with College Degree</th>\n",
       "      <th>cluster_name</th>\n",
       "    </tr>\n",
       "  </thead>\n",
       "  <tbody>\n",
       "    <tr>\n",
       "      <th>36</th>\n",
       "      <td>25025020303</td>\n",
       "      <td>MA</td>\n",
       "      <td>Suffolk County</td>\n",
       "      <td>Census Tract 203.03</td>\n",
       "      <td>2806.675935</td>\n",
       "      <td>71.824518</td>\n",
       "      <td>9.624213</td>\n",
       "      <td>11.324604</td>\n",
       "      <td>5.951369</td>\n",
       "      <td>2.448563</td>\n",
       "      <td>3.179731</td>\n",
       "      <td>0.714164</td>\n",
       "      <td>2.941677</td>\n",
       "      <td>1.156266</td>\n",
       "      <td>0.340078</td>\n",
       "      <td>1.020235</td>\n",
       "      <td>1.360313</td>\n",
       "      <td>0.136031</td>\n",
       "      <td>7.049529</td>\n",
       "      <td>92.950475</td>\n",
       "      <td>7.430709</td>\n",
       "      <td>18.092161</td>\n",
       "      <td>7.039619</td>\n",
       "      <td>28.167732</td>\n",
       "      <td>64.782743</td>\n",
       "      <td>40.74137</td>\n",
       "      <td>58649.948901</td>\n",
       "      <td>66050.20881</td>\n",
       "      <td>354817.252909</td>\n",
       "      <td>1518.293686</td>\n",
       "      <td>19.91158</td>\n",
       "      <td>7.107635</td>\n",
       "      <td>10.491413</td>\n",
       "      <td>23.450703</td>\n",
       "      <td>23.215004</td>\n",
       "      <td>61.234364</td>\n",
       "      <td>41.835064</td>\n",
       "      <td>4.272698</td>\n",
       "      <td>95.727302</td>\n",
       "      <td>76.895309</td>\n",
       "      <td>3.249097</td>\n",
       "      <td>10.731867</td>\n",
       "      <td>11.066072</td>\n",
       "      <td>67.39593</td>\n",
       "      <td>99.48344</td>\n",
       "      <td>2000-01-01</td>\n",
       "      <td>2</td>\n",
       "      <td>26.72</td>\n",
       "      <td>52.89</td>\n",
       "      <td>66.89</td>\n",
       "      <td>-14.66</td>\n",
       "      <td>39.47</td>\n",
       "      <td>12.99</td>\n",
       "      <td>Remaining costly</td>\n",
       "    </tr>\n",
       "  </tbody>\n",
       "</table>\n",
       "</div>"
      ],
      "text/plain": [
       "        tractid state          county                tract        POP00  \\\n",
       "36  25025020303    MA  Suffolk County  Census Tract 203.03  2806.675935   \n",
       "\n",
       "    percent_white00  percent_black00  percent_asian00  percent_hispanic00  \\\n",
       "36        71.824518         9.624213        11.324604            5.951369   \n",
       "\n",
       "    percent_indian00  percent_chinese00  percent_filip00  percent_japan00  \\\n",
       "36          2.448563           3.179731         0.714164         2.941677   \n",
       "\n",
       "    percent_korean00  percent_viet00  percent_mex00  percent_pr00  \\\n",
       "36          1.156266        0.340078       1.020235      1.360313   \n",
       "\n",
       "    percent_cuban00  percent_vacant_housing00  percent_occupied_housing00  \\\n",
       "36         0.136031                  7.049529                   92.950475   \n",
       "\n",
       "    percent_under18_00  percent_60andup_00  percent_75andup_00  \\\n",
       "36            7.430709           18.092161            7.039619   \n",
       "\n",
       "    percent_owneroccupied_00  percent_renteroccupied_00  percent_non-white00  \\\n",
       "36                 28.167732                  64.782743             40.74137   \n",
       "\n",
       "         INCPC00       HINC00       MHMVAL00      MRENT00  \\\n",
       "36  58649.948901  66050.20881  354817.252909  1518.293686   \n",
       "\n",
       "    percent_foreign_born  percent_naturalized  percent_recent_immigrants(10)  \\\n",
       "36              19.91158             7.107635                      10.491413   \n",
       "\n",
       "    percent_other_languages  percent_hs_degree_orless  \\\n",
       "36                23.450703                 23.215004   \n",
       "\n",
       "    percent_4yrcollege_degree_ormore  percent_married  percent_unemployed  \\\n",
       "36                         61.234364        41.835064            4.272698   \n",
       "\n",
       "    percent_employed  percent_professional  percent_manufacturing  \\\n",
       "36         95.727302             76.895309               3.249097   \n",
       "\n",
       "    percent_self_employed  percent_poverty  percent_houses_30yrsago  \\\n",
       "36              10.731867        11.066072                 67.39593   \n",
       "\n",
       "    percent_multiunit_houses       year  cluster  \\\n",
       "36                  99.48344 2000-01-01        2   \n",
       "\n",
       "    Percent Change in Median Income  Percent Change in Median Home Value  \\\n",
       "36                            26.72                                52.89   \n",
       "\n",
       "    Percent Change in Median Rent  Percent Change in Owner Occupied Homes  \\\n",
       "36                          66.89                                  -14.66   \n",
       "\n",
       "    Percent Change in Non-White Population  \\\n",
       "36                                   39.47   \n",
       "\n",
       "    Percent Change in Population with College Degree      cluster_name  \n",
       "36                                             12.99  Remaining costly  "
      ]
     },
     "execution_count": 22,
     "metadata": {},
     "output_type": "execute_result"
    }
   ],
   "source": [
    "cluster_and_2000[cluster_and_2000['tractid']==25025020303]"
   ]
  },
  {
   "cell_type": "markdown",
   "metadata": {},
   "source": [
    "## EDA"
   ]
  },
  {
   "cell_type": "markdown",
   "metadata": {},
   "source": [
    "### Racial and ethnic changes"
   ]
  },
  {
   "cell_type": "code",
   "execution_count": 23,
   "metadata": {},
   "outputs": [
    {
     "ename": "AttributeError",
     "evalue": "'DataFrame' object has no attribute 'nhwht10'",
     "output_type": "error",
     "traceback": [
      "\u001b[0;31m---------------------------------------------------------------------------\u001b[0m",
      "\u001b[0;31mAttributeError\u001b[0m                            Traceback (most recent call last)",
      "\u001b[0;32m<ipython-input-23-cf6fad234d84>\u001b[0m in \u001b[0;36m<module>\u001b[0;34m\u001b[0m\n\u001b[1;32m      1\u001b[0m \u001b[0;31m# 3% decline in white population\u001b[0m\u001b[0;34m\u001b[0m\u001b[0;34m\u001b[0m\u001b[0;34m\u001b[0m\u001b[0m\n\u001b[0;32m----> 2\u001b[0;31m \u001b[0;34m(\u001b[0m\u001b[0mdf_2010\u001b[0m\u001b[0;34m.\u001b[0m\u001b[0mnhwht10\u001b[0m\u001b[0;34m.\u001b[0m\u001b[0msum\u001b[0m\u001b[0;34m(\u001b[0m\u001b[0;34m)\u001b[0m\u001b[0;34m-\u001b[0m\u001b[0mdf_2000\u001b[0m\u001b[0;34m.\u001b[0m\u001b[0mNHWHT00\u001b[0m\u001b[0;34m.\u001b[0m\u001b[0msum\u001b[0m\u001b[0;34m(\u001b[0m\u001b[0;34m)\u001b[0m\u001b[0;34m)\u001b[0m\u001b[0;34m/\u001b[0m\u001b[0mdf_2000\u001b[0m\u001b[0;34m.\u001b[0m\u001b[0mNHWHT00\u001b[0m\u001b[0;34m.\u001b[0m\u001b[0msum\u001b[0m\u001b[0;34m(\u001b[0m\u001b[0;34m)\u001b[0m\u001b[0;34m\u001b[0m\u001b[0;34m\u001b[0m\u001b[0m\n\u001b[0m",
      "\u001b[0;32m~/anaconda3/lib/python3.7/site-packages/pandas/core/generic.py\u001b[0m in \u001b[0;36m__getattr__\u001b[0;34m(self, name)\u001b[0m\n\u001b[1;32m   5065\u001b[0m             \u001b[0;32mif\u001b[0m \u001b[0mself\u001b[0m\u001b[0;34m.\u001b[0m\u001b[0m_info_axis\u001b[0m\u001b[0;34m.\u001b[0m\u001b[0m_can_hold_identifiers_and_holds_name\u001b[0m\u001b[0;34m(\u001b[0m\u001b[0mname\u001b[0m\u001b[0;34m)\u001b[0m\u001b[0;34m:\u001b[0m\u001b[0;34m\u001b[0m\u001b[0;34m\u001b[0m\u001b[0m\n\u001b[1;32m   5066\u001b[0m                 \u001b[0;32mreturn\u001b[0m \u001b[0mself\u001b[0m\u001b[0;34m[\u001b[0m\u001b[0mname\u001b[0m\u001b[0;34m]\u001b[0m\u001b[0;34m\u001b[0m\u001b[0;34m\u001b[0m\u001b[0m\n\u001b[0;32m-> 5067\u001b[0;31m             \u001b[0;32mreturn\u001b[0m \u001b[0mobject\u001b[0m\u001b[0;34m.\u001b[0m\u001b[0m__getattribute__\u001b[0m\u001b[0;34m(\u001b[0m\u001b[0mself\u001b[0m\u001b[0;34m,\u001b[0m \u001b[0mname\u001b[0m\u001b[0;34m)\u001b[0m\u001b[0;34m\u001b[0m\u001b[0;34m\u001b[0m\u001b[0m\n\u001b[0m\u001b[1;32m   5068\u001b[0m \u001b[0;34m\u001b[0m\u001b[0m\n\u001b[1;32m   5069\u001b[0m     \u001b[0;32mdef\u001b[0m \u001b[0m__setattr__\u001b[0m\u001b[0;34m(\u001b[0m\u001b[0mself\u001b[0m\u001b[0;34m,\u001b[0m \u001b[0mname\u001b[0m\u001b[0;34m,\u001b[0m \u001b[0mvalue\u001b[0m\u001b[0;34m)\u001b[0m\u001b[0;34m:\u001b[0m\u001b[0;34m\u001b[0m\u001b[0;34m\u001b[0m\u001b[0m\n",
      "\u001b[0;31mAttributeError\u001b[0m: 'DataFrame' object has no attribute 'nhwht10'"
     ]
    }
   ],
   "source": [
    "# 3% decline in white population\n",
    "(df_2010.nhwht10.sum()-df_2000.NHWHT00.sum())/df_2000.NHWHT00.sum()"
   ]
  },
  {
   "cell_type": "code",
   "execution_count": null,
   "metadata": {},
   "outputs": [],
   "source": [
    "df_2010.head()"
   ]
  },
  {
   "cell_type": "code",
   "execution_count": null,
   "metadata": {},
   "outputs": [],
   "source": [
    "# 16% increase in non-white population\n",
    "((df_2010[['nhblk10','ntv10','asian10','hisp10',\n",
    "                                                   'haw10','india10','china10','filip10',\n",
    "                                                   'japan10','korea10','viet10','mex10',\n",
    "                                                   'pr10','cuban10']].sum().sum())-df_2000[['NHBLK00','NTV00','ASIAN00','HISP00',\n",
    "                                                   'HAW00','INDIA00','CHINA00','FILIP00',\n",
    "                                                   'JAPAN00','KOREA00','VIET00','MEX00',\n",
    "                                                   'PR00','CUBAN00']].sum().sum())/(df_2000[['NHBLK00','NTV00','ASIAN00','HISP00',\n",
    "                                                   'HAW00','INDIA00','CHINA00','FILIP00',\n",
    "                                                   'JAPAN00','KOREA00','VIET00','MEX00',\n",
    "                                                   'PR00','CUBAN00']].sum().sum())"
   ]
  },
  {
   "cell_type": "code",
   "execution_count": null,
   "metadata": {},
   "outputs": [],
   "source": [
    "import plotly.graph_objects as go\n",
    "animals=['giraffes', 'orangutans', 'monkeys']\n",
    "\n",
    "fig = go.Figure(data=[\n",
    "    go.Bar(name='SF Zoo', x=animals, y=[20, 14, 23]),\n",
    "    go.Bar(name='LA Zoo', x=animals, y=[12, 18, 29])\n",
    "])\n",
    "# Change the bar mode\n",
    "fig.update_layout(barmode='stack')\n",
    "fig.show()"
   ]
  },
  {
   "cell_type": "code",
   "execution_count": null,
   "metadata": {},
   "outputs": [],
   "source": [
    "# bar chart showing breakup of white vs. non -white pop in boston 2000 vs. 2010\n",
    "import plotly.graph_objects as go\n",
    "\n",
    "\n",
    "\n",
    "fig = go.Figure(data=[go.Bar(name='White', x=['2000','2010'], y=[df_2000.NHWHT00.sum(),df_2010.nhwht10.sum()]),\n",
    "                      go.Bar(name='Non-white', x=['2000','2010'], y=[df_2000[['NHBLK00','NTV00','ASIAN00','HISP00',\n",
    "                                                   'HAW00','INDIA00','CHINA00','FILIP00',\n",
    "                                                   'JAPAN00','KOREA00','VIET00','MEX00',\n",
    "                                                   'PR00','CUBAN00']].sum().sum(),\n",
    "                                          df_2010[['nhblk10','ntv10','asian10','hisp10',\n",
    "                                                   'haw10','india10','china10','filip10',\n",
    "                                                   'japan10','korea10','viet10','mex10',\n",
    "                                                   'pr10','cuban10']].sum().sum()])])\n",
    "# Change the bar mode\n",
    "fig.update_layout(title=\n",
    "                  go.layout.Title(text='Change in Racial Composition of Population 2000-2010',\n",
    "                                  xref='paper',\n",
    "                                 x=0),\n",
    "                  barmode='stack',\n",
    "                  xaxis=\n",
    "                  go.layout.XAxis(\n",
    "                     title=go.layout.xaxis.Title(\n",
    "                     text='Year'),\n",
    "                      tickmode='array',\n",
    "                      tickvals=[2000,2010],\n",
    "                      ticktext=[2000,2010]),\n",
    "                  yaxis=go.layout.YAxis(\n",
    "                      title=go.layout.yaxis.Title(\n",
    "                      text='Population')\n",
    "                 ))\n",
    "fig.show()"
   ]
  },
  {
   "cell_type": "code",
   "execution_count": null,
   "metadata": {},
   "outputs": [],
   "source": [
    "df_2000['population_bucket']=df_2000['POP00'].apply(lambda x: 'less than 2500' if x < 2500 else\n",
    "                                                        ('2500-3500' if x < 3500 else (\n",
    "                                                        ('3500-4500' if x<4500 else\n",
    "                                                        '4500-8000'))))"
   ]
  },
  {
   "cell_type": "markdown",
   "metadata": {},
   "source": [
    "## income"
   ]
  },
  {
   "cell_type": "code",
   "execution_count": null,
   "metadata": {
    "scrolled": true
   },
   "outputs": [],
   "source": [
    "df_changes_sample['HINC00'].describe()"
   ]
  },
  {
   "cell_type": "code",
   "execution_count": null,
   "metadata": {},
   "outputs": [],
   "source": [
    "df_changes_sample['hinc12'].describe()"
   ]
  },
  {
   "cell_type": "code",
   "execution_count": null,
   "metadata": {},
   "outputs": [],
   "source": [
    "(52184-47486)/47486"
   ]
  },
  {
   "cell_type": "code",
   "execution_count": null,
   "metadata": {},
   "outputs": [],
   "source": [
    "def func(x):\n",
    "    if x >= 63371:\n",
    "        return 'Top 25% (> 63k)'\n",
    "    elif 37189<x<63371:\n",
    "        return 'Middle 50% (<63k and >37k)'\n",
    "    else:\n",
    "        return 'Bottom 25% (<37k)'"
   ]
  },
  {
   "cell_type": "code",
   "execution_count": null,
   "metadata": {},
   "outputs": [],
   "source": [
    "df_changes_sample['income_bracket']=df_changes_sample['HINC00'].apply(func)"
   ]
  },
  {
   "cell_type": "code",
   "execution_count": null,
   "metadata": {},
   "outputs": [],
   "source": [
    "# resave to csv\n",
    "df_changes_sample.to_csv('plotly_changes.csv')"
   ]
  },
  {
   "cell_type": "code",
   "execution_count": null,
   "metadata": {},
   "outputs": [],
   "source": [
    "df_changes_sample['income_bracket'].value_counts()"
   ]
  },
  {
   "cell_type": "code",
   "execution_count": null,
   "metadata": {},
   "outputs": [],
   "source": [
    "df_changes_sample[(df_changes_sample['income_bracket']=='Top 25% (> 63k)')&(df_changes_sample['HINC00_PC']<0)].describe()"
   ]
  },
  {
   "cell_type": "code",
   "execution_count": null,
   "metadata": {},
   "outputs": [],
   "source": [
    "(71902-80728)/80728"
   ]
  },
  {
   "cell_type": "code",
   "execution_count": null,
   "metadata": {},
   "outputs": [],
   "source": [
    "df_changes_sample[(df_changes_sample['income_bracket']=='Bottom 25% (<37k)')&(df_changes_sample['HINC00_PC']<0)].describe()"
   ]
  },
  {
   "cell_type": "code",
   "execution_count": null,
   "metadata": {},
   "outputs": [],
   "source": [
    "(21508-27815)/27815"
   ]
  },
  {
   "cell_type": "code",
   "execution_count": null,
   "metadata": {},
   "outputs": [],
   "source": [
    "df_changes_sample['income_bracket'][df_changes_sample['HINC00_PC']<0].value_counts()"
   ]
  },
  {
   "cell_type": "code",
   "execution_count": null,
   "metadata": {},
   "outputs": [],
   "source": [
    "len(df_changes_sample[(df_changes_sample['HINC00']>47000) &(df_changes_sample['HINC00_PC']>0)])"
   ]
  },
  {
   "cell_type": "code",
   "execution_count": null,
   "metadata": {},
   "outputs": [],
   "source": [
    "df_changes_sample[['HINC00','income_bracket']]"
   ]
  },
  {
   "cell_type": "code",
   "execution_count": null,
   "metadata": {},
   "outputs": [],
   "source": [
    "fig=go.Figure()\n",
    "colorsIdx={'Middle 50% (<63k and >37k)':'red','Top 25% (> 63k)':'blue','Bottom 25% (<37k)':'yellow'}\n",
    "cols=df_changes_sample.income_bracket.map(colorsIdx)\n",
    "fig.add_trace(go.Scatter(x=df_changes_sample.HINC00,\n",
    "                         y=df_changes_sample.HINC00_PC,\n",
    "                        mode='markers',\n",
    "                        marker=dict(size=10,color=cols)))\n",
    "fig.show()"
   ]
  },
  {
   "cell_type": "code",
   "execution_count": null,
   "metadata": {},
   "outputs": [],
   "source": [
    "df_changes_sample['HINC00'].describe()"
   ]
  },
  {
   "cell_type": "code",
   "execution_count": null,
   "metadata": {},
   "outputs": [],
   "source": [
    "(52009-47486)/47486"
   ]
  },
  {
   "cell_type": "markdown",
   "metadata": {},
   "source": [
    "## Housing costs"
   ]
  },
  {
   "cell_type": "code",
   "execution_count": null,
   "metadata": {},
   "outputs": [],
   "source": [
    "df_all_changes=df_changes_full.merge(df_changes_sample,how='inner',on='tractid')"
   ]
  },
  {
   "cell_type": "code",
   "execution_count": null,
   "metadata": {},
   "outputs": [],
   "source": [
    "df_all_changes.to_csv('plotly_changes_full.csv')"
   ]
  },
  {
   "cell_type": "code",
   "execution_count": null,
   "metadata": {},
   "outputs": [],
   "source": [
    "df_2010['mrent12'].describe()"
   ]
  },
  {
   "cell_type": "code",
   "execution_count": null,
   "metadata": {},
   "outputs": [],
   "source": [
    "df_2000['MRENT00'].describe()"
   ]
  },
  {
   "cell_type": "code",
   "execution_count": null,
   "metadata": {},
   "outputs": [],
   "source": [
    "(1083.5-871.56)/871.56"
   ]
  },
  {
   "cell_type": "code",
   "execution_count": null,
   "metadata": {},
   "outputs": [],
   "source": [
    "len(df_all_changes[(df_all_changes['percent_renteroccupied_00_PC']>0) & (df_all_changes['MHMVAL00_PC'])])"
   ]
  },
  {
   "cell_type": "code",
   "execution_count": null,
   "metadata": {},
   "outputs": [],
   "source": [
    "103/191 # 53 % of tracts experienced and increase in home value while owner occ went up\n",
    "# vs. only 49/191 tracts expereicen increase in home while renter occupany went up"
   ]
  },
  {
   "cell_type": "code",
   "execution_count": null,
   "metadata": {},
   "outputs": [],
   "source": [
    "df_2010['mhmval12'].describe()"
   ]
  },
  {
   "cell_type": "code",
   "execution_count": null,
   "metadata": {},
   "outputs": [],
   "source": [
    "df_2000['MHMVAL00'].describe()"
   ]
  },
  {
   "cell_type": "code",
   "execution_count": null,
   "metadata": {},
   "outputs": [],
   "source": [
    "# county's median median home value rose 41%\n",
    "(337150-239077)/239077"
   ]
  },
  {
   "cell_type": "code",
   "execution_count": null,
   "metadata": {},
   "outputs": [],
   "source": [
    "# 95% of tracts increas ein home val\n",
    "len(df_changes_sample[df_changes_sample['MRENT00_PC']>0])"
   ]
  },
  {
   "cell_type": "code",
   "execution_count": null,
   "metadata": {},
   "outputs": [],
   "source": [
    "# same with rent val\n",
    "len(df_changes_sample[df_changes_sample['MHMVAL00_PC']>0])"
   ]
  },
  {
   "cell_type": "code",
   "execution_count": null,
   "metadata": {},
   "outputs": [],
   "source": [
    "181/190"
   ]
  },
  {
   "cell_type": "code",
   "execution_count": null,
   "metadata": {},
   "outputs": [],
   "source": [
    "183/191"
   ]
  },
  {
   "cell_type": "markdown",
   "metadata": {},
   "source": [
    "## Visualizing the clusters"
   ]
  },
  {
   "cell_type": "code",
   "execution_count": null,
   "metadata": {},
   "outputs": [],
   "source": [
    "# Cluster 0 - \"gentrified\"\n",
    "import plotly.graph_objects as go\n",
    "\n",
    "categories=['% Change in Household Income','% Change in Median Home Value','% Change in Median Rent', \n",
    "         '% Change in Owner Occupied Housing', '% Change in Non-White Population',\n",
    "         '% Change in Population with College Degree']\n",
    "fig = go.Figure()\n",
    "\n",
    "fig.add_trace(go.Scatterpolar(\n",
    "      r=[8.20,76.14,54.41,6.23,28.04,36.73],\n",
    "      theta=categories,\n",
    "      name='Baseline, County Avg. (n=190)',\n",
    "      marker={\n",
    "        'color':'orange'\n",
    "    }\n",
    "))\n",
    "\n",
    "fig.add_trace(go.Scatterpolar(\n",
    "  r=[29.95,87.36,69.79,28.49,11.23,129.64],\n",
    "  theta=categories,\n",
    "    name='Cluster 1: Gentrifying (n=31)'\n",
    "))\n",
    "\n",
    "fig.add_trace(go.Scatterpolar(\n",
    "      r=[-12.11,72.58,40.70,-7.45,22.16,2.05],\n",
    "      theta=categories,\n",
    "      name='Cluster 2: Becoming more affordable (n=77)'\n",
    "))\n",
    "fig.add_trace(go.Scatterpolar(\n",
    "      r=[19.24,81.35,61.29,7.34,40.02,34.12],\n",
    "      theta=categories,\n",
    "      name='Cluster 3: Becoming costly (n=82)'\n",
    "))\n",
    "fig.update_layout(\n",
    "    legend_orientation=\"h\",\n",
    "    legend={'x':-.1,'y':1.2\n",
    "    },\n",
    "  polar=dict(\n",
    "    radialaxis=dict(\n",
    "      visible=True,\n",
    "        ),\n",
    "  ),\n",
    "    bgcolor='aliceblue',\n",
    "  showlegend=True,\n",
    "   \n",
    ")\n",
    "\n",
    "fig.show()\n",
    "legend=dict(x=0, y=1.2)"
   ]
  },
  {
   "cell_type": "code",
   "execution_count": null,
   "metadata": {},
   "outputs": [],
   "source": [
    "# Cluster 1-\"affordable/low income\"\n",
    "categories=['% Change in Household Income','% Change in Median Home Value','% Change in Median Rent', \n",
    "         '% Change in Owner Occupied Housing', '% Change in Non-White Population',\n",
    "         '% Change in Population with College Degree']\n",
    "fig = go.Figure()\n",
    "\n",
    "fig.add_trace(go.Scatterpolar(\n",
    "  r=[-12.11,72.58,40.70,-7.45,22.16,2.05],\n",
    "  theta=categories,\n",
    "    name='Cluster 2: Affordable (n=77)'\n",
    "))\n",
    "\n",
    "fig.add_trace(go.Scatterpolar(\n",
    "      r=[8.20,76.14,54.41,6.23,28.04,36.73],\n",
    "      theta=categories,\n",
    "      name='Cluster 2: Affordable (n=77)'\n",
    "))\n",
    "\n",
    "fig.update_layout(\n",
    "  polar=dict(\n",
    "    radialaxis=dict(\n",
    "      visible=True,\n",
    "        range=[-10,120]\n",
    "    ),\n",
    "  ),\n",
    "  showlegend=True\n",
    ")\n",
    "\n",
    "fig.show()\n"
   ]
  },
  {
   "cell_type": "code",
   "execution_count": null,
   "metadata": {},
   "outputs": [],
   "source": [
    "# Cluster 2 - \"stable, in line with average\"\n",
    "categories=['% Change in Household Income','% Change in Median Home Value','% Change in Median Rent', \n",
    "         '% Change in Owner Occupied Housing', '% Change in Non-White Population',\n",
    "         '% Change in Population with College Degree']\n",
    "fig = go.Figure()\n",
    "\n",
    "fig.add_trace(go.Scatterpolar(\n",
    "  r=[19.24,81.35,61.29,7.34,40.02,34.12],\n",
    "  theta=categories,\n",
    "    name='Cluster 3: Gentrified (n=31)'\n",
    "))\n",
    "\n",
    "fig.add_trace(go.Scatterpolar(\n",
    "      r=[8.20,76.14,54.41,6.23,28.04,36.73],\n",
    "      theta=categories,\n",
    "      name='Baseline'\n",
    "))\n",
    "\n",
    "fig.update_layout(\n",
    "  polar=dict(\n",
    "    radialaxis=dict(\n",
    "      visible=True,\n",
    "    ),\n",
    "  ),\n",
    "  showlegend=False\n",
    ")\n",
    "\n",
    "fig.show()"
   ]
  },
  {
   "cell_type": "code",
   "execution_count": null,
   "metadata": {},
   "outputs": [],
   "source": [
    "len(df_2000[df_2000['percent_white00']>75])/len(df_2000)"
   ]
  },
  {
   "cell_type": "code",
   "execution_count": null,
   "metadata": {},
   "outputs": [],
   "source": [
    "import plotly.io as pio\n",
    "\n",
    "population = df_joined.POP00\n",
    "percent_white = df_joined.percent_white00\n",
    "\n",
    "data = [dict(\n",
    "  type = 'scatter',\n",
    "  x = population,\n",
    "  y = percent_white,\n",
    "  mode = 'markers',\n",
    "  transforms = [dict(\n",
    "    type = 'filter',\n",
    "    target = 'y',\n",
    "    operation = '>',\n",
    "    value = 4\n",
    "  )]\n",
    ")]\n",
    "\n",
    "layout = dict(\n",
    "    title = 'Scores > 4'\n",
    ")\n",
    "\n",
    "fig_dict = dict(data=data, layout=layout)\n",
    "\n",
    "pio.show(fig_dict, validate=False)"
   ]
  },
  {
   "cell_type": "code",
   "execution_count": null,
   "metadata": {},
   "outputs": [],
   "source": []
  }
 ],
 "metadata": {
  "kernelspec": {
   "display_name": "Python 3",
   "language": "python",
   "name": "python3"
  },
  "language_info": {
   "codemirror_mode": {
    "name": "ipython",
    "version": 3
   },
   "file_extension": ".py",
   "mimetype": "text/x-python",
   "name": "python",
   "nbconvert_exporter": "python",
   "pygments_lexer": "ipython3",
   "version": "3.7.3"
  }
 },
 "nbformat": 4,
 "nbformat_minor": 2
}
