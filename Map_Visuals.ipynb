{
 "cells": [
  {
   "cell_type": "code",
   "execution_count": null,
   "metadata": {},
   "outputs": [],
   "source": [
    "# 1. get FIPS from tigerweb\n",
    "# 2. use FIPS to call Census stats API\n",
    "# 3. merge data with GeoJSON"
   ]
  },
  {
   "cell_type": "code",
   "execution_count": null,
   "metadata": {},
   "outputs": [],
   "source": [
    "# Step 1 get FIPS code\n",
    "# Step 2 , use FIPS code to get geo data"
   ]
  },
  {
   "cell_type": "code",
   "execution_count": null,
   "metadata": {},
   "outputs": [],
   "source": [
    "# save fig dpi = "
   ]
  },
  {
   "cell_type": "code",
   "execution_count": 1,
   "metadata": {},
   "outputs": [],
   "source": [
    "import pandas as pd\n",
    "import geopandas as gpd\n",
    "from geopandas.tools import sjoin\n",
    "import folium\n",
    "from folium import IFrame\n",
    "from folium.plugins import MarkerCluster\n",
    "# MarkerCluster()"
   ]
  },
  {
   "cell_type": "code",
   "execution_count": 2,
   "metadata": {},
   "outputs": [
    {
     "name": "stdout",
     "output_type": "stream",
     "text": [
      "    STATEFP10 COUNTYFP10 TRACTCE10      GEOID10   NAME10  \\\n",
      "0          25        025    010405  25025010405   104.05   \n",
      "1          25        025    010404  25025010404   104.04   \n",
      "2          25        025    010801  25025010801   108.01   \n",
      "3          25        025    010702  25025010702   107.02   \n",
      "4          25        025    010204  25025010204   102.04   \n",
      "5          25        025    010802  25025010802   108.02   \n",
      "6          25        025    010104  25025010104   101.04   \n",
      "7          25        025    000703  25025000703     7.03   \n",
      "8          25        025    000504  25025000504     5.04   \n",
      "9          25        025    000704  25025000704     7.04   \n",
      "10         25        025    010103  25025010103   101.03   \n",
      "11         25        025    000803  25025000803     8.03   \n",
      "12         25        025    980300  25025980300     9803   \n",
      "13         25        025    120201  25025120201  1202.01   \n",
      "14         25        025    120104  25025120104  1201.04   \n",
      "15         25        025    110607  25025110607  1106.07   \n",
      "16         25        025    000302  25025000302     3.02   \n",
      "17         25        025    000301  25025000301     3.01   \n",
      "18         25        025    180500  25025180500     1805   \n",
      "19         25        025    170800  25025170800     1708   \n",
      "20         25        025    170400  25025170400     1704   \n",
      "21         25        025    170300  25025170300     1703   \n",
      "22         25        025    170200  25025170200     1702   \n",
      "23         25        025    170100  25025170100     1701   \n",
      "24         25        025    160400  25025160400     1604   \n",
      "25         25        025    160200  25025160200     1602   \n",
      "26         25        025    140400  25025140400     1404   \n",
      "27         25        025    140300  25025140300     1403   \n",
      "28         25        025    140201  25025140201  1402.01   \n",
      "29         25        025    140202  25025140202  1402.02   \n",
      "..        ...        ...       ...          ...      ...   \n",
      "174        25        025    020200  25025020200      202   \n",
      "175        25        025    010600  25025010600      106   \n",
      "176        25        025    010500  25025010500      105   \n",
      "177        25        025    010300  25025010300      103   \n",
      "178        25        025    000802  25025000802     8.02   \n",
      "179        25        025    000701  25025000701     7.01   \n",
      "180        25        025    050101  25025050101   501.01   \n",
      "181        25        025    050901  25025050901   509.01   \n",
      "182        25        025    160300  25025160300     1603   \n",
      "183        25        025    160101  25025160101  1601.01   \n",
      "184        25        025    060501  25025060501   605.01   \n",
      "185        25        025    981202  25025981202  9812.02   \n",
      "186        25        025    040100  25025040100      401   \n",
      "187        25        025    040600  25025040600      406   \n",
      "188        25        025    000602  25025000602     6.02   \n",
      "189        25        025    000601  25025000601     6.01   \n",
      "190        25        025    000502  25025000502     5.02   \n",
      "191        25        025    000402  25025000402     4.02   \n",
      "192        25        025    000401  25025000401     4.01   \n",
      "193        25        025    000202  25025000202     2.02   \n",
      "194        25        025    000201  25025000201     2.01   \n",
      "195        25        025    040401  25025040401   404.01   \n",
      "196        25        025    020303  25025020303   203.03   \n",
      "197        25        025    070402  25025070402   704.02   \n",
      "198        25        025    020302  25025020302   203.02   \n",
      "199        25        025    020301  25025020301   203.01   \n",
      "200        25        025    020101  25025020101   201.01   \n",
      "201        25        025    081001  25025081001   810.01   \n",
      "202        25        025    010403  25025010403   104.03   \n",
      "203        25        025    000100  25025000100        1   \n",
      "\n",
      "               NAMELSAD10 MTFCC10 FUNCSTAT10  ALAND10  AWATER10   INTPTLAT10  \\\n",
      "0     Census Tract 104.05   G5020          S   363702         0  +42.3398654   \n",
      "1     Census Tract 104.04   G5020          S   136829         0  +42.3419667   \n",
      "2     Census Tract 108.01   G5020          S   127905         0  +42.3541193   \n",
      "3     Census Tract 107.02   G5020          S   299981         0  +42.3518354   \n",
      "4     Census Tract 102.04   G5020          S   254706         0  +42.3462887   \n",
      "5     Census Tract 108.02   G5020          S   155467         0  +42.3515181   \n",
      "6     Census Tract 101.04   G5020          S   279354      7377  +42.3494322   \n",
      "7       Census Tract 7.03   G5020          S   178020         0  +42.3513290   \n",
      "8       Census Tract 5.04   G5020          S   333187         0  +42.3414718   \n",
      "9       Census Tract 7.04   G5020          S   239781         0  +42.3500029   \n",
      "10    Census Tract 101.03   G5020          S   273032         0  +42.3497818   \n",
      "11      Census Tract 8.03   G5020          S  1158191         0  +42.3594775   \n",
      "12      Census Tract 9803   G5020          S  2075986     27540  +42.3006134   \n",
      "13   Census Tract 1202.01   G5020          S   719468         0  +42.3051570   \n",
      "14   Census Tract 1201.04   G5020          S   290296         0  +42.3056862   \n",
      "15   Census Tract 1106.07   G5020          S  1171287         0  +42.2902868   \n",
      "16      Census Tract 3.02   G5020          S   589888     46101  +42.3472584   \n",
      "17      Census Tract 3.01   G5020          S   572307         0  +42.3541442   \n",
      "18      Census Tract 1805   G5020          S   782843   1893415  +42.3673241   \n",
      "19      Census Tract 1708   G5020          S   843082    503599  +42.3958704   \n",
      "20      Census Tract 1704   G5020          S  2334595    264950  +42.4239901   \n",
      "21      Census Tract 1703   G5020          S  3945724    496855  +42.4308837   \n",
      "22      Census Tract 1702   G5020          S   998409         0  +42.4167928   \n",
      "23      Census Tract 1701   G5020          S  1462306      2839  +42.4107259   \n",
      "24      Census Tract 1604   G5020          S  1294086      3542  +42.3953160   \n",
      "25      Census Tract 1602   G5020          S   222152         0  +42.3897840   \n",
      "26      Census Tract 1404   G5020          S  1878139     12733  +42.2692219   \n",
      "27      Census Tract 1403   G5020          S  1547361     41485  +42.2587734   \n",
      "28   Census Tract 1402.01   G5020          S  1329071     86300  +42.2375306   \n",
      "29   Census Tract 1402.02   G5020          S  1538700     17101  +42.2495181   \n",
      "..                    ...     ...        ...      ...       ...          ...   \n",
      "174      Census Tract 202   G5020          S   116893         0  +42.3603354   \n",
      "175      Census Tract 106   G5020          S   339505         0  +42.3476385   \n",
      "176      Census Tract 105   G5020          S   188533     10075  +42.3445637   \n",
      "177      Census Tract 103   G5020          S   509208         0  +42.3394252   \n",
      "178     Census Tract 8.02   G5020          S   977475         0  +42.3568717   \n",
      "179     Census Tract 7.01   G5020          S   230433         0  +42.3469581   \n",
      "180   Census Tract 501.01   G5020          S   299772    184516  +42.3816657   \n",
      "181   Census Tract 509.01   G5020          S   614932    194139  +42.3819368   \n",
      "182     Census Tract 1603   G5020          S   567067    294165  +42.3880151   \n",
      "183  Census Tract 1601.01   G5020          S   707020     55916  +42.3889705   \n",
      "184   Census Tract 605.01   G5020          S   411742         0  +42.3368686   \n",
      "185  Census Tract 9812.02   G5020          S  1594870    933939  +42.3439164   \n",
      "186      Census Tract 401   G5020          S   259341     64873  +42.3729980   \n",
      "187      Census Tract 406   G5020          S  1426899    420711  +42.3830719   \n",
      "188     Census Tract 6.02   G5020          S   599777         0  +42.3492514   \n",
      "189     Census Tract 6.01   G5020          S   495044         0  +42.3509820   \n",
      "190     Census Tract 5.02   G5020          S   863889    334529  +42.3315048   \n",
      "191     Census Tract 4.02   G5020          S   806765         0  +42.3441742   \n",
      "192     Census Tract 4.01   G5020          S   431043         0  +42.3438495   \n",
      "193     Census Tract 2.02   G5020          S   601637         0  +42.3526051   \n",
      "194     Census Tract 2.01   G5020          S   599378         0  +42.3540662   \n",
      "195   Census Tract 404.01   G5020          S   429844     28580  +42.3741334   \n",
      "196   Census Tract 203.03   G5020          S   448840     78767  +42.3659600   \n",
      "197   Census Tract 704.02   G5020          S   267664     10223  +42.3451368   \n",
      "198   Census Tract 203.02   G5020          S    76782         0  +42.3593442   \n",
      "199   Census Tract 203.01   G5020          S   256258       328  +42.3631745   \n",
      "200   Census Tract 201.01   G5020          S   223142         0  +42.3577086   \n",
      "201   Census Tract 810.01   G5020          S   558488         0  +42.3345666   \n",
      "202   Census Tract 104.03   G5020          S    88556         0  +42.3450750   \n",
      "203        Census Tract 1   G5020          S  1794942         0  +42.3614845   \n",
      "\n",
      "       INTPTLON10                                           geometry  \n",
      "0    -071.0896052  POLYGON ((-71.09009 42.34666, -71.09000 42.346...  \n",
      "1    -071.0886375  POLYGON ((-71.09066 42.33977, -71.09103 42.339...  \n",
      "2    -071.0770216  POLYGON ((-71.08159 42.35370, -71.08044 42.354...  \n",
      "3    -071.0755159  POLYGON ((-71.07066 42.35185, -71.07045 42.351...  \n",
      "4    -071.1033879  POLYGON ((-71.10683 42.34875, -71.10520 42.348...  \n",
      "5    -071.0856803  POLYGON ((-71.08159 42.35370, -71.08153 42.353...  \n",
      "6    -071.0937501  POLYGON ((-71.08784 42.34746, -71.08805 42.347...  \n",
      "7    -071.1282159  POLYGON ((-71.12622 42.35041, -71.12685 42.350...  \n",
      "8    -071.1438264  POLYGON ((-71.14175 42.34040, -71.14194 42.340...  \n",
      "9    -071.1334045  POLYGON ((-71.13551 42.34878, -71.13572 42.349...  \n",
      "10   -071.1034479  POLYGON ((-71.10520 42.34844, -71.10683 42.348...  \n",
      "11   -071.1212626  POLYGON ((-71.12164 42.35475, -71.12285 42.354...  \n",
      "12   -071.0946130  POLYGON ((-71.09625 42.31249, -71.09598 42.312...  \n",
      "13   -071.1083675  POLYGON ((-71.10433 42.30276, -71.10456 42.302...  \n",
      "14   -071.1173049  POLYGON ((-71.11445 42.30224, -71.11445 42.302...  \n",
      "15   -071.1346400  POLYGON ((-71.14512 42.28811, -71.14478 42.288...  \n",
      "16   -071.1676863  POLYGON ((-71.17342 42.34853, -71.17426 42.349...  \n",
      "17   -071.1688266  POLYGON ((-71.16990 42.35763, -71.16989 42.357...  \n",
      "18   -070.9695072  POLYGON ((-70.96418 42.36322, -70.96448 42.362...  \n",
      "19   -070.9841693  POLYGON ((-70.98013 42.39684, -70.97873 42.395...  \n",
      "20   -070.9983953  POLYGON ((-70.99070 42.42230, -70.99156 42.421...  \n",
      "21   -071.0147469  POLYGON ((-71.02304 42.43346, -71.02300 42.433...  \n",
      "22   -071.0198545  POLYGON ((-71.00850 42.41594, -71.00863 42.415...  \n",
      "23   -071.0218234  POLYGON ((-71.02035 42.40363, -71.02038 42.403...  \n",
      "24   -071.0424960  POLYGON ((-71.04089 42.40175, -71.04069 42.401...  \n",
      "25   -071.0357615  POLYGON ((-71.03230 42.39222, -71.03263 42.391...  \n",
      "26   -071.1118088  POLYGON ((-71.12480 42.27258, -71.12491 42.272...  \n",
      "27   -071.1188131  POLYGON ((-71.10842 42.26259, -71.10832 42.262...  \n",
      "28   -071.1305713  POLYGON ((-71.13132 42.22826, -71.13133 42.228...  \n",
      "29   -071.1175430  POLYGON ((-71.11086 42.25665, -71.11043 42.256...  \n",
      "..            ...                                                ...  \n",
      "174  -071.0686334  POLYGON ((-71.06508 42.36007, -71.06507 42.359...  \n",
      "175  -071.0793851  POLYGON ((-71.08034 42.34440, -71.08086 42.344...  \n",
      "176  -071.0845748  POLYGON ((-71.08776 42.34730, -71.08735 42.347...  \n",
      "177  -071.1017927  POLYGON ((-71.09761 42.33699, -71.09813 42.336...  \n",
      "178  -071.1297576  POLYGON ((-71.12990 42.35592, -71.12841 42.355...  \n",
      "179  -071.1379847  POLYGON ((-71.13841 42.34893, -71.13827 42.348...  \n",
      "180  -071.0397908  POLYGON ((-71.03926 42.38683, -71.03929 42.386...  \n",
      "181  -071.0295001  POLYGON ((-71.03881 42.38681, -71.03836 42.386...  \n",
      "182  -071.0467339  POLYGON ((-71.03881 42.38681, -71.03887 42.386...  \n",
      "183  -071.0284298  POLYGON ((-71.02421 42.38559, -71.02771 42.384...  \n",
      "184  -071.0382133  POLYGON ((-71.03996 42.33555, -71.04073 42.335...  \n",
      "185  -071.0243619  POLYGON ((-71.01076 42.33980, -71.01099 42.339...  \n",
      "186  -071.0601499  POLYGON ((-71.05499 42.37070, -71.05628 42.370...  \n",
      "187  -071.0699730  POLYGON ((-71.07297 42.37334, -71.07286 42.373...  \n",
      "188  -071.1424570  POLYGON ((-71.14415 42.35138, -71.14398 42.351...  \n",
      "189  -071.1457225  POLYGON ((-71.14380 42.35480, -71.14335 42.354...  \n",
      "190  -071.1574973  POLYGON ((-71.16670 42.34001, -71.16655 42.340...  \n",
      "191  -071.1588288  POLYGON ((-71.16413 42.34022, -71.16429 42.340...  \n",
      "192  -071.1492929  POLYGON ((-71.15049 42.34105, -71.15092 42.340...  \n",
      "193  -071.1543443  POLYGON ((-71.15708 42.34909, -71.15739 42.349...  \n",
      "194  -071.1611678  POLYGON ((-71.16039 42.34964, -71.16044 42.348...  \n",
      "195  -071.0663888  POLYGON ((-71.05979 42.36877, -71.05988 42.368...  \n",
      "196  -071.0634677  POLYGON ((-71.06514 42.36324, -71.06522 42.363...  \n",
      "197  -071.0644405  POLYGON ((-71.06900 42.34498, -71.06940 42.345...  \n",
      "198  -071.0639956  POLYGON ((-71.06508 42.35838, -71.06507 42.358...  \n",
      "199  -071.0686463  POLYGON ((-71.06515 42.36418, -71.06522 42.363...  \n",
      "200  -071.0694112  POLYGON ((-71.07257 42.35776, -71.07234 42.358...  \n",
      "201  -071.1068303  POLYGON ((-71.10486 42.33404, -71.10488 42.333...  \n",
      "202  -071.0880610  POLYGON ((-71.08985 42.34434, -71.08976 42.344...  \n",
      "203  -071.1385879  POLYGON ((-71.14380 42.35480, -71.14418 42.354...  \n",
      "\n",
      "[204 rows x 13 columns]\n"
     ]
    }
   ],
   "source": [
    "shapefile = gpd.read_file(\"tl_2010_25025_tract10.shp\")\n",
    "print(shapefile)"
   ]
  },
  {
   "cell_type": "code",
   "execution_count": 3,
   "metadata": {},
   "outputs": [],
   "source": [
    "df_geo = gpd.GeoDataFrame(shapefile)"
   ]
  },
  {
   "cell_type": "code",
   "execution_count": 4,
   "metadata": {},
   "outputs": [],
   "source": [
    "df_geo['id']=df_geo['STATEFP10']+df_geo['COUNTYFP10']+df_geo['TRACTCE10']"
   ]
  },
  {
   "cell_type": "code",
   "execution_count": 5,
   "metadata": {},
   "outputs": [],
   "source": [
    "df_geo = df_geo[['geometry','id']]"
   ]
  },
  {
   "cell_type": "code",
   "execution_count": 6,
   "metadata": {},
   "outputs": [],
   "source": [
    "df_data = pd.read_csv('fullcount_csv',index_col=0)"
   ]
  },
  {
   "cell_type": "code",
   "execution_count": 7,
   "metadata": {
    "scrolled": true
   },
   "outputs": [],
   "source": [
    "df_pop = df_data[['tractid','POP00_POC']]"
   ]
  },
  {
   "cell_type": "code",
   "execution_count": 8,
   "metadata": {
    "scrolled": true
   },
   "outputs": [
    {
     "name": "stderr",
     "output_type": "stream",
     "text": [
      "/Users/Kristinabarounis/anaconda3/lib/python3.7/site-packages/ipykernel_launcher.py:1: SettingWithCopyWarning: \n",
      "A value is trying to be set on a copy of a slice from a DataFrame.\n",
      "Try using .loc[row_indexer,col_indexer] = value instead\n",
      "\n",
      "See the caveats in the documentation: http://pandas.pydata.org/pandas-docs/stable/indexing.html#indexing-view-versus-copy\n",
      "  \"\"\"Entry point for launching an IPython kernel.\n"
     ]
    }
   ],
   "source": [
    "df_pop['id']=df_pop['tractid'].astype('str')"
   ]
  },
  {
   "cell_type": "code",
   "execution_count": 9,
   "metadata": {},
   "outputs": [
    {
     "name": "stderr",
     "output_type": "stream",
     "text": [
      "/Users/Kristinabarounis/anaconda3/lib/python3.7/site-packages/pandas/core/frame.py:3940: SettingWithCopyWarning: \n",
      "A value is trying to be set on a copy of a slice from a DataFrame\n",
      "\n",
      "See the caveats in the documentation: http://pandas.pydata.org/pandas-docs/stable/indexing.html#indexing-view-versus-copy\n",
      "  errors=errors)\n"
     ]
    }
   ],
   "source": [
    "df_pop.drop(columns=['tractid'],axis=1,inplace=True)"
   ]
  },
  {
   "cell_type": "code",
   "execution_count": 10,
   "metadata": {},
   "outputs": [],
   "source": [
    "df_tovisualize = df_geo.merge(df_pop, on='id')"
   ]
  },
  {
   "cell_type": "code",
   "execution_count": 21,
   "metadata": {},
   "outputs": [],
   "source": [
    "# create basemap for Boston area\n",
    "mapobj = folium.Map(location=[42.3601, -71.0589],zoom_start=13,tiles='Stamen Terrain')"
   ]
  },
  {
   "cell_type": "code",
   "execution_count": 12,
   "metadata": {},
   "outputs": [],
   "source": [
    "bins=list(df_tovisualize['POP00_POC'].quantile([0,0.25,0.5,0.75,1]))"
   ]
  },
  {
   "cell_type": "code",
   "execution_count": null,
   "metadata": {},
   "outputs": [],
   "source": [
    "bins"
   ]
  },
  {
   "cell_type": "code",
   "execution_count": 22,
   "metadata": {},
   "outputs": [
    {
     "data": {
      "text/plain": [
       "<folium.features.Choropleth at 0x1255e26d8>"
      ]
     },
     "execution_count": 22,
     "metadata": {},
     "output_type": "execute_result"
    }
   ],
   "source": [
    "folium.features.Choropleth(geo_data = df_tovisualize.to_json(),\n",
    "                  data=df_tovisualize,\n",
    "                  columns=['id','POP00_POC'],\n",
    "                           key_on='feature.properties.id',fill_color='BuGn',bins=bins,\n",
    "                           legend_name='Change in population between 2000 and 2010',highlight=True).add_to(mapobj)"
   ]
  },
  {
   "cell_type": "code",
   "execution_count": 23,
   "metadata": {},
   "outputs": [
    {
     "data": {
      "text/plain": [
       "<folium.map.LayerControl at 0x1256910f0>"
      ]
     },
     "execution_count": 23,
     "metadata": {},
     "output_type": "execute_result"
    }
   ],
   "source": [
    "folium.LayerControl().add_to(mapobj)"
   ]
  },
  {
   "cell_type": "code",
   "execution_count": 24,
   "metadata": {},
   "outputs": [],
   "source": [
    "def embed_map(m):\n",
    "    from IPython.display import IFrame\n",
    "\n",
    "    m.save('index.html')\n",
    "    return IFrame('index.html', width='100%', height='750px')"
   ]
  },
  {
   "cell_type": "code",
   "execution_count": 25,
   "metadata": {},
   "outputs": [
    {
     "data": {
      "text/html": [
       "\n",
       "        <iframe\n",
       "            width=\"100%\"\n",
       "            height=\"750px\"\n",
       "            src=\"index.html\"\n",
       "            frameborder=\"0\"\n",
       "            allowfullscreen\n",
       "        ></iframe>\n",
       "        "
      ],
      "text/plain": [
       "<IPython.lib.display.IFrame at 0x126613198>"
      ]
     },
     "execution_count": 25,
     "metadata": {},
     "output_type": "execute_result"
    }
   ],
   "source": [
    "embed_map(mapobj)"
   ]
  },
  {
   "cell_type": "code",
   "execution_count": null,
   "metadata": {},
   "outputs": [],
   "source": [
    "df_tovisualize.head()"
   ]
  }
 ],
 "metadata": {
  "kernelspec": {
   "display_name": "Python 3",
   "language": "python",
   "name": "python3"
  },
  "language_info": {
   "codemirror_mode": {
    "name": "ipython",
    "version": 3
   },
   "file_extension": ".py",
   "mimetype": "text/x-python",
   "name": "python",
   "nbconvert_exporter": "python",
   "pygments_lexer": "ipython3",
   "version": "3.7.3"
  }
 },
 "nbformat": 4,
 "nbformat_minor": 2
}
